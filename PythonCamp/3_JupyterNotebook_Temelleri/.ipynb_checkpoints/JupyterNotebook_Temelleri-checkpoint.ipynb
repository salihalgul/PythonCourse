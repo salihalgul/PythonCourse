{
 "cells": [
  {
   "cell_type": "code",
   "execution_count": 1,
   "id": "7b40629b-056b-40f1-8eeb-1b55f7a308ab",
   "metadata": {},
   "outputs": [
    {
     "name": "stdout",
     "output_type": "stream",
     "text": [
      "Hello World\n"
     ]
    }
   ],
   "source": [
    "print(\"Hello World\")"
   ]
  },
  {
   "cell_type": "code",
   "execution_count": 2,
   "id": "7727d9e9-af7a-4c63-8761-7b0b3093b520",
   "metadata": {},
   "outputs": [
    {
     "name": "stdout",
     "output_type": "stream",
     "text": [
      "2. kod hücresi\n"
     ]
    }
   ],
   "source": [
    "print(\"2. kod hücresi\")"
   ]
  },
  {
   "cell_type": "markdown",
   "id": "e1dad7b9-fd40-415e-9a55-48c83e6e22e2",
   "metadata": {},
   "source": [
    "Bu bir biçimlendirilmiş metin hücresidir.\n"
   ]
  },
  {
   "cell_type": "code",
   "execution_count": 3,
   "id": "18e4123c-1126-45a7-b87d-94dccfed4609",
   "metadata": {},
   "outputs": [
    {
     "ename": "SyntaxError",
     "evalue": "invalid syntax (3917377313.py, line 1)",
     "output_type": "error",
     "traceback": [
      "\u001b[1;36m  Input \u001b[1;32mIn [3]\u001b[1;36m\u001b[0m\n\u001b[1;33m    <b>koyu<\\b>metin\u001b[0m\n\u001b[1;37m    ^\u001b[0m\n\u001b[1;31mSyntaxError\u001b[0m\u001b[1;31m:\u001b[0m invalid syntax\n"
     ]
    }
   ],
   "source": [
    "<b>koyu<\\b>metin"
   ]
  },
  {
   "cell_type": "markdown",
   "id": "c030ccdd-3eb7-4f55-9918-aba806135f3a",
   "metadata": {},
   "source": [
    "<b>koyu<\\b>metin"
   ]
  },
  {
   "cell_type": "markdown",
   "id": "bfd94a67-e1fd-4c6e-b9c7-868969ea20c0",
   "metadata": {},
   "source": [
    "<b>koyu</b>metin"
   ]
  },
  {
   "cell_type": "code",
   "execution_count": null,
   "id": "8c8b6307-68f6-4151-b019-ac546aa4b327",
   "metadata": {},
   "outputs": [],
   "source": [
    "<b>koyu</b> metin"
   ]
  },
  {
   "cell_type": "markdown",
   "id": "b0ca757a-0479-4add-94f2-8d7b4bc127b7",
   "metadata": {},
   "source": [
    "<b>koyu</b>metin"
   ]
  },
  {
   "cell_type": "markdown",
   "id": "00fb9e7f-2634-473e-ab76-02406377d968",
   "metadata": {},
   "source": [
    "<b>koyu</b> metin"
   ]
  },
  {
   "cell_type": "markdown",
   "id": "2664a474-0eb5-4497-9959-5949a7f552bd",
   "metadata": {},
   "source": [
    "** bu metin de **koyudur"
   ]
  },
  {
   "cell_type": "markdown",
   "id": "b3ef35c6-9d72-4bff-8987-ff8c9f13af54",
   "metadata": {},
   "source": [
    "** bu metin de ** koyudur"
   ]
  },
  {
   "cell_type": "raw",
   "id": "336e761a-a8d3-4b50-90ac-4646ab5604af",
   "metadata": {},
   "source": [
    "bu hücre raw tipindedir."
   ]
  },
  {
   "cell_type": "code",
   "execution_count": null,
   "id": "4745f3d0-91d3-4be4-9c99-6fd86ec92024",
   "metadata": {},
   "outputs": [],
   "source": []
  }
 ],
 "metadata": {
  "kernelspec": {
   "display_name": "Python 3 (ipykernel)",
   "language": "python",
   "name": "python3"
  },
  "language_info": {
   "codemirror_mode": {
    "name": "ipython",
    "version": 3
   },
   "file_extension": ".py",
   "mimetype": "text/x-python",
   "name": "python",
   "nbconvert_exporter": "python",
   "pygments_lexer": "ipython3",
   "version": "3.9.12"
  }
 },
 "nbformat": 4,
 "nbformat_minor": 5
}
