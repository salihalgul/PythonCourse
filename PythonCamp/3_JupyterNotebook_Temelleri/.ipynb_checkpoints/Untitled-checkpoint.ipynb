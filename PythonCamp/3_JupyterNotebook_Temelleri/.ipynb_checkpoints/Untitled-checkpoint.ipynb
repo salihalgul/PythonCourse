{
 "cells": [
  {
   "cell_type": "code",
   "execution_count": 1,
   "id": "55c50500-a865-4cd1-aff0-56cb7e4f4b87",
   "metadata": {},
   "outputs": [
    {
     "name": "stdout",
     "output_type": "stream",
     "text": [
      "Selam Dünya\n"
     ]
    }
   ],
   "source": [
    "print(\"Selam Dünya\")"
   ]
  },
  {
   "cell_type": "code",
   "execution_count": null,
   "id": "13531775-d5ca-4b30-8521-82f06a203930",
   "metadata": {},
   "outputs": [],
   "source": []
  }
 ],
 "metadata": {
  "kernelspec": {
   "display_name": "Python 3 (ipykernel)",
   "language": "python",
   "name": "python3"
  },
  "language_info": {
   "codemirror_mode": {
    "name": "ipython",
    "version": 3
   },
   "file_extension": ".py",
   "mimetype": "text/x-python",
   "name": "python",
   "nbconvert_exporter": "python",
   "pygments_lexer": "ipython3",
   "version": "3.9.12"
  }
 },
 "nbformat": 4,
 "nbformat_minor": 5
}
