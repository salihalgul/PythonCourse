{
 "cells": [
  {
   "cell_type": "markdown",
   "id": "nutritional-blake",
   "metadata": {},
   "source": [
    "## [10 Soru] QUIZ - Stringler"
   ]
  },
  {
   "cell_type": "markdown",
   "id": "instrumental-insert",
   "metadata": {},
   "source": [
    "**Soru 1:**\n",
    "\n",
    "Verilen bir metnin tüm kelimelerinin baş harflerini büyük, diğer harflerini ise küçük yapan bir fonksiyon yazın."
   ]
  },
  {
   "cell_type": "code",
   "execution_count": 3,
   "id": "acute-volleyball",
   "metadata": {},
   "outputs": [],
   "source": [
    "# Çözüm 1:\n",
    "\n",
    "# Uzun Yol\n",
    "# def sadece_bas_harfler_buyuk(metin):\n",
    "    \n",
    "#     # önce hepsini küçük yap\n",
    "#     kucuk_metin = metin.lower()\n",
    "    \n",
    "#     # sonra sadece baş harfleri büyük yap\n",
    "#     bas_hafr_buyuk_metin = kucuk_metin.title()\n",
    "    \n",
    "#     return bas_hafr_buyuk_metin\n",
    "    \n",
    "    \n",
    "# Kısa Yol\n",
    "def sadece_bas_harfler_buyuk(metin):\n",
    "    # chain\n",
    "    return metin.lower().title()\n",
    "    "
   ]
  },
  {
   "cell_type": "code",
   "execution_count": 4,
   "id": "ongoing-forge",
   "metadata": {},
   "outputs": [
    {
     "name": "stdout",
     "output_type": "stream",
     "text": [
      "Makine Öğrenmesi Güzeldir.\n"
     ]
    }
   ],
   "source": [
    "duzgun_metin = sadece_bas_harfler_buyuk('makine öĞRENMEsi gÜZELdiR.')\n",
    "print(duzgun_metin)"
   ]
  },
  {
   "cell_type": "markdown",
   "id": "moved-apollo",
   "metadata": {},
   "source": [
    "---"
   ]
  },
  {
   "cell_type": "markdown",
   "id": "random-account",
   "metadata": {},
   "source": [
    "**Soru 2:**\n",
    "\n",
    "Parametre olarak bir metin, bir de harf alan bir fonksiyon yazın. <br>\n",
    "Fonksiyonunuz verilen metnin içinde, verilen harften kaç tane olduğunu geri dönsün. <br>\n",
    "**Not:** Hazır bir python string metodu kullanın ve kodunuz tek satır olsun. <br>\n",
    "**ipucu:** https://docs.python.org/3/library/stdtypes.html#string-methods"
   ]
  },
  {
   "cell_type": "code",
   "execution_count": 5,
   "id": "polar-combat",
   "metadata": {},
   "outputs": [],
   "source": [
    "# Çözüm 2:\n",
    "\n",
    "def harf_say(metin, harf):\n",
    "    \n",
    "    return metin.count(harf)\n",
    "    "
   ]
  },
  {
   "cell_type": "code",
   "execution_count": 6,
   "id": "reasonable-spotlight",
   "metadata": {},
   "outputs": [
    {
     "name": "stdin",
     "output_type": "stream",
     "text": [
      "lütfen bir metin girin. python harika bir programlama dilidir\n",
      "lütfen bir harf girin p\n"
     ]
    },
    {
     "data": {
      "text/plain": [
       "2"
      ]
     },
     "execution_count": 6,
     "metadata": {},
     "output_type": "execute_result"
    }
   ],
   "source": [
    "metin = input('lütfen bir metin girin.')\n",
    "harf = input('lütfen bir harf girin')\n",
    "harf_say(metin, harf)"
   ]
  },
  {
   "cell_type": "code",
   "execution_count": 7,
   "id": "cutting-element",
   "metadata": {},
   "outputs": [
    {
     "name": "stdin",
     "output_type": "stream",
     "text": [
      "lütfen bir metin girin. gerçek öğrenme sorular ve alıştırmalar ile olur\n",
      "lütfen bir harf girin a\n"
     ]
    },
    {
     "data": {
      "text/plain": [
       "4"
      ]
     },
     "execution_count": 7,
     "metadata": {},
     "output_type": "execute_result"
    }
   ],
   "source": [
    "metin = input('lütfen bir metin girin.')\n",
    "harf = input('lütfen bir harf girin')\n",
    "harf_say(metin, harf)"
   ]
  },
  {
   "cell_type": "markdown",
   "id": "governing-skirt",
   "metadata": {},
   "source": [
    "---"
   ]
  },
  {
   "cell_type": "markdown",
   "id": "behind-theme",
   "metadata": {},
   "source": [
    "**Soru 3:**\n",
    "\n",
    "Kullanıcıdan bir cümle isteyin. <br>\n",
    "Bu cümle içindeki her bir harfin kaç sefer geçtiğini alt alta print edin.<br>\n",
    "Boşluk karakterini yazmayın. <br>\n",
    "**İpucu:** Soru 2'de yazdığınız fonksiyonu kullanın\n",
    "<pre>\n",
    "Örnek çıktı:\n",
    "'a' harfi 5 sefer geçiyor\n",
    "'d' harfi 1 sefer geçiyor\n",
    "'s' harfi 2 sefer geçiyor\n",
    "</pre>"
   ]
  },
  {
   "cell_type": "code",
   "execution_count": 10,
   "id": "european-eligibility",
   "metadata": {},
   "outputs": [],
   "source": [
    "# Çözüm 3:\n",
    "\n",
    "def harfleri_say():\n",
    "    \n",
    "    cumle = input(\"Lütfen bir cümle giriniz: \")\n",
    "    \n",
    "    yazilan_harfler = \"\"\n",
    "    \n",
    "    # döngü içinde harfleri tek tek gezelim\n",
    "    for harf in cumle:\n",
    "        \n",
    "        # boşluk mu? -> continue\n",
    "        if harf == ' ':\n",
    "            continue\n",
    "        \n",
    "        # Bu harf boşluk karakteri değildir\n",
    "        adet = harf_say(cumle, harf)\n",
    "        \n",
    "        # yazdıralım\n",
    "        # daha önce yazdırıldı belki \n",
    "        # eğer yazdırıldı ise -> tekrar yazma\n",
    "        if not harf in yazilan_harfler:\n",
    "            print(\"{0} harfi {1} defa geçiyor\".format(harf, adet))\n",
    "            yazilan_harfler += harf\n",
    "        "
   ]
  },
  {
   "cell_type": "code",
   "execution_count": 11,
   "id": "engaged-wheat",
   "metadata": {},
   "outputs": [
    {
     "name": "stdin",
     "output_type": "stream",
     "text": [
      "Lütfen bir cümle giriniz:  kırmızı pencere\n"
     ]
    },
    {
     "name": "stdout",
     "output_type": "stream",
     "text": [
      "k harfi 1 defa geçiyor\n",
      "ı harfi 3 defa geçiyor\n",
      "r harfi 2 defa geçiyor\n",
      "m harfi 1 defa geçiyor\n",
      "z harfi 1 defa geçiyor\n",
      "p harfi 1 defa geçiyor\n",
      "e harfi 3 defa geçiyor\n",
      "n harfi 1 defa geçiyor\n",
      "c harfi 1 defa geçiyor\n"
     ]
    }
   ],
   "source": [
    "harfleri_say()"
   ]
  },
  {
   "cell_type": "markdown",
   "id": "sufficient-instruction",
   "metadata": {},
   "source": [
    "---"
   ]
  },
  {
   "cell_type": "markdown",
   "id": "renewable-friendship",
   "metadata": {},
   "source": [
    "**Soru 4:**\n",
    "\n",
    "Metnimiz 'Pazartesi Salı Çarşamba Perşembe Cuma' olsun. <br>\n",
    "Bu metin üzerinde dilimleme (slicing) kullanarak aşağıdaki sorulara cevap veriniz:\n",
    "\n",
    "<pre>\n",
    "* İlk 3 karakteri bulunuz\n",
    "* 7. karakter ile 10. karakter (dahil) arasını bulunuz\n",
    "* 2. karakterden, 12. karaktere kadar olanları bulunuz\n",
    "* 3, 4 ve 5. index'li karakterleri bulunuz\n",
    "</pre>"
   ]
  },
  {
   "cell_type": "code",
   "execution_count": 12,
   "id": "laden-tracy",
   "metadata": {},
   "outputs": [],
   "source": [
    "# Çözüm 4:\n",
    "\n",
    "metin = 'Pazartesi Salı Çarşamba'"
   ]
  },
  {
   "cell_type": "code",
   "execution_count": 14,
   "id": "vocational-knight",
   "metadata": {},
   "outputs": [
    {
     "data": {
      "text/plain": [
       "'Paz'"
      ]
     },
     "execution_count": 14,
     "metadata": {},
     "output_type": "execute_result"
    }
   ],
   "source": [
    "# İlk 3 karakter:\n",
    "\n",
    "# metin[0:3]\n",
    "\n",
    "metin[:3]"
   ]
  },
  {
   "cell_type": "code",
   "execution_count": 15,
   "id": "suspected-prize",
   "metadata": {},
   "outputs": [
    {
     "data": {
      "text/plain": [
       "'si S'"
      ]
     },
     "execution_count": 15,
     "metadata": {},
     "output_type": "execute_result"
    }
   ],
   "source": [
    "# 7. karakter ile 10. karakter (dahil) arasını bulunuz\n",
    "\n",
    "metin[7:11]"
   ]
  },
  {
   "cell_type": "code",
   "execution_count": 16,
   "id": "rising-editing",
   "metadata": {},
   "outputs": [
    {
     "data": {
      "text/plain": [
       "'zartesi Sa'"
      ]
     },
     "execution_count": 16,
     "metadata": {},
     "output_type": "execute_result"
    }
   ],
   "source": [
    "# 2. karakterden, 12. karaktere kadar olanları bulunuz\n",
    "\n",
    "metin[2:12]"
   ]
  },
  {
   "cell_type": "code",
   "execution_count": 17,
   "id": "contrary-tomorrow",
   "metadata": {},
   "outputs": [
    {
     "data": {
      "text/plain": [
       "'art'"
      ]
     },
     "execution_count": 17,
     "metadata": {},
     "output_type": "execute_result"
    }
   ],
   "source": [
    "# 3, 4 ve 5. index'li karakterleri bulunuz\n",
    "\n",
    "metin[3:6]"
   ]
  },
  {
   "cell_type": "markdown",
   "id": "controlled-scanning",
   "metadata": {},
   "source": [
    "---"
   ]
  },
  {
   "cell_type": "markdown",
   "id": "attached-demonstration",
   "metadata": {},
   "source": [
    "**Soru 5:**\n",
    "\n",
    "Metnimiz 'Pazartesi Salı Çarşamba Perşembe Cuma' olsun. <br>\n",
    "Bu metin üzerinde dilimleme (slicing) kullanarak aşağıdaki sorulara cevap veriniz:\n",
    "\n",
    "<pre>\n",
    "* 1. karakterden 7. karaktere kadar olan harfleri ikişer atlayarak bulunuz (2'li adım)\n",
    "* 3. karakterden 20. karaktere kadar olan harfleri üçer atlayarak bulunuz (3'lü adım)\n",
    "* Çift index'li karakterleri bulunuz (0, 2, 4, 6...)\n",
    "* Tek index'li karakterleri bulunuz (1, 3, 5, 7...)\n",
    "</pre>"
   ]
  },
  {
   "cell_type": "code",
   "execution_count": 18,
   "id": "optional-accused",
   "metadata": {},
   "outputs": [],
   "source": [
    "# Çözüm 5:\n",
    "\n",
    "metin = 'Pazartesi Salı Çarşamba'"
   ]
  },
  {
   "cell_type": "code",
   "execution_count": 19,
   "id": "painted-truck",
   "metadata": {},
   "outputs": [
    {
     "data": {
      "text/plain": [
       "'aat'"
      ]
     },
     "execution_count": 19,
     "metadata": {},
     "output_type": "execute_result"
    }
   ],
   "source": [
    "# 1. karakterden 7. karaktere kadar olan harfleri ikişer atlayarak bulunuz (2'li adım)\n",
    "\n",
    "metin[1:7:2]"
   ]
  },
  {
   "cell_type": "code",
   "execution_count": 21,
   "id": "aggressive-egyptian",
   "metadata": {},
   "outputs": [
    {
     "data": {
      "text/plain": [
       "'ae lÇş'"
      ]
     },
     "execution_count": 21,
     "metadata": {},
     "output_type": "execute_result"
    }
   ],
   "source": [
    "# 3. karakterden 20. karaktere kadar olan harfleri üçer atlayarak bulunuz (3'lü adım)\n",
    "\n",
    "metin[3:20:3]"
   ]
  },
  {
   "cell_type": "code",
   "execution_count": 22,
   "id": "touched-complement",
   "metadata": {},
   "outputs": [
    {
     "data": {
      "text/plain": [
       "'PzreiSl aşma'"
      ]
     },
     "execution_count": 22,
     "metadata": {},
     "output_type": "execute_result"
    }
   ],
   "source": [
    "# Çift index'li karakterleri bulunuz (0, 2, 4, 6...)\n",
    "\n",
    "metin[::2]"
   ]
  },
  {
   "cell_type": "code",
   "execution_count": 23,
   "id": "freelance-aerospace",
   "metadata": {},
   "outputs": [
    {
     "data": {
      "text/plain": [
       "'aats aıÇrab'"
      ]
     },
     "execution_count": 23,
     "metadata": {},
     "output_type": "execute_result"
    }
   ],
   "source": [
    "# Tek index'li karakterleri bulunuz (1, 3, 5, 7...)\n",
    "\n",
    "metin[1::2]"
   ]
  },
  {
   "cell_type": "markdown",
   "id": "graphic-greeting",
   "metadata": {},
   "source": [
    "---"
   ]
  },
  {
   "cell_type": "markdown",
   "id": "retained-stick",
   "metadata": {},
   "source": [
    "**Soru 6:**\n",
    "\n",
    "Metnimiz 'Pazartesi Salı Çarşamba' olsun. <br>\n",
    "Bu metin üzerinde dilimleme (slicing) kullanarak aşağıdaki sorulara cevap veriniz:\n",
    "\n",
    "<pre>\n",
    "* Son karakteri bulunuz\n",
    "* Sondan 5. karakteri bulunuz\n",
    "* Son 3 karakteri bulunuz\n",
    "* Metni tersten yazdırınız\n",
    "</pre>"
   ]
  },
  {
   "cell_type": "code",
   "execution_count": 24,
   "id": "wooden-showcase",
   "metadata": {},
   "outputs": [],
   "source": [
    "# Çözüm 6:\n",
    "\n",
    "metin = 'Pazartesi Salı Çarşamba'"
   ]
  },
  {
   "cell_type": "code",
   "execution_count": 25,
   "id": "fantastic-metabolism",
   "metadata": {},
   "outputs": [
    {
     "data": {
      "text/plain": [
       "'a'"
      ]
     },
     "execution_count": 25,
     "metadata": {},
     "output_type": "execute_result"
    }
   ],
   "source": [
    "# Son karakteri bulunuz\n",
    "\n",
    "metin[-1]"
   ]
  },
  {
   "cell_type": "code",
   "execution_count": 26,
   "id": "hollow-differential",
   "metadata": {},
   "outputs": [
    {
     "data": {
      "text/plain": [
       "'m'"
      ]
     },
     "execution_count": 26,
     "metadata": {},
     "output_type": "execute_result"
    }
   ],
   "source": [
    "# Sondan 3. karakteri bulunuz\n",
    "\n",
    "metin[-3]"
   ]
  },
  {
   "cell_type": "code",
   "execution_count": 27,
   "id": "champion-companion",
   "metadata": {},
   "outputs": [
    {
     "data": {
      "text/plain": [
       "'mba'"
      ]
     },
     "execution_count": 27,
     "metadata": {},
     "output_type": "execute_result"
    }
   ],
   "source": [
    "# Son 3 karakteri bulunuz\n",
    "\n",
    "metin[-3:]"
   ]
  },
  {
   "cell_type": "code",
   "execution_count": 29,
   "id": "circular-purpose",
   "metadata": {},
   "outputs": [
    {
     "data": {
      "text/plain": [
       "'abmaşraÇ ılaS isetrazaP'"
      ]
     },
     "execution_count": 29,
     "metadata": {},
     "output_type": "execute_result"
    }
   ],
   "source": [
    "# Metni tersten yazdırınız\n",
    "\n",
    "metin[::-1]"
   ]
  },
  {
   "cell_type": "markdown",
   "id": "brutal-moisture",
   "metadata": {},
   "source": [
    "---"
   ]
  },
  {
   "cell_type": "markdown",
   "id": "sought-karma",
   "metadata": {},
   "source": [
    "**Soru 7:**\n",
    "\n",
    "Metnimiz 'Pazartesi Salı Çarşamba' olsun. <br>\n",
    "Bu metin üzerinde dilimleme (slicing) kullanarak aşağıdaki sorulara cevap veriniz:\n",
    "\n",
    "<pre>\n",
    "* Sondan 2. karakter ile sondan 6. karakter arasını bulunuz\n",
    "* Sondan 2. karakter (dahil) ile sondan 6. karakter arasını bulunuz\n",
    "* 10. index'li karakteri gösteren negatif index'i bulunuz (pozitif ve negatif index'ler toplamı dizinin uzunluğunu verir)\n",
    "* Son karakter hariç tüm karakterleri bulunuz\n",
    "* İlk ve Son karakter hariç, tüm karakterleri bulunuz\n",
    "</pre>"
   ]
  },
  {
   "cell_type": "code",
   "execution_count": 30,
   "id": "friendly-sympathy",
   "metadata": {},
   "outputs": [],
   "source": [
    "# Çözüm 7:\n",
    "\n",
    "metin = 'Pazartesi Salı Çarşamba'"
   ]
  },
  {
   "cell_type": "code",
   "execution_count": 34,
   "id": "quantitative-rental",
   "metadata": {},
   "outputs": [
    {
     "data": {
      "text/plain": [
       "'rşam'"
      ]
     },
     "execution_count": 34,
     "metadata": {},
     "output_type": "execute_result"
    }
   ],
   "source": [
    "# Sondan 2. karakter ile sondan 6. karakter arasını bulunuz\n",
    "\n",
    "metin[-6:-2]"
   ]
  },
  {
   "cell_type": "code",
   "execution_count": 33,
   "id": "serial-enemy",
   "metadata": {},
   "outputs": [
    {
     "data": {
      "text/plain": [
       "'rşamb'"
      ]
     },
     "execution_count": 33,
     "metadata": {},
     "output_type": "execute_result"
    }
   ],
   "source": [
    "# Sondan 2. karakter (dahil) ile sondan 6. karakter arasını bulunuz\n",
    "\n",
    "metin[-6:-1]"
   ]
  },
  {
   "cell_type": "code",
   "execution_count": 36,
   "id": "portable-trance",
   "metadata": {},
   "outputs": [
    {
     "name": "stdout",
     "output_type": "stream",
     "text": [
      "uzunluk: 23\n",
      "10. indexteki karakter: S\n",
      "-13. indexteki karakter: S\n",
      "10 ile -13 indexteki karakterler eşit\n"
     ]
    }
   ],
   "source": [
    "# 10. index'li karakteri gösteren negatif index'i bulunuz\n",
    "# pozitif ve negatif index'ler toplamı dizinin uzunluğunu verir\n",
    "\n",
    "uzunluk = len(metin)\n",
    "print(\"uzunluk:\", uzunluk)\n",
    "\n",
    "# 10. index'teki\n",
    "print(\"10. indexteki karakter:\", metin[10])\n",
    "\n",
    "# negatif index değeri\n",
    "negatif_index = uzunluk - 10\n",
    "\n",
    "# index'ler mutlak değer -> negatif yap\n",
    "negatif_index = -negatif_index\n",
    "\n",
    "# negatif index'teki karakteri yaz\n",
    "print('{}. indexteki karakter: {}'.format(negatif_index, metin[negatif_index]))\n",
    "\n",
    "# Şimdi 10. index'teki karakter ile negatif_index'teki karakter eşit mi?\n",
    "if metin[10] == metin[negatif_index]:\n",
    "    print(\"{} ile {} indexteki karakterler eşit\".format(10, negatif_index))\n",
    "else:\n",
    "    print(\"{} ile {} indexteki karakterler eşit değil\".format(10, negatif_index))\n"
   ]
  },
  {
   "cell_type": "code",
   "execution_count": 37,
   "id": "breeding-insulation",
   "metadata": {},
   "outputs": [
    {
     "data": {
      "text/plain": [
       "'Pazartesi Salı Çarşamb'"
      ]
     },
     "execution_count": 37,
     "metadata": {},
     "output_type": "execute_result"
    }
   ],
   "source": [
    "# Son karakter hariç tüm karakterleri bulunuz\n",
    "\n",
    "metin[:-1]"
   ]
  },
  {
   "cell_type": "code",
   "execution_count": 38,
   "id": "bulgarian-stress",
   "metadata": {},
   "outputs": [
    {
     "data": {
      "text/plain": [
       "'azartesi Salı Çarşamb'"
      ]
     },
     "execution_count": 38,
     "metadata": {},
     "output_type": "execute_result"
    }
   ],
   "source": [
    "# İlk ve Son karakter hariç, tüm karakterleri bulunuz\n",
    "\n",
    "metin[1:-1]"
   ]
  },
  {
   "cell_type": "markdown",
   "id": "returning-posting",
   "metadata": {},
   "source": [
    "---"
   ]
  },
  {
   "cell_type": "markdown",
   "id": "agricultural-period",
   "metadata": {},
   "source": [
    "**Soru 8:**\n",
    "\n",
    "Aşağıdaki şekilde bir fonksiyon yazınız: <br>\n",
    "Kullanıcıdan bir email adresi isteyiniz. <br>\n",
    "Bu mail adresini, **index yapısı** kullanarak kullanıcı adı ve domain adı olarak ayırınız.\n",
    "\n",
    "Not: Kullanıcı adı ve domain adı '@' karakteri ile ayrılır. Eğer email adresi '@' karakteri içermiyorsa, kullanıcıya 'Uygunsuz email formatı' mesajı dönünüz."
   ]
  },
  {
   "cell_type": "code",
   "execution_count": 39,
   "id": "spare-johnson",
   "metadata": {},
   "outputs": [],
   "source": [
    "# Çözüm 8:\n",
    "\n",
    "def email_ayir():\n",
    "    \n",
    "    email = input(\"Lütfen bir email giriniz: \")\n",
    "    \n",
    "    # '@' karakterinin index'ini bulalım\n",
    "    bolme_noktasi = email.find('@')\n",
    "    \n",
    "    # find() -> bulamazsa -1 döner\n",
    "    if bolme_noktasi == -1:\n",
    "        print(\"Uygunsuz email formatı\")\n",
    "    else:\n",
    "        print(\"Kullanıcı Adı:\", email[:bolme_noktasi])\n",
    "        print(\"Domain Adı:\", email[bolme_noktasi+1:])\n",
    "    "
   ]
  },
  {
   "cell_type": "code",
   "execution_count": 40,
   "id": "champion-hughes",
   "metadata": {},
   "outputs": [
    {
     "name": "stdin",
     "output_type": "stream",
     "text": [
      "Lütfen bir email giriniz:  asdfsa343434sdfasfs\n"
     ]
    },
    {
     "name": "stdout",
     "output_type": "stream",
     "text": [
      "Uygunsuz email formatı\n"
     ]
    }
   ],
   "source": [
    "email_ayir()"
   ]
  },
  {
   "cell_type": "code",
   "execution_count": 41,
   "id": "neural-portrait",
   "metadata": {},
   "outputs": [
    {
     "name": "stdin",
     "output_type": "stream",
     "text": [
      "Lütfen bir email giriniz:  test@domain.com\n"
     ]
    },
    {
     "name": "stdout",
     "output_type": "stream",
     "text": [
      "Kullanıcı Adı: test\n",
      "Domain Adı: domain.com\n"
     ]
    }
   ],
   "source": [
    "email_ayir()"
   ]
  },
  {
   "cell_type": "code",
   "execution_count": 42,
   "id": "economic-stevens",
   "metadata": {},
   "outputs": [
    {
     "name": "stdin",
     "output_type": "stream",
     "text": [
      "Lütfen bir email giriniz:  abc@acme.corp\n"
     ]
    },
    {
     "name": "stdout",
     "output_type": "stream",
     "text": [
      "Kullanıcı Adı: abc\n",
      "Domain Adı: acme.corp\n"
     ]
    }
   ],
   "source": [
    "email_ayir()"
   ]
  },
  {
   "cell_type": "markdown",
   "id": "whole-suffering",
   "metadata": {},
   "source": [
    "---"
   ]
  },
  {
   "cell_type": "markdown",
   "id": "rapid-quebec",
   "metadata": {},
   "source": [
    "**Soru 9:**\n",
    "\n",
    "Aşağıdaki şekilde bir fonksiyon yazınız: <br>\n",
    "Kullanıcıdan bir cümle istesin ve cümlenin tersten yazılmış olarak dönsün."
   ]
  },
  {
   "cell_type": "code",
   "execution_count": 43,
   "id": "durable-niagara",
   "metadata": {},
   "outputs": [],
   "source": [
    "# Çözüm 9:\n",
    "\n",
    "def ters_cevir():\n",
    "    \n",
    "    cumle = input('Lütfen bir cümle giriniz: ')\n",
    "    \n",
    "    return cumle[::-1]\n"
   ]
  },
  {
   "cell_type": "code",
   "execution_count": 44,
   "id": "controlling-computer",
   "metadata": {},
   "outputs": [
    {
     "name": "stdin",
     "output_type": "stream",
     "text": [
      "Lütfen bir cümle giriniz:  Bügün günlerden pazar\n"
     ]
    },
    {
     "data": {
      "text/plain": [
       "'razap nedrelnüg nügüB'"
      ]
     },
     "execution_count": 44,
     "metadata": {},
     "output_type": "execute_result"
    }
   ],
   "source": [
    "ters_cevir()"
   ]
  },
  {
   "cell_type": "code",
   "execution_count": 45,
   "id": "mexican-bikini",
   "metadata": {},
   "outputs": [
    {
     "name": "stdin",
     "output_type": "stream",
     "text": [
      "Lütfen bir cümle giriniz:  123456789 123456789\n"
     ]
    },
    {
     "data": {
      "text/plain": [
       "'987654321 987654321'"
      ]
     },
     "execution_count": 45,
     "metadata": {},
     "output_type": "execute_result"
    }
   ],
   "source": [
    "ters_cevir()"
   ]
  },
  {
   "cell_type": "markdown",
   "id": "concerned-mouth",
   "metadata": {},
   "source": [
    "---"
   ]
  },
  {
   "cell_type": "markdown",
   "id": "loose-therapy",
   "metadata": {},
   "source": [
    "**Soru 10:**\n",
    "\n",
    "Aşağıdaki şekilde bir fonksiyon yazınız: <br>\n",
    "Kullanıcıdan bir cümle içindeki her bir karakteri alfabeden sıradaki karakter ile değiştirsin. \n",
    "\n",
    "Yapılacaklar:\n",
    "* İç içe fonksiyonlar kullanın.\n",
    "* İçeride harf_kucuk_mu() ve harf_buyuk_mu() şeklinde harfin küçük ya da büyük olduğunu veren fonksiyonlar olsun.\n",
    "* İlgili alfabe ve bir harf alıp, o alfabede o harften sonra gelen harfi bulan, siradaki_harf() fonksiyonu olsun.\n",
    "* Alfabeler:\n",
    "    * alfabe_kucuk = 'abcçdefgğhıijklmnoöprsştuüvyz'\n",
    "    * alfabe_buyuk = 'ABCÇDEFGĞHIİJKLMNOÖPRSŞTUÜVYZ'\n",
    "* Metinden ilgili harfi almak için index kullanın.\n",
    "\n",
    "**Beklenen Sonuç:** \n",
    "<pre>\n",
    "AraBaCı  ->  BsbCbÇi\n",
    "</pre>"
   ]
  },
  {
   "cell_type": "code",
   "execution_count": 46,
   "id": "identical-shelf",
   "metadata": {},
   "outputs": [],
   "source": [
    "# Çözüm 10:\n",
    "\n",
    "def siradaki_harfle_degistir():\n",
    "    \n",
    "    cumle = input('Lütfen bir cümle giriniz: ')\n",
    "    \n",
    "    alfabe_kucuk = 'abcçdefgğhıijklmnoöprsştuüvyz'\n",
    "    alfabe_buyuk = 'ABCÇDEFGĞHIİJKLMNOÖPRSŞTUÜVYZ'\n",
    "    \n",
    "    yeni_cumle = \"\"\n",
    "    \n",
    "    # İç Fonksiyonları tanımla\n",
    "    def harf_kucuk_mu(harf):\n",
    "        return harf in alfabe_kucuk\n",
    "    \n",
    "    def harf_buyuk_mu(harf):\n",
    "        return harf in alfabe_buyuk\n",
    "    \n",
    "    def siradaki_harf(alfabe, harf):\n",
    "        index = alfabe.find(harf)\n",
    "        return alfabe[index+1]\n",
    "    \n",
    "    # cümle içindeki harfler üzerinde döngü\n",
    "    for harf in cumle:\n",
    "        # harf küçük mü, büyük mü?\n",
    "        if harf_kucuk_mu(harf):\n",
    "            yeni_harf = siradaki_harf(alfabe_kucuk, harf)\n",
    "        elif harf_buyuk_mu(harf):\n",
    "            yeni_harf = siradaki_harf(alfabe_buyuk, harf)\n",
    "        # harf küçük ya da büyük harf değilse, o zaman kendisini döneriz\n",
    "        else:\n",
    "            yeni_harf = harf\n",
    "        \n",
    "        # yeni harfi yeni_cumle\n",
    "        yeni_cumle += yeni_harf\n",
    "        \n",
    "    return yeni_cumle\n",
    "    "
   ]
  },
  {
   "cell_type": "code",
   "execution_count": 47,
   "id": "built-reunion",
   "metadata": {},
   "outputs": [
    {
     "name": "stdin",
     "output_type": "stream",
     "text": [
      "Lütfen bir cümle giriniz:  AraBaCı\n"
     ]
    },
    {
     "name": "stdout",
     "output_type": "stream",
     "text": [
      "BsbCbÇi\n"
     ]
    }
   ],
   "source": [
    "yeni_cumle = siradaki_harfle_degistir()\n",
    "print(yeni_cumle)"
   ]
  },
  {
   "cell_type": "code",
   "execution_count": 48,
   "id": "floral-lightning",
   "metadata": {},
   "outputs": [
    {
     "name": "stdin",
     "output_type": "stream",
     "text": [
      "Lütfen bir cümle giriniz:  abC DEf gH\n"
     ]
    },
    {
     "name": "stdout",
     "output_type": "stream",
     "text": [
      "bcÇ EFg ğI\n"
     ]
    }
   ],
   "source": [
    "yeni_cumle = siradaki_harfle_degistir()\n",
    "print(yeni_cumle)"
   ]
  },
  {
   "cell_type": "code",
   "execution_count": 49,
   "id": "brave-bradford",
   "metadata": {},
   "outputs": [
    {
     "name": "stdin",
     "output_type": "stream",
     "text": [
      "Lütfen bir cümle giriniz:  Saat tam olarak On İkiyi Beş geçiyor.\n"
     ]
    },
    {
     "name": "stdout",
     "output_type": "stream",
     "text": [
      "Şbbu ubn ömbsbl Öo Jljzj Cft ğfdjzös.\n"
     ]
    }
   ],
   "source": [
    "yeni_cumle = siradaki_harfle_degistir()\n",
    "print(yeni_cumle)"
   ]
  },
  {
   "cell_type": "code",
   "execution_count": null,
   "id": "atlantic-thanks",
   "metadata": {},
   "outputs": [],
   "source": []
  }
 ],
 "metadata": {
  "kernelspec": {
   "display_name": "Python 3",
   "language": "python",
   "name": "python3"
  },
  "language_info": {
   "codemirror_mode": {
    "name": "ipython",
    "version": 3
   },
   "file_extension": ".py",
   "mimetype": "text/x-python",
   "name": "python",
   "nbconvert_exporter": "python",
   "pygments_lexer": "ipython3",
   "version": "3.8.5"
  }
 },
 "nbformat": 4,
 "nbformat_minor": 5
}
