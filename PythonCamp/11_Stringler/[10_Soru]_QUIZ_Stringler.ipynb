{
 "cells": [
  {
   "cell_type": "markdown",
   "id": "demographic-physics",
   "metadata": {},
   "source": [
    "## [10 Soru] QUIZ - Stringler"
   ]
  },
  {
   "cell_type": "markdown",
   "id": "internal-baseline",
   "metadata": {},
   "source": [
    "**Soru 1:**\n",
    "\n",
    "Verilen bir metnin tüm kelimelerinin baş harflerini büyük, diğer harflerini ise küçük yapan bir fonksiyon yazın."
   ]
  },
  {
   "cell_type": "code",
   "execution_count": 93,
   "id": "central-vampire",
   "metadata": {},
   "outputs": [],
   "source": [
    "# Çözüm 1:\n",
    "\n"
   ]
  },
  {
   "cell_type": "code",
   "execution_count": 94,
   "id": "automatic-protocol",
   "metadata": {},
   "outputs": [
    {
     "name": "stdout",
     "output_type": "stream",
     "text": [
      "Makine Öğrenmesi Güzeldir.\n"
     ]
    }
   ],
   "source": [
    "duzgun_metin = sadece_bas_harfler_buyuk('makine öĞRENMEsi gÜZELdiR.')\n",
    "print(duzgun_metin)"
   ]
  },
  {
   "cell_type": "markdown",
   "id": "above-attention",
   "metadata": {},
   "source": [
    "---"
   ]
  },
  {
   "cell_type": "markdown",
   "id": "interesting-glenn",
   "metadata": {},
   "source": [
    "**Soru 2:**\n",
    "\n",
    "Parametre olarak bir metin, bir de harf alan bir fonksiyon yazın. <br>\n",
    "Fonksiyonunuz verilen metnin içinde, verilen harften kaç tane olduğunu geri dönsün. <br>\n",
    "**Not:** Hazır bir python string metodu kullanın ve kodunuz tek satır olsun. <br>\n",
    "**ipucu:** https://docs.python.org/3/library/stdtypes.html#string-methods"
   ]
  },
  {
   "cell_type": "code",
   "execution_count": 28,
   "id": "banned-property",
   "metadata": {},
   "outputs": [],
   "source": [
    "# Çözüm 2:\n",
    "\n",
    "\n",
    "    "
   ]
  },
  {
   "cell_type": "code",
   "execution_count": 12,
   "id": "special-track",
   "metadata": {},
   "outputs": [
    {
     "name": "stdin",
     "output_type": "stream",
     "text": [
      "lütfen bir metin girin. python harika bir programlama dilidir\n",
      "lütfen bir harf girin p\n"
     ]
    },
    {
     "data": {
      "text/plain": [
       "2"
      ]
     },
     "execution_count": 12,
     "metadata": {},
     "output_type": "execute_result"
    }
   ],
   "source": [
    "metin = input('lütfen bir metin girin.')\n",
    "harf = input('lütfen bir harf girin')\n",
    "harf_say(metin, harf)"
   ]
  },
  {
   "cell_type": "markdown",
   "id": "overall-apache",
   "metadata": {},
   "source": [
    "---"
   ]
  },
  {
   "cell_type": "markdown",
   "id": "genuine-stage",
   "metadata": {},
   "source": [
    "**Soru 3:**\n",
    "\n",
    "Kullanıcıdan bir cümle isteyin. <br>\n",
    "Bu cümle içindeki her bir harfin kaç sefer geçtiğini alt alta print edin.<br>\n",
    "Boşluk karakterini yazmayın. <br>\n",
    "**İpucu:** Soru 2'de yazdığınız fonksiyonu kullanın\n",
    "<pre>\n",
    "Örnek çıktı:\n",
    "'a' harfi 5 sefer geçiyor\n",
    "'d' harfi 1 sefer geçiyor\n",
    "'s' harfi 2 sefer geçiyor\n",
    "</pre>"
   ]
  },
  {
   "cell_type": "code",
   "execution_count": 29,
   "id": "protected-mixture",
   "metadata": {},
   "outputs": [],
   "source": [
    "# Çözüm 3:\n",
    "\n",
    "\n",
    "        "
   ]
  },
  {
   "cell_type": "code",
   "execution_count": 22,
   "id": "smart-arctic",
   "metadata": {},
   "outputs": [
    {
     "name": "stdin",
     "output_type": "stream",
     "text": [
      "Lütfen bir cümle giriniz: kırmızı pencere\n"
     ]
    },
    {
     "name": "stdout",
     "output_type": "stream",
     "text": [
      "k harfi 1 defa geçiyor.\n",
      "ı harfi 3 defa geçiyor.\n",
      "r harfi 2 defa geçiyor.\n",
      "m harfi 1 defa geçiyor.\n",
      "z harfi 1 defa geçiyor.\n",
      "p harfi 1 defa geçiyor.\n",
      "e harfi 3 defa geçiyor.\n",
      "n harfi 1 defa geçiyor.\n",
      "c harfi 1 defa geçiyor.\n"
     ]
    }
   ],
   "source": [
    "harfleri_say()"
   ]
  },
  {
   "cell_type": "markdown",
   "id": "separated-accountability",
   "metadata": {},
   "source": [
    "---"
   ]
  },
  {
   "cell_type": "markdown",
   "id": "exact-northern",
   "metadata": {},
   "source": [
    "**Soru 4:**\n",
    "\n",
    "Metnimiz 'Pazartesi Salı Çarşamba Perşembe Cuma' olsun. <br>\n",
    "Bu metin üzerinde dilimleme (slicing) kullanarak aşağıdaki sorulara cevap veriniz:\n",
    "\n",
    "<pre>\n",
    "* İlk 3 karakteri bulunuz\n",
    "* 7. karakter ile 10. karakter (dahil) arasını bulunuz\n",
    "* 2. karakterden, 12. karaktere kadar olanları bulunuz\n",
    "* 3, 4 ve 5. index'li karakterleri bulunuz\n",
    "</pre>"
   ]
  },
  {
   "cell_type": "code",
   "execution_count": 54,
   "id": "marked-garbage",
   "metadata": {},
   "outputs": [],
   "source": [
    "# Çözüm 4:\n",
    "\n",
    "metin = 'Pazartesi Salı Çarşamba'"
   ]
  },
  {
   "cell_type": "code",
   "execution_count": 55,
   "id": "south-peninsula",
   "metadata": {},
   "outputs": [
    {
     "data": {
      "text/plain": [
       "'Paz'"
      ]
     },
     "execution_count": 55,
     "metadata": {},
     "output_type": "execute_result"
    }
   ],
   "source": [
    "# İlk 3 karakter:\n",
    "\n"
   ]
  },
  {
   "cell_type": "code",
   "execution_count": 56,
   "id": "built-jimmy",
   "metadata": {},
   "outputs": [
    {
     "data": {
      "text/plain": [
       "'si S'"
      ]
     },
     "execution_count": 56,
     "metadata": {},
     "output_type": "execute_result"
    }
   ],
   "source": [
    "# 7. karakter ile 10. karakter (dahil) arasını bulunuz\n",
    "\n"
   ]
  },
  {
   "cell_type": "code",
   "execution_count": 85,
   "id": "constant-fight",
   "metadata": {},
   "outputs": [
    {
     "data": {
      "text/plain": [
       "'zartesi Sa'"
      ]
     },
     "execution_count": 85,
     "metadata": {},
     "output_type": "execute_result"
    }
   ],
   "source": [
    "# 2. karakterden, 12. karaktere kadar olanları bulunuz\n",
    "\n"
   ]
  },
  {
   "cell_type": "code",
   "execution_count": 88,
   "id": "received-desktop",
   "metadata": {},
   "outputs": [
    {
     "data": {
      "text/plain": [
       "'art'"
      ]
     },
     "execution_count": 88,
     "metadata": {},
     "output_type": "execute_result"
    }
   ],
   "source": [
    "# 3, 4 ve 5. index'li karakterleri bulunuz\n",
    "\n"
   ]
  },
  {
   "cell_type": "markdown",
   "id": "neural-campbell",
   "metadata": {},
   "source": [
    "---"
   ]
  },
  {
   "cell_type": "markdown",
   "id": "ignored-boundary",
   "metadata": {},
   "source": [
    "**Soru 5:**\n",
    "\n",
    "Metnimiz 'Pazartesi Salı Çarşamba Perşembe Cuma' olsun. <br>\n",
    "Bu metin üzerinde dilimleme (slicing) kullanarak aşağıdaki sorulara cevap veriniz:\n",
    "\n",
    "<pre>\n",
    "* 1. karakterden 7. karaktere kadar olan harfleri ikişer atlayarak bulunuz (2'li adım)\n",
    "* 3. karakterden 20. karaktere kadar olan harfleri üçer atlayarak bulunuz (3'lü adım)\n",
    "* Çift index'li karakterleri bulunuz (0, 2, 4, 6...)\n",
    "* Tek index'li karakterleri bulunuz (1, 3, 5, 7...)\n",
    "</pre>"
   ]
  },
  {
   "cell_type": "code",
   "execution_count": 89,
   "id": "sharing-petroleum",
   "metadata": {},
   "outputs": [],
   "source": [
    "# Çözüm 5:\n",
    "\n",
    "metin = 'Pazartesi Salı Çarşamba'"
   ]
  },
  {
   "cell_type": "code",
   "execution_count": 58,
   "id": "criminal-architect",
   "metadata": {},
   "outputs": [
    {
     "data": {
      "text/plain": [
       "'aat'"
      ]
     },
     "execution_count": 58,
     "metadata": {},
     "output_type": "execute_result"
    }
   ],
   "source": [
    "# 1. karakterden 7. karaktere kadar olan harfleri ikişer atlayarak bulunuz (2'li adım)\n",
    "\n"
   ]
  },
  {
   "cell_type": "code",
   "execution_count": 59,
   "id": "technological-accessory",
   "metadata": {},
   "outputs": [
    {
     "data": {
      "text/plain": [
       "'ae lÇş'"
      ]
     },
     "execution_count": 59,
     "metadata": {},
     "output_type": "execute_result"
    }
   ],
   "source": [
    "# 3. karakterden 20. karaktere kadar olan harfleri üçer atlayarak bulunuz (3'lü adım)\n",
    "\n"
   ]
  },
  {
   "cell_type": "code",
   "execution_count": 60,
   "id": "federal-respect",
   "metadata": {},
   "outputs": [
    {
     "data": {
      "text/plain": [
       "'PzreiSl aşma'"
      ]
     },
     "execution_count": 60,
     "metadata": {},
     "output_type": "execute_result"
    }
   ],
   "source": [
    "# Çift index'li karakterleri bulunuz (0, 2, 4, 6...)\n",
    "\n"
   ]
  },
  {
   "cell_type": "code",
   "execution_count": 61,
   "id": "complimentary-extent",
   "metadata": {},
   "outputs": [
    {
     "data": {
      "text/plain": [
       "'aats aıÇrab'"
      ]
     },
     "execution_count": 61,
     "metadata": {},
     "output_type": "execute_result"
    }
   ],
   "source": [
    "# Tek index'li karakterleri bulunuz (1, 3, 5, 7...)\n",
    "\n"
   ]
  },
  {
   "cell_type": "markdown",
   "id": "cosmetic-arbitration",
   "metadata": {},
   "source": [
    "---"
   ]
  },
  {
   "cell_type": "markdown",
   "id": "cleared-configuration",
   "metadata": {},
   "source": [
    "**Soru 6:**\n",
    "\n",
    "Metnimiz 'Pazartesi Salı Çarşamba' olsun. <br>\n",
    "Bu metin üzerinde dilimleme (slicing) kullanarak aşağıdaki sorulara cevap veriniz:\n",
    "\n",
    "<pre>\n",
    "* Son karakteri bulunuz\n",
    "* Sondan 5. karakteri bulunuz\n",
    "* Son 3 karakteri bulunuz\n",
    "* Metni tersten yazdırınız\n",
    "</pre>"
   ]
  },
  {
   "cell_type": "code",
   "execution_count": 95,
   "id": "early-explosion",
   "metadata": {},
   "outputs": [],
   "source": [
    "# Çözüm 6:\n",
    "\n",
    "metin = 'Pazartesi Salı Çarşamba'"
   ]
  },
  {
   "cell_type": "code",
   "execution_count": 63,
   "id": "sharp-cardiff",
   "metadata": {},
   "outputs": [
    {
     "data": {
      "text/plain": [
       "'a'"
      ]
     },
     "execution_count": 63,
     "metadata": {},
     "output_type": "execute_result"
    }
   ],
   "source": [
    "# Son karakteri bulunuz\n",
    "\n"
   ]
  },
  {
   "cell_type": "code",
   "execution_count": 67,
   "id": "nervous-knowing",
   "metadata": {},
   "outputs": [
    {
     "data": {
      "text/plain": [
       "'ş'"
      ]
     },
     "execution_count": 67,
     "metadata": {},
     "output_type": "execute_result"
    }
   ],
   "source": [
    "# Sondan 3. karakteri bulunuz\n",
    "\n"
   ]
  },
  {
   "cell_type": "code",
   "execution_count": 68,
   "id": "southern-degree",
   "metadata": {},
   "outputs": [
    {
     "data": {
      "text/plain": [
       "'mba'"
      ]
     },
     "execution_count": 68,
     "metadata": {},
     "output_type": "execute_result"
    }
   ],
   "source": [
    "# Son 3 karakteri bulunuz\n",
    "\n"
   ]
  },
  {
   "cell_type": "code",
   "execution_count": 97,
   "id": "obvious-taxation",
   "metadata": {},
   "outputs": [
    {
     "data": {
      "text/plain": [
       "'abmaşraÇ ılaS isetrazaP'"
      ]
     },
     "execution_count": 97,
     "metadata": {},
     "output_type": "execute_result"
    }
   ],
   "source": [
    "# Metni tersten yazdırınız\n",
    "\n"
   ]
  },
  {
   "cell_type": "markdown",
   "id": "accurate-reputation",
   "metadata": {},
   "source": [
    "---"
   ]
  },
  {
   "cell_type": "markdown",
   "id": "occupational-basic",
   "metadata": {},
   "source": [
    "**Soru 7:**\n",
    "\n",
    "Metnimiz 'Pazartesi Salı Çarşamba' olsun. <br>\n",
    "Bu metin üzerinde dilimleme (slicing) kullanarak aşağıdaki sorulara cevap veriniz:\n",
    "\n",
    "<pre>\n",
    "* Sondan 2. karakter ile sondan 6. karakter arasını bulunuz\n",
    "* Sondan 2. karakter (dahil) ile sondan 6. karakter arasını bulunuz\n",
    "* 10. index'li karakteri gösteren negatif index'i bulunuz (pozitif ve negatif index'ler toplamı dizinin uzunluğunu verir)\n",
    "* Son karakter hariç tüm karakterleri bulunuz\n",
    "* İlk ve Son karakter hariç, tüm karakterleri bulunuz\n",
    "</pre>"
   ]
  },
  {
   "cell_type": "code",
   "execution_count": 96,
   "id": "disciplinary-metro",
   "metadata": {},
   "outputs": [],
   "source": [
    "# Çözüm 7:\n",
    "\n",
    "metin = 'Pazartesi Salı Çarşamba'"
   ]
  },
  {
   "cell_type": "code",
   "execution_count": 70,
   "id": "cathedral-wrist",
   "metadata": {},
   "outputs": [
    {
     "data": {
      "text/plain": [
       "'rşam'"
      ]
     },
     "execution_count": 70,
     "metadata": {},
     "output_type": "execute_result"
    }
   ],
   "source": [
    "# Sondan 2. karakter ile sondan 6. karakter arasını bulunuz\n",
    "\n"
   ]
  },
  {
   "cell_type": "code",
   "execution_count": 71,
   "id": "challenging-surge",
   "metadata": {},
   "outputs": [
    {
     "data": {
      "text/plain": [
       "'rşamb'"
      ]
     },
     "execution_count": 71,
     "metadata": {},
     "output_type": "execute_result"
    }
   ],
   "source": [
    "# Sondan 2. karakter (dahil) ile sondan 6. karakter arasını bulunuz\n",
    "\n"
   ]
  },
  {
   "cell_type": "code",
   "execution_count": 104,
   "id": "congressional-bidding",
   "metadata": {},
   "outputs": [
    {
     "name": "stdout",
     "output_type": "stream",
     "text": [
      "uzunluk: 23\n",
      "10. indexteki karakter: S\n",
      "-13\n",
      "-13. indexteki karakter: S\n",
      "10 ile -13 indexteki karakterler eşit\n"
     ]
    }
   ],
   "source": [
    "# 10. index'li karakteri gösteren negatif index'i bulunuz\n",
    "# pozitif ve negatif index'ler toplamı dizinin uzunluğunu verir\n",
    "\n"
   ]
  },
  {
   "cell_type": "code",
   "execution_count": 105,
   "id": "downtown-delight",
   "metadata": {},
   "outputs": [
    {
     "data": {
      "text/plain": [
       "'Pazartesi Salı Çarşamb'"
      ]
     },
     "execution_count": 105,
     "metadata": {},
     "output_type": "execute_result"
    }
   ],
   "source": [
    "# Son karakter hariç tüm karakterleri bulunuz\n",
    "\n"
   ]
  },
  {
   "cell_type": "code",
   "execution_count": 103,
   "id": "falling-shelter",
   "metadata": {},
   "outputs": [
    {
     "data": {
      "text/plain": [
       "'azartesi Salı Çarşamb'"
      ]
     },
     "execution_count": 103,
     "metadata": {},
     "output_type": "execute_result"
    }
   ],
   "source": [
    "# İlk ve Son karakter hariç, tüm karakterleri bulunuz\n",
    "\n"
   ]
  },
  {
   "cell_type": "markdown",
   "id": "fossil-reserve",
   "metadata": {},
   "source": [
    "---"
   ]
  },
  {
   "cell_type": "markdown",
   "id": "departmental-evidence",
   "metadata": {},
   "source": [
    "**Soru 8:**\n",
    "\n",
    "Aşağıdaki şekilde bir fonksiyon yazınız: <br>\n",
    "Kullanıcıdan bir email adresi isteyiniz. <br>\n",
    "Bu mail adresini, **index yapısı** kullanarak kullanıcı adı ve domain adı olarak ayırınız.\n",
    "\n",
    "Not: Kullanıcı adı ve domain adı '@' karakteri ile ayrılır. Eğer email adresi '@' karakteri içermiyorsa, kullanıcıya 'Uygunsuz email formatı' mesajı dönünüz."
   ]
  },
  {
   "cell_type": "code",
   "execution_count": 138,
   "id": "million-browse",
   "metadata": {},
   "outputs": [],
   "source": [
    "# Çözüm 8:\n",
    "\n",
    "\n",
    "    "
   ]
  },
  {
   "cell_type": "code",
   "execution_count": 117,
   "id": "closed-equivalent",
   "metadata": {},
   "outputs": [
    {
     "name": "stdin",
     "output_type": "stream",
     "text": [
      "Lütfen bir email adresi giriniz. asfafasfıpoıpo3\n"
     ]
    },
    {
     "name": "stdout",
     "output_type": "stream",
     "text": [
      "Uygunsuz email formatı\n"
     ]
    }
   ],
   "source": [
    "email_ayir()"
   ]
  },
  {
   "cell_type": "code",
   "execution_count": 119,
   "id": "circular-description",
   "metadata": {},
   "outputs": [
    {
     "name": "stdin",
     "output_type": "stream",
     "text": [
      "Lütfen bir email adresi giriniz. test@domain.com\n"
     ]
    },
    {
     "name": "stdout",
     "output_type": "stream",
     "text": [
      "Kullanıcı Adı: test\n",
      "Domain Adı: domain.com\n"
     ]
    }
   ],
   "source": [
    "email_ayir()"
   ]
  },
  {
   "cell_type": "markdown",
   "id": "quiet-tennessee",
   "metadata": {},
   "source": [
    "---"
   ]
  },
  {
   "cell_type": "markdown",
   "id": "tropical-mother",
   "metadata": {},
   "source": [
    "**Soru 9:**\n",
    "\n",
    "Aşağıdaki şekilde bir fonksiyon yazınız: <br>\n",
    "Kullanıcıdan bir cümle istesin ve cümlenin tersten yazılmış olarak dönsün."
   ]
  },
  {
   "cell_type": "code",
   "execution_count": 133,
   "id": "communist-sperm",
   "metadata": {},
   "outputs": [],
   "source": [
    "# Çözüm 9:\n",
    "\n"
   ]
  },
  {
   "cell_type": "code",
   "execution_count": 135,
   "id": "honest-strengthening",
   "metadata": {},
   "outputs": [
    {
     "name": "stdin",
     "output_type": "stream",
     "text": [
      "Lütfen bir cümle giriniz. Bügün günlerden pazar\n"
     ]
    },
    {
     "data": {
      "text/plain": [
       "'razap nedrelnüg nügüB'"
      ]
     },
     "execution_count": 135,
     "metadata": {},
     "output_type": "execute_result"
    }
   ],
   "source": [
    "ters_cevir()"
   ]
  },
  {
   "cell_type": "markdown",
   "id": "labeled-regard",
   "metadata": {},
   "source": [
    "---"
   ]
  },
  {
   "cell_type": "markdown",
   "id": "amateur-margin",
   "metadata": {},
   "source": [
    "**Soru 10:**\n",
    "\n",
    "Aşağıdaki şekilde bir fonksiyon yazınız: <br>\n",
    "Kullanıcıdan bir cümle içindeki her bir karakteri alfabeden sıradaki karakter ile değiştirsin. \n",
    "\n",
    "Yapılacaklar:\n",
    "* İç içe fonksiyonlar kullanın.\n",
    "* İçeride harf_kucuk_mu() ve harf_buyuk_mu() şeklinde harfin küçük ya da büyük olduğunu veren fonksiyonlar olsun.\n",
    "* İlgili alfabe ve bir harf alıp, o alfabede o harften sonra gelen harfi bulan, siradaki_harf() fonksiyonu olsun.\n",
    "* Alfabeler:\n",
    "    * alfabe_kucuk = 'abcçdefgğhıijklmnoöprsştuüvyz'\n",
    "    * alfabe_buyuk = 'ABCÇDEFGĞHIİJKLMNOÖPRSŞTUÜVYZ'\n",
    "* Metinden ilgili harfi almak için index kullanın.\n",
    "\n",
    "**Beklenen Sonuç:** \n",
    "<pre>\n",
    "AraBaCı  ->  BsbCbÇi\n",
    "</pre>"
   ]
  },
  {
   "cell_type": "code",
   "execution_count": 151,
   "id": "thirty-patrol",
   "metadata": {},
   "outputs": [],
   "source": [
    "# Çözüm 10:\n",
    "\n",
    "\n",
    "    "
   ]
  },
  {
   "cell_type": "code",
   "execution_count": 154,
   "id": "sensitive-potter",
   "metadata": {},
   "outputs": [
    {
     "name": "stdin",
     "output_type": "stream",
     "text": [
      "Lütfen bir cümle giriniz. AraBaCı\n"
     ]
    },
    {
     "name": "stdout",
     "output_type": "stream",
     "text": [
      "BsbCbÇi\n"
     ]
    }
   ],
   "source": [
    "yeni_cumle = siradaki_harfle_degistir()\n",
    "print(yeni_cumle)"
   ]
  },
  {
   "cell_type": "code",
   "execution_count": 152,
   "id": "sporting-partner",
   "metadata": {},
   "outputs": [
    {
     "name": "stdin",
     "output_type": "stream",
     "text": [
      "Lütfen bir cümle giriniz. abC DEf gH\n"
     ]
    },
    {
     "name": "stdout",
     "output_type": "stream",
     "text": [
      "bcÇ EFg ğI\n"
     ]
    }
   ],
   "source": [
    "yeni_cumle = siradaki_harfle_degistir()\n",
    "print(yeni_cumle)"
   ]
  },
  {
   "cell_type": "code",
   "execution_count": 153,
   "id": "engaged-paper",
   "metadata": {},
   "outputs": [
    {
     "name": "stdin",
     "output_type": "stream",
     "text": [
      "Lütfen bir cümle giriniz. Saat tam olarak On İkiyi Beş geçiyor.\n"
     ]
    },
    {
     "name": "stdout",
     "output_type": "stream",
     "text": [
      "Şbbu ubn ömbsbl Öo Jljzj Cft ğfdjzös.\n"
     ]
    }
   ],
   "source": [
    "yeni_cumle = siradaki_harfle_degistir()\n",
    "print(yeni_cumle)"
   ]
  }
 ],
 "metadata": {
  "kernelspec": {
   "display_name": "Python 3",
   "language": "python",
   "name": "python3"
  },
  "language_info": {
   "codemirror_mode": {
    "name": "ipython",
    "version": 3
   },
   "file_extension": ".py",
   "mimetype": "text/x-python",
   "name": "python",
   "nbconvert_exporter": "python",
   "pygments_lexer": "ipython3",
   "version": "3.8.5"
  }
 },
 "nbformat": 4,
 "nbformat_minor": 5
}
