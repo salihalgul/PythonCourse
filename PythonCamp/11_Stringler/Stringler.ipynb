{
 "cells": [
  {
   "cell_type": "markdown",
   "id": "smart-bathroom",
   "metadata": {},
   "source": [
    "## Stringler"
   ]
  },
  {
   "cell_type": "markdown",
   "id": "adjacent-animal",
   "metadata": {},
   "source": [
    "Stringler (Metinler) integer, float veya boolean tiplerine benzemezler.\n",
    "\n",
    "Stringler birer dizidirler (sequence).\n",
    "\n",
    "Yani, içlerinde sıralanmış olarak başka değerler tutan yapılardır.\n",
    "\n",
    "Örneğin: bir kelime içinde harf tutar."
   ]
  },
  {
   "cell_type": "markdown",
   "id": "annoying-algebra",
   "metadata": {},
   "source": [
    "### String bir Dizidir"
   ]
  },
  {
   "cell_type": "code",
   "execution_count": 1,
   "id": "suburban-collective",
   "metadata": {},
   "outputs": [
    {
     "data": {
      "text/plain": [
       "'portakal'"
      ]
     },
     "execution_count": 1,
     "metadata": {},
     "output_type": "execute_result"
    }
   ],
   "source": [
    "meyve = 'portakal'\n",
    "meyve"
   ]
  },
  {
   "cell_type": "markdown",
   "id": "sudden-consequence",
   "metadata": {},
   "source": [
    "Python'da dizi tipinde değişkenlerde, **index** yapısı ile değişkenin elemanlarına erişilir."
   ]
  },
  {
   "cell_type": "code",
   "execution_count": 3,
   "id": "referenced-trail",
   "metadata": {},
   "outputs": [
    {
     "data": {
      "text/plain": [
       "'p'"
      ]
     },
     "execution_count": 3,
     "metadata": {},
     "output_type": "execute_result"
    }
   ],
   "source": [
    "# Örneğin, meyve string'inin ilk elemanına (birinci harf) ulaşalım\n",
    "\n",
    "harf = meyve[0]\n",
    "harf"
   ]
  },
  {
   "cell_type": "markdown",
   "id": "right-spank",
   "metadata": {},
   "source": [
    "Genel yapı şu şekildedir: `dizi[index]`"
   ]
  },
  {
   "cell_type": "markdown",
   "id": "reflected-variation",
   "metadata": {},
   "source": [
    "**Python'da indexler 0'dan başlar: 0, 1, 2, 3, ...**"
   ]
  },
  {
   "cell_type": "code",
   "execution_count": 4,
   "id": "affected-harbor",
   "metadata": {},
   "outputs": [
    {
     "data": {
      "text/plain": [
       "'r'"
      ]
     },
     "execution_count": 4,
     "metadata": {},
     "output_type": "execute_result"
    }
   ],
   "source": [
    "# meyve kelimesinde 3. sırada bulunan harfi alalım\n",
    "# 3. sıra => index = 2\n",
    "\n",
    "meyve[2]"
   ]
  },
  {
   "cell_type": "code",
   "execution_count": 5,
   "id": "tough-rebate",
   "metadata": {},
   "outputs": [
    {
     "data": {
      "text/plain": [
       "'k'"
      ]
     },
     "execution_count": 5,
     "metadata": {},
     "output_type": "execute_result"
    }
   ],
   "source": [
    "# 6. sıradaki harf\n",
    "# index = 5\n",
    "\n",
    "meyve[5]"
   ]
  },
  {
   "cell_type": "code",
   "execution_count": 6,
   "id": "material-humor",
   "metadata": {},
   "outputs": [
    {
     "data": {
      "text/plain": [
       "'l'"
      ]
     },
     "execution_count": 6,
     "metadata": {},
     "output_type": "execute_result"
    }
   ],
   "source": [
    "# meyve kelimesinin son harfini alalım\n",
    "# son harf -> index = 7\n",
    "\n",
    "meyve[7]"
   ]
  },
  {
   "cell_type": "markdown",
   "id": "loved-insulation",
   "metadata": {},
   "source": [
    "### Stringin Uzunluğu"
   ]
  },
  {
   "cell_type": "markdown",
   "id": "modified-berry",
   "metadata": {},
   "source": [
    "Bir dizinin uzunluğunu almak için, standart Pyton fonksiyonu olan `len()` fonksiyonu kullanılır."
   ]
  },
  {
   "cell_type": "code",
   "execution_count": 8,
   "id": "competent-response",
   "metadata": {},
   "outputs": [
    {
     "data": {
      "text/plain": [
       "'portakal'"
      ]
     },
     "execution_count": 8,
     "metadata": {},
     "output_type": "execute_result"
    }
   ],
   "source": [
    "meyve = 'portakal'\n",
    "meyve"
   ]
  },
  {
   "cell_type": "code",
   "execution_count": 9,
   "id": "amber-grain",
   "metadata": {},
   "outputs": [
    {
     "data": {
      "text/plain": [
       "8"
      ]
     },
     "execution_count": 9,
     "metadata": {},
     "output_type": "execute_result"
    }
   ],
   "source": [
    "# meyve değişkenin uzunluğu\n",
    "\n",
    "len(meyve)"
   ]
  },
  {
   "cell_type": "markdown",
   "id": "metropolitan-extent",
   "metadata": {},
   "source": [
    "`meyve` değişkeninin uzunluğu 8 olduğuna göre, **son index değeri 7'dir.**"
   ]
  },
  {
   "cell_type": "code",
   "execution_count": 12,
   "id": "moral-wedding",
   "metadata": {},
   "outputs": [
    {
     "name": "stdout",
     "output_type": "stream",
     "text": [
      "son index: 7\n",
      "son eleman: l\n"
     ]
    }
   ],
   "source": [
    "# meyve'nin son harfini alalım\n",
    "# tek tek saymamıza gerek yok\n",
    "\n",
    "# index değeri len() değerinin 1 eksiğidir\n",
    "# index = len() - 1\n",
    "\n",
    "son_index = len(meyve) - 1\n",
    "print('son index:', son_index)\n",
    "\n",
    "son_eleman = meyve[son_index]\n",
    "print(\"son eleman:\", son_eleman)"
   ]
  },
  {
   "cell_type": "code",
   "execution_count": 13,
   "id": "intermediate-manhattan",
   "metadata": {},
   "outputs": [
    {
     "data": {
      "text/plain": [
       "'l'"
      ]
     },
     "execution_count": 13,
     "metadata": {},
     "output_type": "execute_result"
    }
   ],
   "source": [
    "# meyve'nin son elemanı\n",
    "\n",
    "meyve[len(meyve) - 1]"
   ]
  },
  {
   "cell_type": "code",
   "execution_count": 14,
   "id": "dimensional-cinema",
   "metadata": {},
   "outputs": [
    {
     "ename": "IndexError",
     "evalue": "string index out of range",
     "output_type": "error",
     "traceback": [
      "\u001b[1;31m---------------------------------------------------------------------------\u001b[0m",
      "\u001b[1;31mIndexError\u001b[0m                                Traceback (most recent call last)",
      "\u001b[1;32m<ipython-input-14-e21b1acef005>\u001b[0m in \u001b[0;36m<module>\u001b[1;34m\u001b[0m\n\u001b[0;32m      1\u001b[0m \u001b[1;31m# Eğer index değeri uzunluğa eğitse ne olur\u001b[0m\u001b[1;33m\u001b[0m\u001b[1;33m\u001b[0m\u001b[1;33m\u001b[0m\u001b[0m\n\u001b[0;32m      2\u001b[0m \u001b[1;33m\u001b[0m\u001b[0m\n\u001b[1;32m----> 3\u001b[1;33m \u001b[0mmeyve\u001b[0m\u001b[1;33m[\u001b[0m\u001b[0mlen\u001b[0m\u001b[1;33m(\u001b[0m\u001b[0mmeyve\u001b[0m\u001b[1;33m)\u001b[0m\u001b[1;33m]\u001b[0m\u001b[1;33m\u001b[0m\u001b[1;33m\u001b[0m\u001b[0m\n\u001b[0m",
      "\u001b[1;31mIndexError\u001b[0m: string index out of range"
     ]
    }
   ],
   "source": [
    "# Eğer index değeri uzunluğa eğitse ne olur\n",
    "\n",
    "# IndexError: string index out of range\n",
    "meyve[len(meyve)]"
   ]
  },
  {
   "cell_type": "code",
   "execution_count": 15,
   "id": "amino-membership",
   "metadata": {},
   "outputs": [
    {
     "ename": "IndexError",
     "evalue": "string index out of range",
     "output_type": "error",
     "traceback": [
      "\u001b[1;31m---------------------------------------------------------------------------\u001b[0m",
      "\u001b[1;31mIndexError\u001b[0m                                Traceback (most recent call last)",
      "\u001b[1;32m<ipython-input-15-8d270951e1b3>\u001b[0m in \u001b[0;36m<module>\u001b[1;34m\u001b[0m\n\u001b[1;32m----> 1\u001b[1;33m \u001b[0mmeyve\u001b[0m\u001b[1;33m[\u001b[0m\u001b[1;36m8\u001b[0m\u001b[1;33m]\u001b[0m\u001b[1;33m\u001b[0m\u001b[1;33m\u001b[0m\u001b[0m\n\u001b[0m",
      "\u001b[1;31mIndexError\u001b[0m: string index out of range"
     ]
    }
   ],
   "source": [
    "meyve[8]"
   ]
  },
  {
   "cell_type": "code",
   "execution_count": 16,
   "id": "northern-thermal",
   "metadata": {},
   "outputs": [
    {
     "data": {
      "text/plain": [
       "('makine öğrenmesi', 'ALAN TURING')"
      ]
     },
     "execution_count": 16,
     "metadata": {},
     "output_type": "execute_result"
    }
   ],
   "source": [
    "x = 'makine öğrenmesi'\n",
    "y = 'ALAN TURING'\n",
    "\n",
    "x, y"
   ]
  },
  {
   "cell_type": "code",
   "execution_count": 17,
   "id": "adapted-recipe",
   "metadata": {},
   "outputs": [
    {
     "data": {
      "text/plain": [
       "(16, 11)"
      ]
     },
     "execution_count": 17,
     "metadata": {},
     "output_type": "execute_result"
    }
   ],
   "source": [
    "len(x), len(y)"
   ]
  },
  {
   "cell_type": "markdown",
   "id": "flying-filling",
   "metadata": {},
   "source": [
    "### Metin Dilimleme (String Slicing)"
   ]
  },
  {
   "cell_type": "markdown",
   "id": "distant-combining",
   "metadata": {},
   "source": [
    "Metnin bir parçasına dilim (slice) adı verilir. \n",
    "\n",
    "Metinden dilim seçmek için **index** yapısı kullanılır."
   ]
  },
  {
   "cell_type": "markdown",
   "id": "viral-basement",
   "metadata": {},
   "source": [
    "**Dilimleme:**\n",
    "\n",
    "* `dizi[başlangıç : bitiş : artış]`\n",
    "* başlangış boş bırakılırsa, default olarak 0\n",
    "* bitiş boş bırakılırsa, default olarak dizinin son index'idir\n",
    "* artış boş bırakılırsa, default olarak 1'dir\n",
    "* başlangıç dahildir, bitiş dahil değildir -> **[başlangıç, bitiş)**"
   ]
  },
  {
   "cell_type": "code",
   "execution_count": 19,
   "id": "collaborative-handling",
   "metadata": {},
   "outputs": [
    {
     "data": {
      "text/plain": [
       "'Derin Öğrenme'"
      ]
     },
     "execution_count": 19,
     "metadata": {},
     "output_type": "execute_result"
    }
   ],
   "source": [
    "# Metnimiz 'Derin Öğrenme' olsun\n",
    "\n",
    "s = 'Derin Öğrenme'\n",
    "s"
   ]
  },
  {
   "cell_type": "markdown",
   "id": "representative-gallery",
   "metadata": {},
   "source": [
    "<pre>\n",
    "s       | D | e | r | i | n |   | Ö | ğ | r | e | n  | m  | e  |  \n",
    "\n",
    "index   | 0 | 1 | 2 | 3 | 4 | 5 | 6 | 7 | 8 | 9 | 10 | 11 | 12 |\n",
    "</pre>"
   ]
  },
  {
   "cell_type": "code",
   "execution_count": 20,
   "id": "productive-tenant",
   "metadata": {},
   "outputs": [
    {
     "data": {
      "text/plain": [
       "'Derin'"
      ]
     },
     "execution_count": 20,
     "metadata": {},
     "output_type": "execute_result"
    }
   ],
   "source": [
    "# bu metinden 'Derin' kelimesini alalım (dilimleyelim)\n",
    "# index -> 0-5\n",
    "\n",
    "s[0:5]"
   ]
  },
  {
   "cell_type": "code",
   "execution_count": 24,
   "id": "olive-advertising",
   "metadata": {},
   "outputs": [
    {
     "data": {
      "text/plain": [
       "'Derin'"
      ]
     },
     "execution_count": 24,
     "metadata": {},
     "output_type": "execute_result"
    }
   ],
   "source": [
    "# Baştaki 0 index'i zaten default değer olduğu için, yazmasak da olurdu\n",
    "\n",
    "s[:5]"
   ]
  },
  {
   "cell_type": "markdown",
   "id": "judicial-devon",
   "metadata": {},
   "source": [
    "**Nasıl Okunur:**\n",
    "    \n",
    "`s[:5]` baştan başla, 5. index'e kadar getir (en son 4. gelir, çünkü bitiş indexi hariçtir)  "
   ]
  },
  {
   "cell_type": "code",
   "execution_count": 25,
   "id": "liberal-context",
   "metadata": {},
   "outputs": [
    {
     "data": {
      "text/plain": [
       "'Öğrenme'"
      ]
     },
     "execution_count": 25,
     "metadata": {},
     "output_type": "execute_result"
    }
   ],
   "source": [
    "# metnimizden 'Öğrenme' kelimesini alalım\n",
    "# index -> 6-13\n",
    "\n",
    "s[6:13]"
   ]
  },
  {
   "cell_type": "markdown",
   "id": "medieval-professor",
   "metadata": {},
   "source": [
    "**Nasıl Okunur:**\n",
    "\n",
    "`s[6:13]` 6. index'ten başla 13. index'e kadar getir."
   ]
  },
  {
   "cell_type": "code",
   "execution_count": 26,
   "id": "certified-joseph",
   "metadata": {},
   "outputs": [
    {
     "data": {
      "text/plain": [
       "'Öğrenme'"
      ]
     },
     "execution_count": 26,
     "metadata": {},
     "output_type": "execute_result"
    }
   ],
   "source": [
    "# metnin sonuna kadar gidiyoruz -> son index'i yazmaya gerek yok\n",
    "\n",
    "s[6:]"
   ]
  },
  {
   "cell_type": "markdown",
   "id": "sharp-essex",
   "metadata": {},
   "source": [
    "**Artış Miktarı:**\n",
    "\n",
    "index'lerde ilerlerken kaçar kaçar gideceğinizi söyler."
   ]
  },
  {
   "cell_type": "code",
   "execution_count": 27,
   "id": "modern-exercise",
   "metadata": {},
   "outputs": [
    {
     "data": {
      "text/plain": [
       "'123456789'"
      ]
     },
     "execution_count": 27,
     "metadata": {},
     "output_type": "execute_result"
    }
   ],
   "source": [
    "rakamlar = '123456789'\n",
    "rakamlar"
   ]
  },
  {
   "cell_type": "code",
   "execution_count": 29,
   "id": "royal-occasions",
   "metadata": {},
   "outputs": [
    {
     "data": {
      "text/plain": [
       "'13579'"
      ]
     },
     "execution_count": 29,
     "metadata": {},
     "output_type": "execute_result"
    }
   ],
   "source": [
    "# Diyelim ki tek rakamları istiyoruz\n",
    "\n",
    "tekler = rakamlar[::2]\n",
    "tekler"
   ]
  },
  {
   "cell_type": "code",
   "execution_count": 32,
   "id": "provincial-aside",
   "metadata": {},
   "outputs": [
    {
     "data": {
      "text/plain": [
       "'2468'"
      ]
     },
     "execution_count": 32,
     "metadata": {},
     "output_type": "execute_result"
    }
   ],
   "source": [
    "# Çiftler\n",
    "\n",
    "ciftler = rakamlar[1::2]\n",
    "ciftler"
   ]
  },
  {
   "cell_type": "code",
   "execution_count": 33,
   "id": "absolute-scott",
   "metadata": {},
   "outputs": [
    {
     "data": {
      "text/plain": [
       "'123456789'"
      ]
     },
     "execution_count": 33,
     "metadata": {},
     "output_type": "execute_result"
    }
   ],
   "source": [
    "# rakamların tümümnü dilimleyelim\n",
    "# kopyalama için kullanılır\n",
    "\n",
    "rakamlar[::]"
   ]
  },
  {
   "cell_type": "markdown",
   "id": "contemporary-father",
   "metadata": {},
   "source": [
    "### Ters Index (Negatif Index)"
   ]
  },
  {
   "cell_type": "markdown",
   "id": "colored-belarus",
   "metadata": {},
   "source": [
    "Soldan sağa giden index' `normal index` veya `index` denir ve **0**'dan başlar."
   ]
  },
  {
   "cell_type": "markdown",
   "id": "signal-evidence",
   "metadata": {},
   "source": [
    "Sağdan sola gelen index'e `ters index` veya `negatif index` denir ve **-1**'den başlar."
   ]
  },
  {
   "cell_type": "markdown",
   "id": "sunrise-appeal",
   "metadata": {},
   "source": [
    "Diyelim ki rakamlar'ın sadece son elemanını almak istiyoruz:\n",
    "123456789"
   ]
  },
  {
   "cell_type": "code",
   "execution_count": 34,
   "id": "mysterious-testing",
   "metadata": {},
   "outputs": [
    {
     "data": {
      "text/plain": [
       "'123456789'"
      ]
     },
     "execution_count": 34,
     "metadata": {},
     "output_type": "execute_result"
    }
   ],
   "source": [
    "rakamlar = '123456789'\n",
    "rakamlar"
   ]
  },
  {
   "cell_type": "code",
   "execution_count": 35,
   "id": "specified-suicide",
   "metadata": {},
   "outputs": [
    {
     "data": {
      "text/plain": [
       "'9'"
      ]
     },
     "execution_count": 35,
     "metadata": {},
     "output_type": "execute_result"
    }
   ],
   "source": [
    "# son elemanı normal index ile alalım\n",
    "\n",
    "rakamlar[8]"
   ]
  },
  {
   "cell_type": "code",
   "execution_count": 36,
   "id": "genetic-calibration",
   "metadata": {},
   "outputs": [
    {
     "data": {
      "text/plain": [
       "'9'"
      ]
     },
     "execution_count": 36,
     "metadata": {},
     "output_type": "execute_result"
    }
   ],
   "source": [
    "# son elemanın ters index'i -1 dir\n",
    "\n",
    "rakamlar[-1]"
   ]
  },
  {
   "cell_type": "code",
   "execution_count": 37,
   "id": "permanent-clark",
   "metadata": {},
   "outputs": [
    {
     "data": {
      "text/plain": [
       "'Derin Öğrenme'"
      ]
     },
     "execution_count": 37,
     "metadata": {},
     "output_type": "execute_result"
    }
   ],
   "source": [
    "s = 'Derin Öğrenme'\n",
    "s"
   ]
  },
  {
   "cell_type": "markdown",
   "id": "european-station",
   "metadata": {},
   "source": [
    "Yani\n",
    "* baştan sona (soldan sağa) giderken index 0 ile başlar\n",
    "* sondan başa (sağdan sola) gelirken index -1 ile başlar\n"
   ]
  },
  {
   "cell_type": "markdown",
   "id": "vocal-consistency",
   "metadata": {},
   "source": [
    "<pre>\n",
    "s          |  D  |  e  |  r  |  i  |  n  |     |  Ö  |  ğ  |  r  |  e  |  n  |  m  |  e  |  \n",
    "\n",
    "           >>>>>>>>>>>\n",
    "index      |  0  |  1  |  2  |  3  |  4  |  5  |  6  |  7  |  8  |  9  | 10  | 11  | 12  |\n",
    "\n",
    "           <<<<<<<<<<<\n",
    "ters index | -13 | -12 | -11 | -10 | -9  | -8  | -7  | -6  | -5  | -4  | -3  | -2  | -1  |\n",
    "\n",
    "</pre>"
   ]
  },
  {
   "cell_type": "code",
   "execution_count": 38,
   "id": "based-enzyme",
   "metadata": {},
   "outputs": [
    {
     "data": {
      "text/plain": [
       "('e', 'e')"
      ]
     },
     "execution_count": 38,
     "metadata": {},
     "output_type": "execute_result"
    }
   ],
   "source": [
    "# son harf \n",
    "\n",
    "s[12], s[-1]"
   ]
  },
  {
   "cell_type": "code",
   "execution_count": 39,
   "id": "authorized-label",
   "metadata": {},
   "outputs": [
    {
     "data": {
      "text/plain": [
       "('D', 'D')"
      ]
     },
     "execution_count": 39,
     "metadata": {},
     "output_type": "execute_result"
    }
   ],
   "source": [
    "# ilk harf\n",
    "\n",
    "s[0], s[-13]"
   ]
  },
  {
   "cell_type": "code",
   "execution_count": 41,
   "id": "valued-festival",
   "metadata": {},
   "outputs": [
    {
     "data": {
      "text/plain": [
       "('Ö', 'Ö')"
      ]
     },
     "execution_count": 41,
     "metadata": {},
     "output_type": "execute_result"
    }
   ],
   "source": [
    "# 6. index (soldan)\n",
    "\n",
    "s[6], s[-7]"
   ]
  },
  {
   "cell_type": "code",
   "execution_count": 42,
   "id": "eleven-stage",
   "metadata": {},
   "outputs": [
    {
     "data": {
      "text/plain": [
       "13"
      ]
     },
     "execution_count": 42,
     "metadata": {},
     "output_type": "execute_result"
    }
   ],
   "source": [
    "len(s)"
   ]
  },
  {
   "cell_type": "markdown",
   "id": "wired-gamma",
   "metadata": {},
   "source": [
    "Ters index'in aklınızda kalması için şöyle düşünebilirsiniz:\n",
    "\n",
    "* Artı ve eksi index'lerin mutlak değelerinin toplamları (işaretsiz) her zaman dizinin uzunluğuna (len) eşittir."
   ]
  },
  {
   "cell_type": "code",
   "execution_count": 43,
   "id": "appreciated-criterion",
   "metadata": {},
   "outputs": [
    {
     "data": {
      "text/plain": [
       "('n', 'n')"
      ]
     },
     "execution_count": 43,
     "metadata": {},
     "output_type": "execute_result"
    }
   ],
   "source": [
    "# Ör: -3 ve 10 aynı elemandır\n",
    "\n",
    "s[-3], s[10]"
   ]
  },
  {
   "cell_type": "code",
   "execution_count": 44,
   "id": "three-venice",
   "metadata": {},
   "outputs": [
    {
     "data": {
      "text/plain": [
       "('ğ', 'ğ')"
      ]
     },
     "execution_count": 44,
     "metadata": {},
     "output_type": "execute_result"
    }
   ],
   "source": [
    "# Ör: -6. index'teki eleman hangisidir?\n",
    "\n",
    "s[-6], s[7]"
   ]
  },
  {
   "cell_type": "markdown",
   "id": "palestinian-dublin",
   "metadata": {},
   "source": [
    "Negatif index'leri daha kolay okumak için pratik yol:\n",
    "\n",
    "* Dizinin sol tarafına kendisini yazarız.\n",
    "* Dizinin ilk başı zaten sıfır'dır.\n",
    "* Sola gelenler de sayı doğrusu üzerinde, -1, -2, -3 şeklinde devam eder."
   ]
  },
  {
   "cell_type": "code",
   "execution_count": 45,
   "id": "magnetic-december",
   "metadata": {},
   "outputs": [
    {
     "data": {
      "text/plain": [
       "'Python'"
      ]
     },
     "execution_count": 45,
     "metadata": {},
     "output_type": "execute_result"
    }
   ],
   "source": [
    "dizi = 'Python'\n",
    "dizi"
   ]
  },
  {
   "cell_type": "markdown",
   "id": "interpreted-column",
   "metadata": {},
   "source": [
    "<pre>\n",
    "dizi       |  P  |  y  |  t  |  h  |  o  |  n  |  P  |  y  |  t  |  h  |  o  |  n  |  \n",
    "\n",
    "                                            <<<   |   >>>\n",
    "\n",
    "index      | -6  | -5  | -4  | -3  | -2  | -1  |  0  |  1  |  2  |  3  |  4  |  5  |\n",
    "\n",
    "</pre>"
   ]
  },
  {
   "cell_type": "code",
   "execution_count": 46,
   "id": "historic-feeling",
   "metadata": {},
   "outputs": [
    {
     "data": {
      "text/plain": [
       "'P'"
      ]
     },
     "execution_count": 46,
     "metadata": {},
     "output_type": "execute_result"
    }
   ],
   "source": [
    "dizi[-6]"
   ]
  },
  {
   "cell_type": "code",
   "execution_count": 47,
   "id": "forbidden-warrant",
   "metadata": {},
   "outputs": [
    {
     "ename": "IndexError",
     "evalue": "string index out of range",
     "output_type": "error",
     "traceback": [
      "\u001b[1;31m---------------------------------------------------------------------------\u001b[0m",
      "\u001b[1;31mIndexError\u001b[0m                                Traceback (most recent call last)",
      "\u001b[1;32m<ipython-input-47-e69934e56ce9>\u001b[0m in \u001b[0;36m<module>\u001b[1;34m\u001b[0m\n\u001b[1;32m----> 1\u001b[1;33m \u001b[0mdizi\u001b[0m\u001b[1;33m[\u001b[0m\u001b[1;33m-\u001b[0m\u001b[1;36m7\u001b[0m\u001b[1;33m]\u001b[0m\u001b[1;33m\u001b[0m\u001b[1;33m\u001b[0m\u001b[0m\n\u001b[0m",
      "\u001b[1;31mIndexError\u001b[0m: string index out of range"
     ]
    }
   ],
   "source": [
    "dizi[-7]"
   ]
  },
  {
   "cell_type": "markdown",
   "id": "humanitarian-token",
   "metadata": {},
   "source": [
    "### Tersten Dilimleme (Geri Dilimleme)"
   ]
  },
  {
   "cell_type": "markdown",
   "id": "academic-madness",
   "metadata": {},
   "source": [
    "Dizi dilimleme işlemleri, bazen geriye doğru yapılır."
   ]
  },
  {
   "cell_type": "markdown",
   "id": "associate-premiere",
   "metadata": {},
   "source": [
    "**Geriye Dilimleme:**\n",
    "\n",
    "* **dizi[bitiş : başlangıç : -artış]**\n",
    "* Sondan başa doğru gelir\n",
    "* Son elemanın index'i **-1** dir (0 değil)"
   ]
  },
  {
   "cell_type": "code",
   "execution_count": 48,
   "id": "irish-swimming",
   "metadata": {},
   "outputs": [
    {
     "data": {
      "text/plain": [
       "'123456789'"
      ]
     },
     "execution_count": 48,
     "metadata": {},
     "output_type": "execute_result"
    }
   ],
   "source": [
    "rakamlar = '123456789'\n",
    "rakamlar"
   ]
  },
  {
   "cell_type": "code",
   "execution_count": 49,
   "id": "southwest-diversity",
   "metadata": {},
   "outputs": [
    {
     "data": {
      "text/plain": [
       "'987654321'"
      ]
     },
     "execution_count": 49,
     "metadata": {},
     "output_type": "execute_result"
    }
   ],
   "source": [
    "# rakamlar dizisini tersten başa doğru sıralayalım\n",
    "\n",
    "rakamlar[::-1]"
   ]
  },
  {
   "cell_type": "code",
   "execution_count": 50,
   "id": "fourth-spider",
   "metadata": {},
   "outputs": [
    {
     "data": {
      "text/plain": [
       "'13579'"
      ]
     },
     "execution_count": 50,
     "metadata": {},
     "output_type": "execute_result"
    }
   ],
   "source": [
    "# rakamları baştan sonra ikişer atlayarak yazın\n",
    "\n",
    "rakamlar[::2]"
   ]
  },
  {
   "cell_type": "code",
   "execution_count": 51,
   "id": "charged-thong",
   "metadata": {},
   "outputs": [
    {
     "data": {
      "text/plain": [
       "'97531'"
      ]
     },
     "execution_count": 51,
     "metadata": {},
     "output_type": "execute_result"
    }
   ],
   "source": [
    "# rakamları sondan başa ikişer atlayarak yazın\n",
    "\n",
    "rakamlar[::-2]"
   ]
  },
  {
   "cell_type": "markdown",
   "id": "conditional-polish",
   "metadata": {},
   "source": [
    "<pre>\n",
    "rakamlar    |  1  |  2  |  3  |  4  |  5  |  6  |  7  |  8  |  9  |\n",
    "\n",
    "            >>>>>>>>>>>\n",
    "index       |  0  |  1  |  2  |  3  |  4  |  5  |  6  |  7  |  8  |\n",
    "\n",
    "            <<<<<<<<<<<\n",
    "ters index  | -9  | -8  | -7  | -6  | -5  | -4  | -3  | -2  | -1  |\n",
    "\n",
    "</pre>"
   ]
  },
  {
   "cell_type": "markdown",
   "id": "crazy-dragon",
   "metadata": {},
   "source": [
    "**Normal Index** ile '456' ve '654' dilimlerini alalım"
   ]
  },
  {
   "cell_type": "code",
   "execution_count": 52,
   "id": "common-messenger",
   "metadata": {},
   "outputs": [
    {
     "data": {
      "text/plain": [
       "'456'"
      ]
     },
     "execution_count": 52,
     "metadata": {},
     "output_type": "execute_result"
    }
   ],
   "source": [
    "# normal index ------->\n",
    "# 456 için -> 3. index'ten başla, 6. index'e kadar gel (6 dahil eder) -> 3, 4, 5\n",
    "\n",
    "rakamlar[3:6:1]"
   ]
  },
  {
   "cell_type": "code",
   "execution_count": 53,
   "id": "complicated-reputation",
   "metadata": {},
   "outputs": [
    {
     "data": {
      "text/plain": [
       "'456'"
      ]
     },
     "execution_count": 53,
     "metadata": {},
     "output_type": "execute_result"
    }
   ],
   "source": [
    "# ters index <--------\n",
    "# 456 için -> -6. index'ten (dahil) başlar, -3. index'e (hariç) kadar git -> -6, -5, -4\n",
    "\n",
    "rakamlar[-6:-3:1]"
   ]
  },
  {
   "cell_type": "markdown",
   "id": "separate-phase",
   "metadata": {},
   "source": [
    "**Ters Index** ile 654 ü alalım"
   ]
  },
  {
   "cell_type": "code",
   "execution_count": 55,
   "id": "original-density",
   "metadata": {},
   "outputs": [
    {
     "data": {
      "text/plain": [
       "'654'"
      ]
     },
     "execution_count": 55,
     "metadata": {},
     "output_type": "execute_result"
    }
   ],
   "source": [
    "rakamlar[-4:-7:-1]"
   ]
  },
  {
   "cell_type": "markdown",
   "id": "governing-phrase",
   "metadata": {},
   "source": [
    "### Stringler Değiştirilemezler (Immutable)"
   ]
  },
  {
   "cell_type": "markdown",
   "id": "overall-steering",
   "metadata": {},
   "source": [
    "Python'da Stringler (Metinler) değiştirilemezler. (Immutable)"
   ]
  },
  {
   "cell_type": "markdown",
   "id": "hollow-hunger",
   "metadata": {},
   "source": [
    "Değiştirilmek istenirse Yeniden Atanması gerekir."
   ]
  },
  {
   "cell_type": "markdown",
   "id": "racial-biotechnology",
   "metadata": {},
   "source": [
    "String bir değişken yeniden atanabilir, ama içindeki bir parça değiştirilemez."
   ]
  },
  {
   "cell_type": "code",
   "execution_count": 56,
   "id": "collected-handling",
   "metadata": {},
   "outputs": [
    {
     "data": {
      "text/plain": [
       "'Selam Dünya!'"
      ]
     },
     "execution_count": 56,
     "metadata": {},
     "output_type": "execute_result"
    }
   ],
   "source": [
    "selamlama = 'Selam Dünya!'\n",
    "selamlama"
   ]
  },
  {
   "cell_type": "code",
   "execution_count": 57,
   "id": "welcome-clark",
   "metadata": {},
   "outputs": [
    {
     "data": {
      "text/plain": [
       "'Hello World!'"
      ]
     },
     "execution_count": 57,
     "metadata": {},
     "output_type": "execute_result"
    }
   ],
   "source": [
    "# yeniden atayabiliriz\n",
    "\n",
    "selamlama = 'Hello World!'\n",
    "selamlama"
   ]
  },
  {
   "cell_type": "code",
   "execution_count": 59,
   "id": "treated-gates",
   "metadata": {},
   "outputs": [
    {
     "ename": "TypeError",
     "evalue": "'str' object does not support item assignment",
     "output_type": "error",
     "traceback": [
      "\u001b[1;31m---------------------------------------------------------------------------\u001b[0m",
      "\u001b[1;31mTypeError\u001b[0m                                 Traceback (most recent call last)",
      "\u001b[1;32m<ipython-input-59-2dab46747a4a>\u001b[0m in \u001b[0;36m<module>\u001b[1;34m\u001b[0m\n\u001b[0;32m      4\u001b[0m \u001b[1;33m\u001b[0m\u001b[0m\n\u001b[0;32m      5\u001b[0m \u001b[1;31m# TypeError: 'str' object does not support item assignment\u001b[0m\u001b[1;33m\u001b[0m\u001b[1;33m\u001b[0m\u001b[1;33m\u001b[0m\u001b[0m\n\u001b[1;32m----> 6\u001b[1;33m \u001b[0mselamlama\u001b[0m\u001b[1;33m[\u001b[0m\u001b[1;36m0\u001b[0m\u001b[1;33m]\u001b[0m \u001b[1;33m=\u001b[0m \u001b[1;34m'h'\u001b[0m\u001b[1;33m\u001b[0m\u001b[1;33m\u001b[0m\u001b[0m\n\u001b[0m",
      "\u001b[1;31mTypeError\u001b[0m: 'str' object does not support item assignment"
     ]
    }
   ],
   "source": [
    "# ama içindeki bir parçasını değiştiremeyiz\n",
    "\n",
    "# diyelim ki ilk harfini 'h' yapmak istedik\n",
    "\n",
    "# TypeError: 'str' object does not support item assignment\n",
    "selamlama[0] = 'h'"
   ]
  },
  {
   "cell_type": "code",
   "execution_count": 60,
   "id": "resistant-annotation",
   "metadata": {},
   "outputs": [
    {
     "data": {
      "text/plain": [
       "'hello World!'"
      ]
     },
     "execution_count": 60,
     "metadata": {},
     "output_type": "execute_result"
    }
   ],
   "source": [
    "# str immutable olduğuna göre, ilk harfini nasıl değiştireceğiz?\n",
    "\n",
    "selamlama = 'hello World!'\n",
    "selamlama"
   ]
  },
  {
   "cell_type": "code",
   "execution_count": 61,
   "id": "brazilian-transition",
   "metadata": {},
   "outputs": [
    {
     "data": {
      "text/plain": [
       "'W'"
      ]
     },
     "execution_count": 61,
     "metadata": {},
     "output_type": "execute_result"
    }
   ],
   "source": [
    "selamlama[6]"
   ]
  },
  {
   "cell_type": "code",
   "execution_count": 62,
   "id": "north-polyester",
   "metadata": {},
   "outputs": [
    {
     "ename": "TypeError",
     "evalue": "'str' object does not support item assignment",
     "output_type": "error",
     "traceback": [
      "\u001b[1;31m---------------------------------------------------------------------------\u001b[0m",
      "\u001b[1;31mTypeError\u001b[0m                                 Traceback (most recent call last)",
      "\u001b[1;32m<ipython-input-62-128dd97aa6de>\u001b[0m in \u001b[0;36m<module>\u001b[1;34m\u001b[0m\n\u001b[1;32m----> 1\u001b[1;33m \u001b[0mselamlama\u001b[0m\u001b[1;33m[\u001b[0m\u001b[1;36m6\u001b[0m\u001b[1;33m]\u001b[0m \u001b[1;33m=\u001b[0m \u001b[1;34m'w'\u001b[0m\u001b[1;33m\u001b[0m\u001b[1;33m\u001b[0m\u001b[0m\n\u001b[0m",
      "\u001b[1;31mTypeError\u001b[0m: 'str' object does not support item assignment"
     ]
    }
   ],
   "source": [
    "selamlama[6] = 'w'"
   ]
  },
  {
   "cell_type": "code",
   "execution_count": 63,
   "id": "friendly-papua",
   "metadata": {},
   "outputs": [
    {
     "data": {
      "text/plain": [
       "'hello '"
      ]
     },
     "execution_count": 63,
     "metadata": {},
     "output_type": "execute_result"
    }
   ],
   "source": [
    "selamlama[:6]"
   ]
  },
  {
   "cell_type": "code",
   "execution_count": 64,
   "id": "military-simpson",
   "metadata": {},
   "outputs": [
    {
     "data": {
      "text/plain": [
       "'orld!'"
      ]
     },
     "execution_count": 64,
     "metadata": {},
     "output_type": "execute_result"
    }
   ],
   "source": [
    "selamlama[7:]"
   ]
  },
  {
   "cell_type": "code",
   "execution_count": 66,
   "id": "cardiac-operator",
   "metadata": {},
   "outputs": [],
   "source": [
    "selamlama = selamlama[:6] + \"w\" + selamlama[7:]"
   ]
  },
  {
   "cell_type": "code",
   "execution_count": 67,
   "id": "infectious-desperate",
   "metadata": {},
   "outputs": [
    {
     "data": {
      "text/plain": [
       "'hello world!'"
      ]
     },
     "execution_count": 67,
     "metadata": {},
     "output_type": "execute_result"
    }
   ],
   "source": [
    "selamlama"
   ]
  },
  {
   "cell_type": "markdown",
   "id": "former-garden",
   "metadata": {},
   "source": [
    "### String Metodları"
   ]
  },
  {
   "cell_type": "markdown",
   "id": "after-submission",
   "metadata": {},
   "source": [
    "**upper()**: Metni BÜYÜK yapar"
   ]
  },
  {
   "cell_type": "code",
   "execution_count": 68,
   "id": "upset-companion",
   "metadata": {},
   "outputs": [
    {
     "data": {
      "text/plain": [
       "'BILGISAYAR'"
      ]
     },
     "execution_count": 68,
     "metadata": {},
     "output_type": "execute_result"
    }
   ],
   "source": [
    "kelime = 'bilgisayar'\n",
    "yeni_kelime = kelime.upper()\n",
    "yeni_kelime"
   ]
  },
  {
   "cell_type": "code",
   "execution_count": 69,
   "id": "alive-reunion",
   "metadata": {},
   "outputs": [
    {
     "data": {
      "text/plain": [
       "'KALEM'"
      ]
     },
     "execution_count": 69,
     "metadata": {},
     "output_type": "execute_result"
    }
   ],
   "source": [
    "'kalem'.upper()"
   ]
  },
  {
   "cell_type": "markdown",
   "id": "considered-carter",
   "metadata": {},
   "source": [
    "**lower()**: Metni küçük yapar"
   ]
  },
  {
   "cell_type": "code",
   "execution_count": 70,
   "id": "wired-electric",
   "metadata": {},
   "outputs": [
    {
     "data": {
      "text/plain": [
       "'karakalem'"
      ]
     },
     "execution_count": 70,
     "metadata": {},
     "output_type": "execute_result"
    }
   ],
   "source": [
    "buyuk = 'KarAkaLEM'\n",
    "kucuk = buyuk.lower()\n",
    "kucuk"
   ]
  },
  {
   "cell_type": "markdown",
   "id": "metallic-letter",
   "metadata": {},
   "source": [
    "**strip()**: Metnin başındaki ve sonundaki boşluk karakterlerini siler."
   ]
  },
  {
   "cell_type": "code",
   "execution_count": 71,
   "id": "magnetic-argentina",
   "metadata": {},
   "outputs": [
    {
     "data": {
      "text/plain": [
       "'    Bu bir tümcedir.   '"
      ]
     },
     "execution_count": 71,
     "metadata": {},
     "output_type": "execute_result"
    }
   ],
   "source": [
    "tumce = '    Bu bir tümcedir.   '\n",
    "tumce.strip()\n",
    "tumce"
   ]
  },
  {
   "cell_type": "code",
   "execution_count": 73,
   "id": "personalized-bloom",
   "metadata": {},
   "outputs": [
    {
     "data": {
      "text/plain": [
       "'Bu bir tümcedir.'"
      ]
     },
     "execution_count": 73,
     "metadata": {},
     "output_type": "execute_result"
    }
   ],
   "source": [
    "# yukarıdaki örnekte, tumce değişmedi, yeni bir tumce yaratıldı\n",
    "\n",
    "yeni_tumce = tumce.strip()\n",
    "yeni_tumce"
   ]
  },
  {
   "cell_type": "code",
   "execution_count": 74,
   "id": "unlike-ending",
   "metadata": {},
   "outputs": [
    {
     "data": {
      "text/plain": [
       "'    Bu bir tümcedir.   '"
      ]
     },
     "execution_count": 74,
     "metadata": {},
     "output_type": "execute_result"
    }
   ],
   "source": [
    "tumce"
   ]
  },
  {
   "cell_type": "markdown",
   "id": "super-commissioner",
   "metadata": {},
   "source": [
    "**lstrip()**: Metnin başındaki (left) boşluk karakterlerini siler.\n",
    "\n",
    "**rstrip()**: Metnin sonundaki (right) boşluk karakterlerini siler."
   ]
  },
  {
   "cell_type": "code",
   "execution_count": 76,
   "id": "heard-librarian",
   "metadata": {},
   "outputs": [
    {
     "name": "stdout",
     "output_type": "stream",
     "text": [
      "    bu metnin başında boşluk var.\n",
      "bu metnin başında boşluk var.\n"
     ]
    }
   ],
   "source": [
    "s = \"    bu metnin başında boşluk var.\"\n",
    "print(s)\n",
    "\n",
    "print(s.lstrip())"
   ]
  },
  {
   "cell_type": "code",
   "execution_count": 77,
   "id": "found-beatles",
   "metadata": {},
   "outputs": [
    {
     "name": "stdout",
     "output_type": "stream",
     "text": [
      "bu metnin sonunda boşluk var.    \n",
      "bu metnin sonunda boşluk var.\n"
     ]
    }
   ],
   "source": [
    "s = \"bu metnin sonunda boşluk var.    \"\n",
    "print(s)\n",
    "\n",
    "print(s.rstrip())"
   ]
  },
  {
   "cell_type": "markdown",
   "id": "pharmaceutical-panel",
   "metadata": {},
   "source": [
    "**format()**: Metni değişkenler ile süsler."
   ]
  },
  {
   "cell_type": "code",
   "execution_count": 78,
   "id": "handed-princess",
   "metadata": {},
   "outputs": [
    {
     "name": "stdout",
     "output_type": "stream",
     "text": [
      "Pyhton ile Yapay Zeka\n"
     ]
    }
   ],
   "source": [
    "A = 'Pyhton'\n",
    "B = 'Yapay'\n",
    "C = 'Zeka'\n",
    "\n",
    "print(\"{0} ile {1} {2}\".format(A, B, C))"
   ]
  },
  {
   "cell_type": "markdown",
   "id": "opposite-decline",
   "metadata": {},
   "source": [
    "**find()**: Metnin içindeki bir karakter ya da metin parçası bulur.\n",
    "\n",
    "* Bulursa, ilk bulduğu index'i döner\n",
    "* Bulamazsa, -1"
   ]
  },
  {
   "cell_type": "code",
   "execution_count": 79,
   "id": "biblical-profession",
   "metadata": {},
   "outputs": [
    {
     "name": "stdout",
     "output_type": "stream",
     "text": [
      "1\n"
     ]
    }
   ],
   "source": [
    "kelime = 'pencereler'\n",
    "index = kelime.find('e')\n",
    "print(index)"
   ]
  },
  {
   "cell_type": "code",
   "execution_count": 80,
   "id": "alleged-accordance",
   "metadata": {},
   "outputs": [
    {
     "data": {
      "text/plain": [
       "3"
      ]
     },
     "execution_count": 80,
     "metadata": {},
     "output_type": "execute_result"
    }
   ],
   "source": [
    "index = kelime.find('ce')\n",
    "index"
   ]
  },
  {
   "cell_type": "markdown",
   "id": "premium-charity",
   "metadata": {},
   "source": [
    "Standart olarak find() fonksiyonu en baştan yani 0 index'ten aramaya başlar.\n",
    "\n",
    "Ama bunu değiştirebiliriz:\n",
    "\n",
    "* find(metin, başlangıç) -> şeklinde nereden aramaya başlayacığını söylebiliriz"
   ]
  },
  {
   "cell_type": "code",
   "execution_count": 82,
   "id": "false-newport",
   "metadata": {},
   "outputs": [
    {
     "data": {
      "text/plain": [
       "4"
      ]
     },
     "execution_count": 82,
     "metadata": {},
     "output_type": "execute_result"
    }
   ],
   "source": [
    "index = kelime.find('e', 2)\n",
    "index"
   ]
  },
  {
   "cell_type": "code",
   "execution_count": 83,
   "id": "convinced-antigua",
   "metadata": {},
   "outputs": [
    {
     "data": {
      "text/plain": [
       "-1"
      ]
     },
     "execution_count": 83,
     "metadata": {},
     "output_type": "execute_result"
    }
   ],
   "source": [
    "# find(metin, başlangıç, bitiş)\n",
    "\n",
    "index = kelime.find('l', 2, 6)\n",
    "index"
   ]
  },
  {
   "cell_type": "code",
   "execution_count": 84,
   "id": "sticky-affairs",
   "metadata": {},
   "outputs": [
    {
     "data": {
      "text/plain": [
       "7"
      ]
     },
     "execution_count": 84,
     "metadata": {},
     "output_type": "execute_result"
    }
   ],
   "source": [
    "index = kelime.find('l', 2, 20)\n",
    "index"
   ]
  },
  {
   "cell_type": "markdown",
   "id": "insured-wyoming",
   "metadata": {},
   "source": [
    "**capitalize():** Metnin İlk Harfini büyük hapar."
   ]
  },
  {
   "cell_type": "code",
   "execution_count": 86,
   "id": "fifteen-business",
   "metadata": {},
   "outputs": [
    {
     "data": {
      "text/plain": [
       "'Batman dark knight'"
      ]
     },
     "execution_count": 86,
     "metadata": {},
     "output_type": "execute_result"
    }
   ],
   "source": [
    "film_adi = 'batman dark knight'\n",
    "film_adi = film_adi.capitalize()\n",
    "film_adi"
   ]
  },
  {
   "cell_type": "markdown",
   "id": "gross-restaurant",
   "metadata": {},
   "source": [
    "**title():** Metnin bütün kelimelerinin İlk Harfini büyük hapar."
   ]
  },
  {
   "cell_type": "code",
   "execution_count": 87,
   "id": "several-county",
   "metadata": {},
   "outputs": [
    {
     "data": {
      "text/plain": [
       "'Batman Dark Knight'"
      ]
     },
     "execution_count": 87,
     "metadata": {},
     "output_type": "execute_result"
    }
   ],
   "source": [
    "film_adi = 'batman dark knight'\n",
    "film_adi = film_adi.title()\n",
    "film_adi"
   ]
  },
  {
   "cell_type": "markdown",
   "id": "commercial-absorption",
   "metadata": {},
   "source": [
    "**isdigit():** Metin tam sayı mı, değil mi?"
   ]
  },
  {
   "cell_type": "code",
   "execution_count": 88,
   "id": "permanent-bachelor",
   "metadata": {},
   "outputs": [
    {
     "data": {
      "text/plain": [
       "True"
      ]
     },
     "execution_count": 88,
     "metadata": {},
     "output_type": "execute_result"
    }
   ],
   "source": [
    "girdi = '48'\n",
    "girdi.isdigit()"
   ]
  },
  {
   "cell_type": "code",
   "execution_count": 89,
   "id": "enabling-seller",
   "metadata": {},
   "outputs": [
    {
     "data": {
      "text/plain": [
       "False"
      ]
     },
     "execution_count": 89,
     "metadata": {},
     "output_type": "execute_result"
    }
   ],
   "source": [
    "'-20'.isdigit()"
   ]
  },
  {
   "cell_type": "code",
   "execution_count": 90,
   "id": "artificial-gnome",
   "metadata": {},
   "outputs": [
    {
     "data": {
      "text/plain": [
       "False"
      ]
     },
     "execution_count": 90,
     "metadata": {},
     "output_type": "execute_result"
    }
   ],
   "source": [
    "'4.5'.isdigit()"
   ]
  },
  {
   "cell_type": "markdown",
   "id": "fantastic-composite",
   "metadata": {},
   "source": [
    "**startswith():** Metin verilen karakter ya da metin parçası ile başlar mı?\n",
    "\n",
    "**endswith()**"
   ]
  },
  {
   "cell_type": "code",
   "execution_count": 91,
   "id": "broad-hammer",
   "metadata": {},
   "outputs": [
    {
     "data": {
      "text/plain": [
       "True"
      ]
     },
     "execution_count": 91,
     "metadata": {},
     "output_type": "execute_result"
    }
   ],
   "source": [
    "gezegen = 'Mars'\n",
    "gezegen.startswith('M')"
   ]
  },
  {
   "cell_type": "code",
   "execution_count": 93,
   "id": "stone-universal",
   "metadata": {},
   "outputs": [
    {
     "data": {
      "text/plain": [
       "False"
      ]
     },
     "execution_count": 93,
     "metadata": {},
     "output_type": "execute_result"
    }
   ],
   "source": [
    "gezegen = 'Merkür'\n",
    "gezegen.startswith('Mers')"
   ]
  },
  {
   "cell_type": "code",
   "execution_count": 96,
   "id": "thirty-beach",
   "metadata": {},
   "outputs": [
    {
     "data": {
      "text/plain": [
       "True"
      ]
     },
     "execution_count": 96,
     "metadata": {},
     "output_type": "execute_result"
    }
   ],
   "source": [
    "gezegen.endswith('r')"
   ]
  },
  {
   "cell_type": "code",
   "execution_count": 97,
   "id": "requested-style",
   "metadata": {},
   "outputs": [
    {
     "data": {
      "text/plain": [
       "False"
      ]
     },
     "execution_count": 97,
     "metadata": {},
     "output_type": "execute_result"
    }
   ],
   "source": [
    "gezegen.endswith('re')"
   ]
  },
  {
   "cell_type": "markdown",
   "id": "rotary-billy",
   "metadata": {},
   "source": [
    "**replace():** Metnin içindeki bir karakter ya da metin parçasını, başka bir karakter ya da metin parçası ile değiştirir."
   ]
  },
  {
   "cell_type": "code",
   "execution_count": 100,
   "id": "expensive-camel",
   "metadata": {},
   "outputs": [
    {
     "data": {
      "text/plain": [
       "'Çarşıdan aldım * tane, eve geldim bin tane.'"
      ]
     },
     "execution_count": 100,
     "metadata": {},
     "output_type": "execute_result"
    }
   ],
   "source": [
    "bilmece = 'Çarşıdan aldım bir tane, eve geldim bin tane.'\n",
    "bilmece = bilmece.replace('bir', '*')\n",
    "bilmece"
   ]
  },
  {
   "cell_type": "code",
   "execution_count": 101,
   "id": "double-antigua",
   "metadata": {},
   "outputs": [
    {
     "data": {
      "text/plain": [
       "'Çarşıdan aldım * tane, eve geldim *** tane.'"
      ]
     },
     "execution_count": 101,
     "metadata": {},
     "output_type": "execute_result"
    }
   ],
   "source": [
    "bilmece = bilmece.replace('bin', '***')\n",
    "bilmece"
   ]
  },
  {
   "cell_type": "code",
   "execution_count": 103,
   "id": "personal-biodiversity",
   "metadata": {},
   "outputs": [
    {
     "name": "stdout",
     "output_type": "stream",
     "text": [
      "txt: Atlar elma yemeyi çok sever.\n",
      "x: Atlar havuç yemeyi çok sever.\n"
     ]
    }
   ],
   "source": [
    "txt = 'Atlar elma yemeyi çok sever.'\n",
    "x = txt.replace('elma', 'havuç')\n",
    "print('txt:', txt)\n",
    "print(\"x:\", x)"
   ]
  },
  {
   "cell_type": "markdown",
   "id": "amended-musical",
   "metadata": {},
   "source": [
    "### `in` Operatorü"
   ]
  },
  {
   "cell_type": "markdown",
   "id": "buried-beijing",
   "metadata": {},
   "source": [
    "Bir karakter ya da metnin başka bir metnin içinde olup olmadığını kontrol etmek için kullanılır.\n",
    "\n",
    "Varsa `True` döner."
   ]
  },
  {
   "cell_type": "code",
   "execution_count": 104,
   "id": "growing-sample",
   "metadata": {},
   "outputs": [],
   "source": [
    "agac = 'ahlat ağacı'\n",
    "at = 'at'"
   ]
  },
  {
   "cell_type": "code",
   "execution_count": 105,
   "id": "environmental-function",
   "metadata": {},
   "outputs": [
    {
     "data": {
      "text/plain": [
       "True"
      ]
     },
     "execution_count": 105,
     "metadata": {},
     "output_type": "execute_result"
    }
   ],
   "source": [
    "# şimdi 'ahlat ağacı' içinde 'at' kelimesi var mı?\n",
    "\n",
    "at in agac"
   ]
  },
  {
   "cell_type": "code",
   "execution_count": 106,
   "id": "floating-bible",
   "metadata": {},
   "outputs": [
    {
     "data": {
      "text/plain": [
       "True"
      ]
     },
     "execution_count": 106,
     "metadata": {},
     "output_type": "execute_result"
    }
   ],
   "source": [
    "'a' in agac"
   ]
  },
  {
   "cell_type": "code",
   "execution_count": 107,
   "id": "metric-float",
   "metadata": {},
   "outputs": [
    {
     "data": {
      "text/plain": [
       "False"
      ]
     },
     "execution_count": 107,
     "metadata": {},
     "output_type": "execute_result"
    }
   ],
   "source": [
    "'b' in agac"
   ]
  },
  {
   "cell_type": "code",
   "execution_count": 109,
   "id": "corresponding-election",
   "metadata": {},
   "outputs": [
    {
     "name": "stdout",
     "output_type": "stream",
     "text": [
      "ahlat ağacı içinde at var.\n"
     ]
    }
   ],
   "source": [
    "if at in agac:\n",
    "    print(agac + \" içinde \" + at + ' var.')\n",
    "else:\n",
    "    print(agac + \" içinde \" + at + ' yok.')\n",
    "    "
   ]
  },
  {
   "cell_type": "markdown",
   "id": "known-density",
   "metadata": {},
   "source": [
    "**Alıştırma:**\n",
    "\n",
    "Kullanıcıdan bir metin isteyelim ve metnin içinde 'a' harfi var mı söyleyelim.\n",
    "\n",
    "Varsa True, yoksa False döneceğiz."
   ]
  },
  {
   "cell_type": "code",
   "execution_count": 110,
   "id": "spanish-regression",
   "metadata": {},
   "outputs": [],
   "source": [
    "# Uzun Yol\n",
    "\n",
    "def a_var_mi():\n",
    "    \n",
    "    metin = input(\"Lütfen bir cümle giriniz: \")\n",
    "    \n",
    "    # şimdi bu metin harfleri içinde gezelim\n",
    "    for harf in metin:\n",
    "        \n",
    "        # harf'in a harfi olup olmadığını kontrol et\n",
    "        if harf == 'a':\n",
    "            return True\n",
    "    \n",
    "    # eğer döngü içerisindeki return'e hiç girmediyse, buraya gelir\n",
    "    return False\n",
    "    "
   ]
  },
  {
   "cell_type": "code",
   "execution_count": 112,
   "id": "authorized-purse",
   "metadata": {},
   "outputs": [
    {
     "name": "stdin",
     "output_type": "stream",
     "text": [
      "Lütfen bir cümle giriniz:  Ahlat ağacı\n"
     ]
    },
    {
     "data": {
      "text/plain": [
       "True"
      ]
     },
     "execution_count": 112,
     "metadata": {},
     "output_type": "execute_result"
    }
   ],
   "source": [
    "a_var_mi()"
   ]
  },
  {
   "cell_type": "code",
   "execution_count": 113,
   "id": "electronic-thing",
   "metadata": {},
   "outputs": [],
   "source": [
    "# Kısa Yol\n",
    "\n",
    "def a_var_mi():\n",
    "    \n",
    "    metin = input(\"Lütfen bir cümle giriniz: \")\n",
    "    \n",
    "    return 'a' in metin\n"
   ]
  },
  {
   "cell_type": "code",
   "execution_count": 114,
   "id": "rolled-fireplace",
   "metadata": {},
   "outputs": [
    {
     "name": "stdin",
     "output_type": "stream",
     "text": [
      "Lütfen bir cümle giriniz:  bir metin\n"
     ]
    },
    {
     "data": {
      "text/plain": [
       "False"
      ]
     },
     "execution_count": 114,
     "metadata": {},
     "output_type": "execute_result"
    }
   ],
   "source": [
    "a_var_mi()"
   ]
  },
  {
   "cell_type": "code",
   "execution_count": 115,
   "id": "spanish-variety",
   "metadata": {},
   "outputs": [
    {
     "name": "stdin",
     "output_type": "stream",
     "text": [
      "Lütfen bir cümle giriniz:  bu metinde içinde harfler ver\n"
     ]
    },
    {
     "data": {
      "text/plain": [
       "True"
      ]
     },
     "execution_count": 115,
     "metadata": {},
     "output_type": "execute_result"
    }
   ],
   "source": [
    "a_var_mi()"
   ]
  },
  {
   "cell_type": "code",
   "execution_count": 116,
   "id": "perceived-stage",
   "metadata": {},
   "outputs": [],
   "source": [
    "# En Kısa Yol\n",
    "\n",
    "def a_var_mi():    \n",
    "    return 'a' in input(\"Lütfen bir cümle giriniz: \")"
   ]
  },
  {
   "cell_type": "code",
   "execution_count": 117,
   "id": "certified-ebony",
   "metadata": {},
   "outputs": [
    {
     "name": "stdin",
     "output_type": "stream",
     "text": [
      "Lütfen bir cümle giriniz:  bir metin\n"
     ]
    },
    {
     "data": {
      "text/plain": [
       "False"
      ]
     },
     "execution_count": 117,
     "metadata": {},
     "output_type": "execute_result"
    }
   ],
   "source": [
    "a_var_mi()"
   ]
  },
  {
   "cell_type": "code",
   "execution_count": 118,
   "id": "floating-simulation",
   "metadata": {},
   "outputs": [
    {
     "name": "stdin",
     "output_type": "stream",
     "text": [
      "Lütfen bir cümle giriniz:  içinde a olan metin\n"
     ]
    },
    {
     "data": {
      "text/plain": [
       "True"
      ]
     },
     "execution_count": 118,
     "metadata": {},
     "output_type": "execute_result"
    }
   ],
   "source": [
    "a_var_mi()"
   ]
  },
  {
   "cell_type": "markdown",
   "id": "narrative-guard",
   "metadata": {},
   "source": [
    "### Metin Karşılaştırma"
   ]
  },
  {
   "cell_type": "markdown",
   "id": "honey-powell",
   "metadata": {},
   "source": [
    "Bazen iki metni karşılaştırmamız gerekir.\n",
    "\n",
    "* eşitler mi?\n",
    "* hangisi büyük?"
   ]
  },
  {
   "cell_type": "code",
   "execution_count": 119,
   "id": "finite-synthetic",
   "metadata": {},
   "outputs": [
    {
     "name": "stdout",
     "output_type": "stream",
     "text": [
      "evet armut\n"
     ]
    }
   ],
   "source": [
    "meyve = 'armut'\n",
    "\n",
    "if meyve == 'armut':\n",
    "    print('evet armut')\n",
    "else:\n",
    "    print('değil armut')"
   ]
  },
  {
   "cell_type": "code",
   "execution_count": 120,
   "id": "uniform-plumbing",
   "metadata": {},
   "outputs": [
    {
     "name": "stdout",
     "output_type": "stream",
     "text": [
      "değil elma\n"
     ]
    }
   ],
   "source": [
    "if meyve == 'elma':\n",
    "    print('elma')\n",
    "else:\n",
    "    print('değil elma')"
   ]
  },
  {
   "cell_type": "code",
   "execution_count": 121,
   "id": "gothic-bahamas",
   "metadata": {},
   "outputs": [
    {
     "name": "stdout",
     "output_type": "stream",
     "text": [
      "armut elma'dan küçüktür.\n"
     ]
    }
   ],
   "source": [
    "armut = 'armut'\n",
    "elma = 'elma'\n",
    "\n",
    "if armut < elma:\n",
    "    print(\"{0} {1}'dan küçüktür.\".format(armut, elma))\n",
    "else:\n",
    "    print(\"{0} {1}'dan büyüktür.\".format(armut, elma))\n",
    "    "
   ]
  },
  {
   "cell_type": "markdown",
   "id": "formal-receiver",
   "metadata": {},
   "source": [
    "Neden?\n",
    "\n",
    "Çünkü -> 'a' harfi 'e' harfinden önce gelir.\n",
    "\n",
    "ASCII karakteri daha küçüktür. (American Standard Code for Information Interchange)\n",
    "\n",
    "ASCII karakterlerini görmek için -> `ord()` fonksiyonu kullanılır."
   ]
  },
  {
   "cell_type": "code",
   "execution_count": 122,
   "id": "minute-landing",
   "metadata": {},
   "outputs": [
    {
     "data": {
      "text/plain": [
       "97"
      ]
     },
     "execution_count": 122,
     "metadata": {},
     "output_type": "execute_result"
    }
   ],
   "source": [
    "ord('a')"
   ]
  },
  {
   "cell_type": "code",
   "execution_count": 123,
   "id": "configured-minnesota",
   "metadata": {},
   "outputs": [
    {
     "data": {
      "text/plain": [
       "65"
      ]
     },
     "execution_count": 123,
     "metadata": {},
     "output_type": "execute_result"
    }
   ],
   "source": [
    "ord('A')"
   ]
  },
  {
   "cell_type": "code",
   "execution_count": 124,
   "id": "entire-finder",
   "metadata": {},
   "outputs": [
    {
     "data": {
      "text/plain": [
       "101"
      ]
     },
     "execution_count": 124,
     "metadata": {},
     "output_type": "execute_result"
    }
   ],
   "source": [
    "ord('e')"
   ]
  },
  {
   "cell_type": "code",
   "execution_count": 125,
   "id": "dedicated-thomson",
   "metadata": {},
   "outputs": [
    {
     "data": {
      "text/plain": [
       "69"
      ]
     },
     "execution_count": 125,
     "metadata": {},
     "output_type": "execute_result"
    }
   ],
   "source": [
    "ord('E')"
   ]
  },
  {
   "cell_type": "markdown",
   "id": "demonstrated-adoption",
   "metadata": {},
   "source": [
    "ASCII'ye göre bütün büyük harfler, küçük harflerden önce gelir. (Yani insan algısının tersidir.)"
   ]
  },
  {
   "cell_type": "code",
   "execution_count": 126,
   "id": "exposed-scheme",
   "metadata": {},
   "outputs": [
    {
     "data": {
      "text/plain": [
       "(65, 97)"
      ]
     },
     "execution_count": 126,
     "metadata": {},
     "output_type": "execute_result"
    }
   ],
   "source": [
    "ord('A'), ord('a')"
   ]
  },
  {
   "cell_type": "code",
   "execution_count": 127,
   "id": "passing-reconstruction",
   "metadata": {},
   "outputs": [
    {
     "data": {
      "text/plain": [
       "(97, 122)"
      ]
     },
     "execution_count": 127,
     "metadata": {},
     "output_type": "execute_result"
    }
   ],
   "source": [
    "ord('a'), ord('z')"
   ]
  },
  {
   "cell_type": "code",
   "execution_count": 128,
   "id": "protective-mathematics",
   "metadata": {},
   "outputs": [
    {
     "data": {
      "text/plain": [
       "False"
      ]
     },
     "execution_count": 128,
     "metadata": {},
     "output_type": "execute_result"
    }
   ],
   "source": [
    "# insan algısının tersi\n",
    "\n",
    "'A' > 'a'"
   ]
  },
  {
   "cell_type": "code",
   "execution_count": 129,
   "id": "coated-constitutional",
   "metadata": {},
   "outputs": [
    {
     "data": {
      "text/plain": [
       "True"
      ]
     },
     "execution_count": 129,
     "metadata": {},
     "output_type": "execute_result"
    }
   ],
   "source": [
    "'f' > 'F'"
   ]
  },
  {
   "cell_type": "markdown",
   "id": "unlimited-deployment",
   "metadata": {},
   "source": [
    "**Python'daki tüm String Metodları aşağıdaki linkten inceleyebilirsiniz:**\n",
    "\n",
    "https://docs.python.org/3/library/stdtypes.html#string-methods"
   ]
  }
 ],
 "metadata": {
  "kernelspec": {
   "display_name": "Python 3",
   "language": "python",
   "name": "python3"
  },
  "language_info": {
   "codemirror_mode": {
    "name": "ipython",
    "version": 3
   },
   "file_extension": ".py",
   "mimetype": "text/x-python",
   "name": "python",
   "nbconvert_exporter": "python",
   "pygments_lexer": "ipython3",
   "version": "3.8.5"
  }
 },
 "nbformat": 4,
 "nbformat_minor": 5
}
