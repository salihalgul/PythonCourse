{
 "cells": [
  {
   "cell_type": "markdown",
   "id": "regulated-undergraduate",
   "metadata": {},
   "source": [
    "## [10 Soru] QUIZ - Fonksiyonlar II"
   ]
  },
  {
   "cell_type": "markdown",
   "id": "useful-benjamin",
   "metadata": {},
   "source": [
    "**Soru 1:**\n",
    "\n",
    "Ekrandan girdi okuyan fonksiyonlar yazdık. Şimdi bu girdi okuma işini jenerik bir hale getirelim.<br>\n",
    "Bu fonksiyon, parametre olarak, text türünde bir istek metni alsın ve bu metne göre kullanıcıdan girdi istesin.<br>\n",
    "Sonra aldığı girdiyi bize geri göndersin (dönsün).<br>\n",
    "Son olarak, bu fonksiyonun geriye hangi tipte (type) veri döndüğünü inceleyelim."
   ]
  },
  {
   "cell_type": "code",
   "execution_count": 1,
   "id": "proud-interference",
   "metadata": {},
   "outputs": [],
   "source": [
    "# Çözüm 1:\n",
    "\n",
    "def girdi_al(metin):\n",
    "    \"\"\"\n",
    "    Gelen metne göre, kullanıcıdan girdi isteyen jenerik fonksiyon.\n",
    "    Parametre: str tipinde istek metni\n",
    "    Dönüş: Kullanıcının girdiği metni (str)\n",
    "    \"\"\"\n",
    "    \n",
    "    # önce kullanıcıdan bir girdi isteyelim\n",
    "    girdi = input(metin)\n",
    "    \n",
    "    # şimdi aldğımız bu girdiyi geri dönelim -> return\n",
    "    return girdi\n"
   ]
  },
  {
   "cell_type": "code",
   "execution_count": 2,
   "id": "typical-italian",
   "metadata": {},
   "outputs": [
    {
     "name": "stdin",
     "output_type": "stream",
     "text": [
      "Lütfen bir tamsayı giriniz: 56\n"
     ]
    },
    {
     "name": "stdout",
     "output_type": "stream",
     "text": [
      "56\n"
     ]
    }
   ],
   "source": [
    "# Şimdi tam sayı isteyen bir girdi alalım\n",
    "\n",
    "sayi = girdi_al(\"Lütfen bir tamsayı giriniz:\")\n",
    "print(sayi)"
   ]
  },
  {
   "cell_type": "code",
   "execution_count": 3,
   "id": "impossible-ranking",
   "metadata": {},
   "outputs": [
    {
     "name": "stdin",
     "output_type": "stream",
     "text": [
      "Lütfen bir ay adı giriniz. Temmuz\n"
     ]
    }
   ],
   "source": [
    "# Şimdi ay adını isteyen bir girdi alalım\n",
    "\n",
    "ay = girdi_al(\"Lütfen bir ay adı giriniz.\")"
   ]
  },
  {
   "cell_type": "code",
   "execution_count": 4,
   "id": "indian-provision",
   "metadata": {},
   "outputs": [
    {
     "name": "stdout",
     "output_type": "stream",
     "text": [
      "Temmuz\n"
     ]
    }
   ],
   "source": [
    "# Eğer aldığımız değeri yazıdırırsak\n",
    "print(ay)"
   ]
  },
  {
   "cell_type": "code",
   "execution_count": 5,
   "id": "nutritional-mauritius",
   "metadata": {},
   "outputs": [
    {
     "data": {
      "text/plain": [
       "str"
      ]
     },
     "execution_count": 5,
     "metadata": {},
     "output_type": "execute_result"
    }
   ],
   "source": [
    "# Son olarak, girdi_al fonksiyonun bize net tipte veri döndüğünü görelim\n",
    "\n",
    "type(ay)"
   ]
  },
  {
   "cell_type": "markdown",
   "id": "representative-prize",
   "metadata": {},
   "source": [
    "---"
   ]
  },
  {
   "cell_type": "markdown",
   "id": "suburban-glass",
   "metadata": {},
   "source": [
    "**Soru 2:**\n",
    "\n",
    "Soru 1'de yazdığımız jenerik girdi fonksiyonun bize sürekli metin `(str)` döndüğünü biliyoruz.<br>\n",
    "Ama tamsayı istediğimiz durumlar da oldu. <br>\n",
    "Şimdi yeni bir fonksiyon yazalım.<br>\n",
    "Bu yeni fonksiyon, girdi_al fonksiyonun bize döndüğü değer üzerinden tam sayı olup olmadığını kontrol etsin ve bize tamsayı ise True değilse False dönsün."
   ]
  },
  {
   "cell_type": "code",
   "execution_count": 6,
   "id": "swiss-wichita",
   "metadata": {},
   "outputs": [],
   "source": [
    "# Çözüm 2:\n",
    "\n",
    "def tamsayi_mi(girdi):\n",
    "    \"\"\"\n",
    "    Gelen girdinin tam sayı olup olmadığını kontrol eder.\n",
    "    Parametre: str tipinde girdi\n",
    "    Dönüş: Tam sayı ise, True; değilse False\n",
    "    \"\"\"\n",
    "    \n",
    "    # gelen girdiye göre olasılıklar\n",
    "    \n",
    "    # olasılık 1: Kullanıcı metnin başında veya sonunda boşluk (space) bırakmış olabilir. Kaldıralım. -> str.strip()\n",
    "    girdi = girdi.strip()\n",
    "    \n",
    "    # olaslık 2: Kullanıcı sayının başına +, - işareti koymuş olabilir. Bunları da kaldıralım. -> str.strip(<kesilecek_karakterler>)\n",
    "    girdi = girdi.strip('+-')\n",
    "    \n",
    "    # Artık geriye kalan metnin tam sayı olup olmadığını kontrol edebiliriz -> isdigit()\n",
    "    if girdi.isdigit():\n",
    "        return True\n",
    "    else:\n",
    "        return False\n",
    "    "
   ]
  },
  {
   "cell_type": "code",
   "execution_count": 14,
   "id": "attractive-helmet",
   "metadata": {},
   "outputs": [
    {
     "name": "stdin",
     "output_type": "stream",
     "text": [
      "Lütfen bir tamsayı giriniz   -8   \n"
     ]
    }
   ],
   "source": [
    "# Şimdi tamsayı mı fonksiyonu test edelim\n",
    "\n",
    "# önce bir girdi alalım\n",
    "istek_metni = \"Lütfen bir tamsayı giriniz\"\n",
    "girdi = girdi_al(istek_metni)\n",
    "\n",
    "# girdi tamsayı olup olmadığı karanını alalım\n",
    "girdi_tam_sayi_mi = tamsayi_mi(girdi)"
   ]
  },
  {
   "cell_type": "code",
   "execution_count": 15,
   "id": "postal-authorization",
   "metadata": {},
   "outputs": [
    {
     "data": {
      "text/plain": [
       "True"
      ]
     },
     "execution_count": 15,
     "metadata": {},
     "output_type": "execute_result"
    }
   ],
   "source": [
    "# Bakalım girdi tam sayı mıymış?\n",
    "\n",
    "girdi_tam_sayi_mi"
   ]
  },
  {
   "cell_type": "code",
   "execution_count": 17,
   "id": "departmental-violence",
   "metadata": {},
   "outputs": [
    {
     "name": "stdin",
     "output_type": "stream",
     "text": [
      "lütfen tam sayı giriniz    45\n"
     ]
    },
    {
     "name": "stdout",
     "output_type": "stream",
     "text": [
      "True\n"
     ]
    }
   ],
   "source": [
    "# tek seferde sayı alıp ekrana yazalım\n",
    "print(tamsayi_mi(girdi_al(\"lütfen tam sayı giriniz\")))"
   ]
  },
  {
   "cell_type": "markdown",
   "id": "economic-showcase",
   "metadata": {},
   "source": [
    "---"
   ]
  },
  {
   "cell_type": "markdown",
   "id": "motivated-funds",
   "metadata": {},
   "source": [
    "**Soru 3:**\n",
    "\n",
    "Soru 1 ve Soru 2'deki fonksiyonları kullanarak kullanıcıdan tamsayı alalım. Ve bu sayıyı dönelim.<br>\n",
    "Soru 2 bize tamsayı almayı garantiler. <br>\n",
    "Kullanıcı tamsayı girmemişse tekrar tekrar (recursive) soralım."
   ]
  },
  {
   "cell_type": "code",
   "execution_count": 18,
   "id": "systematic-abuse",
   "metadata": {},
   "outputs": [],
   "source": [
    "# Çözüm 3:\n",
    "\n",
    "def tamsayi_al(metin):\n",
    "    \"\"\"\n",
    "    Kullanıcıdan tamsayı alır. (inatçı)\n",
    "    Parametre: str tipinde istek metni\n",
    "    Dönüş: int tipinde girilen tipi\n",
    "    \"\"\"\n",
    "    \n",
    "    # kullanıcıdan girdi isteyelim\n",
    "    girdi = girdi_al(metin)\n",
    "    \n",
    "    # girdi tam sayı mı kontrol et\n",
    "    if tamsayi_mi(girdi):\n",
    "        return int(girdi)\n",
    "    else:\n",
    "        # kullanıcıdan tam sayı gelmediğine göre tekrar sor.\n",
    "        return tamsayi_al(metin)\n"
   ]
  },
  {
   "cell_type": "code",
   "execution_count": 19,
   "id": "ranging-eugene",
   "metadata": {},
   "outputs": [
    {
     "name": "stdin",
     "output_type": "stream",
     "text": [
      "tam sayı giriniz asdfsdf\n",
      "tam sayı giriniz rtrtr\n",
      "tam sayı giriniz asdfasdf\n",
      "tam sayı giriniz +9\n"
     ]
    },
    {
     "name": "stdout",
     "output_type": "stream",
     "text": [
      "9\n"
     ]
    }
   ],
   "source": [
    "sayi = tamsayi_al(\"tam sayı giriniz\")\n",
    "print(sayi)"
   ]
  },
  {
   "cell_type": "code",
   "execution_count": 20,
   "id": "composed-bhutan",
   "metadata": {},
   "outputs": [
    {
     "name": "stdin",
     "output_type": "stream",
     "text": [
      "tam sayı giriniz op\n",
      "tam sayı giriniz asdfsdf\n",
      "tam sayı giriniz ttyty\n",
      "tam sayı giriniz 6yy\n",
      "tam sayı giriniz sadfas\n",
      "tam sayı giriniz -24\n"
     ]
    },
    {
     "data": {
      "text/plain": [
       "-24"
      ]
     },
     "execution_count": 20,
     "metadata": {},
     "output_type": "execute_result"
    }
   ],
   "source": [
    "tamsayi_al(\"tam sayı giriniz\")"
   ]
  },
  {
   "cell_type": "markdown",
   "id": "blind-listening",
   "metadata": {},
   "source": [
    "---"
   ]
  },
  {
   "cell_type": "markdown",
   "id": "seven-compound",
   "metadata": {},
   "source": [
    "**Soru 4:**\n",
    "\n",
    "Kullanıcıdan 1-7 arasında bir gün numarası alıp, bu numaranın hangi gün değerine ait olduğunu dönen bir fonksiyon yazalım."
   ]
  },
  {
   "cell_type": "code",
   "execution_count": 21,
   "id": "latter-joining",
   "metadata": {},
   "outputs": [],
   "source": [
    "# Çözüm 4:\n",
    "\n",
    "def haftanin_gunu():\n",
    "    \n",
    "    # kullanıcıdan gün numarası al\n",
    "    gun_numarasi = tamsayi_al(\"Lütfen gün numarası giriniz (1-7 arasında): \")\n",
    "    \n",
    "    # Burada yapmamız gereken kontrol gelen sayının 1-7 arasında olmasıdır.\n",
    "    if not 1 <= gun_numarasi <= 7:\n",
    "        return \"Geçersiz gün numarası. 1-7 arasında olmalı!\"\n",
    "    \n",
    "    # 1-7  kontrolünü geçtiysek\n",
    "    if gun_numarasi == 1:\n",
    "        return \"Pazartesi\"\n",
    "    elif gun_numarasi == 2:\n",
    "        return 'Salı'\n",
    "    elif gun_numarasi == 3:\n",
    "        return 'Çarşmaba'\n",
    "    elif gun_numarasi == 4:\n",
    "        return 'Perşembe'\n",
    "    elif gun_numarasi == 5:\n",
    "        return 'Cuma'\n",
    "    elif gun_numarasi == 6:\n",
    "        return 'Cumartesi'\n",
    "    else:\n",
    "        return 'Pazar'\n",
    "    \n"
   ]
  },
  {
   "cell_type": "code",
   "execution_count": 24,
   "id": "filled-sandwich",
   "metadata": {},
   "outputs": [
    {
     "name": "stdin",
     "output_type": "stream",
     "text": [
      "Lütfen gün numarası giriniz (1-7 arasında):  asdf\n",
      "Lütfen gün numarası giriniz (1-7 arasında):  sdfasf\n",
      "Lütfen gün numarası giriniz (1-7 arasında):  \n",
      "Lütfen gün numarası giriniz (1-7 arasında):  as\n",
      "Lütfen gün numarası giriniz (1-7 arasında):   \n",
      "Lütfen gün numarası giriniz (1-7 arasında):  7\n"
     ]
    },
    {
     "data": {
      "text/plain": [
       "'Pazar'"
      ]
     },
     "execution_count": 24,
     "metadata": {},
     "output_type": "execute_result"
    }
   ],
   "source": [
    "# Artık fonksiyonel programlamanın faydalarını görebiliriz.\n",
    "# yapmamız gereken tek şey bir fonksiyon çağırmak\n",
    "# iş parçaları kendi fonksiyonlarında yapılıyor olacak\n",
    "\n",
    "haftanin_gunu()"
   ]
  },
  {
   "cell_type": "markdown",
   "id": "spectacular-digit",
   "metadata": {},
   "source": [
    "---"
   ]
  },
  {
   "cell_type": "markdown",
   "id": "characteristic-supply",
   "metadata": {},
   "source": [
    "**Soru 5:**\n",
    "\n",
    "Aşağıdaki fonksiyonları yazınız. Ve bu fonksiyonların işleme sırasını inceleyeniz. Python'un kod işleme sırasını anladığınızdan emin olunuz. (**Stack Trace** etmek)\n",
    "\n",
    "<pre>\n",
    "def n(c):\n",
    "    ustu = m(c, c)\n",
    "    print(c, ustu)\n",
    "    return ustu\n",
    "        \n",
    "def m(x, y):\n",
    "    x = x + 2\n",
    "    return x**y\n",
    "\n",
    "def p(x, y, z):\n",
    "    toplam = x + y + z\n",
    "    kare = n(toplam)**2\n",
    "    return kare\n",
    "\n",
    "a = 1\n",
    "b = a + 1\n",
    "print(p(a, b+1, a+b)) \n",
    "</pre>\n"
   ]
  },
  {
   "cell_type": "code",
   "execution_count": 25,
   "id": "upset-denial",
   "metadata": {},
   "outputs": [
    {
     "name": "stdout",
     "output_type": "stream",
     "text": [
      "7 4782969\n",
      "22876792454961\n"
     ]
    }
   ],
   "source": [
    "# Çözüm 5:\n",
    "\n",
    "def n(c):\n",
    "    ustu = m(c, c)\n",
    "    print(c, ustu)\n",
    "    return ustu\n",
    "\n",
    "def m(x, y):\n",
    "    x = x + 2\n",
    "    return x**y\n",
    "\n",
    "def p(x, y, z):\n",
    "    toplam = x + y + z\n",
    "    kare = n(toplam)**2\n",
    "    return kare\n",
    "\n",
    "a = 1\n",
    "b = a + 1\n",
    "print(p(a, b+1, a+b)) "
   ]
  },
  {
   "cell_type": "markdown",
   "id": "invalid-contrast",
   "metadata": {},
   "source": [
    "**Stack Trace:**\n",
    "* Önce a değişkeni yaratılır ve değeri 1 olarak atanır, ardında b yaratılır ve değeri 2 olur.\n",
    "* Print fonksiyonu p fonksiyonunu çağırır. -> p(1, 3, 3)\n",
    "* p fonksiyonu parametrelerinin toplamı ile, n fonksiyonunu çağırır.\n",
    "* n fonksiyonu, aldığı parametre (c) ile m fonksiyonunu çağırdı\n",
    "* m fonksiyonu aldığı x parametresine 2 ekler, ve x**y'yi geri döner\n",
    "* n fonksiyonu, m'den dönen bu sonucu ustu değişkenine atar ve önce değişkenleri print eder -> print(c, ustu)\n",
    "* n fonksiyonu, ardından ustu değişkenini p fonksiyonuna geri döner\n",
    "* p fonksiyonu n'den aldığı değerin karesini alır ve bu kare değerini geri döner\n",
    "* print fonksiyonu, p'den aldığı değeri ekrana yazar."
   ]
  },
  {
   "cell_type": "markdown",
   "id": "compatible-gambling",
   "metadata": {},
   "source": [
    "----"
   ]
  },
  {
   "cell_type": "markdown",
   "id": "available-pension",
   "metadata": {},
   "source": [
    "**Soru 6:**\n",
    "\n",
    "Adı `aritmetik_ortalama` olan bir fonksiyon tanımlayın. <br>\n",
    "Bu fonksiyon değişken uzunlukta parametre alıyor alsın. <br>\n",
    "Yani parametre sayısı önceden belli değil. <br>\n",
    "Fonksiyonunuz aldığı bu parametrelerin aritmetik ortalamasını ekrana yazsın. <br>\n",
    "* Aritmetik Ortalama = Toplam / Eleman Sayısı"
   ]
  },
  {
   "cell_type": "code",
   "execution_count": 26,
   "id": "outer-closer",
   "metadata": {},
   "outputs": [],
   "source": [
    "# Çözüm 6:\n",
    "\n",
    "def aritmetik_ortalama(*args):\n",
    "    \n",
    "    # önce gelen parametrelerin toplamını alalım\n",
    "    toplam = sum(args)\n",
    "    eleman_sayisi = len(args)   # length -> len\n",
    "    \n",
    "    return toplam / eleman_sayisi\n",
    "    "
   ]
  },
  {
   "cell_type": "code",
   "execution_count": 27,
   "id": "supported-pickup",
   "metadata": {},
   "outputs": [
    {
     "name": "stdout",
     "output_type": "stream",
     "text": [
      "6.0\n"
     ]
    }
   ],
   "source": [
    "ortalama = aritmetik_ortalama(2, 5, 11)\n",
    "print(ortalama)"
   ]
  },
  {
   "cell_type": "code",
   "execution_count": 28,
   "id": "recovered-tampa",
   "metadata": {},
   "outputs": [
    {
     "data": {
      "text/plain": [
       "30.0"
      ]
     },
     "execution_count": 28,
     "metadata": {},
     "output_type": "execute_result"
    }
   ],
   "source": [
    "aritmetik_ortalama(10, 30, 60, 20)"
   ]
  },
  {
   "cell_type": "markdown",
   "id": "regulation-victorian",
   "metadata": {},
   "source": [
    "---"
   ]
  },
  {
   "cell_type": "markdown",
   "id": "cleared-journal",
   "metadata": {},
   "source": [
    "**Soru 7:**\n",
    "\n",
    "Dairenin alanını hesaplayan bir fonksiyon yazınız. Parametre olarak yarıçap alsın ve tüm fonksiyon tek satır olsun.\n",
    "\n",
    "$ Daire Alanı = \\pi * r^2$"
   ]
  },
  {
   "cell_type": "code",
   "execution_count": 29,
   "id": "vocal-breakfast",
   "metadata": {},
   "outputs": [],
   "source": [
    "# Çözüm 7:\n",
    "\n",
    "import math\n",
    "\n",
    "def daire_alani(r):\n",
    "    return math.pi * r**2\n"
   ]
  },
  {
   "cell_type": "code",
   "execution_count": 30,
   "id": "russian-moses",
   "metadata": {},
   "outputs": [
    {
     "data": {
      "text/plain": [
       "314.1592653589793"
      ]
     },
     "execution_count": 30,
     "metadata": {},
     "output_type": "execute_result"
    }
   ],
   "source": [
    "daire_alani(10)"
   ]
  },
  {
   "cell_type": "markdown",
   "id": "comparable-combine",
   "metadata": {},
   "source": [
    "---"
   ]
  },
  {
   "cell_type": "markdown",
   "id": "quick-bobby",
   "metadata": {},
   "source": [
    "**Soru 8:**\n",
    "\n",
    "Çemberin çevresini hesaplayan bir fonksiyon yazınız. Parametre olarak yarıçap alsın ve tüm fonksiyon tek satır olsun.\n",
    "\n",
    "$ Çember Çevresi = 2 * \\pi * r$"
   ]
  },
  {
   "cell_type": "code",
   "execution_count": 31,
   "id": "finite-consequence",
   "metadata": {},
   "outputs": [],
   "source": [
    "# Çözüm 8:\n",
    "\n",
    "import math\n",
    "\n",
    "def cember_cevresi(r):\n",
    "    \"\"\"Çemberin cevresini döner.\"\"\"\n",
    "    return 2 * math.pi * r \n"
   ]
  },
  {
   "cell_type": "code",
   "execution_count": 32,
   "id": "absolute-heather",
   "metadata": {},
   "outputs": [
    {
     "data": {
      "text/plain": [
       "62.83185307179586"
      ]
     },
     "execution_count": 32,
     "metadata": {},
     "output_type": "execute_result"
    }
   ],
   "source": [
    "cember_cevresi(10)"
   ]
  },
  {
   "cell_type": "markdown",
   "id": "local-aberdeen",
   "metadata": {},
   "source": [
    "---"
   ]
  },
  {
   "cell_type": "markdown",
   "id": "alone-confidence",
   "metadata": {},
   "source": [
    "**Soru 9:**\n",
    "\n",
    "Dikdörtgenin alanını hesaplayan bir fonksiyon yazınız. Parametre olarak kısa (a) ve uzun kenarı (b) alsın ve tüm fonksiyon tek satır olsun.\n",
    "\n",
    "$ Dikdörtgen Alanı = a * b$"
   ]
  },
  {
   "cell_type": "code",
   "execution_count": 33,
   "id": "curious-binding",
   "metadata": {},
   "outputs": [],
   "source": [
    "# Çözüm 9:\n",
    "\n",
    "def dikdortgen_alani(a, b):\n",
    "    return a * b\n"
   ]
  },
  {
   "cell_type": "code",
   "execution_count": 34,
   "id": "dense-prophet",
   "metadata": {},
   "outputs": [
    {
     "data": {
      "text/plain": [
       "60"
      ]
     },
     "execution_count": 34,
     "metadata": {},
     "output_type": "execute_result"
    }
   ],
   "source": [
    "dikdortgen_alani(5, 12)"
   ]
  },
  {
   "cell_type": "markdown",
   "id": "pregnant-teaching",
   "metadata": {},
   "source": [
    "---"
   ]
  },
  {
   "cell_type": "markdown",
   "id": "monetary-recommendation",
   "metadata": {},
   "source": [
    "**Soru 10:**\n",
    "\n",
    "Silindirin yüzey alanını hesaplayan bir fonksiyon yazın. <br>\n",
    "Bu fonksiyon parametre olarak silindirin taban yarıçapını (r) ve yüksekliğini alsın. <br>\n",
    "* Silindir, üstünde ve altında daire olan, yan yüzeyi ise açılınca diktörtgen olan bir şekildir.\n",
    "* Alanları hesaplarken her işi yapan ayrı fonksiyonları kullanın"
   ]
  },
  {
   "cell_type": "code",
   "execution_count": 36,
   "id": "driven-holly",
   "metadata": {},
   "outputs": [],
   "source": [
    "# Çözüm 10:\n",
    "\n",
    "def silindir_alani(r, h):\n",
    "    \"\"\"\n",
    "    Silindirin toplam yüzey alanını hesaplar.\n",
    "    Parametreler:\n",
    "        * r: int tipinde yarıçap\n",
    "        * h: int tipinde yükseklik\n",
    "    Dönüş: int tipinde silindirin alanı\n",
    "    \"\"\"\n",
    "    \n",
    "    # Önce dairelerin alanını hesaplayalım (2 adet var)\n",
    "    daire = daire_alani(r)\n",
    "    \n",
    "    # Şimdi yan alanı hesaplayalım\n",
    "    # yan alan, alt ve üst çemberler açılınca ortaya çıkan dikdörtgen\n",
    "    # yan alan = cemberin cevresi * yukseklik\n",
    "    \n",
    "    cember = cember_cevresi(r)\n",
    "    \n",
    "    dikdortgen = dikdortgen_alani(cember, h)\n",
    "    \n",
    "    # toplam silindir alanını hesapla\n",
    "    toplam_alan = 2 * daire + dikdortgen\n",
    "    \n",
    "    return toplam_alan\n"
   ]
  },
  {
   "cell_type": "code",
   "execution_count": 37,
   "id": "assured-ethiopia",
   "metadata": {},
   "outputs": [
    {
     "data": {
      "text/plain": [
       "753.9822368615504"
      ]
     },
     "execution_count": 37,
     "metadata": {},
     "output_type": "execute_result"
    }
   ],
   "source": [
    "silindir_alani(10, 2)"
   ]
  },
  {
   "cell_type": "code",
   "execution_count": null,
   "id": "french-thailand",
   "metadata": {},
   "outputs": [],
   "source": []
  }
 ],
 "metadata": {
  "kernelspec": {
   "display_name": "Python 3 (ipykernel)",
   "language": "python",
   "name": "python3"
  },
  "language_info": {
   "codemirror_mode": {
    "name": "ipython",
    "version": 3
   },
   "file_extension": ".py",
   "mimetype": "text/x-python",
   "name": "python",
   "nbconvert_exporter": "python",
   "pygments_lexer": "ipython3",
   "version": "3.9.12"
  }
 },
 "nbformat": 4,
 "nbformat_minor": 5
}
