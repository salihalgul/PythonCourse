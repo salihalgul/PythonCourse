{
 "cells": [
  {
   "cell_type": "markdown",
   "metadata": {},
   "source": [
    "## Fonksiyonlar II"
   ]
  },
  {
   "cell_type": "markdown",
   "metadata": {},
   "source": [
    "Fonksiyonlar çoğu zaman, işlemlerini bitirdikten sonra geriye değer dönerler. \n",
    "\n",
    "Fonksiyonu çağran yer de o değeri alır ve buna göre işlemlerini yapar."
   ]
  },
  {
   "cell_type": "markdown",
   "metadata": {},
   "source": [
    "Geriye değer dönmeyen fonksiyonlara **void** fonksiyonlar denir."
   ]
  },
  {
   "cell_type": "markdown",
   "metadata": {},
   "source": [
    "Geriye değer dönme -> **return**"
   ]
  },
  {
   "cell_type": "markdown",
   "metadata": {},
   "source": [
    "**Önemli Not:** Fonksiyon içinde, return ifadesinden sonra gelen kodlar çalıştırılmaz. Çünkü return fonksiyondan çıkış demektir."
   ]
  },
  {
   "cell_type": "markdown",
   "metadata": {},
   "source": [
    "### Dönüş Değeri"
   ]
  },
  {
   "cell_type": "code",
   "execution_count": 1,
   "metadata": {},
   "outputs": [
    {
     "name": "stdout",
     "output_type": "stream",
     "text": [
      "2.718281828459045\n"
     ]
    }
   ],
   "source": [
    "import math\n",
    "\n",
    "e = math.exp(1.0)\n",
    "\n",
    "print(e)"
   ]
  },
  {
   "cell_type": "markdown",
   "metadata": {},
   "source": [
    "Örneğin, dairenin alanını hesaplayan bir fonksiyon yazalım ve değerini alıp ekrana basalım."
   ]
  },
  {
   "cell_type": "code",
   "execution_count": 3,
   "metadata": {},
   "outputs": [],
   "source": [
    "def alan(yaricap):\n",
    "    \n",
    "    a = math.pi * yaricap**2\n",
    "    \n",
    "    return a\n",
    "    "
   ]
  },
  {
   "cell_type": "code",
   "execution_count": 4,
   "metadata": {},
   "outputs": [
    {
     "name": "stdout",
     "output_type": "stream",
     "text": [
      "50.26548245743669\n"
     ]
    }
   ],
   "source": [
    "daire_alani = alan(4)\n",
    "print(daire_alani)"
   ]
  },
  {
   "cell_type": "markdown",
   "metadata": {},
   "source": [
    "Yukarıdaki alan fonksiyonunun içindeki `a` değişkenine **geçici değişken** denir.\n",
    "\n",
    "Tek amacı hesaplanan alan değeri tutup bunu return'e vermek."
   ]
  },
  {
   "cell_type": "markdown",
   "metadata": {},
   "source": [
    "Bu geçici değişkenleri kullanmayabiliriz. (Genelde debug işlemleri için önerilir.)"
   ]
  },
  {
   "cell_type": "code",
   "execution_count": 2,
   "metadata": {},
   "outputs": [],
   "source": [
    "# Geçici değişken olmadan alan fonksiyonu\n",
    "\n",
    "def alan(yaricap):\n",
    "    return math.pi * yaricap**2\n"
   ]
  },
  {
   "cell_type": "code",
   "execution_count": 7,
   "metadata": {},
   "outputs": [
    {
     "name": "stdout",
     "output_type": "stream",
     "text": [
      "50.26548245743669\n"
     ]
    }
   ],
   "source": [
    "daire_alani = alan(4)\n",
    "print(daire_alani)"
   ]
  },
  {
   "cell_type": "code",
   "execution_count": 9,
   "metadata": {},
   "outputs": [
    {
     "name": "stdout",
     "output_type": "stream",
     "text": [
      "50.26548245743669\n"
     ]
    }
   ],
   "source": [
    "# Yukarıda print(daire_alani) yazdık -> geçici değişken verdik\n",
    "# daire_alani\n",
    "\n",
    "print(alan(4))"
   ]
  },
  {
   "cell_type": "markdown",
   "metadata": {},
   "source": [
    "### Adım Adım Geliştirme"
   ]
  },
  {
   "cell_type": "markdown",
   "metadata": {},
   "source": [
    "Kodlama yaparken, her şeyi tek seferde düşünemeyiz ve yapamayız.\n",
    "\n",
    "Bu yüzden adım adım geliştirme üzerine yoğunlaşmamız lazım."
   ]
  },
  {
   "cell_type": "markdown",
   "metadata": {},
   "source": [
    "Adım adım geliştirme, hata ayıklama (debug) için olmaz olmaz bir kavramdır.\n",
    "\n",
    "Eğer programın her adımında neyi yaptığını debug edemezseniz, o zaman her şeyi doğru yaptığından emin olamazsınız."
   ]
  },
  {
   "cell_type": "markdown",
   "metadata": {},
   "source": [
    "Ör: Diyelim ki iki nokta arasındaki mesafeyi hesaplamak istiyoruz."
   ]
  },
  {
   "cell_type": "markdown",
   "metadata": {},
   "source": [
    "Noktalar -> (x1, y1) ve (x2, y2)"
   ]
  },
  {
   "cell_type": "markdown",
   "metadata": {},
   "source": [
    "Matematikten bu iki nokta arasındaki uzaklık, Pisagor Teoreminden şöyle hesaplanır:\n",
    "\n",
    "$$ uzaklık = \\sqrt{(x_2-x_1)^2 + (y_2-y_1)^2} $$"
   ]
  },
  {
   "cell_type": "markdown",
   "metadata": {},
   "source": [
    "Fakat, bu tek satırlık formül, Python'da bu kadar basit değil."
   ]
  },
  {
   "cell_type": "markdown",
   "metadata": {},
   "source": [
    "Be hesaplamadaki her bir adımı, tek tek planlamamız lazım."
   ]
  },
  {
   "cell_type": "markdown",
   "metadata": {},
   "source": [
    "Şimdi bu fonksiyonu yazalım:"
   ]
  },
  {
   "cell_type": "code",
   "execution_count": 3,
   "metadata": {},
   "outputs": [],
   "source": [
    "def uzaklik(x1, y1, x2, y2):\n",
    "    \n",
    "    # önce x'ler arasındaki farkı hesapla\n",
    "    dx = x2 - x1\n",
    "    \n",
    "    # sonra y'ler arasındaki farkı hesapla\n",
    "    dy = y2 - y1\n",
    "    \n",
    "    # <----- DEBUG ----->\n",
    "    # daha fazla devam etmeden bunları doğru hesapladığımızı kontrol edelim\n",
    "    \n",
    "    print(\"dx:\", dx)\n",
    "    print(\"dy:\", dy)\n",
    "    "
   ]
  },
  {
   "cell_type": "code",
   "execution_count": 4,
   "metadata": {},
   "outputs": [
    {
     "name": "stdout",
     "output_type": "stream",
     "text": [
      "dx: 3\n",
      "dy: 4\n"
     ]
    }
   ],
   "source": [
    "uzaklik(1, 6, 4, 10)"
   ]
  },
  {
   "cell_type": "markdown",
   "metadata": {},
   "source": [
    "Geliştirmeye devam:"
   ]
  },
  {
   "cell_type": "code",
   "execution_count": 7,
   "metadata": {},
   "outputs": [],
   "source": [
    "def uzaklik(x1, y1, x2, y2):\n",
    "    \n",
    "    # önce x'ler arasındaki farkı hesapla\n",
    "    dx = x2 - x1\n",
    "    \n",
    "    # sonra y'ler arasındaki farkı hesapla\n",
    "    dy = y2 - y1\n",
    "    \n",
    "    # <----- DEBUG ----->\n",
    "    # daha fazla devam etmeden bunları doğru hesapladığımızı kontrol edelim\n",
    "    \n",
    "    # print(\"dx:\", dx)\n",
    "    # print(\"dy:\", dy)\n",
    "    \n",
    "    # karelerin toplamını hesapla\n",
    "    kareler_toplami = dx**2 + dy**2\n",
    "    \n",
    "    # <----- DEBUG ----->\n",
    "    print(\"kareler toplamı: :\", kareler_toplami)\n",
    "    "
   ]
  },
  {
   "cell_type": "code",
   "execution_count": 8,
   "metadata": {},
   "outputs": [
    {
     "name": "stdout",
     "output_type": "stream",
     "text": [
      "kareler toplamı: : 25\n"
     ]
    }
   ],
   "source": [
    "uzaklik(1, 6, 4, 10)"
   ]
  },
  {
   "cell_type": "code",
   "execution_count": 9,
   "metadata": {},
   "outputs": [
    {
     "name": "stdout",
     "output_type": "stream",
     "text": [
      "kareler toplamı: : 289\n"
     ]
    }
   ],
   "source": [
    "uzaklik(2, 6, 10, 21)"
   ]
  },
  {
   "cell_type": "markdown",
   "metadata": {},
   "source": [
    "Geliştirmeye devam:"
   ]
  },
  {
   "cell_type": "markdown",
   "metadata": {},
   "source": [
    "**TDD (Test Driven Development)**: Her adımı test ederek ilerleme."
   ]
  },
  {
   "cell_type": "code",
   "execution_count": 1,
   "metadata": {},
   "outputs": [],
   "source": [
    "import math\n",
    "\n",
    "def uzaklik(x1, y1, x2, y2):\n",
    "    \n",
    "    # önce x'ler arasındaki farkı hesapla\n",
    "    dx = x2 - x1\n",
    "    \n",
    "    # sonra y'ler arasındaki farkı hesapla\n",
    "    dy = y2 - y1\n",
    "    \n",
    "    # <----- DEBUG ----->\n",
    "    # daha fazla devam etmeden bunları doğru hesapladığımızı kontrol edelim\n",
    "    \n",
    "    # print(\"dx:\", dx)\n",
    "    # print(\"dy:\", dy)\n",
    "    \n",
    "    # karelerin toplamını hesapla\n",
    "    kareler_toplami = dx**2 + dy**2\n",
    "    \n",
    "    # <----- DEBUG ----->\n",
    "    # print(\"kareler toplamı: :\", kareler_toplami)\n",
    "    \n",
    "    return math.sqrt(kareler_toplami)\n",
    "    "
   ]
  },
  {
   "cell_type": "code",
   "execution_count": 11,
   "metadata": {},
   "outputs": [
    {
     "data": {
      "text/plain": [
       "5.0"
      ]
     },
     "execution_count": 11,
     "metadata": {},
     "output_type": "execute_result"
    }
   ],
   "source": [
    "uzaklik(1, 6, 4, 10)"
   ]
  },
  {
   "cell_type": "code",
   "execution_count": 12,
   "metadata": {},
   "outputs": [
    {
     "data": {
      "text/plain": [
       "17.0"
      ]
     },
     "execution_count": 12,
     "metadata": {},
     "output_type": "execute_result"
    }
   ],
   "source": [
    "uzaklik(2, 6, 10, 21)"
   ]
  },
  {
   "cell_type": "markdown",
   "metadata": {},
   "source": [
    "### Kompozisyon - Fonksiyonların Beraber Kullanımı"
   ]
  },
  {
   "cell_type": "markdown",
   "metadata": {},
   "source": [
    "**Fonksiyonel Programlama**\n",
    "\n",
    "Yapılacak işleri küçük parçalara bölmek, ve onları kendi fonksiyonlarına vermek."
   ]
  },
  {
   "cell_type": "markdown",
   "metadata": {},
   "source": [
    "Ör: Diyelim ki elimizde iki nokta var. \n",
    "\n",
    "Bu iki noktayı birleştiren doğru parçasını yarıçap kabul edelim.\n",
    "\n",
    "Bu yarıçapa sahip dairenin alanını hesaplayalım."
   ]
  },
  {
   "cell_type": "markdown",
   "metadata": {},
   "source": [
    "Bu işleri tek fonksiyon içinde yapmak yerine, zaten bu alt işlemler için uzmanlaşmış fonksiyonları çağırabiliriz."
   ]
  },
  {
   "cell_type": "code",
   "execution_count": 4,
   "metadata": {},
   "outputs": [],
   "source": [
    "def iki_noktadan_gecen_daire_alani(x1, y1, x2, y2):\n",
    "    \"\"\"\n",
    "    Yarıçapı verilen iki nokta arası olan bir dairenin alanını hesaplar.\n",
    "    Parametreler:\n",
    "        * x1: int, birinci noktanın x koordinatı\n",
    "        * y1: int, birinci noktanın y koordinatı\n",
    "        * x2: int, ikinci noktanın x koordinatı\n",
    "        * x2: int, ikinci noktanın y koordinatı\n",
    "    Dönüş: dairenin alanı (int)\n",
    "    \"\"\"\n",
    "    \n",
    "    # yarıçapı hesaplayalım\n",
    "    r = uzaklik(x1, y1, x2, y2)\n",
    "    print(\"r:\", r)\n",
    "    \n",
    "    # alanı hesapla\n",
    "    a = alan(r)\n",
    "    print(\"alan:\", a)\n",
    "    \n",
    "    return a    \n",
    "    "
   ]
  },
  {
   "cell_type": "code",
   "execution_count": 5,
   "metadata": {},
   "outputs": [
    {
     "name": "stdout",
     "output_type": "stream",
     "text": [
      "r: 5.0\n",
      "alan: 78.53981633974483\n"
     ]
    },
    {
     "data": {
      "text/plain": [
       "78.53981633974483"
      ]
     },
     "execution_count": 5,
     "metadata": {},
     "output_type": "execute_result"
    }
   ],
   "source": [
    "iki_noktadan_gecen_daire_alani(1, 6, 4, 10)"
   ]
  },
  {
   "cell_type": "markdown",
   "metadata": {},
   "source": [
    "**Bool Fonksiyonlar**:\n",
    "\n",
    "Çoğu zaman bir karar verirken doğru yada yanlış olduğunu bilmemiz gerekir.\n",
    "\n",
    "İşte bize bu durum içi doğru mu yoksa yanlış mı, sonucunu veren fonksiyonlar tanımalarız.\n",
    "\n",
    "Bu tür fonksiyonlara bool fonksiyonlar denir.\n",
    "\n",
    "True ya da False döner."
   ]
  },
  {
   "cell_type": "code",
   "execution_count": 6,
   "metadata": {},
   "outputs": [],
   "source": [
    "# Sayı tek mi çift mi -> x % 2 == 0 : çift\n",
    "\n",
    "# Çift mi fonksiyonu\n",
    "def cift_mi(x):\n",
    "    return x % 2 == 0\n",
    "\n",
    "# Tek mi fonksiyonu\n",
    "def tek_mi(x):\n",
    "    return x % 2 == 1\n"
   ]
  },
  {
   "cell_type": "code",
   "execution_count": 7,
   "metadata": {},
   "outputs": [
    {
     "data": {
      "text/plain": [
       "True"
      ]
     },
     "execution_count": 7,
     "metadata": {},
     "output_type": "execute_result"
    }
   ],
   "source": [
    "tek_mi(11)"
   ]
  },
  {
   "cell_type": "code",
   "execution_count": 8,
   "metadata": {},
   "outputs": [
    {
     "data": {
      "text/plain": [
       "False"
      ]
     },
     "execution_count": 8,
     "metadata": {},
     "output_type": "execute_result"
    }
   ],
   "source": [
    "cift_mi(7)"
   ]
  },
  {
   "cell_type": "code",
   "execution_count": 9,
   "metadata": {},
   "outputs": [
    {
     "data": {
      "text/plain": [
       "True"
      ]
     },
     "execution_count": 9,
     "metadata": {},
     "output_type": "execute_result"
    }
   ],
   "source": [
    "cift_mi(4)"
   ]
  },
  {
   "cell_type": "markdown",
   "metadata": {},
   "source": [
    "### Fonksiyonlar 1. Sınıf Vatandaştır"
   ]
  },
  {
   "cell_type": "markdown",
   "metadata": {},
   "source": [
    "Python'da Fonksiyonlar 1. Sınıf Vatandaştır."
   ]
  },
  {
   "cell_type": "markdown",
   "metadata": {},
   "source": [
    "Yani, Fonksiyonlar da Değişkenler gibi,\n",
    "\n",
    "* atanabilirler\n",
    "* parametre olarak geçilebilir\n",
    "* yeniden değer atanabilir"
   ]
  },
  {
   "cell_type": "code",
   "execution_count": 10,
   "metadata": {},
   "outputs": [],
   "source": [
    "def kup(num):\n",
    "    out = num**3\n",
    "    return out\n",
    "    "
   ]
  },
  {
   "cell_type": "code",
   "execution_count": 11,
   "metadata": {},
   "outputs": [
    {
     "data": {
      "text/plain": [
       "125"
      ]
     },
     "execution_count": 11,
     "metadata": {},
     "output_type": "execute_result"
    }
   ],
   "source": [
    "kup(5)"
   ]
  },
  {
   "cell_type": "code",
   "execution_count": 12,
   "metadata": {},
   "outputs": [],
   "source": [
    "# Şimdi yukarıdaki fonksiyonumuzu bir değişkene atayalım\n",
    "\n",
    "q = kup"
   ]
  },
  {
   "cell_type": "code",
   "execution_count": 13,
   "metadata": {},
   "outputs": [
    {
     "data": {
      "text/plain": [
       "function"
      ]
     },
     "execution_count": 13,
     "metadata": {},
     "output_type": "execute_result"
    }
   ],
   "source": [
    "# şimdi q'nun tipini görelim\n",
    "\n",
    "type(q)"
   ]
  },
  {
   "cell_type": "code",
   "execution_count": 14,
   "metadata": {},
   "outputs": [
    {
     "data": {
      "text/plain": [
       "125"
      ]
     },
     "execution_count": 14,
     "metadata": {},
     "output_type": "execute_result"
    }
   ],
   "source": [
    "# şimdi q'yu çağıralım\n",
    "\n",
    "q(5)"
   ]
  },
  {
   "cell_type": "markdown",
   "metadata": {},
   "source": [
    "q da çağrılınca, birebir kup fonksiyonu ile aynı şeyi yaptı.\n",
    "\n",
    "Çünkü, zaten q, kup fonksiyonu demektir.\n",
    "\n",
    "Sadece yeni bir ad verdik fonksiyona.\n",
    "\n",
    "Buna **alising** yani **yeniden adlandırma** denir."
   ]
  },
  {
   "cell_type": "code",
   "execution_count": 21,
   "metadata": {},
   "outputs": [],
   "source": [
    "def selamla(metin):\n",
    "    print(metin)\n",
    "    "
   ]
  },
  {
   "cell_type": "code",
   "execution_count": 22,
   "metadata": {},
   "outputs": [
    {
     "name": "stdout",
     "output_type": "stream",
     "text": [
      "Selam Sana Python\n"
     ]
    }
   ],
   "source": [
    "selamla(\"Selam Sana Python\")"
   ]
  },
  {
   "cell_type": "code",
   "execution_count": 23,
   "metadata": {},
   "outputs": [
    {
     "name": "stdout",
     "output_type": "stream",
     "text": [
      "Merhaba Dünya\n"
     ]
    }
   ],
   "source": [
    "selamla(\"Merhaba Dünya\")"
   ]
  },
  {
   "cell_type": "code",
   "execution_count": 24,
   "metadata": {},
   "outputs": [],
   "source": [
    "hello = selamla"
   ]
  },
  {
   "cell_type": "code",
   "execution_count": 25,
   "metadata": {},
   "outputs": [
    {
     "name": "stdout",
     "output_type": "stream",
     "text": [
      "Hello World\n"
     ]
    }
   ],
   "source": [
    "hello(\"Hello World\")"
   ]
  },
  {
   "cell_type": "code",
   "execution_count": 26,
   "metadata": {},
   "outputs": [
    {
     "name": "stdout",
     "output_type": "stream",
     "text": [
      "Hi there\n"
     ]
    }
   ],
   "source": [
    "hello(\"Hi there\")"
   ]
  },
  {
   "cell_type": "markdown",
   "metadata": {},
   "source": [
    "### Parametre sayısı önceden bilinmiyorsa: *args"
   ]
  },
  {
   "cell_type": "markdown",
   "metadata": {},
   "source": [
    "Bazen, bir fonksiyonun hangi argumanları (parametreleri) alacağı önceden bilinmez.\n",
    "\n",
    "Bu durumda, `*args` şeklinde parametre alır."
   ]
  },
  {
   "cell_type": "code",
   "execution_count": 28,
   "metadata": {},
   "outputs": [],
   "source": [
    "# Parametre sayısı önceden bilinmeyen fonksiyon\n",
    "# *args\n",
    "\n",
    "# jenerik toplama fonksiyonu\n",
    "def toplam(*args):\n",
    "    \n",
    "    print(\"args:\", args)\n"
   ]
  },
  {
   "cell_type": "code",
   "execution_count": 29,
   "metadata": {},
   "outputs": [
    {
     "name": "stdout",
     "output_type": "stream",
     "text": [
      "args: (5, 8)\n"
     ]
    }
   ],
   "source": [
    "toplam(5, 8)"
   ]
  },
  {
   "cell_type": "code",
   "execution_count": 30,
   "metadata": {},
   "outputs": [
    {
     "name": "stdout",
     "output_type": "stream",
     "text": [
      "args: (5, 8, 48, 17, 3)\n"
     ]
    }
   ],
   "source": [
    "toplam(5, 8, 48, 17, 3)"
   ]
  },
  {
   "cell_type": "code",
   "execution_count": 31,
   "metadata": {},
   "outputs": [],
   "source": [
    "# jenerik toplama fonksiyonu\n",
    "def toplam(*args):\n",
    "    \n",
    "    # print(\"args:\", args)\n",
    "    return sum(args)\n",
    "    "
   ]
  },
  {
   "cell_type": "code",
   "execution_count": 32,
   "metadata": {},
   "outputs": [
    {
     "data": {
      "text/plain": [
       "13"
      ]
     },
     "execution_count": 32,
     "metadata": {},
     "output_type": "execute_result"
    }
   ],
   "source": [
    "toplam(5, 8)"
   ]
  },
  {
   "cell_type": "code",
   "execution_count": 33,
   "metadata": {},
   "outputs": [
    {
     "data": {
      "text/plain": [
       "81"
      ]
     },
     "execution_count": 33,
     "metadata": {},
     "output_type": "execute_result"
    }
   ],
   "source": [
    "toplam(5, 8, 48, 17, 3)"
   ]
  },
  {
   "cell_type": "code",
   "execution_count": 34,
   "metadata": {},
   "outputs": [],
   "source": [
    "def parametreleri_yaz(*args):\n",
    "    \n",
    "    for a in args:\n",
    "        print(a)\n",
    "    "
   ]
  },
  {
   "cell_type": "code",
   "execution_count": 35,
   "metadata": {},
   "outputs": [
    {
     "name": "stdout",
     "output_type": "stream",
     "text": [
      "A\n",
      "B\n",
      "45\n",
      "True\n",
      "Python\n"
     ]
    }
   ],
   "source": [
    "parametreleri_yaz(\"A\", \"B\", 45, True, \"Python\")"
   ]
  },
  {
   "cell_type": "code",
   "execution_count": 36,
   "metadata": {},
   "outputs": [
    {
     "name": "stdout",
     "output_type": "stream",
     "text": [
      "Kitap\n",
      "metin\n",
      "45555\n",
      "True\n",
      "Python\n"
     ]
    }
   ],
   "source": [
    "parametreleri_yaz(\"Kitap\", \"metin\", 45555, True, \"Python\")"
   ]
  },
  {
   "cell_type": "markdown",
   "metadata": {},
   "source": [
    "### Lambda Fonksiyonu : lambda"
   ]
  },
  {
   "cell_type": "markdown",
   "metadata": {},
   "source": [
    "Bazen, bir fonksiyonu isim vermeden direk kullanmak isteyebiliriz.\n",
    "\n",
    "Bunun için `lambda` anahtar kelimesi kullanılır.\n",
    "\n",
    "**lambda** fonksiyonu (lambda expression) **tek satır fonksiyonu** olarak da bilinir."
   ]
  },
  {
   "cell_type": "code",
   "execution_count": 37,
   "metadata": {},
   "outputs": [
    {
     "data": {
      "text/plain": [
       "['Selam', 'sana', 'Kartal', 'Gözü']"
      ]
     },
     "execution_count": 37,
     "metadata": {},
     "output_type": "execute_result"
    }
   ],
   "source": [
    "metin = \"Selam sana Kartal Gözü\"\n",
    "metin.split()"
   ]
  },
  {
   "cell_type": "code",
   "execution_count": 38,
   "metadata": {},
   "outputs": [],
   "source": [
    "# Şimdi bir lambda fonksiyon ile split() fonksiynonunu kullanalım\n",
    "\n",
    "# def metni_parcala(metin):\n",
    "#     ....\n",
    "\n",
    "metni_parcala = lambda x: x.split()\n"
   ]
  },
  {
   "cell_type": "code",
   "execution_count": 39,
   "metadata": {},
   "outputs": [
    {
     "data": {
      "text/plain": [
       "['Selam', 'sana', 'Kartal', 'Gözü']"
      ]
     },
     "execution_count": 39,
     "metadata": {},
     "output_type": "execute_result"
    }
   ],
   "source": [
    "metni_parcala(metin)"
   ]
  },
  {
   "cell_type": "code",
   "execution_count": 40,
   "metadata": {},
   "outputs": [
    {
     "data": {
      "text/plain": [
       "['Python', 'Deep', 'Learning']"
      ]
     },
     "execution_count": 40,
     "metadata": {},
     "output_type": "execute_result"
    }
   ],
   "source": [
    "metni_parcala(\"Python Deep Learning\")"
   ]
  },
  {
   "cell_type": "code",
   "execution_count": 41,
   "metadata": {},
   "outputs": [],
   "source": [
    "# Çarpma yapan bir lambda fonksiyonu tanımlayalım\n",
    "\n",
    "multiply = lambda x, y: x * y"
   ]
  },
  {
   "cell_type": "code",
   "execution_count": 42,
   "metadata": {},
   "outputs": [
    {
     "data": {
      "text/plain": [
       "32"
      ]
     },
     "execution_count": 42,
     "metadata": {},
     "output_type": "execute_result"
    }
   ],
   "source": [
    "multiply(4, 8)"
   ]
  },
  {
   "cell_type": "code",
   "execution_count": 43,
   "metadata": {},
   "outputs": [
    {
     "data": {
      "text/plain": [
       "60"
      ]
     },
     "execution_count": 43,
     "metadata": {},
     "output_type": "execute_result"
    }
   ],
   "source": [
    "multiply(10, 6)"
   ]
  },
  {
   "cell_type": "code",
   "execution_count": 44,
   "metadata": {},
   "outputs": [],
   "source": [
    "# Üstel hesaplama yapan bir lambda fonksiyon\n",
    "\n",
    "ustel = lambda sayi, ust: sayi**ust"
   ]
  },
  {
   "cell_type": "code",
   "execution_count": 45,
   "metadata": {},
   "outputs": [
    {
     "data": {
      "text/plain": [
       "32"
      ]
     },
     "execution_count": 45,
     "metadata": {},
     "output_type": "execute_result"
    }
   ],
   "source": [
    "ustel(2, 5)"
   ]
  },
  {
   "cell_type": "code",
   "execution_count": 46,
   "metadata": {},
   "outputs": [
    {
     "data": {
      "text/plain": [
       "64"
      ]
     },
     "execution_count": 46,
     "metadata": {},
     "output_type": "execute_result"
    }
   ],
   "source": [
    "ustel(4, 3)"
   ]
  },
  {
   "cell_type": "markdown",
   "metadata": {},
   "source": [
    "### Fonksiyon Dönen Fonksiyon"
   ]
  },
  {
   "cell_type": "code",
   "execution_count": 47,
   "metadata": {},
   "outputs": [],
   "source": [
    "def katini_al(n):\n",
    "    \"\"\"\n",
    "    Jenerik çarpma fonksiyonu.\n",
    "    Parametreler: n (int)\n",
    "    Return: lambda a: a * n şeklinde bir lambda fonksiyon\n",
    "    \"\"\"\n",
    "    \n",
    "    return lambda a: a * n\n",
    "    "
   ]
  },
  {
   "cell_type": "code",
   "execution_count": 48,
   "metadata": {},
   "outputs": [],
   "source": [
    "ikili_katlar = katini_al(2)"
   ]
  },
  {
   "cell_type": "code",
   "execution_count": 49,
   "metadata": {},
   "outputs": [
    {
     "data": {
      "text/plain": [
       "function"
      ]
     },
     "execution_count": 49,
     "metadata": {},
     "output_type": "execute_result"
    }
   ],
   "source": [
    "type(ikili_katlar)"
   ]
  },
  {
   "cell_type": "code",
   "execution_count": 50,
   "metadata": {},
   "outputs": [
    {
     "data": {
      "text/plain": [
       "30"
      ]
     },
     "execution_count": 50,
     "metadata": {},
     "output_type": "execute_result"
    }
   ],
   "source": [
    "ikili_katlar(15)"
   ]
  },
  {
   "cell_type": "code",
   "execution_count": 51,
   "metadata": {},
   "outputs": [
    {
     "data": {
      "text/plain": [
       "18"
      ]
     },
     "execution_count": 51,
     "metadata": {},
     "output_type": "execute_result"
    }
   ],
   "source": [
    "ikili_katlar(9)"
   ]
  },
  {
   "cell_type": "code",
   "execution_count": 52,
   "metadata": {},
   "outputs": [],
   "source": [
    "uclu_katlar = katini_al(3)"
   ]
  },
  {
   "cell_type": "code",
   "execution_count": 53,
   "metadata": {},
   "outputs": [
    {
     "data": {
      "text/plain": [
       "function"
      ]
     },
     "execution_count": 53,
     "metadata": {},
     "output_type": "execute_result"
    }
   ],
   "source": [
    "type(uclu_katlar)"
   ]
  },
  {
   "cell_type": "code",
   "execution_count": 54,
   "metadata": {},
   "outputs": [
    {
     "data": {
      "text/plain": [
       "24"
      ]
     },
     "execution_count": 54,
     "metadata": {},
     "output_type": "execute_result"
    }
   ],
   "source": [
    "uclu_katlar(8)"
   ]
  },
  {
   "cell_type": "code",
   "execution_count": 55,
   "metadata": {},
   "outputs": [
    {
     "data": {
      "text/plain": [
       "\u001b[1;31mSignature:\u001b[0m \u001b[0muclu_katlar\u001b[0m\u001b[1;33m(\u001b[0m\u001b[0ma\u001b[0m\u001b[1;33m)\u001b[0m\u001b[1;33m\u001b[0m\u001b[1;33m\u001b[0m\u001b[0m\n",
       "\u001b[1;31mDocstring:\u001b[0m <no docstring>\n",
       "\u001b[1;31mSource:\u001b[0m        \u001b[1;32mreturn\u001b[0m \u001b[1;32mlambda\u001b[0m \u001b[0ma\u001b[0m\u001b[1;33m:\u001b[0m \u001b[0ma\u001b[0m \u001b[1;33m*\u001b[0m \u001b[0mn\u001b[0m\u001b[1;33m\u001b[0m\u001b[1;33m\u001b[0m\u001b[0m\n",
       "\u001b[1;31mFile:\u001b[0m      c:\\users\\musaa\\desktop\\python\\icerik\\9_fonksiyonlar_ii\\<ipython-input-47-b021747f9c88>\n",
       "\u001b[1;31mType:\u001b[0m      function\n"
      ]
     },
     "metadata": {},
     "output_type": "display_data"
    }
   ],
   "source": [
    "uclu_katlar??"
   ]
  },
  {
   "cell_type": "code",
   "execution_count": 56,
   "metadata": {},
   "outputs": [
    {
     "data": {
      "text/plain": [
       "\u001b[1;31mSignature:\u001b[0m \u001b[0mikili_katlar\u001b[0m\u001b[1;33m(\u001b[0m\u001b[0ma\u001b[0m\u001b[1;33m)\u001b[0m\u001b[1;33m\u001b[0m\u001b[1;33m\u001b[0m\u001b[0m\n",
       "\u001b[1;31mDocstring:\u001b[0m <no docstring>\n",
       "\u001b[1;31mSource:\u001b[0m        \u001b[1;32mreturn\u001b[0m \u001b[1;32mlambda\u001b[0m \u001b[0ma\u001b[0m\u001b[1;33m:\u001b[0m \u001b[0ma\u001b[0m \u001b[1;33m*\u001b[0m \u001b[0mn\u001b[0m\u001b[1;33m\u001b[0m\u001b[1;33m\u001b[0m\u001b[0m\n",
       "\u001b[1;31mFile:\u001b[0m      c:\\users\\musaa\\desktop\\python\\icerik\\9_fonksiyonlar_ii\\<ipython-input-47-b021747f9c88>\n",
       "\u001b[1;31mType:\u001b[0m      function\n"
      ]
     },
     "metadata": {},
     "output_type": "display_data"
    }
   ],
   "source": [
    "ikili_katlar??"
   ]
  },
  {
   "cell_type": "code",
   "execution_count": 57,
   "metadata": {},
   "outputs": [],
   "source": [
    "besinci_katlar = katini_al(5)"
   ]
  },
  {
   "cell_type": "code",
   "execution_count": 58,
   "metadata": {},
   "outputs": [
    {
     "data": {
      "text/plain": [
       "\u001b[1;31mSignature:\u001b[0m \u001b[0mbesinci_katlar\u001b[0m\u001b[1;33m(\u001b[0m\u001b[0ma\u001b[0m\u001b[1;33m)\u001b[0m\u001b[1;33m\u001b[0m\u001b[1;33m\u001b[0m\u001b[0m\n",
       "\u001b[1;31mDocstring:\u001b[0m <no docstring>\n",
       "\u001b[1;31mSource:\u001b[0m        \u001b[1;32mreturn\u001b[0m \u001b[1;32mlambda\u001b[0m \u001b[0ma\u001b[0m\u001b[1;33m:\u001b[0m \u001b[0ma\u001b[0m \u001b[1;33m*\u001b[0m \u001b[0mn\u001b[0m\u001b[1;33m\u001b[0m\u001b[1;33m\u001b[0m\u001b[0m\n",
       "\u001b[1;31mFile:\u001b[0m      c:\\users\\musaa\\desktop\\python\\icerik\\9_fonksiyonlar_ii\\<ipython-input-47-b021747f9c88>\n",
       "\u001b[1;31mType:\u001b[0m      function\n"
      ]
     },
     "metadata": {},
     "output_type": "display_data"
    }
   ],
   "source": [
    "besinci_katlar??"
   ]
  },
  {
   "cell_type": "code",
   "execution_count": 59,
   "metadata": {},
   "outputs": [
    {
     "data": {
      "text/plain": [
       "30"
      ]
     },
     "execution_count": 59,
     "metadata": {},
     "output_type": "execute_result"
    }
   ],
   "source": [
    "besinci_katlar(6)"
   ]
  },
  {
   "cell_type": "markdown",
   "metadata": {},
   "source": [
    "### İç İçe Fonskiyonlar - Nested Functions"
   ]
  },
  {
   "cell_type": "markdown",
   "metadata": {},
   "source": [
    "Bazen, bir fonksiyonun içinde başka bir fonksiyon tanımalamanız gerekebilir."
   ]
  },
  {
   "cell_type": "markdown",
   "metadata": {},
   "source": [
    "Buna **Nested Functions** denir. (İç İçe fonksiyonlar)"
   ]
  },
  {
   "cell_type": "markdown",
   "metadata": {},
   "source": [
    "**Örnek:**\n",
    "\n",
    "İç içe fonksiyonlar kullanıp bir sayının 5 ve 8'in ortak katı olup olmadığını bulalım."
   ]
  },
  {
   "cell_type": "code",
   "execution_count": 60,
   "metadata": {},
   "outputs": [],
   "source": [
    " \n",
    "\n",
    "def ortak_kat_mi(n):\n",
    "    \"\"\"\n",
    "    Verilen bir sayının hem 5'in hem de 8'in katı olup olamdığını kontrol eder.\n",
    "    Parametre: n (int)\n",
    "    Return: Eğer sayı hem 5, hem 8'in katı ise True, değilse False\n",
    "    \"\"\"\n",
    "    \n",
    "    # İç Fonksiyon 1: 5'e bölünmeyi kontrol edicek\n",
    "    def besin_kati_mi(n):\n",
    "        if n % 5 == 0:\n",
    "            return True\n",
    "        else:\n",
    "            return False\n",
    "    \n",
    "    \n",
    "    # İç Fonksiyon 2: 8'e bölünmeyi kontrol edicek\n",
    "    def sekizin_kati_mi(n):\n",
    "        if n % 8 == 0:\n",
    "            return True\n",
    "        else:\n",
    "            return False\n",
    "    \n",
    "    \n",
    "    # Hem 5 hem de 8 kontrolüne göre karar ver\n",
    "    if besin_kati_mi(n) and sekizin_kati_mi(n):\n",
    "        return True\n",
    "    else:\n",
    "        return False    \n",
    "    "
   ]
  },
  {
   "cell_type": "code",
   "execution_count": 61,
   "metadata": {},
   "outputs": [
    {
     "data": {
      "text/plain": [
       "False"
      ]
     },
     "execution_count": 61,
     "metadata": {},
     "output_type": "execute_result"
    }
   ],
   "source": [
    "ortak_kat_mi(24)"
   ]
  },
  {
   "cell_type": "code",
   "execution_count": 62,
   "metadata": {},
   "outputs": [
    {
     "data": {
      "text/plain": [
       "True"
      ]
     },
     "execution_count": 62,
     "metadata": {},
     "output_type": "execute_result"
    }
   ],
   "source": [
    "ortak_kat_mi(40)"
   ]
  },
  {
   "cell_type": "code",
   "execution_count": 63,
   "metadata": {},
   "outputs": [
    {
     "data": {
      "text/plain": [
       "True"
      ]
     },
     "execution_count": 63,
     "metadata": {},
     "output_type": "execute_result"
    }
   ],
   "source": [
    "ortak_kat_mi(120)"
   ]
  },
  {
   "cell_type": "code",
   "execution_count": 64,
   "metadata": {},
   "outputs": [
    {
     "data": {
      "text/plain": [
       "False"
      ]
     },
     "execution_count": 64,
     "metadata": {},
     "output_type": "execute_result"
    }
   ],
   "source": [
    "ortak_kat_mi(12)"
   ]
  },
  {
   "cell_type": "markdown",
   "metadata": {},
   "source": [
    "### Değiştirebilir x Değiştirilemez (Mutable vs. Immutable)"
   ]
  },
  {
   "cell_type": "markdown",
   "metadata": {},
   "source": [
    "Python'da herşey bir nesnedir.\n",
    "\n",
    "Ve her nesnenin bir tipi vardır."
   ]
  },
  {
   "cell_type": "markdown",
   "metadata": {},
   "source": [
    "**Immutable**: Bazı tipler atandıkları gibi kalırlar. Yani bir parçası (içinden bir parça) değiştirilemez. (Immutable)\n",
    "\n",
    "**Mutable**: Bazı tiplerin ise bir parçasını değiştirebilirsiniz. (Mutable)"
   ]
  },
  {
   "cell_type": "markdown",
   "metadata": {},
   "source": [
    "Python'un hazır Tipleri ve bunların Mutable x Immutable durumları:\n",
    "\n",
    "* int : integer -> Immutable\n",
    "* float: float -> Immutable\n",
    "* bool: Boolean-> Immutable\n",
    "* str: String -> Immutable\n",
    "* list: List -> Mutable\n",
    "* tuple: Tuple -> Immutable\n",
    "* dict: Dictionary -> Mutable\n",
    "* set: Set -> Mutable"
   ]
  },
  {
   "cell_type": "code",
   "execution_count": 68,
   "metadata": {},
   "outputs": [
    {
     "ename": "TypeError",
     "evalue": "'str' object does not support item assignment",
     "output_type": "error",
     "traceback": [
      "\u001b[1;31m---------------------------------------------------------------------------\u001b[0m",
      "\u001b[1;31mTypeError\u001b[0m                                 Traceback (most recent call last)",
      "\u001b[1;32m<ipython-input-68-2f67c8070bc4>\u001b[0m in \u001b[0;36m<module>\u001b[1;34m\u001b[0m\n\u001b[0;32m      6\u001b[0m \u001b[1;33m\u001b[0m\u001b[0m\n\u001b[0;32m      7\u001b[0m \u001b[1;31m# ilk elemanı yanlış -> düzeltmek istiyorsunuz\u001b[0m\u001b[1;33m\u001b[0m\u001b[1;33m\u001b[0m\u001b[1;33m\u001b[0m\u001b[0m\n\u001b[1;32m----> 8\u001b[1;33m \u001b[0mmetin\u001b[0m\u001b[1;33m[\u001b[0m\u001b[1;36m0\u001b[0m\u001b[1;33m]\u001b[0m \u001b[1;33m=\u001b[0m \u001b[1;34m'K'\u001b[0m\u001b[1;33m\u001b[0m\u001b[1;33m\u001b[0m\u001b[0m\n\u001b[0m",
      "\u001b[1;31mTypeError\u001b[0m: 'str' object does not support item assignment"
     ]
    }
   ],
   "source": [
    "# Örnek:\n",
    "\n",
    "# str (metin) veri tipi Immutable bir tiptir -> bir parçası değişemez\n",
    "\n",
    "metin = 'TALEM'\n",
    "\n",
    "# ilk elemanı yanlış -> düzeltmek istiyorsunuz\n",
    "metin[0] = 'K'"
   ]
  },
  {
   "cell_type": "markdown",
   "metadata": {},
   "source": [
    "**Soru:** Peki bir değiştiremiyorsak, nasıl düzelteceğiz?"
   ]
  },
  {
   "cell_type": "markdown",
   "metadata": {},
   "source": [
    "**Cevap:** Tekrar atayacaksınız."
   ]
  },
  {
   "cell_type": "code",
   "execution_count": 69,
   "metadata": {},
   "outputs": [
    {
     "data": {
      "text/plain": [
       "'KALEM'"
      ]
     },
     "execution_count": 69,
     "metadata": {},
     "output_type": "execute_result"
    }
   ],
   "source": [
    "metin = 'KALEM'\n",
    "metin"
   ]
  },
  {
   "cell_type": "code",
   "execution_count": 70,
   "metadata": {},
   "outputs": [
    {
     "data": {
      "text/plain": [
       "'K'"
      ]
     },
     "execution_count": 70,
     "metadata": {},
     "output_type": "execute_result"
    }
   ],
   "source": [
    "metin[0]"
   ]
  },
  {
   "cell_type": "markdown",
   "metadata": {},
   "source": [
    "**Önemli:** Yeniden atamak Mute (değiştirmek) demek değildir."
   ]
  },
  {
   "cell_type": "code",
   "execution_count": 71,
   "metadata": {},
   "outputs": [
    {
     "data": {
      "text/plain": [
       "'KİTAP'"
      ]
     },
     "execution_count": 71,
     "metadata": {},
     "output_type": "execute_result"
    }
   ],
   "source": [
    "metin = 'KİTAP'\n",
    "metin"
   ]
  },
  {
   "cell_type": "markdown",
   "metadata": {},
   "source": [
    "### Pass by Value, Pass by Reference"
   ]
  },
  {
   "cell_type": "markdown",
   "metadata": {},
   "source": [
    "Immutable ve Mutable yapılarını öğrendiğimize göre, \n",
    "\n",
    "şimdi bu tiplerdeki nesnelerin bir fonksiyona parametre olarak geçtiğinde ne olacağını göreceğiz."
   ]
  },
  {
   "cell_type": "markdown",
   "metadata": {},
   "source": [
    "Ana Kural:\n",
    "\n",
    "**Immutable -> Pass by Value:**\n",
    "* Eğer Immutable bir nesne, bir fonksiyona parametre olarak geçerse,  **sadece kopyası** geçer. Kendisi olduğu yerde hiç değişmeden kalır.\n",
    "    \n",
    "**Mutable -> Pass by Reference:**\n",
    "* Eğer Mutable bir nesne, bir fonksiyona parametre olarak geçerse, **referansı** geçer. Yani bellekteki adresi geçer. Yani, eğer fonksiyon içinde bu değişken değişirse, orjinal değişken değişmiş olur.\n"
   ]
  },
  {
   "cell_type": "code",
   "execution_count": 73,
   "metadata": {},
   "outputs": [
    {
     "name": "stdout",
     "output_type": "stream",
     "text": [
      "Fonksiyona Parametre olarak geçmeden önce: Python\n",
      "Fonksiyona Parametre olarak geçtikten sonra: Python\n"
     ]
    }
   ],
   "source": [
    "# Örnek:\n",
    "\n",
    "# Immutable\n",
    "# str\n",
    "dil = \"Python\"\n",
    "\n",
    "print(\"Fonksiyona Parametre olarak geçmeden önce:\", dil)\n",
    "\n",
    "def degistir(ad):\n",
    "    ad = 'Java'\n",
    "    \n",
    "# fonksiyonu çağıralım ve dil parametremizi verelim\n",
    "degistir(dil)\n",
    "\n",
    "print(\"Fonksiyona Parametre olarak geçtikten sonra:\", dil)\n"
   ]
  },
  {
   "cell_type": "markdown",
   "metadata": {},
   "source": [
    "Bakın Immutable olan `str` tipi, fonksiyona parametre olarak geçti ve değişmeden kaldı.\n",
    "\n",
    "Çünkü str'ler Immutable'dır. Imuutable olan tiplerin kendisi değil, kopyası fonksiyona geçer."
   ]
  },
  {
   "cell_type": "code",
   "execution_count": 74,
   "metadata": {},
   "outputs": [
    {
     "name": "stdout",
     "output_type": "stream",
     "text": [
      "Fonksiyona Parametre olarak geçmeden önce: 45\n",
      "Fonksiyona Parametre olarak geçtikten sonra: 45\n"
     ]
    }
   ],
   "source": [
    "# Örnek:\n",
    "\n",
    "# Immutable \n",
    "# int\n",
    "\n",
    "sayi = 45\n",
    "\n",
    "print(\"Fonksiyona Parametre olarak geçmeden önce:\", sayi)\n",
    "\n",
    "def degistir(sayi):\n",
    "    sayi = 0\n",
    "    \n",
    "# fonksiyonu çağıralım ve dil parametremizi verelim\n",
    "degistir(sayi)\n",
    "\n",
    "print(\"Fonksiyona Parametre olarak geçtikten sonra:\", sayi)\n"
   ]
  },
  {
   "cell_type": "markdown",
   "metadata": {},
   "source": [
    "`int` tipi de Immutable olduğu için, fonksiyona kopyası geçti -> **Pass by Value**"
   ]
  },
  {
   "cell_type": "code",
   "execution_count": 76,
   "metadata": {},
   "outputs": [
    {
     "name": "stdout",
     "output_type": "stream",
     "text": [
      "Fonksiyona Parametre olarak geçmeden önce: [1, 2, 3, 4, 5]\n",
      "Fonksiyona Parametre olarak geçtikten sonra: ['a', 'b', 3, 4, 5]\n"
     ]
    }
   ],
   "source": [
    "# Örnek:\n",
    "\n",
    "# Mutable\n",
    "# list\n",
    "\n",
    "sayilar = [1, 2, 3, 4, 5]\n",
    "\n",
    "print(\"Fonksiyona Parametre olarak geçmeden önce:\", sayilar)\n",
    "\n",
    "def degistir(dizi):\n",
    "    dizi[0] = 'a'\n",
    "    dizi[1] = 'b'\n",
    "    \n",
    "# fonksiyonu çağıralım ve dil parametremizi verelim\n",
    "degistir(sayilar)\n",
    "\n",
    "print(\"Fonksiyona Parametre olarak geçtikten sonra:\", sayilar)\n"
   ]
  },
  {
   "cell_type": "markdown",
   "metadata": {},
   "source": [
    "Bakın, sayilar listesi `list` tipinde olduğu için ve List'ler **Mutable** oldukları için:\n",
    "\n",
    "fonksiyon içindeki değişiklik, orjinal listeyi de değiştirdi: -> **Pass by Reference**"
   ]
  },
  {
   "cell_type": "code",
   "execution_count": null,
   "metadata": {},
   "outputs": [],
   "source": []
  }
 ],
 "metadata": {
  "kernelspec": {
   "display_name": "Python 3",
   "language": "python",
   "name": "python3"
  },
  "language_info": {
   "codemirror_mode": {
    "name": "ipython",
    "version": 3
   },
   "file_extension": ".py",
   "mimetype": "text/x-python",
   "name": "python",
   "nbconvert_exporter": "python",
   "pygments_lexer": "ipython3",
   "version": "3.8.5"
  }
 },
 "nbformat": 4,
 "nbformat_minor": 4
}
