{
 "cells": [
  {
   "cell_type": "markdown",
   "id": "nasty-safety",
   "metadata": {},
   "source": [
    "## [10 Soru] QUIZ - Fonksiyonlar II"
   ]
  },
  {
   "cell_type": "markdown",
   "id": "widespread-proposition",
   "metadata": {},
   "source": [
    "**Soru 1:**\n",
    "\n",
    "Ekrandan girdi okuyan fonksiyonlar yazdık. Şimdi bu girdi okuma işini jenerik bir hale getirelim.<br>\n",
    "Bu fonksiyon, parametre olarak, text türünde bir istek metni alsın ve bu metne göre kullanıcıdan girdi istesin.<br>\n",
    "Sonra aldığı girdiyi bize geri göndersin (dönsün).<br>\n",
    "Son olarak, bu fonksiyonun geriye hangi tipte (type) veri döndüğünü inceleyelim."
   ]
  },
  {
   "cell_type": "code",
   "execution_count": 1,
   "id": "thrown-campus",
   "metadata": {},
   "outputs": [],
   "source": [
    "# Çözüm 1:\n",
    "\n",
    "def girdi_al(metin):\n",
    "    \n",
    "    girdi = input(metin)\n",
    "                                                            \n",
    "    return girdi\n",
    "    "
   ]
  },
  {
   "cell_type": "code",
   "execution_count": 2,
   "id": "settled-knife",
   "metadata": {},
   "outputs": [
    {
     "name": "stdin",
     "output_type": "stream",
     "text": [
      "Lütfen bir tamsayı giriniz: 12\n"
     ]
    },
    {
     "name": "stdout",
     "output_type": "stream",
     "text": [
      "12\n"
     ]
    }
   ],
   "source": [
    "# Şimdi tam sayı isteyen bir girdi alalım\n",
    "\n",
    "sayi = girdi_al(\"Lütfen bir tamsayı giriniz:\")\n",
    "print(sayi)"
   ]
  },
  {
   "cell_type": "code",
   "execution_count": 3,
   "id": "rising-carbon",
   "metadata": {},
   "outputs": [
    {
     "name": "stdin",
     "output_type": "stream",
     "text": [
      "Lütfen bir ay adı giriniz. Mayıs\n"
     ]
    }
   ],
   "source": [
    "# Şimdi ay adını isteyen bir girdi alalım\n",
    "\n",
    "ay = girdi_al(\"Lütfen bir ay adı giriniz.\")"
   ]
  },
  {
   "cell_type": "code",
   "execution_count": 4,
   "id": "sensitive-agency",
   "metadata": {},
   "outputs": [
    {
     "name": "stdout",
     "output_type": "stream",
     "text": [
      "Mayıs\n"
     ]
    }
   ],
   "source": [
    "# Eğer aldığımız değeri yazıdırırsak\n",
    "print(ay)"
   ]
  },
  {
   "cell_type": "code",
   "execution_count": 5,
   "id": "automated-filing",
   "metadata": {},
   "outputs": [
    {
     "data": {
      "text/plain": [
       "str"
      ]
     },
     "execution_count": 5,
     "metadata": {},
     "output_type": "execute_result"
    }
   ],
   "source": [
    "# Son olarak, girdi_al fonksiyonun bize net tipte veri döndüğünü görelim\n",
    "\n",
    "type(ay)"
   ]
  },
  {
   "cell_type": "markdown",
   "id": "mechanical-store",
   "metadata": {},
   "source": [
    "---"
   ]
  },
  {
   "cell_type": "markdown",
   "id": "cloudy-pantyhose",
   "metadata": {},
   "source": [
    "**Soru 2:**\n",
    "\n",
    "Soru 1'de yazdığımız jenerik girdi fonksiyonun bize sürekli metin `(str)` döndüğünü biliyoruz.<br>\n",
    "Ama tamsayı istediğimiz durumlar da oldu. <br>\n",
    "Şimdi yeni bir fonksiyon yazalım.<br>\n",
    "Bu yeni fonksiyon, girdi_al fonksiyonun bize döndüğü değer üzerinden tam sayı olup olmadığını kontrol etsin ve bize tamsayı ise True değilse False dönsün."
   ]
  },
  {
   "cell_type": "code",
   "execution_count": 6,
   "id": "recovered-regulation",
   "metadata": {},
   "outputs": [],
   "source": [
    "# Çözüm 2:\n",
    "\n",
    "def tamsayi_mi(girdi):\n",
    "    \n",
    "    girdi = girdi.strip()\n",
    "    \n",
    "    girdi = girdi.strip('+-')\n",
    "    \n",
    "    if girdi.isdigit():\n",
    "        return True\n",
    "    else:\n",
    "        return False\n"
   ]
  },
  {
   "cell_type": "code",
   "execution_count": 7,
   "id": "amazing-bedroom",
   "metadata": {},
   "outputs": [
    {
     "name": "stdin",
     "output_type": "stream",
     "text": [
      "Lütfen bir tamsayı giriniz -8\n"
     ]
    }
   ],
   "source": [
    "# Şimdi tamsayı mı fonksiyonu test edelim\n",
    "\n",
    "# önce bir girdi alalım\n",
    "istek_metni = \"Lütfen bir tamsayı giriniz\"\n",
    "girdi = girdi_al(istek_metni)\n",
    "\n",
    "# girdi tamsayı olup olmadığı karanını alalım\n",
    "girdi_tam_sayi_mi = tamsayi_mi(girdi)"
   ]
  },
  {
   "cell_type": "code",
   "execution_count": 8,
   "id": "small-february",
   "metadata": {},
   "outputs": [
    {
     "data": {
      "text/plain": [
       "True"
      ]
     },
     "execution_count": 8,
     "metadata": {},
     "output_type": "execute_result"
    }
   ],
   "source": [
    "# Bakalım girdi tam sayı mıymış?\n",
    "\n",
    "girdi_tam_sayi_mi"
   ]
  },
  {
   "cell_type": "code",
   "execution_count": 9,
   "id": "immediate-writer",
   "metadata": {},
   "outputs": [
    {
     "name": "stdin",
     "output_type": "stream",
     "text": [
      "lütfen tam sayı giriniz -8\n"
     ]
    },
    {
     "name": "stdout",
     "output_type": "stream",
     "text": [
      "True\n"
     ]
    }
   ],
   "source": [
    "# tek seferde sonu alıp ekrana yazalım\n",
    "print(tamsayi_mi(girdi_al(\"lütfen tam sayı giriniz\")))"
   ]
  },
  {
   "cell_type": "markdown",
   "id": "quarterly-amount",
   "metadata": {},
   "source": [
    "---"
   ]
  },
  {
   "cell_type": "markdown",
   "id": "surrounded-feature",
   "metadata": {},
   "source": [
    "**Soru 3:**\n",
    "\n",
    "Şoru 1 ve Soru 2'deki fonksiyonları kullanarak kullanıcıdan tamsayı alalım. Ve bu sayıyı dönelim.<br>\n",
    "Soru 2 bize tamsayı almayı garantiler. <br>\n",
    "Kullanıcı tamsayı girmemişse tekrar tekrar (recursive) soralım."
   ]
  },
  {
   "cell_type": "code",
   "execution_count": 10,
   "id": "offshore-sacrifice",
   "metadata": {},
   "outputs": [],
   "source": [
    "# Çözüm 3:\n",
    "\n",
    "def tamsayi_al(metin):\n",
    "    \n",
    "    girdi = girdi_al(metin)\n",
    "    \n",
    "    if tamsayi_mi(girdi):\n",
    "        return int(girdi)\n",
    "    \n",
    "    else:\n",
    "        return tamsayi_al(metin)\n",
    "       \n",
    "    \n",
    "    "
   ]
  },
  {
   "cell_type": "code",
   "execution_count": 11,
   "id": "insured-triumph",
   "metadata": {},
   "outputs": [
    {
     "name": "stdin",
     "output_type": "stream",
     "text": [
      "tam sayı giriniz sdf\n",
      "tam sayı giriniz df\n",
      "tam sayı giriniz se\n",
      "tam sayı giriniz -22222\n"
     ]
    },
    {
     "name": "stdout",
     "output_type": "stream",
     "text": [
      "-22222\n"
     ]
    }
   ],
   "source": [
    "sayi = tamsayi_al(\"tam sayı giriniz\")\n",
    "print(sayi)"
   ]
  },
  {
   "cell_type": "code",
   "execution_count": 12,
   "id": "million-target",
   "metadata": {},
   "outputs": [
    {
     "name": "stdin",
     "output_type": "stream",
     "text": [
      "tam sayı giriniz ccsa\n",
      "tam sayı giriniz vcx\n",
      "tam sayı giriniz 23f\n",
      "tam sayı giriniz 78\n"
     ]
    },
    {
     "data": {
      "text/plain": [
       "78"
      ]
     },
     "execution_count": 12,
     "metadata": {},
     "output_type": "execute_result"
    }
   ],
   "source": [
    "tamsayi_al(\"tam sayı giriniz\")"
   ]
  },
  {
   "cell_type": "markdown",
   "id": "oriented-diving",
   "metadata": {},
   "source": [
    "---"
   ]
  },
  {
   "cell_type": "markdown",
   "id": "insured-position",
   "metadata": {},
   "source": [
    "**Soru 4:**\n",
    "\n",
    "Kullanıcıdan 1-7 arasında bir gün numarası alıp, bu numaranın hangi gün değerine ait olduğunu dönen bir fonksiyon yazalım."
   ]
  },
  {
   "cell_type": "code",
   "execution_count": 78,
   "id": "dying-estonia",
   "metadata": {},
   "outputs": [],
   "source": [
    "# Çözüm 4:\n",
    "\n",
    "\n"
   ]
  },
  {
   "cell_type": "code",
   "execution_count": 83,
   "id": "infinite-grant",
   "metadata": {},
   "outputs": [
    {
     "name": "stdin",
     "output_type": "stream",
     "text": [
      "lütfen gün numarası giriniz. (1-7 arasında) 6\n"
     ]
    },
    {
     "data": {
      "text/plain": [
       "'Cumartesi'"
      ]
     },
     "execution_count": 83,
     "metadata": {},
     "output_type": "execute_result"
    }
   ],
   "source": [
    "# Artık fonksiyonel programlamanın faydalarını görebiliriz.\n",
    "# yapmamız gereken tek şey bir fonksiyon çağırmak\n",
    "# iş parçaları kendi fonksiyonlarında yapılıyor olacak\n",
    "\n",
    "haftanin_gunu()"
   ]
  },
  {
   "cell_type": "markdown",
   "id": "banned-petersburg",
   "metadata": {},
   "source": [
    "---"
   ]
  },
  {
   "cell_type": "markdown",
   "id": "czech-possession",
   "metadata": {},
   "source": [
    "**Soru 5:**\n",
    "\n",
    "Aşağıdaki fonksiyonları yazınız. Ve bu fonksiyonların işleme sırasını inceleyeniz. Python'un kod işleme sırasını anladığınızdan emin olunuz. (**Stack Trace** etmek)\n",
    "\n",
    "<pre>\n",
    "def n(c):\n",
    "    ustu = m(c, c)\n",
    "    print(c, ustu)\n",
    "    return ustu\n",
    "        \n",
    "def m(x, y):\n",
    "    x = x + 2\n",
    "    return x**y\n",
    "\n",
    "def p(x, y, z):\n",
    "    toplam = x + y + z\n",
    "    kare = n(toplam)**2\n",
    "    return kare\n",
    "\n",
    "a = 1\n",
    "b = a + 1\n",
    "print(p(a, b+1, a+b)) \n",
    "</pre>\n"
   ]
  },
  {
   "cell_type": "code",
   "execution_count": 92,
   "id": "former-current",
   "metadata": {},
   "outputs": [
    {
     "name": "stdout",
     "output_type": "stream",
     "text": [
      "7 4782969\n",
      "22876792454961\n"
     ]
    }
   ],
   "source": [
    "# Çözüm 5:\n",
    "\n"
   ]
  },
  {
   "cell_type": "markdown",
   "id": "welcome-weapon",
   "metadata": {},
   "source": [
    "**Stack Trace:**\n",
    "* ........"
   ]
  },
  {
   "cell_type": "markdown",
   "id": "combined-hughes",
   "metadata": {},
   "source": [
    "----"
   ]
  },
  {
   "cell_type": "markdown",
   "id": "comparable-viewer",
   "metadata": {},
   "source": [
    "**Soru 6:**\n",
    "\n",
    "Adı `aritmetik_ortalama` olan bir fonksiyon tanımlayın. <br>\n",
    "Bu fonksiyon değişken uzunlukta parametre alıyor alsın. <br>\n",
    "Yani parametre sayısı önceden belli değil. <br>\n",
    "Fonksiyonunuz aldığı bu parametrelerin aritmetik ortalamasını ekrana yazsın. <br>\n",
    "* Aritmetik Ortalama = Toplam / Eleman Sayısı"
   ]
  },
  {
   "cell_type": "code",
   "execution_count": 5,
   "id": "cross-louis",
   "metadata": {},
   "outputs": [],
   "source": [
    "# Çözüm 6:\n",
    "\n"
   ]
  },
  {
   "cell_type": "code",
   "execution_count": 9,
   "id": "possible-butler",
   "metadata": {},
   "outputs": [
    {
     "name": "stdout",
     "output_type": "stream",
     "text": [
      "6.0\n"
     ]
    }
   ],
   "source": [
    "ortalama = aritmetik_ortalama(2, 5, 11)\n",
    "print(ortalama)"
   ]
  },
  {
   "cell_type": "code",
   "execution_count": 10,
   "id": "after-notion",
   "metadata": {},
   "outputs": [
    {
     "data": {
      "text/plain": [
       "30.0"
      ]
     },
     "execution_count": 10,
     "metadata": {},
     "output_type": "execute_result"
    }
   ],
   "source": [
    "aritmetik_ortalama(10, 30, 60, 20)"
   ]
  },
  {
   "cell_type": "markdown",
   "id": "acoustic-directive",
   "metadata": {},
   "source": [
    "---"
   ]
  },
  {
   "cell_type": "markdown",
   "id": "general-trial",
   "metadata": {},
   "source": [
    "**Soru 7:**\n",
    "\n",
    "Dairenin alanını hesaplayan bir fonksiyon yazınız. Parametre olarak yarıçap alsın ve tüm fonksiyon tek satır olsun.\n",
    "\n",
    "$ Daire Alanı = \\pi * r^2$"
   ]
  },
  {
   "cell_type": "code",
   "execution_count": 24,
   "id": "reasonable-florida",
   "metadata": {},
   "outputs": [],
   "source": [
    "# Çözüm 7:\n",
    "\n"
   ]
  },
  {
   "cell_type": "code",
   "execution_count": 25,
   "id": "proprietary-fraud",
   "metadata": {},
   "outputs": [
    {
     "data": {
      "text/plain": [
       "314.1592653589793"
      ]
     },
     "execution_count": 25,
     "metadata": {},
     "output_type": "execute_result"
    }
   ],
   "source": [
    "daire_alani(10)"
   ]
  },
  {
   "cell_type": "markdown",
   "id": "southwest-exhibition",
   "metadata": {},
   "source": [
    "---"
   ]
  },
  {
   "cell_type": "markdown",
   "id": "optimum-affect",
   "metadata": {},
   "source": [
    "**Soru 8:**\n",
    "\n",
    "Çemberin çevresini hesaplayan bir fonksiyon yazınız. Parametre olarak yarıçap alsın ve tüm fonksiyon tek satır olsun.\n",
    "\n",
    "$ Çember Çevresi = 2 * \\pi * r$"
   ]
  },
  {
   "cell_type": "code",
   "execution_count": 26,
   "id": "synthetic-command",
   "metadata": {},
   "outputs": [],
   "source": [
    "# Çözüm 8:\n",
    "\n"
   ]
  },
  {
   "cell_type": "code",
   "execution_count": 27,
   "id": "conditional-color",
   "metadata": {},
   "outputs": [
    {
     "data": {
      "text/plain": [
       "62.83185307179586"
      ]
     },
     "execution_count": 27,
     "metadata": {},
     "output_type": "execute_result"
    }
   ],
   "source": [
    "cember_cevresi(10)"
   ]
  },
  {
   "cell_type": "markdown",
   "id": "thirty-estimate",
   "metadata": {},
   "source": [
    "---"
   ]
  },
  {
   "cell_type": "markdown",
   "id": "rising-watson",
   "metadata": {},
   "source": [
    "**Soru 9:**\n",
    "\n",
    "Dikdörtgenin alanını hesaplayan bir fonksiyon yazınız. Parametre olarak kısa (a) ve uzun kenarı (b) alsın ve tüm fonksiyon tek satır olsun.\n",
    "\n",
    "$ Dikdörtgen Alanı = a * b$"
   ]
  },
  {
   "cell_type": "code",
   "execution_count": 32,
   "id": "comparable-reservoir",
   "metadata": {},
   "outputs": [],
   "source": [
    "# Çözüm 9:\n",
    "\n"
   ]
  },
  {
   "cell_type": "code",
   "execution_count": 33,
   "id": "southeast-reply",
   "metadata": {},
   "outputs": [
    {
     "data": {
      "text/plain": [
       "60"
      ]
     },
     "execution_count": 33,
     "metadata": {},
     "output_type": "execute_result"
    }
   ],
   "source": [
    "dikdortgen_alani(5, 12)"
   ]
  },
  {
   "cell_type": "markdown",
   "id": "educated-parts",
   "metadata": {},
   "source": [
    "---"
   ]
  },
  {
   "cell_type": "markdown",
   "id": "federal-portrait",
   "metadata": {},
   "source": [
    "**Soru 10:**\n",
    "\n",
    "Silindirin yüzey alanını hesaplayan bir fonksiyon yazın. <br>\n",
    "Bu fonksiyon parametre olarak silindirin taban yarıçapını (r) ve yüksekliğini alsın. <br>\n",
    "* Silindir, üstünde ve altında daire olan, yan yüzeyi ise açılınca diktörtgen olan bir şekildir.\n",
    "* Alanları hesaplarken her işi yapan ayrı fonksiyonları kullanın"
   ]
  },
  {
   "cell_type": "code",
   "execution_count": 29,
   "id": "hired-cleanup",
   "metadata": {},
   "outputs": [],
   "source": [
    "# Çözüm 10:\n",
    "\n",
    "\n"
   ]
  },
  {
   "cell_type": "code",
   "execution_count": 30,
   "id": "stuffed-egypt",
   "metadata": {},
   "outputs": [
    {
     "data": {
      "text/plain": [
       "753.9822368615504"
      ]
     },
     "execution_count": 30,
     "metadata": {},
     "output_type": "execute_result"
    }
   ],
   "source": [
    "silindir_alani(10, 2)"
   ]
  }
 ],
 "metadata": {
  "kernelspec": {
   "display_name": "Python 3 (ipykernel)",
   "language": "python",
   "name": "python3"
  },
  "language_info": {
   "codemirror_mode": {
    "name": "ipython",
    "version": 3
   },
   "file_extension": ".py",
   "mimetype": "text/x-python",
   "name": "python",
   "nbconvert_exporter": "python",
   "pygments_lexer": "ipython3",
   "version": "3.9.12"
  }
 },
 "nbformat": 4,
 "nbformat_minor": 5
}
