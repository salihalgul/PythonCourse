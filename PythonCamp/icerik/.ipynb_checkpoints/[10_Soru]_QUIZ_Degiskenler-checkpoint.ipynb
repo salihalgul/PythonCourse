{
 "cells": [
  {
   "cell_type": "markdown",
   "id": "cross-writer",
   "metadata": {},
   "source": [
    "## [10 Soru] QUIZ - Değişkenler"
   ]
  },
  {
   "cell_type": "markdown",
   "id": "geographic-funeral",
   "metadata": {},
   "source": [
    "#### Genel Syntax"
   ]
  },
  {
   "cell_type": "markdown",
   "id": "willing-start",
   "metadata": {},
   "source": [
    "**Soru 1:**\n",
    "\n",
    "Ekrana \"Hello Python\" yazmak için noktalı yeri doldurun:\n",
    "\n",
    ".....(\"Hello World!\")"
   ]
  },
  {
   "cell_type": "code",
   "execution_count": 30,
   "id": "distinguished-huntington",
   "metadata": {},
   "outputs": [
    {
     "name": "stdout",
     "output_type": "stream",
     "text": [
      "Hello Python\n"
     ]
    }
   ],
   "source": [
    "# Çözüm 1:\n",
    "\n",
    "print(\"Hello Python\")"
   ]
  },
  {
   "cell_type": "markdown",
   "id": "differential-violin",
   "metadata": {},
   "source": [
    "**Soru 2:**\n",
    "Aşağıdaki kodda yeralan yazım hatasını düzeltin.\n",
    "\n",
    "<pre>\n",
    "print(\"5 2'den büyüktür.')\n",
    "</pre>"
   ]
  },
  {
   "cell_type": "code",
   "execution_count": 4,
   "id": "numerical-regard",
   "metadata": {},
   "outputs": [
    {
     "name": "stdout",
     "output_type": "stream",
     "text": [
      "5 2'den büyüktür.\n"
     ]
    }
   ],
   "source": [
    "# Çözüm 2:\n",
    "\n",
    "print(\"5 2'den büyüktür.\")"
   ]
  },
  {
   "cell_type": "markdown",
   "id": "formal-butterfly",
   "metadata": {},
   "source": [
    "---"
   ]
  },
  {
   "cell_type": "markdown",
   "id": "beautiful-credit",
   "metadata": {},
   "source": [
    "**Soru 3:**\n",
    "\n",
    "Aşağıdaki satırı yorum satırı yapınız\n",
    "\n",
    "Bu bir yorum satırıdır."
   ]
  },
  {
   "cell_type": "code",
   "execution_count": 5,
   "id": "realistic-phenomenon",
   "metadata": {},
   "outputs": [],
   "source": [
    "# Çözüm 3:\n",
    "\n",
    "# Bu bir yorum satırıdır."
   ]
  },
  {
   "cell_type": "markdown",
   "id": "attended-potato",
   "metadata": {},
   "source": [
    "---"
   ]
  },
  {
   "cell_type": "markdown",
   "id": "retired-particular",
   "metadata": {},
   "source": [
    "**Soru 4:**\n",
    "Çok satır yorum özelliğini kullanıp aşağıdaki satırları yorum satırı yapın\n",
    "\n",
    "<pre>\n",
    "Bu yorum satırı\n",
    "Çok satırlıdır\n",
    "Sadece bir satır yorum değil...\n",
    "</pre>"
   ]
  },
  {
   "cell_type": "code",
   "execution_count": 31,
   "id": "modular-excuse",
   "metadata": {},
   "outputs": [
    {
     "data": {
      "text/plain": [
       "'\\nBu yorum satırı\\nÇok satırlıdır\\nSadece bir satır yorum değil...\\n'"
      ]
     },
     "execution_count": 31,
     "metadata": {},
     "output_type": "execute_result"
    }
   ],
   "source": [
    "# Çözüm 4:\n",
    "\"\"\"\n",
    "Bu yorum satırı\n",
    "Çok satırlıdır\n",
    "Sadece bir satır yorum değil...\n",
    "\"\"\"\n"
   ]
  },
  {
   "cell_type": "markdown",
   "id": "standard-bishop",
   "metadata": {},
   "source": [
    "---"
   ]
  },
  {
   "cell_type": "markdown",
   "id": "derived-future",
   "metadata": {},
   "source": [
    "**Soru 5:**\n",
    "\n",
    "Aşağıdaki metni gösterildiği formatta ekrana basan bir program yazın.\n",
    "\n",
    "<pre>\n",
    "Dünya bizim bugünümüz,\n",
    "    Dünyamızı balina yutmasın,\n",
    "        Hep yerinde kalsın dünyamız.\n",
    "</pre>"
   ]
  },
  {
   "cell_type": "code",
   "execution_count": 19,
   "id": "applied-transcription",
   "metadata": {},
   "outputs": [
    {
     "name": "stdout",
     "output_type": "stream",
     "text": [
      "  Dünya bizim bugünümüz,\n",
      "      Dünyamızı balina yutmasın,\n",
      "          Hep yerinde kalsın dünyamız.\n"
     ]
    }
   ],
   "source": [
    "# Çözüm 5:\n",
    "print('  Dünya bizim bugünümüz,'  '\\n      Dünyamızı balina yutmasın,'  '\\n          Hep yerinde kalsın dünyamız.')\n",
    "\n",
    "# 1. Yol\n",
    "# \"\"\"\n",
    "# Dünya bizim bugünümüz,\n",
    "#     Dünyamızı balina yutmasın,\n",
    "#         Hep yerinde kalsın dünyamız.\n",
    "# \"\"\"\n",
    "\n",
    "# 2. Yol\n",
    "print(\"Dünya bizim bugünümüz,\")\n",
    "print('    Dünyamızı balina yutmasın,')\n",
    "print('        Hep yerinde kalsın dünyamız.')\n"
   ]
  },
  {
   "cell_type": "markdown",
   "id": "offshore-craft",
   "metadata": {},
   "source": [
    "---"
   ]
  },
  {
   "cell_type": "markdown",
   "id": "reported-poetry",
   "metadata": {},
   "source": [
    "#### Python Değişkenler"
   ]
  },
  {
   "cell_type": "markdown",
   "id": "parallel-seafood",
   "metadata": {},
   "source": [
    "**Soru 1:**\n",
    "\n",
    "İsmi araba_markasi olan bir değişken yaratın ve bu değişkene Volvo değerini atayın."
   ]
  },
  {
   "cell_type": "code",
   "execution_count": 32,
   "id": "sticky-andrew",
   "metadata": {},
   "outputs": [
    {
     "data": {
      "text/plain": [
       "'Volvo'"
      ]
     },
     "execution_count": 32,
     "metadata": {},
     "output_type": "execute_result"
    }
   ],
   "source": [
    "# Çözüm 1:\n",
    "\n",
    "araba_markasi = \"Volvo\"\n",
    "araba_markasi"
   ]
  },
  {
   "cell_type": "markdown",
   "id": "taken-least",
   "metadata": {},
   "source": [
    "---"
   ]
  },
  {
   "cell_type": "markdown",
   "id": "flexible-queue",
   "metadata": {},
   "source": [
    "**Soru 2:**\n",
    "\n",
    "x adında bir değişken yaratın ve değerini 50 olarak atayın."
   ]
  },
  {
   "cell_type": "code",
   "execution_count": 36,
   "id": "vocational-clock",
   "metadata": {},
   "outputs": [
    {
     "name": "stdout",
     "output_type": "stream",
     "text": [
      "50\n"
     ]
    }
   ],
   "source": [
    "# Çözüm 2:\n",
    "\n",
    "x = 50\n",
    "print(x)"
   ]
  },
  {
   "cell_type": "markdown",
   "id": "academic-chrome",
   "metadata": {},
   "source": [
    "---"
   ]
  },
  {
   "cell_type": "markdown",
   "id": "correct-limitation",
   "metadata": {},
   "source": [
    "**Soru 3:**\n",
    "\n",
    "x ve y adında iki değişken yaratın ve değerlerini 20 ve 80 olarak atayın.\n",
    "\n",
    "z adında bir değişken yaratın, değerini x + y olarak atayın ve ekrana gösterin.\n",
    "\n",
    "<pre>\n",
    "x = 20\n",
    "y = 80\n",
    "\n",
    "... = x + y\n",
    "print(...)\n",
    "</pre>"
   ]
  },
  {
   "cell_type": "code",
   "execution_count": 24,
   "id": "dominant-arnold",
   "metadata": {},
   "outputs": [
    {
     "name": "stdout",
     "output_type": "stream",
     "text": [
      "100\n"
     ]
    }
   ],
   "source": [
    "# Çözüm 3:\n",
    "\n",
    "x = 20\n",
    "y = 80\n",
    "z = x + y\n",
    "print(z)"
   ]
  },
  {
   "cell_type": "markdown",
   "id": "flying-armor",
   "metadata": {},
   "source": [
    "---"
   ]
  },
  {
   "cell_type": "markdown",
   "id": "descending-phoenix",
   "metadata": {},
   "source": [
    "**Soru 4:**\n",
    "\n",
    "Değişken adından, kullanılması yasak olan karakterleri çıkarın.\n",
    "\n",
    "**2benim-ilk_değişkenim = \"Yapay Zeka\"**"
   ]
  },
  {
   "cell_type": "code",
   "execution_count": 25,
   "id": "approved-member",
   "metadata": {},
   "outputs": [
    {
     "name": "stdout",
     "output_type": "stream",
     "text": [
      "Yapay Zeka\n"
     ]
    }
   ],
   "source": [
    "# Çözüm 4:\n",
    "\n",
    "benim_ilk_degiskenim = \"Yapay Zeka\"\n",
    "print(benim_ilk_degiskenim)"
   ]
  },
  {
   "cell_type": "markdown",
   "id": "optional-converter",
   "metadata": {},
   "source": [
    "---"
   ]
  },
  {
   "cell_type": "markdown",
   "id": "nearby-disorder",
   "metadata": {},
   "source": [
    "**Soru 5:**\n",
    "\n",
    "Üç değişkene aynı değeri tek seferde atamak için aşağıdaki boşlukları doldurun.\n",
    "\n",
    "x ... y ... z = \"Portakal\""
   ]
  },
  {
   "cell_type": "code",
   "execution_count": 39,
   "id": "obvious-humanitarian",
   "metadata": {},
   "outputs": [
    {
     "ename": "SyntaxError",
     "evalue": "cannot assign to operator (1672525593.py, line 3)",
     "output_type": "error",
     "traceback": [
      "\u001b[1;36m  Input \u001b[1;32mIn [39]\u001b[1;36m\u001b[0m\n\u001b[1;33m    x*2 = y*0.5 = z = \"Portakal\"\u001b[0m\n\u001b[1;37m    ^\u001b[0m\n\u001b[1;31mSyntaxError\u001b[0m\u001b[1;31m:\u001b[0m cannot assign to operator\n"
     ]
    }
   ],
   "source": [
    "# Çözüm 5:\n",
    "\n",
    "x = y = z = \"Portakal\"\n",
    "\n",
    "print(x)\n",
    "print(y)\n",
    "print(z)"
   ]
  },
  {
   "cell_type": "code",
   "execution_count": null,
   "id": "0c823f9d-6e8e-49ee-bf5a-7a2633b5d79e",
   "metadata": {},
   "outputs": [],
   "source": []
  }
 ],
 "metadata": {
  "kernelspec": {
   "display_name": "Python 3 (ipykernel)",
   "language": "python",
   "name": "python3"
  },
  "language_info": {
   "codemirror_mode": {
    "name": "ipython",
    "version": 3
   },
   "file_extension": ".py",
   "mimetype": "text/x-python",
   "name": "python",
   "nbconvert_exporter": "python",
   "pygments_lexer": "ipython3",
   "version": "3.9.12"
  }
 },
 "nbformat": 4,
 "nbformat_minor": 5
}
