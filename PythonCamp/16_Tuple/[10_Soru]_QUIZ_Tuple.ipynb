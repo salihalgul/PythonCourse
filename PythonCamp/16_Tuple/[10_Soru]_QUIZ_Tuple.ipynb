{
 "cells": [
  {
   "cell_type": "markdown",
   "id": "overhead-jimmy",
   "metadata": {},
   "source": [
    "## [10 Soru] QUIZ - Tuple"
   ]
  },
  {
   "cell_type": "markdown",
   "id": "dutch-buddy",
   "metadata": {},
   "source": [
    "**Soru 1:**\n",
    "\n",
    "Aşağıdaki şekilde bir fonksiyon yazın. Adı **tuple_yarat** olsun. <br>\n",
    "Fonksiyonumuz önce içinde 1'den 10'a kadar değerlerin olduğu bir Tuple yaratsın. <br>\n",
    "Ardından bu Tuple'a 11'den 20'ye kadar olan sayıları eklesin ve Tuple'ın son halini dönsün.\n",
    "\n",
    "**İpuçları:**\n",
    "* Tuple'lar Immutable'dır. O Tuple'a nasıl yeni eleman eklenir?\n",
    "* for döngüsü ve `range()` kullanın\n",
    "\n",
    "<pre style=\"background: gold;\">\n",
    "Sonuc: (1, 2, 3, 4, 5, 6, 7, 8, 9, 10, 11, 12, 13, 14, 15, 16, 17, 18, 19, 20)\n",
    "</pre>"
   ]
  },
  {
   "cell_type": "code",
   "execution_count": 3,
   "id": "turkish-humidity",
   "metadata": {},
   "outputs": [],
   "source": [
    "# Çözüm 1:\n",
    "\n"
   ]
  },
  {
   "cell_type": "code",
   "execution_count": 4,
   "id": "listed-driver",
   "metadata": {},
   "outputs": [
    {
     "name": "stdout",
     "output_type": "stream",
     "text": [
      "(1, 2, 3, 4, 5, 6, 7, 8, 9, 10, 11, 12, 13, 14, 15, 16, 17, 18, 19, 20)\n"
     ]
    }
   ],
   "source": [
    "t = tuple_yarat()\n",
    "\n",
    "print(t)"
   ]
  },
  {
   "cell_type": "markdown",
   "id": "third-chorus",
   "metadata": {},
   "source": [
    "---"
   ]
  },
  {
   "cell_type": "markdown",
   "id": "lightweight-sight",
   "metadata": {},
   "source": [
    "**Soru 2:**\n",
    "\n",
    "Parametre olarak verilen bir Tuple'ı String'e dönüştüren ve bu String'i geri dönen bir fonksiyon yazın. <br>\n",
    "Adı **tuple_to_string** olsun.\n",
    "\n",
    "**İpuçları:**\n",
    "* `join()`\n",
    "\n",
    "<pre style=\"background: gold;\">\n",
    "Parametre:\n",
    "t = ('Y', 'a', 'p', 'a', 'y', ' ', 'Z', 'e', 'k', 'a')\n",
    "\n",
    "Sonuc: Yapay Zeka\n",
    "</pre>"
   ]
  },
  {
   "cell_type": "code",
   "execution_count": 18,
   "id": "worse-passing",
   "metadata": {},
   "outputs": [],
   "source": [
    "# Çözüm 2:\n",
    "\n"
   ]
  },
  {
   "cell_type": "code",
   "execution_count": 21,
   "id": "ranking-spank",
   "metadata": {},
   "outputs": [
    {
     "name": "stdout",
     "output_type": "stream",
     "text": [
      "Yapay Zeka\n"
     ]
    }
   ],
   "source": [
    "t = ('Y', 'a', 'p', 'a', 'y', ' ', 'Z', 'e', 'k', 'a')\n",
    "\n",
    "t = tuple_to_string(t)\n",
    "\n",
    "print(t)"
   ]
  },
  {
   "cell_type": "markdown",
   "id": "substantial-bolivia",
   "metadata": {},
   "source": [
    "---"
   ]
  },
  {
   "cell_type": "markdown",
   "id": "southeast-matter",
   "metadata": {},
   "source": [
    "**Soru 3:**\n",
    "\n",
    "Parametre olarak verilen bir String'i önce List'e sonra da bu List'i Tuple'a dönnüştüren bir fonksiyon yazın. <br>\n",
    "Adı **string_to_list_to_tuple** olsun ve Tuple'ı geri dönsün.\n",
    "\n",
    "**İpuçları:**\n",
    "* sadece `constructor` metodlarını kullanın\n",
    "    * list()\n",
    "    * tuple()\n",
    "    \n",
    "<pre style=\"background: gold;\">\n",
    "Parametre:\n",
    "python_babasi = 'Guido van Rossum'\n",
    "\n",
    "Sonuc: ('G', 'u', 'i', 'd', 'o', ' ', 'v', 'a', 'n', ' ', 'R', 'o', 's', 's', 'u', 'm')\n",
    "</pre>"
   ]
  },
  {
   "cell_type": "code",
   "execution_count": 26,
   "id": "improved-insulation",
   "metadata": {},
   "outputs": [],
   "source": [
    "# Çözüm 3:\n",
    "\n"
   ]
  },
  {
   "cell_type": "code",
   "execution_count": 30,
   "id": "electronic-seafood",
   "metadata": {},
   "outputs": [
    {
     "name": "stdout",
     "output_type": "stream",
     "text": [
      "('G', 'u', 'i', 'd', 'o', ' ', 'v', 'a', 'n', ' ', 'R', 'o', 's', 's', 'u', 'm')\n"
     ]
    }
   ],
   "source": [
    "python_babasi = 'Guido van Rossum'\n",
    "baba_tuple = string_to_list_to_tuple(python_babasi)\n",
    "print(baba_tuple)"
   ]
  },
  {
   "cell_type": "markdown",
   "id": "previous-weather",
   "metadata": {},
   "source": [
    "---"
   ]
  },
  {
   "cell_type": "markdown",
   "id": "satisfied-borough",
   "metadata": {},
   "source": [
    "**Soru 4:**\n",
    "\n",
    "Parametre olarak bir Tuple ve bir index alan bir fonksiyon yazın. <br>\n",
    "Fonksiyon, verilen index'te yer alan elemanın tüm Tuple içinde kaç sefer yer aldığını bize dönsün. Adı **kac_kere_geciyor** olsun.\n",
    "\n",
    "**İpuçları:**\n",
    "* count()\n",
    "\n",
    "<pre style=\"background: gold;\">\n",
    "Parametreler:\n",
    "t = (5, 2, 3, 3, 4, 2, 1, 3, 4, 5, 2, 1, 2)\n",
    "i = 1\n",
    "\n",
    "kac_kere_geciyor(t, i)\n",
    "\n",
    "Sonuc: 4\n",
    "</pre>"
   ]
  },
  {
   "cell_type": "code",
   "execution_count": 50,
   "id": "impressed-british",
   "metadata": {},
   "outputs": [],
   "source": [
    "# Çözüm 4:\n",
    "\n"
   ]
  },
  {
   "cell_type": "code",
   "execution_count": 51,
   "id": "golden-receiver",
   "metadata": {},
   "outputs": [
    {
     "name": "stdout",
     "output_type": "stream",
     "text": [
      "4\n"
     ]
    }
   ],
   "source": [
    "t = (5, 2, 3, 3, 4, 2, 1, 3, 4, 5, 2, 1, 2)\n",
    "i = 1\n",
    "adet = kac_kere_geciyor(t, i)\n",
    "print(adet)"
   ]
  },
  {
   "cell_type": "code",
   "execution_count": 52,
   "id": "emotional-ribbon",
   "metadata": {},
   "outputs": [
    {
     "name": "stdout",
     "output_type": "stream",
     "text": [
      "2\n"
     ]
    }
   ],
   "source": [
    "metin = ('G', 'u', 'i', 'd', 'o', ' ', 'v', 'a', 'n', ' ', 'R', 'o', 's', 's', 'u', 'm')\n",
    "ind = 4\n",
    "adet = kac_kere_geciyor(metin, ind)\n",
    "print(adet)"
   ]
  },
  {
   "cell_type": "markdown",
   "id": "collective-treasurer",
   "metadata": {},
   "source": [
    "---"
   ]
  },
  {
   "cell_type": "markdown",
   "id": "stuck-thirty",
   "metadata": {},
   "source": [
    "**Soru 5:**\n",
    "\n",
    "Tuple üzerinde dilimleme işlemleri daha önce String ve List'lerde gördüğümüz gibidir.\n",
    "\n",
    "Elimizde şu şekilde bir Tuple olsun:\n",
    "\n",
    "<pre> tup = ('a', 'b', 'c', 'd', 'e', 'f', 'g', 'h', 'i', 'j') </pre>\n",
    "\n",
    "Aşağıdaki sorulara slicing yani dilimleme ile (index bazlı) cevap veriniz:\n",
    "1. 4'cü eleman (dahil) ile 7'ci eleman (dahil) arasını bulun\n",
    "2. İlk 5 elemanı bulun\n",
    "3. 6'cı elemandan (dahil) sonrasını bulun\n",
    "4. Tüm elemanları bulun\n",
    "5. Sondan 2. elemanı bulun\n",
    "6. Son 4 elemanı bulun\n",
    "7. 2'ci elemandan başlayıp, 8'ci elemana kadar 2'şer atlayarak yazın\n",
    "8. Tüm elemanları 3'er atlayarak yazın\n",
    "9. 9'uncu elemandan, 3'cü elemana (hariç) kadar tersten yazın\n",
    "10. tup'u tersten yazın\n",
    "11. tup'u tersten 2'şer atlayarak yazın\n",
    "12. Son elemana (hariç) kadar olan tüm elemanlarını ters index ile alınız"
   ]
  },
  {
   "cell_type": "code",
   "execution_count": 62,
   "id": "equivalent-engine",
   "metadata": {},
   "outputs": [
    {
     "data": {
      "text/plain": [
       "('a', 'b', 'c', 'd', 'e', 'f', 'g', 'h', 'i', 'j')"
      ]
     },
     "execution_count": 62,
     "metadata": {},
     "output_type": "execute_result"
    }
   ],
   "source": [
    "# Çözüm:\n",
    "\n",
    "tup = ('a', 'b', 'c', 'd', 'e', 'f', 'g', 'h', 'i', 'j') \n",
    "tup\n",
    "# Her soru kendi hücresi içinde cevaplandı "
   ]
  },
  {
   "cell_type": "code",
   "execution_count": 64,
   "id": "killing-bahrain",
   "metadata": {},
   "outputs": [
    {
     "data": {
      "text/plain": [
       "('d', 'e', 'f', 'g')"
      ]
     },
     "execution_count": 64,
     "metadata": {},
     "output_type": "execute_result"
    }
   ],
   "source": [
    "# 1. 4'cü eleman (dahil) ile 7'ci eleman (dahil) arasını bulun\n",
    "# 4. eleman -> index 3 demektir (index 0 dan başlar)\n",
    "# 7. eleman dahil olduğuna göre son 7 olacak (son dahil değildir dilimlemede)\n",
    "\n"
   ]
  },
  {
   "cell_type": "code",
   "execution_count": 65,
   "id": "mounted-mixer",
   "metadata": {},
   "outputs": [
    {
     "data": {
      "text/plain": [
       "('a', 'b', 'c', 'd', 'e')"
      ]
     },
     "execution_count": 65,
     "metadata": {},
     "output_type": "execute_result"
    }
   ],
   "source": [
    "# 2. İlk 5 elemanı bulun\n",
    "\n"
   ]
  },
  {
   "cell_type": "code",
   "execution_count": 67,
   "id": "incorrect-council",
   "metadata": {},
   "outputs": [
    {
     "data": {
      "text/plain": [
       "('f', 'g', 'h', 'i', 'j')"
      ]
     },
     "execution_count": 67,
     "metadata": {},
     "output_type": "execute_result"
    }
   ],
   "source": [
    "# 3. 6'cı elemandan (dahil) sonrasını bulun\n",
    "\n"
   ]
  },
  {
   "cell_type": "code",
   "execution_count": 68,
   "id": "analyzed-malawi",
   "metadata": {},
   "outputs": [
    {
     "data": {
      "text/plain": [
       "('a', 'b', 'c', 'd', 'e', 'f', 'g', 'h', 'i', 'j')"
      ]
     },
     "execution_count": 68,
     "metadata": {},
     "output_type": "execute_result"
    }
   ],
   "source": [
    "# 4. Tüm elemanları bulun\n",
    "\n"
   ]
  },
  {
   "cell_type": "code",
   "execution_count": 69,
   "id": "martial-avatar",
   "metadata": {},
   "outputs": [
    {
     "data": {
      "text/plain": [
       "'i'"
      ]
     },
     "execution_count": 69,
     "metadata": {},
     "output_type": "execute_result"
    }
   ],
   "source": [
    "# 5. Sondan 2. elemanı bulun\n",
    "\n"
   ]
  },
  {
   "cell_type": "code",
   "execution_count": 70,
   "id": "intellectual-engineer",
   "metadata": {},
   "outputs": [
    {
     "data": {
      "text/plain": [
       "('g', 'h', 'i', 'j')"
      ]
     },
     "execution_count": 70,
     "metadata": {},
     "output_type": "execute_result"
    }
   ],
   "source": [
    "# 6. Son 4 elemanı bulun\n",
    "\n"
   ]
  },
  {
   "cell_type": "code",
   "execution_count": 71,
   "id": "quantitative-characteristic",
   "metadata": {},
   "outputs": [
    {
     "data": {
      "text/plain": [
       "('b', 'd', 'f', 'h')"
      ]
     },
     "execution_count": 71,
     "metadata": {},
     "output_type": "execute_result"
    }
   ],
   "source": [
    "# 7. 2'ci elemandan başlayıp, 8'ci elemana kadar 2'şer atlayarak yazın\n",
    "\n"
   ]
  },
  {
   "cell_type": "code",
   "execution_count": 72,
   "id": "empirical-exercise",
   "metadata": {},
   "outputs": [
    {
     "data": {
      "text/plain": [
       "('a', 'd', 'g', 'j')"
      ]
     },
     "execution_count": 72,
     "metadata": {},
     "output_type": "execute_result"
    }
   ],
   "source": [
    "# 8. Tüm elemanları 3'er atlayarak yazın\n",
    "\n"
   ]
  },
  {
   "cell_type": "code",
   "execution_count": 75,
   "id": "tropical-surname",
   "metadata": {},
   "outputs": [
    {
     "data": {
      "text/plain": [
       "('i', 'h', 'g', 'f', 'e', 'd')"
      ]
     },
     "execution_count": 75,
     "metadata": {},
     "output_type": "execute_result"
    }
   ],
   "source": [
    "# 9. 9'uncu elemandan, 3'cü elemana (hariç) kadar tersten yazın\n",
    "\n"
   ]
  },
  {
   "cell_type": "code",
   "execution_count": 76,
   "id": "higher-medicare",
   "metadata": {},
   "outputs": [
    {
     "data": {
      "text/plain": [
       "('j', 'i', 'h', 'g', 'f', 'e', 'd', 'c', 'b', 'a')"
      ]
     },
     "execution_count": 76,
     "metadata": {},
     "output_type": "execute_result"
    }
   ],
   "source": [
    "# 10. tup'u tersten yazın\n",
    "\n"
   ]
  },
  {
   "cell_type": "code",
   "execution_count": 77,
   "id": "sufficient-ladder",
   "metadata": {},
   "outputs": [
    {
     "data": {
      "text/plain": [
       "('j', 'h', 'f', 'd', 'b')"
      ]
     },
     "execution_count": 77,
     "metadata": {},
     "output_type": "execute_result"
    }
   ],
   "source": [
    "# 11. tup'u tersten 2'şer atlayarak yazın\n",
    "\n"
   ]
  },
  {
   "cell_type": "code",
   "execution_count": 89,
   "id": "cultural-printing",
   "metadata": {},
   "outputs": [
    {
     "data": {
      "text/plain": [
       "('a', 'b', 'c', 'd', 'e', 'f', 'g', 'h', 'i')"
      ]
     },
     "execution_count": 89,
     "metadata": {},
     "output_type": "execute_result"
    }
   ],
   "source": [
    "# 12. Son elemana (hariç) kadar olan tüm elemanlarını ters index ile alınız\n",
    "\n"
   ]
  },
  {
   "cell_type": "markdown",
   "id": "immediate-operation",
   "metadata": {},
   "source": [
    "---"
   ]
  },
  {
   "cell_type": "markdown",
   "id": "adjustable-married",
   "metadata": {},
   "source": [
    "**Soru 6:**\n",
    "\n",
    "Parametre olarak bir liste alan bir fonksiyon yazın. Fonksiyonun adı, **tuple_sonunu_degistir** olsun. <br>\n",
    "Bu listenin elemanları birer Tuple olsun. <br>\n",
    "Her bir tuple farklı uzunlukta olabilir. Dolayısı ile Listenin elemanlarının uzunlukları sabit değil. <br>\n",
    "Yazacağınız fonksiyon, Liste içindeki her bir Tuple elamanının son üyesini silsin, yerine karesini yazsın.\n",
    "\n",
    "**İpuçları:**\n",
    "* Liste yerinde değişsin, yani parametre olarak gelen orjinal liste değişsin\n",
    "* Tuple'ın son elemanını index ile nasıl alacağınızı düşünün\n",
    "* Listenin içinde for ile dönerken, döngüdeki elemanı değiştirseniz de liste değişmez.\n",
    "* Listeyi değiştirmenin bir yolunu bulmalısınız (enumerate())\n",
    "* Tuple birleştirmeye dikkat ediniz (tek elemanlı bir Tuple nasıl olur?)\n",
    "\n",
    "<pre style=\"background: gold;\">\n",
    "Parametre:\n",
    "tuple_listesi = [(2,5,8), (4,3), (1,7,9,6), (5,)]\n",
    "\n",
    "Sonuc:\n",
    "tuple_listesi = [(2,5,64), (4,9), (1,7,9,36), (25,)]\n",
    "</pre>"
   ]
  },
  {
   "cell_type": "code",
   "execution_count": 99,
   "id": "attractive-interim",
   "metadata": {},
   "outputs": [],
   "source": [
    "# Çözüm 6:\n",
    "\n",
    "\n",
    "    "
   ]
  },
  {
   "cell_type": "code",
   "execution_count": 100,
   "id": "formed-organization",
   "metadata": {},
   "outputs": [
    {
     "name": "stdout",
     "output_type": "stream",
     "text": [
      "Fonksiyondan önce tuple_listesi: [(2, 5, 8), (4, 3), (1, 7, 9, 6), (5,)]\n",
      "Fonksiyondan sonra tuple_listesi: [(2, 5, 64), (4, 9), (1, 7, 9, 36), (25,)]\n"
     ]
    }
   ],
   "source": [
    "tuple_listesi = [(2,5,8), (4,3), (1,7,9,6), (5,)]\n",
    "print('Fonksiyondan önce tuple_listesi:', tuple_listesi)\n",
    "\n",
    "tuple_sonunu_degistir(tuple_listesi)\n",
    "print('Fonksiyondan sonra tuple_listesi:', tuple_listesi)"
   ]
  },
  {
   "cell_type": "markdown",
   "id": "instant-geology",
   "metadata": {},
   "source": [
    "---"
   ]
  },
  {
   "cell_type": "markdown",
   "id": "behavioral-darwin",
   "metadata": {},
   "source": [
    "**Soru 7:**\n",
    "\n",
    "Parametre olarak bir liste alan bir fonksiyon yazın. Fonksiyonun adı, **tuple_karesi_ile_degistir** olsun. <br>\n",
    "Bu listenin elemanları birer Tuple olsun. <br>\n",
    "Her bir tuple farklı uzunlukta olabilir. Dolayısı ile Listenin elemanlarının uzunlukları sabit değil. <br>\n",
    "Yazacağınız fonksiyon, Liste içindeki her bir Tuple elamanının tüm elemanlarının yerine karelerini yazsın.\n",
    "\n",
    "Ve yeni kareli listeyi geri dönsün.\n",
    "\n",
    "**İpuçları:**\n",
    "* Parametre olarak gelen orjinal liste değişmesin\n",
    "* Listenin içinde for ile dönerken, döngüdeki elemanı değiştirseniz de liste değişmez.\n",
    "\n",
    "<pre style=\"background: gold;\">\n",
    "Parametre:\n",
    "tuple_listesi = [(2,5,8), (4,3), (1,7,9,6), (5,)]\n",
    "\n",
    "Sonuc:\n",
    "yeni_tuple_listesi = [(4,25,64), (16,9), (1,49,81,36), (25,)]\n",
    "</pre>"
   ]
  },
  {
   "cell_type": "code",
   "execution_count": 107,
   "id": "brave-breakdown",
   "metadata": {},
   "outputs": [],
   "source": [
    "# Çözüm 7:\n",
    "\n"
   ]
  },
  {
   "cell_type": "code",
   "execution_count": 109,
   "id": "interim-shooting",
   "metadata": {},
   "outputs": [
    {
     "name": "stdout",
     "output_type": "stream",
     "text": [
      "tuple_listesi: [(2, 5, 8), (4, 3), (1, 7, 9, 6), (5,)]\n",
      "yeni_tuple_listesi: [(4, 25, 64), (16, 9), (1, 49, 81, 36), (25,)]\n"
     ]
    }
   ],
   "source": [
    "tuple_listesi = [(2,5,8), (4,3), (1,7,9,6), (5,)]\n",
    "\n",
    "yeni_tuple_listesi = tuple_karesi_ile_degistir(tuple_listesi)\n",
    "\n",
    "print('tuple_listesi:', tuple_listesi)\n",
    "print('yeni_tuple_listesi:', yeni_tuple_listesi)"
   ]
  },
  {
   "cell_type": "markdown",
   "id": "understanding-prize",
   "metadata": {},
   "source": [
    "---"
   ]
  },
  {
   "cell_type": "markdown",
   "id": "shaped-pharmacology",
   "metadata": {},
   "source": [
    "**Soru 8:**\n",
    "\n",
    "Parametre olarak 4 liste alan bir fonksiyon yazın. Adı **oyuncu_film_karakteri_yil** olsun.\n",
    "\n",
    "Gelen 4 liste şu şekilde olacak:\n",
    "* Liste 1 -> Oyuncunun gerçek adı\n",
    "* Liste 2 -> Filmin Adı\n",
    "* Liste 3 -> Filmin Çekildiği Yıl\n",
    "* Liste 4 -> Karakter Adı\n",
    "\n",
    "Fonksiyon bu 4 listedeki, karşılıklı elemanları alacak ve 2'şer elemanlı 2 Tuple haline getirecek. Ve geriye bir Dictionary dönecek.\n",
    "* İlk Tuple -> (Oyuncu Adı, Karakter Adı)\n",
    "* İkinci Tuple -> (Film Adı, Çekim Yılı)\n",
    "\n",
    "Bu Dictionary'nin key'leri İlk Tuple, value'ları ise İkinci Tuple olacak.\n",
    "\n",
    "**İpuçları:**\n",
    "* `zip()`\n",
    "\n",
    "<pre style=\"background: gold\">\n",
    "Parametreler:\n",
    "oyuncular = ['Marlon Brando', 'Heath Ledger', 'Natalie Portman', 'Emma Stone']\n",
    "karakterler = ['Don Vito Corleone', 'Joker', 'The Swan Queen', 'Mia']\n",
    "filmler = ['The Godfather', 'The Dark Knight', 'Black Swan', 'La La Land']\n",
    "yillar = [1972, 2008, 2010, 2016]\n",
    "\n",
    "Sonuc:\n",
    "{('Marlon Brando', 'Don Vito Corleone'): ('The Godfather', 1972),\n",
    " ('Heath Ledger', 'Joker'): ('The Dark Knight', 2008),\n",
    " ('Natalie Portman', 'The Swan Queen'): ('Black Swan', 2010),\n",
    " ('Emma Stone', 'Mia'): ('La La Land', 2016)}\n",
    "</pre>"
   ]
  },
  {
   "cell_type": "code",
   "execution_count": 115,
   "id": "former-translator",
   "metadata": {},
   "outputs": [],
   "source": [
    "# Çözüm 8:\n",
    "\n",
    "\n"
   ]
  },
  {
   "cell_type": "code",
   "execution_count": 116,
   "id": "clean-tender",
   "metadata": {},
   "outputs": [
    {
     "data": {
      "text/plain": [
       "{('Marlon Brando', 'Don Vito Corleone'): ('The Godfather', 1972),\n",
       " ('Heath Ledger', 'Joker'): ('The Dark Knight', 2008),\n",
       " ('Natalie Portman', 'The Swan Queen'): ('Black Swan', 2010),\n",
       " ('Emma Stone', 'Mia'): ('La La Land', 2016)}"
      ]
     },
     "execution_count": 116,
     "metadata": {},
     "output_type": "execute_result"
    }
   ],
   "source": [
    "# listeler:\n",
    "oyuncular = ['Marlon Brando', 'Heath Ledger', 'Natalie Portman', 'Emma Stone']\n",
    "karakterler = ['Don Vito Corleone', 'Joker', 'The Swan Queen', 'Mia']\n",
    "filmler = ['The Godfather', 'The Dark Knight', 'Black Swan', 'La La Land']\n",
    "yillar = [1972, 2008, 2010, 2016]\n",
    "\n",
    "# fonksiyonu çağıralım\n",
    "oyuncu_film_sozluk = oyuncu_film_karakteri_yil(oyuncular, karakterler, filmler, yillar)\n",
    "oyuncu_film_sozluk"
   ]
  },
  {
   "cell_type": "markdown",
   "id": "legislative-timothy",
   "metadata": {},
   "source": [
    "---"
   ]
  },
  {
   "cell_type": "markdown",
   "id": "typical-beginning",
   "metadata": {},
   "source": [
    "**Soru 9:**\n",
    "\n",
    "Parametre olarak bir Tuple alan bir fonksiyon yazın. Adı **tuple_sirala** olsun.\n",
    "\n",
    "Parametre olarak gelen Tuple, içinde Tuple'lar tutan bir yapı olsun. Yani elemanlar da Tuple olsun. Ve bu elemanlardan herbiri 2 elemanlı bir Tuple olacak.\n",
    "\n",
    "Fonksiyon, parametre olarak gelen Tuple'i sıralayacak ve sıralı bir Tuple dönecek.\n",
    "\n",
    "Sıralama kuralı, 2. eleman olacak. Yani içerideki Tuple'ların 2. elemanına bakıp ona göre sıralayacak.\n",
    "\n",
    "**İpuçları:**\n",
    "* `lambda` fonksiyon kullanınız\n",
    "\n",
    "<pre style=\"background: gold\">\n",
    "Parametre:\n",
    "tuple_of_tuples = (('a', 12), ('e', 8), ('b', 16), ('c', 22))\n",
    "\n",
    "Sonuc:\n",
    "[('e', 8), ('a', 12), ('b', 16), ('c', 22)]\n",
    "</pre>"
   ]
  },
  {
   "cell_type": "code",
   "execution_count": 124,
   "id": "hundred-detective",
   "metadata": {},
   "outputs": [],
   "source": [
    "# Çözüm 9:\n",
    "\n",
    "\n",
    "    "
   ]
  },
  {
   "cell_type": "code",
   "execution_count": 125,
   "id": "alert-patent",
   "metadata": {},
   "outputs": [
    {
     "data": {
      "text/plain": [
       "[('e', 8), ('a', 12), ('b', 16), ('c', 22)]"
      ]
     },
     "execution_count": 125,
     "metadata": {},
     "output_type": "execute_result"
    }
   ],
   "source": [
    "tuple_of_tuples = (('a', 12), ('e', 8), ('b', 16), ('c', 22))\n",
    "\n",
    "ikinci_sirali_tupler = tuple_sirala(tuple_of_tuples)\n",
    "ikinci_sirali_tupler"
   ]
  },
  {
   "cell_type": "markdown",
   "id": "solved-voltage",
   "metadata": {},
   "source": [
    "---"
   ]
  },
  {
   "cell_type": "markdown",
   "id": "canadian-philosophy",
   "metadata": {},
   "source": [
    "**Soru 10:**\n",
    "\n",
    "Parametre olarak sayılardan oluşan bir Tuple ve bir sayı alan bir fonksiyon yazın. Adı **kac_kere_var** olsun.\n",
    "\n",
    "Fonksiyon, Tuple içinde verilen sayının kaç kere geçtiğini versin. \n",
    "\n",
    "Bunu yaparken Soru 4'teki **kac_kere_geciyor** fonksiyonunu kullansın. Kendi bir hesaplama yapmasın yani.\n",
    "\n",
    "Eğer bu Tupple içinde sayı yoksa, 'Sayı bulunumadı' diye hata dönsün.\n",
    "\n",
    "**İpuçları:**\n",
    "* fonksiyon dönen fonksiyon\n",
    "* raise\n",
    "* index()\n",
    "\n",
    "<pre style=\"background: gold\">\n",
    "Parametreler:\n",
    "tup = (5, 2, 3, 3, 4, 2, 1, 3, 4, 5, 2, 1, 2)\n",
    "sayi = 2\n",
    "\n",
    "Sonuc:\n",
    "4\n",
    "</pre>"
   ]
  },
  {
   "cell_type": "code",
   "execution_count": 142,
   "id": "liquid-wedding",
   "metadata": {},
   "outputs": [],
   "source": [
    "# Çözüm 10:\n",
    "\n",
    "\n",
    "    "
   ]
  },
  {
   "cell_type": "code",
   "execution_count": 143,
   "id": "careful-respondent",
   "metadata": {},
   "outputs": [
    {
     "data": {
      "text/plain": [
       "4"
      ]
     },
     "execution_count": 143,
     "metadata": {},
     "output_type": "execute_result"
    }
   ],
   "source": [
    "tup = (5, 2, 3, 3, 4, 2, 1, 3, 4, 5, 2, 1, 2)\n",
    "sayi = 2\n",
    "\n",
    "kac_kere_var(tup, sayi)"
   ]
  },
  {
   "cell_type": "code",
   "execution_count": 144,
   "id": "taken-indonesian",
   "metadata": {},
   "outputs": [
    {
     "data": {
      "text/plain": [
       "2"
      ]
     },
     "execution_count": 144,
     "metadata": {},
     "output_type": "execute_result"
    }
   ],
   "source": [
    "tup = (5, 2, 3, 3, 4, 2, 1, 3, 4, 5, 2, 1, 2)\n",
    "sayi = 5\n",
    "\n",
    "kac_kere_var(tup, sayi)"
   ]
  },
  {
   "cell_type": "code",
   "execution_count": 145,
   "id": "stone-bibliography",
   "metadata": {},
   "outputs": [
    {
     "ename": "Exception",
     "evalue": "Sayı bulunamadı",
     "output_type": "error",
     "traceback": [
      "\u001b[1;31m---------------------------------------------------------------------------\u001b[0m",
      "\u001b[1;31mException\u001b[0m                                 Traceback (most recent call last)",
      "\u001b[1;32m<ipython-input-145-2f01e9096b8b>\u001b[0m in \u001b[0;36m<module>\u001b[1;34m\u001b[0m\n\u001b[0;32m      4\u001b[0m \u001b[0msayi\u001b[0m \u001b[1;33m=\u001b[0m \u001b[1;36m99\u001b[0m\u001b[1;33m\u001b[0m\u001b[1;33m\u001b[0m\u001b[0m\n\u001b[0;32m      5\u001b[0m \u001b[1;33m\u001b[0m\u001b[0m\n\u001b[1;32m----> 6\u001b[1;33m \u001b[0mkac_kere_var\u001b[0m\u001b[1;33m(\u001b[0m\u001b[0mtup\u001b[0m\u001b[1;33m,\u001b[0m \u001b[0msayi\u001b[0m\u001b[1;33m)\u001b[0m\u001b[1;33m\u001b[0m\u001b[1;33m\u001b[0m\u001b[0m\n\u001b[0m",
      "\u001b[1;32m<ipython-input-142-818795731acc>\u001b[0m in \u001b[0;36mkac_kere_var\u001b[1;34m(tup, sayi)\u001b[0m\n\u001b[0;32m      5\u001b[0m     \u001b[1;31m# Tuple içinde sayı var mı?\u001b[0m\u001b[1;33m\u001b[0m\u001b[1;33m\u001b[0m\u001b[1;33m\u001b[0m\u001b[0m\n\u001b[0;32m      6\u001b[0m     \u001b[1;32mif\u001b[0m \u001b[1;32mnot\u001b[0m \u001b[0msayi\u001b[0m \u001b[1;32min\u001b[0m \u001b[0mtup\u001b[0m\u001b[1;33m:\u001b[0m\u001b[1;33m\u001b[0m\u001b[1;33m\u001b[0m\u001b[0m\n\u001b[1;32m----> 7\u001b[1;33m         \u001b[1;32mraise\u001b[0m \u001b[0mException\u001b[0m\u001b[1;33m(\u001b[0m\u001b[1;34m'Sayı bulunamadı'\u001b[0m\u001b[1;33m)\u001b[0m\u001b[1;33m\u001b[0m\u001b[1;33m\u001b[0m\u001b[0m\n\u001b[0m\u001b[0;32m      8\u001b[0m     \u001b[1;32melse\u001b[0m\u001b[1;33m:\u001b[0m\u001b[1;33m\u001b[0m\u001b[1;33m\u001b[0m\u001b[0m\n\u001b[0;32m      9\u001b[0m         \u001b[1;31m# Soru 4'teki fonksiyon bizden bir Tuple ve bir Index istiyor\u001b[0m\u001b[1;33m\u001b[0m\u001b[1;33m\u001b[0m\u001b[1;33m\u001b[0m\u001b[0m\n",
      "\u001b[1;31mException\u001b[0m: Sayı bulunamadı"
     ]
    }
   ],
   "source": [
    "# Tuple içinde olmayan bir sayı geçildiğinde hata dönmesi lazım\n",
    "\n",
    "tup = (5, 2, 3, 3, 4, 2, 1, 3, 4, 5, 2, 1, 2)\n",
    "sayi = 99\n",
    "\n",
    "kac_kere_var(tup, sayi)"
   ]
  }
 ],
 "metadata": {
  "kernelspec": {
   "display_name": "Python 3",
   "language": "python",
   "name": "python3"
  },
  "language_info": {
   "codemirror_mode": {
    "name": "ipython",
    "version": 3
   },
   "file_extension": ".py",
   "mimetype": "text/x-python",
   "name": "python",
   "nbconvert_exporter": "python",
   "pygments_lexer": "ipython3",
   "version": "3.8.5"
  }
 },
 "nbformat": 4,
 "nbformat_minor": 5
}
