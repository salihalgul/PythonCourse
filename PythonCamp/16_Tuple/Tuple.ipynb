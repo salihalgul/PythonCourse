{
 "cells": [
  {
   "cell_type": "markdown",
   "id": "hawaiian-roller",
   "metadata": {},
   "source": [
    "## Tuple"
   ]
  },
  {
   "cell_type": "markdown",
   "id": "passing-provision",
   "metadata": {},
   "source": [
    "### Tuple Yaratmak"
   ]
  },
  {
   "cell_type": "markdown",
   "id": "recovered-heater",
   "metadata": {},
   "source": [
    "Aynı String ve List, gibi Tuple da Dizi (sequence) tipinde bir değişkendir.\n",
    "\n",
    "Tuple'lar herhangi bir türde değer alabilirler ve tam sayılar ile indexlenirler. \n",
    "\n",
    "Dolayısı ile List'lere çok benzerler.\n",
    "\n",
    "Tuple ile List arasındaki en önemli fark; List Mutable (Değiştirilebilir) iken Tuple Immutable (Değiştirilemez) dir."
   ]
  },
  {
   "cell_type": "markdown",
   "id": "different-devil",
   "metadata": {},
   "source": [
    "**Tuple** virgül ile ayrılmış bir listedir."
   ]
  },
  {
   "cell_type": "markdown",
   "id": "passing-portugal",
   "metadata": {},
   "source": [
    "**Virgül ile Ayrılmış Değer Girerek Tuple Yaratmak:**"
   ]
  },
  {
   "cell_type": "code",
   "execution_count": 1,
   "id": "great-reservation",
   "metadata": {},
   "outputs": [
    {
     "data": {
      "text/plain": [
       "('x', 'y', 'z', 'q', 'p')"
      ]
     },
     "execution_count": 1,
     "metadata": {},
     "output_type": "execute_result"
    }
   ],
   "source": [
    "t = 'x', 'y', 'z', 'q', 'p'\n",
    "t"
   ]
  },
  {
   "cell_type": "code",
   "execution_count": 2,
   "id": "coordinated-champagne",
   "metadata": {},
   "outputs": [
    {
     "data": {
      "text/plain": [
       "tuple"
      ]
     },
     "execution_count": 2,
     "metadata": {},
     "output_type": "execute_result"
    }
   ],
   "source": [
    "type(t)"
   ]
  },
  {
   "cell_type": "code",
   "execution_count": 3,
   "id": "incorporated-penetration",
   "metadata": {},
   "outputs": [
    {
     "data": {
      "text/plain": [
       "(1, 2, 3, 4, 5)"
      ]
     },
     "execution_count": 3,
     "metadata": {},
     "output_type": "execute_result"
    }
   ],
   "source": [
    "t2 = (1, 2, 3, 4, 5)\n",
    "t2"
   ]
  },
  {
   "cell_type": "code",
   "execution_count": 4,
   "id": "refined-exclusive",
   "metadata": {},
   "outputs": [
    {
     "data": {
      "text/plain": [
       "True"
      ]
     },
     "execution_count": 4,
     "metadata": {},
     "output_type": "execute_result"
    }
   ],
   "source": [
    "isinstance(t2, tuple)"
   ]
  },
  {
   "cell_type": "code",
   "execution_count": 5,
   "id": "filled-brush",
   "metadata": {},
   "outputs": [
    {
     "data": {
      "text/plain": [
       "False"
      ]
     },
     "execution_count": 5,
     "metadata": {},
     "output_type": "execute_result"
    }
   ],
   "source": [
    "isinstance(t2, list)"
   ]
  },
  {
   "cell_type": "markdown",
   "id": "statistical-geneva",
   "metadata": {},
   "source": [
    "**Soru:**\n",
    "\n",
    "Tek elemanlı bir Tuple nasıl yaratılır?"
   ]
  },
  {
   "cell_type": "code",
   "execution_count": 6,
   "id": "tribal-engagement",
   "metadata": {},
   "outputs": [],
   "source": [
    "tek_tuple = 'x'"
   ]
  },
  {
   "cell_type": "code",
   "execution_count": 7,
   "id": "changing-penguin",
   "metadata": {},
   "outputs": [
    {
     "data": {
      "text/plain": [
       "'x'"
      ]
     },
     "execution_count": 7,
     "metadata": {},
     "output_type": "execute_result"
    }
   ],
   "source": [
    "tek_tuple"
   ]
  },
  {
   "cell_type": "code",
   "execution_count": 8,
   "id": "incorrect-separate",
   "metadata": {},
   "outputs": [
    {
     "data": {
      "text/plain": [
       "str"
      ]
     },
     "execution_count": 8,
     "metadata": {},
     "output_type": "execute_result"
    }
   ],
   "source": [
    "type(tek_tuple)"
   ]
  },
  {
   "cell_type": "code",
   "execution_count": 9,
   "id": "nominated-rider",
   "metadata": {},
   "outputs": [
    {
     "data": {
      "text/plain": [
       "'x'"
      ]
     },
     "execution_count": 9,
     "metadata": {},
     "output_type": "execute_result"
    }
   ],
   "source": [
    "tek_tuple = ('x')\n",
    "tek_tuple"
   ]
  },
  {
   "cell_type": "code",
   "execution_count": 10,
   "id": "mature-thermal",
   "metadata": {},
   "outputs": [
    {
     "data": {
      "text/plain": [
       "str"
      ]
     },
     "execution_count": 10,
     "metadata": {},
     "output_type": "execute_result"
    }
   ],
   "source": [
    "type(tek_tuple)"
   ]
  },
  {
   "cell_type": "markdown",
   "id": "durable-classification",
   "metadata": {},
   "source": [
    "**Cevap:**\n",
    "\n",
    "Tek elemanlı tuple, sonunda virgül ile yaratılır."
   ]
  },
  {
   "cell_type": "code",
   "execution_count": 11,
   "id": "precise-spyware",
   "metadata": {},
   "outputs": [
    {
     "data": {
      "text/plain": [
       "('x',)"
      ]
     },
     "execution_count": 11,
     "metadata": {},
     "output_type": "execute_result"
    }
   ],
   "source": [
    "tek_tuple = ('x',)\n",
    "tek_tuple"
   ]
  },
  {
   "cell_type": "code",
   "execution_count": 12,
   "id": "empty-concentrate",
   "metadata": {},
   "outputs": [
    {
     "data": {
      "text/plain": [
       "tuple"
      ]
     },
     "execution_count": 12,
     "metadata": {},
     "output_type": "execute_result"
    }
   ],
   "source": [
    "type(tek_tuple)"
   ]
  },
  {
   "cell_type": "markdown",
   "id": "northern-dynamics",
   "metadata": {},
   "source": [
    "**tuple() Constructor'ı ile Tuple Yaratmak**"
   ]
  },
  {
   "cell_type": "code",
   "execution_count": 13,
   "id": "dependent-health",
   "metadata": {},
   "outputs": [
    {
     "data": {
      "text/plain": [
       "()"
      ]
     },
     "execution_count": 13,
     "metadata": {},
     "output_type": "execute_result"
    }
   ],
   "source": [
    "t = tuple()\n",
    "t"
   ]
  },
  {
   "cell_type": "code",
   "execution_count": 14,
   "id": "thick-battlefield",
   "metadata": {},
   "outputs": [
    {
     "data": {
      "text/plain": [
       "True"
      ]
     },
     "execution_count": 14,
     "metadata": {},
     "output_type": "execute_result"
    }
   ],
   "source": [
    "isinstance(t, tuple)"
   ]
  },
  {
   "cell_type": "code",
   "execution_count": 18,
   "id": "institutional-guarantee",
   "metadata": {},
   "outputs": [
    {
     "data": {
      "text/plain": [
       "('t',)"
      ]
     },
     "execution_count": 18,
     "metadata": {},
     "output_type": "execute_result"
    }
   ],
   "source": [
    "# tuple() constructor'ı ile eleman vererek yaratalım\n",
    "\n",
    "tek = tuple('t')\n",
    "tek"
   ]
  },
  {
   "cell_type": "markdown",
   "id": "polar-wayne",
   "metadata": {},
   "source": [
    "**tuple()** yapıcısı (constructor) içine string, list verirseniz (dizi tipinde) her bir elemanını ayrı bir tuple elemanı haline getirir: "
   ]
  },
  {
   "cell_type": "code",
   "execution_count": 16,
   "id": "scenic-morgan",
   "metadata": {},
   "outputs": [
    {
     "data": {
      "text/plain": [
       "('P', 'y', 't', 'h', 'o', 'n')"
      ]
     },
     "execution_count": 16,
     "metadata": {},
     "output_type": "execute_result"
    }
   ],
   "source": [
    "dil = tuple('Python')\n",
    "dil"
   ]
  },
  {
   "cell_type": "code",
   "execution_count": 19,
   "id": "israeli-corpus",
   "metadata": {},
   "outputs": [
    {
     "data": {
      "text/plain": [
       "('A', 'B', 'C', 'D')"
      ]
     },
     "execution_count": 19,
     "metadata": {},
     "output_type": "execute_result"
    }
   ],
   "source": [
    "listem = ['A', 'B', 'C', 'D']\n",
    "\n",
    "tup_liste = tuple(listem)\n",
    "\n",
    "tup_liste"
   ]
  },
  {
   "cell_type": "markdown",
   "id": "charming-longer",
   "metadata": {},
   "source": [
    "List Operasyonlarının çoğu Tuple için de geçerlidir."
   ]
  },
  {
   "cell_type": "code",
   "execution_count": 20,
   "id": "worthy-lincoln",
   "metadata": {},
   "outputs": [
    {
     "data": {
      "text/plain": [
       "('t', 'u', 'p', 'l', 'e')"
      ]
     },
     "execution_count": 20,
     "metadata": {},
     "output_type": "execute_result"
    }
   ],
   "source": [
    "# index\n",
    "\n",
    "tup = ('t', 'u', 'p', 'l', 'e')\n",
    "tup"
   ]
  },
  {
   "cell_type": "code",
   "execution_count": 21,
   "id": "preliminary-criterion",
   "metadata": {},
   "outputs": [
    {
     "data": {
      "text/plain": [
       "'t'"
      ]
     },
     "execution_count": 21,
     "metadata": {},
     "output_type": "execute_result"
    }
   ],
   "source": [
    "tup[0]"
   ]
  },
  {
   "cell_type": "code",
   "execution_count": 22,
   "id": "bibliographic-muscle",
   "metadata": {},
   "outputs": [
    {
     "data": {
      "text/plain": [
       "'p'"
      ]
     },
     "execution_count": 22,
     "metadata": {},
     "output_type": "execute_result"
    }
   ],
   "source": [
    "tup[2]"
   ]
  },
  {
   "cell_type": "markdown",
   "id": "continental-speed",
   "metadata": {},
   "source": [
    "Index varsa, dilim (slice) da vardır."
   ]
  },
  {
   "cell_type": "code",
   "execution_count": 23,
   "id": "friendly-august",
   "metadata": {},
   "outputs": [
    {
     "data": {
      "text/plain": [
       "('u', 'p', 'l')"
      ]
     },
     "execution_count": 23,
     "metadata": {},
     "output_type": "execute_result"
    }
   ],
   "source": [
    "tup[1:4]"
   ]
  },
  {
   "cell_type": "code",
   "execution_count": 25,
   "id": "structured-settlement",
   "metadata": {},
   "outputs": [
    {
     "name": "stdout",
     "output_type": "stream",
     "text": [
      "('A', 'y', ',', ' ', 'D', 'ü', 'n', 'y', 'a', \"'\", 'n', 'ı', 'n', ' ', 'u', 'y', 'd', 'u', 's', 'u', 'd', 'u', 'r', '.')\n"
     ]
    }
   ],
   "source": [
    "ay = tuple(\"Ay, Dünya'nın uydusudur.\")\n",
    "print(ay)"
   ]
  },
  {
   "cell_type": "code",
   "execution_count": 26,
   "id": "dental-anniversary",
   "metadata": {},
   "outputs": [
    {
     "data": {
      "text/plain": [
       "('D', 'ü', 'n', 'y', 'a')"
      ]
     },
     "execution_count": 26,
     "metadata": {},
     "output_type": "execute_result"
    }
   ],
   "source": [
    "# bu cümleden 'Dünya' kelimesini al (slice)\n",
    "\n",
    "ay[4:9]"
   ]
  },
  {
   "cell_type": "code",
   "execution_count": 31,
   "id": "automatic-pilot",
   "metadata": {},
   "outputs": [
    {
     "name": "stdout",
     "output_type": "stream",
     "text": [
      "('A', 'y', ',', ' ', 'D', 'ü', 'n', 'y', 'a', \"'\", 'n', 'ı', 'n', ' ', 'u', 'y', 'd', 'u', 's', 'u', 'd', 'u', 'r', '.')\n",
      "('.', 'r', 'u', 'd', 'u', 's', 'u', 'd', 'y', 'u', ' ', 'n', 'ı', 'n', \"'\", 'a', 'y', 'n', 'ü', 'D', ' ', ',', 'y', 'A')\n"
     ]
    }
   ],
   "source": [
    "# cümleyi tersten yazdıralım\n",
    "\n",
    "# düzden -> kopyası\n",
    "print(ay[::])\n",
    "\n",
    "# tersten kopyası\n",
    "print(ay[::-1])"
   ]
  },
  {
   "cell_type": "markdown",
   "id": "engaged-finder",
   "metadata": {},
   "source": [
    "slice -> `[başlangıç : bitiş : artış]`"
   ]
  },
  {
   "cell_type": "markdown",
   "id": "increasing-pencil",
   "metadata": {},
   "source": [
    "**Tuple'lar Immutable (Değiştirilemezler)**"
   ]
  },
  {
   "cell_type": "code",
   "execution_count": 33,
   "id": "streaming-essex",
   "metadata": {},
   "outputs": [
    {
     "data": {
      "text/plain": [
       "(0, 1, 2, 3, 5, 5, 6, 7, 8, 9)"
      ]
     },
     "execution_count": 33,
     "metadata": {},
     "output_type": "execute_result"
    }
   ],
   "source": [
    "t = tuple([0,1,2,3,5,5,6,7,8,9])\n",
    "t"
   ]
  },
  {
   "cell_type": "code",
   "execution_count": 34,
   "id": "geographic-miami",
   "metadata": {},
   "outputs": [
    {
     "ename": "TypeError",
     "evalue": "'tuple' object does not support item assignment",
     "output_type": "error",
     "traceback": [
      "\u001b[1;31m---------------------------------------------------------------------------\u001b[0m",
      "\u001b[1;31mTypeError\u001b[0m                                 Traceback (most recent call last)",
      "\u001b[1;32m<ipython-input-34-34d4c354443f>\u001b[0m in \u001b[0;36m<module>\u001b[1;34m\u001b[0m\n\u001b[1;32m----> 1\u001b[1;33m \u001b[0mt\u001b[0m\u001b[1;33m[\u001b[0m\u001b[1;36m4\u001b[0m\u001b[1;33m]\u001b[0m \u001b[1;33m=\u001b[0m \u001b[1;36m4\u001b[0m\u001b[1;33m\u001b[0m\u001b[1;33m\u001b[0m\u001b[0m\n\u001b[0m",
      "\u001b[1;31mTypeError\u001b[0m: 'tuple' object does not support item assignment"
     ]
    }
   ],
   "source": [
    "t[4] = 4"
   ]
  },
  {
   "cell_type": "code",
   "execution_count": 35,
   "id": "illegal-blair",
   "metadata": {},
   "outputs": [
    {
     "data": {
      "text/plain": [
       "(0, 1, 2, 3, 4, 5, 6, 7, 8, 9)"
      ]
     },
     "execution_count": 35,
     "metadata": {},
     "output_type": "execute_result"
    }
   ],
   "source": [
    "# Yeniden atama yaparız\n",
    "\n",
    "t = tuple([0,1,2,3,4,5,6,7,8,9])\n",
    "t"
   ]
  },
  {
   "cell_type": "markdown",
   "id": "technological-horizontal",
   "metadata": {},
   "source": [
    "**Tuple Karşılaştırma**\n",
    "\n",
    "Aynı stringlerdeki gibi `alfabetik` karşılaştırır."
   ]
  },
  {
   "cell_type": "code",
   "execution_count": 36,
   "id": "figured-termination",
   "metadata": {},
   "outputs": [
    {
     "data": {
      "text/plain": [
       "True"
      ]
     },
     "execution_count": 36,
     "metadata": {},
     "output_type": "execute_result"
    }
   ],
   "source": [
    "(1, 2, 3) < (5, 4 , 3)"
   ]
  },
  {
   "cell_type": "code",
   "execution_count": 37,
   "id": "selected-opportunity",
   "metadata": {},
   "outputs": [
    {
     "data": {
      "text/plain": [
       "True"
      ]
     },
     "execution_count": 37,
     "metadata": {},
     "output_type": "execute_result"
    }
   ],
   "source": [
    "(5, 40, 200) < (6, 3, 5)"
   ]
  },
  {
   "cell_type": "code",
   "execution_count": 38,
   "id": "handy-encounter",
   "metadata": {},
   "outputs": [
    {
     "data": {
      "text/plain": [
       "False"
      ]
     },
     "execution_count": 38,
     "metadata": {},
     "output_type": "execute_result"
    }
   ],
   "source": [
    "'abckl' < 'abcde'"
   ]
  },
  {
   "cell_type": "code",
   "execution_count": 39,
   "id": "random-oasis",
   "metadata": {},
   "outputs": [
    {
     "data": {
      "text/plain": [
       "False"
      ]
     },
     "execution_count": 39,
     "metadata": {},
     "output_type": "execute_result"
    }
   ],
   "source": [
    "tuple('abckl') < tuple('abcde')"
   ]
  },
  {
   "cell_type": "markdown",
   "id": "successful-bangladesh",
   "metadata": {},
   "source": [
    "### Tuple Ataması"
   ]
  },
  {
   "cell_type": "code",
   "execution_count": 40,
   "id": "transsexual-equilibrium",
   "metadata": {},
   "outputs": [],
   "source": [
    "a = 99\n",
    "\n",
    "b = 1"
   ]
  },
  {
   "cell_type": "code",
   "execution_count": 41,
   "id": "liberal-farming",
   "metadata": {},
   "outputs": [
    {
     "name": "stdout",
     "output_type": "stream",
     "text": [
      "a: 99\n",
      "b: 1\n",
      "a: 1\n",
      "b: 99\n"
     ]
    }
   ],
   "source": [
    "# a'nın değerini b'ye, b'nin değerini de a'ya atamak istiyoruz\n",
    "# karşılıklı atama\n",
    "\n",
    "# Yöntem 1 -> Geçici değişken\n",
    "\n",
    "print(\"a:\", a)\n",
    "print(\"b:\", b)\n",
    "\n",
    "gecici = a\n",
    "\n",
    "a = b\n",
    "\n",
    "b = gecici\n",
    "\n",
    "print(\"a:\", a)\n",
    "print(\"b:\", b)"
   ]
  },
  {
   "cell_type": "markdown",
   "id": "earlier-crack",
   "metadata": {},
   "source": [
    "Python'da `Tuple Ataması` bu işlemi (swap) otomatik yapar."
   ]
  },
  {
   "cell_type": "code",
   "execution_count": 42,
   "id": "democratic-assault",
   "metadata": {},
   "outputs": [
    {
     "name": "stdout",
     "output_type": "stream",
     "text": [
      "a: 99\n",
      "b: 1\n",
      "a: 1\n",
      "b: 99\n"
     ]
    }
   ],
   "source": [
    "# Tuple Ataması\n",
    "\n",
    "a = 99\n",
    "b = 1\n",
    "\n",
    "print(\"a:\", a)\n",
    "print(\"b:\", b)\n",
    "\n",
    "a, b = b, a\n",
    "\n",
    "print(\"a:\", a)\n",
    "print(\"b:\", b)"
   ]
  },
  {
   "cell_type": "markdown",
   "id": "residential-worker",
   "metadata": {},
   "source": [
    "**Önemli:**\n",
    "\n",
    "Tuple Ataması için iki taraftaki değişken sayısının aynı olması lazım:"
   ]
  },
  {
   "cell_type": "code",
   "execution_count": 44,
   "id": "paperback-carry",
   "metadata": {},
   "outputs": [
    {
     "name": "stdout",
     "output_type": "stream",
     "text": [
      "a: 500\n",
      "b: 800\n"
     ]
    }
   ],
   "source": [
    "a, b = 500, 800\n",
    "print(\"a:\", a)\n",
    "print(\"b:\", b)"
   ]
  },
  {
   "cell_type": "code",
   "execution_count": 45,
   "id": "united-discharge",
   "metadata": {},
   "outputs": [
    {
     "ename": "ValueError",
     "evalue": "too many values to unpack (expected 2)",
     "output_type": "error",
     "traceback": [
      "\u001b[1;31m---------------------------------------------------------------------------\u001b[0m",
      "\u001b[1;31mValueError\u001b[0m                                Traceback (most recent call last)",
      "\u001b[1;32m<ipython-input-45-e90bf223bc9f>\u001b[0m in \u001b[0;36m<module>\u001b[1;34m\u001b[0m\n\u001b[1;32m----> 1\u001b[1;33m \u001b[0ma\u001b[0m\u001b[1;33m,\u001b[0m \u001b[0mb\u001b[0m \u001b[1;33m=\u001b[0m \u001b[1;36m500\u001b[0m\u001b[1;33m,\u001b[0m \u001b[1;36m800\u001b[0m\u001b[1;33m,\u001b[0m \u001b[1;36m600\u001b[0m\u001b[1;33m\u001b[0m\u001b[1;33m\u001b[0m\u001b[0m\n\u001b[0m",
      "\u001b[1;31mValueError\u001b[0m: too many values to unpack (expected 2)"
     ]
    }
   ],
   "source": [
    "a, b = 500, 800, 600"
   ]
  },
  {
   "cell_type": "markdown",
   "id": "thermal-dealer",
   "metadata": {},
   "source": [
    "**Alıştırma:**\n",
    "\n",
    "Tuple ataması ile email içindeki kullanıcı adı ve domain adını ayıralım:"
   ]
  },
  {
   "cell_type": "code",
   "execution_count": 46,
   "id": "criminal-oliver",
   "metadata": {},
   "outputs": [
    {
     "data": {
      "text/plain": [
       "['johnsnow', 'got.com']"
      ]
     },
     "execution_count": 46,
     "metadata": {},
     "output_type": "execute_result"
    }
   ],
   "source": [
    "'johnsnow@got.com'.split('@')"
   ]
  },
  {
   "cell_type": "code",
   "execution_count": 47,
   "id": "italian-frontier",
   "metadata": {},
   "outputs": [
    {
     "name": "stdout",
     "output_type": "stream",
     "text": [
      "johnsnow\n",
      "got.com\n"
     ]
    }
   ],
   "source": [
    "kullanici_adi, domain = 'johnsnow@got.com'.split('@')\n",
    "\n",
    "print(kullanici_adi)\n",
    "print(domain)"
   ]
  },
  {
   "cell_type": "markdown",
   "id": "prime-citizen",
   "metadata": {},
   "source": [
    "**Alıştırma:**\n",
    "\n",
    "Bir liste içindeki herbir değeri, ayrı bir değişkene atayalım:"
   ]
  },
  {
   "cell_type": "code",
   "execution_count": 49,
   "id": "rough-catering",
   "metadata": {},
   "outputs": [],
   "source": [
    "a, b, c, d = ['Python', 'Java', 'JavaScript', 'C#']"
   ]
  },
  {
   "cell_type": "code",
   "execution_count": 50,
   "id": "complimentary-burlington",
   "metadata": {},
   "outputs": [
    {
     "name": "stdout",
     "output_type": "stream",
     "text": [
      "Python\n",
      "Java\n",
      "JavaScript\n",
      "C#\n"
     ]
    }
   ],
   "source": [
    "print(a)\n",
    "print(b)\n",
    "print(c)\n",
    "print(d)"
   ]
  },
  {
   "cell_type": "markdown",
   "id": "superior-prerequisite",
   "metadata": {},
   "source": [
    "### Fonksiyonların Dönüş Değeri Olarak Tuple'lar"
   ]
  },
  {
   "cell_type": "markdown",
   "id": "innovative-appliance",
   "metadata": {},
   "source": [
    "Fonksiyonları işlerken fark etmiş olabilirsiniz, Fonksiyon geriye sadece bir değer döner.\n",
    "\n",
    "Peki birden fazla değer dönmesi gerekse ne yapacağız."
   ]
  },
  {
   "cell_type": "markdown",
   "id": "occupied-austria",
   "metadata": {},
   "source": [
    "Cevap `Tuple`. Dönecek değerleri bir Tuple içine alırsak o zaman geriye sadece Tuple'i dönmemiz yeterli."
   ]
  },
  {
   "cell_type": "markdown",
   "id": "decent-cradle",
   "metadata": {},
   "source": [
    "Örneğin Python'un standart `divmod()` fonksiyonu iki parametre alır. \n",
    "\n",
    "Bölünen ve bölen. \n",
    "\n",
    "Bölme işlemini yaptıktan sonra geriye, (bölüm, kalan) şeklinde bir tuple döner."
   ]
  },
  {
   "cell_type": "code",
   "execution_count": 52,
   "id": "compatible-sector",
   "metadata": {},
   "outputs": [
    {
     "data": {
      "text/plain": [
       "(5, 3)"
      ]
     },
     "execution_count": 52,
     "metadata": {},
     "output_type": "execute_result"
    }
   ],
   "source": [
    "# 23'ün 4'e bölümünden, bölüm 5 ve kalan 3'tür\n",
    "\n",
    "sonuc = divmod(23, 4)\n",
    "\n",
    "sonuc"
   ]
  },
  {
   "cell_type": "code",
   "execution_count": 55,
   "id": "mature-witness",
   "metadata": {},
   "outputs": [
    {
     "name": "stdout",
     "output_type": "stream",
     "text": [
      "5\n",
      "3\n"
     ]
    }
   ],
   "source": [
    "# bölüm ve kalan'ı ayrı ayrı alalım\n",
    "\n",
    "bolum = sonuc[0]\n",
    "print(bolum)\n",
    "\n",
    "kalan = sonuc[1]\n",
    "print(kalan)"
   ]
  },
  {
   "cell_type": "code",
   "execution_count": 56,
   "id": "sudden-manor",
   "metadata": {},
   "outputs": [
    {
     "name": "stdout",
     "output_type": "stream",
     "text": [
      "5\n",
      "3\n"
     ]
    }
   ],
   "source": [
    "bolum, kalan = divmod(23, 4)\n",
    "\n",
    "print(bolum)\n",
    "print(kalan)"
   ]
  },
  {
   "cell_type": "markdown",
   "id": "innovative-plate",
   "metadata": {},
   "source": [
    "**Alıştırma:**\n",
    "\n",
    "Parametre sayısı belli olmayan bir fonksiyon yazın."
   ]
  },
  {
   "cell_type": "markdown",
   "id": "demonstrated-heather",
   "metadata": {},
   "source": [
    "`*args` ile, sayısı belli olmayan çoklu parametre alabilir."
   ]
  },
  {
   "cell_type": "code",
   "execution_count": 60,
   "id": "enclosed-radio",
   "metadata": {},
   "outputs": [],
   "source": [
    "# toplam, çarpım değerlerini dönecek\n",
    "\n",
    "def toplam_ve_carpim(*args):\n",
    "    \n",
    "    print(args)\n",
    "    print(type(args))\n",
    "    "
   ]
  },
  {
   "cell_type": "code",
   "execution_count": 61,
   "id": "inside-blame",
   "metadata": {},
   "outputs": [
    {
     "name": "stdout",
     "output_type": "stream",
     "text": [
      "(2, 5, 4, 3)\n",
      "<class 'tuple'>\n"
     ]
    }
   ],
   "source": [
    "toplam_ve_carpim(2, 5, 4, 3)"
   ]
  },
  {
   "cell_type": "markdown",
   "id": "thick-program",
   "metadata": {},
   "source": [
    "`*args` yapısı aslında bir Tuple'dır."
   ]
  },
  {
   "cell_type": "code",
   "execution_count": 62,
   "id": "incorporated-function",
   "metadata": {},
   "outputs": [],
   "source": [
    "# şimdi fonksiyonu yazalım\n",
    "\n",
    "def toplam_ve_carpim(*args):\n",
    "    \n",
    "    # toplam çok kolay -> sum()\n",
    "    toplam = sum(args)\n",
    "    \n",
    "    # çarpım için -> döngü\n",
    "    carpim = 1\n",
    "    for arg in args:\n",
    "        carpim *= arg\n",
    "        \n",
    "    \n",
    "    # şimdi toplam ve çarpım ikilisini bir tuple olarak dönelim\n",
    "    return (toplam, carpim)\n"
   ]
  },
  {
   "cell_type": "code",
   "execution_count": 65,
   "id": "arbitrary-sitting",
   "metadata": {},
   "outputs": [
    {
     "name": "stdout",
     "output_type": "stream",
     "text": [
      "toplam: 14\n",
      "çarpım: 120\n"
     ]
    }
   ],
   "source": [
    "toplam, carpim = toplam_ve_carpim(2, 5, 4, 3)\n",
    "\n",
    "print(\"toplam:\", toplam)\n",
    "print(\"çarpım:\", carpim)"
   ]
  },
  {
   "cell_type": "markdown",
   "id": "genuine-canyon",
   "metadata": {},
   "source": [
    "**Alıştırma:**\n",
    "\n",
    "Parametre olarak bir tam sayı listesi alan ve bu listenin `minimum, maximum ve aritmetik ortalama` değerlerini dönen bir fonksiyon yazın.\n",
    "\n",
    "**İpuçları:**\n",
    "* ortalama (mean) fonksiyonu için `statistics` yani istatistik paketini kullanın\n",
    "* modülü import etmek için -> import"
   ]
  },
  {
   "cell_type": "code",
   "execution_count": 67,
   "id": "military-modeling",
   "metadata": {},
   "outputs": [],
   "source": [
    "# önce paketleri import edelim\n",
    "\n",
    "import statistics\n",
    "\n",
    "def basit_istatistik(liste):\n",
    "    \n",
    "    # minimum\n",
    "    minimum = min(liste)\n",
    "    \n",
    "    # maximum\n",
    "    maximum = max(liste)\n",
    "    \n",
    "    # ortalama\n",
    "    ortalama = statistics.mean(liste)\n",
    "    \n",
    "    # return et -> tuple içinde paketleyerek (pack)\n",
    "    return (minimum, maximum, ortalama)\n"
   ]
  },
  {
   "cell_type": "code",
   "execution_count": 68,
   "id": "straight-database",
   "metadata": {},
   "outputs": [
    {
     "name": "stdout",
     "output_type": "stream",
     "text": [
      "min: 1\n",
      "max: 5\n",
      "mean: 3\n"
     ]
    }
   ],
   "source": [
    "liste = [1, 2, 3, 4, 5]\n",
    "\n",
    "minimum, maximum, ortalama = basit_istatistik(liste)\n",
    "\n",
    "print(\"min:\", minimum)\n",
    "print(\"max:\", maximum)\n",
    "print(\"mean:\", ortalama)"
   ]
  },
  {
   "cell_type": "markdown",
   "id": "virtual-supervision",
   "metadata": {},
   "source": [
    "### `zip()` Fonksiyonu"
   ]
  },
  {
   "cell_type": "markdown",
   "id": "defined-transmission",
   "metadata": {},
   "source": [
    "Python'da List ve Tuple tipleri beraber kullanıldıklarında çok işlevesel olurlar. Bunu detaylı görmek için önce `zip()` fonksiyonunu inceleyelim:"
   ]
  },
  {
   "cell_type": "markdown",
   "id": "removed-peter",
   "metadata": {},
   "source": [
    "`zip()` Python içinde hazır bir fonksiyondur. \n",
    "\n",
    "İki veya daha fazla Dizi (index ile erişilebilen tipler: List, Tuple, String, Range) tipinde değişken alır.\n",
    "\n",
    "Zip yani fermuar fonksiyonu adından da anlaşılacağı gibi, her bir dizideki karşlıklı elemanları alarak bir tuple oluşturur. Böylece tuple'lardan oluşan bir zip nesnesi döner."
   ]
  },
  {
   "cell_type": "code",
   "execution_count": 69,
   "id": "religious-verse",
   "metadata": {},
   "outputs": [
    {
     "name": "stdout",
     "output_type": "stream",
     "text": [
      "<zip object at 0x000001B5E3BB05C0>\n"
     ]
    }
   ],
   "source": [
    "metin = 'xyzt'\n",
    "liste = [1, 2, 3, 4]\n",
    "\n",
    "# metin ve listeyi zip'leyelim\n",
    "\n",
    "fermuar = zip(metin, liste)\n",
    "\n",
    "print(fermuar)"
   ]
  },
  {
   "cell_type": "markdown",
   "id": "automotive-diagnosis",
   "metadata": {},
   "source": [
    "`zip()` fonksiyonun geriye döndüğü `zip nesnesi` bir **iterator** döner. \n",
    "\n",
    "**Iterator'ler** içinde sayılabilir değerler tutan ve üzerinde döngü kurulabilen (iterate olabilen) nesnelerdir.\n",
    "\n",
    "Iteratorler, Listelere benzer fakat List'ler gibi onların üzerinde index ile işlem yapamazsınız."
   ]
  },
  {
   "cell_type": "code",
   "execution_count": 70,
   "id": "parental-tolerance",
   "metadata": {},
   "outputs": [
    {
     "name": "stdout",
     "output_type": "stream",
     "text": [
      "('x', 1)\n",
      "('y', 2)\n",
      "('z', 3)\n",
      "('t', 4)\n"
     ]
    }
   ],
   "source": [
    "# fermuar nesnesi bir iterator -> döngü kuralım\n",
    "\n",
    "# fermuar dişleri üzerinde\n",
    "for dis in fermuar:\n",
    "    print(dis)\n"
   ]
  },
  {
   "cell_type": "markdown",
   "id": "demanding-grade",
   "metadata": {},
   "source": [
    "Görüğünüz gibi, fermuar içindeki her bir eleman bir Tuple.\n",
    "\n",
    "Ve her Tuple'in ilk elemanı metin dizisinden, ikinci elemanı liste dizisinden.\n",
    "\n",
    "Böylece elemanlar kaşlılıklı olarak (aynı index'teki) birbirine fermuarlandı."
   ]
  },
  {
   "cell_type": "code",
   "execution_count": 71,
   "id": "funky-retreat",
   "metadata": {},
   "outputs": [
    {
     "ename": "TypeError",
     "evalue": "'zip' object is not subscriptable",
     "output_type": "error",
     "traceback": [
      "\u001b[1;31m---------------------------------------------------------------------------\u001b[0m",
      "\u001b[1;31mTypeError\u001b[0m                                 Traceback (most recent call last)",
      "\u001b[1;32m<ipython-input-71-5ee73ab3f86d>\u001b[0m in \u001b[0;36m<module>\u001b[1;34m\u001b[0m\n\u001b[0;32m      1\u001b[0m \u001b[1;31m# index ile zip() çağıralım\u001b[0m\u001b[1;33m\u001b[0m\u001b[1;33m\u001b[0m\u001b[1;33m\u001b[0m\u001b[0m\n\u001b[0;32m      2\u001b[0m \u001b[1;33m\u001b[0m\u001b[0m\n\u001b[1;32m----> 3\u001b[1;33m \u001b[0mfermuar\u001b[0m\u001b[1;33m[\u001b[0m\u001b[1;36m0\u001b[0m\u001b[1;33m]\u001b[0m\u001b[1;33m\u001b[0m\u001b[1;33m\u001b[0m\u001b[0m\n\u001b[0m",
      "\u001b[1;31mTypeError\u001b[0m: 'zip' object is not subscriptable"
     ]
    }
   ],
   "source": [
    "# index ile zip() çağıralım\n",
    "\n",
    "fermuar[0]"
   ]
  },
  {
   "cell_type": "markdown",
   "id": "hollow-vision",
   "metadata": {},
   "source": [
    "Eğer **zip nesnesini** List olarak almak ve index'lemek istersek -> list()"
   ]
  },
  {
   "cell_type": "code",
   "execution_count": 72,
   "id": "racial-slovenia",
   "metadata": {},
   "outputs": [
    {
     "data": {
      "text/plain": [
       "[]"
      ]
     },
     "execution_count": 72,
     "metadata": {},
     "output_type": "execute_result"
    }
   ],
   "source": [
    "fermuar_listesi = list(fermuar)\n",
    "fermuar_listesi"
   ]
  },
  {
   "cell_type": "markdown",
   "id": "instructional-sixth",
   "metadata": {},
   "source": [
    "Nasıl olur diyorsunuz değil mi? Bir yukarıda aynı işlem bir tuple listesi vermişti, şimdi ise boş bir liste verdi?\n",
    "\n",
    "Bunun sebebi, Python'da iterator'lerin iterate etme yani elemanları üzerinde dönme işlemini bir kere yapıyor olmalarıdır. \n",
    "\n",
    "Dönme işlemi bir kere yapılıp tamamlandıktan sonra, iterator artık boş listeye döner.\n",
    "\n",
    "Bunun da amacı sonsuz döngüyü engellemektir.\n",
    "\n",
    "`list()` işlemi yapmak da aslında üzerinde dönmek demek, dolayısı ile o da sadece bir kere yapılabilir."
   ]
  },
  {
   "cell_type": "markdown",
   "id": "encouraging-concentrate",
   "metadata": {},
   "source": [
    "**Soru:** Peki `zip()` fonksiyonuna parametre olan gelen iki dizi eğer aynı uzunlukta değilse ne olacak?\n",
    "\n",
    "**Cevap:** Kısa olan dizi kadar zip olurlar."
   ]
  },
  {
   "cell_type": "code",
   "execution_count": 73,
   "id": "interested-rugby",
   "metadata": {},
   "outputs": [
    {
     "name": "stdout",
     "output_type": "stream",
     "text": [
      "<zip object at 0x000001B5E3CF60C0>\n"
     ]
    }
   ],
   "source": [
    "d1 = ['A', 'B', 'C', 'D', 'E']\n",
    "d2 = [10, 20, 30]\n",
    "\n",
    "yeni_fermuar = zip(d1, d2)\n",
    "\n",
    "print(yeni_fermuar)\n"
   ]
  },
  {
   "cell_type": "code",
   "execution_count": 74,
   "id": "congressional-cedar",
   "metadata": {},
   "outputs": [
    {
     "data": {
      "text/plain": [
       "[('A', 10), ('B', 20), ('C', 30)]"
      ]
     },
     "execution_count": 74,
     "metadata": {},
     "output_type": "execute_result"
    }
   ],
   "source": [
    "# yeni_fermuar zip'ini liste yap\n",
    "\n",
    "yeni_fermuar_listesi = list(yeni_fermuar)\n",
    "yeni_fermuar_listesi\n"
   ]
  },
  {
   "cell_type": "markdown",
   "id": "adequate-discharge",
   "metadata": {},
   "source": [
    "**For ile Dönerken, Tuple alma:**"
   ]
  },
  {
   "cell_type": "code",
   "execution_count": 75,
   "id": "sticky-camel",
   "metadata": {},
   "outputs": [
    {
     "data": {
      "text/plain": [
       "[('A', 10), ('B', 20), ('C', 30)]"
      ]
     },
     "execution_count": 75,
     "metadata": {},
     "output_type": "execute_result"
    }
   ],
   "source": [
    "yeni_fermuar_listesi"
   ]
  },
  {
   "cell_type": "code",
   "execution_count": 76,
   "id": "silver-shift",
   "metadata": {},
   "outputs": [
    {
     "name": "stdout",
     "output_type": "stream",
     "text": [
      "('A', 10)\n",
      "('B', 20)\n",
      "('C', 30)\n"
     ]
    }
   ],
   "source": [
    "# yeni_fermuar_listesi elemanlarını tek tek alalım\n",
    "\n",
    "for dis in yeni_fermuar_listesi:\n",
    "    print(dis)\n"
   ]
  },
  {
   "cell_type": "code",
   "execution_count": 77,
   "id": "stretch-medicaid",
   "metadata": {},
   "outputs": [
    {
     "name": "stdout",
     "output_type": "stream",
     "text": [
      "d1'den gelen: A,  d2'den gelen: 10\n",
      "d1'den gelen: B,  d2'den gelen: 20\n",
      "d1'den gelen: C,  d2'den gelen: 30\n"
     ]
    }
   ],
   "source": [
    "\n",
    "for d1_eleman, d2_eleman in yeni_fermuar_listesi:\n",
    "    \n",
    "    print(\"d1'den gelen: {},  d2'den gelen: {}\".format(d1_eleman, d2_eleman))\n",
    "    "
   ]
  },
  {
   "cell_type": "markdown",
   "id": "charming-shaft",
   "metadata": {},
   "source": [
    "**Alıştırma:**\n",
    "\n",
    "Verilen iki listedeki karşılıklı elemanları kontrol edelim.\n",
    "\n",
    "İkisi de eşitse yazdıralım:"
   ]
  },
  {
   "cell_type": "code",
   "execution_count": 78,
   "id": "meaningful-grace",
   "metadata": {},
   "outputs": [
    {
     "name": "stdout",
     "output_type": "stream",
     "text": [
      "B\n",
      "d\n",
      "F\n"
     ]
    }
   ],
   "source": [
    "l1 = ['a', 'B', 'C', 'd', 'e', 'F']\n",
    "l2 = ['A', 'B', 'c', 'd', 'E', 'F']\n",
    "\n",
    "for e1, e2 in zip(l1, l2):\n",
    "    \n",
    "    if e1 == e2:\n",
    "        print(e1)\n"
   ]
  },
  {
   "cell_type": "markdown",
   "id": "rational-secretary",
   "metadata": {},
   "source": [
    "### Dictionary'ler ve Tuple'lar"
   ]
  },
  {
   "cell_type": "markdown",
   "id": "objective-kruger",
   "metadata": {},
   "source": [
    "Daha önce Dictionary bölümünde görmüştük; Dictionary'nin elemanlarını almak için `items()` fonksiyonu kullanılır.\n",
    "\n",
    "İşte bu **items()** fonksiyonu biz bir **Tuple listesi** döner."
   ]
  },
  {
   "cell_type": "code",
   "execution_count": 79,
   "id": "blessed-concrete",
   "metadata": {},
   "outputs": [
    {
     "name": "stdout",
     "output_type": "stream",
     "text": [
      "{'A': 65, 'B': 66, 'C': 67, 'a': 97, 'b': 98, 'c': 99}\n"
     ]
    }
   ],
   "source": [
    "# ilk 3 harfi ve onların ASCII kodlarını tutan bir sözlük\n",
    "\n",
    "sozluk = {\n",
    "    'A': ord('A'),\n",
    "    'B': ord('B'),\n",
    "    'C': ord('C'),\n",
    "    'a': ord('a'),\n",
    "    'b': ord('b'),\n",
    "    'c': ord('c')\n",
    "}\n",
    "\n",
    "print(sozluk)\n"
   ]
  },
  {
   "cell_type": "code",
   "execution_count": 80,
   "id": "linear-surfing",
   "metadata": {},
   "outputs": [
    {
     "data": {
      "text/plain": [
       "dict_items([('A', 65), ('B', 66), ('C', 67), ('a', 97), ('b', 98), ('c', 99)])"
      ]
     },
     "execution_count": 80,
     "metadata": {},
     "output_type": "execute_result"
    }
   ],
   "source": [
    "# items()\n",
    "\n",
    "sozluk.items()"
   ]
  },
  {
   "cell_type": "code",
   "execution_count": 81,
   "id": "underlying-gateway",
   "metadata": {},
   "outputs": [
    {
     "name": "stdout",
     "output_type": "stream",
     "text": [
      "A 65\n",
      "B 66\n",
      "C 67\n",
      "a 97\n",
      "b 98\n",
      "c 99\n"
     ]
    }
   ],
   "source": [
    "# Şimdi dict_items üzerine döngü kuralım\n",
    "\n",
    "for anahtar, deger in sozluk.items():\n",
    "    print(anahtar, deger)\n",
    "    "
   ]
  },
  {
   "cell_type": "markdown",
   "id": "anticipated-projection",
   "metadata": {},
   "source": [
    "**Hatırlatma:** Her ne kadar yukarıda elemanlar sıralı gelmiş ve sanki Dictionary'de sıralı duruyorlamış gibi gelse de, bu doğru değildir. Dictionary içinde elemanların sıralı olmasını beklemeyin. Yapısı gereği, index tutmadığı için sıra beklemek yanlış olur."
   ]
  },
  {
   "cell_type": "markdown",
   "id": "organized-exploration",
   "metadata": {},
   "source": [
    "**Bir Tuple Listesini Dictionary Yapmak:**\n",
    "\n",
    "Az önce bir dictionary'nin elemanlarını `items()` ile alınca, bize içinde Tuple'lar olan bir List verdiğini gördük."
   ]
  },
  {
   "cell_type": "markdown",
   "id": "freelance-opinion",
   "metadata": {},
   "source": [
    "Şimdi aynı işlemi tersten yapalım:\n",
    "\n",
    "İçinde Tuple'lar olan bir List'i, Dictionary'ye çevirelim:"
   ]
  },
  {
   "cell_type": "code",
   "execution_count": 82,
   "id": "automatic-darwin",
   "metadata": {},
   "outputs": [
    {
     "name": "stdout",
     "output_type": "stream",
     "text": [
      "[('Ocak', 31), ('Şubat', 28), ('Mart', 31), ('Nisan', 30)]\n"
     ]
    }
   ],
   "source": [
    "aylar_gunler = [\n",
    "    ('Ocak', 31),\n",
    "    ('Şubat', 28),\n",
    "    ('Mart', 31),\n",
    "    ('Nisan', 30)\n",
    "]\n",
    "\n",
    "print(aylar_gunler)"
   ]
  },
  {
   "cell_type": "code",
   "execution_count": 84,
   "id": "yellow-alarm",
   "metadata": {},
   "outputs": [
    {
     "name": "stdout",
     "output_type": "stream",
     "text": [
      "{'Ocak': 31, 'Şubat': 28, 'Mart': 31, 'Nisan': 30}\n",
      "<class 'dict'>\n"
     ]
    }
   ],
   "source": [
    "aylar = dict(aylar_gunler)\n",
    "\n",
    "print(aylar)\n",
    "print(type(aylar))"
   ]
  },
  {
   "cell_type": "markdown",
   "id": "legislative-break",
   "metadata": {},
   "source": [
    "**Alıştırma:**\n",
    "\n",
    "`zip()` ve range fonksiyonlarını kullanarak haftanın günlerini bir Dictionary içinde index'leyelim:\n",
    "* 1: Pazartesi\n",
    "* 2: Salı\n",
    "* 3: Çarşamba\n",
    "* 4: Perşembe\n",
    "* 5: Cuma\n",
    "* 6: Cumartesi\n",
    "* 7: Pazar"
   ]
  },
  {
   "cell_type": "code",
   "execution_count": 85,
   "id": "nuclear-myrtle",
   "metadata": {},
   "outputs": [
    {
     "name": "stdout",
     "output_type": "stream",
     "text": [
      "<zip object at 0x000001B5E3C84280>\n"
     ]
    }
   ],
   "source": [
    "# Çözüm:\n",
    "\n",
    "gun_adlari = ['Pazartesi', 'Salı', 'Çarşamba', 'Perşembe', 'Cuma', 'Cumartesi', 'Pazar']\n",
    "numaralar = range(1, 8)\n",
    "\n",
    "gunler = zip(numaralar, gun_adlari)\n",
    "\n",
    "print(gunler)"
   ]
  },
  {
   "cell_type": "code",
   "execution_count": 86,
   "id": "caring-progress",
   "metadata": {},
   "outputs": [
    {
     "name": "stdout",
     "output_type": "stream",
     "text": [
      "{1: 'Pazartesi', 2: 'Salı', 3: 'Çarşamba', 4: 'Perşembe', 5: 'Cuma', 6: 'Cumartesi', 7: 'Pazar'}\n"
     ]
    }
   ],
   "source": [
    "# şimdi gunler zip'ni bir Dictionary'ye çevirelim\n",
    "\n",
    "gunler = dict(gunler)\n",
    "\n",
    "print(gunler)"
   ]
  },
  {
   "cell_type": "code",
   "execution_count": 87,
   "id": "generic-joshua",
   "metadata": {},
   "outputs": [
    {
     "data": {
      "text/plain": [
       "{1: 'Pazartesi',\n",
       " 2: 'Salı',\n",
       " 3: 'Çarşamba',\n",
       " 4: 'Perşembe',\n",
       " 5: 'Cuma',\n",
       " 6: 'Cumartesi',\n",
       " 7: 'Pazar'}"
      ]
     },
     "execution_count": 87,
     "metadata": {},
     "output_type": "execute_result"
    }
   ],
   "source": [
    "# yukarıdaki örneği tek satır kod ile \n",
    "\n",
    "gunler = dict(zip(numaralar, gun_adlari))\n",
    "\n",
    "gunler"
   ]
  },
  {
   "cell_type": "markdown",
   "id": "rapid-chess",
   "metadata": {},
   "source": [
    "**Tuple'i Dictionary'ye Key Yapmak:**\n",
    "\n",
    "Daha önce, Dictionary bölümünde şunu demiştik:\n",
    "\n",
    "Bir `Dictionary'nin` `key`'i Immutable olmak zorunda. Yani Immutable (Değiştirilemez) tipler sadece `key` olabilir."
   ]
  },
  {
   "cell_type": "markdown",
   "id": "chicken-network",
   "metadata": {},
   "source": [
    "İşte Tuple'lar Immutable oldukları için, Dictionary'e key olmak için kullanılabilirler."
   ]
  },
  {
   "cell_type": "markdown",
   "id": "raising-staff",
   "metadata": {},
   "source": [
    "**Örnek:**\n",
    "\n",
    "Diyelim ki bir sınıftaki öğrencilerin notlarını bir Dictionary içinde tutmak istiyorunuz.\n",
    "\n",
    "Öğrencilerin bilgileri `Adlar`, `Soyadlar` ve `Dereceler` ayrı listeler olarak tutuluyor olsun. \n",
    "\n",
    "Şu şekilde bir sözlük kuracağız:\n",
    "<pre>\n",
    "ogrenci_durumu = {\n",
    "    ('Musa', 'Arda'): 'AA', \n",
    "    ('Bruce', 'Wayne'): 'DC', \n",
    "    ('Klark', 'Kent'): 'FF', \n",
    "    ('Peter', 'Parker'): 'FD'\n",
    "}\n",
    "</pre>"
   ]
  },
  {
   "cell_type": "code",
   "execution_count": 88,
   "id": "uniform-sussex",
   "metadata": {},
   "outputs": [
    {
     "data": {
      "text/plain": [
       "{('Musa', 'Arda'): 'AA',\n",
       " ('Bruce', 'Wayne'): 'DC',\n",
       " ('Klark', 'Kent'): 'FF',\n",
       " ('Peter', 'Parker'): 'FD'}"
      ]
     },
     "execution_count": 88,
     "metadata": {},
     "output_type": "execute_result"
    }
   ],
   "source": [
    "# Çözüm:\n",
    "\n",
    "# sıralı listelerimiz\n",
    "adlar = ['Musa', 'Bruce', 'Klark', 'Peter']\n",
    "soyadlar = ['Arda', 'Wayne', 'Kent', 'Parker']\n",
    "dereceler = ['AA', 'DC', 'FF', 'FD']\n",
    "\n",
    "# boş dictionary\n",
    "ogrenci_durumu = {}\n",
    "\n",
    "# 3 listeyi de zip ile birleştirelim\n",
    "for ad, soyad, derece in zip(adlar, soyadlar, dereceler):\n",
    "    ogrenci_durumu[(ad, soyad)] = derece\n",
    "\n",
    "ogrenci_durumu\n"
   ]
  },
  {
   "cell_type": "markdown",
   "id": "missing-shark",
   "metadata": {},
   "source": [
    "### Key Olarak `lambda` Fonksiyonu"
   ]
  },
  {
   "cell_type": "markdown",
   "id": "designing-negative",
   "metadata": {},
   "source": [
    "Bazı hazır Python fonksiyonları, işlemlerini yapabilmek için sizden işlemin nasıl yapılacağını anlatan bir fonksiyon isterler.\n",
    "\n",
    "Yani parametre olarak bir fonksiyon isterler."
   ]
  },
  {
   "cell_type": "markdown",
   "id": "republican-canyon",
   "metadata": {},
   "source": [
    "Daha önce `lambda` fonksiyonu görmüştük. Şimdi lambda fonksiyonu kullanıp çok zor görünen işleri çok rahatça yapacağız."
   ]
  },
  {
   "cell_type": "markdown",
   "id": "sufficient-replacement",
   "metadata": {},
   "source": [
    "Örneğin, sıralama için kullanılan `sort()` ve `sorted()` fonksiyonları. \n",
    "\n",
    "Bu fonksiyonlar şu şekilde çalışır:\n",
    "\n",
    "* **sort()** \n",
    "    * list.sort(reverse=True|False, **key=myFunc**)\n",
    "    \n",
    "* **sorted()**\n",
    "    * sorted(iterable, **key=myFunc**, reverse=True|False)"
   ]
  },
  {
   "cell_type": "markdown",
   "id": "creative-installation",
   "metadata": {},
   "source": [
    "İşte yukarıdaki iki fonksiyonda da **key** parametresine geçen **myFunc** fonksiyonu, işlemin nasıl yapılacağını anlatan fonksiyonlardır."
   ]
  },
  {
   "cell_type": "markdown",
   "id": "aging-coverage",
   "metadata": {},
   "source": [
    "Önce normal bir fonksiyon yaratıp onu parametre olarak geçelim, sonra aynı işlemi `lambda` ile yaparız."
   ]
  },
  {
   "cell_type": "markdown",
   "id": "golden-deficit",
   "metadata": {},
   "source": [
    "Örneklerimizde kullanmak için diyelim ki elimizde şu şekilde bir Tuple var:"
   ]
  },
  {
   "cell_type": "code",
   "execution_count": 89,
   "id": "ahead-behavior",
   "metadata": {},
   "outputs": [],
   "source": [
    "arabalar = ('Mercedes', 'Audi', 'BMW', 'Porsche', 'VW')"
   ]
  },
  {
   "cell_type": "markdown",
   "id": "addressed-chamber",
   "metadata": {},
   "source": [
    "**Örnek: Normal Fonksiyon ile**\n",
    "\n",
    "Şimdi arabalar Tuple'ını harf uzunluklarına küçükten büyüğe sıralayalım. <br>\n",
    "Önce sıralama olarak fonksiyonu normal bir fonksiyon kullanalım:"
   ]
  },
  {
   "cell_type": "code",
   "execution_count": 90,
   "id": "pleased-harvey",
   "metadata": {},
   "outputs": [],
   "source": [
    "# önce sıralama fonksiyonunu yaz\n",
    "\n",
    "def myFunc(e):\n",
    "    return len(e)\n",
    "    "
   ]
  },
  {
   "cell_type": "code",
   "execution_count": 91,
   "id": "conditional-norfolk",
   "metadata": {},
   "outputs": [
    {
     "data": {
      "text/plain": [
       "4"
      ]
     },
     "execution_count": 91,
     "metadata": {},
     "output_type": "execute_result"
    }
   ],
   "source": [
    "myFunc('Audi')"
   ]
  },
  {
   "cell_type": "code",
   "execution_count": 92,
   "id": "interior-flashing",
   "metadata": {},
   "outputs": [
    {
     "data": {
      "text/plain": [
       "2"
      ]
     },
     "execution_count": 92,
     "metadata": {},
     "output_type": "execute_result"
    }
   ],
   "source": [
    "myFunc('VW')"
   ]
  },
  {
   "cell_type": "markdown",
   "id": "standing-wallace",
   "metadata": {},
   "source": [
    "Şimdi bu fonksiyonumuzu parametre olarak kullanıp sıralama yaptıralım."
   ]
  },
  {
   "cell_type": "code",
   "execution_count": 93,
   "id": "diagnostic-cancer",
   "metadata": {},
   "outputs": [
    {
     "data": {
      "text/plain": [
       "['VW', 'BMW', 'Audi', 'Porsche', 'Mercedes']"
      ]
     },
     "execution_count": 93,
     "metadata": {},
     "output_type": "execute_result"
    }
   ],
   "source": [
    "# sorted()\n",
    "\n",
    "# sorted() yeni bir liste yaratır\n",
    "\n",
    "sorted(arabalar, key = myFunc)"
   ]
  },
  {
   "cell_type": "code",
   "execution_count": 94,
   "id": "remarkable-miniature",
   "metadata": {},
   "outputs": [
    {
     "ename": "AttributeError",
     "evalue": "'tuple' object has no attribute 'sort'",
     "output_type": "error",
     "traceback": [
      "\u001b[1;31m---------------------------------------------------------------------------\u001b[0m",
      "\u001b[1;31mAttributeError\u001b[0m                            Traceback (most recent call last)",
      "\u001b[1;32m<ipython-input-94-1ee7c2802c04>\u001b[0m in \u001b[0;36m<module>\u001b[1;34m\u001b[0m\n\u001b[0;32m      3\u001b[0m \u001b[1;31m# sort() fonskiyonu listeyi yerinde değiştirir\u001b[0m\u001b[1;33m\u001b[0m\u001b[1;33m\u001b[0m\u001b[1;33m\u001b[0m\u001b[0m\n\u001b[0;32m      4\u001b[0m \u001b[1;33m\u001b[0m\u001b[0m\n\u001b[1;32m----> 5\u001b[1;33m \u001b[0marabalar\u001b[0m\u001b[1;33m.\u001b[0m\u001b[0msort\u001b[0m\u001b[1;33m(\u001b[0m\u001b[0mkey\u001b[0m \u001b[1;33m=\u001b[0m \u001b[0mmyFunc\u001b[0m\u001b[1;33m)\u001b[0m\u001b[1;33m\u001b[0m\u001b[1;33m\u001b[0m\u001b[0m\n\u001b[0m",
      "\u001b[1;31mAttributeError\u001b[0m: 'tuple' object has no attribute 'sort'"
     ]
    }
   ],
   "source": [
    "# sort()\n",
    "\n",
    "# sort() fonskiyonu listeyi yerinde değiştirir\n",
    "\n",
    "arabalar.sort(key = myFunc)"
   ]
  },
  {
   "cell_type": "code",
   "execution_count": 97,
   "id": "simple-benchmark",
   "metadata": {},
   "outputs": [
    {
     "name": "stdout",
     "output_type": "stream",
     "text": [
      "['Mercedes', 'Audi', 'BMW', 'Porsche', 'VW']\n",
      "['VW', 'BMW', 'Audi', 'Porsche', 'Mercedes']\n"
     ]
    }
   ],
   "source": [
    "# sort()\n",
    "\n",
    "# sort() fonskiyonu listeyi yerinde değiştirir\n",
    "\n",
    "arabalar_listesi = list(arabalar)\n",
    "print(arabalar_listesi)\n",
    "\n",
    "arabalar_listesi.sort(key = myFunc)\n",
    "\n",
    "print(arabalar_listesi)"
   ]
  },
  {
   "cell_type": "markdown",
   "id": "secure-listening",
   "metadata": {},
   "source": [
    "**Örnek: `lambda` Fonksiyonu ile**\n",
    "\n",
    "Şimdi aynı sıralama işlemini, hem `sorted()` hem de `sort()` için `lambda` fonksiyon kullanarak yapalım."
   ]
  },
  {
   "cell_type": "markdown",
   "id": "hired-victory",
   "metadata": {},
   "source": [
    "`lambda` fonksiyon, tek satır, isimsiz fonksiyondur ve bazı yerlerde çok işe yaramaktadır."
   ]
  },
  {
   "cell_type": "markdown",
   "id": "sitting-conjunction",
   "metadata": {},
   "source": [
    "Biraz önce **myFunc** olarak yaptığımız işlemi direk aynı satır içinde **lambda** ile yapacağız:"
   ]
  },
  {
   "cell_type": "code",
   "execution_count": 98,
   "id": "acting-invitation",
   "metadata": {},
   "outputs": [
    {
     "data": {
      "text/plain": [
       "['VW', 'BMW', 'Audi', 'Porsche', 'Mercedes']"
      ]
     },
     "execution_count": 98,
     "metadata": {},
     "output_type": "execute_result"
    }
   ],
   "source": [
    "# sorted()\n",
    "\n",
    "sorted(arabalar, key = lambda x: len(x))\n"
   ]
  },
  {
   "cell_type": "code",
   "execution_count": 99,
   "id": "standard-worry",
   "metadata": {},
   "outputs": [
    {
     "name": "stdout",
     "output_type": "stream",
     "text": [
      "['VW', 'BMW', 'Audi', 'Porsche', 'Mercedes']\n"
     ]
    }
   ],
   "source": [
    "# sort()\n",
    "\n",
    "arabalar_listesi = list(arabalar)\n",
    "\n",
    "arabalar_listesi.sort(key = lambda x: len(x))\n",
    "\n",
    "print(arabalar_listesi)"
   ]
  },
  {
   "cell_type": "markdown",
   "id": "metric-desktop",
   "metadata": {},
   "source": [
    "**Soru:**\n",
    "\n",
    "Biz şimdiye kadar, `sort()` ve `sorted()` fonksiyonları bir `key` parametresi vermeden kullandık.\n",
    "\n",
    "Peki neye göre sıralıyordu o zaman?"
   ]
  },
  {
   "cell_type": "markdown",
   "id": "unavailable-county",
   "metadata": {},
   "source": [
    "**Cevap:**\n",
    "\n",
    "`sort()` ve `sorted()` fonksiyonlarına eğer `key` parametresi vermezseniz, defult olarak elemanlar üzerinde **standart sıralama** yapar.\n",
    "\n",
    "Standart sıralamadan kasıt;\n",
    "* eğer elemanlar sayısal ise sayısal sıralama\n",
    "* eğer elemanlar metin (str) ise o zaman alfabetik sıralama"
   ]
  },
  {
   "cell_type": "code",
   "execution_count": 100,
   "id": "faced-sewing",
   "metadata": {},
   "outputs": [
    {
     "data": {
      "text/plain": [
       "[1, 2, 3, 4, 5, 6, 7]"
      ]
     },
     "execution_count": 100,
     "metadata": {},
     "output_type": "execute_result"
    }
   ],
   "source": [
    "# Örnek:\n",
    "\n",
    "sayilar = (2, 1, 3, 7, 6, 4, 5)\n",
    "\n",
    "sorted(sayilar)"
   ]
  },
  {
   "cell_type": "code",
   "execution_count": 101,
   "id": "varied-blackjack",
   "metadata": {},
   "outputs": [
    {
     "data": {
      "text/plain": [
       "[1, 2, 3, 4, 5, 6, 7]"
      ]
     },
     "execution_count": 101,
     "metadata": {},
     "output_type": "execute_result"
    }
   ],
   "source": [
    "# key parametresini biz verseydik\n",
    "\n",
    "sorted(sayilar, key = lambda x: x)"
   ]
  },
  {
   "cell_type": "code",
   "execution_count": 103,
   "id": "seeing-recipient",
   "metadata": {},
   "outputs": [
    {
     "name": "stdout",
     "output_type": "stream",
     "text": [
      "['a', 'b', 'c', 'd', 'e', 'f']\n"
     ]
    }
   ],
   "source": [
    "# Örnek:\n",
    "\n",
    "harfler = ['c', 'f', 'b', 'a', 'e', 'd']\n",
    "\n",
    "harfler.sort(key = lambda a: a)\n",
    "\n",
    "print(harfler)"
   ]
  },
  {
   "cell_type": "code",
   "execution_count": null,
   "id": "retired-castle",
   "metadata": {},
   "outputs": [],
   "source": []
  }
 ],
 "metadata": {
  "kernelspec": {
   "display_name": "Python 3",
   "language": "python",
   "name": "python3"
  },
  "language_info": {
   "codemirror_mode": {
    "name": "ipython",
    "version": 3
   },
   "file_extension": ".py",
   "mimetype": "text/x-python",
   "name": "python",
   "nbconvert_exporter": "python",
   "pygments_lexer": "ipython3",
   "version": "3.8.5"
  }
 },
 "nbformat": 4,
 "nbformat_minor": 5
}
