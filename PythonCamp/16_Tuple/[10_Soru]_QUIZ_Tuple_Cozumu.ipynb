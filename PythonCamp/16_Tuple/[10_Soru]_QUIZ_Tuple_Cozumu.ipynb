{
 "cells": [
  {
   "cell_type": "markdown",
   "id": "selected-sally",
   "metadata": {},
   "source": [
    "## [10 Soru] QUIZ - Tuple"
   ]
  },
  {
   "cell_type": "markdown",
   "id": "available-masters",
   "metadata": {},
   "source": [
    "**Soru 1:**\n",
    "\n",
    "Aşağıdaki şekilde bir fonksiyon yazın. Adı **tuple_yarat** olsun. <br>\n",
    "Fonksiyonumuz önce içinde 1'den 10'a kadar değerlerin olduğu bir Tuple yaratsın. <br>\n",
    "Ardından bu Tuple'a 11'den 20'ye kadar olan sayıları eklesin ve Tuple'ın son halini dönsün.\n",
    "\n",
    "**İpuçları:**\n",
    "* Tuple'lar Immutable'dır. O Tuple'a nasıl yeni eleman eklenir?\n",
    "* for döngüsü ve `range()` kullanın\n",
    "\n",
    "<pre style=\"background: gold;\">\n",
    "Sonuc: (1, 2, 3, 4, 5, 6, 7, 8, 9, 10, 11, 12, 13, 14, 15, 16, 17, 18, 19, 20)\n",
    "</pre>"
   ]
  },
  {
   "cell_type": "code",
   "execution_count": 5,
   "id": "textile-lemon",
   "metadata": {},
   "outputs": [],
   "source": [
    "# Çözüm 1:\n",
    "\n",
    "def tuple_yarat():\n",
    "    \n",
    "    # önce bir tuple yarat\n",
    "    tup = (1,2,3,4,5,6,7,8,9,10)\n",
    "    \n",
    "    # şimdi tuple'a değer ekle\n",
    "    for i in range(11, 21):\n",
    "        \n",
    "        # Tuple Immutable olduğuna göre -> direk değer ekleyemeyiz\n",
    "        # önce değer eklenmiş yeni bir tuple yaratıp -> eski tuple'a yeniden atama yapıcaz\n",
    "        yeni_tup = tup + (i,)\n",
    "        tup = yeni_tup\n",
    "        \n",
    "    return tup\n"
   ]
  },
  {
   "cell_type": "code",
   "execution_count": 6,
   "id": "sunset-bosnia",
   "metadata": {},
   "outputs": [
    {
     "name": "stdout",
     "output_type": "stream",
     "text": [
      "(1, 2, 3, 4, 5, 6, 7, 8, 9, 10, 11, 12, 13, 14, 15, 16, 17, 18, 19, 20)\n"
     ]
    }
   ],
   "source": [
    "t = tuple_yarat()\n",
    "\n",
    "print(t)"
   ]
  },
  {
   "cell_type": "markdown",
   "id": "electrical-removal",
   "metadata": {},
   "source": [
    "---"
   ]
  },
  {
   "cell_type": "markdown",
   "id": "final-measure",
   "metadata": {},
   "source": [
    "**Soru 2:**\n",
    "\n",
    "Parametre olarak verilen bir Tuple'ı String'e dönüştüren ve bu String'i geri dönen bir fonksiyon yazın. <br>\n",
    "Adı **tuple_to_string** olsun.\n",
    "\n",
    "**İpuçları:**\n",
    "* `join()`\n",
    "\n",
    "<pre style=\"background: gold;\">\n",
    "Parametre:\n",
    "t = ('Y', 'a', 'p', 'a', 'y', ' ', 'Z', 'e', 'k', 'a')\n",
    "\n",
    "Sonuc: Yapay Zeka\n",
    "</pre>"
   ]
  },
  {
   "cell_type": "code",
   "execution_count": 7,
   "id": "amazing-tackle",
   "metadata": {},
   "outputs": [],
   "source": [
    "# Çözüm 2:\n",
    "\n",
    "def tuple_to_string(tup):\n",
    "    \n",
    "    metin = ''.join(tup)\n",
    "    \n",
    "    return metin\n"
   ]
  },
  {
   "cell_type": "code",
   "execution_count": 8,
   "id": "dress-forest",
   "metadata": {},
   "outputs": [
    {
     "name": "stdout",
     "output_type": "stream",
     "text": [
      "Yapay Zeka\n"
     ]
    }
   ],
   "source": [
    "t = ('Y', 'a', 'p', 'a', 'y', ' ', 'Z', 'e', 'k', 'a')\n",
    "\n",
    "t = tuple_to_string(t)\n",
    "\n",
    "print(t)"
   ]
  },
  {
   "cell_type": "markdown",
   "id": "filled-requirement",
   "metadata": {},
   "source": [
    "---"
   ]
  },
  {
   "cell_type": "markdown",
   "id": "demonstrated-selling",
   "metadata": {},
   "source": [
    "**Soru 3:**\n",
    "\n",
    "Parametre olarak verilen bir String'i önce List'e sonra da bu List'i Tuple'a dönnüştüren bir fonksiyon yazın. <br>\n",
    "Adı **string_to_list_to_tuple** olsun ve Tuple'ı geri dönsün.\n",
    "\n",
    "**İpuçları:**\n",
    "* sadece `constructor` metodlarını kullanın\n",
    "    * list()\n",
    "    * tuple()\n",
    "    \n",
    "<pre style=\"background: gold;\">\n",
    "Parametre:\n",
    "python_babasi = 'Guido van Rossum'\n",
    "\n",
    "Sonuc: ('G', 'u', 'i', 'd', 'o', ' ', 'v', 'a', 'n', ' ', 'R', 'o', 's', 's', 'u', 'm')\n",
    "</pre>"
   ]
  },
  {
   "cell_type": "code",
   "execution_count": 10,
   "id": "dress-student",
   "metadata": {},
   "outputs": [],
   "source": [
    "# Çözüm 3:\n",
    "\n",
    "def string_to_list_to_tuple(metin):\n",
    "    \n",
    "    # önce String'i List'e çevir\n",
    "    liste = list(metin)\n",
    "    \n",
    "    # şimdi de list'i Tuple'a çevir\n",
    "    tup = tuple(liste)\n",
    "    \n",
    "    return tup\n",
    "    "
   ]
  },
  {
   "cell_type": "code",
   "execution_count": 11,
   "id": "private-rally",
   "metadata": {},
   "outputs": [
    {
     "name": "stdout",
     "output_type": "stream",
     "text": [
      "('G', 'u', 'i', 'd', 'o', ' ', 'v', 'a', 'n', ' ', 'R', 'o', 's', 's', 'u', 'm')\n"
     ]
    }
   ],
   "source": [
    "python_babasi = 'Guido van Rossum'\n",
    "baba_tuple = string_to_list_to_tuple(python_babasi)\n",
    "print(baba_tuple)"
   ]
  },
  {
   "cell_type": "markdown",
   "id": "complete-consistency",
   "metadata": {},
   "source": [
    "---"
   ]
  },
  {
   "cell_type": "markdown",
   "id": "diverse-house",
   "metadata": {},
   "source": [
    "**Soru 4:**\n",
    "\n",
    "Parametre olarak bir Tuple ve bir index alan bir fonksiyon yazın. <br>\n",
    "Fonksiyon, verilen index'te yer alan elemanın tüm Tuple içinde kaç sefer yer aldığını bize dönsün. Adı **kac_kere_geciyor** olsun.\n",
    "\n",
    "**İpuçları:**\n",
    "* count()\n",
    "\n",
    "<pre style=\"background: gold;\">\n",
    "Parametreler:\n",
    "t = (5, 2, 3, 3, 4, 2, 1, 3, 4, 5, 2, 1, 2)\n",
    "i = 1\n",
    "\n",
    "kac_kere_geciyor(t, i)\n",
    "\n",
    "Sonuc: 4\n",
    "</pre>"
   ]
  },
  {
   "cell_type": "code",
   "execution_count": 43,
   "id": "monetary-relaxation",
   "metadata": {},
   "outputs": [],
   "source": [
    "# Çözüm 4:\n",
    "\n",
    "def kac_kere_geciyor(tup, index):\n",
    "    \n",
    "    # bu index'teki elemanı bul\n",
    "    eleman = tup[index]\n",
    "    \n",
    "    # Tuple'in count() fonksiyonu var\n",
    "    # verilen eleman Tuple içinde kaç kere geçtiğini verir\n",
    "    return tup.count(eleman)\n"
   ]
  },
  {
   "cell_type": "code",
   "execution_count": 42,
   "id": "prerequisite-example",
   "metadata": {},
   "outputs": [
    {
     "name": "stdout",
     "output_type": "stream",
     "text": [
      "4\n"
     ]
    }
   ],
   "source": [
    "t = (5, 2, 3, 3, 4, 2, 1, 3, 4, 5, 2, 1, 2)\n",
    "i = 1\n",
    "adet = kac_kere_geciyor(t, i)\n",
    "print(adet)"
   ]
  },
  {
   "cell_type": "code",
   "execution_count": 14,
   "id": "bright-dallas",
   "metadata": {},
   "outputs": [
    {
     "name": "stdout",
     "output_type": "stream",
     "text": [
      "2\n"
     ]
    }
   ],
   "source": [
    "metin = ('G', 'u', 'i', 'd', 'o', ' ', 'v', 'a', 'n', ' ', 'R', 'o', 's', 's', 'u', 'm')\n",
    "ind = 4\n",
    "adet = kac_kere_geciyor(metin, ind)\n",
    "print(adet)"
   ]
  },
  {
   "cell_type": "markdown",
   "id": "personalized-hours",
   "metadata": {},
   "source": [
    "---"
   ]
  },
  {
   "cell_type": "markdown",
   "id": "weekly-fight",
   "metadata": {},
   "source": [
    "**Soru 5:**\n",
    "\n",
    "Tuple üzerinde dilimleme işlemleri daha önce String ve List'lerde gördüğümüz gibidir.\n",
    "\n",
    "Elimizde şu şekilde bir Tuple olsun:\n",
    "\n",
    "<pre> tup = ('a', 'b', 'c', 'd', 'e', 'f', 'g', 'h', 'i', 'j') </pre>\n",
    "\n",
    "Aşağıdaki sorulara slicing yani dilimleme ile (index bazlı) cevap veriniz:\n",
    "1. 4'cü eleman (dahil) ile 7'ci eleman (dahil) arasını bulun\n",
    "2. İlk 5 elemanı bulun\n",
    "3. 6'cı elemandan (dahil) sonrasını bulun\n",
    "4. Tüm elemanları bulun\n",
    "5. Sondan 2. elemanı bulun\n",
    "6. Son 4 elemanı bulun\n",
    "7. 2'ci elemandan başlayıp, 8'ci elemana kadar 2'şer atlayarak yazın\n",
    "8. Tüm elemanları 3'er atlayarak yazın\n",
    "9. 9'uncu elemandan, 3'cü elemana (hariç) kadar tersten yazın\n",
    "10. tup'u tersten yazın\n",
    "11. tup'u tersten 2'şer atlayarak yazın\n",
    "12. Son elemana (hariç) kadar olan tüm elemanlarını ters index ile alınız"
   ]
  },
  {
   "cell_type": "code",
   "execution_count": 15,
   "id": "removable-acrylic",
   "metadata": {},
   "outputs": [
    {
     "data": {
      "text/plain": [
       "('a', 'b', 'c', 'd', 'e', 'f', 'g', 'h', 'i', 'j')"
      ]
     },
     "execution_count": 15,
     "metadata": {},
     "output_type": "execute_result"
    }
   ],
   "source": [
    "# Çözüm:\n",
    "\n",
    "tup = ('a', 'b', 'c', 'd', 'e', 'f', 'g', 'h', 'i', 'j') \n",
    "tup\n",
    "# Her soru kendi hücresi içinde cevaplandı "
   ]
  },
  {
   "cell_type": "code",
   "execution_count": 16,
   "id": "centered-indianapolis",
   "metadata": {},
   "outputs": [
    {
     "data": {
      "text/plain": [
       "('d', 'e', 'f', 'g')"
      ]
     },
     "execution_count": 16,
     "metadata": {},
     "output_type": "execute_result"
    }
   ],
   "source": [
    "# 1. 4'cü eleman (dahil) ile 7'ci eleman (dahil) arasını bulun\n",
    "# 4. eleman -> index 3 demektir (index 0 dan başlar)\n",
    "# 7. eleman dahil olduğuna göre son 7 olacak (son dahil değildir dilimlemede)\n",
    "\n",
    "tup[3:7]"
   ]
  },
  {
   "cell_type": "code",
   "execution_count": 17,
   "id": "offshore-paraguay",
   "metadata": {},
   "outputs": [
    {
     "data": {
      "text/plain": [
       "('a', 'b', 'c', 'd', 'e')"
      ]
     },
     "execution_count": 17,
     "metadata": {},
     "output_type": "execute_result"
    }
   ],
   "source": [
    "# 2. İlk 5 elemanı bulun\n",
    "\n",
    "tup[:5]"
   ]
  },
  {
   "cell_type": "code",
   "execution_count": 18,
   "id": "facial-amazon",
   "metadata": {},
   "outputs": [
    {
     "data": {
      "text/plain": [
       "('f', 'g', 'h', 'i', 'j')"
      ]
     },
     "execution_count": 18,
     "metadata": {},
     "output_type": "execute_result"
    }
   ],
   "source": [
    "# 3. 6'cı elemandan (dahil) sonrasını bulun\n",
    "\n",
    "tup[5:]"
   ]
  },
  {
   "cell_type": "code",
   "execution_count": 26,
   "id": "failing-cradle",
   "metadata": {},
   "outputs": [
    {
     "data": {
      "text/plain": [
       "('a', 'b', 'c', 'd', 'e', 'f', 'g', 'h', 'i', 'j')"
      ]
     },
     "execution_count": 26,
     "metadata": {},
     "output_type": "execute_result"
    }
   ],
   "source": [
    "# 4. Tüm elemanları bulun\n",
    "\n",
    "tup[::]"
   ]
  },
  {
   "cell_type": "code",
   "execution_count": 20,
   "id": "streaming-membrane",
   "metadata": {},
   "outputs": [
    {
     "data": {
      "text/plain": [
       "'i'"
      ]
     },
     "execution_count": 20,
     "metadata": {},
     "output_type": "execute_result"
    }
   ],
   "source": [
    "# 5. Sondan 2. elemanı bulun\n",
    "\n",
    "tup[-2]"
   ]
  },
  {
   "cell_type": "code",
   "execution_count": 21,
   "id": "substantial-masters",
   "metadata": {},
   "outputs": [
    {
     "data": {
      "text/plain": [
       "('g', 'h', 'i', 'j')"
      ]
     },
     "execution_count": 21,
     "metadata": {},
     "output_type": "execute_result"
    }
   ],
   "source": [
    "# 6. Son 4 elemanı bulun\n",
    "\n",
    "tup[-4:]"
   ]
  },
  {
   "cell_type": "code",
   "execution_count": 22,
   "id": "lyric-poison",
   "metadata": {},
   "outputs": [
    {
     "data": {
      "text/plain": [
       "('b', 'd', 'f', 'h')"
      ]
     },
     "execution_count": 22,
     "metadata": {},
     "output_type": "execute_result"
    }
   ],
   "source": [
    "# 7. 2'ci elemandan başlayıp, 8'ci elemana kadar 2'şer atlayarak yazın\n",
    "\n",
    "tup[1:8:2]"
   ]
  },
  {
   "cell_type": "code",
   "execution_count": 23,
   "id": "animated-alliance",
   "metadata": {},
   "outputs": [
    {
     "data": {
      "text/plain": [
       "('a', 'd', 'g', 'j')"
      ]
     },
     "execution_count": 23,
     "metadata": {},
     "output_type": "execute_result"
    }
   ],
   "source": [
    "# 8. Tüm elemanları 3'er atlayarak yazın\n",
    "\n",
    "tup[::3]"
   ]
  },
  {
   "cell_type": "code",
   "execution_count": 24,
   "id": "fatal-julian",
   "metadata": {},
   "outputs": [
    {
     "data": {
      "text/plain": [
       "('i', 'h', 'g', 'f', 'e', 'd')"
      ]
     },
     "execution_count": 24,
     "metadata": {},
     "output_type": "execute_result"
    }
   ],
   "source": [
    "# 9. 9'uncu elemandan, 3'cü elemana (hariç) kadar tersten yazın\n",
    "\n",
    "tup[8:2:-1]"
   ]
  },
  {
   "cell_type": "code",
   "execution_count": 27,
   "id": "posted-charity",
   "metadata": {},
   "outputs": [
    {
     "data": {
      "text/plain": [
       "('j', 'i', 'h', 'g', 'f', 'e', 'd', 'c', 'b', 'a')"
      ]
     },
     "execution_count": 27,
     "metadata": {},
     "output_type": "execute_result"
    }
   ],
   "source": [
    "# 10. tup'u tersten yazın\n",
    "\n",
    "tup[::-1]"
   ]
  },
  {
   "cell_type": "code",
   "execution_count": 28,
   "id": "steady-boxing",
   "metadata": {},
   "outputs": [
    {
     "data": {
      "text/plain": [
       "('j', 'h', 'f', 'd', 'b')"
      ]
     },
     "execution_count": 28,
     "metadata": {},
     "output_type": "execute_result"
    }
   ],
   "source": [
    "# 11. tup'u tersten 2'şer atlayarak yazın\n",
    "\n",
    "tup[::-2]"
   ]
  },
  {
   "cell_type": "code",
   "execution_count": 31,
   "id": "outer-repeat",
   "metadata": {},
   "outputs": [
    {
     "data": {
      "text/plain": [
       "('a', 'b', 'c', 'd', 'e', 'f', 'g', 'h', 'i')"
      ]
     },
     "execution_count": 31,
     "metadata": {},
     "output_type": "execute_result"
    }
   ],
   "source": [
    "# 12. Son elemana (hariç) kadar olan tüm elemanlarını ters index ile alınız\n",
    "\n",
    "tup[:-1]"
   ]
  },
  {
   "cell_type": "markdown",
   "id": "lined-struggle",
   "metadata": {},
   "source": [
    "---"
   ]
  },
  {
   "cell_type": "markdown",
   "id": "optical-addition",
   "metadata": {},
   "source": [
    "**Soru 6:**\n",
    "\n",
    "Parametre olarak bir liste alan bir fonksiyon yazın. Fonksiyonun adı, **tuple_sonunu_degistir** olsun. <br>\n",
    "Bu listenin elemanları birer Tuple olsun. <br>\n",
    "Her bir tuple farklı uzunlukta olabilir. Dolayısı ile Listenin elemanlarının uzunlukları sabit değil. <br>\n",
    "Yazacağınız fonksiyon, Liste içindeki her bir Tuple elamanının son üyesini silsin, yerine karesini yazsın.\n",
    "\n",
    "**İpuçları:**\n",
    "* Liste yerinde değişsin, yani parametre olarak gelen orjinal liste değişsin\n",
    "* Tuple'ın son elemanını index ile nasıl alacağınızı düşünün\n",
    "* Listenin içinde for ile dönerken, döngüdeki elemanı değiştirseniz de liste değişmez.\n",
    "* Listeyi değiştirmenin bir yolunu bulmalısınız (enumerate())\n",
    "* Tuple birleştirmeye dikkat ediniz (tek elemanlı bir Tuple nasıl olur?)\n",
    "\n",
    "<pre style=\"background: gold;\">\n",
    "Parametre:\n",
    "tuple_listesi = [(2,5,8), (4,3), (1,7,9,6), (5,)]\n",
    "\n",
    "Sonuc:\n",
    "tuple_listesi = [(2,5,64), (4,9), (1,7,9,36), (25,)]\n",
    "</pre>"
   ]
  },
  {
   "cell_type": "code",
   "execution_count": 32,
   "id": "maritime-scratch",
   "metadata": {},
   "outputs": [],
   "source": [
    "# Çözüm 6:\n",
    "\n",
    "def tuple_sonunu_degistir(liste):\n",
    "    \n",
    "    for index, tup in enumerate(liste):\n",
    "        \n",
    "        # önce tuple'in son elemanına kadar al\n",
    "        son_elemana_kadar = tup[:-1]\n",
    "        \n",
    "        # son eleman için -> kare al\n",
    "        son_eleman = tup[-1]**2\n",
    "        \n",
    "        # şimdi bu ikisini birleştir\n",
    "        tup = son_elemana_kadar + (son_eleman,)\n",
    "        \n",
    "        # şimdi yeniden atanmış tup'u listeye geri gönder\n",
    "        liste[index] = tup\n",
    "    "
   ]
  },
  {
   "cell_type": "code",
   "execution_count": 33,
   "id": "explicit-olympus",
   "metadata": {},
   "outputs": [
    {
     "name": "stdout",
     "output_type": "stream",
     "text": [
      "Fonksiyondan önce tuple_listesi: [(2, 5, 8), (4, 3), (1, 7, 9, 6), (5,)]\n",
      "Fonksiyondan sonra tuple_listesi: [(2, 5, 64), (4, 9), (1, 7, 9, 36), (25,)]\n"
     ]
    }
   ],
   "source": [
    "tuple_listesi = [(2,5,8), (4,3), (1,7,9,6), (5,)]\n",
    "print('Fonksiyondan önce tuple_listesi:', tuple_listesi)\n",
    "\n",
    "tuple_sonunu_degistir(tuple_listesi)\n",
    "print('Fonksiyondan sonra tuple_listesi:', tuple_listesi)"
   ]
  },
  {
   "cell_type": "markdown",
   "id": "italic-authentication",
   "metadata": {},
   "source": [
    "---"
   ]
  },
  {
   "cell_type": "markdown",
   "id": "peaceful-battery",
   "metadata": {},
   "source": [
    "**Soru 7:**\n",
    "\n",
    "Parametre olarak bir liste alan bir fonksiyon yazın. Fonksiyonun adı, **tuple_karesi_ile_degistir** olsun. <br>\n",
    "Bu listenin elemanları birer Tuple olsun. <br>\n",
    "Her bir tuple farklı uzunlukta olabilir. Dolayısı ile Listenin elemanlarının uzunlukları sabit değil. <br>\n",
    "Yazacağınız fonksiyon, Liste içindeki her bir Tuple elamanının tüm elemanlarının yerine karelerini yazsın.\n",
    "\n",
    "Ve yeni kareli listeyi geri dönsün.\n",
    "\n",
    "**İpuçları:**\n",
    "* Parametre olarak gelen orjinal liste değişmesin\n",
    "* Listenin içinde for ile dönerken, döngüdeki elemanı değiştirseniz de liste değişmez.\n",
    "\n",
    "<pre style=\"background: gold;\">\n",
    "Parametre:\n",
    "tuple_listesi = [(2,5,8), (4,3), (1,7,9,6), (5,)]\n",
    "\n",
    "Sonuc:\n",
    "yeni_tuple_listesi = [(4,25,64), (16,9), (1,49,81,36), (25,)]\n",
    "</pre>"
   ]
  },
  {
   "cell_type": "code",
   "execution_count": 35,
   "id": "hollow-tradition",
   "metadata": {},
   "outputs": [],
   "source": [
    "# Çözüm 7:\n",
    "\n",
    "def tuple_karesi_ile_degistir(liste):\n",
    "    \n",
    "    # orjinal listeyi değiştirme -> kopyala\n",
    "    yeni_liste = liste.copy()\n",
    "    \n",
    "    for index, tup in enumerate(yeni_liste):\n",
    "        \n",
    "        yeni_tup = tuple()\n",
    "        \n",
    "        # tup'un elemanları üzerinde gez\n",
    "        for t in tup:\n",
    "            yeni_tup += (t**2,)\n",
    "            \n",
    "        # şimdi yeniden atanmış yeni_tup -> listeye geri ekle\n",
    "\n",
    "        yeni_liste[index] = yeni_tup\n",
    "        \n",
    "    return yeni_liste        \n",
    "        "
   ]
  },
  {
   "cell_type": "code",
   "execution_count": 36,
   "id": "peaceful-scale",
   "metadata": {},
   "outputs": [
    {
     "name": "stdout",
     "output_type": "stream",
     "text": [
      "tuple_listesi: [(2, 5, 8), (4, 3), (1, 7, 9, 6), (5,)]\n",
      "yeni_tuple_listesi: [(4, 25, 64), (16, 9), (1, 49, 81, 36), (25,)]\n"
     ]
    }
   ],
   "source": [
    "tuple_listesi = [(2,5,8), (4,3), (1,7,9,6), (5,)]\n",
    "\n",
    "yeni_tuple_listesi = tuple_karesi_ile_degistir(tuple_listesi)\n",
    "\n",
    "print('tuple_listesi:', tuple_listesi)\n",
    "print('yeni_tuple_listesi:', yeni_tuple_listesi)"
   ]
  },
  {
   "cell_type": "markdown",
   "id": "modern-execution",
   "metadata": {},
   "source": [
    "---"
   ]
  },
  {
   "cell_type": "markdown",
   "id": "sound-interpretation",
   "metadata": {},
   "source": [
    "**Soru 8:**\n",
    "\n",
    "Parametre olarak 4 liste alan bir fonksiyon yazın. Adı **oyuncu_film_karakteri_yil** olsun.\n",
    "\n",
    "Gelen 4 liste şu şekilde olacak:\n",
    "* Liste 1 -> Oyuncunun gerçek adı\n",
    "* Liste 2 -> Filmin Adı\n",
    "* Liste 3 -> Filmin Çekildiği Yıl\n",
    "* Liste 4 -> Karakter Adı\n",
    "\n",
    "Fonksiyon bu 4 listedeki, karşılıklı elemanları alacak ve 2'şer elemanlı 2 Tuple haline getirecek. Ve geriye bir Dictionary dönecek.\n",
    "* İlk Tuple -> (Oyuncu Adı, Karakter Adı)\n",
    "* İkinci Tuple -> (Film Adı, Çekim Yılı)\n",
    "\n",
    "Bu Dictionary'nin key'leri İlk Tuple, value'ları ise İkinci Tuple olacak.\n",
    "\n",
    "**İpuçları:**\n",
    "* `zip()`\n",
    "\n",
    "<pre style=\"background: gold\">\n",
    "Parametreler:\n",
    "oyuncular = ['Marlon Brando', 'Heath Ledger', 'Natalie Portman', 'Emma Stone']\n",
    "karakterler = ['Don Vito Corleone', 'Joker', 'The Swan Queen', 'Mia']\n",
    "filmler = ['The Godfather', 'The Dark Knight', 'Black Swan', 'La La Land']\n",
    "yillar = [1972, 2008, 2010, 2016]\n",
    "\n",
    "Sonuc:\n",
    "{('Marlon Brando', 'Don Vito Corleone'): ('The Godfather', 1972),\n",
    " ('Heath Ledger', 'Joker'): ('The Dark Knight', 2008),\n",
    " ('Natalie Portman', 'The Swan Queen'): ('Black Swan', 2010),\n",
    " ('Emma Stone', 'Mia'): ('La La Land', 2016)}\n",
    "</pre>"
   ]
  },
  {
   "cell_type": "code",
   "execution_count": 37,
   "id": "suited-flight",
   "metadata": {},
   "outputs": [],
   "source": [
    "# Çözüm 8:\n",
    "\n",
    "def oyuncu_film_karakteri_yil(oyuncular, karakterler, filmler, yillar):\n",
    "    \n",
    "    # sözlüğümüzü yaratalım\n",
    "    sozluk = {}\n",
    "    \n",
    "    # 4 listeyi tek bir zip() fonskiyonu ile birleştir\n",
    "    for oyuncu, karakter, film, yil in zip(oyuncular, karakterler, filmler, yillar):\n",
    "        \n",
    "        # ikili olarak Tuple haline getirelim -> sozluk'e ekle\n",
    "        sozluk[(oyuncu, karakter)] = (film, yil)\n",
    "        \n",
    "\n",
    "    return sozluk\n"
   ]
  },
  {
   "cell_type": "code",
   "execution_count": 38,
   "id": "common-congo",
   "metadata": {},
   "outputs": [
    {
     "data": {
      "text/plain": [
       "{('Marlon Brando', 'Don Vito Corleone'): ('The Godfather', 1972),\n",
       " ('Heath Ledger', 'Joker'): ('The Dark Knight', 2008),\n",
       " ('Natalie Portman', 'The Swan Queen'): ('Black Swan', 2010),\n",
       " ('Emma Stone', 'Mia'): ('La La Land', 2016)}"
      ]
     },
     "execution_count": 38,
     "metadata": {},
     "output_type": "execute_result"
    }
   ],
   "source": [
    "# listeler:\n",
    "oyuncular = ['Marlon Brando', 'Heath Ledger', 'Natalie Portman', 'Emma Stone']\n",
    "karakterler = ['Don Vito Corleone', 'Joker', 'The Swan Queen', 'Mia']\n",
    "filmler = ['The Godfather', 'The Dark Knight', 'Black Swan', 'La La Land']\n",
    "yillar = [1972, 2008, 2010, 2016]\n",
    "\n",
    "# fonksiyonu çağıralım\n",
    "oyuncu_film_sozluk = oyuncu_film_karakteri_yil(oyuncular, karakterler, filmler, yillar)\n",
    "oyuncu_film_sozluk"
   ]
  },
  {
   "cell_type": "markdown",
   "id": "strategic-dance",
   "metadata": {},
   "source": [
    "---"
   ]
  },
  {
   "cell_type": "markdown",
   "id": "textile-flooring",
   "metadata": {},
   "source": [
    "**Soru 9:**\n",
    "\n",
    "Parametre olarak bir Tuple alan bir fonksiyon yazın. Adı **tuple_sirala** olsun.\n",
    "\n",
    "Parametre olarak gelen Tuple, içinde Tuple'lar tutan bir yapı olsun. Yani elemanlar da Tuple olsun. Ve bu elemanlardan herbiri 2 elemanlı bir Tuple olacak.\n",
    "\n",
    "Fonksiyon, parametre olarak gelen Tuple'i sıralayacak ve sıralı bir Tuple dönecek.\n",
    "\n",
    "Sıralama kuralı, 2. eleman olacak. Yani içerideki Tuple'ların 2. elemanına bakıp ona göre sıralayacak.\n",
    "\n",
    "**İpuçları:**\n",
    "* `lambda` fonksiyon kullanınız\n",
    "\n",
    "<pre style=\"background: gold\">\n",
    "Parametre:\n",
    "tuple_of_tuples = (('a', 12), ('e', 8), ('b', 16), ('c', 22))\n",
    "\n",
    "Sonuc:\n",
    "[('e', 8), ('a', 12), ('b', 16), ('c', 22)]\n",
    "</pre>"
   ]
  },
  {
   "cell_type": "code",
   "execution_count": 39,
   "id": "downtown-worship",
   "metadata": {},
   "outputs": [],
   "source": [
    "# Çözüm 9:\n",
    "\n",
    "def tuple_sirala(tuple_of_tuples):\n",
    "    \n",
    "    # gelen tuple_of_tuples, içinde tuple'lar olan bir tuple\n",
    "    # herbir eleman, 0,1 olarak index ile iç eleman alabiliriz\n",
    "    # ilk eleman tup[0]\n",
    "    # tuple_of_tuples[0][1]\n",
    "    \n",
    "    return sorted(tuple_of_tuples, key = lambda x: x[1])\n",
    "    "
   ]
  },
  {
   "cell_type": "code",
   "execution_count": 40,
   "id": "excited-plaza",
   "metadata": {},
   "outputs": [
    {
     "data": {
      "text/plain": [
       "[('e', 8), ('a', 12), ('b', 16), ('c', 22)]"
      ]
     },
     "execution_count": 40,
     "metadata": {},
     "output_type": "execute_result"
    }
   ],
   "source": [
    "tuple_of_tuples = (('a', 12), ('e', 8), ('b', 16), ('c', 22))\n",
    "\n",
    "ikinci_sirali_tupler = tuple_sirala(tuple_of_tuples)\n",
    "ikinci_sirali_tupler"
   ]
  },
  {
   "cell_type": "markdown",
   "id": "funky-breed",
   "metadata": {},
   "source": [
    "---"
   ]
  },
  {
   "cell_type": "markdown",
   "id": "integrated-separate",
   "metadata": {},
   "source": [
    "**Soru 10:**\n",
    "\n",
    "Parametre olarak sayılardan oluşan bir Tuple ve bir sayı alan bir fonksiyon yazın. Adı **kac_kere_var** olsun.\n",
    "\n",
    "Fonksiyon, Tuple içinde verilen sayının kaç kere geçtiğini versin. \n",
    "\n",
    "Bunu yaparken Soru 4'teki **kac_kere_geciyor** fonksiyonunu kullansın. Kendi bir hesaplama yapmasın yani.\n",
    "\n",
    "Eğer bu Tupple içinde sayı yoksa, 'Sayı bulunumadı' diye hata dönsün.\n",
    "\n",
    "**İpuçları:**\n",
    "* fonksiyon dönen fonksiyon\n",
    "* raise\n",
    "* index()\n",
    "\n",
    "<pre style=\"background: gold\">\n",
    "Parametreler:\n",
    "tup = (5, 2, 3, 3, 4, 2, 1, 3, 4, 5, 2, 1, 2)\n",
    "sayi = 2\n",
    "\n",
    "Sonuc:\n",
    "4\n",
    "</pre>"
   ]
  },
  {
   "cell_type": "code",
   "execution_count": 44,
   "id": "public-index",
   "metadata": {},
   "outputs": [],
   "source": [
    "# Çözüm 10:\n",
    "\n",
    "def kac_kere_var(tup, sayi):\n",
    "    \n",
    "    # Tuple içinde sayı var mı?\n",
    "    if not sayi in tup:\n",
    "        raise Exception('Sayı bulunamadı!')\n",
    "    else:\n",
    "        # Soru 4'te kac_kere_geciyor(tup, index) fonksiyonu bu işi yapıyordu\n",
    "        # fakat index istiyordu\n",
    "        \n",
    "        # tuple.index(sayi) -> bulduğu ilk index'i döner\n",
    "        index = tup.index(sayi)\n",
    "        \n",
    "        # fonksiyon'u çağır -> gelen değeri return et\n",
    "        return kac_kere_geciyor(tup, index)\n",
    "    "
   ]
  },
  {
   "cell_type": "code",
   "execution_count": 45,
   "id": "extensive-flight",
   "metadata": {},
   "outputs": [
    {
     "data": {
      "text/plain": [
       "4"
      ]
     },
     "execution_count": 45,
     "metadata": {},
     "output_type": "execute_result"
    }
   ],
   "source": [
    "tup = (5, 2, 3, 3, 4, 2, 1, 3, 4, 5, 2, 1, 2)\n",
    "sayi = 2\n",
    "\n",
    "kac_kere_var(tup, sayi)"
   ]
  },
  {
   "cell_type": "code",
   "execution_count": 46,
   "id": "responsible-surrey",
   "metadata": {},
   "outputs": [
    {
     "data": {
      "text/plain": [
       "2"
      ]
     },
     "execution_count": 46,
     "metadata": {},
     "output_type": "execute_result"
    }
   ],
   "source": [
    "tup = (5, 2, 3, 3, 4, 2, 1, 3, 4, 5, 2, 1, 2)\n",
    "sayi = 5\n",
    "\n",
    "kac_kere_var(tup, sayi)"
   ]
  },
  {
   "cell_type": "code",
   "execution_count": 47,
   "id": "living-hebrew",
   "metadata": {},
   "outputs": [
    {
     "ename": "Exception",
     "evalue": "Sayı bulunamadı!",
     "output_type": "error",
     "traceback": [
      "\u001b[1;31m---------------------------------------------------------------------------\u001b[0m",
      "\u001b[1;31mException\u001b[0m                                 Traceback (most recent call last)",
      "\u001b[1;32m<ipython-input-47-2f01e9096b8b>\u001b[0m in \u001b[0;36m<module>\u001b[1;34m\u001b[0m\n\u001b[0;32m      4\u001b[0m \u001b[0msayi\u001b[0m \u001b[1;33m=\u001b[0m \u001b[1;36m99\u001b[0m\u001b[1;33m\u001b[0m\u001b[1;33m\u001b[0m\u001b[0m\n\u001b[0;32m      5\u001b[0m \u001b[1;33m\u001b[0m\u001b[0m\n\u001b[1;32m----> 6\u001b[1;33m \u001b[0mkac_kere_var\u001b[0m\u001b[1;33m(\u001b[0m\u001b[0mtup\u001b[0m\u001b[1;33m,\u001b[0m \u001b[0msayi\u001b[0m\u001b[1;33m)\u001b[0m\u001b[1;33m\u001b[0m\u001b[1;33m\u001b[0m\u001b[0m\n\u001b[0m",
      "\u001b[1;32m<ipython-input-44-71cdbb35fb1d>\u001b[0m in \u001b[0;36mkac_kere_var\u001b[1;34m(tup, sayi)\u001b[0m\n\u001b[0;32m      5\u001b[0m     \u001b[1;31m# Tuple içinde sayı var mı?\u001b[0m\u001b[1;33m\u001b[0m\u001b[1;33m\u001b[0m\u001b[1;33m\u001b[0m\u001b[0m\n\u001b[0;32m      6\u001b[0m     \u001b[1;32mif\u001b[0m \u001b[1;32mnot\u001b[0m \u001b[0msayi\u001b[0m \u001b[1;32min\u001b[0m \u001b[0mtup\u001b[0m\u001b[1;33m:\u001b[0m\u001b[1;33m\u001b[0m\u001b[1;33m\u001b[0m\u001b[0m\n\u001b[1;32m----> 7\u001b[1;33m         \u001b[1;32mraise\u001b[0m \u001b[0mException\u001b[0m\u001b[1;33m(\u001b[0m\u001b[1;34m'Sayı bulunamadı!'\u001b[0m\u001b[1;33m)\u001b[0m\u001b[1;33m\u001b[0m\u001b[1;33m\u001b[0m\u001b[0m\n\u001b[0m\u001b[0;32m      8\u001b[0m     \u001b[1;32melse\u001b[0m\u001b[1;33m:\u001b[0m\u001b[1;33m\u001b[0m\u001b[1;33m\u001b[0m\u001b[0m\n\u001b[0;32m      9\u001b[0m         \u001b[1;31m# Soru 4'te kac_kere_geciyor(tup, index) fonksiyonu bu işi yapıyordu\u001b[0m\u001b[1;33m\u001b[0m\u001b[1;33m\u001b[0m\u001b[1;33m\u001b[0m\u001b[0m\n",
      "\u001b[1;31mException\u001b[0m: Sayı bulunamadı!"
     ]
    }
   ],
   "source": [
    "# Tuple içinde olmayan bir sayı geçildiğinde hata dönmesi lazım\n",
    "\n",
    "tup = (5, 2, 3, 3, 4, 2, 1, 3, 4, 5, 2, 1, 2)\n",
    "sayi = 99\n",
    "\n",
    "kac_kere_var(tup, sayi)"
   ]
  },
  {
   "cell_type": "code",
   "execution_count": null,
   "id": "infectious-hunger",
   "metadata": {},
   "outputs": [],
   "source": []
  }
 ],
 "metadata": {
  "kernelspec": {
   "display_name": "Python 3",
   "language": "python",
   "name": "python3"
  },
  "language_info": {
   "codemirror_mode": {
    "name": "ipython",
    "version": 3
   },
   "file_extension": ".py",
   "mimetype": "text/x-python",
   "name": "python",
   "nbconvert_exporter": "python",
   "pygments_lexer": "ipython3",
   "version": "3.8.5"
  }
 },
 "nbformat": 4,
 "nbformat_minor": 5
}
