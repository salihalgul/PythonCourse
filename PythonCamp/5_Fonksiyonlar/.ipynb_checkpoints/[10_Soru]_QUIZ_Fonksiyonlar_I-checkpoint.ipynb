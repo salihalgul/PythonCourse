{
 "cells": [
  {
   "cell_type": "markdown",
   "id": "intelligent-banana",
   "metadata": {},
   "source": [
    "## [10 Soru] QUIZ - Fonksiyonlar I"
   ]
  },
  {
   "cell_type": "markdown",
   "id": "roman-eclipse",
   "metadata": {},
   "source": [
    "**Soru 1:**\n",
    "\n",
    "Ekrana \"Selam Dünya!\" yazan bir fonksiyon yazın."
   ]
  },
  {
   "cell_type": "code",
   "execution_count": 1,
   "id": "prompt-dictionary",
   "metadata": {},
   "outputs": [
    {
     "name": "stdout",
     "output_type": "stream",
     "text": [
      "Selam Dünya!\n"
     ]
    }
   ],
   "source": [
    "# Çözüm 1:\n",
    "\n",
    "def selam_dunya():\n",
    "    print(\"Selam Dünya!\")\n",
    "    \n",
    "selam_dunya()\n",
    "    "
   ]
  },
  {
   "cell_type": "markdown",
   "id": "prompt-african",
   "metadata": {},
   "source": [
    "---"
   ]
  },
  {
   "cell_type": "markdown",
   "id": "angry-instrumentation",
   "metadata": {},
   "source": [
    "**Soru 2:**\n",
    "\n",
    "String şeklinde iki parametre alan bir fonksiyon yazın. Bu parametreleri kişi ismi kabul edelim. <br>\n",
    "Fonksiyon bu iki ismi \"ve\" ile bağlayarak selamlasın. <br>\n",
    "Ör: Selam Clark Kent ve Superman. <br>\n",
    "(String'in format fonksiyonu kullanın.)"
   ]
  },
  {
   "cell_type": "code",
   "execution_count": 11,
   "id": "popular-killer",
   "metadata": {},
   "outputs": [
    {
     "name": "stdout",
     "output_type": "stream",
     "text": [
      "Selam Clark Kent ve Superman\n",
      "Selam Bruce Wwayne ve Batman\n",
      "Selam Peter Parker ve Spiderman\n"
     ]
    }
   ],
   "source": [
    "# Çözüm 2:\n",
    "\n",
    "# def iki_parametre(kisi1, kisi2):\n",
    "#     birlesmis_isim = \"Selam \" + kisi1 + \" ve \" + kisi2\n",
    "#     print(birlesmis_isim)\n",
    "    \n",
    "# iki_parametre(\"Clark Kent\", \"Superman\")\n",
    "\n",
    "def selamla(isim1, isim2):\n",
    "    print(\"Selam {0} ve {1}\".format(isim1, isim2))\n",
    "    \n",
    "selamla(\"Clark Kent\", \"Superman\")\n",
    "selamla('Bruce Wwayne', 'Batman')\n",
    "selamla('Peter Parker', 'Spiderman')"
   ]
  },
  {
   "cell_type": "markdown",
   "id": "growing-blogger",
   "metadata": {},
   "source": [
    "---"
   ]
  },
  {
   "cell_type": "markdown",
   "id": "working-algebra",
   "metadata": {},
   "source": [
    "**Soru 3:**\n",
    "\n",
    "Kullanıcıdan girdi olarak ismini isteyen bir fonksiyon yazın. <br>\n",
    "Bu fonksiyon aldığı ismi \"Selam sana ....\" şeklinde selamlasın. <br>\n",
    "(Girdi almak için input() fonksiyonunu kullanın.)"
   ]
  },
  {
   "cell_type": "code",
   "execution_count": 15,
   "id": "demographic-luxury",
   "metadata": {},
   "outputs": [
    {
     "name": "stdin",
     "output_type": "stream",
     "text": [
      "Lütfen ismini söylermisin? Python\n"
     ]
    },
    {
     "name": "stdout",
     "output_type": "stream",
     "text": [
      "Selam sana Python\n"
     ]
    }
   ],
   "source": [
    "# Çözüm 3:\n",
    "\n",
    "def ismini_iste():\n",
    "    isim = input(str(\"Lütfen ismini söylermisin?\"))\n",
    "    print(\"Selam sana {0}\".format(isim))\n",
    "\n",
    "ismini_iste()"
   ]
  },
  {
   "cell_type": "markdown",
   "id": "annual-positive",
   "metadata": {},
   "source": [
    "---"
   ]
  },
  {
   "cell_type": "markdown",
   "id": "equivalent-spice",
   "metadata": {},
   "source": [
    "**Soru 4:**\n",
    "\n",
    "Parametre olarak 3 sayı alan bir fonksiyon yazın. <br>\n",
    "Fonksiyon bu sayılardan en büyüğünü size geri dönsün. <br>\n",
    "Bu fonksiyonun docstring'ini de yazın. "
   ]
  },
  {
   "cell_type": "code",
   "execution_count": 23,
   "id": "cleared-current",
   "metadata": {},
   "outputs": [
    {
     "name": "stdout",
     "output_type": "stream",
     "text": [
      "82\n",
      "Help on function maksimum_getir in module __main__:\n",
      "\n",
      "maksimum_getir(sayi_1, sayi_2, sayi_3)\n",
      "    Bu fonksiyon 3 sayı alır ve en büyüğünü (max) geri döner.\n",
      "    Parametreler: int sayi_1, int sayi_2, int sayi_3\n",
      "    Sonuc: Python'un max fonksiyonunun verdiği değer\n",
      "\n",
      "\n",
      "    Bu fonksiyon 3 sayı alır ve en büyüğünü (max) geri döner.\n",
      "    Parametreler: int sayi_1, int sayi_2, int sayi_3\n",
      "    Sonuc: Python'un max fonksiyonunun verdiği değer\n",
      "    \n"
     ]
    }
   ],
   "source": [
    "# Çözüm 4:\n",
    "\n",
    "def maksimum_getir(sayi_1, sayi_2, sayi_3):\n",
    "    \"\"\"\n",
    "    Bu fonksiyon 3 sayı alır ve en büyüğünü (max) geri döner.\n",
    "    Parametreler: int sayi_1, int sayi_2, int sayi_3\n",
    "    Sonuc: Python'un max fonksiyonunun verdiği değer\n",
    "    \"\"\"\n",
    "    maksimum = max(sayi_1, sayi_2, sayi_3)\n",
    "    \n",
    "    return maksimum\n",
    "    \n",
    "maksimum_sayi = maksimum_getir(4, 82, 17)\n",
    "\n",
    "print(maksimum_sayi)\n",
    "\n",
    "help(maksimum_getir)\n",
    "print(maksimum_getir.__doc__)\n",
    "# maksimum_getir?\n",
    "# maksimum_getir??"
   ]
  },
  {
   "cell_type": "markdown",
   "id": "disturbed-bathroom",
   "metadata": {},
   "source": [
    "---"
   ]
  },
  {
   "cell_type": "markdown",
   "id": "conceptual-parts",
   "metadata": {},
   "source": [
    "**Soru 5:**\n",
    "\n",
    "Parametre olarak gelen metni parçalayan küçük harfe çeviren bir fonksiyon yazın. <br>\n",
    " * parçalamak için: strip()\n",
    " * küçük harf yapmak için: lower()"
   ]
  },
  {
   "cell_type": "code",
   "execution_count": 29,
   "id": "bronze-moscow",
   "metadata": {},
   "outputs": [
    {
     "name": "stdout",
     "output_type": "stream",
     "text": [
      "python machine learning\n"
     ]
    }
   ],
   "source": [
    "# Çözüm 5:\n",
    "\n",
    "def parcala_kucuk_yap(metin):\n",
    "    \n",
    "    parcali_metin = metin.strip()\n",
    "    \n",
    "    kucuk_yap = parcali_metin.lower()\n",
    "    \n",
    "    return kucuk_yap\n",
    "    \n",
    "metin = \"PyThon MaCHine LEARning\"\n",
    "\n",
    "son_metin = parcala_kucuk_yap(metin)\n",
    "\n",
    "print(son_metin)"
   ]
  },
  {
   "cell_type": "markdown",
   "id": "fossil-current",
   "metadata": {},
   "source": [
    "---"
   ]
  },
  {
   "cell_type": "markdown",
   "id": "focal-suggestion",
   "metadata": {},
   "source": [
    "**Soru 6:**\n",
    "\n",
    "Parametre olarak gelen iki sayının toplamını dönen bir fonksiyon yazın."
   ]
  },
  {
   "cell_type": "code",
   "execution_count": 41,
   "id": "equivalent-commission",
   "metadata": {},
   "outputs": [
    {
     "name": "stdout",
     "output_type": "stream",
     "text": [
      "65\n",
      "int([x]) -> integer\n",
      "int(x, base=10) -> integer\n",
      "\n",
      "Convert a number or string to an integer, or return 0 if no arguments\n",
      "are given.  If x is a number, return x.__int__().  For floating point\n",
      "numbers, this truncates towards zero.\n",
      "\n",
      "If x is not a number or if base is given, then x must be a string,\n",
      "bytes, or bytearray instance representing an integer literal in the\n",
      "given base.  The literal can be preceded by '+' or '-' and be surrounded\n",
      "by whitespace.  The base defaults to 10.  Valid bases are 0 and 2-36.\n",
      "Base 0 means to interpret the base from the string as an integer literal.\n",
      ">>> int('0b100', base=0)\n",
      "4\n"
     ]
    }
   ],
   "source": [
    "# Çözüm 6:\n",
    "\n",
    "def topla(x_1, x_2):\n",
    "    \"\"\"\n",
    "    Bu fonksiyon gelen iki sayıyı toplar.\n",
    "    Parametreler: int x_1, int x_2\n",
    "    Sonuc: sayıların toplamı\n",
    "    \"\"\"\n",
    "    toplam = x_1 + x_2\n",
    "    \n",
    "    return toplam\n",
    "\n",
    "n_1 = 40\n",
    "n_2 = 25\n",
    "\n",
    "sayilarin_toplami = topla(n_1, n_2)\n",
    "\n",
    "print(sayilarin_toplami)\n",
    "\n",
    "print(sayilarin_toplami.__doc__)"
   ]
  },
  {
   "cell_type": "markdown",
   "id": "forced-boating",
   "metadata": {},
   "source": [
    "---"
   ]
  },
  {
   "cell_type": "markdown",
   "id": "peaceful-board",
   "metadata": {},
   "source": [
    "**Soru 7:**\n",
    "\n",
    "Parametre olarak gelen 3 sayı alan bir fonksiyon yazın. <br>\n",
    "Fonksiyon bu sayıların ikili farklarını alsın ve bu farklardan en küçüğünü dönsün. <br>\n",
    "* Fark için mutlak değeri kullanın -> abs  (absolute value)\n",
    "* Minimum için -> min"
   ]
  },
  {
   "cell_type": "code",
   "execution_count": 29,
   "id": "bibliographic-queen",
   "metadata": {},
   "outputs": [
    {
     "name": "stdout",
     "output_type": "stream",
     "text": [
      "2\n"
     ]
    }
   ],
   "source": [
    "# Çözüm 7:\n",
    "\n"
   ]
  },
  {
   "cell_type": "markdown",
   "id": "romance-blink",
   "metadata": {},
   "source": [
    "---"
   ]
  },
  {
   "cell_type": "markdown",
   "id": "earned-scenario",
   "metadata": {},
   "source": [
    "**Soru 8:**\n",
    "\n",
    "Parametre olarak bir sayı alan bir fonksiyon yazın. <br>\n",
    "Fonksiyon bu sayının karekökünü dönsün. <br>\n",
    "* Karekök için -> math.sqrt()"
   ]
  },
  {
   "cell_type": "code",
   "execution_count": 30,
   "id": "unauthorized-immunology",
   "metadata": {},
   "outputs": [
    {
     "name": "stdout",
     "output_type": "stream",
     "text": [
      "9.0\n"
     ]
    }
   ],
   "source": [
    "# Çözüm 8:\n",
    "\n"
   ]
  },
  {
   "cell_type": "markdown",
   "id": "monetary-drill",
   "metadata": {},
   "source": [
    "---"
   ]
  },
  {
   "cell_type": "markdown",
   "id": "herbal-liberia",
   "metadata": {},
   "source": [
    "**Soru 9:**\n",
    "\n",
    "Parametre olarak bir sayı alan bir fonksiyon yazın. <br>\n",
    "Fonksiyon bu sayının logaritmasını dönsün. <br>\n",
    "* Logaritma için -> math.log()"
   ]
  },
  {
   "cell_type": "code",
   "execution_count": 32,
   "id": "acting-drill",
   "metadata": {},
   "outputs": [
    {
     "name": "stdout",
     "output_type": "stream",
     "text": [
      "2.4849066497880004\n",
      "6.0\n"
     ]
    }
   ],
   "source": [
    "# Çözüm 9:\n",
    "\n"
   ]
  },
  {
   "cell_type": "markdown",
   "id": "equal-electronics",
   "metadata": {},
   "source": [
    "---"
   ]
  },
  {
   "cell_type": "markdown",
   "id": "returning-checkout",
   "metadata": {},
   "source": [
    "**Soru 10:**\n",
    "\n",
    "Parametre olarak 2 sayı alan bir fonksiyon yazın. <br>\n",
    "Bu sayıları bir dik üçgenin dik kenarları  olarak düşünelim.\n",
    "Fonksiyon bu üçgenin hipotenüsünü dönsün. <br>\n",
    "$$ hipo^2 = a^2 + b^2 $$"
   ]
  },
  {
   "cell_type": "code",
   "execution_count": 37,
   "id": "activated-keeping",
   "metadata": {},
   "outputs": [
    {
     "name": "stdout",
     "output_type": "stream",
     "text": [
      "5.0\n",
      "25.0\n",
      "17.0\n"
     ]
    }
   ],
   "source": [
    "# Çözüm 10:\n",
    "\n"
   ]
  }
 ],
 "metadata": {
  "kernelspec": {
   "display_name": "Python 3 (ipykernel)",
   "language": "python",
   "name": "python3"
  },
  "language_info": {
   "codemirror_mode": {
    "name": "ipython",
    "version": 3
   },
   "file_extension": ".py",
   "mimetype": "text/x-python",
   "name": "python",
   "nbconvert_exporter": "python",
   "pygments_lexer": "ipython3",
   "version": "3.9.12"
  }
 },
 "nbformat": 4,
 "nbformat_minor": 5
}
