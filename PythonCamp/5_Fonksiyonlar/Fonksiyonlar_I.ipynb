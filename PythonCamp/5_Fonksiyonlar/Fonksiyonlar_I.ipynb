{
 "cells": [
  {
   "cell_type": "markdown",
   "id": "permanent-chambers",
   "metadata": {},
   "source": [
    "## Fonksiyonlar I"
   ]
  },
  {
   "cell_type": "markdown",
   "id": "african-experience",
   "metadata": {},
   "source": [
    "### Fonksiyon, Fonksiyon, Fonksiyon"
   ]
  },
  {
   "cell_type": "markdown",
   "id": "confidential-creativity",
   "metadata": {},
   "source": [
    "**Fonksiyon:** belli bir işlevi yerine getirmek için yazılmış özel kod parçasıdır."
   ]
  },
  {
   "cell_type": "markdown",
   "id": "harmful-superior",
   "metadata": {},
   "source": [
    "Fonksiyon, çağrıldığı zaman çalışır."
   ]
  },
  {
   "cell_type": "markdown",
   "id": "electric-gibraltar",
   "metadata": {},
   "source": [
    "Fonksiyonlar isteğe göre parametre (girdiler) alabilirler."
   ]
  },
  {
   "cell_type": "markdown",
   "id": "nutritional-vancouver",
   "metadata": {},
   "source": [
    "Fonksiyonlar isteğe göre, geriye bir değer dönebilirler."
   ]
  },
  {
   "cell_type": "markdown",
   "id": "black-viewer",
   "metadata": {},
   "source": [
    "Fonksiyon çağırma:\n",
    "\n",
    "**fonksiyon_adi()**"
   ]
  },
  {
   "cell_type": "markdown",
   "id": "bizarre-empire",
   "metadata": {},
   "source": [
    "Parametre ile fonksiyon çağırma:\n",
    "\n",
    "**fonksiyon_adi(parametre_1, parametre_2, ...)**"
   ]
  },
  {
   "cell_type": "markdown",
   "id": "labeled-calibration",
   "metadata": {},
   "source": [
    "Fonksiyonlar, kod tekrarını önler."
   ]
  },
  {
   "cell_type": "code",
   "execution_count": 1,
   "id": "minute-trader",
   "metadata": {},
   "outputs": [
    {
     "data": {
      "text/plain": [
       "int"
      ]
     },
     "execution_count": 1,
     "metadata": {},
     "output_type": "execute_result"
    }
   ],
   "source": [
    "# type()\n",
    "\n",
    "type(42)"
   ]
  },
  {
   "cell_type": "code",
   "execution_count": 2,
   "id": "colored-nudist",
   "metadata": {},
   "outputs": [
    {
     "data": {
      "text/plain": [
       "str"
      ]
     },
     "execution_count": 2,
     "metadata": {},
     "output_type": "execute_result"
    }
   ],
   "source": [
    "type(\"güzel bir metin\")"
   ]
  },
  {
   "cell_type": "code",
   "execution_count": 3,
   "id": "clear-relation",
   "metadata": {},
   "outputs": [
    {
     "data": {
      "text/plain": [
       "str"
      ]
     },
     "execution_count": 3,
     "metadata": {},
     "output_type": "execute_result"
    }
   ],
   "source": [
    "type('AI')"
   ]
  },
  {
   "cell_type": "code",
   "execution_count": 4,
   "id": "floral-antibody",
   "metadata": {},
   "outputs": [
    {
     "data": {
      "text/plain": [
       "5"
      ]
     },
     "execution_count": 4,
     "metadata": {},
     "output_type": "execute_result"
    }
   ],
   "source": [
    "int(5.68)"
   ]
  },
  {
   "cell_type": "code",
   "execution_count": 5,
   "id": "alert-ozone",
   "metadata": {},
   "outputs": [
    {
     "ename": "ValueError",
     "evalue": "invalid literal for int() with base 10: 'deger'",
     "output_type": "error",
     "traceback": [
      "\u001b[1;31m---------------------------------------------------------------------------\u001b[0m",
      "\u001b[1;31mValueError\u001b[0m                                Traceback (most recent call last)",
      "\u001b[1;32m<ipython-input-5-99a6b6ca883b>\u001b[0m in \u001b[0;36m<module>\u001b[1;34m\u001b[0m\n\u001b[1;32m----> 1\u001b[1;33m \u001b[0mint\u001b[0m\u001b[1;33m(\u001b[0m\u001b[1;34m'deger'\u001b[0m\u001b[1;33m)\u001b[0m\u001b[1;33m\u001b[0m\u001b[1;33m\u001b[0m\u001b[0m\n\u001b[0m",
      "\u001b[1;31mValueError\u001b[0m: invalid literal for int() with base 10: 'deger'"
     ]
    }
   ],
   "source": [
    "int('deger')"
   ]
  },
  {
   "cell_type": "code",
   "execution_count": 6,
   "id": "incoming-wheat",
   "metadata": {},
   "outputs": [
    {
     "data": {
      "text/plain": [
       "82"
      ]
     },
     "execution_count": 6,
     "metadata": {},
     "output_type": "execute_result"
    }
   ],
   "source": [
    "int(\"82\")"
   ]
  },
  {
   "cell_type": "code",
   "execution_count": 7,
   "id": "religious-enzyme",
   "metadata": {},
   "outputs": [
    {
     "data": {
      "text/plain": [
       "'45'"
      ]
     },
     "execution_count": 7,
     "metadata": {},
     "output_type": "execute_result"
    }
   ],
   "source": [
    "str(45)"
   ]
  },
  {
   "cell_type": "code",
   "execution_count": 8,
   "id": "moving-myrtle",
   "metadata": {},
   "outputs": [
    {
     "data": {
      "text/plain": [
       "'4.57'"
      ]
     },
     "execution_count": 8,
     "metadata": {},
     "output_type": "execute_result"
    }
   ],
   "source": [
    "str(4.57)"
   ]
  },
  {
   "cell_type": "code",
   "execution_count": 9,
   "id": "handed-standing",
   "metadata": {},
   "outputs": [
    {
     "data": {
      "text/plain": [
       "'Ankara'"
      ]
     },
     "execution_count": 9,
     "metadata": {},
     "output_type": "execute_result"
    }
   ],
   "source": [
    "str('Ankara')"
   ]
  },
  {
   "cell_type": "code",
   "execution_count": 10,
   "id": "under-representation",
   "metadata": {},
   "outputs": [
    {
     "data": {
      "text/plain": [
       "12.0"
      ]
     },
     "execution_count": 10,
     "metadata": {},
     "output_type": "execute_result"
    }
   ],
   "source": [
    "float(12)"
   ]
  },
  {
   "cell_type": "code",
   "execution_count": 11,
   "id": "intermediate-template",
   "metadata": {},
   "outputs": [
    {
     "data": {
      "text/plain": [
       "4.0"
      ]
     },
     "execution_count": 11,
     "metadata": {},
     "output_type": "execute_result"
    }
   ],
   "source": [
    "float('4')"
   ]
  },
  {
   "cell_type": "code",
   "execution_count": 13,
   "id": "secondary-brunei",
   "metadata": {},
   "outputs": [
    {
     "ename": "ValueError",
     "evalue": "could not convert string to float: '78-'",
     "output_type": "error",
     "traceback": [
      "\u001b[1;31m---------------------------------------------------------------------------\u001b[0m",
      "\u001b[1;31mValueError\u001b[0m                                Traceback (most recent call last)",
      "\u001b[1;32m<ipython-input-13-27963af477c3>\u001b[0m in \u001b[0;36m<module>\u001b[1;34m\u001b[0m\n\u001b[0;32m      1\u001b[0m \u001b[0msayi\u001b[0m \u001b[1;33m=\u001b[0m \u001b[1;34m'78-'\u001b[0m\u001b[1;33m\u001b[0m\u001b[1;33m\u001b[0m\u001b[0m\n\u001b[1;32m----> 2\u001b[1;33m \u001b[0mfloat\u001b[0m\u001b[1;33m(\u001b[0m\u001b[0msayi\u001b[0m\u001b[1;33m)\u001b[0m\u001b[1;33m\u001b[0m\u001b[1;33m\u001b[0m\u001b[0m\n\u001b[0m",
      "\u001b[1;31mValueError\u001b[0m: could not convert string to float: '78-'"
     ]
    }
   ],
   "source": [
    "sayi = '78-'\n",
    "float(sayi)"
   ]
  },
  {
   "cell_type": "markdown",
   "id": "relevant-miami",
   "metadata": {},
   "source": [
    "### Matematik Fonksiyonlar (math)"
   ]
  },
  {
   "cell_type": "markdown",
   "id": "small-flood",
   "metadata": {},
   "source": [
    "Matematiksel işlemleri yapmak için Python'da **math** modülü kullanılır."
   ]
  },
  {
   "cell_type": "markdown",
   "id": "organized-applicant",
   "metadata": {},
   "source": [
    "**Modül:** birbiriyle ilgili fonksiyonları ve dosyaları bir arada tutan dosya kümeleridir."
   ]
  },
  {
   "cell_type": "code",
   "execution_count": 14,
   "id": "center-novelty",
   "metadata": {},
   "outputs": [],
   "source": [
    "# math modülü içeri nasıl alınır\n",
    "\n",
    "import math"
   ]
  },
  {
   "cell_type": "code",
   "execution_count": 15,
   "id": "abroad-guyana",
   "metadata": {},
   "outputs": [
    {
     "name": "stdout",
     "output_type": "stream",
     "text": [
      "<module 'math' (built-in)>\n"
     ]
    }
   ],
   "source": [
    "# math modülünü görelim\n",
    "print(math)"
   ]
  },
  {
   "cell_type": "code",
   "execution_count": 16,
   "id": "labeled-helicopter",
   "metadata": {
    "collapsed": true,
    "jupyter": {
     "outputs_hidden": true
    }
   },
   "outputs": [
    {
     "name": "stdout",
     "output_type": "stream",
     "text": [
      "Help on built-in module math:\n",
      "\n",
      "NAME\n",
      "    math\n",
      "\n",
      "DESCRIPTION\n",
      "    This module provides access to the mathematical functions\n",
      "    defined by the C standard.\n",
      "\n",
      "FUNCTIONS\n",
      "    acos(x, /)\n",
      "        Return the arc cosine (measured in radians) of x.\n",
      "    \n",
      "    acosh(x, /)\n",
      "        Return the inverse hyperbolic cosine of x.\n",
      "    \n",
      "    asin(x, /)\n",
      "        Return the arc sine (measured in radians) of x.\n",
      "    \n",
      "    asinh(x, /)\n",
      "        Return the inverse hyperbolic sine of x.\n",
      "    \n",
      "    atan(x, /)\n",
      "        Return the arc tangent (measured in radians) of x.\n",
      "    \n",
      "    atan2(y, x, /)\n",
      "        Return the arc tangent (measured in radians) of y/x.\n",
      "        \n",
      "        Unlike atan(y/x), the signs of both x and y are considered.\n",
      "    \n",
      "    atanh(x, /)\n",
      "        Return the inverse hyperbolic tangent of x.\n",
      "    \n",
      "    ceil(x, /)\n",
      "        Return the ceiling of x as an Integral.\n",
      "        \n",
      "        This is the smallest integer >= x.\n",
      "    \n",
      "    comb(n, k, /)\n",
      "        Number of ways to choose k items from n items without repetition and without order.\n",
      "        \n",
      "        Evaluates to n! / (k! * (n - k)!) when k <= n and evaluates\n",
      "        to zero when k > n.\n",
      "        \n",
      "        Also called the binomial coefficient because it is equivalent\n",
      "        to the coefficient of k-th term in polynomial expansion of the\n",
      "        expression (1 + x)**n.\n",
      "        \n",
      "        Raises TypeError if either of the arguments are not integers.\n",
      "        Raises ValueError if either of the arguments are negative.\n",
      "    \n",
      "    copysign(x, y, /)\n",
      "        Return a float with the magnitude (absolute value) of x but the sign of y.\n",
      "        \n",
      "        On platforms that support signed zeros, copysign(1.0, -0.0)\n",
      "        returns -1.0.\n",
      "    \n",
      "    cos(x, /)\n",
      "        Return the cosine of x (measured in radians).\n",
      "    \n",
      "    cosh(x, /)\n",
      "        Return the hyperbolic cosine of x.\n",
      "    \n",
      "    degrees(x, /)\n",
      "        Convert angle x from radians to degrees.\n",
      "    \n",
      "    dist(p, q, /)\n",
      "        Return the Euclidean distance between two points p and q.\n",
      "        \n",
      "        The points should be specified as sequences (or iterables) of\n",
      "        coordinates.  Both inputs must have the same dimension.\n",
      "        \n",
      "        Roughly equivalent to:\n",
      "            sqrt(sum((px - qx) ** 2.0 for px, qx in zip(p, q)))\n",
      "    \n",
      "    erf(x, /)\n",
      "        Error function at x.\n",
      "    \n",
      "    erfc(x, /)\n",
      "        Complementary error function at x.\n",
      "    \n",
      "    exp(x, /)\n",
      "        Return e raised to the power of x.\n",
      "    \n",
      "    expm1(x, /)\n",
      "        Return exp(x)-1.\n",
      "        \n",
      "        This function avoids the loss of precision involved in the direct evaluation of exp(x)-1 for small x.\n",
      "    \n",
      "    fabs(x, /)\n",
      "        Return the absolute value of the float x.\n",
      "    \n",
      "    factorial(x, /)\n",
      "        Find x!.\n",
      "        \n",
      "        Raise a ValueError if x is negative or non-integral.\n",
      "    \n",
      "    floor(x, /)\n",
      "        Return the floor of x as an Integral.\n",
      "        \n",
      "        This is the largest integer <= x.\n",
      "    \n",
      "    fmod(x, y, /)\n",
      "        Return fmod(x, y), according to platform C.\n",
      "        \n",
      "        x % y may differ.\n",
      "    \n",
      "    frexp(x, /)\n",
      "        Return the mantissa and exponent of x, as pair (m, e).\n",
      "        \n",
      "        m is a float and e is an int, such that x = m * 2.**e.\n",
      "        If x is 0, m and e are both 0.  Else 0.5 <= abs(m) < 1.0.\n",
      "    \n",
      "    fsum(seq, /)\n",
      "        Return an accurate floating point sum of values in the iterable seq.\n",
      "        \n",
      "        Assumes IEEE-754 floating point arithmetic.\n",
      "    \n",
      "    gamma(x, /)\n",
      "        Gamma function at x.\n",
      "    \n",
      "    gcd(x, y, /)\n",
      "        greatest common divisor of x and y\n",
      "    \n",
      "    hypot(...)\n",
      "        hypot(*coordinates) -> value\n",
      "        \n",
      "        Multidimensional Euclidean distance from the origin to a point.\n",
      "        \n",
      "        Roughly equivalent to:\n",
      "            sqrt(sum(x**2 for x in coordinates))\n",
      "        \n",
      "        For a two dimensional point (x, y), gives the hypotenuse\n",
      "        using the Pythagorean theorem:  sqrt(x*x + y*y).\n",
      "        \n",
      "        For example, the hypotenuse of a 3/4/5 right triangle is:\n",
      "        \n",
      "            >>> hypot(3.0, 4.0)\n",
      "            5.0\n",
      "    \n",
      "    isclose(a, b, *, rel_tol=1e-09, abs_tol=0.0)\n",
      "        Determine whether two floating point numbers are close in value.\n",
      "        \n",
      "          rel_tol\n",
      "            maximum difference for being considered \"close\", relative to the\n",
      "            magnitude of the input values\n",
      "          abs_tol\n",
      "            maximum difference for being considered \"close\", regardless of the\n",
      "            magnitude of the input values\n",
      "        \n",
      "        Return True if a is close in value to b, and False otherwise.\n",
      "        \n",
      "        For the values to be considered close, the difference between them\n",
      "        must be smaller than at least one of the tolerances.\n",
      "        \n",
      "        -inf, inf and NaN behave similarly to the IEEE 754 Standard.  That\n",
      "        is, NaN is not close to anything, even itself.  inf and -inf are\n",
      "        only close to themselves.\n",
      "    \n",
      "    isfinite(x, /)\n",
      "        Return True if x is neither an infinity nor a NaN, and False otherwise.\n",
      "    \n",
      "    isinf(x, /)\n",
      "        Return True if x is a positive or negative infinity, and False otherwise.\n",
      "    \n",
      "    isnan(x, /)\n",
      "        Return True if x is a NaN (not a number), and False otherwise.\n",
      "    \n",
      "    isqrt(n, /)\n",
      "        Return the integer part of the square root of the input.\n",
      "    \n",
      "    ldexp(x, i, /)\n",
      "        Return x * (2**i).\n",
      "        \n",
      "        This is essentially the inverse of frexp().\n",
      "    \n",
      "    lgamma(x, /)\n",
      "        Natural logarithm of absolute value of Gamma function at x.\n",
      "    \n",
      "    log(...)\n",
      "        log(x, [base=math.e])\n",
      "        Return the logarithm of x to the given base.\n",
      "        \n",
      "        If the base not specified, returns the natural logarithm (base e) of x.\n",
      "    \n",
      "    log10(x, /)\n",
      "        Return the base 10 logarithm of x.\n",
      "    \n",
      "    log1p(x, /)\n",
      "        Return the natural logarithm of 1+x (base e).\n",
      "        \n",
      "        The result is computed in a way which is accurate for x near zero.\n",
      "    \n",
      "    log2(x, /)\n",
      "        Return the base 2 logarithm of x.\n",
      "    \n",
      "    modf(x, /)\n",
      "        Return the fractional and integer parts of x.\n",
      "        \n",
      "        Both results carry the sign of x and are floats.\n",
      "    \n",
      "    perm(n, k=None, /)\n",
      "        Number of ways to choose k items from n items without repetition and with order.\n",
      "        \n",
      "        Evaluates to n! / (n - k)! when k <= n and evaluates\n",
      "        to zero when k > n.\n",
      "        \n",
      "        If k is not specified or is None, then k defaults to n\n",
      "        and the function returns n!.\n",
      "        \n",
      "        Raises TypeError if either of the arguments are not integers.\n",
      "        Raises ValueError if either of the arguments are negative.\n",
      "    \n",
      "    pow(x, y, /)\n",
      "        Return x**y (x to the power of y).\n",
      "    \n",
      "    prod(iterable, /, *, start=1)\n",
      "        Calculate the product of all the elements in the input iterable.\n",
      "        \n",
      "        The default start value for the product is 1.\n",
      "        \n",
      "        When the iterable is empty, return the start value.  This function is\n",
      "        intended specifically for use with numeric values and may reject\n",
      "        non-numeric types.\n",
      "    \n",
      "    radians(x, /)\n",
      "        Convert angle x from degrees to radians.\n",
      "    \n",
      "    remainder(x, y, /)\n",
      "        Difference between x and the closest integer multiple of y.\n",
      "        \n",
      "        Return x - n*y where n*y is the closest integer multiple of y.\n",
      "        In the case where x is exactly halfway between two multiples of\n",
      "        y, the nearest even value of n is used. The result is always exact.\n",
      "    \n",
      "    sin(x, /)\n",
      "        Return the sine of x (measured in radians).\n",
      "    \n",
      "    sinh(x, /)\n",
      "        Return the hyperbolic sine of x.\n",
      "    \n",
      "    sqrt(x, /)\n",
      "        Return the square root of x.\n",
      "    \n",
      "    tan(x, /)\n",
      "        Return the tangent of x (measured in radians).\n",
      "    \n",
      "    tanh(x, /)\n",
      "        Return the hyperbolic tangent of x.\n",
      "    \n",
      "    trunc(x, /)\n",
      "        Truncates the Real x to the nearest Integral toward 0.\n",
      "        \n",
      "        Uses the __trunc__ magic method.\n",
      "\n",
      "DATA\n",
      "    e = 2.718281828459045\n",
      "    inf = inf\n",
      "    nan = nan\n",
      "    pi = 3.141592653589793\n",
      "    tau = 6.283185307179586\n",
      "\n",
      "FILE\n",
      "    (built-in)\n",
      "\n",
      "\n"
     ]
    }
   ],
   "source": [
    "# Python'da help özelliği vardır\n",
    "\n",
    "help(math)"
   ]
  },
  {
   "cell_type": "code",
   "execution_count": 17,
   "id": "active-battery",
   "metadata": {},
   "outputs": [
    {
     "data": {
      "text/plain": [
       "3.141592653589793"
      ]
     },
     "execution_count": 17,
     "metadata": {},
     "output_type": "execute_result"
    }
   ],
   "source": [
    "# math modülü içindeki bir fonksiyonu -> . ile çağırılır\n",
    "\n",
    "math.pi"
   ]
  },
  {
   "cell_type": "code",
   "execution_count": 18,
   "id": "bearing-married",
   "metadata": {},
   "outputs": [
    {
     "name": "stdout",
     "output_type": "stream",
     "text": [
      "62.83185307179586\n"
     ]
    }
   ],
   "source": [
    "# Örnek:\n",
    "\n",
    "# Yarı çapı 10 cm olan bir çemberin çevresi ne kadardır?\n",
    "# Çevre = 2 * pi * r\n",
    "\n",
    "r = 10\n",
    "\n",
    "# cevre\n",
    "cevre = 2 * math.pi * r\n",
    "\n",
    "print(cevre)"
   ]
  },
  {
   "cell_type": "code",
   "execution_count": 19,
   "id": "southern-singer",
   "metadata": {},
   "outputs": [
    {
     "name": "stdout",
     "output_type": "stream",
     "text": [
      "0.5235987755982988\n"
     ]
    }
   ],
   "source": [
    "# 30 derecenin sinüsünü hesaplayalım\n",
    "\n",
    "derece = 30\n",
    "\n",
    "# radyan hesapla\n",
    "radyan = math.radians(derece)\n",
    "\n",
    "print(radyan)"
   ]
  },
  {
   "cell_type": "code",
   "execution_count": 23,
   "id": "commercial-roots",
   "metadata": {},
   "outputs": [
    {
     "data": {
      "text/plain": [
       "-0.9880316240928618"
      ]
     },
     "execution_count": 23,
     "metadata": {},
     "output_type": "execute_result"
    }
   ],
   "source": [
    "# Yanlış kullanım\n",
    "\n",
    "sinus = math.sin(derece)\n",
    "sinus"
   ]
  },
  {
   "cell_type": "code",
   "execution_count": 21,
   "id": "distant-qualification",
   "metadata": {},
   "outputs": [
    {
     "name": "stdout",
     "output_type": "stream",
     "text": [
      "Help on built-in function sin in module math:\n",
      "\n",
      "sin(x, /)\n",
      "    Return the sine of x (measured in radians).\n",
      "\n"
     ]
    }
   ],
   "source": [
    "help(math.sin)"
   ]
  },
  {
   "cell_type": "code",
   "execution_count": 24,
   "id": "incident-lafayette",
   "metadata": {},
   "outputs": [
    {
     "data": {
      "text/plain": [
       "0.49999999999999994"
      ]
     },
     "execution_count": 24,
     "metadata": {},
     "output_type": "execute_result"
    }
   ],
   "source": [
    "# Doğru kullanım\n",
    "\n",
    "sinus = math.sin(radyan)\n",
    "sinus"
   ]
  },
  {
   "cell_type": "markdown",
   "id": "intense-programming",
   "metadata": {},
   "source": [
    "### Fonksiyonların Birleşimi"
   ]
  },
  {
   "cell_type": "markdown",
   "id": "developmental-airline",
   "metadata": {},
   "source": [
    "Yukarıda kullandığımız math.sin() fonksiyonunu tek adımda kullanmak istersek."
   ]
  },
  {
   "cell_type": "code",
   "execution_count": 3,
   "id": "vulnerable-gathering",
   "metadata": {},
   "outputs": [
    {
     "data": {
      "text/plain": [
       "0.49999999999999994"
      ]
     },
     "execution_count": 3,
     "metadata": {},
     "output_type": "execute_result"
    }
   ],
   "source": [
    "import math\n",
    "\n",
    "derece = 30\n",
    "sinus = math.sin(math.radians(derece))\n",
    "sinus"
   ]
  },
  {
   "cell_type": "markdown",
   "id": "settled-proxy",
   "metadata": {},
   "source": [
    "**Chain:** Fonksiyonları zincirlemek"
   ]
  },
  {
   "cell_type": "markdown",
   "id": "adaptive-minority",
   "metadata": {},
   "source": [
    "#### Fonksiyon Tanımlamak"
   ]
  },
  {
   "cell_type": "markdown",
   "id": "turkish-belly",
   "metadata": {},
   "source": [
    "**tanımlamak: definition**"
   ]
  },
  {
   "cell_type": "code",
   "execution_count": 8,
   "id": "greenhouse-canal",
   "metadata": {},
   "outputs": [],
   "source": [
    "# Parametresiz fonksiyon tanımalamak\n",
    "\n",
    "def fonksiyon_adi():\n",
    "    print(\"İlk fonksiyon\")\n",
    "    "
   ]
  },
  {
   "cell_type": "code",
   "execution_count": 9,
   "id": "indie-things",
   "metadata": {},
   "outputs": [
    {
     "name": "stdout",
     "output_type": "stream",
     "text": [
      "İlk fonksiyon\n"
     ]
    }
   ],
   "source": [
    "# fonksiyonu çağırmak\n",
    "\n",
    "fonksiyon_adi()"
   ]
  },
  {
   "cell_type": "markdown",
   "id": "rolled-address",
   "metadata": {},
   "source": [
    "**indent:** Python'da indent yapısı ile kod bölümlendirilir.\n",
    "\n",
    "* indent: tab\n",
    "* indent: 4 space"
   ]
  },
  {
   "cell_type": "code",
   "execution_count": 11,
   "id": "blank-lexington",
   "metadata": {},
   "outputs": [
    {
     "name": "stdout",
     "output_type": "stream",
     "text": [
      "Adı: John Doe\n",
      "Yaşı: 24\n",
      "Dili: Python\n"
     ]
    }
   ],
   "source": [
    "# Öğrenci Bilgileri\n",
    "\n",
    "print(\"Adı: John Doe\")\n",
    "print(\"Yaşı: 24\")\n",
    "print(\"Dili: Python\")"
   ]
  },
  {
   "cell_type": "code",
   "execution_count": 16,
   "id": "romance-violation",
   "metadata": {},
   "outputs": [
    {
     "name": "stdout",
     "output_type": "stream",
     "text": [
      "Adı: John Doe\n",
      "Yaşı: 24\n",
      "Dili: Python\n"
     ]
    }
   ],
   "source": [
    "# Öğrenci bilgileri tekrar lazım olsa\n",
    "\n",
    "print(\"Adı: John Doe\")\n",
    "print(\"Yaşı: 24\")\n",
    "print(\"Dili: Python\")"
   ]
  },
  {
   "cell_type": "code",
   "execution_count": 17,
   "id": "specified-spoke",
   "metadata": {},
   "outputs": [],
   "source": [
    "# Parametresiz fonksiyon tanımla\n",
    "\n",
    "def ogrenci_adi():\n",
    "    print(\"Adı: John Doe\")\n",
    "    "
   ]
  },
  {
   "cell_type": "code",
   "execution_count": 18,
   "id": "dental-nudist",
   "metadata": {},
   "outputs": [
    {
     "name": "stdout",
     "output_type": "stream",
     "text": [
      "Adı: John Doe\n"
     ]
    }
   ],
   "source": [
    "ogrenci_adi()"
   ]
  },
  {
   "cell_type": "code",
   "execution_count": 21,
   "id": "portuguese-limitation",
   "metadata": {},
   "outputs": [],
   "source": [
    "# öğrenci yaşını print eden fonksiyon\n",
    "\n",
    "def ogrenci_yasi():\n",
    "    print(\"Yaşı: 24\")\n",
    "    "
   ]
  },
  {
   "cell_type": "code",
   "execution_count": 22,
   "id": "blond-phoenix",
   "metadata": {},
   "outputs": [
    {
     "name": "stdout",
     "output_type": "stream",
     "text": [
      "Yaşı: 24\n"
     ]
    }
   ],
   "source": [
    "ogrenci_yasi()"
   ]
  },
  {
   "cell_type": "code",
   "execution_count": 23,
   "id": "crude-roulette",
   "metadata": {},
   "outputs": [],
   "source": [
    "# öğrencinin kullandığı dili print eden fonksiyon\n",
    "\n",
    "def ogrenci_dili():\n",
    "    print(\"Dili: Python\")\n",
    "    "
   ]
  },
  {
   "cell_type": "code",
   "execution_count": 24,
   "id": "ignored-moses",
   "metadata": {},
   "outputs": [
    {
     "name": "stdout",
     "output_type": "stream",
     "text": [
      "Dili: Python\n"
     ]
    }
   ],
   "source": [
    "ogrenci_dili()"
   ]
  },
  {
   "cell_type": "code",
   "execution_count": 25,
   "id": "framed-profession",
   "metadata": {},
   "outputs": [
    {
     "name": "stdout",
     "output_type": "stream",
     "text": [
      "Adı: John Doe\n",
      "Yaşı: 24\n",
      "Dili: Python\n"
     ]
    }
   ],
   "source": [
    "# Öğrenci bilgilerini tekrar yaz\n",
    "\n",
    "ogrenci_adi()\n",
    "ogrenci_yasi()\n",
    "ogrenci_dili()"
   ]
  },
  {
   "cell_type": "code",
   "execution_count": 26,
   "id": "trying-audience",
   "metadata": {},
   "outputs": [
    {
     "name": "stdout",
     "output_type": "stream",
     "text": [
      "Adı: John Doe\n",
      "Yaşı: 24\n",
      "Dili: Python\n"
     ]
    }
   ],
   "source": [
    "# tekrar öğrenci bilgileri\n",
    "\n",
    "ogrenci_adi()\n",
    "ogrenci_yasi()\n",
    "ogrenci_dili()"
   ]
  },
  {
   "cell_type": "code",
   "execution_count": 27,
   "id": "crucial-affiliation",
   "metadata": {},
   "outputs": [],
   "source": [
    "# bütün öğrenci bilgilerini yazan tek fonksiyon yazalım\n",
    "\n",
    "def ogrenci_bilgileri():\n",
    "    ogrenci_adi()\n",
    "    ogrenci_yasi()\n",
    "    ogrenci_dili()\n",
    "    "
   ]
  },
  {
   "cell_type": "code",
   "execution_count": 28,
   "id": "scenic-elizabeth",
   "metadata": {},
   "outputs": [
    {
     "name": "stdout",
     "output_type": "stream",
     "text": [
      "Adı: John Doe\n",
      "Yaşı: 24\n",
      "Dili: Python\n"
     ]
    }
   ],
   "source": [
    "# tekrar öğrenci bilgileri\n",
    "\n",
    "ogrenci_bilgileri()"
   ]
  },
  {
   "cell_type": "code",
   "execution_count": 29,
   "id": "empirical-geometry",
   "metadata": {},
   "outputs": [
    {
     "name": "stdout",
     "output_type": "stream",
     "text": [
      "Adı: John Doe\n",
      "Yaşı: 24\n",
      "Dili: Python\n"
     ]
    }
   ],
   "source": [
    "ogrenci_bilgileri()"
   ]
  },
  {
   "cell_type": "code",
   "execution_count": 30,
   "id": "czech-specialist",
   "metadata": {},
   "outputs": [
    {
     "data": {
      "text/plain": [
       "function"
      ]
     },
     "execution_count": 30,
     "metadata": {},
     "output_type": "execute_result"
    }
   ],
   "source": [
    "type(ogrenci_bilgileri)"
   ]
  },
  {
   "cell_type": "code",
   "execution_count": 31,
   "id": "appreciated-sewing",
   "metadata": {},
   "outputs": [
    {
     "name": "stdout",
     "output_type": "stream",
     "text": [
      "<function ogrenci_bilgileri at 0x000001CB73255DC0>\n"
     ]
    }
   ],
   "source": [
    "print(ogrenci_bilgileri)"
   ]
  },
  {
   "cell_type": "markdown",
   "id": "enclosed-freedom",
   "metadata": {},
   "source": [
    "Peki, öğrencinin adını ve soyadını ayrı ayrı yazmak istesek:\n",
    "\n",
    "\"Adı\": \"Peter\"\n",
    "\n",
    "\"Soyadı\": \"Parker\""
   ]
  },
  {
   "cell_type": "markdown",
   "id": "induced-cassette",
   "metadata": {},
   "source": [
    "O zaman ogrenci_adi() fonksiyonunu iki alt fonksiyona bölmemiz lazım."
   ]
  },
  {
   "cell_type": "code",
   "execution_count": 33,
   "id": "conscious-produce",
   "metadata": {},
   "outputs": [],
   "source": [
    "# öğrencinin ilk adını ve soyadını veren iki ayrı fonksiyon yazalım\n",
    "\n",
    "def ogrenci_ilk_adi():\n",
    "    print(\"Adı: Peter\")\n",
    "    \n",
    "    \n",
    "def ogrenci_soyadi():\n",
    "    print(\"Soyadı: Parker\") \n",
    "    "
   ]
  },
  {
   "cell_type": "code",
   "execution_count": 34,
   "id": "sacred-catalog",
   "metadata": {},
   "outputs": [],
   "source": [
    "# Şimdi öğrenci adı fonksiyonunu iki alt fonksiyonun birleşimi olarak yazalım\n",
    "\n",
    "def ogrenci_adi():\n",
    "    \n",
    "    ogrenci_ilk_adi()\n",
    "    \n",
    "    ogrenci_soyadi()\n",
    "    "
   ]
  },
  {
   "cell_type": "code",
   "execution_count": 35,
   "id": "physical-fetish",
   "metadata": {},
   "outputs": [
    {
     "name": "stdout",
     "output_type": "stream",
     "text": [
      "Adı: Peter\n",
      "Soyadı: Parker\n"
     ]
    }
   ],
   "source": [
    "ogrenci_adi()"
   ]
  },
  {
   "cell_type": "code",
   "execution_count": 36,
   "id": "victorian-mirror",
   "metadata": {},
   "outputs": [
    {
     "name": "stdout",
     "output_type": "stream",
     "text": [
      "Adı: Peter\n",
      "Soyadı: Parker\n",
      "Yaşı: 24\n",
      "Dili: Python\n"
     ]
    }
   ],
   "source": [
    "ogrenci_bilgileri()"
   ]
  },
  {
   "cell_type": "markdown",
   "id": "alert-merchandise",
   "metadata": {},
   "source": [
    "**İşleme Sırası (Execution Flow):**\n",
    "\n",
    "Python kodu, ilk satırdan itibaren çalıştırmaya başlar.\n",
    "\n",
    "Ve aşağı doğru iner.\n",
    "\n",
    "Eğer bir fonksiyon çağrılmasına denk gelirse,\n",
    "\n",
    "Önce gider, o fonksiyonu çalıştırır, bitmesini bekler, geri döner.\n",
    "\n",
    "Kaldığı yerden aşağı doğru çalışmaya devam eder."
   ]
  },
  {
   "cell_type": "markdown",
   "id": "tested-toyota",
   "metadata": {},
   "source": [
    "### Parametreler (Argümanlar)"
   ]
  },
  {
   "cell_type": "markdown",
   "id": "informative-spread",
   "metadata": {},
   "source": [
    "Çoğu zaman fonksiyonlar parametrelere ihtiyaç duyarlar.\n",
    "\n",
    "**Parametre** fonksiyonun çalışması için kendisine iletilen girdilerdir.\n",
    "\n",
    "Parametreler, fonksiyon çağrılırken iletilir."
   ]
  },
  {
   "cell_type": "code",
   "execution_count": 37,
   "id": "detailed-monte",
   "metadata": {},
   "outputs": [],
   "source": [
    "# Diyelim ki kendisine iletilen sayının karesini alan bir fonksiyon yazmak istiyoruz\n",
    "\n",
    "def karesini_yaz(sayi):\n",
    "    \n",
    "    # sayının karesini al\n",
    "    karesi = sayi**2\n",
    "    \n",
    "    # sayının karesini yaz\n",
    "    print(karesi)\n"
   ]
  },
  {
   "cell_type": "code",
   "execution_count": 40,
   "id": "weird-upper",
   "metadata": {},
   "outputs": [
    {
     "ename": "TypeError",
     "evalue": "karesini_yaz() missing 1 required positional argument: 'sayi'",
     "output_type": "error",
     "traceback": [
      "\u001b[1;31m---------------------------------------------------------------------------\u001b[0m",
      "\u001b[1;31mTypeError\u001b[0m                                 Traceback (most recent call last)",
      "\u001b[1;32m<ipython-input-40-9037450b2cc2>\u001b[0m in \u001b[0;36m<module>\u001b[1;34m\u001b[0m\n\u001b[0;32m      1\u001b[0m \u001b[1;31m# şimdi bu fonksiyonu parametre ile çağıralım\u001b[0m\u001b[1;33m\u001b[0m\u001b[1;33m\u001b[0m\u001b[1;33m\u001b[0m\u001b[0m\n\u001b[0;32m      2\u001b[0m \u001b[1;33m\u001b[0m\u001b[0m\n\u001b[1;32m----> 3\u001b[1;33m \u001b[0mkaresini_yaz\u001b[0m\u001b[1;33m(\u001b[0m\u001b[1;33m)\u001b[0m\u001b[1;33m\u001b[0m\u001b[1;33m\u001b[0m\u001b[0m\n\u001b[0m",
      "\u001b[1;31mTypeError\u001b[0m: karesini_yaz() missing 1 required positional argument: 'sayi'"
     ]
    }
   ],
   "source": [
    "# şimdi bu fonksiyonu parametre ile çağıralım\n",
    "\n",
    "karesini_yaz()"
   ]
  },
  {
   "cell_type": "code",
   "execution_count": 41,
   "id": "phantom-obligation",
   "metadata": {},
   "outputs": [
    {
     "name": "stdout",
     "output_type": "stream",
     "text": [
      "36\n"
     ]
    }
   ],
   "source": [
    "karesini_yaz(6)"
   ]
  },
  {
   "cell_type": "code",
   "execution_count": 42,
   "id": "resident-latvia",
   "metadata": {},
   "outputs": [
    {
     "name": "stdout",
     "output_type": "stream",
     "text": [
      "64\n"
     ]
    }
   ],
   "source": [
    "karesini_yaz(8)"
   ]
  },
  {
   "cell_type": "code",
   "execution_count": 43,
   "id": "weird-magic",
   "metadata": {},
   "outputs": [
    {
     "name": "stdout",
     "output_type": "stream",
     "text": [
      "9\n"
     ]
    }
   ],
   "source": [
    "karesini_yaz(3)"
   ]
  },
  {
   "cell_type": "code",
   "execution_count": 44,
   "id": "lesser-plaza",
   "metadata": {},
   "outputs": [],
   "source": [
    "# Örnek:\n",
    "\n",
    "# İki parametre alan bir fonksiyon tanımlayalım\n",
    "# İki parametre: kisa_kenar, uzun_kenar\n",
    "# Fonksiyon dikdörtgenin alanını hesaplasın\n",
    "\n",
    "def dikdortgen_alani_hesapla(kisa_kenar, uzun_kenar):\n",
    "    \n",
    "    # alan hesapla -> bunu bir değişkene ata\n",
    "    dikdortgen_alani = kisa_kenar * uzun_kenar\n",
    "    \n",
    "    # bu alanı print et\n",
    "    print(dikdortgen_alani)\n",
    "    "
   ]
  },
  {
   "cell_type": "code",
   "execution_count": 45,
   "id": "bulgarian-medline",
   "metadata": {},
   "outputs": [
    {
     "name": "stdout",
     "output_type": "stream",
     "text": [
      "24\n"
     ]
    }
   ],
   "source": [
    "# Şimdi fonksiyonu, iki parametre ile çağıralım\n",
    "\n",
    "dikdortgen_alani_hesapla(4, 6)"
   ]
  },
  {
   "cell_type": "code",
   "execution_count": 46,
   "id": "electronic-watts",
   "metadata": {},
   "outputs": [
    {
     "name": "stdout",
     "output_type": "stream",
     "text": [
      "24\n"
     ]
    }
   ],
   "source": [
    "kisa = 4\n",
    "uzun = 6\n",
    "\n",
    "dikdortgen_alani_hesapla(kisa, uzun)"
   ]
  },
  {
   "cell_type": "code",
   "execution_count": 64,
   "id": "moderate-calibration",
   "metadata": {},
   "outputs": [],
   "source": [
    "# Örnek:\n",
    "\n",
    "# Daha önce tanımladığımız ogrenci_bilgileri fonksiyonunu bu sefer parametrik yapalım\n",
    "\n",
    "# öğrenci ilk adı\n",
    "def ogrenci_ilk_adi(ilk_adi):\n",
    "    print(\"Adı: \" + ilk_adi)\n",
    "    \n",
    "# öğreci soyadı\n",
    "def ogrenci_soyadi(soyadi):\n",
    "    print(\"Soyadı: \" + soyadi)\n",
    "    \n",
    "# öğrenci yaşı\n",
    "def ogrenci_yasi(yas):\n",
    "    print(\"Yaşı: \" + str(yas))\n",
    "    \n",
    "# öğrenci dili\n",
    "def ogrenci_dili(dil):\n",
    "    print(\"Dili: \" + dil)\n",
    "    \n",
    "    \n",
    "def ogrenci_bilgileri(ilk_adi, soyadi, yas, dil):\n",
    "    \n",
    "    # öğrenci ilk adı\n",
    "    ogrenci_ilk_adi(ilk_adi)\n",
    "    \n",
    "    # öğrenci soyadı\n",
    "    ogrenci_soyadi(soyadi)\n",
    "    \n",
    "    # öğrenci yaşı\n",
    "    ogrenci_yasi(yas)\n",
    "    \n",
    "    # öğrenci dili \n",
    "    ogrenci_dili(dil)\n",
    "    "
   ]
  },
  {
   "cell_type": "code",
   "execution_count": 53,
   "id": "uniform-click",
   "metadata": {},
   "outputs": [
    {
     "name": "stdout",
     "output_type": "stream",
     "text": [
      "Adı: Klark\n"
     ]
    },
    {
     "ename": "TypeError",
     "evalue": "ogrenci_soyadi() takes 0 positional arguments but 1 was given",
     "output_type": "error",
     "traceback": [
      "\u001b[1;31m---------------------------------------------------------------------------\u001b[0m",
      "\u001b[1;31mTypeError\u001b[0m                                 Traceback (most recent call last)",
      "\u001b[1;32m<ipython-input-53-a4519374ab60>\u001b[0m in \u001b[0;36m<module>\u001b[1;34m\u001b[0m\n\u001b[0;32m      4\u001b[0m \u001b[0mkullandigi_dil\u001b[0m \u001b[1;33m=\u001b[0m \u001b[1;34m'Python'\u001b[0m\u001b[1;33m\u001b[0m\u001b[1;33m\u001b[0m\u001b[0m\n\u001b[0;32m      5\u001b[0m \u001b[1;33m\u001b[0m\u001b[0m\n\u001b[1;32m----> 6\u001b[1;33m \u001b[0mogrenci_bilgileri\u001b[0m\u001b[1;33m(\u001b[0m\u001b[0milk\u001b[0m\u001b[1;33m,\u001b[0m \u001b[0msoy\u001b[0m\u001b[1;33m,\u001b[0m \u001b[0myasi\u001b[0m\u001b[1;33m,\u001b[0m \u001b[0mkullandigi_dil\u001b[0m\u001b[1;33m)\u001b[0m\u001b[1;33m\u001b[0m\u001b[1;33m\u001b[0m\u001b[0m\n\u001b[0m",
      "\u001b[1;32m<ipython-input-52-ef46b334506b>\u001b[0m in \u001b[0;36mogrenci_bilgileri\u001b[1;34m(ilk_adi, soyadi, yas, dil)\u001b[0m\n\u001b[0;32m     14\u001b[0m \u001b[1;33m\u001b[0m\u001b[0m\n\u001b[0;32m     15\u001b[0m     \u001b[1;31m# öğrenci soyadı\u001b[0m\u001b[1;33m\u001b[0m\u001b[1;33m\u001b[0m\u001b[1;33m\u001b[0m\u001b[0m\n\u001b[1;32m---> 16\u001b[1;33m     \u001b[0mogrenci_soyadi\u001b[0m\u001b[1;33m(\u001b[0m\u001b[0msoyadi\u001b[0m\u001b[1;33m)\u001b[0m\u001b[1;33m\u001b[0m\u001b[1;33m\u001b[0m\u001b[0m\n\u001b[0m\u001b[0;32m     17\u001b[0m \u001b[1;33m\u001b[0m\u001b[0m\n\u001b[0;32m     18\u001b[0m     \u001b[1;31m# öğrenci yaşı\u001b[0m\u001b[1;33m\u001b[0m\u001b[1;33m\u001b[0m\u001b[1;33m\u001b[0m\u001b[0m\n",
      "\u001b[1;31mTypeError\u001b[0m: ogrenci_soyadi() takes 0 positional arguments but 1 was given"
     ]
    }
   ],
   "source": [
    "ilk = 'Klark'\n",
    "soy = \"Kent\"\n",
    "yasi = 28\n",
    "kullandigi_dil = 'Python'\n",
    "\n",
    "ogrenci_bilgileri(ilk, soy, yasi, kullandigi_dil)"
   ]
  },
  {
   "cell_type": "code",
   "execution_count": 56,
   "id": "boring-bedroom",
   "metadata": {},
   "outputs": [
    {
     "name": "stdout",
     "output_type": "stream",
     "text": [
      "Adı: Klark\n",
      "Soyadı: Kent\n"
     ]
    },
    {
     "ename": "TypeError",
     "evalue": "ogrenci_yasi() takes 0 positional arguments but 1 was given",
     "output_type": "error",
     "traceback": [
      "\u001b[1;31m---------------------------------------------------------------------------\u001b[0m",
      "\u001b[1;31mTypeError\u001b[0m                                 Traceback (most recent call last)",
      "\u001b[1;32m<ipython-input-56-a4519374ab60>\u001b[0m in \u001b[0;36m<module>\u001b[1;34m\u001b[0m\n\u001b[0;32m      4\u001b[0m \u001b[0mkullandigi_dil\u001b[0m \u001b[1;33m=\u001b[0m \u001b[1;34m'Python'\u001b[0m\u001b[1;33m\u001b[0m\u001b[1;33m\u001b[0m\u001b[0m\n\u001b[0;32m      5\u001b[0m \u001b[1;33m\u001b[0m\u001b[0m\n\u001b[1;32m----> 6\u001b[1;33m \u001b[0mogrenci_bilgileri\u001b[0m\u001b[1;33m(\u001b[0m\u001b[0milk\u001b[0m\u001b[1;33m,\u001b[0m \u001b[0msoy\u001b[0m\u001b[1;33m,\u001b[0m \u001b[0myasi\u001b[0m\u001b[1;33m,\u001b[0m \u001b[0mkullandigi_dil\u001b[0m\u001b[1;33m)\u001b[0m\u001b[1;33m\u001b[0m\u001b[1;33m\u001b[0m\u001b[0m\n\u001b[0m",
      "\u001b[1;32m<ipython-input-55-7fd169683043>\u001b[0m in \u001b[0;36mogrenci_bilgileri\u001b[1;34m(ilk_adi, soyadi, yas, dil)\u001b[0m\n\u001b[0;32m     21\u001b[0m \u001b[1;33m\u001b[0m\u001b[0m\n\u001b[0;32m     22\u001b[0m     \u001b[1;31m# öğrenci yaşı\u001b[0m\u001b[1;33m\u001b[0m\u001b[1;33m\u001b[0m\u001b[1;33m\u001b[0m\u001b[0m\n\u001b[1;32m---> 23\u001b[1;33m     \u001b[0mogrenci_yasi\u001b[0m\u001b[1;33m(\u001b[0m\u001b[0myas\u001b[0m\u001b[1;33m)\u001b[0m\u001b[1;33m\u001b[0m\u001b[1;33m\u001b[0m\u001b[0m\n\u001b[0m\u001b[0;32m     24\u001b[0m \u001b[1;33m\u001b[0m\u001b[0m\n\u001b[0;32m     25\u001b[0m     \u001b[1;31m# öğrenci dili\u001b[0m\u001b[1;33m\u001b[0m\u001b[1;33m\u001b[0m\u001b[1;33m\u001b[0m\u001b[0m\n",
      "\u001b[1;31mTypeError\u001b[0m: ogrenci_yasi() takes 0 positional arguments but 1 was given"
     ]
    }
   ],
   "source": [
    "ilk = 'Klark'\n",
    "soy = \"Kent\"\n",
    "yasi = 28\n",
    "kullandigi_dil = 'Python'\n",
    "\n",
    "ogrenci_bilgileri(ilk, soy, yasi, kullandigi_dil)"
   ]
  },
  {
   "cell_type": "code",
   "execution_count": 61,
   "id": "distinct-think",
   "metadata": {},
   "outputs": [
    {
     "name": "stdout",
     "output_type": "stream",
     "text": [
      "Adı: Klark\n",
      "Soyadı: Kent\n"
     ]
    },
    {
     "ename": "TypeError",
     "evalue": "can only concatenate str (not \"int\") to str",
     "output_type": "error",
     "traceback": [
      "\u001b[1;31m---------------------------------------------------------------------------\u001b[0m",
      "\u001b[1;31mTypeError\u001b[0m                                 Traceback (most recent call last)",
      "\u001b[1;32m<ipython-input-61-a4519374ab60>\u001b[0m in \u001b[0;36m<module>\u001b[1;34m\u001b[0m\n\u001b[0;32m      4\u001b[0m \u001b[0mkullandigi_dil\u001b[0m \u001b[1;33m=\u001b[0m \u001b[1;34m'Python'\u001b[0m\u001b[1;33m\u001b[0m\u001b[1;33m\u001b[0m\u001b[0m\n\u001b[0;32m      5\u001b[0m \u001b[1;33m\u001b[0m\u001b[0m\n\u001b[1;32m----> 6\u001b[1;33m \u001b[0mogrenci_bilgileri\u001b[0m\u001b[1;33m(\u001b[0m\u001b[0milk\u001b[0m\u001b[1;33m,\u001b[0m \u001b[0msoy\u001b[0m\u001b[1;33m,\u001b[0m \u001b[0myasi\u001b[0m\u001b[1;33m,\u001b[0m \u001b[0mkullandigi_dil\u001b[0m\u001b[1;33m)\u001b[0m\u001b[1;33m\u001b[0m\u001b[1;33m\u001b[0m\u001b[0m\n\u001b[0m",
      "\u001b[1;32m<ipython-input-59-f2064fee3ad4>\u001b[0m in \u001b[0;36mogrenci_bilgileri\u001b[1;34m(ilk_adi, soyadi, yas, dil)\u001b[0m\n\u001b[0;32m     25\u001b[0m \u001b[1;33m\u001b[0m\u001b[0m\n\u001b[0;32m     26\u001b[0m     \u001b[1;31m# öğrenci yaşı\u001b[0m\u001b[1;33m\u001b[0m\u001b[1;33m\u001b[0m\u001b[1;33m\u001b[0m\u001b[0m\n\u001b[1;32m---> 27\u001b[1;33m     \u001b[0mogrenci_yasi\u001b[0m\u001b[1;33m(\u001b[0m\u001b[0myas\u001b[0m\u001b[1;33m)\u001b[0m\u001b[1;33m\u001b[0m\u001b[1;33m\u001b[0m\u001b[0m\n\u001b[0m\u001b[0;32m     28\u001b[0m \u001b[1;33m\u001b[0m\u001b[0m\n\u001b[0;32m     29\u001b[0m     \u001b[1;31m# öğrenci dili\u001b[0m\u001b[1;33m\u001b[0m\u001b[1;33m\u001b[0m\u001b[1;33m\u001b[0m\u001b[0m\n",
      "\u001b[1;32m<ipython-input-59-f2064fee3ad4>\u001b[0m in \u001b[0;36mogrenci_yasi\u001b[1;34m(yas)\u001b[0m\n\u001b[0;32m     13\u001b[0m \u001b[1;31m# öğrenci yaşı\u001b[0m\u001b[1;33m\u001b[0m\u001b[1;33m\u001b[0m\u001b[1;33m\u001b[0m\u001b[0m\n\u001b[0;32m     14\u001b[0m \u001b[1;32mdef\u001b[0m \u001b[0mogrenci_yasi\u001b[0m\u001b[1;33m(\u001b[0m\u001b[0myas\u001b[0m\u001b[1;33m)\u001b[0m\u001b[1;33m:\u001b[0m\u001b[1;33m\u001b[0m\u001b[1;33m\u001b[0m\u001b[0m\n\u001b[1;32m---> 15\u001b[1;33m     \u001b[0mprint\u001b[0m\u001b[1;33m(\u001b[0m\u001b[1;34m\"Yaşı: \"\u001b[0m \u001b[1;33m+\u001b[0m \u001b[0myas\u001b[0m\u001b[1;33m)\u001b[0m\u001b[1;33m\u001b[0m\u001b[1;33m\u001b[0m\u001b[0m\n\u001b[0m\u001b[0;32m     16\u001b[0m \u001b[1;33m\u001b[0m\u001b[0m\n\u001b[0;32m     17\u001b[0m \u001b[1;33m\u001b[0m\u001b[0m\n",
      "\u001b[1;31mTypeError\u001b[0m: can only concatenate str (not \"int\") to str"
     ]
    }
   ],
   "source": [
    "ilk = 'Klark'\n",
    "soy = \"Kent\"\n",
    "yasi = 28\n",
    "kullandigi_dil = 'Python'\n",
    "\n",
    "ogrenci_bilgileri(ilk, soy, yasi, kullandigi_dil)"
   ]
  },
  {
   "cell_type": "code",
   "execution_count": 63,
   "id": "impossible-kitchen",
   "metadata": {},
   "outputs": [
    {
     "name": "stdout",
     "output_type": "stream",
     "text": [
      "Adı: Klark\n",
      "Soyadı: Kent\n",
      "Yaşı: 28\n"
     ]
    },
    {
     "ename": "TypeError",
     "evalue": "ogrenci_dili() takes 0 positional arguments but 1 was given",
     "output_type": "error",
     "traceback": [
      "\u001b[1;31m---------------------------------------------------------------------------\u001b[0m",
      "\u001b[1;31mTypeError\u001b[0m                                 Traceback (most recent call last)",
      "\u001b[1;32m<ipython-input-63-a4519374ab60>\u001b[0m in \u001b[0;36m<module>\u001b[1;34m\u001b[0m\n\u001b[0;32m      4\u001b[0m \u001b[0mkullandigi_dil\u001b[0m \u001b[1;33m=\u001b[0m \u001b[1;34m'Python'\u001b[0m\u001b[1;33m\u001b[0m\u001b[1;33m\u001b[0m\u001b[0m\n\u001b[0;32m      5\u001b[0m \u001b[1;33m\u001b[0m\u001b[0m\n\u001b[1;32m----> 6\u001b[1;33m \u001b[0mogrenci_bilgileri\u001b[0m\u001b[1;33m(\u001b[0m\u001b[0milk\u001b[0m\u001b[1;33m,\u001b[0m \u001b[0msoy\u001b[0m\u001b[1;33m,\u001b[0m \u001b[0myasi\u001b[0m\u001b[1;33m,\u001b[0m \u001b[0mkullandigi_dil\u001b[0m\u001b[1;33m)\u001b[0m\u001b[1;33m\u001b[0m\u001b[1;33m\u001b[0m\u001b[0m\n\u001b[0m",
      "\u001b[1;32m<ipython-input-62-3c107811e731>\u001b[0m in \u001b[0;36mogrenci_bilgileri\u001b[1;34m(ilk_adi, soyadi, yas, dil)\u001b[0m\n\u001b[0;32m     28\u001b[0m \u001b[1;33m\u001b[0m\u001b[0m\n\u001b[0;32m     29\u001b[0m     \u001b[1;31m# öğrenci dili\u001b[0m\u001b[1;33m\u001b[0m\u001b[1;33m\u001b[0m\u001b[1;33m\u001b[0m\u001b[0m\n\u001b[1;32m---> 30\u001b[1;33m     \u001b[0mogrenci_dili\u001b[0m\u001b[1;33m(\u001b[0m\u001b[0mdil\u001b[0m\u001b[1;33m)\u001b[0m\u001b[1;33m\u001b[0m\u001b[1;33m\u001b[0m\u001b[0m\n\u001b[0m\u001b[0;32m     31\u001b[0m \u001b[1;33m\u001b[0m\u001b[0m\n",
      "\u001b[1;31mTypeError\u001b[0m: ogrenci_dili() takes 0 positional arguments but 1 was given"
     ]
    }
   ],
   "source": [
    "ilk = 'Klark'\n",
    "soy = \"Kent\"\n",
    "yasi = 28\n",
    "kullandigi_dil = 'Python'\n",
    "\n",
    "ogrenci_bilgileri(ilk, soy, yasi, kullandigi_dil)"
   ]
  },
  {
   "cell_type": "code",
   "execution_count": 65,
   "id": "seven-translator",
   "metadata": {},
   "outputs": [
    {
     "name": "stdout",
     "output_type": "stream",
     "text": [
      "Adı: Klark\n",
      "Soyadı: Kent\n",
      "Yaşı: 28\n",
      "Dili: Python\n"
     ]
    }
   ],
   "source": [
    "ilk = 'Klark'\n",
    "soy = \"Kent\"\n",
    "yasi = 28\n",
    "kullandigi_dil = 'Python'\n",
    "\n",
    "ogrenci_bilgileri(ilk, soy, yasi, kullandigi_dil)"
   ]
  },
  {
   "cell_type": "markdown",
   "id": "chief-carry",
   "metadata": {},
   "source": [
    "### Scope (Yaşam Alanı) Kavramı"
   ]
  },
  {
   "cell_type": "markdown",
   "id": "junior-society",
   "metadata": {},
   "source": [
    "Python'da değişkenler tanımlandıkları alanda ve o alanın alt alanlarında geçerlidir.\n",
    "\n",
    "Buna **scope** yani yaşam alanı denir.\n",
    "\n",
    "Python'da scope girinti (indent) ile tanımlanır."
   ]
  },
  {
   "cell_type": "code",
   "execution_count": 69,
   "id": "political-climate",
   "metadata": {},
   "outputs": [],
   "source": [
    "# Fonksiyon scope'u içinde bir değişken tanımlayalım\n",
    "\n",
    "def scope():\n",
    "    scope_degiskeni = 100\n",
    "    print(scope_degiskeni)\n",
    "    "
   ]
  },
  {
   "cell_type": "code",
   "execution_count": 70,
   "id": "dutch-cattle",
   "metadata": {},
   "outputs": [
    {
     "name": "stdout",
     "output_type": "stream",
     "text": [
      "100\n"
     ]
    }
   ],
   "source": [
    "# Fonksiyonu çağır\n",
    "\n",
    "scope()"
   ]
  },
  {
   "cell_type": "code",
   "execution_count": 71,
   "id": "valuable-privilege",
   "metadata": {},
   "outputs": [
    {
     "ename": "NameError",
     "evalue": "name 'scope_degiskeni' is not defined",
     "output_type": "error",
     "traceback": [
      "\u001b[1;31m---------------------------------------------------------------------------\u001b[0m",
      "\u001b[1;31mNameError\u001b[0m                                 Traceback (most recent call last)",
      "\u001b[1;32m<ipython-input-71-134805e53f9c>\u001b[0m in \u001b[0;36m<module>\u001b[1;34m\u001b[0m\n\u001b[0;32m      1\u001b[0m \u001b[1;31m# Şimdi bu değişkene dışarıdan erişmeye çalışalım\u001b[0m\u001b[1;33m\u001b[0m\u001b[1;33m\u001b[0m\u001b[1;33m\u001b[0m\u001b[0m\n\u001b[0;32m      2\u001b[0m \u001b[1;33m\u001b[0m\u001b[0m\n\u001b[1;32m----> 3\u001b[1;33m \u001b[0mprint\u001b[0m\u001b[1;33m(\u001b[0m\u001b[0mscope_degiskeni\u001b[0m\u001b[1;33m)\u001b[0m\u001b[1;33m\u001b[0m\u001b[1;33m\u001b[0m\u001b[0m\n\u001b[0m",
      "\u001b[1;31mNameError\u001b[0m: name 'scope_degiskeni' is not defined"
     ]
    }
   ],
   "source": [
    "# Şimdi bu değişkene dışarıdan erişmeye çalışalım\n",
    "\n",
    "print(scope_degiskeni)"
   ]
  },
  {
   "cell_type": "markdown",
   "id": "fifteen-speaking",
   "metadata": {},
   "source": [
    "Değişkenin scope'unun dışından ona ulaşmaya çalışırsak Python Interpreter hata verir. ->NameError"
   ]
  },
  {
   "cell_type": "markdown",
   "id": "diagnostic-slovenia",
   "metadata": {},
   "source": [
    "Ama daha üstte yani **global scope**ta tanımlanmış bir değişkene erişebilirsiniz."
   ]
  },
  {
   "cell_type": "code",
   "execution_count": 75,
   "id": "sharing-savage",
   "metadata": {},
   "outputs": [],
   "source": [
    "kisa = 4\n",
    "uzun = 6"
   ]
  },
  {
   "cell_type": "code",
   "execution_count": 77,
   "id": "productive-advocate",
   "metadata": {},
   "outputs": [],
   "source": [
    "# En tepede tanımlanmış kisa ve uzun değişkenlerine tüm fonksiyonlar erişebilir\n",
    "\n",
    "def cevre():\n",
    "    dikdortgen_cevresi = 2 * kisa * uzun\n",
    "    print(dikdortgen_cevresi)\n",
    "    "
   ]
  },
  {
   "cell_type": "code",
   "execution_count": 78,
   "id": "ideal-passage",
   "metadata": {},
   "outputs": [
    {
     "name": "stdout",
     "output_type": "stream",
     "text": [
      "48\n"
     ]
    }
   ],
   "source": [
    "cevre()"
   ]
  },
  {
   "cell_type": "markdown",
   "id": "closing-warner",
   "metadata": {},
   "source": [
    "Peki `global scope` içindeki bir değişkeni fonksiyon içinden değiştirebilir miyiz?"
   ]
  },
  {
   "cell_type": "code",
   "execution_count": 80,
   "id": "backed-hayes",
   "metadata": {},
   "outputs": [
    {
     "data": {
      "text/plain": [
       "4"
      ]
     },
     "execution_count": 80,
     "metadata": {},
     "output_type": "execute_result"
    }
   ],
   "source": [
    "# kisa değişkeninin mevcut halini görelim\n",
    "kisa"
   ]
  },
  {
   "cell_type": "code",
   "execution_count": 81,
   "id": "local-class",
   "metadata": {},
   "outputs": [],
   "source": [
    "# global scope'u değiştirmeye çalışan fonksiyon\n",
    "\n",
    "def global_degisken_degistir():\n",
    "    kisa = 400\n",
    "    print(kisa)\n",
    "    "
   ]
  },
  {
   "cell_type": "code",
   "execution_count": 82,
   "id": "raised-cooperation",
   "metadata": {},
   "outputs": [
    {
     "name": "stdout",
     "output_type": "stream",
     "text": [
      "400\n"
     ]
    }
   ],
   "source": [
    "# fonksiyonu çağır\n",
    "\n",
    "global_degisken_degistir()"
   ]
  },
  {
   "cell_type": "code",
   "execution_count": 83,
   "id": "seasonal-jungle",
   "metadata": {},
   "outputs": [
    {
     "data": {
      "text/plain": [
       "4"
      ]
     },
     "execution_count": 83,
     "metadata": {},
     "output_type": "execute_result"
    }
   ],
   "source": [
    "# fonksiyon çağrıldıktan sonra -> kisa değişkeni ne oldu\n",
    "\n",
    "kisa"
   ]
  },
  {
   "cell_type": "markdown",
   "id": "innovative-millennium",
   "metadata": {},
   "source": [
    "Fonksiyon içinden değiştirmemize rağmen, globaldeki değişkenin değeri değişmedi.\n",
    "\n",
    "Sebebi:\n",
    "\n",
    "Python, globaldeki 'kisa' değişkenine dokunmadı. \n",
    "\n",
    "Siz, fonksiyon içinde 'kisa' değişkenine atama yaptığınız anda, Python sizin yeni bir değişken tanımlar.\n",
    "\n",
    "Globaldeki değişkenin kopyasıdır. Bu yeni kopya sadece fonksiyon scope'u içinde yaşar.\n",
    "\n",
    "Çözümü:\n",
    "\n",
    "Global Scope'taki değişkeni gerçekten değiştirmek istiyorsak istiyorsak:\n",
    "\n",
    "Değişken başına **global** anahtar kelimesi yazılır."
   ]
  },
  {
   "cell_type": "code",
   "execution_count": 84,
   "id": "inner-rates",
   "metadata": {},
   "outputs": [],
   "source": [
    "# fonksiyonu tekrar tanımlayalım\n",
    "\n",
    "def global_degisken_degistir():\n",
    "    global kisa\n",
    "    kisa = 400\n",
    "    print(kisa)    \n",
    "    "
   ]
  },
  {
   "cell_type": "code",
   "execution_count": 85,
   "id": "cleared-freedom",
   "metadata": {},
   "outputs": [
    {
     "name": "stdout",
     "output_type": "stream",
     "text": [
      "400\n"
     ]
    }
   ],
   "source": [
    "global_degisken_degistir()"
   ]
  },
  {
   "cell_type": "code",
   "execution_count": 86,
   "id": "valid-manufacturer",
   "metadata": {},
   "outputs": [
    {
     "data": {
      "text/plain": [
       "400"
      ]
     },
     "execution_count": 86,
     "metadata": {},
     "output_type": "execute_result"
    }
   ],
   "source": [
    "# globaldeki kisa değişkenini tekrar gör\n",
    "\n",
    "kisa"
   ]
  },
  {
   "cell_type": "markdown",
   "id": "alternate-couple",
   "metadata": {},
   "source": [
    "### Fonksiyonun Değer Dönmesi (return)"
   ]
  },
  {
   "cell_type": "markdown",
   "id": "graphic-diving",
   "metadata": {},
   "source": [
    "Fonksiyonlar işlerini bitirdikten sonra geriye değer dönebilirler.\n",
    "\n",
    "Buna geriye değer **return** etmek denir.\n",
    "\n",
    "Ve **return** anahtar kelimesi ile sağlanır."
   ]
  },
  {
   "cell_type": "code",
   "execution_count": 87,
   "id": "challenging-probability",
   "metadata": {},
   "outputs": [],
   "source": [
    "# Kendisine parametre olarak verilen bir sayının küpünü hesaplayıp geri dönen bir fonksiyon yazalım\n",
    "\n",
    "def cube(n):\n",
    "    \n",
    "    # sayının küpünü hesapla\n",
    "    n_kup = n**3\n",
    "    \n",
    "    # bu küp değerini geri dön\n",
    "    return n_kup\n",
    "    "
   ]
  },
  {
   "cell_type": "code",
   "execution_count": 88,
   "id": "simple-rebate",
   "metadata": {},
   "outputs": [
    {
     "name": "stdout",
     "output_type": "stream",
     "text": [
      "125\n"
     ]
    }
   ],
   "source": [
    "# Şimdi fonksiyonu çağırdığımız zaman, fonksiyon bize bir değer döner\n",
    "# o değeri alıp bir değişkene atayabiliriz\n",
    "\n",
    "sayi = 5\n",
    "\n",
    "kup = cube(5)\n",
    "\n",
    "print(kup)"
   ]
  },
  {
   "cell_type": "code",
   "execution_count": 89,
   "id": "frozen-working",
   "metadata": {},
   "outputs": [
    {
     "name": "stdout",
     "output_type": "stream",
     "text": [
      "64\n"
     ]
    }
   ],
   "source": [
    "n = 4\n",
    "dordun_kupu = cube(4)\n",
    "print(dordun_kupu)"
   ]
  },
  {
   "cell_type": "code",
   "execution_count": 90,
   "id": "fatty-wound",
   "metadata": {},
   "outputs": [
    {
     "name": "stdout",
     "output_type": "stream",
     "text": [
      "216\n"
     ]
    }
   ],
   "source": [
    "# birleşim -> chain\n",
    "\n",
    "n = 6\n",
    "print(cube(n))"
   ]
  },
  {
   "cell_type": "markdown",
   "id": "pending-boost",
   "metadata": {},
   "source": [
    "Geriye değer dönmeyen fonksiyonlara, **void** fonksiyonlar denir."
   ]
  },
  {
   "cell_type": "markdown",
   "id": "sustainable-decrease",
   "metadata": {},
   "source": [
    "### Docstring - Fonksiyonun Dokümantasyonu"
   ]
  },
  {
   "cell_type": "code",
   "execution_count": 91,
   "id": "acting-lightweight",
   "metadata": {},
   "outputs": [
    {
     "name": "stdout",
     "output_type": "stream",
     "text": [
      "Help on function cube in module __main__:\n",
      "\n",
      "cube(n)\n",
      "\n"
     ]
    }
   ],
   "source": [
    "# Fonksiyonun hakkında yardım alalım\n",
    "\n",
    "help(cube)"
   ]
  },
  {
   "cell_type": "code",
   "execution_count": 93,
   "id": "sealed-april",
   "metadata": {},
   "outputs": [
    {
     "data": {
      "text/plain": [
       "\u001b[1;31mSignature:\u001b[0m \u001b[0mcube\u001b[0m\u001b[1;33m(\u001b[0m\u001b[0mn\u001b[0m\u001b[1;33m)\u001b[0m\u001b[1;33m\u001b[0m\u001b[1;33m\u001b[0m\u001b[0m\n",
       "\u001b[1;31mDocstring:\u001b[0m <no docstring>\n",
       "\u001b[1;31mFile:\u001b[0m      c:\\users\\musaa\\desktop\\python\\icerik\\5_fonksiyonlar_i\\<ipython-input-87-8ce6df08a509>\n",
       "\u001b[1;31mType:\u001b[0m      function\n"
      ]
     },
     "metadata": {},
     "output_type": "display_data"
    }
   ],
   "source": [
    "# Yardım görmek için -> biraz daha detaylı yardım\n",
    "cube?"
   ]
  },
  {
   "cell_type": "code",
   "execution_count": 96,
   "id": "wound-integrity",
   "metadata": {},
   "outputs": [
    {
     "data": {
      "text/plain": [
       "\u001b[1;31mSignature:\u001b[0m \u001b[0mcube\u001b[0m\u001b[1;33m(\u001b[0m\u001b[0mn\u001b[0m\u001b[1;33m)\u001b[0m\u001b[1;33m\u001b[0m\u001b[1;33m\u001b[0m\u001b[0m\n",
       "\u001b[1;31mDocstring:\u001b[0m <no docstring>\n",
       "\u001b[1;31mSource:\u001b[0m   \n",
       "\u001b[1;32mdef\u001b[0m \u001b[0mcube\u001b[0m\u001b[1;33m(\u001b[0m\u001b[0mn\u001b[0m\u001b[1;33m)\u001b[0m\u001b[1;33m:\u001b[0m\u001b[1;33m\n",
       "\u001b[0m    \u001b[1;33m\n",
       "\u001b[0m    \u001b[1;31m# sayının küpünü hesapla\u001b[0m\u001b[1;33m\n",
       "\u001b[0m    \u001b[0mn_kup\u001b[0m \u001b[1;33m=\u001b[0m \u001b[0mn\u001b[0m\u001b[1;33m**\u001b[0m\u001b[1;36m3\u001b[0m\u001b[1;33m\n",
       "\u001b[0m    \u001b[1;33m\n",
       "\u001b[0m    \u001b[1;31m# bu küp değerini geri dön\u001b[0m\u001b[1;33m\n",
       "\u001b[0m    \u001b[1;32mreturn\u001b[0m \u001b[0mn_kup\u001b[0m\u001b[1;33m\u001b[0m\u001b[1;33m\u001b[0m\u001b[0m\n",
       "\u001b[1;31mFile:\u001b[0m      c:\\users\\musaa\\desktop\\python\\icerik\\5_fonksiyonlar_i\\<ipython-input-87-8ce6df08a509>\n",
       "\u001b[1;31mType:\u001b[0m      function\n"
      ]
     },
     "metadata": {},
     "output_type": "display_data"
    }
   ],
   "source": [
    "# Yardım 3 -> en detaylısı\n",
    "# Source kodu da gösterir\n",
    "cube??"
   ]
  },
  {
   "cell_type": "code",
   "execution_count": 99,
   "id": "cardiac-processor",
   "metadata": {},
   "outputs": [],
   "source": [
    "# Docstring'i olan bir fonksiyon yazalım\n",
    "\n",
    "import math\n",
    "\n",
    "def ustel_hesapla(sayi, ust):\n",
    "    \"\"\"\n",
    "        Bu fonksiyon üstel hesaplama yapar.\n",
    "        Parametreler: int sayi, int ust\n",
    "        Sonuc: verilen sayinin, verilen üstünü döner.\n",
    "    \"\"\"\n",
    "    \n",
    "    # sayının üstünü hesapla\n",
    "    # ustel = sayi**ust\n",
    "    ustel = math.pow(sayi, ust)\n",
    "    \n",
    "    # bulduğun üssü döne\n",
    "    return ustel\n",
    "    "
   ]
  },
  {
   "cell_type": "code",
   "execution_count": 100,
   "id": "foreign-store",
   "metadata": {},
   "outputs": [
    {
     "name": "stdout",
     "output_type": "stream",
     "text": [
      "Help on function ustel_hesapla in module __main__:\n",
      "\n",
      "ustel_hesapla(sayi, ust)\n",
      "    Bu fonksiyon üstel hesaplama yapar.\n",
      "    Parametreler: int sayi, int ust\n",
      "    Sonuc: verilen sayinin, verilen üstünü döner.\n",
      "\n"
     ]
    }
   ],
   "source": [
    "# Şimdi bu fonksiyon için yardım çağıralım\n",
    "\n",
    "# help()\n",
    "help(ustel_hesapla)"
   ]
  },
  {
   "cell_type": "code",
   "execution_count": 101,
   "id": "perceived-scanner",
   "metadata": {},
   "outputs": [
    {
     "data": {
      "text/plain": [
       "\u001b[1;31mSignature:\u001b[0m \u001b[0mustel_hesapla\u001b[0m\u001b[1;33m(\u001b[0m\u001b[0msayi\u001b[0m\u001b[1;33m,\u001b[0m \u001b[0must\u001b[0m\u001b[1;33m)\u001b[0m\u001b[1;33m\u001b[0m\u001b[1;33m\u001b[0m\u001b[0m\n",
       "\u001b[1;31mDocstring:\u001b[0m\n",
       "Bu fonksiyon üstel hesaplama yapar.\n",
       "Parametreler: int sayi, int ust\n",
       "Sonuc: verilen sayinin, verilen üstünü döner.\n",
       "\u001b[1;31mFile:\u001b[0m      c:\\users\\musaa\\desktop\\python\\icerik\\5_fonksiyonlar_i\\<ipython-input-99-eebe00dbe5e2>\n",
       "\u001b[1;31mType:\u001b[0m      function\n"
      ]
     },
     "metadata": {},
     "output_type": "display_data"
    }
   ],
   "source": [
    "# ? ile yardım\n",
    "ustel_hesapla?"
   ]
  },
  {
   "cell_type": "code",
   "execution_count": 102,
   "id": "scheduled-while",
   "metadata": {},
   "outputs": [
    {
     "data": {
      "text/plain": [
       "\u001b[1;31mSignature:\u001b[0m \u001b[0mustel_hesapla\u001b[0m\u001b[1;33m(\u001b[0m\u001b[0msayi\u001b[0m\u001b[1;33m,\u001b[0m \u001b[0must\u001b[0m\u001b[1;33m)\u001b[0m\u001b[1;33m\u001b[0m\u001b[1;33m\u001b[0m\u001b[0m\n",
       "\u001b[1;31mSource:\u001b[0m   \n",
       "\u001b[1;32mdef\u001b[0m \u001b[0mustel_hesapla\u001b[0m\u001b[1;33m(\u001b[0m\u001b[0msayi\u001b[0m\u001b[1;33m,\u001b[0m \u001b[0must\u001b[0m\u001b[1;33m)\u001b[0m\u001b[1;33m:\u001b[0m\u001b[1;33m\n",
       "\u001b[0m    \u001b[1;34m\"\"\"\n",
       "        Bu fonksiyon üstel hesaplama yapar.\n",
       "        Parametreler: int sayi, int ust\n",
       "        Sonuc: verilen sayinin, verilen üstünü döner.\n",
       "    \"\"\"\u001b[0m\u001b[1;33m\n",
       "\u001b[0m    \u001b[1;33m\n",
       "\u001b[0m    \u001b[1;31m# sayının üstünü hesapla\u001b[0m\u001b[1;33m\n",
       "\u001b[0m    \u001b[1;31m# ustel = sayi**ust\u001b[0m\u001b[1;33m\n",
       "\u001b[0m    \u001b[0mustel\u001b[0m \u001b[1;33m=\u001b[0m \u001b[0mmath\u001b[0m\u001b[1;33m.\u001b[0m\u001b[0mpow\u001b[0m\u001b[1;33m(\u001b[0m\u001b[0msayi\u001b[0m\u001b[1;33m,\u001b[0m \u001b[0must\u001b[0m\u001b[1;33m)\u001b[0m\u001b[1;33m\n",
       "\u001b[0m    \u001b[1;33m\n",
       "\u001b[0m    \u001b[1;31m# bulduğun üssü döne\u001b[0m\u001b[1;33m\n",
       "\u001b[0m    \u001b[1;32mreturn\u001b[0m \u001b[0mustel\u001b[0m\u001b[1;33m\u001b[0m\u001b[1;33m\u001b[0m\u001b[0m\n",
       "\u001b[1;31mFile:\u001b[0m      c:\\users\\musaa\\desktop\\python\\icerik\\5_fonksiyonlar_i\\<ipython-input-99-eebe00dbe5e2>\n",
       "\u001b[1;31mType:\u001b[0m      function\n"
      ]
     },
     "metadata": {},
     "output_type": "display_data"
    }
   ],
   "source": [
    "# ?? ile yardım\n",
    "ustel_hesapla??"
   ]
  },
  {
   "cell_type": "code",
   "execution_count": 104,
   "id": "human-while",
   "metadata": {},
   "outputs": [
    {
     "data": {
      "text/plain": [
       "\u001b[1;31mSignature:\u001b[0m \u001b[0mmath\u001b[0m\u001b[1;33m.\u001b[0m\u001b[0mpow\u001b[0m\u001b[1;33m(\u001b[0m\u001b[0mx\u001b[0m\u001b[1;33m,\u001b[0m \u001b[0my\u001b[0m\u001b[1;33m,\u001b[0m \u001b[1;33m/\u001b[0m\u001b[1;33m)\u001b[0m\u001b[1;33m\u001b[0m\u001b[1;33m\u001b[0m\u001b[0m\n",
       "\u001b[1;31mDocstring:\u001b[0m Return x**y (x to the power of y).\n",
       "\u001b[1;31mType:\u001b[0m      builtin_function_or_method\n"
      ]
     },
     "metadata": {},
     "output_type": "display_data"
    }
   ],
   "source": [
    "# math.pow() için dokümantasyon görelim\n",
    "math.pow?"
   ]
  },
  {
   "cell_type": "markdown",
   "id": "brilliant-numbers",
   "metadata": {},
   "source": [
    "**Hazır Metod ve Attribute'lar**\n",
    "\n",
    "Python'da nesnelerin hazır metodları ve hazır attribute'ları (özellikleri) vardır.\n",
    "\n",
    "Bunlara, kısa yollardan erişilebilir."
   ]
  },
  {
   "cell_type": "code",
   "execution_count": 106,
   "id": "choice-fountain",
   "metadata": {},
   "outputs": [
    {
     "data": {
      "text/plain": [
       "'\\n        Bu fonksiyon üstel hesaplama yapar.\\n        Parametreler: int sayi, int ust\\n        Sonuc: verilen sayinin, verilen üstünü döner.\\n    '"
      ]
     },
     "execution_count": 106,
     "metadata": {},
     "output_type": "execute_result"
    }
   ],
   "source": [
    "# Docstring için -> __doc__\n",
    "ustel_hesapla.__doc__"
   ]
  },
  {
   "cell_type": "code",
   "execution_count": 107,
   "id": "interstate-wholesale",
   "metadata": {},
   "outputs": [
    {
     "name": "stdout",
     "output_type": "stream",
     "text": [
      "\n",
      "        Bu fonksiyon üstel hesaplama yapar.\n",
      "        Parametreler: int sayi, int ust\n",
      "        Sonuc: verilen sayinin, verilen üstünü döner.\n",
      "    \n"
     ]
    }
   ],
   "source": [
    "print(ustel_hesapla.__doc__)"
   ]
  },
  {
   "cell_type": "markdown",
   "id": "exposed-manitoba",
   "metadata": {},
   "source": [
    "Python'da built-in (hazır) olan iki alt tire (__) ile erişilen metod veya attribute'lara (özelliklere)\n",
    "\n",
    "**dunder** adı verilir.\n",
    "\n",
    "`dunder` : `double underscore` "
   ]
  },
  {
   "cell_type": "code",
   "execution_count": 108,
   "id": "focused-abraham",
   "metadata": {},
   "outputs": [
    {
     "data": {
      "text/plain": [
       "'Return x**y (x to the power of y).'"
      ]
     },
     "execution_count": 108,
     "metadata": {},
     "output_type": "execute_result"
    }
   ],
   "source": [
    "math.pow.__doc__"
   ]
  },
  {
   "cell_type": "code",
   "execution_count": 109,
   "id": "forty-portal",
   "metadata": {},
   "outputs": [
    {
     "data": {
      "text/plain": [
       "'__main__'"
      ]
     },
     "execution_count": 109,
     "metadata": {},
     "output_type": "execute_result"
    }
   ],
   "source": [
    "# Yarattığımız ustel_hesapla fonksiyonu için hangi modülde olduğunu görmek için\n",
    "\n",
    "ustel_hesapla.__module__"
   ]
  },
  {
   "cell_type": "markdown",
   "id": "caring-compression",
   "metadata": {},
   "source": [
    "**main** modülü, bizim şu anda içinde çalıştığımız modüldür."
   ]
  },
  {
   "cell_type": "code",
   "execution_count": 110,
   "id": "secure-movement",
   "metadata": {},
   "outputs": [
    {
     "data": {
      "text/plain": [
       "'ustel_hesapla'"
      ]
     },
     "execution_count": 110,
     "metadata": {},
     "output_type": "execute_result"
    }
   ],
   "source": [
    "ustel_hesapla.__name__"
   ]
  }
 ],
 "metadata": {
  "kernelspec": {
   "display_name": "Python 3 (ipykernel)",
   "language": "python",
   "name": "python3"
  },
  "language_info": {
   "codemirror_mode": {
    "name": "ipython",
    "version": 3
   },
   "file_extension": ".py",
   "mimetype": "text/x-python",
   "name": "python",
   "nbconvert_exporter": "python",
   "pygments_lexer": "ipython3",
   "version": "3.9.12"
  }
 },
 "nbformat": 4,
 "nbformat_minor": 5
}
