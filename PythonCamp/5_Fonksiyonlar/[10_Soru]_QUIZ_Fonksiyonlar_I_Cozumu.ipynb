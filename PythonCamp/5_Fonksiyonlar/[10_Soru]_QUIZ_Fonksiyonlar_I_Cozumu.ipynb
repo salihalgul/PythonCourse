{
 "cells": [
  {
   "cell_type": "markdown",
   "id": "wound-myanmar",
   "metadata": {},
   "source": [
    "## [10 Soru] QUIZ - Fonksiyonlar I"
   ]
  },
  {
   "cell_type": "markdown",
   "id": "handed-junction",
   "metadata": {},
   "source": [
    "**Soru 1:**\n",
    "\n",
    "Ekrana \"Selam Dünya!\" yazan bir fonksiyon yazın."
   ]
  },
  {
   "cell_type": "code",
   "execution_count": 2,
   "id": "blond-population",
   "metadata": {},
   "outputs": [
    {
     "name": "stdout",
     "output_type": "stream",
     "text": [
      "Selam Dünya!\n"
     ]
    }
   ],
   "source": [
    "# Çözüm 1:\n",
    "\n",
    "def ilk_fonksiyon():\n",
    "    print(\"Selam Dünya!\")\n",
    "    \n",
    "ilk_fonksiyon()"
   ]
  },
  {
   "cell_type": "markdown",
   "id": "continental-mexican",
   "metadata": {},
   "source": [
    "---"
   ]
  },
  {
   "cell_type": "markdown",
   "id": "handmade-hanging",
   "metadata": {},
   "source": [
    "**Soru 2:**\n",
    "\n",
    "String şeklinde iki parametre alan bir fonksiyon yazın. Bu parametreleri kişi ismi kabul edelim. <br>\n",
    "Fonksiyon bu iki ismi \"ve\" ile bağlayarak selamlasın. <br>\n",
    "Ör: Selam Clark Kent ve Superman. <br>\n",
    "(String'in format fonksiyonu kullanın.)"
   ]
  },
  {
   "cell_type": "code",
   "execution_count": 8,
   "id": "annoying-listing",
   "metadata": {},
   "outputs": [
    {
     "name": "stdout",
     "output_type": "stream",
     "text": [
      "Selam Clark Kent ve Superman\n",
      "Selam Bruce Wayne ve Batman\n",
      "Selam Peter Parker ve Spiderman\n"
     ]
    }
   ],
   "source": [
    "# Çözüm 2:\n",
    "\n",
    "# 1. Yol\n",
    "# def isimleri_selamla(isim1, isim2):\n",
    "#     birlesmis_isim = \"Selam \" + isim1 + \" ve \" + isim2\n",
    "#     print(birlesmis_isim)\n",
    "\n",
    "# 2. Yol -> str.format()\n",
    "def isimleri_selamla(isim1, isim2):\n",
    "    print(\"Selam {0} ve {1}\".format(isim1, isim2))\n",
    "\n",
    "isimleri_selamla(\"Clark Kent\" ,\"Superman\")\n",
    "isimleri_selamla(\"Bruce Wayne\" ,\"Batman\")\n",
    "isimleri_selamla(\"Peter Parker\" ,\"Spiderman\")"
   ]
  },
  {
   "cell_type": "markdown",
   "id": "passive-hostel",
   "metadata": {},
   "source": [
    "---"
   ]
  },
  {
   "cell_type": "markdown",
   "id": "approved-basket",
   "metadata": {},
   "source": [
    "**Soru 3:**\n",
    "\n",
    "Kullanıcıdan girdi olarak ismini isteyen bir fonksiyon yazın. <br>\n",
    "Bu fonksiyon aldığı ismi \"Selam sana ....\" şeklinde selamlasın. <br>\n",
    "(Girdi almak için input() fonksiyonunu kullanın.)"
   ]
  },
  {
   "cell_type": "code",
   "execution_count": 12,
   "id": "monthly-parent",
   "metadata": {},
   "outputs": [
    {
     "name": "stdin",
     "output_type": "stream",
     "text": [
      "Lütfen ismini söyler misin?  John Doe\n"
     ]
    },
    {
     "name": "stdout",
     "output_type": "stream",
     "text": [
      "Selam sana John Doe\n"
     ]
    }
   ],
   "source": [
    "# Çözüm 3:\n",
    "\n",
    "def ismini_soyle():\n",
    "    \n",
    "    # input() -> enter tuşu bekler\n",
    "    isim = input(\"Lütfen ismini söyler misin? \")\n",
    "    \n",
    "    # enter sonrasında kod devam eder\n",
    "    print(\"Selam sana {0}\".format(isim))\n",
    "    \n",
    "    \n",
    "ismini_soyle()"
   ]
  },
  {
   "cell_type": "markdown",
   "id": "underlying-favorite",
   "metadata": {},
   "source": [
    "---"
   ]
  },
  {
   "cell_type": "markdown",
   "id": "challenging-immigration",
   "metadata": {},
   "source": [
    "**Soru 4:**\n",
    "\n",
    "Parametre olarak 3 sayı alan bir fonksiyon yazın. <br>\n",
    "Fonksiyon bu sayılardan en büyüğünü size geri dönsün. <br>\n",
    "Bu fonksiyonun docstring'ini de yazın. "
   ]
  },
  {
   "cell_type": "code",
   "execution_count": 17,
   "id": "unauthorized-accused",
   "metadata": {},
   "outputs": [
    {
     "name": "stdout",
     "output_type": "stream",
     "text": [
      "82\n",
      "Help on function maksimumu_getir in module __main__:\n",
      "\n",
      "maksimumu_getir(sayi_1, sayi_2, sayi_3)\n",
      "    Bu fonksiyon 3 sayı alır ve en büyüğünü (max) geri döner.\n",
      "    Parametreler: int sayi_1, int sayi_2, int sayi_3\n",
      "    Sonuc: Python'un max fonksiyonunun verdiği değer\n",
      "\n",
      "\n",
      "    Bu fonksiyon 3 sayı alır ve en büyüğünü (max) geri döner.\n",
      "    Parametreler: int sayi_1, int sayi_2, int sayi_3\n",
      "    Sonuc: Python'un max fonksiyonunun verdiği değer\n",
      "    \n"
     ]
    }
   ],
   "source": [
    "# Çözüm 4:\n",
    "\n",
    "def maksimumu_getir(sayi_1, sayi_2, sayi_3):\n",
    "    \"\"\"\n",
    "    Bu fonksiyon 3 sayı alır ve en büyüğünü (max) geri döner.\n",
    "    Parametreler: int sayi_1, int sayi_2, int sayi_3\n",
    "    Sonuc: Python'un max fonksiyonunun verdiği değer\n",
    "    \"\"\"\n",
    "    \n",
    "    # maksimum sayıyı al -> max()\n",
    "    maksimum = max(sayi_1, sayi_2, sayi_3)\n",
    "    \n",
    "    # maksimum'u geri dön\n",
    "    return maksimum\n",
    "\n",
    "# fonksiyonu çağır -> dönen değeri al ve yazdır\n",
    "maksimum_sayi = maksimumu_getir(4, 82, 19)\n",
    "print(maksimum_sayi)\n",
    "\n",
    "# docstring'i yazdır\n",
    "help(maksimumu_getir)\n",
    "print(maksimumu_getir.__doc__)"
   ]
  },
  {
   "cell_type": "markdown",
   "id": "together-trademark",
   "metadata": {},
   "source": [
    "---"
   ]
  },
  {
   "cell_type": "markdown",
   "id": "choice-gothic",
   "metadata": {},
   "source": [
    "**Soru 5:**\n",
    "\n",
    "Parametre olarak gelen metni parçalayan küçük harfe çeviren bir fonksiyon yazın. <br>\n",
    " * parçalamak için: strip()\n",
    " * küçük harf yapmak için: lower()"
   ]
  },
  {
   "cell_type": "code",
   "execution_count": 23,
   "id": "thick-friendly",
   "metadata": {},
   "outputs": [
    {
     "name": "stdout",
     "output_type": "stream",
     "text": [
      "python machine learning\n"
     ]
    }
   ],
   "source": [
    "# Çözüm 5:\n",
    "\n",
    "def parcala_ve_kucuk_yap(orjinal_metin):\n",
    "    \n",
    "    # strip() -> boşluk karakterinden parçalar\n",
    "    parcalanmis_metin = orjinal_metin.strip()\n",
    "#     print(parcalanmis_metin)\n",
    "    \n",
    "    # lower() -> küçük harf yapar\n",
    "    kucultulmus_metin = parcalanmis_metin.lower()\n",
    "    # print(kucultulmus_metin)\n",
    "    \n",
    "    # parçalanmış ve küçültülmüş metni geri dön\n",
    "    return kucultulmus_metin\n",
    "    \n",
    "\n",
    "metin = \"PyThon MaCHine LeARning\"\n",
    "son_metin = parcala_ve_kucuk_yap(metin)\n",
    "print(son_metin)"
   ]
  },
  {
   "cell_type": "markdown",
   "id": "historic-vacuum",
   "metadata": {},
   "source": [
    "---"
   ]
  },
  {
   "cell_type": "markdown",
   "id": "imperial-location",
   "metadata": {},
   "source": [
    "**Soru 6:**\n",
    "\n",
    "Parametre olarak gelen iki sayının toplamını dönen bir fonksiyon yazın."
   ]
  },
  {
   "cell_type": "code",
   "execution_count": 24,
   "id": "incorrect-miniature",
   "metadata": {},
   "outputs": [
    {
     "name": "stdout",
     "output_type": "stream",
     "text": [
      "65\n"
     ]
    }
   ],
   "source": [
    "# Çözüm 6:\n",
    "\n",
    "def topla(x_1, x_2):\n",
    "    \"\"\"\n",
    "    Bu fonksiyon gelen iki sayıyı toplar.\n",
    "    Parametreler: int x_1, int x_2\n",
    "    Sonuc: sayıların toplamı\n",
    "    \"\"\"\n",
    "    \n",
    "    toplam = x_1 + x_2\n",
    "    \n",
    "    return toplam\n",
    "\n",
    "n_1 = 45\n",
    "n_2 = 20\n",
    "sayilarin_toplami = topla(n_1, n_2)\n",
    "print(sayilarin_toplami)\n"
   ]
  },
  {
   "cell_type": "markdown",
   "id": "hourly-holder",
   "metadata": {},
   "source": [
    "---"
   ]
  },
  {
   "cell_type": "markdown",
   "id": "metropolitan-cardiff",
   "metadata": {},
   "source": [
    "**Soru 7:**\n",
    "\n",
    "Parametre olarak gelen 3 sayı alan bir fonksiyon yazın. <br>\n",
    "Fonksiyon bu sayıların ikili farklarını alsın ve bu farklardan en küçüğünü dönsün. <br>\n",
    "* Fark için mutlak değeri kullanın -> abs  (absolute value)\n",
    "* Minimum için -> min"
   ]
  },
  {
   "cell_type": "code",
   "execution_count": 27,
   "id": "demographic-earth",
   "metadata": {},
   "outputs": [
    {
     "name": "stdout",
     "output_type": "stream",
     "text": [
      "2\n"
     ]
    }
   ],
   "source": [
    "# Çözüm 7:\n",
    "\n",
    "def en_kucuk_fark(a, b, c):\n",
    "    \"\"\"\n",
    "    Bu fonksiyon gelen 3 sayının ikili farklarını alır.\n",
    "    Parametreler: int a, b, c\n",
    "    Sonuc: ikili farkların en küçüğü\n",
    "    \"\"\"\n",
    "    \n",
    "    # farkları hesapla\n",
    "    fark_1 = abs(a - b)\n",
    "    fark_2 = abs(a - c)\n",
    "    fark_3 = abs(b - c)\n",
    "    \n",
    "    # en küçük farkı dön -> return\n",
    "    return min(fark_1, fark_2, fark_3)\n",
    "    \n",
    "\n",
    "a = 8\n",
    "b = 5\n",
    "c = 10\n",
    "min_fark = en_kucuk_fark(a, b, c)\n",
    "print(min_fark)"
   ]
  },
  {
   "cell_type": "markdown",
   "id": "virgin-pierre",
   "metadata": {},
   "source": [
    "---"
   ]
  },
  {
   "cell_type": "markdown",
   "id": "refined-patent",
   "metadata": {},
   "source": [
    "**Soru 8:**\n",
    "\n",
    "Parametre olarak bir sayı alan bir fonksiyon yazın. <br>\n",
    "Fonksiyon bu sayının karekökünü dönsün. <br>\n",
    "* Karekök için -> math.sqrt()"
   ]
  },
  {
   "cell_type": "code",
   "execution_count": 29,
   "id": "computational-strain",
   "metadata": {},
   "outputs": [
    {
     "name": "stdout",
     "output_type": "stream",
     "text": [
      "9.0\n"
     ]
    }
   ],
   "source": [
    "# Çözüm 8:\n",
    "\n",
    "import math\n",
    "\n",
    "def karekok(n):\n",
    "    \"\"\"\n",
    "    Bu fonksiyon gelen sayının karekökünü alır.\n",
    "    Parametre: int n\n",
    "    Sonuc: karekök\n",
    "    \"\"\"\n",
    "    \n",
    "    # karekök hesapla\n",
    "    kok = math.sqrt(n)\n",
    "    \n",
    "    # kok değişkenin geri dön\n",
    "    return kok\n",
    "\n",
    "sayi = 81\n",
    "kok = karekok(sayi)\n",
    "print(kok)\n"
   ]
  },
  {
   "cell_type": "markdown",
   "id": "clear-place",
   "metadata": {},
   "source": [
    "---"
   ]
  },
  {
   "cell_type": "markdown",
   "id": "compound-appointment",
   "metadata": {},
   "source": [
    "**Soru 9:**\n",
    "\n",
    "Parametre olarak bir sayı alan bir fonksiyon yazın. <br>\n",
    "Fonksiyon bu sayının logaritmasını dönsün. <br>\n",
    "* Logaritma için -> math.log()"
   ]
  },
  {
   "cell_type": "code",
   "execution_count": 34,
   "id": "secondary-nitrogen",
   "metadata": {},
   "outputs": [
    {
     "name": "stdout",
     "output_type": "stream",
     "text": [
      "2.4849066497880004\n"
     ]
    }
   ],
   "source": [
    "# Çözüm 9:\n",
    "\n",
    "import math\n",
    "\n",
    "def logaritma_al(n):\n",
    "    \"\"\"\n",
    "    Bu fonksiyon gelen sayının logaritmasını alır.\n",
    "    Parametre: int veya float sayi\n",
    "    Sonuc: logaritma\n",
    "    \"\"\"\n",
    "    \n",
    "    return math.log(n)\n",
    "\n",
    "# n = 12\n",
    "# log = logaritma_al(n)\n",
    "# print(log)\n",
    "\n",
    "print(logaritma_al(12))\n"
   ]
  },
  {
   "cell_type": "markdown",
   "id": "sitting-schema",
   "metadata": {},
   "source": [
    "---"
   ]
  },
  {
   "cell_type": "markdown",
   "id": "european-recycling",
   "metadata": {},
   "source": [
    "**Soru 10:**\n",
    "\n",
    "Parametre olarak 2 sayı alan bir fonksiyon yazın. <br>\n",
    "Bu sayıları bir dik üçgenin dik kenarları  olarak düşünelim.\n",
    "Fonksiyon bu üçgenin hipotenüsünü dönsün. <br>\n",
    "$$ hipo^2 = a^2 + b^2 $$"
   ]
  },
  {
   "cell_type": "code",
   "execution_count": 38,
   "id": "suited-dispatch",
   "metadata": {},
   "outputs": [
    {
     "name": "stdout",
     "output_type": "stream",
     "text": [
      "5.0\n",
      "25.0\n",
      "17.0\n"
     ]
    }
   ],
   "source": [
    "# Çözüm 10:\n",
    "\n",
    "import math\n",
    "\n",
    "def hipotenus_hesapla(a, b):\n",
    "    \"\"\"\n",
    "    Bu fonksiyon gelen iki sayının hipotenüsünü hesaplar.\n",
    "    Parametreler: int veya float tipinde a, b\n",
    "    Sonuc: hipotenüs\n",
    "    \"\"\"\n",
    "    \n",
    "    return math.sqrt(a**2 + b**2)\n",
    "    \n",
    "\n",
    "# 3-4-5 üçgeni\n",
    "print(hipotenus_hesapla(3, 4))\n",
    "  \n",
    "# 7-24-25 üçgeni\n",
    "print(hipotenus_hesapla(7, 24))\n",
    "\n",
    "# 8-15-17\n",
    "print(hipotenus_hesapla(8, 15))"
   ]
  },
  {
   "cell_type": "code",
   "execution_count": null,
   "id": "specialized-latin",
   "metadata": {},
   "outputs": [],
   "source": []
  }
 ],
 "metadata": {
  "kernelspec": {
   "display_name": "Python 3 (ipykernel)",
   "language": "python",
   "name": "python3"
  },
  "language_info": {
   "codemirror_mode": {
    "name": "ipython",
    "version": 3
   },
   "file_extension": ".py",
   "mimetype": "text/x-python",
   "name": "python",
   "nbconvert_exporter": "python",
   "pygments_lexer": "ipython3",
   "version": "3.9.12"
  }
 },
 "nbformat": 4,
 "nbformat_minor": 5
}
