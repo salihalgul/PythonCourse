{
 "cells": [
  {
   "cell_type": "markdown",
   "id": "712db75a-257e-467c-a465-b8bbbe6d9d4b",
   "metadata": {},
   "source": [
    "# Fonksiyonlar\n"
   ]
  },
  {
   "cell_type": "markdown",
   "id": "81bb4116-b079-4476-8d27-b1489535f7ce",
   "metadata": {
    "tags": []
   },
   "source": [
    "## Fonksiyon, Fpnksiyon, Fonksiyon"
   ]
  },
  {
   "cell_type": "markdown",
   "id": "67cb9603-0443-45fe-83eb-8f4a9d995449",
   "metadata": {},
   "source": [
    "## **Fonksiyon:** belli bir işlevi yerine getirmek için yazılmış özel kod parçasıdır."
   ]
  },
  {
   "cell_type": "markdown",
   "id": "224c424d-8347-45f5-84f1-9e21808af942",
   "metadata": {},
   "source": [
    "### Fonksiyon çağırıldığı zaman çalışır."
   ]
  },
  {
   "cell_type": "markdown",
   "id": "bb8205b7-ddd8-4de1-8b71-4cf38a7cc98e",
   "metadata": {},
   "source": [
    "## Matematik Fonksiyonlar (math)\n"
   ]
  },
  {
   "cell_type": "markdown",
   "id": "10578fc0-a7ba-4274-9569-efbc0e7af159",
   "metadata": {},
   "source": [
    "### Matematiksel işlemleri yapmak için Python'da **math** modülü kullanılır.\n",
    "\n",
    "### **Modül:** birbiriyle ilgili fonksiyonları ve dosyaları bir arada tutan dosya kümeleridir."
   ]
  },
  {
   "cell_type": "code",
   "execution_count": 3,
   "id": "19279c1a-5df9-41b8-bfba-23412f465e66",
   "metadata": {},
   "outputs": [],
   "source": [
    "# math modülü içeri nasıl alınır.\n",
    "\n",
    "import math"
   ]
  },
  {
   "cell_type": "code",
   "execution_count": 6,
   "id": "6079b690-ee64-4f3e-b05b-1a8164d2a56f",
   "metadata": {},
   "outputs": [
    {
     "name": "stdout",
     "output_type": "stream",
     "text": [
      "<module 'math' (built-in)>\n"
     ]
    }
   ],
   "source": [
    "# math modülü görelim\n",
    "print(math)"
   ]
  },
  {
   "cell_type": "code",
   "execution_count": 7,
   "id": "3b3d338e-74d7-4fcd-82cf-fa240c720ec5",
   "metadata": {
    "collapsed": true,
    "jupyter": {
     "outputs_hidden": true
    },
    "tags": []
   },
   "outputs": [
    {
     "name": "stdout",
     "output_type": "stream",
     "text": [
      "Help on built-in module math:\n",
      "\n",
      "NAME\n",
      "    math\n",
      "\n",
      "DESCRIPTION\n",
      "    This module provides access to the mathematical functions\n",
      "    defined by the C standard.\n",
      "\n",
      "FUNCTIONS\n",
      "    acos(x, /)\n",
      "        Return the arc cosine (measured in radians) of x.\n",
      "        \n",
      "        The result is between 0 and pi.\n",
      "    \n",
      "    acosh(x, /)\n",
      "        Return the inverse hyperbolic cosine of x.\n",
      "    \n",
      "    asin(x, /)\n",
      "        Return the arc sine (measured in radians) of x.\n",
      "        \n",
      "        The result is between -pi/2 and pi/2.\n",
      "    \n",
      "    asinh(x, /)\n",
      "        Return the inverse hyperbolic sine of x.\n",
      "    \n",
      "    atan(x, /)\n",
      "        Return the arc tangent (measured in radians) of x.\n",
      "        \n",
      "        The result is between -pi/2 and pi/2.\n",
      "    \n",
      "    atan2(y, x, /)\n",
      "        Return the arc tangent (measured in radians) of y/x.\n",
      "        \n",
      "        Unlike atan(y/x), the signs of both x and y are considered.\n",
      "    \n",
      "    atanh(x, /)\n",
      "        Return the inverse hyperbolic tangent of x.\n",
      "    \n",
      "    ceil(x, /)\n",
      "        Return the ceiling of x as an Integral.\n",
      "        \n",
      "        This is the smallest integer >= x.\n",
      "    \n",
      "    comb(n, k, /)\n",
      "        Number of ways to choose k items from n items without repetition and without order.\n",
      "        \n",
      "        Evaluates to n! / (k! * (n - k)!) when k <= n and evaluates\n",
      "        to zero when k > n.\n",
      "        \n",
      "        Also called the binomial coefficient because it is equivalent\n",
      "        to the coefficient of k-th term in polynomial expansion of the\n",
      "        expression (1 + x)**n.\n",
      "        \n",
      "        Raises TypeError if either of the arguments are not integers.\n",
      "        Raises ValueError if either of the arguments are negative.\n",
      "    \n",
      "    copysign(x, y, /)\n",
      "        Return a float with the magnitude (absolute value) of x but the sign of y.\n",
      "        \n",
      "        On platforms that support signed zeros, copysign(1.0, -0.0)\n",
      "        returns -1.0.\n",
      "    \n",
      "    cos(x, /)\n",
      "        Return the cosine of x (measured in radians).\n",
      "    \n",
      "    cosh(x, /)\n",
      "        Return the hyperbolic cosine of x.\n",
      "    \n",
      "    degrees(x, /)\n",
      "        Convert angle x from radians to degrees.\n",
      "    \n",
      "    dist(p, q, /)\n",
      "        Return the Euclidean distance between two points p and q.\n",
      "        \n",
      "        The points should be specified as sequences (or iterables) of\n",
      "        coordinates.  Both inputs must have the same dimension.\n",
      "        \n",
      "        Roughly equivalent to:\n",
      "            sqrt(sum((px - qx) ** 2.0 for px, qx in zip(p, q)))\n",
      "    \n",
      "    erf(x, /)\n",
      "        Error function at x.\n",
      "    \n",
      "    erfc(x, /)\n",
      "        Complementary error function at x.\n",
      "    \n",
      "    exp(x, /)\n",
      "        Return e raised to the power of x.\n",
      "    \n",
      "    expm1(x, /)\n",
      "        Return exp(x)-1.\n",
      "        \n",
      "        This function avoids the loss of precision involved in the direct evaluation of exp(x)-1 for small x.\n",
      "    \n",
      "    fabs(x, /)\n",
      "        Return the absolute value of the float x.\n",
      "    \n",
      "    factorial(x, /)\n",
      "        Find x!.\n",
      "        \n",
      "        Raise a ValueError if x is negative or non-integral.\n",
      "    \n",
      "    floor(x, /)\n",
      "        Return the floor of x as an Integral.\n",
      "        \n",
      "        This is the largest integer <= x.\n",
      "    \n",
      "    fmod(x, y, /)\n",
      "        Return fmod(x, y), according to platform C.\n",
      "        \n",
      "        x % y may differ.\n",
      "    \n",
      "    frexp(x, /)\n",
      "        Return the mantissa and exponent of x, as pair (m, e).\n",
      "        \n",
      "        m is a float and e is an int, such that x = m * 2.**e.\n",
      "        If x is 0, m and e are both 0.  Else 0.5 <= abs(m) < 1.0.\n",
      "    \n",
      "    fsum(seq, /)\n",
      "        Return an accurate floating point sum of values in the iterable seq.\n",
      "        \n",
      "        Assumes IEEE-754 floating point arithmetic.\n",
      "    \n",
      "    gamma(x, /)\n",
      "        Gamma function at x.\n",
      "    \n",
      "    gcd(*integers)\n",
      "        Greatest Common Divisor.\n",
      "    \n",
      "    hypot(...)\n",
      "        hypot(*coordinates) -> value\n",
      "        \n",
      "        Multidimensional Euclidean distance from the origin to a point.\n",
      "        \n",
      "        Roughly equivalent to:\n",
      "            sqrt(sum(x**2 for x in coordinates))\n",
      "        \n",
      "        For a two dimensional point (x, y), gives the hypotenuse\n",
      "        using the Pythagorean theorem:  sqrt(x*x + y*y).\n",
      "        \n",
      "        For example, the hypotenuse of a 3/4/5 right triangle is:\n",
      "        \n",
      "            >>> hypot(3.0, 4.0)\n",
      "            5.0\n",
      "    \n",
      "    isclose(a, b, *, rel_tol=1e-09, abs_tol=0.0)\n",
      "        Determine whether two floating point numbers are close in value.\n",
      "        \n",
      "          rel_tol\n",
      "            maximum difference for being considered \"close\", relative to the\n",
      "            magnitude of the input values\n",
      "          abs_tol\n",
      "            maximum difference for being considered \"close\", regardless of the\n",
      "            magnitude of the input values\n",
      "        \n",
      "        Return True if a is close in value to b, and False otherwise.\n",
      "        \n",
      "        For the values to be considered close, the difference between them\n",
      "        must be smaller than at least one of the tolerances.\n",
      "        \n",
      "        -inf, inf and NaN behave similarly to the IEEE 754 Standard.  That\n",
      "        is, NaN is not close to anything, even itself.  inf and -inf are\n",
      "        only close to themselves.\n",
      "    \n",
      "    isfinite(x, /)\n",
      "        Return True if x is neither an infinity nor a NaN, and False otherwise.\n",
      "    \n",
      "    isinf(x, /)\n",
      "        Return True if x is a positive or negative infinity, and False otherwise.\n",
      "    \n",
      "    isnan(x, /)\n",
      "        Return True if x is a NaN (not a number), and False otherwise.\n",
      "    \n",
      "    isqrt(n, /)\n",
      "        Return the integer part of the square root of the input.\n",
      "    \n",
      "    lcm(*integers)\n",
      "        Least Common Multiple.\n",
      "    \n",
      "    ldexp(x, i, /)\n",
      "        Return x * (2**i).\n",
      "        \n",
      "        This is essentially the inverse of frexp().\n",
      "    \n",
      "    lgamma(x, /)\n",
      "        Natural logarithm of absolute value of Gamma function at x.\n",
      "    \n",
      "    log(...)\n",
      "        log(x, [base=math.e])\n",
      "        Return the logarithm of x to the given base.\n",
      "        \n",
      "        If the base not specified, returns the natural logarithm (base e) of x.\n",
      "    \n",
      "    log10(x, /)\n",
      "        Return the base 10 logarithm of x.\n",
      "    \n",
      "    log1p(x, /)\n",
      "        Return the natural logarithm of 1+x (base e).\n",
      "        \n",
      "        The result is computed in a way which is accurate for x near zero.\n",
      "    \n",
      "    log2(x, /)\n",
      "        Return the base 2 logarithm of x.\n",
      "    \n",
      "    modf(x, /)\n",
      "        Return the fractional and integer parts of x.\n",
      "        \n",
      "        Both results carry the sign of x and are floats.\n",
      "    \n",
      "    nextafter(x, y, /)\n",
      "        Return the next floating-point value after x towards y.\n",
      "    \n",
      "    perm(n, k=None, /)\n",
      "        Number of ways to choose k items from n items without repetition and with order.\n",
      "        \n",
      "        Evaluates to n! / (n - k)! when k <= n and evaluates\n",
      "        to zero when k > n.\n",
      "        \n",
      "        If k is not specified or is None, then k defaults to n\n",
      "        and the function returns n!.\n",
      "        \n",
      "        Raises TypeError if either of the arguments are not integers.\n",
      "        Raises ValueError if either of the arguments are negative.\n",
      "    \n",
      "    pow(x, y, /)\n",
      "        Return x**y (x to the power of y).\n",
      "    \n",
      "    prod(iterable, /, *, start=1)\n",
      "        Calculate the product of all the elements in the input iterable.\n",
      "        \n",
      "        The default start value for the product is 1.\n",
      "        \n",
      "        When the iterable is empty, return the start value.  This function is\n",
      "        intended specifically for use with numeric values and may reject\n",
      "        non-numeric types.\n",
      "    \n",
      "    radians(x, /)\n",
      "        Convert angle x from degrees to radians.\n",
      "    \n",
      "    remainder(x, y, /)\n",
      "        Difference between x and the closest integer multiple of y.\n",
      "        \n",
      "        Return x - n*y where n*y is the closest integer multiple of y.\n",
      "        In the case where x is exactly halfway between two multiples of\n",
      "        y, the nearest even value of n is used. The result is always exact.\n",
      "    \n",
      "    sin(x, /)\n",
      "        Return the sine of x (measured in radians).\n",
      "    \n",
      "    sinh(x, /)\n",
      "        Return the hyperbolic sine of x.\n",
      "    \n",
      "    sqrt(x, /)\n",
      "        Return the square root of x.\n",
      "    \n",
      "    tan(x, /)\n",
      "        Return the tangent of x (measured in radians).\n",
      "    \n",
      "    tanh(x, /)\n",
      "        Return the hyperbolic tangent of x.\n",
      "    \n",
      "    trunc(x, /)\n",
      "        Truncates the Real x to the nearest Integral toward 0.\n",
      "        \n",
      "        Uses the __trunc__ magic method.\n",
      "    \n",
      "    ulp(x, /)\n",
      "        Return the value of the least significant bit of the float x.\n",
      "\n",
      "DATA\n",
      "    e = 2.718281828459045\n",
      "    inf = inf\n",
      "    nan = nan\n",
      "    pi = 3.141592653589793\n",
      "    tau = 6.283185307179586\n",
      "\n",
      "FILE\n",
      "    (built-in)\n",
      "\n",
      "\n"
     ]
    }
   ],
   "source": [
    "# Python'da help özelliği vardır. \n",
    "\n",
    "help(math)"
   ]
  },
  {
   "cell_type": "code",
   "execution_count": 8,
   "id": "6de9703d-e572-42a0-88e6-4d7c2ad91985",
   "metadata": {},
   "outputs": [
    {
     "data": {
      "text/plain": [
       "3.141592653589793"
      ]
     },
     "execution_count": 8,
     "metadata": {},
     "output_type": "execute_result"
    }
   ],
   "source": [
    "# math modülü içindeki bir fonksiyonu -> . ile çağırılır.\n",
    "\n",
    "math.pi"
   ]
  },
  {
   "cell_type": "code",
   "execution_count": 9,
   "id": "4c3196a8-ff24-449c-980b-852e5b60af40",
   "metadata": {},
   "outputs": [
    {
     "name": "stdout",
     "output_type": "stream",
     "text": [
      "62.83185307179586\n"
     ]
    }
   ],
   "source": [
    "# Örnek:\n",
    "\n",
    "# Yarı çapı 10 cm olan bir çemberin çevresi ne kadardır?\n",
    "# Çevre = 2 * pi * r\n",
    "\n",
    "r = 10\n",
    "\n",
    "#cevre\n",
    "\n",
    "cevre = 2 * math.pi * r\n",
    "\n",
    "print(cevre)"
   ]
  },
  {
   "cell_type": "code",
   "execution_count": 10,
   "id": "aba0200f-644f-49b5-8363-2070e452a73c",
   "metadata": {},
   "outputs": [
    {
     "name": "stdout",
     "output_type": "stream",
     "text": [
      "0.5235987755982988\n"
     ]
    }
   ],
   "source": [
    "# 30 derecenin sinüsünü hesaplayalım\n",
    "\n",
    "derece = 30\n",
    "\n",
    "#radyan hesapla\n",
    "radyan = math.radians(derece)\n",
    "\n",
    "print(radyan)"
   ]
  },
  {
   "cell_type": "code",
   "execution_count": 11,
   "id": "c3da970b-53be-419c-89cb-09b4fde263a6",
   "metadata": {},
   "outputs": [
    {
     "data": {
      "text/plain": [
       "-0.9880316240928618"
      ]
     },
     "execution_count": 11,
     "metadata": {},
     "output_type": "execute_result"
    }
   ],
   "source": [
    "# yanlış kullanım\n",
    "sinus = math.sin(derece)\n",
    "sinus"
   ]
  },
  {
   "cell_type": "code",
   "execution_count": 12,
   "id": "4ba83307-6d18-468b-9c1d-743db32230a3",
   "metadata": {},
   "outputs": [
    {
     "name": "stdout",
     "output_type": "stream",
     "text": [
      "Help on built-in function sin in module math:\n",
      "\n",
      "sin(x, /)\n",
      "    Return the sine of x (measured in radians).\n",
      "\n"
     ]
    }
   ],
   "source": [
    "help(math.sin)"
   ]
  },
  {
   "cell_type": "code",
   "execution_count": 13,
   "id": "c52059b0-8bb6-4f9b-ac71-ca20e43da554",
   "metadata": {},
   "outputs": [
    {
     "data": {
      "text/plain": [
       "0.49999999999999994"
      ]
     },
     "execution_count": 13,
     "metadata": {},
     "output_type": "execute_result"
    }
   ],
   "source": [
    "# Doğru kullanım\n",
    "\n",
    "sinus = math.sin(radyan)\n",
    "sinus"
   ]
  },
  {
   "cell_type": "code",
   "execution_count": 20,
   "id": "1b562e41-28bb-4d77-a824-7b2d6e231b26",
   "metadata": {},
   "outputs": [
    {
     "ename": "TypeError",
     "evalue": "'float' object is not callable",
     "output_type": "error",
     "traceback": [
      "\u001b[1;31m---------------------------------------------------------------------------\u001b[0m",
      "\u001b[1;31mTypeError\u001b[0m                                 Traceback (most recent call last)",
      "Input \u001b[1;32mIn [20]\u001b[0m, in \u001b[0;36m<cell line: 1>\u001b[1;34m()\u001b[0m\n\u001b[1;32m----> 1\u001b[0m anahtar_kelimeler \u001b[38;5;241m=\u001b[39m \u001b[43mmath\u001b[49m\u001b[38;5;241;43m.\u001b[39;49m\u001b[43mtau\u001b[49m\u001b[43m(\u001b[49m\u001b[43m)\u001b[49m\n\u001b[0;32m      2\u001b[0m anahtar_kelimeler\n",
      "\u001b[1;31mTypeError\u001b[0m: 'float' object is not callable"
     ]
    }
   ],
   "source": [
    "anahtar_kelimeler = math.tau()\n",
    "anahtar_kelimeler"
   ]
  },
  {
   "cell_type": "markdown",
   "id": "e367977a-1bc0-4750-87d1-c3ae30885d2f",
   "metadata": {},
   "source": [
    "## Fonksiyonların Birleşimi"
   ]
  },
  {
   "cell_type": "markdown",
   "id": "d17e76df-09fb-4f00-a617-4098b85aaa3c",
   "metadata": {},
   "source": [
    "Yukarıda kullandığımız math.sin() fonksiyonunu tek adımda kulanalım"
   ]
  },
  {
   "cell_type": "code",
   "execution_count": 21,
   "id": "8f526367-55c3-4571-a25c-4a0dcffa5d71",
   "metadata": {},
   "outputs": [
    {
     "data": {
      "text/plain": [
       "0.49999999999999994"
      ]
     },
     "execution_count": 21,
     "metadata": {},
     "output_type": "execute_result"
    }
   ],
   "source": [
    "import math\n",
    "\n",
    "derece = 30\n",
    "\n",
    "sinus = math.sin(math.radians(derece))\n",
    "sinus"
   ]
  },
  {
   "cell_type": "markdown",
   "id": "4a51d3e0-dd34-488e-a7ea-a10adc9b59ac",
   "metadata": {},
   "source": [
    "**Chain:** Fonksiyonları zincirlemek"
   ]
  },
  {
   "cell_type": "markdown",
   "id": "c9936639-33bd-4a99-81a1-b2564efe7bf0",
   "metadata": {},
   "source": [
    "### Fonksiyonları Tanımlamak"
   ]
  },
  {
   "cell_type": "markdown",
   "id": "7d92d248-c8d7-4547-9162-359063eec859",
   "metadata": {},
   "source": [
    "**tanımlamak: definition**"
   ]
  },
  {
   "cell_type": "code",
   "execution_count": 22,
   "id": "59b02fac-881f-4f0e-bda2-42047dfa0290",
   "metadata": {},
   "outputs": [],
   "source": [
    "# Parametresiz fonsiyon tanımlamak\n",
    "\n",
    "def fonksiyon_adı():\n",
    "    print(\"İlk fonksiyon\")\n",
    "    "
   ]
  },
  {
   "cell_type": "code",
   "execution_count": 23,
   "id": "d4e8e7a7-2956-4b53-8923-3d3dd7ad92eb",
   "metadata": {},
   "outputs": [
    {
     "name": "stdout",
     "output_type": "stream",
     "text": [
      "İlk fonksiyon\n"
     ]
    }
   ],
   "source": [
    "# fonksiyon çağırmak\n",
    "\n",
    "fonksiyon_adı()"
   ]
  },
  {
   "cell_type": "markdown",
   "id": "d8516e2e-cf9e-4764-a16e-7582dd8803c5",
   "metadata": {},
   "source": [
    "**indent:** Python'da indent yapısı ile kod bölümlendirilir.\n",
    "\n",
    "* indent: tab\n",
    "* indent: 4 space"
   ]
  },
  {
   "cell_type": "code",
   "execution_count": 24,
   "id": "2c49ab58-fbee-4eae-a2af-bef11d6d75c9",
   "metadata": {},
   "outputs": [
    {
     "name": "stdout",
     "output_type": "stream",
     "text": [
      "Adı: John Doe\n",
      "Yaşı: 24\n",
      "Dili: Python\n"
     ]
    }
   ],
   "source": [
    "# Öğrenci Bilgileri\n",
    "\n",
    "print(\"Adı: John Doe\")\n",
    "print(\"Yaşı: 24\")\n",
    "print(\"Dili: Python\")"
   ]
  },
  {
   "cell_type": "code",
   "execution_count": 25,
   "id": "b4fa5481-5ed1-4fa4-a54c-7971c3117802",
   "metadata": {},
   "outputs": [],
   "source": [
    "# Öğrenci bilgileri tekrar lazım olsa"
   ]
  },
  {
   "cell_type": "code",
   "execution_count": 26,
   "id": "a6cf65ce-7627-4cce-b9e2-04478a11a9ba",
   "metadata": {},
   "outputs": [],
   "source": [
    "# Parametresiz fonksiyon tanımla\n",
    "\n",
    "def ogrenci_adi():\n",
    "    print(\"Adı: John Doe\")\n",
    "    "
   ]
  },
  {
   "cell_type": "code",
   "execution_count": 27,
   "id": "fd099c74-85e4-4043-aef2-eea0d80117b3",
   "metadata": {},
   "outputs": [
    {
     "name": "stdout",
     "output_type": "stream",
     "text": [
      "Adı: John Doe\n"
     ]
    }
   ],
   "source": [
    "ogrenci_adi()"
   ]
  },
  {
   "cell_type": "code",
   "execution_count": 32,
   "id": "e438ce7d-16db-4506-b78c-ed888dd54101",
   "metadata": {},
   "outputs": [
    {
     "name": "stdout",
     "output_type": "stream",
     "text": [
      "Return x**y (x to the power of y).\n"
     ]
    }
   ],
   "source": [
    "print(math.pow.__doc__)\n"
   ]
  },
  {
   "cell_type": "code",
   "execution_count": null,
   "id": "9fb2a5dd-7cbf-445e-88f7-1eeb9483bc82",
   "metadata": {},
   "outputs": [],
   "source": []
  }
 ],
 "metadata": {
  "kernelspec": {
   "display_name": "Python 3 (ipykernel)",
   "language": "python",
   "name": "python3"
  },
  "language_info": {
   "codemirror_mode": {
    "name": "ipython",
    "version": 3
   },
   "file_extension": ".py",
   "mimetype": "text/x-python",
   "name": "python",
   "nbconvert_exporter": "python",
   "pygments_lexer": "ipython3",
   "version": "3.9.12"
  }
 },
 "nbformat": 4,
 "nbformat_minor": 5
}
