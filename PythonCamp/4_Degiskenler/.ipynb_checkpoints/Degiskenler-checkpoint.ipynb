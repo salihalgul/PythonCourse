{
 "cells": [
  {
   "cell_type": "markdown",
   "id": "2b3f6ce4-ea89-4674-95ae-618093ae8190",
   "metadata": {},
   "source": [
    "## Değişkenler"
   ]
  },
  {
   "cell_type": "markdown",
   "id": "5781e819-9d6f-4b8b-a522-e8e6efd16f7e",
   "metadata": {},
   "source": [
    "### 'Değişken' bir Atıftır"
   ]
  },
  {
   "cell_type": "markdown",
   "id": "3865d053-4e08-44fb-b9a7-496c119b9496",
   "metadata": {},
   "source": [
    "**Değişken,** bir **değere** atıfta bulunan bir isimdir.\n",
    "\n",
    "Bilgisyarın hafızasında o değere ait adresin ismidir. (adres numarasıdır)\n",
    "\n",
    "**Atama** (assignment) işlemi, yeni bir değişken yaratır ve ona bir değer atar."
   ]
  },
  {
   "cell_type": "code",
   "execution_count": 1,
   "id": "2f9576e2-6e57-4a4c-b4d8-473a48491a2e",
   "metadata": {},
   "outputs": [],
   "source": [
    "a = 12"
   ]
  },
  {
   "cell_type": "code",
   "execution_count": 2,
   "id": "2513a0f1-ff5f-4a17-ac7b-37ab7eb9ee8b",
   "metadata": {},
   "outputs": [
    {
     "data": {
      "text/plain": [
       "12"
      ]
     },
     "execution_count": 2,
     "metadata": {},
     "output_type": "execute_result"
    }
   ],
   "source": [
    "a"
   ]
  },
  {
   "cell_type": "code",
   "execution_count": 3,
   "id": "22a97f17-a92a-4aad-bde1-9c7e837f2dfe",
   "metadata": {},
   "outputs": [],
   "source": [
    "bilgi = \"Python adı, Monthy Python ve Kutsal Kase dizisinden gelir.\""
   ]
  },
  {
   "cell_type": "code",
   "execution_count": 4,
   "id": "3c4378e1-eaaf-4a14-8f8e-1faadf0efc9b",
   "metadata": {},
   "outputs": [
    {
     "name": "stdout",
     "output_type": "stream",
     "text": [
      "Python adı, Monthy Python ve Kutsal Kase dizisinden gelir.\n"
     ]
    }
   ],
   "source": [
    "print(bilgi)"
   ]
  },
  {
   "cell_type": "code",
   "execution_count": 5,
   "id": "0436cfcc-9ea3-4327-a87b-a8861df2d007",
   "metadata": {},
   "outputs": [
    {
     "name": "stdout",
     "output_type": "stream",
     "text": [
      "3.1415\n"
     ]
    }
   ],
   "source": [
    "pi = 3.1415\n",
    "print(pi)"
   ]
  },
  {
   "cell_type": "markdown",
   "id": "cd951154-26df-4a8b-b7b1-500576e09b1f",
   "metadata": {},
   "source": [
    "### Değişken İsimleri"
   ]
  },
  {
   "cell_type": "markdown",
   "id": "d3b4e196-b6c1-4949-8a4b-e3f01bb4b64d",
   "metadata": {},
   "source": [
    "Python'da Değişken İsimleri\n",
    "\n",
    "* Seçtiğiniz değişken isimleri anlamlı, kendi adına konuşan isimler\n",
    "* Genelde snake_case isimlendirme kullanılır.\n",
    "\n",
    "ortalama_hiz\n",
    "sesli_harfler\n",
    "\n",
    "Değişken isimleri:\n",
    "* sayı ile başlayamaz\n",
    "    * 1sayi\n",
    "    * 2.deger\n",
    "    \n",
    "* boşluk karakteri olamaz\n",
    "    * ortalama hiz\n",
    "   \n",
    "* özel karakter bulunduramaz\n",
    "    * @, -, +, * vs.\n",
    "    * @sayi\n",
    "    \n",
    "* keyword (anahtar kelime) içeremez"
   ]
  },
  {
   "cell_type": "code",
   "execution_count": 6,
   "id": "45000241-b282-4e0b-9f23-d76b80b1d1ae",
   "metadata": {},
   "outputs": [
    {
     "ename": "SyntaxError",
     "evalue": "invalid syntax (2006652918.py, line 1)",
     "output_type": "error",
     "traceback": [
      "\u001b[1;36m  Input \u001b[1;32mIn [6]\u001b[1;36m\u001b[0m\n\u001b[1;33m    1sayi = 5\u001b[0m\n\u001b[1;37m     ^\u001b[0m\n\u001b[1;31mSyntaxError\u001b[0m\u001b[1;31m:\u001b[0m invalid syntax\n"
     ]
    }
   ],
   "source": [
    "1sayi = 5"
   ]
  },
  {
   "cell_type": "markdown",
   "id": "0b14664c-bda5-412f-8239-acb8dec3dc7f",
   "metadata": {},
   "source": [
    "Syntax:Söz Dizimi\n"
   ]
  },
  {
   "cell_type": "code",
   "execution_count": 7,
   "id": "d9f855b7-9a87-41a2-a1b2-bf272452c67f",
   "metadata": {},
   "outputs": [
    {
     "ename": "SyntaxError",
     "evalue": "invalid syntax (1959916271.py, line 1)",
     "output_type": "error",
     "traceback": [
      "\u001b[1;36m  Input \u001b[1;32mIn [7]\u001b[1;36m\u001b[0m\n\u001b[1;33m    ortalama hiz = 80\u001b[0m\n\u001b[1;37m             ^\u001b[0m\n\u001b[1;31mSyntaxError\u001b[0m\u001b[1;31m:\u001b[0m invalid syntax\n"
     ]
    }
   ],
   "source": [
    "ortalama hiz = 80"
   ]
  },
  {
   "cell_type": "code",
   "execution_count": 8,
   "id": "e474cf70-e86d-457c-b2e4-326426e049e3",
   "metadata": {},
   "outputs": [
    {
     "ename": "SyntaxError",
     "evalue": "invalid syntax (3392308290.py, line 1)",
     "output_type": "error",
     "traceback": [
      "\u001b[1;36m  Input \u001b[1;32mIn [8]\u001b[1;36m\u001b[0m\n\u001b[1;33m    @onluk = 10\u001b[0m\n\u001b[1;37m           ^\u001b[0m\n\u001b[1;31mSyntaxError\u001b[0m\u001b[1;31m:\u001b[0m invalid syntax\n"
     ]
    }
   ],
   "source": [
    "@onluk = 10"
   ]
  },
  {
   "cell_type": "markdown",
   "id": "7d0226cf-9a5e-4198-925e-3b440cc2d1f5",
   "metadata": {},
   "source": [
    "**Keywod:** for, True, return, try ..."
   ]
  },
  {
   "cell_type": "code",
   "execution_count": 9,
   "id": "6a7ba053-324c-4106-b571-317636e83639",
   "metadata": {},
   "outputs": [
    {
     "ename": "SyntaxError",
     "evalue": "invalid syntax (2046953698.py, line 1)",
     "output_type": "error",
     "traceback": [
      "\u001b[1;36m  Input \u001b[1;32mIn [9]\u001b[1;36m\u001b[0m\n\u001b[1;33m    for = 4\u001b[0m\n\u001b[1;37m        ^\u001b[0m\n\u001b[1;31mSyntaxError\u001b[0m\u001b[1;31m:\u001b[0m invalid syntax\n"
     ]
    }
   ],
   "source": [
    "for = 4"
   ]
  },
  {
   "cell_type": "code",
   "execution_count": 10,
   "id": "a642e39e-468b-4efb-96bb-9d414ce7a8ab",
   "metadata": {},
   "outputs": [
    {
     "ename": "SyntaxError",
     "evalue": "starred assignment target must be in a list or tuple (2363509968.py, line 1)",
     "output_type": "error",
     "traceback": [
      "\u001b[1;36m  Input \u001b[1;32mIn [10]\u001b[1;36m\u001b[0m\n\u001b[1;33m    *a = 200\u001b[0m\n\u001b[1;37m    ^\u001b[0m\n\u001b[1;31mSyntaxError\u001b[0m\u001b[1;31m:\u001b[0m starred assignment target must be in a list or tuple\n"
     ]
    }
   ],
   "source": [
    "*a = 200"
   ]
  },
  {
   "cell_type": "markdown",
   "id": "0b0001a8-2871-40f5-8665-5af2792e5f29",
   "metadata": {},
   "source": [
    "**Önemli:** Python'da **Büyük-küçük** eşit değildir."
   ]
  },
  {
   "cell_type": "code",
   "execution_count": 11,
   "id": "f2018917-7a97-460a-9486-9749ea310948",
   "metadata": {},
   "outputs": [],
   "source": [
    "a = 10\n",
    "A = 45"
   ]
  },
  {
   "cell_type": "code",
   "execution_count": 12,
   "id": "0ff61039-0255-40f8-a307-d343f1bb1fdb",
   "metadata": {},
   "outputs": [
    {
     "name": "stdout",
     "output_type": "stream",
     "text": [
      "10\n"
     ]
    }
   ],
   "source": [
    "print(a)"
   ]
  },
  {
   "cell_type": "code",
   "execution_count": 13,
   "id": "b8328e71-d885-47ad-a5b3-7ea69862e468",
   "metadata": {},
   "outputs": [
    {
     "name": "stdout",
     "output_type": "stream",
     "text": [
      "45\n"
     ]
    }
   ],
   "source": [
    "print(A)"
   ]
  },
  {
   "cell_type": "markdown",
   "id": "9d243f6a-d0b6-4c04-92d7-82c7bd26d107",
   "metadata": {},
   "source": [
    "a eşit değildir A'ya."
   ]
  },
  {
   "cell_type": "code",
   "execution_count": 15,
   "id": "8060b6a3-8ed5-4b51-953e-76604165787c",
   "metadata": {},
   "outputs": [
    {
     "name": "stdout",
     "output_type": "stream",
     "text": [
      "5\n"
     ]
    }
   ],
   "source": [
    "sayi = 5\n",
    "Sayi = 5\n",
    "print(sayi)"
   ]
  },
  {
   "cell_type": "markdown",
   "id": "d01f7b9e-967a-4d80-a6aa-6d02da8ef789",
   "metadata": {},
   "source": [
    "Değişken adlarında Türkçe karakter kullanmayın."
   ]
  },
  {
   "cell_type": "code",
   "execution_count": 16,
   "id": "e9ad20bb-3387-4639-844f-dc21563a0621",
   "metadata": {},
   "outputs": [
    {
     "name": "stdout",
     "output_type": "stream",
     "text": [
      "80\n"
     ]
    }
   ],
   "source": [
    "değer = 80\n",
    "print(değer)"
   ]
  },
  {
   "cell_type": "code",
   "execution_count": 17,
   "id": "9a5875ec-4aa9-43e0-a8cc-835d1011e26f",
   "metadata": {},
   "outputs": [
    {
     "name": "stdout",
     "output_type": "stream",
     "text": [
      "80\n"
     ]
    }
   ],
   "source": [
    "deger = 80\n",
    "print(deger)"
   ]
  },
  {
   "cell_type": "markdown",
   "id": "4bc188bd-ad4f-483b-b996-55966bc73352",
   "metadata": {},
   "source": [
    "**Python Veri Tipleri**\n",
    "* Text (Metin) Tipi : **str**\n",
    "* Numerik Tipler: **int, float**\n",
    "* Liste Tipleri: **list, tuple, range**\n",
    "* İlişki Tipi: **dic**\n",
    "* Küme Tipi: **set**\n",
    "* Boolean Tipi: **bool**"
   ]
  },
  {
   "cell_type": "markdown",
   "id": "a01a3209-9117-4228-ae35-8ce735dbee77",
   "metadata": {},
   "source": [
    "Bir değişkenin tipi: 'type()'"
   ]
  },
  {
   "cell_type": "code",
   "execution_count": 18,
   "id": "449d72c9-d44b-4c9c-b8aa-661803700f6d",
   "metadata": {},
   "outputs": [
    {
     "data": {
      "text/plain": [
       "str"
      ]
     },
     "execution_count": 18,
     "metadata": {},
     "output_type": "execute_result"
    }
   ],
   "source": [
    "metin = \"Bu bir metin tipidir.\"\n",
    "type(metin)"
   ]
  },
  {
   "cell_type": "code",
   "execution_count": 19,
   "id": "27f817bd-3c6e-4bbb-8d9e-1c2c722954db",
   "metadata": {},
   "outputs": [
    {
     "data": {
      "text/plain": [
       "int"
      ]
     },
     "execution_count": 19,
     "metadata": {},
     "output_type": "execute_result"
    }
   ],
   "source": [
    "tam_sayi = 16\n",
    "type(tam_sayi)"
   ]
  },
  {
   "cell_type": "code",
   "execution_count": 20,
   "id": "0ab90790-4f51-4266-ab1d-e6c67ca4fea0",
   "metadata": {},
   "outputs": [
    {
     "name": "stdout",
     "output_type": "stream",
     "text": [
      "<class 'float'>\n"
     ]
    }
   ],
   "source": [
    "kesirli_sayi = 4.6\n",
    "print(type(kesirli_sayi))"
   ]
  },
  {
   "cell_type": "code",
   "execution_count": 21,
   "id": "70cd180a-fd5d-45a9-95c6-c11a981fe7c2",
   "metadata": {},
   "outputs": [
    {
     "data": {
      "text/plain": [
       "float"
      ]
     },
     "execution_count": 21,
     "metadata": {},
     "output_type": "execute_result"
    }
   ],
   "source": [
    "type(kesirli_sayi)"
   ]
  },
  {
   "cell_type": "code",
   "execution_count": 22,
   "id": "d8150de6-96e1-4b06-a344-1c52fd9e5aeb",
   "metadata": {},
   "outputs": [
    {
     "name": "stdout",
     "output_type": "stream",
     "text": [
      "[1, 2, 3, 4, 5]\n"
     ]
    },
    {
     "data": {
      "text/plain": [
       "list"
      ]
     },
     "execution_count": 22,
     "metadata": {},
     "output_type": "execute_result"
    }
   ],
   "source": [
    "liste = [1, 2, 3, 4, 5]\n",
    "print(liste)\n",
    "type(liste)"
   ]
  },
  {
   "cell_type": "code",
   "execution_count": 24,
   "id": "9a488300-bab3-4ae3-8c36-9e8b6dd9aa28",
   "metadata": {},
   "outputs": [
    {
     "name": "stdout",
     "output_type": "stream",
     "text": [
      "('A', 'B', 'C')\n",
      "<class 'tuple'>\n"
     ]
    }
   ],
   "source": [
    "uclu = ('A', 'B', 'C')\n",
    "print(uclu)\n",
    "print(type(uclu))"
   ]
  },
  {
   "cell_type": "code",
   "execution_count": 25,
   "id": "ab964e1a-7662-4781-9f7e-4e439c8a5aef",
   "metadata": {},
   "outputs": [
    {
     "name": "stdout",
     "output_type": "stream",
     "text": [
      "range(0, 10)\n"
     ]
    },
    {
     "data": {
      "text/plain": [
       "range"
      ]
     },
     "execution_count": 25,
     "metadata": {},
     "output_type": "execute_result"
    }
   ],
   "source": [
    "onluk = range(10)\n",
    "print(onluk)\n",
    "type(onluk)"
   ]
  },
  {
   "cell_type": "code",
   "execution_count": 26,
   "id": "1b20c74e-6f35-48b5-9e96-1de2cdd1d947",
   "metadata": {},
   "outputs": [
    {
     "name": "stdout",
     "output_type": "stream",
     "text": [
      "{'ad': 'Musa', 'soyad': 'Arda', 'programlama': 'Python'}\n"
     ]
    },
    {
     "data": {
      "text/plain": [
       "dict"
      ]
     },
     "execution_count": 26,
     "metadata": {},
     "output_type": "execute_result"
    }
   ],
   "source": [
    "sozluk = {\n",
    "    \"ad\": \"Musa\", \n",
    "    \"soyad\": \"Arda\",\n",
    "    \"programlama\": \"Python\"}\n",
    "\n",
    "print(sozluk)\n",
    "type(sozluk)"
   ]
  },
  {
   "cell_type": "code",
   "execution_count": 27,
   "id": "a65085cc-7166-46fe-a860-911d55a78303",
   "metadata": {},
   "outputs": [
    {
     "name": "stdout",
     "output_type": "stream",
     "text": [
      "{1, 2, 3, 4, 5}\n"
     ]
    },
    {
     "data": {
      "text/plain": [
       "set"
      ]
     },
     "execution_count": 27,
     "metadata": {},
     "output_type": "execute_result"
    }
   ],
   "source": [
    "kume = set([1, 2, 3, 2, 4, 1, 3, 5, 4])\n",
    "print(kume)\n",
    "type(kume)"
   ]
  },
  {
   "cell_type": "code",
   "execution_count": 28,
   "id": "f7fc3c65-1dc8-4fdb-baa3-b42b2607ad4a",
   "metadata": {},
   "outputs": [
    {
     "name": "stdout",
     "output_type": "stream",
     "text": [
      "True\n",
      "False\n"
     ]
    },
    {
     "data": {
      "text/plain": [
       "bool"
      ]
     },
     "execution_count": 28,
     "metadata": {},
     "output_type": "execute_result"
    }
   ],
   "source": [
    "dogru = True\n",
    "yanlis = False\n",
    "print(dogru)\n",
    "print(yanlis)\n",
    "type(dogru)"
   ]
  },
  {
   "cell_type": "markdown",
   "id": "03845ac1-3425-46bb-b18c-95bb5e3fae96",
   "metadata": {},
   "source": [
    "# Python'da Yorum Satırı"
   ]
  },
  {
   "cell_type": "markdown",
   "id": "f4216037-7eb4-4ca4-974f-3c65f1c07aad",
   "metadata": {},
   "source": [
    "**Derleyici:** Kaynak kodu, makine diline çeviren yazılımdır. (Compiler)\n",
    "\n",
    "Compiler, kod yazılımı tamamlanınca, tek seferde tüm kodu makine diline çevirir."
   ]
  },
  {
   "cell_type": "markdown",
   "id": "e53f52a4-dcbd-4b5f-bbba-4bfaf3dc8353",
   "metadata": {},
   "source": [
    "**Yorumlayıcı:** Kaynak kodu, makine diline çeviren yazılımdır. (Interpreter)\n",
    "\n",
    "Interpreter, kod yazılırken çevirir. Satır satır makine diline çevirir."
   ]
  },
  {
   "cell_type": "markdown",
   "id": "ead07e34-7cd4-456c-93ea-f81e04e9028f",
   "metadata": {},
   "source": [
    "**Yorum Satırı:** Yorum satırı, Python Interpreter tarafından göz ardı edilen satır.\n",
    "Interpreter, kod satırı gördüğünde çalıştırmaz."
   ]
  },
  {
   "cell_type": "code",
   "execution_count": null,
   "id": "dda61a67-dadc-4ab6-a930-092cad86368c",
   "metadata": {},
   "outputs": [],
   "source": [
    "# Python'da tek satır yorum\n",
    "# Bu da bir yorum satırı"
   ]
  },
  {
   "cell_type": "code",
   "execution_count": 29,
   "id": "7c959673-0933-4e2c-bace-c3cb6c7b5c30",
   "metadata": {},
   "outputs": [
    {
     "name": "stdout",
     "output_type": "stream",
     "text": [
      "90000\n"
     ]
    }
   ],
   "source": [
    "# bu degişken aracın km'sini tutar\n",
    "arac_km = 90000\n",
    "print(arac_km)"
   ]
  },
  {
   "cell_type": "code",
   "execution_count": 30,
   "id": "220e941e-712b-4f74-82e2-fd686cc7c7a2",
   "metadata": {},
   "outputs": [
    {
     "name": "stdout",
     "output_type": "stream",
     "text": [
      "75.0\n"
     ]
    }
   ],
   "source": [
    "# ortalama hız = gidilen mesafe / geçen süre\n",
    "\n",
    "# önce mesafe ve süreyi al\n",
    "gidilen_mesafe = 450     # km\n",
    "gecen_sure = 6           # sa\n",
    "\n",
    "# ortalama hızı hesapla\n",
    "ortalama_hiz = gidilen_mesafe / gecen_sure\n",
    "\n",
    "# bulduğumuz değeri yazdıralım\n",
    "print(ortalama_hiz)"
   ]
  },
  {
   "cell_type": "code",
   "execution_count": 31,
   "id": "aa4b0d3e-2924-48e0-8de6-c4f266cb7065",
   "metadata": {
    "jp-MarkdownHeadingCollapsed": true,
    "tags": []
   },
   "outputs": [],
   "source": [
    "# TEK SATIR YORUM\n",
    "# Python Interpreter yorum satırlarını gözardı eder. \n",
    "# o yüzden program çalışırken yorum satırı çalıştırılmaz."
   ]
  },
  {
   "cell_type": "code",
   "execution_count": null,
   "id": "8e116aa3-5759-4866-98cd-0f0c8d9a382b",
   "metadata": {},
   "outputs": [],
   "source": []
  },
  {
   "cell_type": "code",
   "execution_count": 32,
   "id": "dfd072b4-4d13-40e6-8ec6-ba403103f629",
   "metadata": {},
   "outputs": [
    {
     "data": {
      "text/plain": [
       "\"\\nÇok Satır Yorum\\n\\nPython'da çok satır yorum\\nİki adet 3'lü tırnak ile gösterilir.\\n\\nBu örnekte olduğu gibi.\\n\\n\""
      ]
     },
     "execution_count": 32,
     "metadata": {},
     "output_type": "execute_result"
    }
   ],
   "source": [
    "\"\"\"\n",
    "Çok Satır Yorum\n",
    "\n",
    "Python'da çok satır yorum\n",
    "İki adet 3'lü tırnak ile gösterilir.\n",
    "\n",
    "Bu örnekte olduğu gibi.\n",
    "\n",
    "\"\"\""
   ]
  },
  {
   "cell_type": "code",
   "execution_count": 33,
   "id": "435bdce2-e5c3-491d-abfd-31cbda567442",
   "metadata": {},
   "outputs": [
    {
     "name": "stdout",
     "output_type": "stream",
     "text": [
      "Satır 1 \n",
      "Satir 2 \n",
      "Satir 3\n"
     ]
    }
   ],
   "source": [
    "cok_satir_metin = \"Satır 1 \\nSatir 2 \\nSatir 3\"\n",
    "print(cok_satir_metin)"
   ]
  },
  {
   "cell_type": "markdown",
   "id": "9f439127-edff-4faa-9acd-b73c56155cbf",
   "metadata": {},
   "source": [
    "**\\n** bir alt satıra geçer."
   ]
  },
  {
   "cell_type": "code",
   "execution_count": 35,
   "id": "43668e01-bbec-46e8-a15d-56542b54ee7f",
   "metadata": {},
   "outputs": [
    {
     "name": "stdout",
     "output_type": "stream",
     "text": [
      "Selam sana \n",
      "Demir Ayak...\n"
     ]
    }
   ],
   "source": [
    "print(\"Selam sana \\nDemir Ayak...\")"
   ]
  },
  {
   "cell_type": "code",
   "execution_count": 36,
   "id": "536da717-dbba-4596-a89c-dd62793d6d96",
   "metadata": {},
   "outputs": [
    {
     "data": {
      "text/plain": [
       "'\\nBu satır 1\\n    Bu satır 2\\n        Bu satır 3\\n'"
      ]
     },
     "execution_count": 36,
     "metadata": {},
     "output_type": "execute_result"
    }
   ],
   "source": [
    "\"\"\"\n",
    "Bu satır 1\n",
    "    Bu satır 2\n",
    "        Bu satır 3\n",
    "\"\"\""
   ]
  },
  {
   "cell_type": "markdown",
   "id": "f11f9367-7a24-4255-b81a-f657463b3aae",
   "metadata": {},
   "source": [
    "## Numerik Operasyonlar"
   ]
  },
  {
   "cell_type": "code",
   "execution_count": 39,
   "id": "891ed153-5b5b-4374-8fda-435dd547d82a",
   "metadata": {},
   "outputs": [
    {
     "name": "stdout",
     "output_type": "stream",
     "text": [
      "37\n",
      "23\n",
      "210\n",
      "4.285714285714286\n",
      "4\n",
      "2\n",
      "21870000000\n"
     ]
    }
   ],
   "source": [
    "# değişkenleri tanımla\n",
    "\n",
    "a = 30\n",
    "b = 7\n",
    "\n",
    "\n",
    "print(a + b)  # toplama\n",
    "print(a - b)  # çıkarma\n",
    "print(a * b)  # çarpma\n",
    "print(a / b)  # bölme\n",
    "print(a // b) # tam sayılı bölme\n",
    "print(a % b)  # mod\n",
    "print(a**b)   # üstel"
   ]
  },
  {
   "cell_type": "markdown",
   "id": "67876e3e-25d4-4580-b5fd-3473220bc11e",
   "metadata": {},
   "source": [
    "**Öncelik sırası:** Parantez, Üstel, Bölme, Çarpma, Toplama, Çıkarma **BEDMAS**"
   ]
  },
  {
   "cell_type": "code",
   "execution_count": 41,
   "id": "a7455f2b-a766-4fa5-aad8-4919341a9ea8",
   "metadata": {},
   "outputs": [
    {
     "name": "stdout",
     "output_type": "stream",
     "text": [
      "13.0\n"
     ]
    }
   ],
   "source": [
    "print(4 * 5 - 9 + 14 / 7)"
   ]
  },
  {
   "cell_type": "code",
   "execution_count": 42,
   "id": "39b252e1-b2dc-48d4-88ba-a460c1399648",
   "metadata": {},
   "outputs": [
    {
     "data": {
      "text/plain": [
       "10"
      ]
     },
     "execution_count": 42,
     "metadata": {},
     "output_type": "execute_result"
    }
   ],
   "source": [
    "a = 9\n",
    "\n",
    "# a'yı bir artır\n",
    "a = a + 1\n",
    "a"
   ]
  },
  {
   "cell_type": "code",
   "execution_count": 43,
   "id": "c39fb55c-ddf8-4b97-9fbf-5c75368cc8bd",
   "metadata": {},
   "outputs": [],
   "source": [
    "a = a + 4"
   ]
  },
  {
   "cell_type": "code",
   "execution_count": 44,
   "id": "981a4cc9-58e1-4060-8ccc-22576332ca8e",
   "metadata": {},
   "outputs": [
    {
     "name": "stdout",
     "output_type": "stream",
     "text": [
      "14\n"
     ]
    }
   ],
   "source": [
    "print(a)"
   ]
  },
  {
   "cell_type": "code",
   "execution_count": 45,
   "id": "5e12497b-67ea-4e2d-b8fe-801df0f22eca",
   "metadata": {},
   "outputs": [
    {
     "data": {
      "text/plain": [
       "17"
      ]
     },
     "execution_count": 45,
     "metadata": {},
     "output_type": "execute_result"
    }
   ],
   "source": [
    "# Kısa yoldan artırma (toplama)\n",
    "\n",
    "a += 3\n",
    "a"
   ]
  },
  {
   "cell_type": "code",
   "execution_count": 46,
   "id": "e1b57b9c-c988-4c66-808b-64fe6afcca6d",
   "metadata": {},
   "outputs": [
    {
     "data": {
      "text/plain": [
       "11"
      ]
     },
     "execution_count": 46,
     "metadata": {},
     "output_type": "execute_result"
    }
   ],
   "source": [
    "# kısa yoldan çıkarma\n",
    "a -= 6\n",
    "a"
   ]
  },
  {
   "cell_type": "code",
   "execution_count": 47,
   "id": "4e36ba5d-6939-41c0-b493-c98361d64684",
   "metadata": {},
   "outputs": [
    {
     "data": {
      "text/plain": [
       "55"
      ]
     },
     "execution_count": 47,
     "metadata": {},
     "output_type": "execute_result"
    }
   ],
   "source": [
    "# kısa yoldan  çarpma\n",
    "a *= 5\n",
    "a"
   ]
  },
  {
   "cell_type": "code",
   "execution_count": 48,
   "id": "ae82f929-d53f-41ec-85f0-b2d6b88d2d71",
   "metadata": {},
   "outputs": [
    {
     "data": {
      "text/plain": [
       "5.0"
      ]
     },
     "execution_count": 48,
     "metadata": {},
     "output_type": "execute_result"
    }
   ],
   "source": [
    "# kısa yoldan bölme\n",
    "a /= 11\n",
    "a"
   ]
  },
  {
   "cell_type": "markdown",
   "id": "a90b4593-a883-4784-896d-0ea49492457c",
   "metadata": {},
   "source": [
    "# String (Metin) İşlemleri"
   ]
  },
  {
   "cell_type": "markdown",
   "id": "b703bbf3-83f3-4953-a780-67f6b5e6dd7f",
   "metadata": {},
   "source": [
    "Python'da Stringler (Metinler) hem **tek tırnak(')** hem de **çift tırnak(\")** olarak gösterilebilir.\n",
    "\n",
    "Dikkat etmeniz gereken, tırnakların tutarlı olması."
   ]
  },
  {
   "cell_type": "code",
   "execution_count": 50,
   "id": "cc40ba4a-54d4-4f34-ad3c-3fd9b1aaae5a",
   "metadata": {},
   "outputs": [
    {
     "name": "stdout",
     "output_type": "stream",
     "text": [
      "Bu çift tırnaklı bir metindir.\n"
     ]
    }
   ],
   "source": [
    "metin_cift = \"Bu çift tırnaklı bir metindir.\"\n",
    "print(metin_cift)"
   ]
  },
  {
   "cell_type": "code",
   "execution_count": 51,
   "id": "8d25e08e-2609-4fdf-94a1-e45af23028f5",
   "metadata": {},
   "outputs": [
    {
     "name": "stdout",
     "output_type": "stream",
     "text": [
      "Bu da tek tırnaklı bir metindir.\n"
     ]
    }
   ],
   "source": [
    "metin_tek = 'Bu da tek tırnaklı bir metindir.'\n",
    "print(metin_tek)"
   ]
  },
  {
   "cell_type": "code",
   "execution_count": 52,
   "id": "b27ff00c-f144-40c3-91ca-e7acfbef7f4d",
   "metadata": {},
   "outputs": [
    {
     "data": {
      "text/plain": [
       "\"Ilgaz Anadolu'nun sen yüce bir dağısın.\""
      ]
     },
     "execution_count": 52,
     "metadata": {},
     "output_type": "execute_result"
    }
   ],
   "source": [
    "# Eğer her ikisini de kullanmanız gerekirse\n",
    "metin_iki_icinde_bir_tirnak = \"Ilgaz Anadolu'nun sen yüce bir dağısın.\"\n",
    "metin_iki_icinde_bir_tirnak"
   ]
  },
  {
   "cell_type": "code",
   "execution_count": 53,
   "id": "2b41990e-c936-40df-ad69-507502a53818",
   "metadata": {},
   "outputs": [
    {
     "data": {
      "text/plain": [
       "'Alice şöyle bağırdı: \"koş tavşan koş...\"'"
      ]
     },
     "execution_count": 53,
     "metadata": {},
     "output_type": "execute_result"
    }
   ],
   "source": [
    "metin_tek_icinde_iki_tirnak = 'Alice şöyle bağırdı: \"koş tavşan koş...\"'\n",
    "metin_tek_icinde_iki_tirnak"
   ]
  },
  {
   "cell_type": "code",
   "execution_count": 54,
   "id": "6fb8d769-ed19-40f6-8d4c-b914beb9b3b8",
   "metadata": {},
   "outputs": [
    {
     "ename": "SyntaxError",
     "evalue": "EOL while scanning string literal (2878558217.py, line 1)",
     "output_type": "error",
     "traceback": [
      "\u001b[1;36m  Input \u001b[1;32mIn [54]\u001b[1;36m\u001b[0m\n\u001b[1;33m    yanlis = \"Bu iki'li tırnaktır.'\u001b[0m\n\u001b[1;37m                                   ^\u001b[0m\n\u001b[1;31mSyntaxError\u001b[0m\u001b[1;31m:\u001b[0m EOL while scanning string literal\n"
     ]
    }
   ],
   "source": [
    "yanlis = \"Bu iki'li tırnaktır.'\n",
    "yanlis"
   ]
  },
  {
   "cell_type": "markdown",
   "id": "ec186066-3361-4a02-be2d-b85482eb394f",
   "metadata": {},
   "source": [
    "Python'da metinler (str) üzerinde aritmatik işlemler yapamazsınız.\n",
    "\n",
    "* -, /\n",
    "* '4' - '3'"
   ]
  },
  {
   "cell_type": "markdown",
   "id": "a6637ef8-f9c7-4507-bfff-1947807cf789",
   "metadata": {},
   "source": [
    "**İstisna:** + ve * çarpma yapılabilir. (str ile) "
   ]
  },
  {
   "cell_type": "code",
   "execution_count": 58,
   "id": "ec79aaa9-3e9e-4be7-a9e8-b0c833fe80d7",
   "metadata": {},
   "outputs": [],
   "source": [
    "birinci = \"Güneşli\"\n",
    "ikinci = 'Günler'"
   ]
  },
  {
   "cell_type": "code",
   "execution_count": 59,
   "id": "e801cb7b-22c6-466c-878c-3cc5bc2d5e66",
   "metadata": {},
   "outputs": [
    {
     "data": {
      "text/plain": [
       "'GüneşliGünler'"
      ]
     },
     "execution_count": 59,
     "metadata": {},
     "output_type": "execute_result"
    }
   ],
   "source": [
    "#Metinlerde Toplama İşlemi (Concatination işlemi)\n",
    "birinci + ikinci"
   ]
  },
  {
   "cell_type": "code",
   "execution_count": 60,
   "id": "0ce6f2e9-3e9e-433c-85f3-557c049379f3",
   "metadata": {},
   "outputs": [
    {
     "data": {
      "text/plain": [
       "'GüneşliGüneşliGüneşliGüneşli'"
      ]
     },
     "execution_count": 60,
     "metadata": {},
     "output_type": "execute_result"
    }
   ],
   "source": [
    "#Metinlerde Çarpma İşlemi\n",
    "4 * birinci"
   ]
  },
  {
   "cell_type": "code",
   "execution_count": 61,
   "id": "f401cacf-de49-4b03-8050-d9853a58d21b",
   "metadata": {},
   "outputs": [
    {
     "data": {
      "text/plain": [
       "'GüneşliGünlerGüneşliGünler'"
      ]
     },
     "execution_count": 61,
     "metadata": {},
     "output_type": "execute_result"
    }
   ],
   "source": [
    "birinci + ikinci + birinci + ikinci"
   ]
  },
  {
   "cell_type": "code",
   "execution_count": 62,
   "id": "e9501117-c304-459b-b6dc-9e80385f0c7c",
   "metadata": {},
   "outputs": [
    {
     "data": {
      "text/plain": [
       "'555555'"
      ]
     },
     "execution_count": 62,
     "metadata": {},
     "output_type": "execute_result"
    }
   ],
   "source": [
    "6 * '5'"
   ]
  },
  {
   "cell_type": "markdown",
   "id": "fc9ee0ae-e666-4b08-a2f6-5a3938029a61",
   "metadata": {},
   "source": [
    "## Anahtar Kelimeler (Keywords)"
   ]
  },
  {
   "cell_type": "markdown",
   "id": "1406ce35-ef16-4b58-952d-ab7bf68a39be",
   "metadata": {},
   "source": [
    "Python'daki Anahtar Kelimeler (Keyword) **keyword** paketi içinde yer alır."
   ]
  },
  {
   "cell_type": "markdown",
   "id": "cb657d3b-625d-4c4e-ae8f-fef5d19df13c",
   "metadata": {},
   "source": [
    "**import**"
   ]
  },
  {
   "cell_type": "code",
   "execution_count": 63,
   "id": "478fbe9f-58a3-496d-931b-5100d7ceb01e",
   "metadata": {},
   "outputs": [],
   "source": [
    "# Önce paketimizi import (içeri almak) edelim.\n",
    "\n",
    "import keyword"
   ]
  },
  {
   "cell_type": "code",
   "execution_count": 64,
   "id": "bf48e6ca-7eea-4686-8a3d-9c3075edb167",
   "metadata": {},
   "outputs": [
    {
     "name": "stdout",
     "output_type": "stream",
     "text": [
      "['False', 'None', 'True', '__peg_parser__', 'and', 'as', 'assert', 'async', 'await', 'break', 'class', 'continue', 'def', 'del', 'elif', 'else', 'except', 'finally', 'for', 'from', 'global', 'if', 'import', 'in', 'is', 'lambda', 'nonlocal', 'not', 'or', 'pass', 'raise', 'return', 'try', 'while', 'with', 'yield']\n"
     ]
    }
   ],
   "source": [
    "# Şimdi keyword listesini alalım.\n",
    "# Bu listeyi bir değişkene atayalım\n",
    "\n",
    "anahtar_kelimeler = keyword.kwlist\n",
    "\n",
    "#şimdi bu listeyi yazdır.\n",
    "print(anahtar_kelimeler)"
   ]
  },
  {
   "cell_type": "code",
   "execution_count": 65,
   "id": "516622b6-a10d-41bc-a7cb-6cab4cdb3aa2",
   "metadata": {},
   "outputs": [
    {
     "ename": "SyntaxError",
     "evalue": "invalid syntax (3681637931.py, line 1)",
     "output_type": "error",
     "traceback": [
      "\u001b[1;36m  Input \u001b[1;32mIn [65]\u001b[1;36m\u001b[0m\n\u001b[1;33m    import = 45\u001b[0m\n\u001b[1;37m           ^\u001b[0m\n\u001b[1;31mSyntaxError\u001b[0m\u001b[1;31m:\u001b[0m invalid syntax\n"
     ]
    }
   ],
   "source": [
    "import = 45"
   ]
  },
  {
   "cell_type": "markdown",
   "id": "163936c5-8bce-4dc8-b5ed-95282ac0ec45",
   "metadata": {},
   "source": [
    "Peki herhangi bir kelime, Python için bir keyword müdür?"
   ]
  },
  {
   "cell_type": "code",
   "execution_count": 66,
   "id": "af224927-2eb0-4294-b337-3894606ff6b2",
   "metadata": {},
   "outputs": [
    {
     "data": {
      "text/plain": [
       "True"
      ]
     },
     "execution_count": 66,
     "metadata": {},
     "output_type": "execute_result"
    }
   ],
   "source": [
    "# Bunun için keyword paketi içindeki  -> iskeyword() metodunu kullanacağız.\n",
    "\n",
    "keyword.iskeyword('not')"
   ]
  },
  {
   "cell_type": "code",
   "execution_count": 67,
   "id": "31fcd43d-8f3f-43dc-9b75-0a019c858d29",
   "metadata": {},
   "outputs": [
    {
     "data": {
      "text/plain": [
       "True"
      ]
     },
     "execution_count": 67,
     "metadata": {},
     "output_type": "execute_result"
    }
   ],
   "source": [
    "keyword.iskeyword('return')"
   ]
  },
  {
   "cell_type": "code",
   "execution_count": 68,
   "id": "07af86cd-4de4-4ce5-aa8e-511c0db8688f",
   "metadata": {},
   "outputs": [
    {
     "data": {
      "text/plain": [
       "False"
      ]
     },
     "execution_count": 68,
     "metadata": {},
     "output_type": "execute_result"
    }
   ],
   "source": [
    "keyword.iskeyword('kelime')"
   ]
  },
  {
   "cell_type": "code",
   "execution_count": 69,
   "id": "e221fb57-742e-4a5e-99a1-79e5ff4f6ee1",
   "metadata": {},
   "outputs": [
    {
     "data": {
      "text/plain": [
       "False"
      ]
     },
     "execution_count": 69,
     "metadata": {},
     "output_type": "execute_result"
    }
   ],
   "source": [
    "keyword.iskeyword('word')"
   ]
  },
  {
   "cell_type": "code",
   "execution_count": null,
   "id": "c9ded348-5b8a-4b95-85b3-4cea23ad5efa",
   "metadata": {},
   "outputs": [],
   "source": []
  }
 ],
 "metadata": {
  "kernelspec": {
   "display_name": "Python 3 (ipykernel)",
   "language": "python",
   "name": "python3"
  },
  "language_info": {
   "codemirror_mode": {
    "name": "ipython",
    "version": 3
   },
   "file_extension": ".py",
   "mimetype": "text/x-python",
   "name": "python",
   "nbconvert_exporter": "python",
   "pygments_lexer": "ipython3",
   "version": "3.9.12"
  }
 },
 "nbformat": 4,
 "nbformat_minor": 5
}
