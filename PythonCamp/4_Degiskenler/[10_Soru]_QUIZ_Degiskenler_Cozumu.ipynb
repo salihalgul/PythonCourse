{
 "cells": [
  {
   "cell_type": "markdown",
   "id": "hundred-fleet",
   "metadata": {},
   "source": [
    "## [10 Soru] QUIZ - Değişkenler"
   ]
  },
  {
   "cell_type": "markdown",
   "id": "supported-monday",
   "metadata": {},
   "source": [
    "#### Genel Syntax"
   ]
  },
  {
   "cell_type": "markdown",
   "id": "olive-springer",
   "metadata": {},
   "source": [
    "**Soru 1:**\n",
    "\n",
    "Ekrana \"Hello Python\" yazmak için noktalı yeri doldurun:\n",
    "\n",
    ".....(\"Hello World!\")"
   ]
  },
  {
   "cell_type": "code",
   "execution_count": 2,
   "id": "harmful-parameter",
   "metadata": {},
   "outputs": [
    {
     "name": "stdout",
     "output_type": "stream",
     "text": [
      "Hello Python\n"
     ]
    }
   ],
   "source": [
    "# Çözüm 1:\n",
    "\n",
    "print(\"Hello Python\")"
   ]
  },
  {
   "cell_type": "markdown",
   "id": "extended-multiple",
   "metadata": {},
   "source": [
    "---"
   ]
  },
  {
   "cell_type": "markdown",
   "id": "mature-falls",
   "metadata": {},
   "source": [
    "**Soru 2:**\n",
    "Aşağıdaki kodda yeralan yazım hatasını düzeltin.\n",
    "\n",
    "<pre>\n",
    "print(\"5 2'den büyüktür.')\n",
    "</pre>"
   ]
  },
  {
   "cell_type": "code",
   "execution_count": 4,
   "id": "union-speaking",
   "metadata": {},
   "outputs": [
    {
     "name": "stdout",
     "output_type": "stream",
     "text": [
      "5 2'den büyüktür.\n"
     ]
    }
   ],
   "source": [
    "# Çözüm 2:\n",
    "\n",
    "print(\"5 2'den büyüktür.\")"
   ]
  },
  {
   "cell_type": "markdown",
   "id": "illegal-tract",
   "metadata": {},
   "source": [
    "---"
   ]
  },
  {
   "cell_type": "markdown",
   "id": "individual-trigger",
   "metadata": {},
   "source": [
    "**Soru 3:**\n",
    "\n",
    "Aşağıdaki satırı yorum satırı yapınız\n",
    "\n",
    "Bu bir yorum satırıdır."
   ]
  },
  {
   "cell_type": "code",
   "execution_count": 6,
   "id": "exempt-element",
   "metadata": {},
   "outputs": [],
   "source": [
    "# Çözüm 3:\n",
    "\n",
    "# Bu bir yorum satırıdır."
   ]
  },
  {
   "cell_type": "markdown",
   "id": "large-billy",
   "metadata": {},
   "source": [
    "---"
   ]
  },
  {
   "cell_type": "markdown",
   "id": "younger-steering",
   "metadata": {},
   "source": [
    "**Soru 4:**\n",
    "Çok satır yorum özelliğini kullanıp aşağıdaki satırları yorum satırı yapın\n",
    "\n",
    "<pre>\n",
    "Bu yorum satırı\n",
    "Çok satırlıdır\n",
    "Sadece bir satır yorum değil...\n",
    "</pre>"
   ]
  },
  {
   "cell_type": "code",
   "execution_count": 8,
   "id": "composite-encoding",
   "metadata": {},
   "outputs": [
    {
     "data": {
      "text/plain": [
       "'\\nBu yorum satırı\\nÇok satırlıdır\\nSadece bir satır yorum değil...\\n'"
      ]
     },
     "execution_count": 8,
     "metadata": {},
     "output_type": "execute_result"
    }
   ],
   "source": [
    "# Çözüm 4:\n",
    "\n",
    "\"\"\"\n",
    "Bu yorum satırı\n",
    "Çok satırlıdır\n",
    "Sadece bir satır yorum değil...\n",
    "\"\"\""
   ]
  },
  {
   "cell_type": "markdown",
   "id": "institutional-german",
   "metadata": {},
   "source": [
    "---"
   ]
  },
  {
   "cell_type": "markdown",
   "id": "directed-pontiac",
   "metadata": {},
   "source": [
    "**Soru 5:**\n",
    "\n",
    "Aşağıdaki metni gösterildiği formatta ekrana basan bir program yazın.\n",
    "\n",
    "<pre>\n",
    "Dünya bizim bugünümüz,\n",
    "    Dünyamızı balina yutmasın,\n",
    "        Hep yerinde kalsın dünyamız.\n",
    "</pre>"
   ]
  },
  {
   "cell_type": "code",
   "execution_count": 10,
   "id": "promotional-malpractice",
   "metadata": {},
   "outputs": [
    {
     "name": "stdout",
     "output_type": "stream",
     "text": [
      "Dünya bizim bugünümüz,\n",
      "    Dünyamızı balina yutmasın,\n",
      "        Hep yerinde kalsın dünyamız.\n"
     ]
    }
   ],
   "source": [
    "# Çözüm 5:\n",
    "\n",
    "# 1. Yol\n",
    "# \"\"\"\n",
    "# Dünya bizim bugünümüz,\n",
    "#     Dünyamızı balina yutmasın,\n",
    "#         Hep yerinde kalsın dünyamız.\n",
    "# \"\"\"\n",
    "\n",
    "# 2. Yol\n",
    "print(\"Dünya bizim bugünümüz,\")\n",
    "print('    Dünyamızı balina yutmasın,')\n",
    "print('        Hep yerinde kalsın dünyamız.')"
   ]
  },
  {
   "cell_type": "markdown",
   "id": "cooperative-consensus",
   "metadata": {},
   "source": [
    "---"
   ]
  },
  {
   "cell_type": "markdown",
   "id": "southern-leather",
   "metadata": {},
   "source": [
    "#### Python Değişkenler"
   ]
  },
  {
   "cell_type": "markdown",
   "id": "ambient-philippines",
   "metadata": {},
   "source": [
    "**Soru 1:**\n",
    "\n",
    "İsmi araba_markasi olan bir değişken yaratın ve bu değişkene Volvo değerini atayın."
   ]
  },
  {
   "cell_type": "code",
   "execution_count": 11,
   "id": "binding-mattress",
   "metadata": {},
   "outputs": [
    {
     "data": {
      "text/plain": [
       "'Volvo'"
      ]
     },
     "execution_count": 11,
     "metadata": {},
     "output_type": "execute_result"
    }
   ],
   "source": [
    "# Çözüm 1:\n",
    "\n",
    "araba_markasi = \"Volvo\"\n",
    "araba_markasi"
   ]
  },
  {
   "cell_type": "markdown",
   "id": "sound-wrapping",
   "metadata": {},
   "source": [
    "---"
   ]
  },
  {
   "cell_type": "markdown",
   "id": "concrete-class",
   "metadata": {},
   "source": [
    "**Soru 2:**\n",
    "\n",
    "x adında bir değişken yaratın ve değerini 50 olarak atayın."
   ]
  },
  {
   "cell_type": "code",
   "execution_count": 12,
   "id": "positive-nightlife",
   "metadata": {},
   "outputs": [
    {
     "name": "stdout",
     "output_type": "stream",
     "text": [
      "50\n"
     ]
    }
   ],
   "source": [
    "# Çözüm 2:\n",
    "\n",
    "x = 50\n",
    "print(x)"
   ]
  },
  {
   "cell_type": "markdown",
   "id": "acquired-chess",
   "metadata": {},
   "source": [
    "---"
   ]
  },
  {
   "cell_type": "markdown",
   "id": "banner-philip",
   "metadata": {},
   "source": [
    "**Soru 3:**\n",
    "\n",
    "x ve y adında iki değişken yaratın ve değerlerini 20 ve 80 olarak atayın.\n",
    "\n",
    "z adında bir değişken yaratın, değerini x + y olarak atayın ve ekrana gösterin.\n",
    "\n",
    "<pre>\n",
    "x = 20\n",
    "y = 80\n",
    "\n",
    "... = x + y\n",
    "print(...)\n",
    "</pre>"
   ]
  },
  {
   "cell_type": "code",
   "execution_count": 13,
   "id": "printable-summit",
   "metadata": {},
   "outputs": [
    {
     "name": "stdout",
     "output_type": "stream",
     "text": [
      "100\n"
     ]
    }
   ],
   "source": [
    "# Çözüm 3:\n",
    "\n",
    "x = 20\n",
    "y = 80\n",
    "\n",
    "z = x + y\n",
    "print(z)"
   ]
  },
  {
   "cell_type": "markdown",
   "id": "northern-salvation",
   "metadata": {},
   "source": [
    "---"
   ]
  },
  {
   "cell_type": "markdown",
   "id": "seventh-overview",
   "metadata": {},
   "source": [
    "**Soru 4:**\n",
    "\n",
    "Değişken adından, kullanılması yasak olan karakterleri çıkarın.\n",
    "\n",
    "**2benim-ilk_değişkenim = \"Yapay Zeka\"**"
   ]
  },
  {
   "cell_type": "code",
   "execution_count": 18,
   "id": "realistic-tulsa",
   "metadata": {},
   "outputs": [
    {
     "name": "stdout",
     "output_type": "stream",
     "text": [
      "Yapay Zeka\n"
     ]
    }
   ],
   "source": [
    "# Çözüm 4:\n",
    "\n",
    "benim_ilk_degiskenim = \"Yapay Zeka\"\n",
    "print(benim_ilk_degiskenim)"
   ]
  },
  {
   "cell_type": "markdown",
   "id": "hearing-adelaide",
   "metadata": {},
   "source": [
    "---"
   ]
  },
  {
   "cell_type": "markdown",
   "id": "living-disney",
   "metadata": {},
   "source": [
    "**Soru 5:**\n",
    "\n",
    "Üç değişkene aynı değeri tek seferde atamak için aşağıdaki boşlukları doldurun.\n",
    "\n",
    "x ... y ... z = \"Portakal\""
   ]
  },
  {
   "cell_type": "code",
   "execution_count": 20,
   "id": "alike-philadelphia",
   "metadata": {},
   "outputs": [
    {
     "name": "stdout",
     "output_type": "stream",
     "text": [
      "Portakal\n",
      "Portakal\n",
      "Portakal\n"
     ]
    }
   ],
   "source": [
    "# Çözüm 5:\n",
    "\n",
    "# x = \"Portakal\"\n",
    "# y = \"Portakal\"\n",
    "# z = 'Portakal'\n",
    "\n",
    "x = y = z = 'Portakal'\n",
    "\n",
    "print(x)\n",
    "print(y)\n",
    "print(z)"
   ]
  },
  {
   "cell_type": "code",
   "execution_count": null,
   "id": "opened-skirt",
   "metadata": {},
   "outputs": [],
   "source": []
  }
 ],
 "metadata": {
  "kernelspec": {
   "display_name": "Python 3 (ipykernel)",
   "language": "python",
   "name": "python3"
  },
  "language_info": {
   "codemirror_mode": {
    "name": "ipython",
    "version": 3
   },
   "file_extension": ".py",
   "mimetype": "text/x-python",
   "name": "python",
   "nbconvert_exporter": "python",
   "pygments_lexer": "ipython3",
   "version": "3.9.12"
  }
 },
 "nbformat": 4,
 "nbformat_minor": 5
}
