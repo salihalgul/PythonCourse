{
 "cells": [
  {
   "cell_type": "markdown",
   "id": "noted-curtis",
   "metadata": {},
   "source": [
    "## Değişkenler"
   ]
  },
  {
   "cell_type": "markdown",
   "id": "partial-interstate",
   "metadata": {},
   "source": [
    "### 'Değişken' bir Atıftır"
   ]
  },
  {
   "cell_type": "markdown",
   "id": "occasional-amino",
   "metadata": {},
   "source": [
    "**Değişken,** bir **değere** atıfta bulunan bir isimdir.\n",
    "\n",
    "Bilgisayarın hafızasında, o değere ait adresin ismidir. (adress numarası)\n",
    "\n",
    "**Atama** (assignment) işlemi, yeni bir değişken yaratır, ve ona bir değer atar."
   ]
  },
  {
   "cell_type": "code",
   "execution_count": 1,
   "id": "living-design",
   "metadata": {},
   "outputs": [],
   "source": [
    "a = 12"
   ]
  },
  {
   "cell_type": "code",
   "execution_count": 2,
   "id": "considerable-greensboro",
   "metadata": {},
   "outputs": [
    {
     "data": {
      "text/plain": [
       "12"
      ]
     },
     "execution_count": 2,
     "metadata": {},
     "output_type": "execute_result"
    }
   ],
   "source": [
    "a"
   ]
  },
  {
   "cell_type": "code",
   "execution_count": 3,
   "id": "latest-payroll",
   "metadata": {},
   "outputs": [],
   "source": [
    "bilgi = \"Python adı, Monthy Python ve Kutsal Kase dizisinden gelir.\""
   ]
  },
  {
   "cell_type": "code",
   "execution_count": 4,
   "id": "intelligent-complaint",
   "metadata": {},
   "outputs": [
    {
     "name": "stdout",
     "output_type": "stream",
     "text": [
      "Python adı, Monthy Python ve Kutsal Kase dizisinden gelir.\n"
     ]
    }
   ],
   "source": [
    "print(bilgi)"
   ]
  },
  {
   "cell_type": "code",
   "execution_count": 5,
   "id": "peaceful-repeat",
   "metadata": {},
   "outputs": [
    {
     "name": "stdout",
     "output_type": "stream",
     "text": [
      "3.1415\n"
     ]
    }
   ],
   "source": [
    "pi = 3.1415\n",
    "print(pi)"
   ]
  },
  {
   "cell_type": "code",
   "execution_count": 6,
   "id": "unlikely-brown",
   "metadata": {},
   "outputs": [],
   "source": [
    "n = 12"
   ]
  },
  {
   "cell_type": "code",
   "execution_count": 7,
   "id": "searching-conditions",
   "metadata": {},
   "outputs": [
    {
     "data": {
      "text/plain": [
       "1000"
      ]
     },
     "execution_count": 7,
     "metadata": {},
     "output_type": "execute_result"
    }
   ],
   "source": [
    "a = 1000\n",
    "a"
   ]
  },
  {
   "cell_type": "code",
   "execution_count": 8,
   "id": "superior-display",
   "metadata": {},
   "outputs": [],
   "source": [
    "a = 3000"
   ]
  },
  {
   "cell_type": "code",
   "execution_count": 9,
   "id": "recent-intake",
   "metadata": {},
   "outputs": [
    {
     "name": "stdout",
     "output_type": "stream",
     "text": [
      "3000\n"
     ]
    }
   ],
   "source": [
    "print(a)"
   ]
  },
  {
   "cell_type": "markdown",
   "id": "diverse-newfoundland",
   "metadata": {},
   "source": [
    "### Değişken İsimleri"
   ]
  },
  {
   "cell_type": "markdown",
   "id": "emotional-begin",
   "metadata": {},
   "source": [
    "Python'da Değişken İsimleri:\n",
    "\n",
    "* Seçtiğiniz değişken ismi anlamlı, kendi adına konuşan isimler\n",
    "* Genelde snake_case isimlendirme kullanılır.\n",
    "\n",
    "ortalama_hiz\n",
    "sesli_harfler\n",
    "\n",
    "Değişken İsimleri:\n",
    "* sayi ile başlayamaz\n",
    "    * 1sayi\n",
    "    * 2.deger\n",
    "    \n",
    "* boşluk karakteri olamaz\n",
    "    * ortalama hiz\n",
    "    \n",
    "* özel karakter bulunduramaz\n",
    "    * @, -, +, * vs.\n",
    "    * @sayi\n",
    "    \n",
    "* keyword (anahtar kelime) içeremez"
   ]
  },
  {
   "cell_type": "code",
   "execution_count": 10,
   "id": "agricultural-diameter",
   "metadata": {},
   "outputs": [
    {
     "ename": "SyntaxError",
     "evalue": "invalid syntax (<ipython-input-10-41f653774054>, line 1)",
     "output_type": "error",
     "traceback": [
      "\u001b[1;36m  File \u001b[1;32m\"<ipython-input-10-41f653774054>\"\u001b[1;36m, line \u001b[1;32m1\u001b[0m\n\u001b[1;33m    1sayi = 5\u001b[0m\n\u001b[1;37m     ^\u001b[0m\n\u001b[1;31mSyntaxError\u001b[0m\u001b[1;31m:\u001b[0m invalid syntax\n"
     ]
    }
   ],
   "source": [
    "1sayi = 5"
   ]
  },
  {
   "cell_type": "markdown",
   "id": "played-circumstances",
   "metadata": {},
   "source": [
    "Syntax: Söz Dizimi"
   ]
  },
  {
   "cell_type": "code",
   "execution_count": 11,
   "id": "bearing-shoot",
   "metadata": {},
   "outputs": [
    {
     "ename": "SyntaxError",
     "evalue": "invalid syntax (<ipython-input-11-12e3393cd939>, line 1)",
     "output_type": "error",
     "traceback": [
      "\u001b[1;36m  File \u001b[1;32m\"<ipython-input-11-12e3393cd939>\"\u001b[1;36m, line \u001b[1;32m1\u001b[0m\n\u001b[1;33m    ortalama hiz = 80\u001b[0m\n\u001b[1;37m             ^\u001b[0m\n\u001b[1;31mSyntaxError\u001b[0m\u001b[1;31m:\u001b[0m invalid syntax\n"
     ]
    }
   ],
   "source": [
    "ortalama hiz = 80"
   ]
  },
  {
   "cell_type": "code",
   "execution_count": 12,
   "id": "searching-universe",
   "metadata": {},
   "outputs": [
    {
     "ename": "SyntaxError",
     "evalue": "invalid syntax (<ipython-input-12-a4b79459bbd7>, line 1)",
     "output_type": "error",
     "traceback": [
      "\u001b[1;36m  File \u001b[1;32m\"<ipython-input-12-a4b79459bbd7>\"\u001b[1;36m, line \u001b[1;32m1\u001b[0m\n\u001b[1;33m    @onluk = 10\u001b[0m\n\u001b[1;37m           ^\u001b[0m\n\u001b[1;31mSyntaxError\u001b[0m\u001b[1;31m:\u001b[0m invalid syntax\n"
     ]
    }
   ],
   "source": [
    "@onluk = 10"
   ]
  },
  {
   "cell_type": "markdown",
   "id": "growing-paper",
   "metadata": {},
   "source": [
    "**Keyword:** for, True, return, try ..."
   ]
  },
  {
   "cell_type": "code",
   "execution_count": 13,
   "id": "unusual-aspect",
   "metadata": {},
   "outputs": [
    {
     "ename": "SyntaxError",
     "evalue": "invalid syntax (<ipython-input-13-7b12443457ee>, line 1)",
     "output_type": "error",
     "traceback": [
      "\u001b[1;36m  File \u001b[1;32m\"<ipython-input-13-7b12443457ee>\"\u001b[1;36m, line \u001b[1;32m1\u001b[0m\n\u001b[1;33m    for = 4\u001b[0m\n\u001b[1;37m        ^\u001b[0m\n\u001b[1;31mSyntaxError\u001b[0m\u001b[1;31m:\u001b[0m invalid syntax\n"
     ]
    }
   ],
   "source": [
    "for = 4"
   ]
  },
  {
   "cell_type": "code",
   "execution_count": 14,
   "id": "urban-bhutan",
   "metadata": {},
   "outputs": [
    {
     "ename": "SyntaxError",
     "evalue": "starred assignment target must be in a list or tuple (<ipython-input-14-87e65cc55104>, line 1)",
     "output_type": "error",
     "traceback": [
      "\u001b[1;36m  File \u001b[1;32m\"<ipython-input-14-87e65cc55104>\"\u001b[1;36m, line \u001b[1;32m1\u001b[0m\n\u001b[1;33m    *a = 200\u001b[0m\n\u001b[1;37m    ^\u001b[0m\n\u001b[1;31mSyntaxError\u001b[0m\u001b[1;31m:\u001b[0m starred assignment target must be in a list or tuple\n"
     ]
    }
   ],
   "source": [
    "*a = 200"
   ]
  },
  {
   "cell_type": "markdown",
   "id": "impressed-fetish",
   "metadata": {},
   "source": [
    "**Önemli:** Python'da **BÜYÜK-küçük** eşit değildir."
   ]
  },
  {
   "cell_type": "code",
   "execution_count": 15,
   "id": "pleased-bolivia",
   "metadata": {},
   "outputs": [],
   "source": [
    "a = 10\n",
    "A = 45"
   ]
  },
  {
   "cell_type": "code",
   "execution_count": 16,
   "id": "varying-management",
   "metadata": {},
   "outputs": [
    {
     "name": "stdout",
     "output_type": "stream",
     "text": [
      "10\n"
     ]
    }
   ],
   "source": [
    "print(a)"
   ]
  },
  {
   "cell_type": "code",
   "execution_count": 17,
   "id": "neither-anthony",
   "metadata": {},
   "outputs": [
    {
     "name": "stdout",
     "output_type": "stream",
     "text": [
      "45\n"
     ]
    }
   ],
   "source": [
    "print(A)"
   ]
  },
  {
   "cell_type": "markdown",
   "id": "opposite-rapid",
   "metadata": {},
   "source": [
    "a eşit değildir A'ya."
   ]
  },
  {
   "cell_type": "code",
   "execution_count": 18,
   "id": "popular-citizenship",
   "metadata": {},
   "outputs": [
    {
     "name": "stdout",
     "output_type": "stream",
     "text": [
      "5\n"
     ]
    }
   ],
   "source": [
    "sayi = 5\n",
    "Sayi = 12\n",
    "print(sayi)"
   ]
  },
  {
   "cell_type": "markdown",
   "id": "dirty-piano",
   "metadata": {},
   "source": [
    "Değişken adlarında Türkçe karakter kullanmayın."
   ]
  },
  {
   "cell_type": "code",
   "execution_count": 19,
   "id": "recent-institute",
   "metadata": {},
   "outputs": [
    {
     "name": "stdout",
     "output_type": "stream",
     "text": [
      "80\n"
     ]
    }
   ],
   "source": [
    "değer = 80\n",
    "print(değer)"
   ]
  },
  {
   "cell_type": "code",
   "execution_count": 20,
   "id": "damaged-skiing",
   "metadata": {},
   "outputs": [
    {
     "name": "stdout",
     "output_type": "stream",
     "text": [
      "80\n"
     ]
    }
   ],
   "source": [
    "deger = 80\n",
    "print(deger)"
   ]
  },
  {
   "cell_type": "markdown",
   "id": "about-selection",
   "metadata": {},
   "source": [
    "### Python Veri Tipleri"
   ]
  },
  {
   "cell_type": "markdown",
   "id": "running-spoke",
   "metadata": {},
   "source": [
    "**Python Veri Tipleri:**\n",
    "* Text (Metin) Tipi: **str**\n",
    "* Numerik Tipler: **int, float**\n",
    "* Liste Tipleri: **list, tuple, range**\n",
    "* İlişki Tipi: **dict**\n",
    "* Küme Tipi: **set**\n",
    "* Boolean Tipi: **bool**"
   ]
  },
  {
   "cell_type": "markdown",
   "id": "framed-cleaning",
   "metadata": {},
   "source": [
    "Bir değişkenin tipi: `type()`"
   ]
  },
  {
   "cell_type": "code",
   "execution_count": 23,
   "id": "monthly-armstrong",
   "metadata": {},
   "outputs": [
    {
     "data": {
      "text/plain": [
       "str"
      ]
     },
     "execution_count": 23,
     "metadata": {},
     "output_type": "execute_result"
    }
   ],
   "source": [
    "metin = \"Bu bir metin tipidir.\"\n",
    "type(metin)"
   ]
  },
  {
   "cell_type": "code",
   "execution_count": 24,
   "id": "chinese-throat",
   "metadata": {},
   "outputs": [
    {
     "data": {
      "text/plain": [
       "int"
      ]
     },
     "execution_count": 24,
     "metadata": {},
     "output_type": "execute_result"
    }
   ],
   "source": [
    "tam_sayi = 16\n",
    "type(tam_sayi)"
   ]
  },
  {
   "cell_type": "code",
   "execution_count": 25,
   "id": "applied-invention",
   "metadata": {},
   "outputs": [
    {
     "name": "stdout",
     "output_type": "stream",
     "text": [
      "<class 'float'>\n"
     ]
    }
   ],
   "source": [
    "kesirli_sayi = 4.6\n",
    "print(type(kesirli_sayi))"
   ]
  },
  {
   "cell_type": "code",
   "execution_count": 26,
   "id": "tamil-stylus",
   "metadata": {},
   "outputs": [
    {
     "data": {
      "text/plain": [
       "float"
      ]
     },
     "execution_count": 26,
     "metadata": {},
     "output_type": "execute_result"
    }
   ],
   "source": [
    "type(kesirli_sayi)"
   ]
  },
  {
   "cell_type": "code",
   "execution_count": 27,
   "id": "south-damages",
   "metadata": {},
   "outputs": [
    {
     "name": "stdout",
     "output_type": "stream",
     "text": [
      "[1, 2, 3, 4, 5]\n"
     ]
    },
    {
     "data": {
      "text/plain": [
       "list"
      ]
     },
     "execution_count": 27,
     "metadata": {},
     "output_type": "execute_result"
    }
   ],
   "source": [
    "liste = [1, 2, 3, 4, 5]\n",
    "print(liste)\n",
    "type(liste)"
   ]
  },
  {
   "cell_type": "code",
   "execution_count": 28,
   "id": "integral-freeware",
   "metadata": {},
   "outputs": [
    {
     "name": "stdout",
     "output_type": "stream",
     "text": [
      "('A', 'B', 'C')\n",
      "<class 'tuple'>\n"
     ]
    }
   ],
   "source": [
    "uclu = ('A', 'B', 'C')\n",
    "print(uclu)\n",
    "print(type(uclu))"
   ]
  },
  {
   "cell_type": "code",
   "execution_count": 36,
   "id": "nervous-harvest",
   "metadata": {},
   "outputs": [
    {
     "name": "stdout",
     "output_type": "stream",
     "text": [
      "range(0, 10)\n",
      "0\n",
      "1\n",
      "2\n",
      "3\n",
      "4\n",
      "5\n",
      "6\n",
      "7\n",
      "8\n",
      "9\n"
     ]
    }
   ],
   "source": [
    "onluk = range(10)\n",
    "print(onluk)\n",
    "type(onluk)\n",
    "\n",
    "for r in onluk:\n",
    "    print(r)"
   ]
  },
  {
   "cell_type": "code",
   "execution_count": 32,
   "id": "minimal-staff",
   "metadata": {},
   "outputs": [
    {
     "name": "stdout",
     "output_type": "stream",
     "text": [
      "{'ad': 'Musa', 'soyad': 'Arda', 'programlama': 'Python'}\n"
     ]
    },
    {
     "data": {
      "text/plain": [
       "dict"
      ]
     },
     "execution_count": 32,
     "metadata": {},
     "output_type": "execute_result"
    }
   ],
   "source": [
    "sozluk = {\n",
    "    \"ad\": \"Musa\",\n",
    "    \"soyad\": \"Arda\",\n",
    "    \"programlama\": \"Python\"\n",
    "}\n",
    "\n",
    "print(sozluk)\n",
    "type(sozluk)"
   ]
  },
  {
   "cell_type": "code",
   "execution_count": 34,
   "id": "rough-appreciation",
   "metadata": {},
   "outputs": [
    {
     "name": "stdout",
     "output_type": "stream",
     "text": [
      "{1, 2, 3, 4, 5}\n"
     ]
    },
    {
     "data": {
      "text/plain": [
       "set"
      ]
     },
     "execution_count": 34,
     "metadata": {},
     "output_type": "execute_result"
    }
   ],
   "source": [
    "kume = set([1, 2, 3, 2, 4, 1, 3, 5, 4])\n",
    "print(kume)\n",
    "type(kume)"
   ]
  },
  {
   "cell_type": "code",
   "execution_count": 35,
   "id": "varied-mixture",
   "metadata": {},
   "outputs": [
    {
     "name": "stdout",
     "output_type": "stream",
     "text": [
      "True\n",
      "False\n"
     ]
    },
    {
     "data": {
      "text/plain": [
       "bool"
      ]
     },
     "execution_count": 35,
     "metadata": {},
     "output_type": "execute_result"
    }
   ],
   "source": [
    "dogru = True\n",
    "yanlis = False\n",
    "print(dogru)\n",
    "print(yanlis)\n",
    "type(dogru)"
   ]
  },
  {
   "cell_type": "code",
   "execution_count": 37,
   "id": "classical-physiology",
   "metadata": {},
   "outputs": [
    {
     "ename": "SyntaxError",
     "evalue": "cannot assign to True (<ipython-input-37-83b33db53aaf>, line 1)",
     "output_type": "error",
     "traceback": [
      "\u001b[1;36m  File \u001b[1;32m\"<ipython-input-37-83b33db53aaf>\"\u001b[1;36m, line \u001b[1;32m1\u001b[0m\n\u001b[1;33m    True = dogru\u001b[0m\n\u001b[1;37m    ^\u001b[0m\n\u001b[1;31mSyntaxError\u001b[0m\u001b[1;31m:\u001b[0m cannot assign to True\n"
     ]
    }
   ],
   "source": [
    "True = dogru"
   ]
  },
  {
   "cell_type": "markdown",
   "id": "incident-retirement",
   "metadata": {},
   "source": [
    "### Python'da Yorum Satırı"
   ]
  },
  {
   "cell_type": "markdown",
   "id": "intelligent-shade",
   "metadata": {},
   "source": [
    "**Derleyici:** Kaynak kodu, makine diline çeviren yazılımdır. (Compiler)\n",
    "\n",
    "Compiler, kod yazımı tamamlanınca, tek seferde tüm kodu makine diline çevirir."
   ]
  },
  {
   "cell_type": "markdown",
   "id": "collect-helen",
   "metadata": {},
   "source": [
    "**Yorumlayıcı:** Kaynak kodu, makine diline çeviren yazılımdır. (Interpreter)\n",
    "\n",
    "Interpreter, kod yazılırken çevirir. Satır satır makine çevirir."
   ]
  },
  {
   "cell_type": "markdown",
   "id": "innovative-mexican",
   "metadata": {},
   "source": [
    "**Yorum Satırı:** Yorum satırı, Python Interpreter tarafından göz ardı edilen satır.\n",
    "\n",
    "Interpreter, kod satırı gördüğünde çalıştırmaz."
   ]
  },
  {
   "cell_type": "code",
   "execution_count": 4,
   "id": "exact-photography",
   "metadata": {},
   "outputs": [],
   "source": [
    "# Python'da tek satır yorum\n",
    "# Bu da bir yorum satırı"
   ]
  },
  {
   "cell_type": "code",
   "execution_count": 6,
   "id": "removable-grounds",
   "metadata": {},
   "outputs": [
    {
     "name": "stdout",
     "output_type": "stream",
     "text": [
      "90000\n"
     ]
    }
   ],
   "source": [
    "# bu değişken aracın km'sini tutar\n",
    "arac_km = 90000\n",
    "print(arac_km)"
   ]
  },
  {
   "cell_type": "code",
   "execution_count": 9,
   "id": "gorgeous-protein",
   "metadata": {},
   "outputs": [
    {
     "name": "stdout",
     "output_type": "stream",
     "text": [
      "75.0\n"
     ]
    }
   ],
   "source": [
    "# ortalama hız = gidilen mesafe / geçen süre\n",
    "\n",
    "# önce mesafe ve süreyi al\n",
    "gidilen_mesafe = 450    # km\n",
    "gecen_sure = 6          # sa\n",
    "\n",
    "# ortalama hızı hesapla\n",
    "ortalama_hiz = gidilen_mesafe / gecen_sure\n",
    "\n",
    "# bulduğumuz değeri yazdıralım\n",
    "print(ortalama_hiz)"
   ]
  },
  {
   "cell_type": "code",
   "execution_count": 10,
   "id": "legendary-telescope",
   "metadata": {},
   "outputs": [],
   "source": [
    "# TEK SATIR YORUM\n",
    "# Python Interpreter yorum satırlarını göz ardı eder\n",
    "# O yüzden program çalışırken yorum satırı çalıştırılmaz"
   ]
  },
  {
   "cell_type": "code",
   "execution_count": 15,
   "id": "sealed-haven",
   "metadata": {},
   "outputs": [
    {
     "data": {
      "text/plain": [
       "\"\\nÇok Satır Yorum\\n\\n\\n\\nPython'da çok satır yorum\\niki adet 3'lü tırnak ile gösterilir.\\n\\n\\nBu örnekte olduğu gibi.\\n\\n\""
      ]
     },
     "execution_count": 15,
     "metadata": {},
     "output_type": "execute_result"
    }
   ],
   "source": [
    "\"\"\"\n",
    "Çok Satır Yorum\n",
    "\n",
    "\n",
    "\n",
    "Python'da çok satır yorum\n",
    "iki adet 3'lü tırnak ile gösterilir.\n",
    "\n",
    "\n",
    "Bu örnekte olduğu gibi.\n",
    "\n",
    "\"\"\""
   ]
  },
  {
   "cell_type": "code",
   "execution_count": 14,
   "id": "velvet-constitutional",
   "metadata": {},
   "outputs": [
    {
     "name": "stdout",
     "output_type": "stream",
     "text": [
      "Satır 1 \n",
      "Satır 2 \n",
      "Satır 3\n"
     ]
    }
   ],
   "source": [
    "cok_satir_metin = \"Satır 1 \\nSatır 2 \\nSatır 3\"\n",
    "print(cok_satir_metin)"
   ]
  },
  {
   "cell_type": "markdown",
   "id": "aggressive-tradition",
   "metadata": {},
   "source": [
    "`\\n` bir alt satıra geçer."
   ]
  },
  {
   "cell_type": "code",
   "execution_count": 16,
   "id": "directed-edwards",
   "metadata": {},
   "outputs": [
    {
     "name": "stdout",
     "output_type": "stream",
     "text": [
      "Selam sana \n",
      "Demir Ayak...\n"
     ]
    }
   ],
   "source": [
    "print(\"Selam sana \\nDemir Ayak...\")"
   ]
  },
  {
   "cell_type": "code",
   "execution_count": 18,
   "id": "wanted-repeat",
   "metadata": {},
   "outputs": [
    {
     "data": {
      "text/plain": [
       "'\\n    Bur satır 1 \\n        Bur satır 2 \\n            Bu satır 3 \\n'"
      ]
     },
     "execution_count": 18,
     "metadata": {},
     "output_type": "execute_result"
    }
   ],
   "source": [
    "\"\"\"\n",
    "    Bur satır 1 \n",
    "        Bur satır 2 \n",
    "            Bu satır 3 \n",
    "\"\"\""
   ]
  },
  {
   "cell_type": "markdown",
   "id": "boxed-india",
   "metadata": {},
   "source": [
    "### Numerik Operasyonlar"
   ]
  },
  {
   "cell_type": "code",
   "execution_count": 27,
   "id": "comparative-amsterdam",
   "metadata": {},
   "outputs": [
    {
     "name": "stdout",
     "output_type": "stream",
     "text": [
      "37\n",
      "23\n",
      "210\n",
      "4.285714285714286\n",
      "4\n",
      "2\n",
      "21870000000\n"
     ]
    }
   ],
   "source": [
    "# değişkenleri tanımla\n",
    "a = 30\n",
    "b = 7\n",
    "\n",
    "print(a + b)  # toplama\n",
    "print(a - b)  # çıkarma\n",
    "print(a * b)  # çarpma\n",
    "print(a / b)  # bölme\n",
    "print(a // b) # tam sayılı bölme\n",
    "print(a % b)  # mod\n",
    "print(a**b)   # üstel"
   ]
  },
  {
   "cell_type": "markdown",
   "id": "medium-lexington",
   "metadata": {},
   "source": [
    "**Öncelik Sırası:** Parantez, Üstel, Bölme, Çarpma, Toplama, Çıkarma\n",
    "`BEDMAS`"
   ]
  },
  {
   "cell_type": "code",
   "execution_count": 29,
   "id": "electronic-advisory",
   "metadata": {},
   "outputs": [
    {
     "name": "stdout",
     "output_type": "stream",
     "text": [
      "13.0\n"
     ]
    }
   ],
   "source": [
    "print(4 * 5 - 9 + 14 / 7)"
   ]
  },
  {
   "cell_type": "code",
   "execution_count": 30,
   "id": "unable-dividend",
   "metadata": {},
   "outputs": [
    {
     "data": {
      "text/plain": [
       "10"
      ]
     },
     "execution_count": 30,
     "metadata": {},
     "output_type": "execute_result"
    }
   ],
   "source": [
    "a = 9\n",
    "\n",
    "# a'yı bir artır\n",
    "a = a + 1\n",
    "a"
   ]
  },
  {
   "cell_type": "code",
   "execution_count": 31,
   "id": "encouraging-specification",
   "metadata": {},
   "outputs": [],
   "source": [
    "a = a + 4"
   ]
  },
  {
   "cell_type": "code",
   "execution_count": 32,
   "id": "rolled-physics",
   "metadata": {},
   "outputs": [
    {
     "name": "stdout",
     "output_type": "stream",
     "text": [
      "14\n"
     ]
    }
   ],
   "source": [
    "print(a)"
   ]
  },
  {
   "cell_type": "code",
   "execution_count": 33,
   "id": "controlling-coast",
   "metadata": {},
   "outputs": [
    {
     "data": {
      "text/plain": [
       "17"
      ]
     },
     "execution_count": 33,
     "metadata": {},
     "output_type": "execute_result"
    }
   ],
   "source": [
    "# Kısa yoldan artırma (toplama)\n",
    "a += 3\n",
    "a"
   ]
  },
  {
   "cell_type": "code",
   "execution_count": 34,
   "id": "transparent-wealth",
   "metadata": {},
   "outputs": [
    {
     "data": {
      "text/plain": [
       "11"
      ]
     },
     "execution_count": 34,
     "metadata": {},
     "output_type": "execute_result"
    }
   ],
   "source": [
    "# kısa yoldan çıkarma\n",
    "a -= 6\n",
    "a"
   ]
  },
  {
   "cell_type": "code",
   "execution_count": 35,
   "id": "gothic-florida",
   "metadata": {},
   "outputs": [
    {
     "data": {
      "text/plain": [
       "55"
      ]
     },
     "execution_count": 35,
     "metadata": {},
     "output_type": "execute_result"
    }
   ],
   "source": [
    "# kısa yoldan çarpma\n",
    "a *= 5\n",
    "a"
   ]
  },
  {
   "cell_type": "code",
   "execution_count": 36,
   "id": "functional-shanghai",
   "metadata": {},
   "outputs": [
    {
     "data": {
      "text/plain": [
       "5.0"
      ]
     },
     "execution_count": 36,
     "metadata": {},
     "output_type": "execute_result"
    }
   ],
   "source": [
    "# kısa yoldan bölme\n",
    "a /= 11\n",
    "a"
   ]
  },
  {
   "cell_type": "markdown",
   "id": "critical-settle",
   "metadata": {},
   "source": [
    "### String (Metin) İşlemleri"
   ]
  },
  {
   "cell_type": "markdown",
   "id": "working-wiring",
   "metadata": {},
   "source": [
    "Python'da Stringler (Metinler) hem **tek tırnak (')** hem de **çift tırnak (\")** olarak gösterilebilir."
   ]
  },
  {
   "cell_type": "markdown",
   "id": "loving-times",
   "metadata": {},
   "source": [
    "Dikkat etmeniz gereken, tırnakların tutarlı olması."
   ]
  },
  {
   "cell_type": "code",
   "execution_count": 39,
   "id": "bibliographic-jurisdiction",
   "metadata": {},
   "outputs": [
    {
     "name": "stdout",
     "output_type": "stream",
     "text": [
      "Bu çift tırnaklı bir metindir.\n"
     ]
    }
   ],
   "source": [
    "metin_cift = \"Bu çift tırnaklı bir metindir.\"\n",
    "print(metin_cift)"
   ]
  },
  {
   "cell_type": "code",
   "execution_count": 40,
   "id": "referenced-bronze",
   "metadata": {},
   "outputs": [
    {
     "name": "stdout",
     "output_type": "stream",
     "text": [
      "Bu da tek tırnaklı bir metindir.\n"
     ]
    }
   ],
   "source": [
    "metin_tek = 'Bu da tek tırnaklı bir metindir.'\n",
    "print(metin_tek)"
   ]
  },
  {
   "cell_type": "code",
   "execution_count": 41,
   "id": "talented-kitty",
   "metadata": {},
   "outputs": [
    {
     "data": {
      "text/plain": [
       "\"Ilgaz Anadolun'nun sen yüce bir dağısın.\""
      ]
     },
     "execution_count": 41,
     "metadata": {},
     "output_type": "execute_result"
    }
   ],
   "source": [
    "# Eğer her ikisini de kullanmanız gerekir ise\n",
    "metin_iki_içinde_bir_tirnak = \"Ilgaz Anadolun'nun sen yüce bir dağısın.\"\n",
    "metin_iki_içinde_bir_tirnak"
   ]
  },
  {
   "cell_type": "code",
   "execution_count": 42,
   "id": "regulated-render",
   "metadata": {},
   "outputs": [
    {
     "data": {
      "text/plain": [
       "'Alice şöyle bağırdı: \"Koş tavşan, koş...\"'"
      ]
     },
     "execution_count": 42,
     "metadata": {},
     "output_type": "execute_result"
    }
   ],
   "source": [
    "metin_tek_içinde_iki_tirnak = 'Alice şöyle bağırdı: \"Koş tavşan, koş...\"'\n",
    "metin_tek_içinde_iki_tirnak"
   ]
  },
  {
   "cell_type": "code",
   "execution_count": 43,
   "id": "incomplete-guyana",
   "metadata": {},
   "outputs": [
    {
     "ename": "SyntaxError",
     "evalue": "EOL while scanning string literal (<ipython-input-43-f5ac49c65c9b>, line 1)",
     "output_type": "error",
     "traceback": [
      "\u001b[1;36m  File \u001b[1;32m\"<ipython-input-43-f5ac49c65c9b>\"\u001b[1;36m, line \u001b[1;32m1\u001b[0m\n\u001b[1;33m    yanlis = \"Bu iki'li tırnaktır.'\u001b[0m\n\u001b[1;37m                                   ^\u001b[0m\n\u001b[1;31mSyntaxError\u001b[0m\u001b[1;31m:\u001b[0m EOL while scanning string literal\n"
     ]
    }
   ],
   "source": [
    "yanlis = \"Bu iki'li tırnaktır.'\n",
    "yanlis"
   ]
  },
  {
   "cell_type": "markdown",
   "id": "parental-massage",
   "metadata": {},
   "source": [
    "Python'da metinler (str) üzerinde aritmetik işlemler yapamazsanız.\n",
    "\n",
    "* -, /\n",
    "* '4' - '3'"
   ]
  },
  {
   "cell_type": "code",
   "execution_count": 44,
   "id": "isolated-jimmy",
   "metadata": {},
   "outputs": [
    {
     "ename": "TypeError",
     "evalue": "unsupported operand type(s) for -: 'str' and 'str'",
     "output_type": "error",
     "traceback": [
      "\u001b[1;31m---------------------------------------------------------------------------\u001b[0m",
      "\u001b[1;31mTypeError\u001b[0m                                 Traceback (most recent call last)",
      "\u001b[1;32m<ipython-input-44-76ad527f5a7e>\u001b[0m in \u001b[0;36m<module>\u001b[1;34m\u001b[0m\n\u001b[1;32m----> 1\u001b[1;33m \u001b[1;34m'4'\u001b[0m \u001b[1;33m-\u001b[0m \u001b[1;34m'3'\u001b[0m\u001b[1;33m\u001b[0m\u001b[1;33m\u001b[0m\u001b[0m\n\u001b[0m",
      "\u001b[1;31mTypeError\u001b[0m: unsupported operand type(s) for -: 'str' and 'str'"
     ]
    }
   ],
   "source": [
    "'4' - '3'"
   ]
  },
  {
   "cell_type": "code",
   "execution_count": 45,
   "id": "earlier-electronics",
   "metadata": {},
   "outputs": [
    {
     "ename": "TypeError",
     "evalue": "unsupported operand type(s) for /: 'str' and 'str'",
     "output_type": "error",
     "traceback": [
      "\u001b[1;31m---------------------------------------------------------------------------\u001b[0m",
      "\u001b[1;31mTypeError\u001b[0m                                 Traceback (most recent call last)",
      "\u001b[1;32m<ipython-input-45-6b4018763e91>\u001b[0m in \u001b[0;36m<module>\u001b[1;34m\u001b[0m\n\u001b[1;32m----> 1\u001b[1;33m \u001b[1;34m'4'\u001b[0m \u001b[1;33m/\u001b[0m \u001b[1;34m'3'\u001b[0m\u001b[1;33m\u001b[0m\u001b[1;33m\u001b[0m\u001b[0m\n\u001b[0m",
      "\u001b[1;31mTypeError\u001b[0m: unsupported operand type(s) for /: 'str' and 'str'"
     ]
    }
   ],
   "source": [
    "'4' / '3'"
   ]
  },
  {
   "cell_type": "markdown",
   "id": "renewable-feelings",
   "metadata": {},
   "source": [
    "**İstisna:** + ve * çarpma yapılabilir. (str ile)"
   ]
  },
  {
   "cell_type": "code",
   "execution_count": 46,
   "id": "radical-motor",
   "metadata": {},
   "outputs": [],
   "source": [
    "birinci = \"Güneşli\"\n",
    "ikinci = 'Günler'"
   ]
  },
  {
   "cell_type": "code",
   "execution_count": 47,
   "id": "expected-going",
   "metadata": {},
   "outputs": [
    {
     "data": {
      "text/plain": [
       "'GüneşliGünler'"
      ]
     },
     "execution_count": 47,
     "metadata": {},
     "output_type": "execute_result"
    }
   ],
   "source": [
    "# Metinlerde Toplama İşlemi (Concatination işlemi)\n",
    "birinci + ikinci"
   ]
  },
  {
   "cell_type": "code",
   "execution_count": 48,
   "id": "amino-ethiopia",
   "metadata": {},
   "outputs": [
    {
     "data": {
      "text/plain": [
       "'GüneşliGünlerGüneşliGünler'"
      ]
     },
     "execution_count": 48,
     "metadata": {},
     "output_type": "execute_result"
    }
   ],
   "source": [
    "birinci + ikinci + birinci + ikinci"
   ]
  },
  {
   "cell_type": "code",
   "execution_count": 49,
   "id": "separate-doctor",
   "metadata": {},
   "outputs": [
    {
     "data": {
      "text/plain": [
       "'Güneşli'"
      ]
     },
     "execution_count": 49,
     "metadata": {},
     "output_type": "execute_result"
    }
   ],
   "source": [
    "birinci"
   ]
  },
  {
   "cell_type": "code",
   "execution_count": 50,
   "id": "rural-crack",
   "metadata": {},
   "outputs": [
    {
     "data": {
      "text/plain": [
       "'GüneşliGüneşliGüneşliGüneşli'"
      ]
     },
     "execution_count": 50,
     "metadata": {},
     "output_type": "execute_result"
    }
   ],
   "source": [
    "# Metinlerde Çarpma İşlemi\n",
    "4 * birinci"
   ]
  },
  {
   "cell_type": "code",
   "execution_count": 51,
   "id": "unexpected-mandate",
   "metadata": {},
   "outputs": [
    {
     "data": {
      "text/plain": [
       "'555555'"
      ]
     },
     "execution_count": 51,
     "metadata": {},
     "output_type": "execute_result"
    }
   ],
   "source": [
    "6 * '5'"
   ]
  },
  {
   "cell_type": "markdown",
   "id": "industrial-jordan",
   "metadata": {},
   "source": [
    "### Anahtar Kelimeler (Keywords)"
   ]
  },
  {
   "cell_type": "markdown",
   "id": "accomplished-chick",
   "metadata": {},
   "source": [
    "Python'daki Anahtar Kelimeler (Keyword) **keyword** paketi içinde yer alır. "
   ]
  },
  {
   "cell_type": "markdown",
   "id": "differential-orleans",
   "metadata": {},
   "source": [
    "**import**"
   ]
  },
  {
   "cell_type": "code",
   "execution_count": 3,
   "id": "regulation-boutique",
   "metadata": {},
   "outputs": [],
   "source": [
    "# Önce paketimizi import (içeri almak) edelim\n",
    "\n",
    "import keyword"
   ]
  },
  {
   "cell_type": "code",
   "execution_count": 4,
   "id": "secure-vampire",
   "metadata": {},
   "outputs": [
    {
     "name": "stdout",
     "output_type": "stream",
     "text": [
      "['False', 'None', 'True', 'and', 'as', 'assert', 'async', 'await', 'break', 'class', 'continue', 'def', 'del', 'elif', 'else', 'except', 'finally', 'for', 'from', 'global', 'if', 'import', 'in', 'is', 'lambda', 'nonlocal', 'not', 'or', 'pass', 'raise', 'return', 'try', 'while', 'with', 'yield']\n"
     ]
    }
   ],
   "source": [
    "# Şimdi keyword listesini alalım\n",
    "# Bu listeyi bir değişkene atayalım\n",
    "\n",
    "anahtar_kelimeler = keyword.kwlist\n",
    "\n",
    "# şimdi bu listeyi yazdır\n",
    "print(anahtar_kelimeler)"
   ]
  },
  {
   "cell_type": "code",
   "execution_count": 5,
   "id": "exact-basin",
   "metadata": {},
   "outputs": [
    {
     "ename": "SyntaxError",
     "evalue": "invalid syntax (<ipython-input-5-82fef50b7975>, line 1)",
     "output_type": "error",
     "traceback": [
      "\u001b[1;36m  File \u001b[1;32m\"<ipython-input-5-82fef50b7975>\"\u001b[1;36m, line \u001b[1;32m1\u001b[0m\n\u001b[1;33m    import = 45\u001b[0m\n\u001b[1;37m           ^\u001b[0m\n\u001b[1;31mSyntaxError\u001b[0m\u001b[1;31m:\u001b[0m invalid syntax\n"
     ]
    }
   ],
   "source": [
    "import = 45"
   ]
  },
  {
   "cell_type": "markdown",
   "id": "worldwide-penny",
   "metadata": {},
   "source": [
    "Peki herhangi bir kelime, Python için keyword müdür?"
   ]
  },
  {
   "cell_type": "code",
   "execution_count": 6,
   "id": "trying-microwave",
   "metadata": {},
   "outputs": [
    {
     "data": {
      "text/plain": [
       "True"
      ]
     },
     "execution_count": 6,
     "metadata": {},
     "output_type": "execute_result"
    }
   ],
   "source": [
    "# Bunun için keyword paketi içindeki -> iskeyword() metodunu kullanacağız\n",
    "\n",
    "keyword.iskeyword('not')"
   ]
  },
  {
   "cell_type": "code",
   "execution_count": 7,
   "id": "overall-realtor",
   "metadata": {},
   "outputs": [
    {
     "data": {
      "text/plain": [
       "True"
      ]
     },
     "execution_count": 7,
     "metadata": {},
     "output_type": "execute_result"
    }
   ],
   "source": [
    "keyword.iskeyword('return')"
   ]
  },
  {
   "cell_type": "code",
   "execution_count": 8,
   "id": "marked-boating",
   "metadata": {},
   "outputs": [
    {
     "data": {
      "text/plain": [
       "False"
      ]
     },
     "execution_count": 8,
     "metadata": {},
     "output_type": "execute_result"
    }
   ],
   "source": [
    "keyword.iskeyword('kelime')"
   ]
  },
  {
   "cell_type": "code",
   "execution_count": 9,
   "id": "homeless-briefs",
   "metadata": {},
   "outputs": [
    {
     "data": {
      "text/plain": [
       "False"
      ]
     },
     "execution_count": 9,
     "metadata": {},
     "output_type": "execute_result"
    }
   ],
   "source": [
    "keyword.iskeyword('word')"
   ]
  }
 ],
 "metadata": {
  "kernelspec": {
   "display_name": "Python 3 (ipykernel)",
   "language": "python",
   "name": "python3"
  },
  "language_info": {
   "codemirror_mode": {
    "name": "ipython",
    "version": 3
   },
   "file_extension": ".py",
   "mimetype": "text/x-python",
   "name": "python",
   "nbconvert_exporter": "python",
   "pygments_lexer": "ipython3",
   "version": "3.9.12"
  }
 },
 "nbformat": 4,
 "nbformat_minor": 5
}
