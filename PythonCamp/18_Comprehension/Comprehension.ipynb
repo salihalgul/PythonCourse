{
 "cells": [
  {
   "cell_type": "markdown",
   "id": "loaded-gravity",
   "metadata": {},
   "source": [
    "## Comprehension"
   ]
  },
  {
   "cell_type": "markdown",
   "id": "certified-eleven",
   "metadata": {},
   "source": [
    "### Comprehension Nedir?"
   ]
  },
  {
   "cell_type": "markdown",
   "id": "apart-vancouver",
   "metadata": {},
   "source": [
    "**Comprehension:**\n",
    "\n",
    "Python'da, dizi tipinde (sequence) değişkenler üzerinde kolayca döngü kurmamızı sağlayan yapılardır."
   ]
  },
  {
   "cell_type": "markdown",
   "id": "sitting-concentrate",
   "metadata": {},
   "source": [
    "**Alıştırma:**\n",
    "\n",
    "1'den 10'a kadar olan sayıların karelerini içeren bir liste yapalım:"
   ]
  },
  {
   "cell_type": "code",
   "execution_count": 1,
   "id": "opening-process",
   "metadata": {},
   "outputs": [
    {
     "name": "stdout",
     "output_type": "stream",
     "text": [
      "[1, 4, 9, 16, 25, 36, 49, 64, 81, 100]\n"
     ]
    }
   ],
   "source": [
    "# Klasik Yöntem\n",
    "\n",
    "kareler = []\n",
    "\n",
    "for i in range(1, 11):\n",
    "    kareler.append(i**2)\n",
    "    \n",
    "print(kareler)"
   ]
  },
  {
   "cell_type": "code",
   "execution_count": 2,
   "id": "adolescent-referral",
   "metadata": {},
   "outputs": [
    {
     "name": "stdout",
     "output_type": "stream",
     "text": [
      "[1, 4, 9, 16, 25, 36, 49, 64, 81, 100]\n"
     ]
    }
   ],
   "source": [
    "# Comprehension\n",
    "\n",
    "kareler_comp = [i**2 for i in range(1, 11)]\n",
    "\n",
    "print(kareler_comp)"
   ]
  },
  {
   "cell_type": "code",
   "execution_count": 3,
   "id": "southeast-birmingham",
   "metadata": {},
   "outputs": [
    {
     "data": {
      "text/plain": [
       "[1, 4, 9, 16, 25, 36, 49, 64, 81, 100]"
      ]
     },
     "execution_count": 3,
     "metadata": {},
     "output_type": "execute_result"
    }
   ],
   "source": [
    "kareler_comp = [i**2\n",
    "                for i in range(1, 11)]\n",
    "\n",
    "kareler_comp"
   ]
  },
  {
   "cell_type": "markdown",
   "id": "arabic-franchise",
   "metadata": {},
   "source": [
    "**Alıştırma:**\n",
    "    \n",
    "1'den 7'ye kadar olan sayıların küplerini ekrana yazalım: "
   ]
  },
  {
   "cell_type": "code",
   "execution_count": 5,
   "id": "smart-medicare",
   "metadata": {},
   "outputs": [
    {
     "data": {
      "text/plain": [
       "[1, 8, 27, 64, 125, 216]"
      ]
     },
     "execution_count": 5,
     "metadata": {},
     "output_type": "execute_result"
    }
   ],
   "source": [
    "# Klasik Yöntem:\n",
    "\n",
    "kupler = []\n",
    "\n",
    "for k in range(1,7):\n",
    "    kupler.append(k**3)\n",
    "    \n",
    "kupler"
   ]
  },
  {
   "cell_type": "code",
   "execution_count": 6,
   "id": "utility-immunology",
   "metadata": {},
   "outputs": [
    {
     "data": {
      "text/plain": [
       "[1, 8, 27, 64, 125, 216]"
      ]
     },
     "execution_count": 6,
     "metadata": {},
     "output_type": "execute_result"
    }
   ],
   "source": [
    "# Comprehensin\n",
    "\n",
    "kupler_comp = [k**3\n",
    "               for k in range(1, 7)]\n",
    "\n",
    "kupler_comp"
   ]
  },
  {
   "cell_type": "markdown",
   "id": "direct-responsibility",
   "metadata": {},
   "source": [
    "**Alıştırma:**\n",
    "\n",
    "'lorem impsum' ifadesinin harflerini büyük harfler yapıp bir listeye ekleyelim."
   ]
  },
  {
   "cell_type": "code",
   "execution_count": 7,
   "id": "suited-penguin",
   "metadata": {},
   "outputs": [],
   "source": [
    "text = 'lorem ipsum'"
   ]
  },
  {
   "cell_type": "code",
   "execution_count": 8,
   "id": "cordless-network",
   "metadata": {},
   "outputs": [
    {
     "data": {
      "text/plain": [
       "['L', 'O', 'R', 'E', 'M', ' ', 'I', 'P', 'S', 'U', 'M']"
      ]
     },
     "execution_count": 8,
     "metadata": {},
     "output_type": "execute_result"
    }
   ],
   "source": [
    "# Klasik Yöntem\n",
    "\n",
    "buyuk = []\n",
    "\n",
    "for t in text:\n",
    "    buyuk.append(t.upper())\n",
    "    \n",
    "buyuk"
   ]
  },
  {
   "cell_type": "code",
   "execution_count": 9,
   "id": "productive-principle",
   "metadata": {},
   "outputs": [
    {
     "data": {
      "text/plain": [
       "['L', 'O', 'R', 'E', 'M', ' ', 'I', 'P', 'S', 'U', 'M']"
      ]
     },
     "execution_count": 9,
     "metadata": {},
     "output_type": "execute_result"
    }
   ],
   "source": [
    "# Comprehension\n",
    "\n",
    "buyuk_comp = [t.upper()\n",
    "              for t in text]\n",
    "\n",
    "buyuk_comp"
   ]
  },
  {
   "cell_type": "markdown",
   "id": "tough-madagascar",
   "metadata": {},
   "source": [
    "**Alıştırma:**\n",
    "\n",
    "Elimizde iki liste olsun.\n",
    "\n",
    "Proramlama Dilleri ve Çıkış Yılları:\n",
    "\n",
    "<pre>\n",
    "diller = ['Python', 'Java', 'JavaScript', 'C#']\n",
    "yillar = [1989, 1995, 1995, 2000]\n",
    "</pre>\n",
    "\n",
    "Bu iki listeyi dictionary ile birleştireceğiz."
   ]
  },
  {
   "cell_type": "code",
   "execution_count": 10,
   "id": "recovered-score",
   "metadata": {},
   "outputs": [],
   "source": [
    "diller = ['Python', 'Java', 'JavaScript', 'C#']\n",
    "yillar = [1989, 1995, 1995, 2000]"
   ]
  },
  {
   "cell_type": "code",
   "execution_count": 11,
   "id": "affiliated-slave",
   "metadata": {},
   "outputs": [
    {
     "data": {
      "text/plain": [
       "{'Python': 1989, 'Java': 1995, 'JavaScript': 1995, 'C#': 2000}"
      ]
     },
     "execution_count": 11,
     "metadata": {},
     "output_type": "execute_result"
    }
   ],
   "source": [
    "# Klasik Yöntem\n",
    "\n",
    "diller_yillar = {}\n",
    "\n",
    "for dil, yil in zip(diller, yillar):\n",
    "    \n",
    "    diller_yillar[dil] = yil\n",
    "\n",
    "diller_yillar"
   ]
  },
  {
   "cell_type": "code",
   "execution_count": 12,
   "id": "supreme-reviewer",
   "metadata": {},
   "outputs": [
    {
     "data": {
      "text/plain": [
       "{'Python': 1989, 'Java': 1995, 'JavaScript': 1995, 'C#': 2000}"
      ]
     },
     "execution_count": 12,
     "metadata": {},
     "output_type": "execute_result"
    }
   ],
   "source": [
    "# Comprehension\n",
    "\n",
    "diller_yillar_comp = {dil: yil \n",
    "                      for dil, yil in zip(diller, yillar)}\n",
    "\n",
    "diller_yillar_comp"
   ]
  },
  {
   "cell_type": "code",
   "execution_count": 13,
   "id": "caring-rough",
   "metadata": {},
   "outputs": [
    {
     "data": {
      "text/plain": [
       "{'Python': 1989, 'Java': 1995, 'JavaScript': 1995, 'C#': 2000}"
      ]
     },
     "execution_count": 13,
     "metadata": {},
     "output_type": "execute_result"
    }
   ],
   "source": [
    "diller_yillar_comp_2 = {dil:yil for dil, yil in zip(diller, yillar)}\n",
    "diller_yillar_comp_2"
   ]
  },
  {
   "cell_type": "markdown",
   "id": "intimate-leave",
   "metadata": {},
   "source": [
    "**Alıştırma:**\n",
    "\n",
    "'papatya' kelimesinin harflerini bir kümede gösterelim:"
   ]
  },
  {
   "cell_type": "code",
   "execution_count": 14,
   "id": "mighty-april",
   "metadata": {},
   "outputs": [],
   "source": [
    "papatya = 'papatya'"
   ]
  },
  {
   "cell_type": "code",
   "execution_count": 15,
   "id": "plastic-regard",
   "metadata": {},
   "outputs": [
    {
     "data": {
      "text/plain": [
       "{'a', 'p', 't', 'y'}"
      ]
     },
     "execution_count": 15,
     "metadata": {},
     "output_type": "execute_result"
    }
   ],
   "source": [
    "# comprehension\n",
    "\n",
    "harfler = set()\n",
    "\n",
    "for harf in papatya:\n",
    "    harfler.add(harf)\n",
    "\n",
    "harfler"
   ]
  },
  {
   "cell_type": "code",
   "execution_count": 16,
   "id": "compressed-anime",
   "metadata": {},
   "outputs": [
    {
     "data": {
      "text/plain": [
       "{'a', 'p', 't', 'y'}"
      ]
     },
     "execution_count": 16,
     "metadata": {},
     "output_type": "execute_result"
    }
   ],
   "source": [
    "harfler = {harf for harf in papatya}\n",
    "harfler"
   ]
  },
  {
   "cell_type": "markdown",
   "id": "august-horizontal",
   "metadata": {},
   "source": [
    "### İç İçe (Nested) Comprehensionlar"
   ]
  },
  {
   "cell_type": "markdown",
   "id": "complimentary-declaration",
   "metadata": {},
   "source": [
    "**Alıştırma:**\n",
    "\n",
    "Verilen iki listeyi birleştirip, içinde tüm ikili kombinasyonları Tuple olarak tutan yeni bir liste yaratalım:"
   ]
  },
  {
   "cell_type": "code",
   "execution_count": 18,
   "id": "formal-strike",
   "metadata": {},
   "outputs": [],
   "source": [
    "# listeler\n",
    "\n",
    "harfler = ['A', 'B']\n",
    "sayilar = [1, 2, 3]\n"
   ]
  },
  {
   "cell_type": "markdown",
   "id": "prospective-engineer",
   "metadata": {},
   "source": [
    "Beklenen Sonuç:\n",
    "\n",
    "<pre>\n",
    "[\n",
    " ('A', 1),\n",
    " ('A', 2),\n",
    " ('A', 3),\n",
    " ...\n",
    "]\n",
    "</pre>"
   ]
  },
  {
   "cell_type": "code",
   "execution_count": 20,
   "id": "underlying-yukon",
   "metadata": {},
   "outputs": [
    {
     "name": "stdout",
     "output_type": "stream",
     "text": [
      "[('A', 1), ('A', 2), ('A', 3), ('B', 1), ('B', 2), ('B', 3)]\n"
     ]
    }
   ],
   "source": [
    "# Klasik Yöntem\n",
    "\n",
    "sonuc = []\n",
    "\n",
    "for harf in harfler:\n",
    "    for sayi in sayilar:\n",
    "        tup = (harf, sayi)\n",
    "        sonuc.append(tup)\n",
    "    \n",
    "print(sonuc)"
   ]
  },
  {
   "cell_type": "code",
   "execution_count": 22,
   "id": "literary-aquarium",
   "metadata": {},
   "outputs": [
    {
     "data": {
      "text/plain": [
       "[('A', 1), ('A', 2), ('A', 3), ('B', 1), ('B', 2), ('B', 3)]"
      ]
     },
     "execution_count": 22,
     "metadata": {},
     "output_type": "execute_result"
    }
   ],
   "source": [
    "# Comprehension\n",
    "\n",
    "sonuc = [(harf, sayi) \n",
    "         for harf in harfler \n",
    "         for sayi in sayilar]\n",
    "\n",
    "sonuc"
   ]
  },
  {
   "cell_type": "markdown",
   "id": "involved-symbol",
   "metadata": {},
   "source": [
    "**Alıştırma:**\n",
    "    \n",
    "1'den 10'a kadar olan tüm sayıları, kendileri key ve kendinden küçük pozitif tam sayılar da value listesi olacak şekilde bir dict kuralım:"
   ]
  },
  {
   "cell_type": "markdown",
   "id": "native-offer",
   "metadata": {},
   "source": [
    "<pre>\n",
    "kucukler = {\n",
    "    1: [1],\n",
    "    2: [1, 2],\n",
    "    3: [1, 2, 3],\n",
    "    4: [1, 2, 3, 4],\n",
    "    ...\n",
    "    10: []\n",
    "}\n",
    "</pre>"
   ]
  },
  {
   "cell_type": "code",
   "execution_count": 23,
   "id": "editorial-screw",
   "metadata": {},
   "outputs": [
    {
     "data": {
      "text/plain": [
       "{1: [1],\n",
       " 2: [1, 2],\n",
       " 3: [1, 2, 3],\n",
       " 4: [1, 2, 3, 4],\n",
       " 5: [1, 2, 3, 4, 5],\n",
       " 6: [1, 2, 3, 4, 5, 6],\n",
       " 7: [1, 2, 3, 4, 5, 6, 7],\n",
       " 8: [1, 2, 3, 4, 5, 6, 7, 8],\n",
       " 9: [1, 2, 3, 4, 5, 6, 7, 8, 9],\n",
       " 10: [1, 2, 3, 4, 5, 6, 7, 8, 9, 10]}"
      ]
     },
     "execution_count": 23,
     "metadata": {},
     "output_type": "execute_result"
    }
   ],
   "source": [
    "# Klasik Yöntem\n",
    "\n",
    "kucukler = {}\n",
    "\n",
    "for i in range(1, 11):    \n",
    "    for j in range(1, i + 1):        \n",
    "        # bu key var mı kontrol et\n",
    "        if not i in kucukler:\n",
    "            kucukler[i] = [j]\n",
    "        else:\n",
    "            kucukler[i].append(j)\n",
    "            \n",
    "kucukler"
   ]
  },
  {
   "cell_type": "code",
   "execution_count": 25,
   "id": "female-blast",
   "metadata": {},
   "outputs": [
    {
     "data": {
      "text/plain": [
       "{1: [1],\n",
       " 2: [1, 2],\n",
       " 3: [1, 2, 3],\n",
       " 4: [1, 2, 3, 4],\n",
       " 5: [1, 2, 3, 4, 5],\n",
       " 6: [1, 2, 3, 4, 5, 6],\n",
       " 7: [1, 2, 3, 4, 5, 6, 7],\n",
       " 8: [1, 2, 3, 4, 5, 6, 7, 8],\n",
       " 9: [1, 2, 3, 4, 5, 6, 7, 8, 9],\n",
       " 10: [1, 2, 3, 4, 5, 6, 7, 8, 9, 10]}"
      ]
     },
     "execution_count": 25,
     "metadata": {},
     "output_type": "execute_result"
    }
   ],
   "source": [
    "# Comprehension\n",
    "\n",
    "kucukler_comp = {i: [j for j in range(1, i+1)] \n",
    "                 for i in range(1, 11)}\n",
    "\n",
    "kucukler_comp"
   ]
  },
  {
   "cell_type": "markdown",
   "id": "adjustable-powell",
   "metadata": {},
   "source": [
    "### Comprehension İçinde `if-else` Yapısı"
   ]
  },
  {
   "cell_type": "markdown",
   "id": "absolute-faculty",
   "metadata": {},
   "source": [
    "**Alıştırma:**\n",
    "\n",
    "1'den 20'ye kadar olan tek sayıları önce döngü sonra comprehension ile bulalım:"
   ]
  },
  {
   "cell_type": "code",
   "execution_count": 26,
   "id": "spoken-plaintiff",
   "metadata": {},
   "outputs": [
    {
     "data": {
      "text/plain": [
       "[1, 3, 5, 7, 9, 11, 13, 15, 17, 19]"
      ]
     },
     "execution_count": 26,
     "metadata": {},
     "output_type": "execute_result"
    }
   ],
   "source": [
    "# klasik yöntem -> döngü ile\n",
    "\n",
    "tekler = []\n",
    "\n",
    "for i in range(1, 21):\n",
    "    if i % 2 == 1:\n",
    "        tekler.append(i)\n",
    "    \n",
    "tekler"
   ]
  },
  {
   "cell_type": "markdown",
   "id": "verified-venezuela",
   "metadata": {},
   "source": [
    "Comprehension içinde if yapısı döngüler ile aynıdır. Döngüde hangi sırada yazılmışsa, Comprehension içinde de o sırada yazılır."
   ]
  },
  {
   "cell_type": "code",
   "execution_count": 27,
   "id": "heard-malpractice",
   "metadata": {},
   "outputs": [
    {
     "data": {
      "text/plain": [
       "[1, 3, 5, 7, 9, 11, 13, 15, 17, 19]"
      ]
     },
     "execution_count": 27,
     "metadata": {},
     "output_type": "execute_result"
    }
   ],
   "source": [
    "# comprehension ile\n",
    "\n",
    "tekler_comp = [i\n",
    "               for i in range(1, 21)\n",
    "               if i % 2 == 1]\n",
    "\n",
    "tekler_comp"
   ]
  },
  {
   "cell_type": "markdown",
   "id": "third-devices",
   "metadata": {},
   "source": [
    "**Alıştırma:**\n",
    "\n",
    "2'den 20'ye kadar olan tüm sayıları, kendileri key olacak ve çarpanları da bir value listesi olacak şekilde bir Dictionay içinde tutalım:\n",
    "\n",
    "Şu şekilde bir sonuç üretelim:\n",
    "<pre>\n",
    "carpanlar = {\n",
    "2: [2],\n",
    "3: [3],\n",
    "4: [2, 4],\n",
    "5: [5],\n",
    "6: [2, 3, 6]\n",
    "7: [7],\n",
    "8: [2, 4, 8],\n",
    "9: [3, 9],\n",
    "10: [2, 5, 10],\n",
    "...\n",
    "}\n",
    "</pre>"
   ]
  },
  {
   "cell_type": "code",
   "execution_count": 28,
   "id": "steady-circle",
   "metadata": {},
   "outputs": [
    {
     "data": {
      "text/plain": [
       "{2: [2],\n",
       " 3: [3],\n",
       " 4: [2, 4],\n",
       " 5: [5],\n",
       " 6: [2, 3, 6],\n",
       " 7: [7],\n",
       " 8: [2, 4, 8],\n",
       " 9: [3, 9],\n",
       " 10: [2, 5, 10],\n",
       " 11: [11],\n",
       " 12: [2, 3, 4, 6, 12],\n",
       " 13: [13],\n",
       " 14: [2, 7, 14],\n",
       " 15: [3, 5, 15],\n",
       " 16: [2, 4, 8, 16],\n",
       " 17: [17],\n",
       " 18: [2, 3, 6, 9, 18],\n",
       " 19: [19],\n",
       " 20: [2, 4, 5, 10, 20]}"
      ]
     },
     "execution_count": 28,
     "metadata": {},
     "output_type": "execute_result"
    }
   ],
   "source": [
    "# klasik yöntem -> for döngüleri ile\n",
    "\n",
    "carpanlar = {}\n",
    "\n",
    "for i in range(2, 21):\n",
    "    for j in range(2, i+1):\n",
    "        if i % j == 0:\n",
    "            if not i in carpanlar:\n",
    "                carpanlar[i] = [j]\n",
    "            else:\n",
    "                carpanlar[i].append(j)\n",
    "\n",
    "carpanlar"
   ]
  },
  {
   "cell_type": "code",
   "execution_count": 33,
   "id": "supposed-yugoslavia",
   "metadata": {},
   "outputs": [
    {
     "data": {
      "text/plain": [
       "{2: [2],\n",
       " 3: [3],\n",
       " 4: [2, 4],\n",
       " 5: [5],\n",
       " 6: [2, 3, 6],\n",
       " 7: [7],\n",
       " 8: [2, 4, 8],\n",
       " 9: [3, 9],\n",
       " 10: [2, 5, 10],\n",
       " 11: [11],\n",
       " 12: [2, 3, 4, 6, 12],\n",
       " 13: [13],\n",
       " 14: [2, 7, 14],\n",
       " 15: [3, 5, 15],\n",
       " 16: [2, 4, 8, 16],\n",
       " 17: [17],\n",
       " 18: [2, 3, 6, 9, 18],\n",
       " 19: [19],\n",
       " 20: [2, 4, 5, 10, 20]}"
      ]
     },
     "execution_count": 33,
     "metadata": {},
     "output_type": "execute_result"
    }
   ],
   "source": [
    "# comprehension ile\n",
    "\n",
    "carpanlar_comp = {\n",
    "    i: [j for j in range(2, i+1) if i % j == 0]\n",
    "    for i in range(2, 21)\n",
    "}\n",
    "\n",
    "carpanlar_comp"
   ]
  },
  {
   "cell_type": "markdown",
   "id": "false-cancer",
   "metadata": {},
   "source": [
    "**Alıştırma:**\n",
    "\n",
    "2'den 20'ye kadar olan tüm **çift sayıları**, kendileri key olacak ve çarpanları da bir value listesi olacak şekilde bir Dictionay içinde tutalım:\n",
    "\n",
    "Şu şekilde bir sonuç üretelim:\n",
    "<pre>\n",
    "cift_carpanlar = {\n",
    " 2: [2],\n",
    " 4: [2, 4],\n",
    " 6: [2, 3, 6],\n",
    " 8: [2, 4, 8],\n",
    " 10: [2, 5, 10],\n",
    " 12: [2, 3, 4, 6, 12],\n",
    " 14: [2, 7, 14],\n",
    " 16: [2, 4, 8, 16],\n",
    " 18: [2, 3, 6, 9, 18],\n",
    " 20: [2, 4, 5, 10, 20]}\n",
    "</pre>"
   ]
  },
  {
   "cell_type": "code",
   "execution_count": 32,
   "id": "satellite-brass",
   "metadata": {},
   "outputs": [
    {
     "data": {
      "text/plain": [
       "{2: [2],\n",
       " 4: [2, 4],\n",
       " 6: [2, 3, 6],\n",
       " 8: [2, 4, 8],\n",
       " 10: [2, 5, 10],\n",
       " 12: [2, 3, 4, 6, 12],\n",
       " 14: [2, 7, 14],\n",
       " 16: [2, 4, 8, 16],\n",
       " 18: [2, 3, 6, 9, 18],\n",
       " 20: [2, 4, 5, 10, 20]}"
      ]
     },
     "execution_count": 32,
     "metadata": {},
     "output_type": "execute_result"
    }
   ],
   "source": [
    "# klasik yöntem -> for döngüleri ile\n",
    "\n",
    "cift_carpanlar = {}\n",
    "\n",
    "for i in range(2, 21):\n",
    "    if i % 2 == 0:\n",
    "        for j in range(2, i+1):\n",
    "            if i % j == 0:\n",
    "                if not i in cift_carpanlar:\n",
    "                    cift_carpanlar[i] = [j]\n",
    "                else:\n",
    "                    cift_carpanlar[i].append(j)\n",
    "\n",
    "cift_carpanlar"
   ]
  },
  {
   "cell_type": "markdown",
   "id": "flexible-african",
   "metadata": {},
   "source": [
    "Yukarıda gördüğünüz gibi epey uzun oldu. Şimdi comprehension ile kısaca yapalım:"
   ]
  },
  {
   "cell_type": "code",
   "execution_count": 36,
   "id": "vital-british",
   "metadata": {},
   "outputs": [
    {
     "data": {
      "text/plain": [
       "{2: [2],\n",
       " 4: [2, 4],\n",
       " 6: [2, 3, 6],\n",
       " 8: [2, 4, 8],\n",
       " 10: [2, 5, 10],\n",
       " 12: [2, 3, 4, 6, 12],\n",
       " 14: [2, 7, 14],\n",
       " 16: [2, 4, 8, 16],\n",
       " 18: [2, 3, 6, 9, 18],\n",
       " 20: [2, 4, 5, 10, 20]}"
      ]
     },
     "execution_count": 36,
     "metadata": {},
     "output_type": "execute_result"
    }
   ],
   "source": [
    "# comprehension ile\n",
    "\n",
    "cift_carpanlar_comp = {i: [j for j in range(2, i+1) if i % j == 0]\n",
    "                       for i in range(2, 21) if i % 2 == 0}\n",
    "\n",
    "cift_carpanlar_comp"
   ]
  },
  {
   "cell_type": "markdown",
   "id": "efficient-direction",
   "metadata": {},
   "source": [
    "**NOT:**\n",
    "* Mümkün olan hemen her yerde Comprehension kullanın. (for loop yerine)\n",
    "* Performans sağlar\n",
    "* Kodunuz daha sade ve okunur olur"
   ]
  }
 ],
 "metadata": {
  "kernelspec": {
   "display_name": "Python 3",
   "language": "python",
   "name": "python3"
  },
  "language_info": {
   "codemirror_mode": {
    "name": "ipython",
    "version": 3
   },
   "file_extension": ".py",
   "mimetype": "text/x-python",
   "name": "python",
   "nbconvert_exporter": "python",
   "pygments_lexer": "ipython3",
   "version": "3.8.5"
  }
 },
 "nbformat": 4,
 "nbformat_minor": 5
}
