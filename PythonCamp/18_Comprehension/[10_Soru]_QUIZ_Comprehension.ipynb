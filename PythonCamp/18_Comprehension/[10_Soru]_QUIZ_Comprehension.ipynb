{
 "cells": [
  {
   "cell_type": "markdown",
   "id": "ignored-arrest",
   "metadata": {},
   "source": [
    "## [10 Soru] QUIZ - Comprehension"
   ]
  },
  {
   "cell_type": "markdown",
   "id": "italian-eligibility",
   "metadata": {},
   "source": [
    "**Soru 1:**\n",
    "\n",
    "Önce for dögüsü ile 1 den 10'a (hariç) kadar olan sayıların karelerini veren bir fonksiyon yazın. Adı **kareleri_ver** olsun.\n",
    "\n",
    "Ardından aynı fonksiyonu comprehension ile yazın. Adı **kareleri_ver_comp** olsun.\n",
    "\n",
    "<pre style=\"background: gold\">\n",
    "[1, 4, 9, 16, 25, 36, 49, 64, 81]\n",
    "</pre>"
   ]
  },
  {
   "cell_type": "code",
   "execution_count": 16,
   "id": "paperback-hamburg",
   "metadata": {},
   "outputs": [],
   "source": [
    "# Çözüm 1:\n",
    "\n",
    "# for döngüsü\n",
    "\n"
   ]
  },
  {
   "cell_type": "code",
   "execution_count": 17,
   "id": "endangered-springer",
   "metadata": {},
   "outputs": [
    {
     "data": {
      "text/plain": [
       "[1, 4, 9, 16, 25, 36, 49, 64, 81]"
      ]
     },
     "execution_count": 17,
     "metadata": {},
     "output_type": "execute_result"
    }
   ],
   "source": [
    "kareler = kareleri_ver()\n",
    "kareler"
   ]
  },
  {
   "cell_type": "code",
   "execution_count": 18,
   "id": "corporate-amplifier",
   "metadata": {},
   "outputs": [],
   "source": [
    "# comprehension\n",
    "\n"
   ]
  },
  {
   "cell_type": "code",
   "execution_count": 19,
   "id": "jewish-white",
   "metadata": {},
   "outputs": [
    {
     "data": {
      "text/plain": [
       "[1, 4, 9, 16, 25, 36, 49, 64, 81]"
      ]
     },
     "execution_count": 19,
     "metadata": {},
     "output_type": "execute_result"
    }
   ],
   "source": [
    "kareler = kareleri_ver_comp()\n",
    "kareler"
   ]
  },
  {
   "cell_type": "markdown",
   "id": "streaming-wireless",
   "metadata": {},
   "source": [
    "---"
   ]
  },
  {
   "cell_type": "markdown",
   "id": "laughing-relationship",
   "metadata": {},
   "source": [
    "**Soru 2:**\n",
    "\n",
    "Parametre olarak bir cümlelerden oluşan bir paragraf listesi alan bir fonksiyon yazın. Adı **cumleleri_ver** olsun.\n",
    "\n",
    "Fonksiyon bu paragraf listesi içindeki cümleleri dönsün.\n",
    "\n",
    "Önce for döngüsü sonra comprehension ile yapınız. Comprehension ile fonksiyon adı **cumleleri_ver_comp** olsun.\n",
    "\n",
    "<pre style=\"background: gold\">\n",
    "paragraph = [\"Lorem ipsum dolor sit amet, consectetur adipiscing elit.\",\n",
    "             \"Ut enim ad minim veniam, quis nostrud exercitation ullamco.\",\n",
    "             \"Duis aute irure dolor in reprehenderit in voluptate velit esse.\",\n",
    "             \"Excepteur sint occaecat cupidatat non proident.\"]\n",
    "</pre>"
   ]
  },
  {
   "cell_type": "code",
   "execution_count": 12,
   "id": "ceramic-ready",
   "metadata": {},
   "outputs": [],
   "source": [
    "# Çözüm 2:\n",
    "\n",
    "# for döngüsü ile\n",
    "# paragraph içindeki cümleleri yazalım\n",
    "\n"
   ]
  },
  {
   "cell_type": "code",
   "execution_count": 13,
   "id": "formal-management",
   "metadata": {},
   "outputs": [],
   "source": [
    "paragraph = [\"Lorem ipsum dolor sit amet, consectetur adipiscing elit.\",\n",
    "             \"Ut enim ad minim veniam, quis nostrud exercitation ullamco.\",\n",
    "             \"Duis aute irure dolor in reprehenderit in voluptate velit esse.\",\n",
    "             \"Excepteur sint occaecat cupidatat non proident.\"]"
   ]
  },
  {
   "cell_type": "code",
   "execution_count": 14,
   "id": "union-assault",
   "metadata": {},
   "outputs": [
    {
     "data": {
      "text/plain": [
       "['Lorem ipsum dolor sit amet, consectetur adipiscing elit.',\n",
       " 'Ut enim ad minim veniam, quis nostrud exercitation ullamco.',\n",
       " 'Duis aute irure dolor in reprehenderit in voluptate velit esse.',\n",
       " 'Excepteur sint occaecat cupidatat non proident.']"
      ]
     },
     "execution_count": 14,
     "metadata": {},
     "output_type": "execute_result"
    }
   ],
   "source": [
    "cumleler = cumleleri_ver(paragraph)\n",
    "cumleler"
   ]
  },
  {
   "cell_type": "code",
   "execution_count": 20,
   "id": "illegal-bumper",
   "metadata": {},
   "outputs": [],
   "source": [
    "# cumleleri comprehension ile alalım şimdi\n",
    "\n"
   ]
  },
  {
   "cell_type": "code",
   "execution_count": 21,
   "id": "provincial-brunei",
   "metadata": {},
   "outputs": [
    {
     "data": {
      "text/plain": [
       "['Lorem ipsum dolor sit amet, consectetur adipiscing elit.',\n",
       " 'Ut enim ad minim veniam, quis nostrud exercitation ullamco.',\n",
       " 'Duis aute irure dolor in reprehenderit in voluptate velit esse.',\n",
       " 'Excepteur sint occaecat cupidatat non proident.']"
      ]
     },
     "execution_count": 21,
     "metadata": {},
     "output_type": "execute_result"
    }
   ],
   "source": [
    "cumleler = cumleleri_ver_comp(paragraph)\n",
    "cumleler"
   ]
  },
  {
   "cell_type": "markdown",
   "id": "acknowledged-northern",
   "metadata": {},
   "source": [
    "---"
   ]
  },
  {
   "cell_type": "markdown",
   "id": "tribal-membrane",
   "metadata": {},
   "source": [
    "**Soru 3:**\n",
    "\n",
    "Soru 2'deki paragrafı alıp bu sefer tüm cümlelerdeki tüm kelimeleri tek bir liste içinde dönen bir fonksiyon yazalım. Adı **kelimeleri_ver** olsun.\n",
    "\n",
    "Önce for döngüleri ile sonra comprehension ile yapınız. Comprehension ile adı **kelimeleri_ver_comp** olsun.\n",
    "\n",
    "<pre style=\"background: gold\">\n",
    "paragraph = [\"Lorem ipsum dolor sit amet, consectetur adipiscing elit.\",\n",
    "             \"Ut enim ad minim veniam, quis nostrud exercitation ullamco.\",\n",
    "             \"Duis aute irure dolor in reprehenderit in voluptate velit esse.\",\n",
    "             \"Excepteur sint occaecat cupidatat non proident.\"]\n",
    "             \n",
    "Sonuç:\n",
    "['Lorem', 'ipsum', 'dolor', 'sit', 'amet,', 'consectetur', 'adipiscing', 'elit.', 'Ut', 'enim', 'ad', 'minim', 'veniam,', 'quis', 'nostrud', 'exercitation', 'ullamco.', 'Duis', 'aute', 'irure', 'dolor', 'in', 'reprehenderit', 'in', 'voluptate', 'velit', 'esse.', 'Excepteur', 'sint', 'occaecat', 'cupidatat', 'non', 'proident.']\n",
    "</pre>"
   ]
  },
  {
   "cell_type": "code",
   "execution_count": 22,
   "id": "dedicated-residence",
   "metadata": {},
   "outputs": [],
   "source": [
    "# Çözüm 3:\n",
    "\n",
    "# for döngüleri ile\n",
    "# paragraph'taki tüm kelimeleri alalım\n",
    "\n"
   ]
  },
  {
   "cell_type": "code",
   "execution_count": 24,
   "id": "trying-gnome",
   "metadata": {},
   "outputs": [
    {
     "name": "stdout",
     "output_type": "stream",
     "text": [
      "['Lorem', 'ipsum', 'dolor', 'sit', 'amet,', 'consectetur', 'adipiscing', 'elit.', 'Ut', 'enim', 'ad', 'minim', 'veniam,', 'quis', 'nostrud', 'exercitation', 'ullamco.', 'Duis', 'aute', 'irure', 'dolor', 'in', 'reprehenderit', 'in', 'voluptate', 'velit', 'esse.', 'Excepteur', 'sint', 'occaecat', 'cupidatat', 'non', 'proident.']\n"
     ]
    }
   ],
   "source": [
    "kelimeler = kelimeleri_ver(paragraph)\n",
    "print(kelimeler)"
   ]
  },
  {
   "cell_type": "code",
   "execution_count": 26,
   "id": "adaptive-offset",
   "metadata": {},
   "outputs": [],
   "source": [
    "# şimdi paragraph'taki tüm kelimeleri list comprehension ile alalım\n",
    "\n"
   ]
  },
  {
   "cell_type": "code",
   "execution_count": 27,
   "id": "mighty-wrist",
   "metadata": {},
   "outputs": [
    {
     "name": "stdout",
     "output_type": "stream",
     "text": [
      "['Lorem', 'ipsum', 'dolor', 'sit', 'amet,', 'consectetur', 'adipiscing', 'elit.', 'Ut', 'enim', 'ad', 'minim', 'veniam,', 'quis', 'nostrud', 'exercitation', 'ullamco.', 'Duis', 'aute', 'irure', 'dolor', 'in', 'reprehenderit', 'in', 'voluptate', 'velit', 'esse.', 'Excepteur', 'sint', 'occaecat', 'cupidatat', 'non', 'proident.']\n"
     ]
    }
   ],
   "source": [
    "kelimeler = kelimeleri_ver_comp(paragraph)\n",
    "print(kelimeler)"
   ]
  },
  {
   "cell_type": "markdown",
   "id": "crazy-transcription",
   "metadata": {},
   "source": [
    "---"
   ]
  },
  {
   "cell_type": "markdown",
   "id": "internal-dress",
   "metadata": {},
   "source": [
    "**Soru 4:**\n",
    "\n",
    "Soru 2'deki paragrafı alıp bu sefer tüm cümlelerdeki sadece sesli harfle başlayan kelimeleri tek bir liste içinde dönen bir fonksiyon yazalım. Adı **sesli_kelimeleri_ver** olsun.\n",
    "\n",
    "Önce for döngüleri ile sonra comprehension ile yapınız. Comprehension ile adı **sesli_kelimeleri_ver_comp** olsun.\n",
    "\n",
    "<pre style=\"background: gold\">\n",
    "paragraph = [\"Lorem ipsum dolor sit amet, consectetur adipiscing elit.\",\n",
    "             \"Ut enim ad minim veniam, quis nostrud exercitation ullamco.\",\n",
    "             \"Duis aute irure dolor in reprehenderit in voluptate velit esse.\",\n",
    "             \"Excepteur sint occaecat cupidatat non proident.\"]\n",
    "             \n",
    "Sonuç:\n",
    "['ipsum', 'amet,', 'adipiscing', 'elit.', 'Ut', 'enim', 'ad', 'exercitation', 'ullamco.', 'aute', 'irure', 'in', 'in', 'esse.', 'Excepteur', 'occaecat']\n",
    "</pre>"
   ]
  },
  {
   "cell_type": "code",
   "execution_count": 33,
   "id": "figured-convert",
   "metadata": {},
   "outputs": [],
   "source": [
    "# Çözüm 4:\n",
    "\n",
    "# for döngüleri ile\n",
    "# paragraph içindeki sesli harf ile başlayan kelimeleri bulalım\n",
    "\n",
    "\n"
   ]
  },
  {
   "cell_type": "code",
   "execution_count": 34,
   "id": "blocked-duplicate",
   "metadata": {},
   "outputs": [
    {
     "name": "stdout",
     "output_type": "stream",
     "text": [
      "['ipsum', 'amet,', 'adipiscing', 'elit.', 'Ut', 'enim', 'ad', 'exercitation', 'ullamco.', 'aute', 'irure', 'in', 'in', 'esse.', 'Excepteur', 'occaecat']\n"
     ]
    }
   ],
   "source": [
    "sesli_kelimeler = sesli_kelimeleri_ver(paragraph)\n",
    "print(sesli_kelimeler)"
   ]
  },
  {
   "cell_type": "code",
   "execution_count": 39,
   "id": "extra-capital",
   "metadata": {},
   "outputs": [],
   "source": [
    "# sesli harf ile başlayan kelimeleri list comprehension ile bulalım\n",
    "\n"
   ]
  },
  {
   "cell_type": "code",
   "execution_count": 40,
   "id": "acoustic-utility",
   "metadata": {},
   "outputs": [
    {
     "name": "stdout",
     "output_type": "stream",
     "text": [
      "['ipsum', 'amet,', 'adipiscing', 'elit.', 'Ut', 'enim', 'ad', 'exercitation', 'ullamco.', 'aute', 'irure', 'in', 'in', 'esse.', 'Excepteur', 'occaecat']\n"
     ]
    }
   ],
   "source": [
    "sesli_kelimeler = sesli_kelimeleri_ver_comp(paragraph)\n",
    "print(sesli_kelimeler)"
   ]
  },
  {
   "cell_type": "markdown",
   "id": "yellow-hierarchy",
   "metadata": {},
   "source": [
    "---"
   ]
  },
  {
   "cell_type": "markdown",
   "id": "checked-office",
   "metadata": {},
   "source": [
    "**Soru 5:**\n",
    "\n",
    "Sıfırdan 20'e (dahil) kadar olan tüm sayıların karesini alan bir fonksiyon yazın. Adı **kareler_sozlugu** olsun.\n",
    "\n",
    "Fonksiyon kareleri bir Dictionary olarak dönsün. Dictionary'nin key'i sayının kendisi, value'su ise sayının karesi olsun. \n",
    "\n",
    "**{sayi: karesi}** şeklinde.\n",
    "\n",
    "**İpuçları:**\n",
    "* döngü kullanmayın\n",
    "* direk comprehension ile yapın\n",
    "\n",
    "<pre style=\"background: gold\">\n",
    "{0: 0, 1: 1, 2: 4, 3: 9, 4: 16, 5: 25, 6: 36, 7: 49, 8: 64, 9: 81, 10: 100, 11: 121, 12: 144, 13: 169, 14: 196, 15: 225, 16: 256, 17: 289, 18: 324, 19: 361, 20: 400}\n",
    "</pre>"
   ]
  },
  {
   "cell_type": "code",
   "execution_count": 48,
   "id": "cognitive-banking",
   "metadata": {},
   "outputs": [],
   "source": [
    "# Çözüm 5:\n",
    "\n",
    "# Sıfırdan 20'ye kadar olan tüm sayıların karesini alalım\n",
    "# {sayi: karesi}\n",
    "\n"
   ]
  },
  {
   "cell_type": "code",
   "execution_count": 49,
   "id": "absent-bookmark",
   "metadata": {},
   "outputs": [
    {
     "name": "stdout",
     "output_type": "stream",
     "text": [
      "{0: 0, 1: 1, 2: 4, 3: 9, 4: 16, 5: 25, 6: 36, 7: 49, 8: 64, 9: 81, 10: 100, 11: 121, 12: 144, 13: 169, 14: 196, 15: 225, 16: 256, 17: 289, 18: 324, 19: 361, 20: 400}\n"
     ]
    }
   ],
   "source": [
    "kare_sozlugu = kareler_sozlugu()\n",
    "print(kare_sozlugu)"
   ]
  },
  {
   "cell_type": "markdown",
   "id": "underlying-arrival",
   "metadata": {},
   "source": [
    "---"
   ]
  },
  {
   "cell_type": "markdown",
   "id": "adjustable-drawing",
   "metadata": {},
   "source": [
    "**Soru 6:**\n",
    "\n",
    "Parametre olarak bir sözlük alan bir fonksiyon yazın. Adı **numaralari_ve_adlar** olsun.\n",
    "\n",
    "Parametre olarak gelen sözlük şu şekilde olacak:\n",
    "<pre>\n",
    "{1: ['Aziz Vefa', 24],\n",
    " 2: ['Kaiser Soze', 100],\n",
    " 3: ['Zozo The Kid', 45],\n",
    " 4: ['Jonny Lash', 70]}\n",
    "</pre>\n",
    "\n",
    "Fonksiyonunuz sadece numaraları ve adları alarak yeni bir sözlük yaratacak ve bu sözlüğü dönecek.\n",
    "\n",
    "Önce for döngüsü sonra comprehension ile yapınız. Comprehension ile fonksiyon adı **numaralari_ve_adlar_comp** olsun.\n",
    "\n",
    "<pre style=\"background: gold\">\n",
    "Sonuc:\n",
    "{1: 'Aziz Vefa', 2: 'Kaiser Soze', 3: 'Zozo The Kid', 4: 'Jonny Lash'}\n",
    "</pre>"
   ]
  },
  {
   "cell_type": "code",
   "execution_count": 54,
   "id": "altered-acrobat",
   "metadata": {},
   "outputs": [],
   "source": [
    "# Çözüm 6:\n",
    "\n",
    "\n",
    "    "
   ]
  },
  {
   "cell_type": "code",
   "execution_count": 55,
   "id": "greatest-terrace",
   "metadata": {},
   "outputs": [
    {
     "data": {
      "text/plain": [
       "{1: 'Aziz Vefa', 2: 'Kaiser Soze', 3: 'Zozo The Kid', 4: 'Jonny Lash'}"
      ]
     },
     "execution_count": 55,
     "metadata": {},
     "output_type": "execute_result"
    }
   ],
   "source": [
    "ogrenci_bilgileri = {1: ['Aziz Vefa', 24], \n",
    "                     2: ['Kaiser Soze', 100], \n",
    "                     3: ['Zozo The Kid', 45], \n",
    "                     4: ['Jonny Lash', 70]}\n",
    "\n",
    "adlar_sozlugu = numaralari_ve_adlar(ogrenci_bilgileri)\n",
    "adlar_sozlugu"
   ]
  },
  {
   "cell_type": "code",
   "execution_count": 56,
   "id": "regulation-basement",
   "metadata": {},
   "outputs": [],
   "source": [
    "# dictionary comprehension ile dönelim şimdi\n",
    "\n"
   ]
  },
  {
   "cell_type": "code",
   "execution_count": 57,
   "id": "direct-fruit",
   "metadata": {},
   "outputs": [
    {
     "data": {
      "text/plain": [
       "{1: 'Aziz Vefa', 2: 'Kaiser Soze', 3: 'Zozo The Kid', 4: 'Jonny Lash'}"
      ]
     },
     "execution_count": 57,
     "metadata": {},
     "output_type": "execute_result"
    }
   ],
   "source": [
    "ogrenci_bilgileri = {1: ['Aziz Vefa', 24], \n",
    "                     2: ['Kaiser Soze', 100], \n",
    "                     3: ['Zozo The Kid', 45], \n",
    "                     4: ['Jonny Lash', 70]}\n",
    "\n",
    "adlar_sozlugu = numaralari_ve_adlar_comp(ogrenci_bilgileri)\n",
    "adlar_sozlugu"
   ]
  },
  {
   "cell_type": "markdown",
   "id": "tropical-water",
   "metadata": {},
   "source": [
    "---"
   ]
  },
  {
   "cell_type": "markdown",
   "id": "precious-thong",
   "metadata": {},
   "source": [
    "**Soru 7:**\n",
    "\n",
    "Parametre olarak bir sözlük alan bir fonksiyon yazın. Adı **tek_numarali_adlar** olsun.\n",
    "\n",
    "Parametre olarak gelen sözlük şu şekilde olacak:\n",
    "<pre>\n",
    "{1: ['Aziz Vefa', 24],\n",
    " 2: ['Kaiser Soze', 100],\n",
    " 3: ['Zozo The Kid', 45],\n",
    " 4: ['Jonny Lash', 70]}\n",
    "</pre>\n",
    "\n",
    "Fonksiyonunuz sadece **tek** numaraları ve adları alarak yeni bir sözlük yaratacak ve bu sözlüğü dönecek.\n",
    "\n",
    "**İpuçları:**\n",
    "* dongu kullanmayın\n",
    "* direk comprehension ile yapınız\n",
    "\n",
    "<pre style=\"background: gold\">\n",
    "Sonuc:\n",
    "{1: 'Aziz Vefa', 3: 'Zozo The Kid'}\n",
    "</pre>"
   ]
  },
  {
   "cell_type": "code",
   "execution_count": 61,
   "id": "tutorial-worship",
   "metadata": {},
   "outputs": [],
   "source": [
    "# Çözüm 7:\n",
    "\n",
    "# Şimdi tek numaralı adları alalım sadece\n",
    "\n",
    "\n"
   ]
  },
  {
   "cell_type": "code",
   "execution_count": 62,
   "id": "presidential-politics",
   "metadata": {},
   "outputs": [
    {
     "data": {
      "text/plain": [
       "{1: 'Aziz Vefa', 3: 'Zozo The Kid'}"
      ]
     },
     "execution_count": 62,
     "metadata": {},
     "output_type": "execute_result"
    }
   ],
   "source": [
    "ogrenci_bilgileri = {1: ['Aziz Vefa', 24], \n",
    "                     2: ['Kaiser Soze', 100], \n",
    "                     3: ['Zozo The Kid', 45], \n",
    "                     4: ['Jonny Lash', 70]}\n",
    "\n",
    "tek_adlar_sozlugu = tek_numarali_adlar(ogrenci_bilgileri)\n",
    "tek_adlar_sozlugu"
   ]
  },
  {
   "cell_type": "markdown",
   "id": "sunrise-aerospace",
   "metadata": {},
   "source": [
    "---"
   ]
  },
  {
   "cell_type": "markdown",
   "id": "asian-faith",
   "metadata": {},
   "source": [
    "**Soru 8:**\n",
    "\n",
    "Parametre olarak İngilizce bir metin alan bir fonksiyon yazınız. Fonksiyonun adı **kelime_uzunluklari** olsun.\n",
    "\n",
    "Fonksiyon iki liste dönsün. Listelerden biri kelimeleri içersin. Diğer liste ise kelime uzunluklarını.\n",
    "\n",
    "Eğer kelime ('the', 'in', 'as', 'at') kelimelerinden biri ise onu almasın.\n",
    "\n",
    "**İpuçları:**\n",
    "* bir fonksiyon nasıl iki liste döner? -> Tuple\n",
    "* döngü kullanmayın\n",
    "* comprehension ile yapın\n",
    "\n",
    "<pre style=\"background: gold\">\n",
    "Parametre:\n",
    "\"It takes all the running you can do, to keep in the same place. If you want to get somewhere else, you must run at least twice as fast as that!\"\n",
    "\n",
    "Sonuc:\n",
    "['It', 'takes', 'all', 'running', 'you', 'can', 'do,', 'to', 'keep', 'same', 'place.', 'If', 'you', 'want', 'to', 'get', 'somewhere', 'else,', 'you', 'must', 'run', 'least', 'twice', 'fast', 'that!']\n",
    "[2, 5, 3, 7, 3, 3, 3, 2, 4, 4, 6, 2, 3, 4, 2, 3, 9, 5, 3, 4, 3, 5, 5, 4, 5]\n",
    "</pre>"
   ]
  },
  {
   "cell_type": "code",
   "execution_count": 75,
   "id": "foreign-recall",
   "metadata": {},
   "outputs": [],
   "source": [
    "# Çözüm 8:\n",
    "\n"
   ]
  },
  {
   "cell_type": "code",
   "execution_count": 76,
   "id": "baking-affairs",
   "metadata": {},
   "outputs": [
    {
     "name": "stdout",
     "output_type": "stream",
     "text": [
      "It takes all the running you can do, to keep in the same place. \n",
      "If you want to get somewhere else, you must run at least twice as fast as that!\n"
     ]
    }
   ],
   "source": [
    "# Alice Harikalar Diyarında kitabından şu metni verelim.\n",
    "\n",
    "alice_in_wonderland = \"\"\"It takes all the running you can do, to keep in the same place. \n",
    "If you want to get somewhere else, you must run at least twice as fast as that!\"\"\"\n",
    "\n",
    "print(alice_in_wonderland)"
   ]
  },
  {
   "cell_type": "code",
   "execution_count": 77,
   "id": "nasty-parish",
   "metadata": {},
   "outputs": [],
   "source": [
    "# fonksiyonu çağıralım ve tuple olarak dönen değerleri ayrı ayrı listelere atayalım\n",
    "\n",
    "kelimeler, uzunluklar = kelime_uzunluklari(alice_in_wonderland)"
   ]
  },
  {
   "cell_type": "code",
   "execution_count": 78,
   "id": "skilled-workstation",
   "metadata": {},
   "outputs": [
    {
     "name": "stdout",
     "output_type": "stream",
     "text": [
      "['It', 'takes', 'all', 'running', 'you', 'can', 'do,', 'to', 'keep', 'same', 'place.', 'If', 'you', 'want', 'to', 'get', 'somewhere', 'else,', 'you', 'must', 'run', 'least', 'twice', 'fast', 'that!']\n",
      "[2, 5, 3, 7, 3, 3, 3, 2, 4, 4, 6, 2, 3, 4, 2, 3, 9, 5, 3, 4, 3, 5, 5, 4, 5]\n"
     ]
    }
   ],
   "source": [
    "# şimdi bu listeleri yazdıralım\n",
    "\n",
    "print(kelimeler)\n",
    "print(uzunluklar)"
   ]
  },
  {
   "cell_type": "markdown",
   "id": "proud-study",
   "metadata": {},
   "source": [
    "Bu arada Alice Harikalar Diyarında'dan verdiğimiz bu enfes metnin Türkçesi şu :)\n",
    "\n",
    "<pre>\n",
    "Gördüğün gibi burada, bütün gücünle koşarsan ancak durduğun yerde durursun. Başka bir yere ulaşmak için bundan en azından iki kat fazla koşmalısın!\n",
    "</pre>"
   ]
  },
  {
   "cell_type": "markdown",
   "id": "understanding-seven",
   "metadata": {},
   "source": [
    "---"
   ]
  },
  {
   "cell_type": "markdown",
   "id": "vertical-prayer",
   "metadata": {},
   "source": [
    "**Soru 9:**\n",
    "\n",
    "Parametre olarak bir sayı listesi alan bir fonksiyon yazın. Adı **sadece_pozitifler** olsun.\n",
    "\n",
    "Fonksiyon liste içinden sadece pozitif sayıları alsın, tam sayı yapsın ve yeni bir liste olarak dönsün. Comprehension ile yapınız.\n",
    "\n",
    "<pre style=\"background: gold\">\n",
    "Parametre:\n",
    "[12.8, -27.2, -34.5, 58.4, -82.0, 66.6, 14.9]\n",
    "\n",
    "Sonuc:\n",
    "[12, 58, 66, 14]\n",
    "</pre>"
   ]
  },
  {
   "cell_type": "code",
   "execution_count": 81,
   "id": "seventh-policy",
   "metadata": {},
   "outputs": [],
   "source": [
    "# Çözüm 9:\n",
    "\n",
    "\n",
    "    "
   ]
  },
  {
   "cell_type": "code",
   "execution_count": 82,
   "id": "pregnant-collective",
   "metadata": {},
   "outputs": [
    {
     "name": "stdout",
     "output_type": "stream",
     "text": [
      "[12, 58, 66, 14]\n"
     ]
    }
   ],
   "source": [
    "sayilar = [12.8, -27.2, -34.5, 58.4, -82.0, 66.6, 14.9]\n",
    "\n",
    "pozitifler = sadece_pozitifler(sayilar)\n",
    "\n",
    "print(pozitifler)"
   ]
  },
  {
   "cell_type": "markdown",
   "id": "reverse-orange",
   "metadata": {},
   "source": [
    "---"
   ]
  },
  {
   "cell_type": "markdown",
   "id": "based-sharp",
   "metadata": {},
   "source": [
    "**Soru 10:**\n",
    "\n",
    "Parametre olarak içinde listeler olan, iki seviyeli bir liste alan fonksiyon yazın. Adı **listeyi_duzlestir** olsun.\n",
    "\n",
    "Fonksiyon listenin altındaki tüm listleri düzleştirip, geriye tek seviyeli bir liste dönsün.\n",
    "\n",
    "\n",
    "**İpuçları:**\n",
    "* döngü kullanmayın\n",
    "* comprehension ile yapın\n",
    "\n",
    "<pre style=\"background: gold\">\n",
    "Parametre:\n",
    "listeler_listesi = [[8,6], [3,1,4], [2,0,9], [5]]\n",
    "          \n",
    "Sonuc:\n",
    "[8, 6, 3, 1, 4, 2, 0, 9, 5]\n",
    "</pre>"
   ]
  },
  {
   "cell_type": "code",
   "execution_count": 83,
   "id": "military-mississippi",
   "metadata": {},
   "outputs": [],
   "source": [
    "# Çözüm 10:\n",
    "\n"
   ]
  },
  {
   "cell_type": "code",
   "execution_count": 84,
   "id": "behavioral-stuff",
   "metadata": {},
   "outputs": [
    {
     "data": {
      "text/plain": [
       "[8, 6, 3, 1, 4, 2, 0, 9, 5]"
      ]
     },
     "execution_count": 84,
     "metadata": {},
     "output_type": "execute_result"
    }
   ],
   "source": [
    "listeler = [[8,6], [3,1,4], [2,0,9], [5]]\n",
    "\n",
    "duz_liste = listeyi_duzlestir(listeler)\n",
    "\n",
    "duz_liste"
   ]
  }
 ],
 "metadata": {
  "kernelspec": {
   "display_name": "Python 3",
   "language": "python",
   "name": "python3"
  },
  "language_info": {
   "codemirror_mode": {
    "name": "ipython",
    "version": 3
   },
   "file_extension": ".py",
   "mimetype": "text/x-python",
   "name": "python",
   "nbconvert_exporter": "python",
   "pygments_lexer": "ipython3",
   "version": "3.8.5"
  }
 },
 "nbformat": 4,
 "nbformat_minor": 5
}
