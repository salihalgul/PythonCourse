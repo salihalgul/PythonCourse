{
 "cells": [
  {
   "cell_type": "markdown",
   "id": "agreed-involvement",
   "metadata": {},
   "source": [
    "## [10 Soru] QUIZ - Comprehension - Çözümü"
   ]
  },
  {
   "cell_type": "markdown",
   "id": "matched-sunrise",
   "metadata": {},
   "source": [
    "**Soru 1:**\n",
    "\n",
    "Önce for dögüsü ile 1 den 10'a (hariç) kadar olan sayıların karelerini veren bir fonksiyon yazın. Adı **kareleri_ver** olsun.\n",
    "\n",
    "Ardından aynı fonksiyonu comprehension ile yazın. Adı **kareleri_ver_comp** olsun.\n",
    "\n",
    "<pre style=\"background: gold\">\n",
    "[1, 4, 9, 16, 25, 36, 49, 64, 81]\n",
    "</pre>"
   ]
  },
  {
   "cell_type": "code",
   "execution_count": 1,
   "id": "excessive-southwest",
   "metadata": {},
   "outputs": [],
   "source": [
    "# Çözüm 1:\n",
    "\n",
    "# for döngüsü\n",
    "def kareleri_ver():\n",
    "    \n",
    "    kareler = []\n",
    "    \n",
    "    for i in range(1, 10):\n",
    "        kareler.append(i**2)\n",
    "\n",
    "    return kareler"
   ]
  },
  {
   "cell_type": "code",
   "execution_count": 2,
   "id": "leading-force",
   "metadata": {},
   "outputs": [
    {
     "data": {
      "text/plain": [
       "[1, 4, 9, 16, 25, 36, 49, 64, 81]"
      ]
     },
     "execution_count": 2,
     "metadata": {},
     "output_type": "execute_result"
    }
   ],
   "source": [
    "kareler = kareleri_ver()\n",
    "kareler"
   ]
  },
  {
   "cell_type": "code",
   "execution_count": 3,
   "id": "challenging-rough",
   "metadata": {},
   "outputs": [],
   "source": [
    "# comprehension\n",
    "\n",
    "def kareleri_ver_comp():\n",
    "    \n",
    "    kareler = [x**2 for x in range(1, 10)]\n",
    "    \n",
    "    return kareler\n"
   ]
  },
  {
   "cell_type": "code",
   "execution_count": 4,
   "id": "loose-equilibrium",
   "metadata": {},
   "outputs": [
    {
     "data": {
      "text/plain": [
       "[1, 4, 9, 16, 25, 36, 49, 64, 81]"
      ]
     },
     "execution_count": 4,
     "metadata": {},
     "output_type": "execute_result"
    }
   ],
   "source": [
    "kareler = kareleri_ver_comp()\n",
    "kareler"
   ]
  },
  {
   "cell_type": "markdown",
   "id": "altered-stamp",
   "metadata": {},
   "source": [
    "---"
   ]
  },
  {
   "cell_type": "markdown",
   "id": "herbal-refrigerator",
   "metadata": {},
   "source": [
    "**Soru 2:**\n",
    "\n",
    "Parametre olarak, cümlelerden oluşan bir paragraf listesi alan bir fonksiyon yazın. Adı **cumleleri_ver** olsun.\n",
    "\n",
    "Fonksiyon bu paragraf listesi içindeki cümleleri dönsün.\n",
    "\n",
    "Önce for döngüsü sonra comprehension ile yapınız. Comprehension ile fonksiyon adı **cumleleri_ver_comp** olsun.\n",
    "\n",
    "<pre style=\"background: gold\">\n",
    "paragraph = [\"Lorem ipsum dolor sit amet, consectetur adipiscing elit.\",\n",
    "             \"Ut enim ad minim veniam, quis nostrud exercitation ullamco.\",\n",
    "             \"Duis aute irure dolor in reprehenderit in voluptate velit esse.\",\n",
    "             \"Excepteur sint occaecat cupidatat non proident.\"]\n",
    "</pre>"
   ]
  },
  {
   "cell_type": "code",
   "execution_count": 8,
   "id": "cooked-symposium",
   "metadata": {},
   "outputs": [],
   "source": [
    "# Çözüm 2:\n",
    "\n",
    "# for döngüsü ile\n",
    "# paragraph içindeki cümleleri yazalım\n",
    "def cumleleri_ver(paragraph):\n",
    "    \n",
    "    cumleler = []\n",
    "    \n",
    "    for cumle in paragraph:\n",
    "        cumleler.append(cumle)\n",
    "\n",
    "    return cumleler\n"
   ]
  },
  {
   "cell_type": "code",
   "execution_count": 9,
   "id": "southwest-parks",
   "metadata": {},
   "outputs": [],
   "source": [
    "paragraph = [\"Lorem ipsum dolor sit amet, consectetur adipiscing elit.\",\n",
    "             \"Ut enim ad minim veniam, quis nostrud exercitation ullamco.\",\n",
    "             \"Duis aute irure dolor in reprehenderit in voluptate velit esse.\",\n",
    "             \"Excepteur sint occaecat cupidatat non proident.\"]"
   ]
  },
  {
   "cell_type": "code",
   "execution_count": 10,
   "id": "limited-small",
   "metadata": {},
   "outputs": [
    {
     "data": {
      "text/plain": [
       "['Lorem ipsum dolor sit amet, consectetur adipiscing elit.',\n",
       " 'Ut enim ad minim veniam, quis nostrud exercitation ullamco.',\n",
       " 'Duis aute irure dolor in reprehenderit in voluptate velit esse.',\n",
       " 'Excepteur sint occaecat cupidatat non proident.']"
      ]
     },
     "execution_count": 10,
     "metadata": {},
     "output_type": "execute_result"
    }
   ],
   "source": [
    "cumleler = cumleleri_ver(paragraph)\n",
    "cumleler"
   ]
  },
  {
   "cell_type": "code",
   "execution_count": 11,
   "id": "corrected-chrome",
   "metadata": {},
   "outputs": [],
   "source": [
    "# cumleleri comprehension ile alalım şimdi\n",
    "\n",
    "def cumleleri_ver_comp(paragraph):\n",
    "    \n",
    "    cumleler = [cumle for cumle in paragraph]\n",
    "    \n",
    "    return cumleler\n"
   ]
  },
  {
   "cell_type": "code",
   "execution_count": 12,
   "id": "vocal-button",
   "metadata": {},
   "outputs": [
    {
     "data": {
      "text/plain": [
       "['Lorem ipsum dolor sit amet, consectetur adipiscing elit.',\n",
       " 'Ut enim ad minim veniam, quis nostrud exercitation ullamco.',\n",
       " 'Duis aute irure dolor in reprehenderit in voluptate velit esse.',\n",
       " 'Excepteur sint occaecat cupidatat non proident.']"
      ]
     },
     "execution_count": 12,
     "metadata": {},
     "output_type": "execute_result"
    }
   ],
   "source": [
    "cumleler = cumleleri_ver_comp(paragraph)\n",
    "cumleler"
   ]
  },
  {
   "cell_type": "markdown",
   "id": "spread-median",
   "metadata": {},
   "source": [
    "---"
   ]
  },
  {
   "cell_type": "markdown",
   "id": "provincial-jacket",
   "metadata": {},
   "source": [
    "**Soru 3:**\n",
    "\n",
    "Soru 2'deki paragrafı alıp bu sefer tüm cümlelerdeki tüm kelimeleri tek bir liste içinde dönen bir fonksiyon yazalım. Adı **kelimeleri_ver** olsun.\n",
    "\n",
    "Önce for döngüleri ile sonra comprehension ile yapınız. Comprehension ile adı **kelimeleri_ver_comp** olsun.\n",
    "\n",
    "<pre style=\"background: gold\">\n",
    "paragraph = [\"Lorem ipsum dolor sit amet, consectetur adipiscing elit.\",\n",
    "             \"Ut enim ad minim veniam, quis nostrud exercitation ullamco.\",\n",
    "             \"Duis aute irure dolor in reprehenderit in voluptate velit esse.\",\n",
    "             \"Excepteur sint occaecat cupidatat non proident.\"]\n",
    "             \n",
    "Sonuç:\n",
    "['Lorem', 'ipsum', 'dolor', 'sit', 'amet,', 'consectetur', 'adipiscing', 'elit.', 'Ut', 'enim', 'ad', 'minim', 'veniam,', 'quis', 'nostrud', 'exercitation', 'ullamco.', 'Duis', 'aute', 'irure', 'dolor', 'in', 'reprehenderit', 'in', 'voluptate', 'velit', 'esse.', 'Excepteur', 'sint', 'occaecat', 'cupidatat', 'non', 'proident.']\n",
    "</pre>"
   ]
  },
  {
   "cell_type": "code",
   "execution_count": 13,
   "id": "emerging-bernard",
   "metadata": {},
   "outputs": [],
   "source": [
    "# Çözüm 3:\n",
    "\n",
    "# for döngüleri ile\n",
    "# paragraph'taki tüm kelimeleri alalım\n",
    "\n",
    "def kelimeleri_ver(paragraph):\n",
    "    \n",
    "    kelimeler = []\n",
    "    \n",
    "    for cumle in paragraph:\n",
    "        for kelime in cumle.split():\n",
    "            kelimeler.append(kelime)\n",
    "    \n",
    "    return kelimeler\n"
   ]
  },
  {
   "cell_type": "code",
   "execution_count": 14,
   "id": "covered-illinois",
   "metadata": {},
   "outputs": [
    {
     "name": "stdout",
     "output_type": "stream",
     "text": [
      "['Lorem', 'ipsum', 'dolor', 'sit', 'amet,', 'consectetur', 'adipiscing', 'elit.', 'Ut', 'enim', 'ad', 'minim', 'veniam,', 'quis', 'nostrud', 'exercitation', 'ullamco.', 'Duis', 'aute', 'irure', 'dolor', 'in', 'reprehenderit', 'in', 'voluptate', 'velit', 'esse.', 'Excepteur', 'sint', 'occaecat', 'cupidatat', 'non', 'proident.']\n"
     ]
    }
   ],
   "source": [
    "kelimeler = kelimeleri_ver(paragraph)\n",
    "print(kelimeler)"
   ]
  },
  {
   "cell_type": "code",
   "execution_count": 15,
   "id": "answering-digit",
   "metadata": {},
   "outputs": [],
   "source": [
    "# şimdi paragraph'taki tüm kelimeleri list comprehension ile alalım\n",
    "\n",
    "def kelimeleri_ver_comp(paragraph):\n",
    "    \n",
    "    kelimeler = [kelime\n",
    "                 for cumle in paragraph\n",
    "                 for kelime in cumle.split()]\n",
    "    \n",
    "    return kelimeler"
   ]
  },
  {
   "cell_type": "code",
   "execution_count": 16,
   "id": "handmade-benefit",
   "metadata": {},
   "outputs": [
    {
     "name": "stdout",
     "output_type": "stream",
     "text": [
      "['Lorem', 'ipsum', 'dolor', 'sit', 'amet,', 'consectetur', 'adipiscing', 'elit.', 'Ut', 'enim', 'ad', 'minim', 'veniam,', 'quis', 'nostrud', 'exercitation', 'ullamco.', 'Duis', 'aute', 'irure', 'dolor', 'in', 'reprehenderit', 'in', 'voluptate', 'velit', 'esse.', 'Excepteur', 'sint', 'occaecat', 'cupidatat', 'non', 'proident.']\n"
     ]
    }
   ],
   "source": [
    "kelimeler = kelimeleri_ver_comp(paragraph)\n",
    "print(kelimeler)"
   ]
  },
  {
   "cell_type": "markdown",
   "id": "documented-centre",
   "metadata": {},
   "source": [
    "---"
   ]
  },
  {
   "cell_type": "markdown",
   "id": "innovative-thread",
   "metadata": {},
   "source": [
    "**Soru 4:**\n",
    "\n",
    "Soru 2'deki paragrafı alıp bu sefer tüm cümlelerdeki sadece sesli harfle başlayan kelimeleri tek bir liste içinde dönen bir fonksiyon yazalım. Adı **sesli_kelimeleri_ver** olsun.\n",
    "\n",
    "Önce for döngüleri ile sonra comprehension ile yapınız. Comprehension ile adı **sesli_kelimeleri_ver_comp** olsun.\n",
    "\n",
    "<pre style=\"background: gold\">\n",
    "paragraph = [\"Lorem ipsum dolor sit amet, consectetur adipiscing elit.\",\n",
    "             \"Ut enim ad minim veniam, quis nostrud exercitation ullamco.\",\n",
    "             \"Duis aute irure dolor in reprehenderit in voluptate velit esse.\",\n",
    "             \"Excepteur sint occaecat cupidatat non proident.\"]\n",
    "             \n",
    "Sonuç:\n",
    "['ipsum', 'amet,', 'adipiscing', 'elit.', 'Ut', 'enim', 'ad', 'exercitation', 'ullamco.', 'aute', 'irure', 'in', 'in', 'esse.', 'Excepteur', 'occaecat']\n",
    "</pre>"
   ]
  },
  {
   "cell_type": "code",
   "execution_count": 17,
   "id": "canadian-merchant",
   "metadata": {},
   "outputs": [],
   "source": [
    "# Çözüm 4:\n",
    "\n",
    "# for döngüleri ile\n",
    "# paragraph içindeki sesli harf ile başlayan kelimeleri bulalım\n",
    "\n",
    "def sesli_kelimeleri_ver(paragraph):\n",
    "    \n",
    "    sesliler = ['a', 'e', 'i', 'o', 'u']\n",
    "    \n",
    "    sesli_kelimeler = []\n",
    "    \n",
    "    for cumle in paragraph:\n",
    "        for kelime in cumle.split():\n",
    "            if kelime[0].lower() in sesliler:\n",
    "                sesli_kelimeler.append(kelime)\n",
    "                \n",
    "    return sesli_kelimeler\n"
   ]
  },
  {
   "cell_type": "code",
   "execution_count": 18,
   "id": "signal-assignment",
   "metadata": {},
   "outputs": [
    {
     "name": "stdout",
     "output_type": "stream",
     "text": [
      "['ipsum', 'amet,', 'adipiscing', 'elit.', 'Ut', 'enim', 'ad', 'exercitation', 'ullamco.', 'aute', 'irure', 'in', 'in', 'esse.', 'Excepteur', 'occaecat']\n"
     ]
    }
   ],
   "source": [
    "sesli_kelimeler = sesli_kelimeleri_ver(paragraph)\n",
    "print(sesli_kelimeler)"
   ]
  },
  {
   "cell_type": "code",
   "execution_count": 19,
   "id": "radio-mineral",
   "metadata": {},
   "outputs": [],
   "source": [
    "# sesli harf ile başlayan kelimeleri list comprehension ile bulalım\n",
    "\n",
    "def sesli_kelimeleri_ver_comp(paragraph):\n",
    "    \n",
    "    sesliler = ['a', 'e', 'i', 'o', 'u']\n",
    "    \n",
    "    return [kelime\n",
    "            for cumle in paragraph\n",
    "            for kelime in cumle.split()\n",
    "            if kelime[0].lower() in sesliler]          \n"
   ]
  },
  {
   "cell_type": "code",
   "execution_count": 20,
   "id": "collect-companion",
   "metadata": {},
   "outputs": [
    {
     "name": "stdout",
     "output_type": "stream",
     "text": [
      "['ipsum', 'amet,', 'adipiscing', 'elit.', 'Ut', 'enim', 'ad', 'exercitation', 'ullamco.', 'aute', 'irure', 'in', 'in', 'esse.', 'Excepteur', 'occaecat']\n"
     ]
    }
   ],
   "source": [
    "sesli_kelimeler = sesli_kelimeleri_ver_comp(paragraph)\n",
    "print(sesli_kelimeler)"
   ]
  },
  {
   "cell_type": "markdown",
   "id": "twenty-anaheim",
   "metadata": {},
   "source": [
    "---"
   ]
  },
  {
   "cell_type": "markdown",
   "id": "sustained-controversy",
   "metadata": {},
   "source": [
    "**Soru 5:**\n",
    "\n",
    "Sıfırdan 20'e (dahil) kadar olan tüm sayıların karesini alan bir fonksiyon yazın. Adı **kareler_sozlugu** olsun.\n",
    "\n",
    "Fonksiyon kareleri bir Dictionary olarak dönsün. Dictionary'nin key'i sayının kendisi, value'su ise sayının karesi olsun. \n",
    "\n",
    "**{sayi: karesi}** şeklinde.\n",
    "\n",
    "**İpuçları:**\n",
    "* döngü kullanmayın\n",
    "* direk comprehension ile yapın\n",
    "\n",
    "<pre style=\"background: gold\">\n",
    "{0: 0, 1: 1, 2: 4, 3: 9, 4: 16, 5: 25, 6: 36, 7: 49, 8: 64, 9: 81, 10: 100, 11: 121, 12: 144, 13: 169, 14: 196, 15: 225, 16: 256, 17: 289, 18: 324, 19: 361, 20: 400}\n",
    "</pre>"
   ]
  },
  {
   "cell_type": "code",
   "execution_count": 21,
   "id": "signal-robertson",
   "metadata": {},
   "outputs": [],
   "source": [
    "# Çözüm 5:\n",
    "\n",
    "# Sıfırdan 20'ye kadar olan tüm sayıların karesini alalım\n",
    "# {sayi: karesi}\n",
    "\n",
    "def kareler_sozlugu():\n",
    "    \n",
    "    kareler = {num: num**2 for num in range(0, 21)}\n",
    "    \n",
    "    return kareler\n"
   ]
  },
  {
   "cell_type": "code",
   "execution_count": 22,
   "id": "aboriginal-telescope",
   "metadata": {},
   "outputs": [
    {
     "name": "stdout",
     "output_type": "stream",
     "text": [
      "{0: 0, 1: 1, 2: 4, 3: 9, 4: 16, 5: 25, 6: 36, 7: 49, 8: 64, 9: 81, 10: 100, 11: 121, 12: 144, 13: 169, 14: 196, 15: 225, 16: 256, 17: 289, 18: 324, 19: 361, 20: 400}\n"
     ]
    }
   ],
   "source": [
    "kare_sozlugu = kareler_sozlugu()\n",
    "print(kare_sozlugu)"
   ]
  },
  {
   "cell_type": "markdown",
   "id": "standard-cosmetic",
   "metadata": {},
   "source": [
    "---"
   ]
  },
  {
   "cell_type": "markdown",
   "id": "interpreted-queens",
   "metadata": {},
   "source": [
    "**Soru 6:**\n",
    "\n",
    "Parametre olarak bir sözlük alan bir fonksiyon yazın. Adı **numaralari_ve_adlar** olsun.\n",
    "\n",
    "Parametre olarak gelen sözlük şu şekilde olacak:\n",
    "<pre>\n",
    "{1: ['Aziz Vefa', 24],\n",
    " 2: ['Kaiser Soze', 100],\n",
    " 3: ['Zozo The Kid', 45],\n",
    " 4: ['Jonny Lash', 70]}\n",
    "</pre>\n",
    "\n",
    "Fonksiyonunuz sadece numaraları ve adları alarak yeni bir sözlük yaratacak ve bu sözlüğü dönecek.\n",
    "\n",
    "Önce for döngüsü sonra comprehension ile yapınız. Comprehension ile fonksiyon adı **numaralari_ve_adlar_comp** olsun.\n",
    "\n",
    "<pre style=\"background: gold\">\n",
    "Sonuc:\n",
    "{1: 'Aziz Vefa', 2: 'Kaiser Soze', 3: 'Zozo The Kid', 4: 'Jonny Lash'}\n",
    "</pre>"
   ]
  },
  {
   "cell_type": "code",
   "execution_count": 23,
   "id": "approved-plant",
   "metadata": {},
   "outputs": [],
   "source": [
    "# Çözüm 6:\n",
    "\n",
    "def numaralari_ve_adlar(ogrenci_bilgileri):\n",
    "    \n",
    "    adlar_sozlugu = {}\n",
    "    \n",
    "    for key, value in ogrenci_bilgileri.items():\n",
    "        adlar_sozlugu[key] = value[0]\n",
    "        \n",
    "    return adlar_sozlugu\n",
    "    "
   ]
  },
  {
   "cell_type": "code",
   "execution_count": 24,
   "id": "racial-pride",
   "metadata": {},
   "outputs": [
    {
     "data": {
      "text/plain": [
       "{1: 'Aziz Vefa', 2: 'Kaiser Soze', 3: 'Zozo The Kid', 4: 'Jonny Lash'}"
      ]
     },
     "execution_count": 24,
     "metadata": {},
     "output_type": "execute_result"
    }
   ],
   "source": [
    "ogrenci_bilgileri = {1: ['Aziz Vefa', 24], \n",
    "                     2: ['Kaiser Soze', 100], \n",
    "                     3: ['Zozo The Kid', 45], \n",
    "                     4: ['Jonny Lash', 70]}\n",
    "\n",
    "adlar_sozlugu = numaralari_ve_adlar(ogrenci_bilgileri)\n",
    "adlar_sozlugu"
   ]
  },
  {
   "cell_type": "code",
   "execution_count": 25,
   "id": "forbidden-healthcare",
   "metadata": {},
   "outputs": [],
   "source": [
    "# dictionary comprehension ile dönelim şimdi\n",
    "\n",
    "def numaralari_ve_adlar_comp(ogrenci_bilgileri):\n",
    "    \n",
    "    return {sira: ad[0] for sira, ad in ogrenci_bilgileri.items()}\n"
   ]
  },
  {
   "cell_type": "code",
   "execution_count": 26,
   "id": "educated-juice",
   "metadata": {},
   "outputs": [
    {
     "data": {
      "text/plain": [
       "{1: 'Aziz Vefa', 2: 'Kaiser Soze', 3: 'Zozo The Kid', 4: 'Jonny Lash'}"
      ]
     },
     "execution_count": 26,
     "metadata": {},
     "output_type": "execute_result"
    }
   ],
   "source": [
    "ogrenci_bilgileri = {1: ['Aziz Vefa', 24], \n",
    "                     2: ['Kaiser Soze', 100], \n",
    "                     3: ['Zozo The Kid', 45], \n",
    "                     4: ['Jonny Lash', 70]}\n",
    "\n",
    "adlar_sozlugu = numaralari_ve_adlar_comp(ogrenci_bilgileri)\n",
    "adlar_sozlugu"
   ]
  },
  {
   "cell_type": "markdown",
   "id": "medieval-coaching",
   "metadata": {},
   "source": [
    "---"
   ]
  },
  {
   "cell_type": "markdown",
   "id": "direct-making",
   "metadata": {},
   "source": [
    "**Soru 7:**\n",
    "\n",
    "Parametre olarak bir sözlük alan bir fonksiyon yazın. Adı **tek_numarali_adlar** olsun.\n",
    "\n",
    "Parametre olarak gelen sözlük şu şekilde olacak:\n",
    "<pre>\n",
    "{1: ['Aziz Vefa', 24],\n",
    " 2: ['Kaiser Soze', 100],\n",
    " 3: ['Zozo The Kid', 45],\n",
    " 4: ['Jonny Lash', 70]}\n",
    "</pre>\n",
    "\n",
    "Fonksiyonunuz sadece **tek** numaraları ve adları alarak yeni bir sözlük yaratacak ve bu sözlüğü dönecek.\n",
    "\n",
    "**İpuçları:**\n",
    "* dongu kullanmayın\n",
    "* direk comprehension ile yapınız\n",
    "\n",
    "<pre style=\"background: gold\">\n",
    "Sonuc:\n",
    "{1: 'Aziz Vefa', 3: 'Zozo The Kid'}\n",
    "</pre>"
   ]
  },
  {
   "cell_type": "code",
   "execution_count": 31,
   "id": "innocent-inflation",
   "metadata": {},
   "outputs": [],
   "source": [
    "# Çözüm 7:\n",
    "\n",
    "# Şimdi tek numaralı adları alalım sadece\n",
    "\n",
    "def tek_numarali_adlar(ogrenci_bilgileri):\n",
    "    \n",
    "    tek_adlar_sozlugu = {key: value[0] \n",
    "                         for key, value in ogrenci_bilgileri.items()\n",
    "                         if key % 2 == 1}\n",
    "    \n",
    "    return tek_adlar_sozlugu\n"
   ]
  },
  {
   "cell_type": "code",
   "execution_count": 32,
   "id": "steady-permission",
   "metadata": {},
   "outputs": [
    {
     "data": {
      "text/plain": [
       "{1: 'Aziz Vefa', 3: 'Zozo The Kid'}"
      ]
     },
     "execution_count": 32,
     "metadata": {},
     "output_type": "execute_result"
    }
   ],
   "source": [
    "ogrenci_bilgileri = {1: ['Aziz Vefa', 24], \n",
    "                     2: ['Kaiser Soze', 100], \n",
    "                     3: ['Zozo The Kid', 45], \n",
    "                     4: ['Jonny Lash', 70]}\n",
    "\n",
    "tek_adlar_sozlugu = tek_numarali_adlar(ogrenci_bilgileri)\n",
    "tek_adlar_sozlugu"
   ]
  },
  {
   "cell_type": "markdown",
   "id": "junior-playlist",
   "metadata": {},
   "source": [
    "---"
   ]
  },
  {
   "cell_type": "markdown",
   "id": "sunrise-command",
   "metadata": {},
   "source": [
    "**Soru 8:**\n",
    "\n",
    "Parametre olarak İngilizce bir metin alan bir fonksiyon yazınız. Fonksiyonun adı **kelime_uzunluklari** olsun.\n",
    "\n",
    "Fonksiyon iki liste dönsün. Listelerden biri kelimeleri içersin. Diğer liste ise kelime uzunluklarını.\n",
    "\n",
    "Eğer kelime ('the', 'in', 'as', 'at') kelimelerinden biri ise onu almasın.\n",
    "\n",
    "**İpuçları:**\n",
    "* bir fonksiyon nasıl iki liste döner? -> Tuple\n",
    "* döngü kullanmayın\n",
    "* comprehension ile yapın\n",
    "\n",
    "<pre style=\"background: gold\">\n",
    "Parametre:\n",
    "\"It takes all the running you can do, to keep in the same place. If you want to get somewhere else, you must run at least twice as fast as that!\"\n",
    "\n",
    "Sonuc:\n",
    "['It', 'takes', 'all', 'running', 'you', 'can', 'do,', 'to', 'keep', 'same', 'place.', 'If', 'you', 'want', 'to', 'get', 'somewhere', 'else,', 'you', 'must', 'run', 'least', 'twice', 'fast', 'that!']\n",
    "[2, 5, 3, 7, 3, 3, 3, 2, 4, 4, 6, 2, 3, 4, 2, 3, 9, 5, 3, 4, 3, 5, 5, 4, 5]\n",
    "</pre>"
   ]
  },
  {
   "cell_type": "code",
   "execution_count": 41,
   "id": "quick-check",
   "metadata": {},
   "outputs": [],
   "source": [
    "# Çözüm 8:\n",
    "\n",
    "def kelime_uzunluklari(metin):\n",
    "    \n",
    "    #önce kelimeleri alalım\n",
    "    kelimeler = metin.split()\n",
    "    \n",
    "    # yasak kelimeler \n",
    "    yasaklar = ('the', 'in', 'as', 'at')\n",
    "    \n",
    "    # comprehension\n",
    "    kelime_listesi = [kelime \n",
    "                      for kelime in kelimeler \n",
    "                          if kelime not in yasaklar]\n",
    "    uzunluklar = [len(kelime) \n",
    "                  for kelime in kelimeler \n",
    "                      if kelime not in yasaklar]\n",
    "    \n",
    "    return (kelime_listesi, uzunluklar)\n"
   ]
  },
  {
   "cell_type": "code",
   "execution_count": 42,
   "id": "perceived-uzbekistan",
   "metadata": {},
   "outputs": [
    {
     "name": "stdout",
     "output_type": "stream",
     "text": [
      "It takes all the running you can do, to keep in the same place. \n",
      "If you want to get somewhere else, you must run at least twice as fast as that!\n"
     ]
    }
   ],
   "source": [
    "# Alice Harikalar Diyarında kitabından şu metni verelim.\n",
    "\n",
    "alice_in_wonderland = \"\"\"It takes all the running you can do, to keep in the same place. \n",
    "If you want to get somewhere else, you must run at least twice as fast as that!\"\"\"\n",
    "\n",
    "print(alice_in_wonderland)"
   ]
  },
  {
   "cell_type": "code",
   "execution_count": 39,
   "id": "extra-power",
   "metadata": {},
   "outputs": [],
   "source": [
    "# fonksiyonu çağıralım ve tuple olarak dönen değerleri ayrı ayrı listelere atayalım\n",
    "\n",
    "kelimeler, uzunluklar = kelime_uzunluklari(alice_in_wonderland)"
   ]
  },
  {
   "cell_type": "code",
   "execution_count": 40,
   "id": "monetary-fellowship",
   "metadata": {},
   "outputs": [
    {
     "name": "stdout",
     "output_type": "stream",
     "text": [
      "['It', 'takes', 'all', 'the', 'running', 'you', 'can', 'do,', 'to', 'keep', 'in', 'the', 'same', 'place.', 'If', 'you', 'want', 'to', 'get', 'somewhere', 'else,', 'you', 'must', 'run', 'at', 'least', 'twice', 'as', 'fast', 'as', 'that!']\n",
      "[2, 5, 3, 7, 3, 3, 3, 2, 4, 4, 6, 2, 3, 4, 2, 3, 9, 5, 3, 4, 3, 5, 5, 4, 5]\n"
     ]
    }
   ],
   "source": [
    "# şimdi bu listeleri yazdıralım\n",
    "\n",
    "print(kelimeler)\n",
    "print(uzunluklar)"
   ]
  },
  {
   "cell_type": "markdown",
   "id": "american-teacher",
   "metadata": {},
   "source": [
    "Bu arada Alice Harikalar Diyarında'dan verdiğimiz bu enfes metnin Türkçesi şu :)\n",
    "\n",
    "<pre>\n",
    "Gördüğün gibi burada, bütün gücünle koşarsan ancak durduğun yerde durursun. Başka bir yere ulaşmak için bundan en azından iki kat fazla koşmalısın!\n",
    "</pre>"
   ]
  },
  {
   "cell_type": "markdown",
   "id": "cordless-abortion",
   "metadata": {},
   "source": [
    "---"
   ]
  },
  {
   "cell_type": "markdown",
   "id": "coordinate-penguin",
   "metadata": {},
   "source": [
    "**Soru 9:**\n",
    "\n",
    "Parametre olarak bir sayı listesi alan bir fonksiyon yazın. Adı **sadece_pozitifler** olsun.\n",
    "\n",
    "Fonksiyon liste içinden sadece pozitif sayıları alsın, tam sayı yapsın ve yeni bir liste olarak dönsün. Comprehension ile yapınız.\n",
    "\n",
    "<pre style=\"background: gold\">\n",
    "Parametre:\n",
    "[12.8, -27.2, -34.5, 58.4, -82.0, 66.6, 14.9]\n",
    "\n",
    "Sonuc:\n",
    "[12, 58, 66, 14]\n",
    "</pre>"
   ]
  },
  {
   "cell_type": "code",
   "execution_count": 43,
   "id": "referenced-springer",
   "metadata": {},
   "outputs": [],
   "source": [
    "# Çözüm 9:\n",
    "\n",
    "def sadece_pozitifler(liste):\n",
    "    \n",
    "    return [int(x) for x in liste if x > 0]\n",
    "    "
   ]
  },
  {
   "cell_type": "code",
   "execution_count": 45,
   "id": "possible-structure",
   "metadata": {},
   "outputs": [
    {
     "name": "stdout",
     "output_type": "stream",
     "text": [
      "[12, 58, 66, 14]\n"
     ]
    }
   ],
   "source": [
    "sayilar = [12.8, -27.2, -34.5, 58.4, -82.0, 66.6, 14.9]\n",
    "\n",
    "pozitifler = sadece_pozitifler(sayilar)\n",
    "\n",
    "print(pozitifler)"
   ]
  },
  {
   "cell_type": "markdown",
   "id": "meaningful-remainder",
   "metadata": {},
   "source": [
    "---"
   ]
  },
  {
   "cell_type": "markdown",
   "id": "comparative-split",
   "metadata": {},
   "source": [
    "**Soru 10:**\n",
    "\n",
    "Parametre olarak içinde listeler olan, iki seviyeli bir liste alan fonksiyon yazın. Adı **listeyi_duzlestir** olsun.\n",
    "\n",
    "Fonksiyon listenin altındaki tüm listleri düzleştirip, geriye tek seviyeli bir liste dönsün.\n",
    "\n",
    "\n",
    "**İpuçları:**\n",
    "* döngü kullanmayın\n",
    "* comprehension ile yapın\n",
    "\n",
    "<pre style=\"background: gold\">\n",
    "Parametre:\n",
    "listeler_listesi = [[8,6], [3,1,4], [2,0,9], [5]]\n",
    "          \n",
    "Sonuc:\n",
    "[8, 6, 3, 1, 4, 2, 0, 9, 5]\n",
    "</pre>"
   ]
  },
  {
   "cell_type": "code",
   "execution_count": 46,
   "id": "opening-building",
   "metadata": {},
   "outputs": [],
   "source": [
    "# Çözüm 10:\n",
    "\n",
    "def listeyi_duzlestir(liste):\n",
    "    \n",
    "    return [j\n",
    "            for i in liste\n",
    "            for j in i]\n"
   ]
  },
  {
   "cell_type": "code",
   "execution_count": 47,
   "id": "mobile-recommendation",
   "metadata": {},
   "outputs": [
    {
     "data": {
      "text/plain": [
       "[8, 6, 3, 1, 4, 2, 0, 9, 5]"
      ]
     },
     "execution_count": 47,
     "metadata": {},
     "output_type": "execute_result"
    }
   ],
   "source": [
    "listeler = [[8,6], [3,1,4], [2,0,9], [5]]\n",
    "\n",
    "duz_liste = listeyi_duzlestir(listeler)\n",
    "\n",
    "duz_liste"
   ]
  },
  {
   "cell_type": "code",
   "execution_count": null,
   "id": "korean-tower",
   "metadata": {},
   "outputs": [],
   "source": []
  }
 ],
 "metadata": {
  "kernelspec": {
   "display_name": "Python 3",
   "language": "python",
   "name": "python3"
  },
  "language_info": {
   "codemirror_mode": {
    "name": "ipython",
    "version": 3
   },
   "file_extension": ".py",
   "mimetype": "text/x-python",
   "name": "python",
   "nbconvert_exporter": "python",
   "pygments_lexer": "ipython3",
   "version": "3.8.5"
  }
 },
 "nbformat": 4,
 "nbformat_minor": 5
}
