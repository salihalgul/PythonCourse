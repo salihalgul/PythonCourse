{
 "cells": [
  {
   "cell_type": "markdown",
   "metadata": {},
   "source": [
    "## Proje 2 - Kelimeler"
   ]
  },
  {
   "cell_type": "markdown",
   "metadata": {},
   "source": [
    "Bu uygulamada, belirli kriterlere göre kelime arama yapacağız. \n",
    "\n",
    "Örneğin, içinde hiç sesli harf bulunmayan kelimeler hangileri yada harfleri alfabetik sıralanmış kelimler hangileridir gibi...\n",
    "\n",
    "Kelimeler bize Lorem Ipsum olarak, gelecek.\n",
    "\n",
    "**Lorem Ipsum**, dizgi ve baskı endüstrisinde kullanılan mıgır metinlerdir. \n",
    "\n",
    "Lorem Ipsum, adı bilinmeyen bir matbaacının bir hurufat numune kitabı oluşturmak üzere bir yazı galerisini alarak karıştırdığı 1500'lerden beri endüstri standardı sahte metinler olarak kullanılmıştır."
   ]
  },
  {
   "cell_type": "markdown",
   "metadata": {},
   "source": [
    "**Hazırlık:**\n",
    "\n",
    "Kelimeleri okumak için:\n",
    "\n",
    "* open() fonksiyonu\n",
    "    * open(file, mode)\n",
    "    * burada mode:\n",
    "        * r: read (default)\n",
    "        * a: append\n",
    "        * w: write\n",
    "        * x: create"
   ]
  },
  {
   "cell_type": "code",
   "execution_count": 1,
   "metadata": {},
   "outputs": [],
   "source": [
    "# open() fonksiyonu ile bir dosya açalım -> file nesnesi verir\n",
    "\n",
    "file = open('kelimeler.txt')"
   ]
  },
  {
   "cell_type": "code",
   "execution_count": 2,
   "metadata": {},
   "outputs": [
    {
     "data": {
      "text/plain": [
       "'Lorem\\n'"
      ]
     },
     "execution_count": 2,
     "metadata": {},
     "output_type": "execute_result"
    }
   ],
   "source": [
    "# ilk satırını okuyalım\n",
    "\n",
    "file.readline()"
   ]
  },
  {
   "cell_type": "code",
   "execution_count": 3,
   "metadata": {},
   "outputs": [
    {
     "data": {
      "text/plain": [
       "'ipsum\\n'"
      ]
     },
     "execution_count": 3,
     "metadata": {},
     "output_type": "execute_result"
    }
   ],
   "source": [
    "# ikinci satırı okuyalım\n",
    "\n",
    "file.readline()"
   ]
  },
  {
   "cell_type": "markdown",
   "metadata": {},
   "source": [
    "Buradaki özel karakterler:\n",
    "\n",
    "* \\n : yeni satır (new line)\n",
    "* \\r : enter tuşu (carriage return)"
   ]
  },
  {
   "cell_type": "code",
   "execution_count": 4,
   "metadata": {},
   "outputs": [
    {
     "data": {
      "text/plain": [
       "'dolor\\n'"
      ]
     },
     "execution_count": 4,
     "metadata": {},
     "output_type": "execute_result"
    }
   ],
   "source": [
    "# şimdi tek satırı alıp bir değişkene atayalım\n",
    "\n",
    "satir = file.readline()\n",
    "satir"
   ]
  },
  {
   "cell_type": "code",
   "execution_count": 7,
   "metadata": {},
   "outputs": [
    {
     "data": {
      "text/plain": [
       "['dolor']"
      ]
     },
     "execution_count": 7,
     "metadata": {},
     "output_type": "execute_result"
    }
   ],
   "source": [
    "# şimdi satir değişkenini ayıralım -> split()\n",
    "# split() fonksiyonu, default'ta boşluk karakteri ailesinden ayırma yapar (space, \\n, \\r, \\t ...)\n",
    "# bu karakterlerden parçalar.\n",
    "# geriye bir dizi -> list\n",
    "\n",
    "satir.split()"
   ]
  },
  {
   "cell_type": "code",
   "execution_count": 8,
   "metadata": {},
   "outputs": [
    {
     "data": {
      "text/plain": [
       "['örnek']"
      ]
     },
     "execution_count": 8,
     "metadata": {},
     "output_type": "execute_result"
    }
   ],
   "source": [
    "'\\nörnek\\t\\r'.split()"
   ]
  },
  {
   "cell_type": "markdown",
   "metadata": {},
   "source": [
    "Şimdi gereken parçaları öğrendiğimize göre, ilk 20 kelimeyi okuyalım:"
   ]
  },
  {
   "cell_type": "code",
   "execution_count": 9,
   "metadata": {},
   "outputs": [
    {
     "name": "stdout",
     "output_type": "stream",
     "text": [
      "Lorem\n",
      "\n",
      "ipsum\n",
      "\n",
      "dolor\n",
      "\n",
      "sit\n",
      "\n",
      "amet\n",
      "\n",
      "consectetur\n",
      "\n",
      "adipiscing\n",
      "\n",
      "elit\n",
      "\n",
      "Nulla\n",
      "\n",
      "sodales\n",
      "\n",
      "orci\n",
      "\n",
      "sed\n",
      "\n",
      "nisl\n",
      "\n",
      "tempor\n",
      "\n",
      "tristique\n",
      "\n",
      "Donec\n",
      "\n",
      "commodo\n",
      "\n",
      "non\n",
      "\n",
      "leo\n",
      "\n",
      "quis\n",
      "\n",
      "fermentum\n",
      "\n"
     ]
    }
   ],
   "source": [
    "file = open('kelimeler.txt')\n",
    "\n",
    "for index, line in enumerate(file):\n",
    "    if index <= 20:\n",
    "        print(line)\n"
   ]
  },
  {
   "cell_type": "code",
   "execution_count": 11,
   "metadata": {},
   "outputs": [
    {
     "name": "stdout",
     "output_type": "stream",
     "text": [
      "['Lorem']\n",
      "['ipsum']\n",
      "['dolor']\n",
      "['sit']\n",
      "['amet']\n",
      "['consectetur']\n",
      "['adipiscing']\n",
      "['elit']\n",
      "['Nulla']\n",
      "['sodales']\n",
      "['orci']\n",
      "['sed']\n",
      "['nisl']\n",
      "['tempor']\n",
      "['tristique']\n",
      "['Donec']\n",
      "['commodo']\n",
      "['non']\n",
      "['leo']\n",
      "['quis']\n",
      "['fermentum']\n"
     ]
    }
   ],
   "source": [
    "file = open('kelimeler.txt')\n",
    "\n",
    "for index, line in enumerate(file):\n",
    "    if index <= 20:\n",
    "        kelime_dizisi = line.split()\n",
    "        print(kelime_dizisi)\n",
    "    else:\n",
    "        break\n",
    "        "
   ]
  },
  {
   "cell_type": "markdown",
   "metadata": {},
   "source": [
    "**Alıştırma 1:**\n",
    "\n",
    "Uzunluğu 10 karakterden fazla olan kelimeleri yazalım:"
   ]
  },
  {
   "cell_type": "code",
   "execution_count": 12,
   "metadata": {},
   "outputs": [
    {
     "name": "stdout",
     "output_type": "stream",
     "text": [
      "consectetur\n",
      "pellentesque\n",
      "sollicitudin\n",
      "scelerisque\n",
      "ullamcorper\n",
      "condimentum\n",
      "Suspendisse\n"
     ]
    }
   ],
   "source": [
    "# dosyayı tekrar okuyalım\n",
    "file = open('kelimeler.txt')\n",
    "\n",
    "for satir in file:\n",
    "    \n",
    "    # satir'i kelime dizisine dönüştürelim\n",
    "    kelime_dizisi = satir.split()\n",
    "    \n",
    "    # şimdi kelime_dizisi (tek elemanlı liste) içindeki kelimeyi alalım\n",
    "    kelime = kelime_dizisi[0]\n",
    "    \n",
    "    # 10 karakter kontrolü\n",
    "    if len(kelime) > 10:\n",
    "        print(kelime)\n",
    "    \n"
   ]
  },
  {
   "cell_type": "markdown",
   "metadata": {},
   "source": [
    "**Alıştırma 2:**\n",
    "\n",
    "Şimdi yeni bir fonksiyon yazalım.\n",
    "\n",
    "Bu fonksiyon içinde sesli harf bulunmayan tüm kelimeleri bize versin."
   ]
  },
  {
   "cell_type": "code",
   "execution_count": 16,
   "metadata": {},
   "outputs": [
    {
     "name": "stdout",
     "output_type": "stream",
     "text": [
      "In\n",
      "trylyk\n",
      "Antryl\n"
     ]
    }
   ],
   "source": [
    "# dosyayı tekrar okuyalım\n",
    "file = open('kelimeler.txt')\n",
    "\n",
    "for satir in file:\n",
    "    \n",
    "    # İngilizce sesli harfler: a, e, i, o, u\n",
    "    \n",
    "    # satir'i kelime dizisine dönüştür\n",
    "    kelime_dizisi = satir.split()\n",
    "    \n",
    "    # şimdi kelime'yi al\n",
    "    kelime = kelime_dizisi[0]\n",
    "    \n",
    "    # tüm seslileri tek tek kontrol et\n",
    "    if not 'a' in kelime and \\\n",
    "       not 'e' in kelime and \\\n",
    "       not 'i' in kelime and \\\n",
    "       not 'o' in kelime and \\\n",
    "       not 'u' in kelime:\n",
    "        print(kelime)\n"
   ]
  },
  {
   "cell_type": "markdown",
   "metadata": {},
   "source": [
    "Şimdi içinde 'ae' harflerinin beraber bulunduğu kelimeleri bulalım:"
   ]
  },
  {
   "cell_type": "code",
   "execution_count": 17,
   "metadata": {},
   "outputs": [
    {
     "name": "stdout",
     "output_type": "stream",
     "text": [
      "vitae\n",
      "Praesent\n",
      "Maecenas\n"
     ]
    }
   ],
   "source": [
    "# dosyayı tekrar okuyalım\n",
    "file = open('kelimeler.txt')\n",
    "\n",
    "for satir in file:\n",
    "    \n",
    "    # satir'i kelime dizisine dönüştür\n",
    "    kelime_dizisi = satir.split()\n",
    "    \n",
    "    # şimdi kelime'yi al\n",
    "    kelime = kelime_dizisi[0]\n",
    "    \n",
    "    if 'ae' in kelime:\n",
    "        print(kelime)\n",
    "    "
   ]
  },
  {
   "cell_type": "markdown",
   "metadata": {},
   "source": [
    "**Alıştırma 3:**\n",
    "\n"
   ]
  },
  {
   "cell_type": "markdown",
   "metadata": {},
   "source": [
    "**yasak_harf_var_mi** adında bir fonksiyon yaratalım.\n",
    "\n",
    "Bu fonksiyon parametre olarak, bir metin ve yasak harfleri içeren bir string alacak.\n",
    "\n",
    "Eğer metin içerisinde, bu yasak farflerden herhangi biri varsa, True, hiçbiri yoksa False dönecek."
   ]
  },
  {
   "cell_type": "code",
   "execution_count": 18,
   "metadata": {},
   "outputs": [],
   "source": [
    "def yasak_harf_var_mi(metin, yasak_harfler):\n",
    "    \n",
    "    for harf in metin:\n",
    "        if harf in yasak_harfler:\n",
    "            return True\n",
    "    else:\n",
    "        return False\n"
   ]
  },
  {
   "cell_type": "code",
   "execution_count": 19,
   "metadata": {},
   "outputs": [
    {
     "data": {
      "text/plain": [
       "True"
      ]
     },
     "execution_count": 19,
     "metadata": {},
     "output_type": "execute_result"
    }
   ],
   "source": [
    "cumle = 'Bu bir normal metindir.'\n",
    "yasak = 'ae'\n",
    "\n",
    "yasak_harf_var_mi(cumle, yasak)"
   ]
  },
  {
   "cell_type": "code",
   "execution_count": 21,
   "metadata": {},
   "outputs": [
    {
     "data": {
      "text/plain": [
       "False"
      ]
     },
     "execution_count": 21,
     "metadata": {},
     "output_type": "execute_result"
    }
   ],
   "source": [
    "cumle = 'Bu bir normal metindir.'\n",
    "yasak = 'üö'\n",
    "\n",
    "yasak_harf_var_mi(cumle, yasak)"
   ]
  },
  {
   "cell_type": "markdown",
   "metadata": {},
   "source": [
    "**Alıştırma 4:**\n",
    "    \n",
    "Adı **sadece_sunlari_kullanir** olan bir fonksiyon tanımlayalım.\n",
    "\n",
    "Parametresi, metin ve harflerden oluşan iki string olsun.\n",
    "\n",
    "Eğer metin, sadece bu harfleri kullanıyorsa, True dönecek.\n",
    "\n",
    "Bu harfler dışında başka bir harf kullanıyorsa, False dönecek."
   ]
  },
  {
   "cell_type": "code",
   "execution_count": 23,
   "metadata": {},
   "outputs": [],
   "source": [
    "def sadece_sunlari_kullanir(metin, harfler):\n",
    "    \n",
    "    for harf in metin:\n",
    "        \n",
    "        # harf gerçekten harf mi, yoksa noktalama işareti mi? -> isalpha()\n",
    "        if harf.isalpha() and not harf in harfler:\n",
    "            return False\n",
    "    else:\n",
    "        return True\n"
   ]
  },
  {
   "cell_type": "code",
   "execution_count": 25,
   "metadata": {},
   "outputs": [
    {
     "data": {
      "text/plain": [
       "True"
      ]
     },
     "execution_count": 25,
     "metadata": {},
     "output_type": "execute_result"
    }
   ],
   "source": [
    "cumle = 'ey edip adanada pide ye'\n",
    "harfler = 'adeinpy'\n",
    "sadece_sunlari_kullanir(cumle, harfler)"
   ]
  },
  {
   "cell_type": "code",
   "execution_count": 26,
   "metadata": {},
   "outputs": [
    {
     "data": {
      "text/plain": [
       "{' ', 'a', 'd', 'e', 'i', 'n', 'p', 'y'}"
      ]
     },
     "execution_count": 26,
     "metadata": {},
     "output_type": "execute_result"
    }
   ],
   "source": [
    "set('ey edip adanada pide ye')"
   ]
  },
  {
   "cell_type": "code",
   "execution_count": 27,
   "metadata": {},
   "outputs": [
    {
     "data": {
      "text/plain": [
       "False"
      ]
     },
     "execution_count": 27,
     "metadata": {},
     "output_type": "execute_result"
    }
   ],
   "source": [
    "cumle = 'ey edip adanada pide ye k'\n",
    "harfler = 'adeinpy'\n",
    "sadece_sunlari_kullanir(cumle, harfler)"
   ]
  },
  {
   "cell_type": "markdown",
   "metadata": {},
   "source": [
    "**Alıştırma 5:**\n",
    "\n",
    "4 numaralı alıştırma'daki fonksiyonu kullanarak:\n",
    "\n",
    "Lorem kelimelerinden sadece 'ens' harflerini kullanan kelimeleri bulalım."
   ]
  },
  {
   "cell_type": "code",
   "execution_count": 28,
   "metadata": {},
   "outputs": [],
   "source": [
    "def lorem_sadece_sunlari_kullanir(harfler):\n",
    "    \n",
    "    # dosyayı tekrar okuyalım\n",
    "    file = open('kelimeler.txt')\n",
    "    \n",
    "    for satir in file:\n",
    "        \n",
    "        kelime_dizisi = satir.split()\n",
    "        kelime = kelime_dizisi[0]\n",
    "        \n",
    "        if sadece_sunlari_kullanir(kelime, harfler):\n",
    "            print(kelime)\n",
    "    "
   ]
  },
  {
   "cell_type": "code",
   "execution_count": 29,
   "metadata": {},
   "outputs": [
    {
     "name": "stdout",
     "output_type": "stream",
     "text": [
      "sesse\n",
      "nesnes\n",
      "senesses\n"
     ]
    }
   ],
   "source": [
    "harfler = 'ens'\n",
    "lorem_sadece_sunlari_kullanir(harfler)"
   ]
  },
  {
   "cell_type": "markdown",
   "metadata": {},
   "source": [
    "**Alıştırma 6:**\n",
    "\n",
    "Adı **hepsini_kullanir** olan bir fonksiyon yazalım.\n",
    "\n",
    "Metin ve harfler alacak.\n",
    "\n",
    "Eğer metin, verilen harflerin tümünü en az bir kere kullanıyorsa, True,\n",
    "Herhangi bir harfi kullanmıyorsa False."
   ]
  },
  {
   "cell_type": "code",
   "execution_count": 30,
   "metadata": {},
   "outputs": [],
   "source": [
    "def hepsini_kullanir(metin, harfler):\n",
    "    \n",
    "    tumunu_kullanir = True\n",
    "    \n",
    "    for harf in harfler:\n",
    "        # eğer herhangi bir harf metin içinde yoksa -> False\n",
    "        if not harf in metin:\n",
    "            tumunu_kullanir = False\n",
    "            \n",
    "    # döngü bitti\n",
    "    return tumunu_kullanir\n",
    "    "
   ]
  },
  {
   "cell_type": "code",
   "execution_count": 31,
   "metadata": {},
   "outputs": [
    {
     "data": {
      "text/plain": [
       "False"
      ]
     },
     "execution_count": 31,
     "metadata": {},
     "output_type": "execute_result"
    }
   ],
   "source": [
    "harfler = 'aecbd'\n",
    "metin = 'Araba demir yolundan geçti'\n",
    "\n",
    "hepsini_kullanir(metin, harfler)"
   ]
  },
  {
   "cell_type": "code",
   "execution_count": 32,
   "metadata": {},
   "outputs": [
    {
     "data": {
      "text/plain": [
       "True"
      ]
     },
     "execution_count": 32,
     "metadata": {},
     "output_type": "execute_result"
    }
   ],
   "source": [
    "# yukarıda sadece 'c' harfini kullanmıyordu\n",
    "\n",
    "harfler = 'aecbd'\n",
    "metin = 'Araba demir yolundan gecti'\n",
    "\n",
    "hepsini_kullanir(metin, harfler)"
   ]
  },
  {
   "cell_type": "markdown",
   "metadata": {},
   "source": [
    "**Alıştırma 7:**"
   ]
  },
  {
   "cell_type": "markdown",
   "metadata": {},
   "source": [
    "6 numaralı Alıştırma'da tanımladığımız **hepsini_kullanir** fonksiyonunu kullanarak:\n",
    "\n",
    "Lorem kelimelerinden hangilerinin `aei` harflerinin hepsini kullandığını bulalım."
   ]
  },
  {
   "cell_type": "code",
   "execution_count": 33,
   "metadata": {},
   "outputs": [],
   "source": [
    "def hepsini_kullanir_lorem(harfler):\n",
    "    \n",
    "    # dosyayı tekrar okuyalım\n",
    "    file = open('kelimeler.txt')\n",
    "    \n",
    "    for satir in file:\n",
    "        \n",
    "        kelime_dizisi = satir.split()\n",
    "        kelime = kelime_dizisi[0]\n",
    "        \n",
    "        # şimdi bu kelime, harfler içindeki harflerin hepsini kullanıyor mu?\n",
    "        if hepsini_kullanir(kelime, harfler):\n",
    "            print(kelime)\n"
   ]
  },
  {
   "cell_type": "code",
   "execution_count": 34,
   "metadata": {},
   "outputs": [
    {
     "name": "stdout",
     "output_type": "stream",
     "text": [
      "feugiat\n",
      "penatibus\n",
      "parturient\n",
      "venenatis\n",
      "vitae\n",
      "aliquet\n",
      "sapien\n",
      "viverra\n",
      "vehicula\n",
      "habitasse\n"
     ]
    }
   ],
   "source": [
    "harfler = 'aei'\n",
    "\n",
    "hepsini_kullanir_lorem(harfler)"
   ]
  },
  {
   "cell_type": "markdown",
   "metadata": {},
   "source": [
    "**Alıştırma 8:**\n",
    "\n",
    "* 4. Alıştırmadaki **sadece_sunlari_kullanir** fonksiyonunu ve\n",
    "\n",
    "* 6. Alıştırmadaki **hepsini_kullanir** fonksiyonlarını beraber kullanarak:\n",
    "\n",
    "Lorem kelimelerinden hangilerinin sadece `fir` harflerini ama bu harflerin tümünü kullandığını bulalım.\n",
    "\n",
    "Fonksiyon adı **sadece_tumunu_kullanir** olsun."
   ]
  },
  {
   "cell_type": "code",
   "execution_count": 35,
   "metadata": {},
   "outputs": [],
   "source": [
    "def sadece_tumunu_kullanir(harfler):\n",
    "    \n",
    "    # dosyayı tekrar okuyalım\n",
    "    file = open('kelimeler.txt')\n",
    "    \n",
    "    for satir in file:\n",
    "        \n",
    "        kelime_dizisi = satir.split()\n",
    "        kelime = kelime_dizisi[0]\n",
    "        \n",
    "        # şimdi bu kelime sadece harfler ama tüm harfleri mi kullanıyor\n",
    "        if sadece_sunlari_kullanir(kelime, harfler) and hepsini_kullanir(kelime, harfler):\n",
    "            print(kelime)\n",
    "        "
   ]
  },
  {
   "cell_type": "code",
   "execution_count": 36,
   "metadata": {},
   "outputs": [
    {
     "name": "stdout",
     "output_type": "stream",
     "text": [
      "frifirri\n"
     ]
    }
   ],
   "source": [
    "harfler = 'fir'\n",
    "\n",
    "sadece_tumunu_kullanir(harfler)"
   ]
  },
  {
   "cell_type": "markdown",
   "metadata": {},
   "source": [
    "**Alıştırma 9:**\n",
    "\n",
    "Eğer bir kelimenin harfleri alfabetik sırada ise, bu kelimeye **düzgün kelime** diyelim.\n",
    "\n",
    "İsmi **duzgun_kelime_mi** olan bir fonksiyon tanımalayalım.\n",
    "\n",
    "Eğer kelime, düzgün kelime ise True, değilse False dönsün.\n",
    "\n",
    "Düzgün kelime örnekleri: buz, agor"
   ]
  },
  {
   "cell_type": "code",
   "execution_count": 37,
   "metadata": {},
   "outputs": [],
   "source": [
    "def duzgun_kelime_mi(kelime):\n",
    "    \n",
    "    # Python'da alfabetik sıra -> ASCII\n",
    "    \n",
    "    # önce ilk harfi önceki kelime olarak alalım\n",
    "    onceki = kelime[0]\n",
    "    \n",
    "    # şimdi harfler üzerinde dönelim\n",
    "    for harf in kelime:\n",
    "        \n",
    "        # bu harf onceki değişkeninin değerinden önce mi geliyor?\n",
    "        if harf < onceki:\n",
    "            # eğer harf, öncekinden önce geliyorsa -> düzgün değildir\n",
    "            return False\n",
    "        \n",
    "        onceki = harf\n",
    "        \n",
    "    # eğer buraya geldiyse sıralıdır\n",
    "    return True\n",
    "    "
   ]
  },
  {
   "cell_type": "code",
   "execution_count": 38,
   "metadata": {},
   "outputs": [
    {
     "data": {
      "text/plain": [
       "True"
      ]
     },
     "execution_count": 38,
     "metadata": {},
     "output_type": "execute_result"
    }
   ],
   "source": [
    "duzgun_kelime_mi('buz')"
   ]
  },
  {
   "cell_type": "code",
   "execution_count": 39,
   "metadata": {},
   "outputs": [
    {
     "data": {
      "text/plain": [
       "True"
      ]
     },
     "execution_count": 39,
     "metadata": {},
     "output_type": "execute_result"
    }
   ],
   "source": [
    "duzgun_kelime_mi('agor')"
   ]
  },
  {
   "cell_type": "code",
   "execution_count": 40,
   "metadata": {},
   "outputs": [
    {
     "data": {
      "text/plain": [
       "False"
      ]
     },
     "execution_count": 40,
     "metadata": {},
     "output_type": "execute_result"
    }
   ],
   "source": [
    "duzgun_kelime_mi('metin')"
   ]
  },
  {
   "cell_type": "code",
   "execution_count": 41,
   "metadata": {},
   "outputs": [
    {
     "data": {
      "text/plain": [
       "True"
      ]
     },
     "execution_count": 41,
     "metadata": {},
     "output_type": "execute_result"
    }
   ],
   "source": [
    "duzgun_kelime_mi(\"abcdef\")"
   ]
  },
  {
   "cell_type": "markdown",
   "metadata": {},
   "source": [
    "**Alıştırma 10:**\n",
    "\n",
    "9 numaralı Alıştırmadaki **duzgun_kelime_mi** fonksiyonunu kullanarak;\n",
    "\n",
    "Lorem kelimelerinden hangilerinin düzgün kelime olduğunu bulalım."
   ]
  },
  {
   "cell_type": "code",
   "execution_count": 42,
   "metadata": {},
   "outputs": [],
   "source": [
    "def duzgun_kelime_mi_lorem():\n",
    "    \n",
    "    # dosyayı tekrar okuyalım\n",
    "    file = open('kelimeler.txt')\n",
    "    \n",
    "    for satir in file:\n",
    "        \n",
    "        kelime_dizisi = satir.split()\n",
    "        kelime = kelime_dizisi[0]\n",
    "        \n",
    "        # şimdi bu kelime düzgün kelime mi?\n",
    "        if duzgun_kelime_mi(kelime):\n",
    "            print(kelime)\n",
    "        "
   ]
  },
  {
   "cell_type": "code",
   "execution_count": 43,
   "metadata": {},
   "outputs": [
    {
     "name": "stdout",
     "output_type": "stream",
     "text": [
      "in\n",
      "at\n",
      "In\n",
      "eu\n",
      "et\n",
      "dis\n",
      "ac\n",
      "ex\n",
      "a\n",
      "Nam\n",
      "est\n"
     ]
    }
   ],
   "source": [
    "duzgun_kelime_mi_lorem()"
   ]
  },
  {
   "cell_type": "code",
   "execution_count": 44,
   "metadata": {},
   "outputs": [
    {
     "data": {
      "text/plain": [
       "True"
      ]
     },
     "execution_count": 44,
     "metadata": {},
     "output_type": "execute_result"
    }
   ],
   "source": [
    "'N' < 'a'"
   ]
  },
  {
   "cell_type": "code",
   "execution_count": null,
   "metadata": {},
   "outputs": [],
   "source": []
  }
 ],
 "metadata": {
  "kernelspec": {
   "display_name": "Python 3",
   "language": "python",
   "name": "python3"
  },
  "language_info": {
   "codemirror_mode": {
    "name": "ipython",
    "version": 3
   },
   "file_extension": ".py",
   "mimetype": "text/x-python",
   "name": "python",
   "nbconvert_exporter": "python",
   "pygments_lexer": "ipython3",
   "version": "3.8.5"
  }
 },
 "nbformat": 4,
 "nbformat_minor": 4
}
