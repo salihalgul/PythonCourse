{
 "cells": [
  {
   "cell_type": "markdown",
   "id": "olympic-continuity",
   "metadata": {},
   "source": [
    "## Proje 1 - Fonksiyonlar"
   ]
  },
  {
   "cell_type": "markdown",
   "id": "frequent-manhattan",
   "metadata": {},
   "source": [
    "### Kaplumbağa Modülü"
   ]
  },
  {
   "cell_type": "markdown",
   "id": "clinical-institute",
   "metadata": {},
   "source": [
    "Python içinde hazır olarak gelir.\n",
    "\n",
    "https://docs.python.org/3/library/turtle.html"
   ]
  },
  {
   "cell_type": "code",
   "execution_count": 1,
   "id": "unnecessary-apple",
   "metadata": {},
   "outputs": [],
   "source": [
    "# turtle modülünü içeri alalım\n",
    "\n",
    "import turtle"
   ]
  },
  {
   "cell_type": "code",
   "execution_count": 2,
   "id": "activated-syntax",
   "metadata": {},
   "outputs": [],
   "source": [
    "tospa = turtle.Turtle()"
   ]
  },
  {
   "cell_type": "code",
   "execution_count": 3,
   "id": "optional-evans",
   "metadata": {},
   "outputs": [],
   "source": [
    "turtle.mainloop()"
   ]
  },
  {
   "cell_type": "markdown",
   "id": "dressed-candidate",
   "metadata": {},
   "source": [
    "Şimdi Kaplumbağa yaratan bir fonksiyon yazalım:"
   ]
  },
  {
   "cell_type": "code",
   "execution_count": 1,
   "id": "protecting-costs",
   "metadata": {},
   "outputs": [],
   "source": [
    "import turtle\n",
    "\n",
    "def kaplumbaga_yarat():\n",
    "    \n",
    "    # Turtle nesnesi yarat\n",
    "    tospik = turtle.Turtle()\n",
    "    \n",
    "    print(tospik)\n",
    "    \n",
    "    return tospik\n",
    "    "
   ]
  },
  {
   "cell_type": "code",
   "execution_count": null,
   "id": "expected-binding",
   "metadata": {},
   "outputs": [],
   "source": [
    "tospik = kaplumbaga_yarat()\n",
    "turtle.mainloop()"
   ]
  },
  {
   "cell_type": "markdown",
   "id": "absent-extension",
   "metadata": {},
   "source": [
    "`turtle.mainloop()` fonksiyonu, açılan pencereye, kullanıcının her hangi bir işlem yapana kadar beklemesini söyler. Bu işlem ekranı kapatmaktır.\n",
    "\n",
    "**Önemli:** turtle.mainloop(), kodun son satırı olmak zorunda."
   ]
  },
  {
   "cell_type": "markdown",
   "id": "authorized-generic",
   "metadata": {},
   "source": [
    "**Metod == Fonksiyon**"
   ]
  },
  {
   "cell_type": "markdown",
   "id": "ambient-kinase",
   "metadata": {},
   "source": [
    "**Kaplumbağa Metodları:**\n",
    "\n",
    "* **turtle.fd(n)** -> ileri hareket ettirir. n pixel kadar.\n",
    "* **turtle.bk(n)** -> geri hareket ettirir. n pixel kadar.\n",
    "* **turtle.lt(d)** -> sola dön. d açısı kadar.\n",
    "* **turtle.rt(d)** -> sağa dön. d açısı kadar."
   ]
  },
  {
   "cell_type": "markdown",
   "id": "sophisticated-eleven",
   "metadata": {},
   "source": [
    "Örneğin, 90 derecelik bir açı çizmek istiyoruz.\n",
    "\n",
    "* turtle.fd(100)\n",
    "* turtle.lt(90)\n",
    "* turtle.fd(100)"
   ]
  },
  {
   "cell_type": "code",
   "execution_count": 2,
   "id": "authentic-chaos",
   "metadata": {},
   "outputs": [
    {
     "name": "stdout",
     "output_type": "stream",
     "text": [
      "<turtle.Turtle object at 0x000001CAA87F3700>\n"
     ]
    }
   ],
   "source": [
    "# bir kaplumbağa al\n",
    "\n",
    "tospik = kaplumbaga_yarat()"
   ]
  },
  {
   "cell_type": "code",
   "execution_count": 3,
   "id": "ready-shoulder",
   "metadata": {},
   "outputs": [],
   "source": [
    "# kaplumbağayı hareket ettir\n",
    "tospik.fd(100)\n",
    "tospik.lt(90)\n",
    "tospik.fd(100)"
   ]
  },
  {
   "cell_type": "code",
   "execution_count": 4,
   "id": "metallic-throw",
   "metadata": {},
   "outputs": [],
   "source": [
    "# mainloop\n",
    "# son satır olmalı -> mainloop\n",
    "turtle.mainloop()"
   ]
  },
  {
   "cell_type": "markdown",
   "id": "active-comparison",
   "metadata": {},
   "source": [
    "Kare çizelim:\n",
    "\n",
    "* tospik.fd(100)\n",
    "* tospik.lt(90)\n",
    "* --\n",
    "* tospik.fd(100)\n",
    "* tospik.lt(90)\n",
    "* --\n",
    "* tospik.fd(100)\n",
    "* tospik.lt(90)\n",
    "* --\n",
    "* tospik.fd(100)\n",
    "* tospik.lt(90)"
   ]
  },
  {
   "cell_type": "code",
   "execution_count": 1,
   "id": "published-cause",
   "metadata": {},
   "outputs": [],
   "source": [
    "# Turtle nesnesi yarat\n",
    "import turtle\n",
    "\n",
    "tospik = turtle.Turtle()"
   ]
  },
  {
   "cell_type": "code",
   "execution_count": 7,
   "id": "broken-paint",
   "metadata": {},
   "outputs": [],
   "source": [
    "# KARE çiz\n",
    "# kenar 1\n",
    "tospik.fd(100)\n",
    "tospik.lt(90)\n",
    "\n",
    "# kenar 2\n",
    "tospik.fd(100)\n",
    "tospik.lt(90)\n",
    "\n",
    "# kenar 3\n",
    "tospik.fd(100)\n",
    "tospik.lt(90)\n",
    "\n",
    "# kenar 4\n",
    "tospik.fd(100)\n",
    "tospik.lt(90)"
   ]
  },
  {
   "cell_type": "code",
   "execution_count": 8,
   "id": "white-shepherd",
   "metadata": {},
   "outputs": [],
   "source": [
    "# mainloop\n",
    "# son satır olmalı -> mainloop\n",
    "turtle.mainloop()"
   ]
  },
  {
   "cell_type": "markdown",
   "id": "threaded-precipitation",
   "metadata": {},
   "source": [
    "Yukarıdaki işlemi, bir döngü yardımı ile kolayca yapabiliriz."
   ]
  },
  {
   "cell_type": "code",
   "execution_count": 2,
   "id": "institutional-fairy",
   "metadata": {},
   "outputs": [],
   "source": [
    "for i in range(4):\n",
    "    tospik.fd(100)\n",
    "    tospik.lt(90)\n",
    "\n",
    "turtle.mainloop()"
   ]
  },
  {
   "cell_type": "code",
   "execution_count": 3,
   "id": "blank-banana",
   "metadata": {},
   "outputs": [
    {
     "name": "stdout",
     "output_type": "stream",
     "text": [
      "Hello World\n",
      "Hello World\n",
      "Hello World\n",
      "Hello World\n"
     ]
    }
   ],
   "source": [
    "# basit bir for döngüsü örneği\n",
    "\n",
    "for i in range(4):\n",
    "    print(\"Hello World\")"
   ]
  },
  {
   "cell_type": "markdown",
   "id": "martial-operations",
   "metadata": {},
   "source": [
    "---"
   ]
  },
  {
   "cell_type": "markdown",
   "id": "wrapped-dealing",
   "metadata": {},
   "source": [
    "**Alıştırma 1:**\n",
    "\n",
    "İsmi **kare** olan bir fonksiyon yazın. \n",
    "\n",
    "Bu fonksiyon Kaplumbağa tipinde t adında bir parametre alsın.\n",
    "\n",
    "Ek olarak, kaç adım yürüyeceğini de parametre olarak alsın.\n",
    "\n",
    "Bu kaplumbağayı kullanarak bir kare çizsin fonksiyonumuz."
   ]
  },
  {
   "cell_type": "code",
   "execution_count": 1,
   "id": "continental-purchase",
   "metadata": {},
   "outputs": [],
   "source": [
    "import turtle"
   ]
  },
  {
   "cell_type": "code",
   "execution_count": 2,
   "id": "injured-dollar",
   "metadata": {},
   "outputs": [],
   "source": [
    "# Çözüm 1:\n",
    "\n",
    "# fonksiyonumuzu tanımlayalım\n",
    "\n",
    "def kare(t, uzunluk):\n",
    "    \"\"\"\n",
    "    Kaplumbağa ile kare çizen fonksiyon.\n",
    "    Parametreler:\n",
    "        * t: turtle tipinde nesne\n",
    "        * uzunluk: int tipinde yürüme miktarı (pixe)\n",
    "    \"\"\"\n",
    "    \n",
    "    # döngü ile kare çizdir\n",
    "    for i in range(4):\n",
    "        t.fd(uzunluk)\n",
    "        t.lt(90)\n",
    "    "
   ]
  },
  {
   "cell_type": "code",
   "execution_count": 3,
   "id": "loving-belgium",
   "metadata": {},
   "outputs": [],
   "source": [
    "# önce tospik'imizi yaratalım\n",
    "\n",
    "tospik = turtle.Turtle()"
   ]
  },
  {
   "cell_type": "code",
   "execution_count": 4,
   "id": "current-brief",
   "metadata": {},
   "outputs": [],
   "source": [
    "# şimdi kare fonksiyonunu çağıralım\n",
    "\n",
    "# önce 100 pixel ile çağıralım\n",
    "kare(tospik, 100)"
   ]
  },
  {
   "cell_type": "code",
   "execution_count": 5,
   "id": "corporate-breast",
   "metadata": {},
   "outputs": [],
   "source": [
    "# sonra 200 pixel ile çağıralım\n",
    "kare(tospik, 200)"
   ]
  },
  {
   "cell_type": "code",
   "execution_count": 6,
   "id": "abstract-vessel",
   "metadata": {},
   "outputs": [],
   "source": [
    "# son olarak 300 pixe ile çağıralım\n",
    "kare(tospik, 300)"
   ]
  },
  {
   "cell_type": "code",
   "execution_count": 9,
   "id": "public-accommodation",
   "metadata": {},
   "outputs": [],
   "source": [
    "# şimdi araları dolduralım:\n",
    "# 300 - 100 = 200\n",
    "# 10 seferde doldurmak için 200 / 10 = 20 pixel\n",
    "\n",
    "for i in range(10):\n",
    "    kare(tospik, 100 + i * 20)\n"
   ]
  },
  {
   "cell_type": "code",
   "execution_count": 10,
   "id": "smaller-afghanistan",
   "metadata": {},
   "outputs": [],
   "source": [
    "# Tospik'i temizlemek için\n",
    "tospik.clear()"
   ]
  },
  {
   "cell_type": "code",
   "execution_count": 12,
   "id": "egyptian-compromise",
   "metadata": {},
   "outputs": [],
   "source": [
    "turtle.mainloop()"
   ]
  },
  {
   "cell_type": "markdown",
   "id": "possible-train",
   "metadata": {},
   "source": [
    "---"
   ]
  },
  {
   "cell_type": "markdown",
   "id": "chicken-pasta",
   "metadata": {},
   "source": [
    "**Alıştırma 2:**"
   ]
  },
  {
   "cell_type": "markdown",
   "id": "daily-municipality",
   "metadata": {},
   "source": [
    "Şimdi poligon çizen bir fonksiyon yaratalım.\n",
    "\n",
    "Fonksiyonun parametreleri, kaplumbağa, mesafe ve kenar sayısı olacak."
   ]
  },
  {
   "cell_type": "code",
   "execution_count": 1,
   "id": "arbitrary-israel",
   "metadata": {},
   "outputs": [],
   "source": [
    "# Çözüm 2:\n",
    "\n",
    "# poligon fonksiyonumuzu tanımlayalım\n",
    "\n",
    "def poligon(t, uzunluk, n):\n",
    "    \"\"\"\n",
    "    Kaplumbağa ile poligon çizen fonksiyon.\n",
    "    Parametreler:\n",
    "        * t: turtle tipinde nesne\n",
    "        * uzunluk: int tipinde yürüme miktarı, pixel\n",
    "        * n: int tipinde kenar sayısı\n",
    "    \"\"\"\n",
    "    \n",
    "    for i in range(n):\n",
    "        t.fd(uzunluk)\n",
    "        t.lt(90)\n"
   ]
  },
  {
   "cell_type": "code",
   "execution_count": 2,
   "id": "better-nursery",
   "metadata": {},
   "outputs": [],
   "source": [
    "# turtle modülünü import et\n",
    "\n",
    "import turtle"
   ]
  },
  {
   "cell_type": "code",
   "execution_count": 3,
   "id": "invisible-barcelona",
   "metadata": {},
   "outputs": [],
   "source": [
    "# bir kaplumbağa yarat\n",
    "\n",
    "t = turtle.Turtle()"
   ]
  },
  {
   "cell_type": "code",
   "execution_count": 4,
   "id": "willing-fifteen",
   "metadata": {},
   "outputs": [],
   "source": [
    "# poligon'u çağır\n",
    "\n",
    "poligon(t, 100, 6)"
   ]
  },
  {
   "cell_type": "code",
   "execution_count": 5,
   "id": "integrated-patio",
   "metadata": {},
   "outputs": [],
   "source": [
    "poligon(t, 100, 10)"
   ]
  },
  {
   "cell_type": "code",
   "execution_count": 6,
   "id": "second-matrix",
   "metadata": {},
   "outputs": [],
   "source": [
    "t.clear()"
   ]
  },
  {
   "cell_type": "markdown",
   "id": "norwegian-briefing",
   "metadata": {},
   "source": [
    "**Dönüş Derecesi = 360 / kenar sayısı**"
   ]
  },
  {
   "cell_type": "code",
   "execution_count": 7,
   "id": "applied-fundamental",
   "metadata": {},
   "outputs": [],
   "source": [
    "# Çözüm 2:\n",
    "\n",
    "# poligon fonksiyonumuzu tanımlayalım\n",
    "\n",
    "def poligon(t, uzunluk, n):\n",
    "    \"\"\"\n",
    "    Kaplumbağa ile poligon çizen fonksiyon.\n",
    "    Parametreler:\n",
    "        * t: turtle tipinde nesne\n",
    "        * uzunluk: int tipinde yürüme miktarı, pixel\n",
    "        * n: int tipinde kenar sayısı\n",
    "    \"\"\"\n",
    "    \n",
    "    # dönüş derecesini hesapla\n",
    "    aci = 360 / n\n",
    "    \n",
    "    for i in range(n):\n",
    "        t.fd(uzunluk)\n",
    "        t.lt(aci)\n"
   ]
  },
  {
   "cell_type": "code",
   "execution_count": 8,
   "id": "crazy-fifteen",
   "metadata": {},
   "outputs": [],
   "source": [
    "# poligon'u çağır\n",
    "\n",
    "poligon(t, 100, 6)"
   ]
  },
  {
   "cell_type": "code",
   "execution_count": 9,
   "id": "promotional-walker",
   "metadata": {},
   "outputs": [],
   "source": [
    "# poligon'u çağır\n",
    "\n",
    "poligon(t, 200, 6)"
   ]
  },
  {
   "cell_type": "code",
   "execution_count": 10,
   "id": "innovative-driver",
   "metadata": {},
   "outputs": [],
   "source": [
    "# ekranı boşalt\n",
    "\n",
    "t.clear()"
   ]
  },
  {
   "cell_type": "code",
   "execution_count": 11,
   "id": "apparent-version",
   "metadata": {},
   "outputs": [],
   "source": [
    "# 100 pixel ile 10 kenarlı poligon\n",
    "\n",
    "poligon(t, 100, 10)"
   ]
  },
  {
   "cell_type": "code",
   "execution_count": 12,
   "id": "utility-excellence",
   "metadata": {},
   "outputs": [],
   "source": [
    "# ekranı boşalt\n",
    "\n",
    "turtle.resetscreen()"
   ]
  },
  {
   "cell_type": "markdown",
   "id": "boxed-shanghai",
   "metadata": {},
   "source": [
    "Fonksiyonları **isimlendirilmiş parametreler** ile çağırabilirsiniz."
   ]
  },
  {
   "cell_type": "code",
   "execution_count": 13,
   "id": "offensive-accounting",
   "metadata": {},
   "outputs": [],
   "source": [
    "# poligon'u çağır\n",
    "\n",
    "poligon(t, uzunluk=200, n=12)"
   ]
  },
  {
   "cell_type": "code",
   "execution_count": 14,
   "id": "selective-skirt",
   "metadata": {},
   "outputs": [],
   "source": [
    "turtle.resetscreen()"
   ]
  },
  {
   "cell_type": "code",
   "execution_count": 15,
   "id": "amino-arbor",
   "metadata": {},
   "outputs": [],
   "source": [
    "poligon(t=t, n=12, uzunluk=100)"
   ]
  },
  {
   "cell_type": "markdown",
   "id": "familiar-emission",
   "metadata": {},
   "source": [
    "**İsimlendirilmiş Parametreler** -> `keyword arguments`"
   ]
  },
  {
   "cell_type": "markdown",
   "id": "demonstrated-judgment",
   "metadata": {},
   "source": [
    "---"
   ]
  },
  {
   "cell_type": "markdown",
   "id": "married-shepherd",
   "metadata": {},
   "source": [
    "**Alıştırma 3:**"
   ]
  },
  {
   "cell_type": "markdown",
   "id": "technical-cover",
   "metadata": {},
   "source": [
    "Şimdi bir çember çizen bir fonksiyon yazalım."
   ]
  },
  {
   "cell_type": "markdown",
   "id": "elementary-marking",
   "metadata": {},
   "source": [
    "Bu fonksiyonun parametreleri: kaplumbağa (t), yarıçap (r)."
   ]
  },
  {
   "cell_type": "markdown",
   "id": "composite-enough",
   "metadata": {},
   "source": [
    "Bu fonksiyon, poligon fonksiyonunu çağıracak ve çizimi ona yaptıracak.\n",
    "\n",
    "Kendisi bir çizim yapmayacak."
   ]
  },
  {
   "cell_type": "markdown",
   "id": "continuing-preparation",
   "metadata": {},
   "source": [
    "50 kenarlı bir poligon çizelim."
   ]
  },
  {
   "cell_type": "code",
   "execution_count": 17,
   "id": "tamil-promotion",
   "metadata": {},
   "outputs": [],
   "source": [
    "import math\n",
    "\n",
    "def cember(t, r):\n",
    "    \"\"\"\n",
    "    Cember çizen fonksiyon.\n",
    "    Parametreler:\n",
    "        * t: turtle tipinde kaplumbağa\n",
    "        * r: int tipinde yarıçap\n",
    "    Dönüş: poligon fonksiyonunu çağırıp, ekrana çember çizer\n",
    "    \"\"\"\n",
    "    \n",
    "    cevre = 2 * math.pi * r\n",
    "    n = 50\n",
    "    uzunluk = cevre / n\n",
    "    poligon(t, n=n, uzunluk=uzunluk)\n",
    "    "
   ]
  },
  {
   "cell_type": "code",
   "execution_count": 19,
   "id": "marine-seafood",
   "metadata": {},
   "outputs": [],
   "source": [
    "turtle.resetscreen()"
   ]
  },
  {
   "cell_type": "code",
   "execution_count": 20,
   "id": "trying-agency",
   "metadata": {},
   "outputs": [],
   "source": [
    "# cember'i çağır\n",
    "\n",
    "cember(t, 100)"
   ]
  },
  {
   "cell_type": "markdown",
   "id": "other-bachelor",
   "metadata": {},
   "source": [
    "Bu çözümün sorunu n (kenar sayısının) sabit olması."
   ]
  },
  {
   "cell_type": "markdown",
   "id": "controlled-bread",
   "metadata": {},
   "source": [
    "Kenar sayısını (n) yarıçap'a göre hesaplayalım."
   ]
  },
  {
   "cell_type": "code",
   "execution_count": 21,
   "id": "behind-twenty",
   "metadata": {},
   "outputs": [],
   "source": [
    "import math\n",
    "\n",
    "def cember(t, r):\n",
    "    \"\"\"\n",
    "    Cember çizen fonksiyon.\n",
    "    Parametreler:\n",
    "        * t: turtle tipinde kaplumbağa\n",
    "        * r: int tipinde yarıçap\n",
    "    Dönüş: poligon fonksiyonunu çağırıp, ekrana çember çizer\n",
    "    \"\"\"\n",
    "    \n",
    "    cevre = 2 * math.pi * r\n",
    "    \n",
    "    n = int(cevre / 3)\n",
    "    \n",
    "    uzunluk = cevre / n\n",
    "    \n",
    "    poligon(t, n=n, uzunluk=uzunluk)\n",
    "    "
   ]
  },
  {
   "cell_type": "code",
   "execution_count": 22,
   "id": "hungry-sight",
   "metadata": {},
   "outputs": [],
   "source": [
    "# şimdi tospik'i tekrar çalıştır\n",
    "\n",
    "t.clear()\n",
    "\n",
    "cember(t, 100)"
   ]
  },
  {
   "cell_type": "code",
   "execution_count": null,
   "id": "facial-sullivan",
   "metadata": {},
   "outputs": [],
   "source": []
  }
 ],
 "metadata": {
  "kernelspec": {
   "display_name": "Python 3",
   "language": "python",
   "name": "python3"
  },
  "language_info": {
   "codemirror_mode": {
    "name": "ipython",
    "version": 3
   },
   "file_extension": ".py",
   "mimetype": "text/x-python",
   "name": "python",
   "nbconvert_exporter": "python",
   "pygments_lexer": "ipython3",
   "version": "3.8.5"
  }
 },
 "nbformat": 4,
 "nbformat_minor": 5
}
