{
 "cells": [
  {
   "cell_type": "markdown",
   "id": "civilian-cross",
   "metadata": {},
   "source": [
    "## [10 SORU] QUIZ - List"
   ]
  },
  {
   "cell_type": "markdown",
   "id": "upset-marks",
   "metadata": {},
   "source": [
    "**Soru 1:**\n",
    "\n",
    "Parametre olarak bir liste alan bir fonksiyon yazın. Adı **toplam** olsun.\n",
    "\n",
    "Bu fonksiyon kendisine verilen listenin tüm elemanlarını toplasın ve geriye genel toplam dönsün.\n",
    "\n",
    "<pre>\n",
    "Örnek:\n",
    "liste = [1, 2, 3, 4, 5] \n",
    "toplam(liste) -> 15\n",
    "</pre>"
   ]
  },
  {
   "cell_type": "code",
   "execution_count": 32,
   "id": "central-cornwall",
   "metadata": {},
   "outputs": [],
   "source": [
    "# Çözüm 1:\n",
    "\n",
    "\n",
    "    "
   ]
  },
  {
   "cell_type": "code",
   "execution_count": 2,
   "id": "finite-aberdeen",
   "metadata": {},
   "outputs": [
    {
     "name": "stdout",
     "output_type": "stream",
     "text": [
      "15\n"
     ]
    }
   ],
   "source": [
    "liste = [1, 2, 3, 4, 5] \n",
    "\n",
    "genel_toplam = toplam(liste)\n",
    "\n",
    "print(genel_toplam)"
   ]
  },
  {
   "cell_type": "code",
   "execution_count": 3,
   "id": "assisted-lightning",
   "metadata": {},
   "outputs": [
    {
     "name": "stdout",
     "output_type": "stream",
     "text": [
      "600\n"
     ]
    }
   ],
   "source": [
    "liste = [10, 20, 30, 40, 500] \n",
    "\n",
    "genel_toplam = toplam(liste)\n",
    "\n",
    "print(genel_toplam)"
   ]
  },
  {
   "cell_type": "markdown",
   "id": "magnetic-accessory",
   "metadata": {},
   "source": [
    "---"
   ]
  },
  {
   "cell_type": "markdown",
   "id": "daily-language",
   "metadata": {},
   "source": [
    "**Soru 2:**\n",
    "\n",
    "Parametre olarak, iç içe bir liste (nested list) alan bir fonksiyon yazın. İsmi **iki_seviye_toplam** olsun. Bu iç içe liste parametresi 2 seviyeli olsun.\n",
    "\n",
    "Fonksiyon bu iç içe listenin tüm iç elemanları da dahil olmak üzere, genel toplam hesaplasın ve dönsün.\n",
    "\n",
    "Örnek: <br>\n",
    "liste = [[5, 8], [1, 4, 7], [10], 3] <br>\n",
    "iki_seviye_toplam(liste) -> 38"
   ]
  },
  {
   "cell_type": "code",
   "execution_count": 17,
   "id": "sticky-passion",
   "metadata": {},
   "outputs": [],
   "source": [
    "# Çözüm 2:\n",
    "\n",
    "\n",
    "    "
   ]
  },
  {
   "cell_type": "code",
   "execution_count": 18,
   "id": "cleared-monaco",
   "metadata": {},
   "outputs": [
    {
     "name": "stdout",
     "output_type": "stream",
     "text": [
      "38\n"
     ]
    }
   ],
   "source": [
    "liste = [[5, 8], [1, 4, 7], [10], 3]\n",
    "\n",
    "toplam = iki_seviye_toplam(liste)\n",
    "\n",
    "print(toplam)"
   ]
  },
  {
   "cell_type": "code",
   "execution_count": 19,
   "id": "handy-mystery",
   "metadata": {},
   "outputs": [
    {
     "name": "stdout",
     "output_type": "stream",
     "text": [
      "38\n"
     ]
    }
   ],
   "source": [
    "liste = [[5, 8], [1, 4, 7], [10], 3, 'a']\n",
    "\n",
    "toplam = iki_seviye_toplam(liste)\n",
    "\n",
    "print(toplam)"
   ]
  },
  {
   "cell_type": "code",
   "execution_count": 20,
   "id": "aquatic-compromise",
   "metadata": {},
   "outputs": [
    {
     "name": "stdout",
     "output_type": "stream",
     "text": [
      "42\n"
     ]
    }
   ],
   "source": [
    "liste = [[1, 2, 3], [1, 2], 3, [10, 20]]\n",
    "\n",
    "toplam = iki_seviye_toplam(liste)\n",
    "\n",
    "print(toplam)"
   ]
  },
  {
   "cell_type": "markdown",
   "id": "british-tuning",
   "metadata": {},
   "source": [
    "---"
   ]
  },
  {
   "cell_type": "markdown",
   "id": "after-alexander",
   "metadata": {},
   "source": [
    "**Soru 3:**\n",
    "\n",
    "Soru 2'de yazdığımız fonksiyon sadece 2 seviyeli iç içe liste alabiliyordu. Şimdi bunu jenerik bir hale getirelim ve her seviye iç içe listeyi toplayabilsin. İsmi **ic_ice_toplam** olsun. \n",
    "\n",
    "Fonksiyon bu iç içe listenin tüm iç elemanları da dahil olmak üzere, genel toplam hesaplasın ve dönsün.\n",
    "\n",
    "Örnek: <br>\n",
    "liste = [[5, 8], [1, 4, 7, [8, 2]], [10, [-1, 2]], 3] <br>\n",
    "ic_ice_toplam(liste) -> 49\n",
    "\n",
    "**İpucu:** Recursive"
   ]
  },
  {
   "cell_type": "code",
   "execution_count": 3,
   "id": "inner-toronto",
   "metadata": {},
   "outputs": [],
   "source": [
    "# Çözüm 3:\n",
    "\n",
    "\n"
   ]
  },
  {
   "cell_type": "code",
   "execution_count": 4,
   "id": "distinguished-turtle",
   "metadata": {},
   "outputs": [
    {
     "name": "stdout",
     "output_type": "stream",
     "text": [
      "49\n"
     ]
    }
   ],
   "source": [
    "liste = [[5, 8], [1, 4, 7, [8, 2]], [10, [-1, 2]], 3]\n",
    "\n",
    "toplam = ic_ice_toplam(liste)\n",
    "\n",
    "print(toplam)"
   ]
  },
  {
   "cell_type": "code",
   "execution_count": 5,
   "id": "handy-remark",
   "metadata": {},
   "outputs": [
    {
     "name": "stdout",
     "output_type": "stream",
     "text": [
      "57\n"
     ]
    }
   ],
   "source": [
    "liste = [[-5, [9, 1, [6, 2]], 8], [1, 4, 7, [8, 2]], [10, [-1, 2]], 3]\n",
    "\n",
    "toplam = ic_ice_toplam(liste)\n",
    "\n",
    "print(toplam)"
   ]
  },
  {
   "cell_type": "markdown",
   "id": "existing-anaheim",
   "metadata": {},
   "source": [
    "---"
   ]
  },
  {
   "cell_type": "markdown",
   "id": "dominant-penny",
   "metadata": {},
   "source": [
    "**Soru 4:**\n",
    "\n",
    "Parametre olarak bir liste alan bir fonksiyon yazınız. Adı **kareler** olsun.\n",
    "\n",
    "Fonksiyonumuz listedeki her bir elemanın karesini hesaplayacak ve yeni bir listeye ekleyecek. Sonuçta bu yeni listeyi dönecek. Yani parametre olarak gelen listedeki, elemanların karesini tutan yeni bir liste verecek.\n",
    "\n",
    "Örnek: <br>\n",
    "dizi = [1,2,3,4,5] <br>\n",
    "kareler(dizi) -> [1, 4, 9, 16, 25]"
   ]
  },
  {
   "cell_type": "code",
   "execution_count": 24,
   "id": "spanish-strategy",
   "metadata": {},
   "outputs": [],
   "source": [
    "# Çözüm 4:\n",
    "\n",
    "\n"
   ]
  },
  {
   "cell_type": "code",
   "execution_count": 25,
   "id": "alternate-literacy",
   "metadata": {},
   "outputs": [
    {
     "name": "stdout",
     "output_type": "stream",
     "text": [
      "[1, 4, 9, 16, 25]\n"
     ]
    }
   ],
   "source": [
    "dizi = [1,2,3,4,5]\n",
    "\n",
    "sonuc = kareler(dizi)\n",
    "\n",
    "print(sonuc)"
   ]
  },
  {
   "cell_type": "markdown",
   "id": "abstract-cause",
   "metadata": {},
   "source": [
    "---"
   ]
  },
  {
   "cell_type": "markdown",
   "id": "official-calvin",
   "metadata": {},
   "source": [
    "**Soru 5:**\n",
    "\n",
    "Parametre olarak bir liste alan bir fonksiyon yazınız. Adı **kareler_toplami** olsun.\n",
    "\n",
    "Fonksiyonumuz listenin başından başlarak elemanların karelerini alacak. Bu kareleri toplayarak yeni bir liste oluşturacak. Oluşan yeni listenin her bir elemanı, parametre olan gelen listedeki o index'e kadar olan kareler toplamı olacak.\n",
    "\n",
    "Yani, yeni listedeki 4. eleman, gelen listedeki 1-2-3-4. elemanların kareleri toplamı olacak.\n",
    "\n",
    "Böylece sona kadar gidecek. Ve bu şekilde oluşan yeni listeyi dönecek.\n",
    "\n",
    "<pre>\n",
    "Örnek:\n",
    "dizi = [1,2,3,4,5] \n",
    "kareler_toplami(dizi) -> [1, 5, 15, 37, 83]\n",
    "</pre>\n",
    "\n",
    "**İpucu:**\n",
    "* Soru 1'de yazdığınız **toplam** fonksiyonunu kullanabilirsiniz"
   ]
  },
  {
   "cell_type": "code",
   "execution_count": 35,
   "id": "attended-india",
   "metadata": {},
   "outputs": [],
   "source": [
    "# Çözüm 5:\n",
    "\n",
    "\n"
   ]
  },
  {
   "cell_type": "code",
   "execution_count": 36,
   "id": "accessible-bolivia",
   "metadata": {},
   "outputs": [
    {
     "name": "stdout",
     "output_type": "stream",
     "text": [
      "[1, 5, 15]\n"
     ]
    }
   ],
   "source": [
    "dizi = [1,2,3]\n",
    "\n",
    "sonuc = kareler_toplami(dizi)\n",
    "\n",
    "print(sonuc)"
   ]
  },
  {
   "cell_type": "code",
   "execution_count": 37,
   "id": "elementary-instrument",
   "metadata": {},
   "outputs": [
    {
     "name": "stdout",
     "output_type": "stream",
     "text": [
      "[1, 5, 15, 37, 83]\n"
     ]
    }
   ],
   "source": [
    "dizi = [1,2,3,4,5]\n",
    "\n",
    "sonuc = kareler_toplami(dizi)\n",
    "\n",
    "print(sonuc)"
   ]
  },
  {
   "cell_type": "markdown",
   "id": "uniform-exposure",
   "metadata": {},
   "source": [
    "---"
   ]
  },
  {
   "cell_type": "markdown",
   "id": "standing-journal",
   "metadata": {},
   "source": [
    "**Soru 6:**\n",
    "\n",
    "Listenin tek index'leri (1,3,5...) toplamı ile çift index'leri (0,2,4...) toplamı arasındaki farkı veren bir fonksiyon yazınız.\n",
    "\n",
    "Adı **tek_cift_index_farki** olsun.\n",
    "\n",
    "<pre>\n",
    "    liste = [1,2,3,4,5,6]\n",
    "    Tekler index'ler toplamı = 2 + 4 + 6 = 12\n",
    "    Çift index'ler toplamı = 1 + 3 + 5 = 9\n",
    "    tek_cift_index_farki(liste) -> 12 - 9 = 3\n",
    "</pre>\n",
    "\n",
    "**İpucu:**\n",
    "* index sıfırdan başlar\n",
    "* sadece listeler ve index'leri kullanınız.\n",
    "* Bu fonksiyon içinde döngü kullanmayınız.\n",
    "* Soru 1'deki toplam() fonksiyonunu kullanınız."
   ]
  },
  {
   "cell_type": "code",
   "execution_count": 38,
   "id": "royal-house",
   "metadata": {},
   "outputs": [],
   "source": [
    "# Çözüm 6:\n",
    "\n",
    "def tek_cift_index_farki(dizi):\n",
    "    \n",
    "\n"
   ]
  },
  {
   "cell_type": "code",
   "execution_count": 39,
   "id": "aggressive-springfield",
   "metadata": {},
   "outputs": [
    {
     "name": "stdout",
     "output_type": "stream",
     "text": [
      "3\n"
     ]
    }
   ],
   "source": [
    "liste = [1,2,3,4,5,6]\n",
    "\n",
    "fark = tek_cift_index_farki(liste)\n",
    "\n",
    "print(fark)"
   ]
  },
  {
   "cell_type": "code",
   "execution_count": 40,
   "id": "every-zoning",
   "metadata": {},
   "outputs": [
    {
     "name": "stdout",
     "output_type": "stream",
     "text": [
      "0\n"
     ]
    }
   ],
   "source": [
    "liste = [10,10,30,30,500,500]\n",
    "\n",
    "fark = tek_cift_index_farki(liste)\n",
    "\n",
    "print(fark)"
   ]
  },
  {
   "cell_type": "markdown",
   "id": "brown-extreme",
   "metadata": {},
   "source": [
    "---"
   ]
  },
  {
   "cell_type": "markdown",
   "id": "raising-baseball",
   "metadata": {},
   "source": [
    "**Soru 7:**\n",
    "\n",
    "Parametre olarak kendisine verilen listeyi kırpan bir fonksiyon yazın. Kırpma işlemi dizinin ilk ve son elemanını silmek demektir.\n",
    "\n",
    "Fonksiyonumuzun adı **kirpan** olsun ve kendisine verilen parametreyi **yerinde** değiştirsin. Yani dışarıdaki orijinal listeyi modifiye etsin. Geriye hiçbir değer dönmesin. (None)\n",
    "\n",
    "Fonksiyonu şu şekilde test ediniz ve dizinin yerinde değiştiğini ispatlayınız:\n",
    "<pre>    \n",
    "    dizi = [1,2,3,4,5,6,7]\n",
    "    print('kirpan fonksiyon öncesi dizi:', dizi)\n",
    "    kirpan(dizi)\n",
    "    print('kirpan fonksiyon sonrası dizi:', dizi)\n",
    "</pre>"
   ]
  },
  {
   "cell_type": "code",
   "execution_count": 41,
   "id": "inside-introduction",
   "metadata": {},
   "outputs": [],
   "source": [
    "# Çözüm 7:\n",
    "\n"
   ]
  },
  {
   "cell_type": "code",
   "execution_count": 42,
   "id": "widespread-corporation",
   "metadata": {},
   "outputs": [
    {
     "name": "stdout",
     "output_type": "stream",
     "text": [
      "kirpan fonksiyon öncesi dizi: [1, 2, 3, 4, 5, 6, 7]\n",
      "kirpan fonksiyon sonrası dizi: [2, 3, 4, 5, 6]\n"
     ]
    }
   ],
   "source": [
    "dizi = [1,2,3,4,5,6,7]\n",
    "\n",
    "print('kirpan fonksiyon öncesi dizi:', dizi)\n",
    "\n",
    "kirpan(dizi)\n",
    "\n",
    "print('kirpan fonksiyon sonrası dizi:', dizi)"
   ]
  },
  {
   "cell_type": "markdown",
   "id": "instant-yellow",
   "metadata": {},
   "source": [
    "---"
   ]
  },
  {
   "cell_type": "markdown",
   "id": "simple-world",
   "metadata": {},
   "source": [
    "**Soru 8:**\n",
    "\n",
    "Parametre olarak bir liste bir de sıralama tipi isteyen bir fonksiyon yazın. Adı **sirala** olsun.\n",
    "\n",
    "Sırala Fonksiyonu, liste ile beraber tipi boolean olan **azalan_mi** adında bir parametre alacak. Bu parametresnin default değeri False olacak.\n",
    "\n",
    "* Eğer azalan_mi parametresi True ise, fonksiyon listeyi büyükten küçüğe sıralayacak, \n",
    "* Eğer azalan_mi parametresi False ise, fonksiyon listeyi küçükten büyüğe sıralayacak\n",
    "\n",
    "Sonunda sıralanmış listeyi geri dönecek.\n",
    "\n",
    "Notlar:\n",
    "* Sıralama işlemi için Python List yapısının standart fonksiyonlarını kullanın\n",
    "* Döngü kullanmayın\n",
    "* Fonksiyon orijinal listeyi değiştirmesin"
   ]
  },
  {
   "cell_type": "code",
   "execution_count": 43,
   "id": "continent-hamburg",
   "metadata": {},
   "outputs": [],
   "source": [
    "# Çözüm 8:\n",
    "\n",
    "# Birinci yol\n",
    "\n"
   ]
  },
  {
   "cell_type": "code",
   "execution_count": 44,
   "id": "owned-happiness",
   "metadata": {},
   "outputs": [
    {
     "name": "stdout",
     "output_type": "stream",
     "text": [
      "a: [12, 4, 2, 1, 6, 3, 45]\n",
      "sirali - artan [1, 2, 3, 4, 6, 12, 45]\n",
      "sirali - azalan [45, 12, 6, 4, 3, 2, 1]\n",
      "sirala sonrası a: [12, 4, 2, 1, 6, 3, 45]\n"
     ]
    }
   ],
   "source": [
    "a = [12, 4, 2, 1, 6, 3, 45]\n",
    "print('a:', a)\n",
    "\n",
    "sirali = sirala(a, False)\n",
    "print('sirali - artan', sirali)\n",
    "\n",
    "sirali = sirala(a, True)\n",
    "print('sirali - azalan', sirali)\n",
    "\n",
    "print('sirala sonrası a:', a)"
   ]
  },
  {
   "cell_type": "code",
   "execution_count": 45,
   "id": "urban-pulse",
   "metadata": {},
   "outputs": [],
   "source": [
    "# İkinci yol\n",
    "\n",
    "    "
   ]
  },
  {
   "cell_type": "code",
   "execution_count": 46,
   "id": "regulation-travel",
   "metadata": {},
   "outputs": [
    {
     "name": "stdout",
     "output_type": "stream",
     "text": [
      "a: [12, 4, 2, 1, 6, 3, 45]\n",
      "sirali - artan [1, 2, 3, 4, 6, 12, 45]\n",
      "sirali - azalan [45, 12, 6, 4, 3, 2, 1]\n",
      "sirala sonrası a: [12, 4, 2, 1, 6, 3, 45]\n"
     ]
    }
   ],
   "source": [
    "a = [12, 4, 2, 1, 6, 3, 45]\n",
    "print('a:', a)\n",
    "\n",
    "sirali = sirala(a, False)\n",
    "print('sirali - artan', sirali)\n",
    "\n",
    "sirali = sirala(a, True)\n",
    "print('sirali - azalan', sirali)\n",
    "\n",
    "print('sirala sonrası a:', a)"
   ]
  },
  {
   "cell_type": "markdown",
   "id": "fiscal-yorkshire",
   "metadata": {},
   "source": [
    "---"
   ]
  },
  {
   "cell_type": "markdown",
   "id": "copyrighted-mercy",
   "metadata": {},
   "source": [
    "**Soru 9:**\n",
    "\n",
    "Matematik'teki ardışık sayılar aslında bir listedir.\n",
    "\n",
    "**Gauss Yöntemi** ardışık sayıların toplamını veren bir yöntemdir. Ve şu şekilde çalışır:\n",
    "* Önce listeyi küçükten büyüğe yazar\n",
    "* Sonra büyükten küçüğe yazar\n",
    "* Bu iki listeyi index bazlı alt alta toplar\n",
    "* Bulduğu değeri 2'ye böler (çünkü listeyi 2 kere yazmıştır)\n",
    "* Gauss Yöntemi böylece ardışık sayılar toplamını bulmuş olur\n",
    "\n",
    "Örnek: 1'den 10'a kadar sayıların toplamı:\n",
    "\n",
    "<pre>\n",
    "1   2   3   4   5   6   7   8   9   10\n",
    "10  9   8   7   6   5   4   3   2   1\n",
    "+   +   +   +   +   +   +   +   +   +\n",
    "11  11  11  11  11  11  11  11  11  11    (ikili toplamlar)\n",
    "\n",
    "Toplam = 11 * 10\n",
    "Sonuç = Toplam / 2\n",
    "</pre>\n",
    "\n",
    "Bu soruda, 20'den başlayıp 300'e kadar 5'er 5'er artarak giden sayıların toplamını Gauss Yöntemi ile bulan bir fonksiyon yazın. Fonksiyonun adı **gauss** olsun.\n",
    "\n",
    "Fonksiyon parametre olarak, başlangıç değeri, bitiş değeri ve artış miktarını alsın.\n",
    "\n",
    "Parametrelerin adlari ve default değerleri şu şekilde olsun:\n",
    "* baslangic -> 1\n",
    "* bitis -> 100\n",
    "* artis -> 2\n",
    "\n",
    "**Yapılacaklar:**\n",
    "* Listeyi range() fonksiyonu ile üretiniz\n"
   ]
  },
  {
   "cell_type": "code",
   "execution_count": 47,
   "id": "scenic-darkness",
   "metadata": {},
   "outputs": [],
   "source": [
    "# Çözüm 9:\n",
    "\n",
    "# Birinci yol\n",
    "# Uzun yol\n",
    "       \n",
    "    "
   ]
  },
  {
   "cell_type": "code",
   "execution_count": 48,
   "id": "instructional-display",
   "metadata": {},
   "outputs": [
    {
     "data": {
      "text/plain": [
       "45.0"
      ]
     },
     "execution_count": 48,
     "metadata": {},
     "output_type": "execute_result"
    }
   ],
   "source": [
    "ardisik_toplam = gauss(1, 10, 1)\n",
    "ardisik_toplam"
   ]
  },
  {
   "cell_type": "code",
   "execution_count": 49,
   "id": "selected-emergency",
   "metadata": {},
   "outputs": [
    {
     "data": {
      "text/plain": [
       "1650.0"
      ]
     },
     "execution_count": 49,
     "metadata": {},
     "output_type": "execute_result"
    }
   ],
   "source": [
    "ardisik_toplam = gauss(2, 100, 3)\n",
    "ardisik_toplam"
   ]
  },
  {
   "cell_type": "code",
   "execution_count": 50,
   "id": "bearing-scientist",
   "metadata": {},
   "outputs": [],
   "source": [
    "# İkinci yol\n",
    "# True Gaussian Yol\n",
    "\n",
    "        "
   ]
  },
  {
   "cell_type": "code",
   "execution_count": 52,
   "id": "tested-dublin",
   "metadata": {},
   "outputs": [
    {
     "data": {
      "text/plain": [
       "10"
      ]
     },
     "execution_count": 52,
     "metadata": {},
     "output_type": "execute_result"
    }
   ],
   "source": [
    "liste = list(range(1, 10, 1))\n",
    "liste[0] + liste[-1]"
   ]
  },
  {
   "cell_type": "code",
   "execution_count": 53,
   "id": "impaired-yemen",
   "metadata": {},
   "outputs": [
    {
     "data": {
      "text/plain": [
       "10"
      ]
     },
     "execution_count": 53,
     "metadata": {},
     "output_type": "execute_result"
    }
   ],
   "source": [
    "liste[1] + liste[-2]"
   ]
  },
  {
   "cell_type": "code",
   "execution_count": 54,
   "id": "checked-albania",
   "metadata": {},
   "outputs": [
    {
     "data": {
      "text/plain": [
       "10"
      ]
     },
     "execution_count": 54,
     "metadata": {},
     "output_type": "execute_result"
    }
   ],
   "source": [
    "liste[2] + liste[-3]"
   ]
  },
  {
   "cell_type": "code",
   "execution_count": 55,
   "id": "proper-allocation",
   "metadata": {},
   "outputs": [
    {
     "data": {
      "text/plain": [
       "45.0"
      ]
     },
     "execution_count": 55,
     "metadata": {},
     "output_type": "execute_result"
    }
   ],
   "source": [
    "ardisik_toplam = gauss(1, 10, 1)\n",
    "ardisik_toplam"
   ]
  },
  {
   "cell_type": "code",
   "execution_count": 56,
   "id": "suffering-membership",
   "metadata": {},
   "outputs": [
    {
     "data": {
      "text/plain": [
       "1650.0"
      ]
     },
     "execution_count": 56,
     "metadata": {},
     "output_type": "execute_result"
    }
   ],
   "source": [
    "ardisik_toplam = gauss(2, 100, 3)\n",
    "ardisik_toplam"
   ]
  },
  {
   "cell_type": "markdown",
   "id": "homeless-catch",
   "metadata": {},
   "source": [
    "---"
   ]
  },
  {
   "cell_type": "markdown",
   "id": "careful-night",
   "metadata": {},
   "source": [
    "**Soru 10:**\n",
    "\n",
    "Verilen bir listenin büyükten küçüğe sıralı olup olmadığını kontrol eden bir fonksiyon yazın. \n",
    "\n",
    "Adı **azalan_sirali_mi** olsun, ve eğer liste büyükten küçüğe sıralı ise True, değilse False dönsün.\n",
    "\n",
    "**Yapılacaklar:**\n",
    "* 4 farklı yolla çözünüz bu soruyu"
   ]
  },
  {
   "cell_type": "code",
   "execution_count": 57,
   "id": "written-vermont",
   "metadata": {},
   "outputs": [],
   "source": [
    "# Çözüm 10:\n",
    "\n",
    "# Yol 1:\n",
    "# İç İçe Döngüler\n",
    "# En az Pythonic\n",
    "\n",
    "\n"
   ]
  },
  {
   "cell_type": "code",
   "execution_count": 58,
   "id": "fuzzy-fiber",
   "metadata": {},
   "outputs": [
    {
     "data": {
      "text/plain": [
       "False"
      ]
     },
     "execution_count": 58,
     "metadata": {},
     "output_type": "execute_result"
    }
   ],
   "source": [
    "dizi = [2, 7, 3, 4]\n",
    "azalan_sirali_mi(dizi)"
   ]
  },
  {
   "cell_type": "code",
   "execution_count": 59,
   "id": "cloudy-potato",
   "metadata": {},
   "outputs": [
    {
     "data": {
      "text/plain": [
       "False"
      ]
     },
     "execution_count": 59,
     "metadata": {},
     "output_type": "execute_result"
    }
   ],
   "source": [
    "dizi = [2, 3, 4, 7]\n",
    "azalan_sirali_mi(dizi)"
   ]
  },
  {
   "cell_type": "code",
   "execution_count": 60,
   "id": "fallen-burke",
   "metadata": {},
   "outputs": [
    {
     "data": {
      "text/plain": [
       "True"
      ]
     },
     "execution_count": 60,
     "metadata": {},
     "output_type": "execute_result"
    }
   ],
   "source": [
    "dizi = [7, 4, 3, 2]\n",
    "azalan_sirali_mi(dizi)"
   ]
  },
  {
   "cell_type": "code",
   "execution_count": 61,
   "id": "flying-columbus",
   "metadata": {},
   "outputs": [
    {
     "data": {
      "text/plain": [
       "True"
      ]
     },
     "execution_count": 61,
     "metadata": {},
     "output_type": "execute_result"
    }
   ],
   "source": [
    "dizi = [7, 7, 4, 3, 2, 1, 1]\n",
    "azalan_sirali_mi(dizi)"
   ]
  },
  {
   "cell_type": "code",
   "execution_count": 62,
   "id": "developmental-plenty",
   "metadata": {},
   "outputs": [
    {
     "data": {
      "text/plain": [
       "False"
      ]
     },
     "execution_count": 62,
     "metadata": {},
     "output_type": "execute_result"
    }
   ],
   "source": [
    "dizi = ['a', 'd', 'b', 'c']\n",
    "azalan_sirali_mi(dizi)"
   ]
  },
  {
   "cell_type": "code",
   "execution_count": 63,
   "id": "convenient-person",
   "metadata": {},
   "outputs": [
    {
     "data": {
      "text/plain": [
       "False"
      ]
     },
     "execution_count": 63,
     "metadata": {},
     "output_type": "execute_result"
    }
   ],
   "source": [
    "dizi = ['a', 'b', 'c', 'd']\n",
    "azalan_sirali_mi(dizi)"
   ]
  },
  {
   "cell_type": "code",
   "execution_count": 64,
   "id": "statutory-substitute",
   "metadata": {},
   "outputs": [
    {
     "data": {
      "text/plain": [
       "True"
      ]
     },
     "execution_count": 64,
     "metadata": {},
     "output_type": "execute_result"
    }
   ],
   "source": [
    "dizi = ['d', 'c', 'b', 'a']\n",
    "azalan_sirali_mi(dizi)"
   ]
  },
  {
   "cell_type": "code",
   "execution_count": 65,
   "id": "intimate-behalf",
   "metadata": {},
   "outputs": [],
   "source": [
    "# Çözüm 10:\n",
    "\n",
    "# Yol 2:\n",
    "# İkili Fark kontrolü\n",
    "# Biraz daha Pythonic\n",
    "\n",
    "\n"
   ]
  },
  {
   "cell_type": "code",
   "execution_count": 66,
   "id": "future-raise",
   "metadata": {},
   "outputs": [
    {
     "data": {
      "text/plain": [
       "False"
      ]
     },
     "execution_count": 66,
     "metadata": {},
     "output_type": "execute_result"
    }
   ],
   "source": [
    "dizi = [2, 7, 3, 4]\n",
    "azalan_sirali_mi_2(dizi)"
   ]
  },
  {
   "cell_type": "code",
   "execution_count": 67,
   "id": "grand-agenda",
   "metadata": {},
   "outputs": [
    {
     "data": {
      "text/plain": [
       "True"
      ]
     },
     "execution_count": 67,
     "metadata": {},
     "output_type": "execute_result"
    }
   ],
   "source": [
    "dizi = [7, 4, 3, 2]\n",
    "azalan_sirali_mi_2(dizi)"
   ]
  },
  {
   "cell_type": "code",
   "execution_count": 68,
   "id": "suitable-revelation",
   "metadata": {},
   "outputs": [],
   "source": [
    "# Çözüm 10:\n",
    "\n",
    "# Yol 3:\n",
    "# Sıralı liste ile kontrol\n",
    "# Pythonic\n",
    "\n",
    "\n"
   ]
  },
  {
   "cell_type": "code",
   "execution_count": 69,
   "id": "characteristic-change",
   "metadata": {},
   "outputs": [
    {
     "data": {
      "text/plain": [
       "False"
      ]
     },
     "execution_count": 69,
     "metadata": {},
     "output_type": "execute_result"
    }
   ],
   "source": [
    "dizi = [2, 7, 3, 4]\n",
    "azalan_sirali_mi_3(dizi)"
   ]
  },
  {
   "cell_type": "code",
   "execution_count": 70,
   "id": "seasonal-floating",
   "metadata": {},
   "outputs": [
    {
     "data": {
      "text/plain": [
       "True"
      ]
     },
     "execution_count": 70,
     "metadata": {},
     "output_type": "execute_result"
    }
   ],
   "source": [
    "dizi = [7, 4, 3, 2]\n",
    "azalan_sirali_mi_3(dizi)"
   ]
  },
  {
   "cell_type": "code",
   "execution_count": 71,
   "id": "desirable-vampire",
   "metadata": {},
   "outputs": [],
   "source": [
    "# Çözüm 10:\n",
    "\n",
    "# Yol 4:\n",
    "# direk kontrol\n",
    "# Pythonic ve Functional\n",
    "\n",
    "\n"
   ]
  },
  {
   "cell_type": "code",
   "execution_count": 72,
   "id": "secondary-clock",
   "metadata": {},
   "outputs": [
    {
     "data": {
      "text/plain": [
       "False"
      ]
     },
     "execution_count": 72,
     "metadata": {},
     "output_type": "execute_result"
    }
   ],
   "source": [
    "dizi = [2, 7, 3, 4]\n",
    "azalan_sirali_mi_4(dizi)"
   ]
  },
  {
   "cell_type": "code",
   "execution_count": 73,
   "id": "horizontal-northeast",
   "metadata": {},
   "outputs": [
    {
     "data": {
      "text/plain": [
       "True"
      ]
     },
     "execution_count": 73,
     "metadata": {},
     "output_type": "execute_result"
    }
   ],
   "source": [
    "dizi = [7, 4, 3, 2]\n",
    "azalan_sirali_mi_4(dizi)"
   ]
  },
  {
   "cell_type": "code",
   "execution_count": null,
   "id": "public-consumption",
   "metadata": {},
   "outputs": [],
   "source": []
  }
 ],
 "metadata": {
  "kernelspec": {
   "display_name": "Python 3",
   "language": "python",
   "name": "python3"
  },
  "language_info": {
   "codemirror_mode": {
    "name": "ipython",
    "version": 3
   },
   "file_extension": ".py",
   "mimetype": "text/x-python",
   "name": "python",
   "nbconvert_exporter": "python",
   "pygments_lexer": "ipython3",
   "version": "3.8.8"
  }
 },
 "nbformat": 4,
 "nbformat_minor": 5
}
