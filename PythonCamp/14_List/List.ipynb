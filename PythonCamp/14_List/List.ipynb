{
 "cells": [
  {
   "cell_type": "markdown",
   "id": "charming-knock",
   "metadata": {},
   "source": [
    "## List"
   ]
  },
  {
   "cell_type": "markdown",
   "id": "judicial-polish",
   "metadata": {},
   "source": [
    "### List bir Dizidir"
   ]
  },
  {
   "cell_type": "markdown",
   "id": "joined-corporation",
   "metadata": {},
   "source": [
    "Daha önce, String'lerde dizi tipinden bahsetmiştik. `List` de bir Dizi tipidir.\n",
    "\n",
    "List'lerde `index` yapısı ile içindekilere erişilebilir.\n",
    "\n",
    "List'ler `[]` ile gösterilir."
   ]
  },
  {
   "cell_type": "code",
   "execution_count": 1,
   "id": "likely-millennium",
   "metadata": {},
   "outputs": [
    {
     "data": {
      "text/plain": [
       "[10, 20, 30, 40]"
      ]
     },
     "execution_count": 1,
     "metadata": {},
     "output_type": "execute_result"
    }
   ],
   "source": [
    "listem = [10, 20, 30, 40]\n",
    "listem"
   ]
  },
  {
   "cell_type": "code",
   "execution_count": 2,
   "id": "short-vampire",
   "metadata": {},
   "outputs": [
    {
     "name": "stdout",
     "output_type": "stream",
     "text": [
      "['eşkanar', 'ikizkenar', 'çeşitkenar']\n"
     ]
    }
   ],
   "source": [
    "ucgenler = ['eşkanar', 'ikizkenar', 'çeşitkenar']\n",
    "print(ucgenler)"
   ]
  },
  {
   "cell_type": "code",
   "execution_count": 3,
   "id": "electoral-wilson",
   "metadata": {},
   "outputs": [
    {
     "data": {
      "text/plain": [
       "['mail', 2.0, 5, True, False]"
      ]
     },
     "execution_count": 3,
     "metadata": {},
     "output_type": "execute_result"
    }
   ],
   "source": [
    "karma_liste = ['mail', 2.0, 5, True, False]\n",
    "karma_liste"
   ]
  },
  {
   "cell_type": "code",
   "execution_count": 4,
   "id": "bibliographic-payment",
   "metadata": {},
   "outputs": [
    {
     "data": {
      "text/plain": [
       "['sehir', ['ankara', 'istanbul'], [6, 34]]"
      ]
     },
     "execution_count": 4,
     "metadata": {},
     "output_type": "execute_result"
    }
   ],
   "source": [
    "ic_ice_liste = ['sehir', ['ankara', 'istanbul'], [6, 34]]\n",
    "ic_ice_liste"
   ]
  },
  {
   "cell_type": "code",
   "execution_count": 5,
   "id": "logical-india",
   "metadata": {},
   "outputs": [
    {
     "data": {
      "text/plain": [
       "[]"
      ]
     },
     "execution_count": 5,
     "metadata": {},
     "output_type": "execute_result"
    }
   ],
   "source": [
    "bos = []\n",
    "bos"
   ]
  },
  {
   "cell_type": "code",
   "execution_count": 6,
   "id": "limiting-consent",
   "metadata": {},
   "outputs": [
    {
     "data": {
      "text/plain": [
       "list"
      ]
     },
     "execution_count": 6,
     "metadata": {},
     "output_type": "execute_result"
    }
   ],
   "source": [
    "type(bos)"
   ]
  },
  {
   "cell_type": "code",
   "execution_count": 7,
   "id": "based-backing",
   "metadata": {},
   "outputs": [
    {
     "data": {
      "text/plain": [
       "'sehir'"
      ]
     },
     "execution_count": 7,
     "metadata": {},
     "output_type": "execute_result"
    }
   ],
   "source": [
    "ic_ice_liste[0]"
   ]
  },
  {
   "cell_type": "code",
   "execution_count": 8,
   "id": "fleet-monte",
   "metadata": {},
   "outputs": [
    {
     "data": {
      "text/plain": [
       "['ankara', 'istanbul']"
      ]
     },
     "execution_count": 8,
     "metadata": {},
     "output_type": "execute_result"
    }
   ],
   "source": [
    "ic_ice_liste[1]"
   ]
  },
  {
   "cell_type": "code",
   "execution_count": 10,
   "id": "wooden-manitoba",
   "metadata": {},
   "outputs": [
    {
     "data": {
      "text/plain": [
       "'ankara'"
      ]
     },
     "execution_count": 10,
     "metadata": {},
     "output_type": "execute_result"
    }
   ],
   "source": [
    "ic_ice_liste[1][0]"
   ]
  },
  {
   "cell_type": "markdown",
   "id": "subjective-scientist",
   "metadata": {},
   "source": [
    "### List'ler Değiştirilebilir (Mutable)"
   ]
  },
  {
   "cell_type": "markdown",
   "id": "opposite-berkeley",
   "metadata": {},
   "source": [
    "Stringler'in değiştirilemez (Immutable) olduğunu gördük.\n",
    "\n",
    "List'ler değiştirilebilir (Mutable)."
   ]
  },
  {
   "cell_type": "code",
   "execution_count": 11,
   "id": "challenging-scheduling",
   "metadata": {},
   "outputs": [
    {
     "data": {
      "text/plain": [
       "['Ezine', 'Hellim', 'Tulum']"
      ]
     },
     "execution_count": 11,
     "metadata": {},
     "output_type": "execute_result"
    }
   ],
   "source": [
    "peynirler = ['Ezine', 'Hellim', 'Tulum']\n",
    "peynirler"
   ]
  },
  {
   "cell_type": "code",
   "execution_count": 13,
   "id": "comic-proportion",
   "metadata": {},
   "outputs": [],
   "source": [
    "# ilk peyniri değiştir\n",
    "\n",
    "peynirler[0] = 'Beyaz Peynir'"
   ]
  },
  {
   "cell_type": "code",
   "execution_count": 14,
   "id": "answering-print",
   "metadata": {},
   "outputs": [
    {
     "data": {
      "text/plain": [
       "['Beyaz Peynir', 'Hellim', 'Tulum']"
      ]
     },
     "execution_count": 14,
     "metadata": {},
     "output_type": "execute_result"
    }
   ],
   "source": [
    "peynirler"
   ]
  },
  {
   "cell_type": "code",
   "execution_count": 15,
   "id": "worldwide-terminal",
   "metadata": {},
   "outputs": [
    {
     "data": {
      "text/plain": [
       "[1, 2, 3, 4, 5]"
      ]
     },
     "execution_count": 15,
     "metadata": {},
     "output_type": "execute_result"
    }
   ],
   "source": [
    "sayilar = [1, 2, 3, 4, 5]\n",
    "sayilar"
   ]
  },
  {
   "cell_type": "code",
   "execution_count": 17,
   "id": "driving-fundamental",
   "metadata": {},
   "outputs": [],
   "source": [
    "sayilar[4] = 55555"
   ]
  },
  {
   "cell_type": "code",
   "execution_count": 18,
   "id": "adapted-treasurer",
   "metadata": {},
   "outputs": [
    {
     "data": {
      "text/plain": [
       "[1, 2, 3, 4, 55555]"
      ]
     },
     "execution_count": 18,
     "metadata": {},
     "output_type": "execute_result"
    }
   ],
   "source": [
    "sayilar"
   ]
  },
  {
   "cell_type": "code",
   "execution_count": 19,
   "id": "devoted-international",
   "metadata": {},
   "outputs": [
    {
     "ename": "IndexError",
     "evalue": "list index out of range",
     "output_type": "error",
     "traceback": [
      "\u001b[1;31m---------------------------------------------------------------------------\u001b[0m",
      "\u001b[1;31mIndexError\u001b[0m                                Traceback (most recent call last)",
      "\u001b[1;32m<ipython-input-19-2905a2f18b2d>\u001b[0m in \u001b[0;36m<module>\u001b[1;34m\u001b[0m\n\u001b[1;32m----> 1\u001b[1;33m \u001b[0msayilar\u001b[0m\u001b[1;33m[\u001b[0m\u001b[1;36m6\u001b[0m\u001b[1;33m]\u001b[0m\u001b[1;33m\u001b[0m\u001b[1;33m\u001b[0m\u001b[0m\n\u001b[0m",
      "\u001b[1;31mIndexError\u001b[0m: list index out of range"
     ]
    }
   ],
   "source": [
    "sayilar[6]"
   ]
  },
  {
   "cell_type": "code",
   "execution_count": 20,
   "id": "signed-positive",
   "metadata": {},
   "outputs": [
    {
     "data": {
      "text/plain": [
       "['Beyaz Peynir', 'Hellim', 'Tulum']"
      ]
     },
     "execution_count": 20,
     "metadata": {},
     "output_type": "execute_result"
    }
   ],
   "source": [
    "peynirler"
   ]
  },
  {
   "cell_type": "markdown",
   "id": "connected-detection",
   "metadata": {},
   "source": [
    "<pre>\n",
    "       'Beyaz Peynir', 'Hellim', 'Tulum'  | 'Beyaz Peynir', 'Hellim', 'Tulum'\n",
    "           -3             -2          -1             0              1        2\n",
    "</pre>"
   ]
  },
  {
   "cell_type": "code",
   "execution_count": 21,
   "id": "refined-prayer",
   "metadata": {},
   "outputs": [
    {
     "data": {
      "text/plain": [
       "'Beyaz Peynir'"
      ]
     },
     "execution_count": 21,
     "metadata": {},
     "output_type": "execute_result"
    }
   ],
   "source": [
    "peynirler[-3]"
   ]
  },
  {
   "cell_type": "code",
   "execution_count": 22,
   "id": "fluid-worker",
   "metadata": {},
   "outputs": [
    {
     "data": {
      "text/plain": [
       "'Tulum'"
      ]
     },
     "execution_count": 22,
     "metadata": {},
     "output_type": "execute_result"
    }
   ],
   "source": [
    "peynirler[-1]"
   ]
  },
  {
   "cell_type": "markdown",
   "id": "abroad-arrangement",
   "metadata": {},
   "source": [
    "### Liste Üzerinde Dönme"
   ]
  },
  {
   "cell_type": "code",
   "execution_count": 23,
   "id": "diagnostic-fantasy",
   "metadata": {},
   "outputs": [
    {
     "data": {
      "text/plain": [
       "['Ezine', 'Hellim', 'Tulum']"
      ]
     },
     "execution_count": 23,
     "metadata": {},
     "output_type": "execute_result"
    }
   ],
   "source": [
    "peynirler = ['Ezine', 'Hellim', 'Tulum']\n",
    "peynirler"
   ]
  },
  {
   "cell_type": "code",
   "execution_count": 25,
   "id": "arranged-spread",
   "metadata": {},
   "outputs": [
    {
     "name": "stdout",
     "output_type": "stream",
     "text": [
      "Ezine\n",
      "Hellim\n",
      "Tulum\n"
     ]
    }
   ],
   "source": [
    "# liste üzerinde dönme\n",
    "\n",
    "for peynir in peynirler:\n",
    "    print(peynir)\n",
    "    "
   ]
  },
  {
   "cell_type": "code",
   "execution_count": 26,
   "id": "restricted-split",
   "metadata": {},
   "outputs": [
    {
     "name": "stdout",
     "output_type": "stream",
     "text": [
      "0 : Ezine\n",
      "1 : Hellim\n",
      "2 : Tulum\n"
     ]
    }
   ],
   "source": [
    "# for ile dönerken index -> enumerate()\n",
    "# enumerate -> numaralandır\n",
    "\n",
    "for index, peynir in enumerate(peynirler):\n",
    "    print(\"{0} : {1}\".format(index, peynir))\n",
    "    "
   ]
  },
  {
   "cell_type": "markdown",
   "id": "accepted-lying",
   "metadata": {},
   "source": [
    "Liste içinde dönerken elemanları değiştirebilirsiniz:"
   ]
  },
  {
   "cell_type": "code",
   "execution_count": 27,
   "id": "mighty-frequency",
   "metadata": {},
   "outputs": [
    {
     "data": {
      "text/plain": [
       "[1, 2, 3, 4, 5]"
      ]
     },
     "execution_count": 27,
     "metadata": {},
     "output_type": "execute_result"
    }
   ],
   "source": [
    "sayilar = [1, 2, 3, 4, 5]\n",
    "sayilar"
   ]
  },
  {
   "cell_type": "code",
   "execution_count": 28,
   "id": "several-audience",
   "metadata": {},
   "outputs": [
    {
     "name": "stdout",
     "output_type": "stream",
     "text": [
      "10\n",
      "20\n",
      "30\n",
      "40\n",
      "50\n"
     ]
    }
   ],
   "source": [
    "# tekil eleman değiştirir\n",
    "\n",
    "for sayi in sayilar:\n",
    "    sayi = sayi * 10\n",
    "    print(sayi)\n",
    "    "
   ]
  },
  {
   "cell_type": "code",
   "execution_count": 29,
   "id": "checked-highway",
   "metadata": {},
   "outputs": [
    {
     "data": {
      "text/plain": [
       "[1, 2, 3, 4, 5]"
      ]
     },
     "execution_count": 29,
     "metadata": {},
     "output_type": "execute_result"
    }
   ],
   "source": [
    "sayilar"
   ]
  },
  {
   "cell_type": "code",
   "execution_count": 30,
   "id": "subjective-healing",
   "metadata": {},
   "outputs": [],
   "source": [
    "# listenin kendisini değiştirmek için -> index\n",
    "# listeyi index ile update et\n",
    "\n",
    "for index, sayi in enumerate(sayilar):\n",
    "    # elimizdeki elemanın kopyasını güncelle\n",
    "    sayi = sayi * 10\n",
    "    \n",
    "    # listenin o andaki index'ini update et\n",
    "    sayilar[index] = sayi\n",
    "    "
   ]
  },
  {
   "cell_type": "code",
   "execution_count": 31,
   "id": "forty-growth",
   "metadata": {},
   "outputs": [
    {
     "data": {
      "text/plain": [
       "[10, 20, 30, 40, 50]"
      ]
     },
     "execution_count": 31,
     "metadata": {},
     "output_type": "execute_result"
    }
   ],
   "source": [
    "sayilar"
   ]
  },
  {
   "cell_type": "code",
   "execution_count": 32,
   "id": "raising-shore",
   "metadata": {},
   "outputs": [
    {
     "data": {
      "text/plain": [
       "['Ezine', 'Hellim', 'Tulum']"
      ]
     },
     "execution_count": 32,
     "metadata": {},
     "output_type": "execute_result"
    }
   ],
   "source": [
    "peynirler"
   ]
  },
  {
   "cell_type": "code",
   "execution_count": 33,
   "id": "functioning-acceptance",
   "metadata": {},
   "outputs": [],
   "source": [
    "# Her bir peynirin sonuna 'Peyniri' kelimesi ekleyelim\n",
    "\n",
    "for i, peynir in enumerate(peynirler):\n",
    "    peynirler[i] = peynir + ' Peyniri'\n",
    "    "
   ]
  },
  {
   "cell_type": "code",
   "execution_count": 34,
   "id": "adjusted-mileage",
   "metadata": {},
   "outputs": [
    {
     "data": {
      "text/plain": [
       "['Ezine Peyniri', 'Hellim Peyniri', 'Tulum Peyniri']"
      ]
     },
     "execution_count": 34,
     "metadata": {},
     "output_type": "execute_result"
    }
   ],
   "source": [
    "peynirler"
   ]
  },
  {
   "cell_type": "markdown",
   "id": "ready-operations",
   "metadata": {},
   "source": [
    "### Liste Operasyonları (List Operations)"
   ]
  },
  {
   "cell_type": "markdown",
   "id": "eight-consumption",
   "metadata": {},
   "source": [
    "List'lerde +, * (artı ve çarpma) gibi işlemler yapabiliriz.\n",
    "\n",
    "Ama kendi mantığı içerisinde."
   ]
  },
  {
   "cell_type": "markdown",
   "id": "interpreted-nelson",
   "metadata": {},
   "source": [
    "**`+` Operatörü**\n",
    "\n",
    "Listeleri uç uca ekler."
   ]
  },
  {
   "cell_type": "code",
   "execution_count": 35,
   "id": "particular-gibraltar",
   "metadata": {},
   "outputs": [
    {
     "data": {
      "text/plain": [
       "[10, 20, 30, 4, 8, 12]"
      ]
     },
     "execution_count": 35,
     "metadata": {},
     "output_type": "execute_result"
    }
   ],
   "source": [
    "a = [10, 20, 30]\n",
    "b = [4, 8, 12]\n",
    "\n",
    "c = a + b\n",
    "c"
   ]
  },
  {
   "cell_type": "code",
   "execution_count": 36,
   "id": "informative-binary",
   "metadata": {},
   "outputs": [
    {
     "name": "stdout",
     "output_type": "stream",
     "text": [
      "['Pazartesi', 'Salı', 'Çarşamba', 'Perşembe', 'Cuma', 'Cumartesi', 'Pazar']\n"
     ]
    }
   ],
   "source": [
    "hafta_ici = ['Pazartesi', 'Salı', 'Çarşamba', 'Perşembe', 'Cuma']\n",
    "hafta_sonu = ['Cumartesi', 'Pazar']\n",
    "\n",
    "hafta = hafta_ici + hafta_sonu\n",
    "\n",
    "print(hafta)"
   ]
  },
  {
   "cell_type": "markdown",
   "id": "magnetic-metadata",
   "metadata": {},
   "source": [
    "**`*` Operatörü**\n",
    "\n",
    "Çarpma (*) Operatörü bir listeyi verilen miktarda tekrarlar.\n",
    "\n",
    "(Tüm listeyi bir bütün olarak tekrarlar.)"
   ]
  },
  {
   "cell_type": "code",
   "execution_count": 37,
   "id": "naked-slave",
   "metadata": {},
   "outputs": [
    {
     "data": {
      "text/plain": [
       "'ArabaArabaArabaArabaAraba'"
      ]
     },
     "execution_count": 37,
     "metadata": {},
     "output_type": "execute_result"
    }
   ],
   "source": [
    "# Stringler'de çarpma\n",
    "metin = 'Araba'\n",
    "metin * 5"
   ]
  },
  {
   "cell_type": "code",
   "execution_count": 38,
   "id": "specific-punch",
   "metadata": {},
   "outputs": [
    {
     "data": {
      "text/plain": [
       "[5, 5, 5]"
      ]
     },
     "execution_count": 38,
     "metadata": {},
     "output_type": "execute_result"
    }
   ],
   "source": [
    "[5] * 3"
   ]
  },
  {
   "cell_type": "code",
   "execution_count": 40,
   "id": "demanding-repair",
   "metadata": {},
   "outputs": [
    {
     "data": {
      "text/plain": [
       "[11, 22, 11, 22, 11, 22, 11, 22]"
      ]
     },
     "execution_count": 40,
     "metadata": {},
     "output_type": "execute_result"
    }
   ],
   "source": [
    "[11, 22] * 4"
   ]
  },
  {
   "cell_type": "code",
   "execution_count": 41,
   "id": "endangered-indonesia",
   "metadata": {},
   "outputs": [
    {
     "data": {
      "text/plain": [
       "['Pazartesi', 'Salı', 'Çarşamba', 'Perşembe', 'Cuma', 'Cumartesi', 'Pazar']"
      ]
     },
     "execution_count": 41,
     "metadata": {},
     "output_type": "execute_result"
    }
   ],
   "source": [
    "hafta"
   ]
  },
  {
   "cell_type": "code",
   "execution_count": 42,
   "id": "empty-spiritual",
   "metadata": {},
   "outputs": [
    {
     "data": {
      "text/plain": [
       "['Pazartesi',\n",
       " 'Salı',\n",
       " 'Çarşamba',\n",
       " 'Perşembe',\n",
       " 'Cuma',\n",
       " 'Cumartesi',\n",
       " 'Pazar',\n",
       " 'Pazartesi',\n",
       " 'Salı',\n",
       " 'Çarşamba',\n",
       " 'Perşembe',\n",
       " 'Cuma',\n",
       " 'Cumartesi',\n",
       " 'Pazar',\n",
       " 'Pazartesi',\n",
       " 'Salı',\n",
       " 'Çarşamba',\n",
       " 'Perşembe',\n",
       " 'Cuma',\n",
       " 'Cumartesi',\n",
       " 'Pazar',\n",
       " 'Pazartesi',\n",
       " 'Salı',\n",
       " 'Çarşamba',\n",
       " 'Perşembe',\n",
       " 'Cuma',\n",
       " 'Cumartesi',\n",
       " 'Pazar']"
      ]
     },
     "execution_count": 42,
     "metadata": {},
     "output_type": "execute_result"
    }
   ],
   "source": [
    "4 * hafta"
   ]
  },
  {
   "cell_type": "markdown",
   "id": "special-forest",
   "metadata": {},
   "source": [
    "### Liste Dilimleme (Slicing)"
   ]
  },
  {
   "cell_type": "code",
   "execution_count": 46,
   "id": "moderate-admission",
   "metadata": {},
   "outputs": [
    {
     "data": {
      "text/plain": [
       "['b', 'c', 'd']"
      ]
     },
     "execution_count": 46,
     "metadata": {},
     "output_type": "execute_result"
    }
   ],
   "source": [
    "# 2. eleman ile 5. eleman arasını alalım\n",
    "# index = 1 den -> index = 4'e demek\n",
    "\n",
    "liste = ['a', 'b', 'c', 'd', 'e', 'f']\n",
    "\n",
    "liste[1:4]"
   ]
  },
  {
   "cell_type": "code",
   "execution_count": 47,
   "id": "criminal-construction",
   "metadata": {},
   "outputs": [
    {
     "data": {
      "text/plain": [
       "['a', 'b', 'c', 'd']"
      ]
     },
     "execution_count": 47,
     "metadata": {},
     "output_type": "execute_result"
    }
   ],
   "source": [
    "# ilk 4 elemanı alalım\n",
    "# 0, 1, 2, 3\n",
    "\n",
    "liste[0:4]"
   ]
  },
  {
   "cell_type": "code",
   "execution_count": 48,
   "id": "prerequisite-cancer",
   "metadata": {},
   "outputs": [
    {
     "data": {
      "text/plain": [
       "['a', 'b', 'c', 'd']"
      ]
     },
     "execution_count": 48,
     "metadata": {},
     "output_type": "execute_result"
    }
   ],
   "source": [
    "liste[:4]"
   ]
  },
  {
   "cell_type": "code",
   "execution_count": 49,
   "id": "outside-toolbox",
   "metadata": {},
   "outputs": [
    {
     "data": {
      "text/plain": [
       "['a', 'b', 'c', 'd', 'e', 'f']"
      ]
     },
     "execution_count": 49,
     "metadata": {},
     "output_type": "execute_result"
    }
   ],
   "source": [
    "# listenin tüm elemanlarını yaz\n",
    "# başlanguç -> 0 (default)\n",
    "# bitiş -> sona kadar (default)\n",
    "\n",
    "# liste[<bas> : <biti>]\n",
    "\n",
    "liste[:]"
   ]
  },
  {
   "cell_type": "markdown",
   "id": "blocked-heritage",
   "metadata": {},
   "source": [
    "**Liste Kopyalama:**\n",
    "\n",
    "Kopayalamak -> Yeni bir liste almak demektir."
   ]
  },
  {
   "cell_type": "code",
   "execution_count": 51,
   "id": "traditional-final",
   "metadata": {},
   "outputs": [
    {
     "data": {
      "text/plain": [
       "['a', 'b', 'c', 'd', 'e', 'f']"
      ]
     },
     "execution_count": 51,
     "metadata": {},
     "output_type": "execute_result"
    }
   ],
   "source": [
    "yeni_liste = liste[:]\n",
    "yeni_liste"
   ]
  },
  {
   "cell_type": "code",
   "execution_count": 52,
   "id": "moved-quantum",
   "metadata": {},
   "outputs": [
    {
     "data": {
      "text/plain": [
       "['a', 'b', 'c', 'd', 'e', 'f']"
      ]
     },
     "execution_count": 52,
     "metadata": {},
     "output_type": "execute_result"
    }
   ],
   "source": [
    "baska_liste = liste[:]\n",
    "baska_liste"
   ]
  },
  {
   "cell_type": "markdown",
   "id": "constant-crown",
   "metadata": {},
   "source": [
    "Şimdi gerçekten 3 ayrı listemiz var mı, görelim:"
   ]
  },
  {
   "cell_type": "code",
   "execution_count": 54,
   "id": "atmospheric-saudi",
   "metadata": {},
   "outputs": [
    {
     "name": "stdout",
     "output_type": "stream",
     "text": [
      "liste: ['a', 'b', 'c', 'd', 'e', 'f']\n",
      "yeni_liste: ['a', 'b', 'c', 'd', 'e', 'f']\n",
      "baska_liste: ['a', 'b', 'c', 'd', 'e', 'f']\n"
     ]
    }
   ],
   "source": [
    "# liste'nin 1. ve 2. elemanlarını değiştir\n",
    "# index = 1 ve 2\n",
    "\n",
    "print(\"liste:\", liste)\n",
    "print(\"yeni_liste:\", yeni_liste)\n",
    "print(\"baska_liste:\", baska_liste)"
   ]
  },
  {
   "cell_type": "code",
   "execution_count": 55,
   "id": "swiss-country",
   "metadata": {},
   "outputs": [
    {
     "data": {
      "text/plain": [
       "['a', 10, 20, 'd', 'e', 'f']"
      ]
     },
     "execution_count": 55,
     "metadata": {},
     "output_type": "execute_result"
    }
   ],
   "source": [
    "# index = 1 ve 2\n",
    "\n",
    "liste[1:3] = [10, 20]\n",
    "liste"
   ]
  },
  {
   "cell_type": "code",
   "execution_count": 56,
   "id": "comparative-scotland",
   "metadata": {},
   "outputs": [
    {
     "name": "stdout",
     "output_type": "stream",
     "text": [
      "liste: ['a', 10, 20, 'd', 'e', 'f']\n",
      "yeni_liste: ['a', 'b', 'c', 'd', 'e', 'f']\n",
      "baska_liste: ['a', 'b', 'c', 'd', 'e', 'f']\n"
     ]
    }
   ],
   "source": [
    "print(\"liste:\", liste)\n",
    "print(\"yeni_liste:\", yeni_liste)\n",
    "print(\"baska_liste:\", baska_liste)"
   ]
  },
  {
   "cell_type": "code",
   "execution_count": 57,
   "id": "peripheral-palace",
   "metadata": {},
   "outputs": [],
   "source": [
    "yeni_liste[0] = 'AA'"
   ]
  },
  {
   "cell_type": "code",
   "execution_count": 58,
   "id": "frozen-barbados",
   "metadata": {},
   "outputs": [
    {
     "name": "stdout",
     "output_type": "stream",
     "text": [
      "liste: ['a', 10, 20, 'd', 'e', 'f']\n",
      "yeni_liste: ['AA', 'b', 'c', 'd', 'e', 'f']\n",
      "baska_liste: ['a', 'b', 'c', 'd', 'e', 'f']\n"
     ]
    }
   ],
   "source": [
    "print(\"liste:\", liste)\n",
    "print(\"yeni_liste:\", yeni_liste)\n",
    "print(\"baska_liste:\", baska_liste)"
   ]
  },
  {
   "cell_type": "markdown",
   "id": "amended-serial",
   "metadata": {},
   "source": [
    "**`id` yöntemi**\n",
    "\n",
    "Python'da tüm nesneler bir `id` ile tutulur. \n",
    "\n",
    "Nesnenin bellekteki adresi.\n",
    "\n",
    "Id değeri -> `id()` fonksiyonu ile bulunur."
   ]
  },
  {
   "cell_type": "code",
   "execution_count": 59,
   "id": "grateful-incentive",
   "metadata": {},
   "outputs": [
    {
     "data": {
      "text/plain": [
       "1275642950208"
      ]
     },
     "execution_count": 59,
     "metadata": {},
     "output_type": "execute_result"
    }
   ],
   "source": [
    "# liste değişkeninin id'sini alalım\n",
    "\n",
    "id(liste)"
   ]
  },
  {
   "cell_type": "code",
   "execution_count": 60,
   "id": "tutorial-hungary",
   "metadata": {},
   "outputs": [
    {
     "data": {
      "text/plain": [
       "1275644179648"
      ]
     },
     "execution_count": 60,
     "metadata": {},
     "output_type": "execute_result"
    }
   ],
   "source": [
    "# yeni_liste'nin id'si\n",
    "\n",
    "id(yeni_liste)"
   ]
  },
  {
   "cell_type": "code",
   "execution_count": 61,
   "id": "completed-large",
   "metadata": {},
   "outputs": [
    {
     "data": {
      "text/plain": [
       "1275643755584"
      ]
     },
     "execution_count": 61,
     "metadata": {},
     "output_type": "execute_result"
    }
   ],
   "source": [
    "# baska_liste'nin id'si\n",
    "\n",
    "id(baska_liste)"
   ]
  },
  {
   "cell_type": "markdown",
   "id": "beautiful-cologne",
   "metadata": {},
   "source": [
    "### Liste Metodları"
   ]
  },
  {
   "cell_type": "markdown",
   "id": "elect-muscle",
   "metadata": {},
   "source": [
    "Python'da List'ler için hazır (built-in) metodlar vardır:\n",
    "\n",
    "* append(): Listenin sonuna yeni bir eleman ekler\n",
    "* insert(): Belli bir index ile listeye eleman ekler\n",
    "* extend(): Listeye başka bir liste ekler\n",
    "* sort(): Listeyi belli bir sıraya göre sıralar (yerinde yapar)\n",
    "* sorted(): Listeyi sıralar ve sıralı olarak yeni bir liste verir."
   ]
  },
  {
   "cell_type": "code",
   "execution_count": 62,
   "id": "structural-merchandise",
   "metadata": {},
   "outputs": [
    {
     "data": {
      "text/plain": [
       "['a', 'b', 'c', 'd', 'e']"
      ]
     },
     "execution_count": 62,
     "metadata": {},
     "output_type": "execute_result"
    }
   ],
   "source": [
    "harfler = [\"a\", \"b\", \"c\", \"d\", \"e\"]\n",
    "harfler"
   ]
  },
  {
   "cell_type": "markdown",
   "id": "improving-giving",
   "metadata": {},
   "source": [
    "**append()**"
   ]
  },
  {
   "cell_type": "code",
   "execution_count": 63,
   "id": "centered-swimming",
   "metadata": {},
   "outputs": [
    {
     "data": {
      "text/plain": [
       "['a', 'b', 'c', 'd', 'e', 'f']"
      ]
     },
     "execution_count": 63,
     "metadata": {},
     "output_type": "execute_result"
    }
   ],
   "source": [
    "# yeni bir eleman ekle\n",
    "\n",
    "harfler.append('f')\n",
    "harfler"
   ]
  },
  {
   "cell_type": "code",
   "execution_count": 64,
   "id": "large-tuition",
   "metadata": {},
   "outputs": [
    {
     "data": {
      "text/plain": [
       "['a', 'b', 'c', 'd', 'e', 'f', 'a', 'x', 't']"
      ]
     },
     "execution_count": 64,
     "metadata": {},
     "output_type": "execute_result"
    }
   ],
   "source": [
    "# append() sona ekler\n",
    "# birkaç eleman ekleyelim\n",
    "\n",
    "harfler.append('a')\n",
    "harfler.append('x')\n",
    "harfler.append('t')\n",
    "\n",
    "harfler"
   ]
  },
  {
   "cell_type": "markdown",
   "id": "adjusted-working",
   "metadata": {},
   "source": [
    "**insert()**"
   ]
  },
  {
   "cell_type": "code",
   "execution_count": 66,
   "id": "italic-biography",
   "metadata": {},
   "outputs": [
    {
     "name": "stdout",
     "output_type": "stream",
     "text": [
      "insert öncesi harfler: ['a', 'b', 'c', 'd', 'e', 'f', 'a', 'x', 't']\n",
      "insert sonrası harfler: ['a', 'b', 'R', 'c', 'd', 'e', 'f', 'a', 'x', 't']\n"
     ]
    }
   ],
   "source": [
    "# listeye eleman eklerken sona değil de, belli bir sıraya ekleyelim\n",
    "# insert(index, eleman)\n",
    "\n",
    "print(\"insert öncesi harfler:\", harfler)\n",
    "\n",
    "# insert \n",
    "harfler.insert(2, 'R')\n",
    "\n",
    "print(\"insert sonrası harfler:\", harfler)"
   ]
  },
  {
   "cell_type": "markdown",
   "id": "comparable-bread",
   "metadata": {},
   "source": [
    "**extend()**"
   ]
  },
  {
   "cell_type": "code",
   "execution_count": 70,
   "id": "severe-serve",
   "metadata": {},
   "outputs": [],
   "source": [
    "# listeye başka bir liste ekler\n",
    "\n",
    "sesli_harfler = [\"a\", \"e\", \"ı\", \"u\", \"o\"]\n",
    "noktali_sesliler = [\"i\", \"ü\", \"ö\"]"
   ]
  },
  {
   "cell_type": "code",
   "execution_count": 71,
   "id": "commercial-scottish",
   "metadata": {},
   "outputs": [
    {
     "data": {
      "text/plain": [
       "['a', 'e', 'ı', 'u', 'o', 'i', 'ü', 'ö']"
      ]
     },
     "execution_count": 71,
     "metadata": {},
     "output_type": "execute_result"
    }
   ],
   "source": [
    "sesli_harfler.extend(noktali_sesliler)\n",
    "sesli_harfler"
   ]
  },
  {
   "cell_type": "markdown",
   "id": "taken-prior",
   "metadata": {},
   "source": [
    "**sort()**"
   ]
  },
  {
   "cell_type": "code",
   "execution_count": 72,
   "id": "split-painting",
   "metadata": {},
   "outputs": [
    {
     "data": {
      "text/plain": [
       "['d', 'c', 'e', 'b', 'a']"
      ]
     },
     "execution_count": 72,
     "metadata": {},
     "output_type": "execute_result"
    }
   ],
   "source": [
    "# sort() listeyi yerinde sıralar\n",
    "\n",
    "t = ['d', 'c', 'e', 'b', 'a']\n",
    "t"
   ]
  },
  {
   "cell_type": "code",
   "execution_count": 73,
   "id": "fixed-reunion",
   "metadata": {},
   "outputs": [],
   "source": [
    "t.sort()"
   ]
  },
  {
   "cell_type": "code",
   "execution_count": 74,
   "id": "proud-behavior",
   "metadata": {},
   "outputs": [
    {
     "data": {
      "text/plain": [
       "['a', 'b', 'c', 'd', 'e']"
      ]
     },
     "execution_count": 74,
     "metadata": {},
     "output_type": "execute_result"
    }
   ],
   "source": [
    "t"
   ]
  },
  {
   "cell_type": "markdown",
   "id": "urban-pickup",
   "metadata": {},
   "source": [
    "sort() -> defalt (Küçükten Büyüğe)\n",
    "\n",
    "`reverse` parametresi ile sıralama yönü değiştirilebilir.\n",
    "\n",
    "`reverse=True` tersten sırala demektir.\n",
    "\n",
    "`reverse=False` normal sıralar (defult)"
   ]
  },
  {
   "cell_type": "code",
   "execution_count": 75,
   "id": "clinical-arkansas",
   "metadata": {},
   "outputs": [
    {
     "data": {
      "text/plain": [
       "['e', 'd', 'c', 'b', 'a']"
      ]
     },
     "execution_count": 75,
     "metadata": {},
     "output_type": "execute_result"
    }
   ],
   "source": [
    "t.sort(reverse=True)\n",
    "t"
   ]
  },
  {
   "cell_type": "markdown",
   "id": "automated-window",
   "metadata": {},
   "source": [
    "**sorted()**"
   ]
  },
  {
   "cell_type": "code",
   "execution_count": 76,
   "id": "developmental-penny",
   "metadata": {},
   "outputs": [
    {
     "data": {
      "text/plain": [
       "[4, 2, 1, 6, 3]"
      ]
     },
     "execution_count": 76,
     "metadata": {},
     "output_type": "execute_result"
    }
   ],
   "source": [
    "# sorted() listenin sıralı kopyasını verir\n",
    "\n",
    "a = [4,2,1,6,3]\n",
    "a"
   ]
  },
  {
   "cell_type": "code",
   "execution_count": 78,
   "id": "latter-wages",
   "metadata": {},
   "outputs": [
    {
     "data": {
      "text/plain": [
       "[1, 2, 3, 4, 6]"
      ]
     },
     "execution_count": 78,
     "metadata": {},
     "output_type": "execute_result"
    }
   ],
   "source": [
    "b = sorted(a)\n",
    "b"
   ]
  },
  {
   "cell_type": "code",
   "execution_count": 79,
   "id": "extraordinary-orleans",
   "metadata": {},
   "outputs": [
    {
     "data": {
      "text/plain": [
       "[4, 2, 1, 6, 3]"
      ]
     },
     "execution_count": 79,
     "metadata": {},
     "output_type": "execute_result"
    }
   ],
   "source": [
    "a"
   ]
  },
  {
   "cell_type": "code",
   "execution_count": 80,
   "id": "quality-productivity",
   "metadata": {},
   "outputs": [
    {
     "data": {
      "text/plain": [
       "[6, 4, 3, 2, 1]"
      ]
     },
     "execution_count": 80,
     "metadata": {},
     "output_type": "execute_result"
    }
   ],
   "source": [
    "c = sorted(a, reverse=True)\n",
    "c"
   ]
  },
  {
   "cell_type": "code",
   "execution_count": 81,
   "id": "naked-symbol",
   "metadata": {},
   "outputs": [
    {
     "data": {
      "text/plain": [
       "[4, 2, 1, 6, 3]"
      ]
     },
     "execution_count": 81,
     "metadata": {},
     "output_type": "execute_result"
    }
   ],
   "source": [
    "a"
   ]
  },
  {
   "cell_type": "markdown",
   "id": "living-roads",
   "metadata": {},
   "source": [
    "### List'den Eleman Silmek (Delete)"
   ]
  },
  {
   "cell_type": "markdown",
   "id": "outer-relative",
   "metadata": {},
   "source": [
    "Listeden eleman silmek bir kaç yöntem ile yapılır:\n",
    "\n",
    "* 1- Eğer silinecek elemanın index'ini biliyorsak -> **pop(index)**"
   ]
  },
  {
   "cell_type": "code",
   "execution_count": 82,
   "id": "devoted-trigger",
   "metadata": {},
   "outputs": [],
   "source": [
    "dizi = ['x', 'y', 'z', 't']\n",
    "\n",
    "# pop() fonksiyonu bize silinen elemanı geri döner\n",
    "\n",
    "silinen = dizi.pop(2)"
   ]
  },
  {
   "cell_type": "code",
   "execution_count": 83,
   "id": "alternate-motion",
   "metadata": {},
   "outputs": [
    {
     "data": {
      "text/plain": [
       "['x', 'y', 't']"
      ]
     },
     "execution_count": 83,
     "metadata": {},
     "output_type": "execute_result"
    }
   ],
   "source": [
    "dizi"
   ]
  },
  {
   "cell_type": "code",
   "execution_count": 84,
   "id": "jewish-northeast",
   "metadata": {},
   "outputs": [
    {
     "data": {
      "text/plain": [
       "'z'"
      ]
     },
     "execution_count": 84,
     "metadata": {},
     "output_type": "execute_result"
    }
   ],
   "source": [
    "silinen"
   ]
  },
  {
   "cell_type": "markdown",
   "id": "north-calendar",
   "metadata": {},
   "source": [
    "Eğer pop()'a index geçmezseniz ne olur?\n",
    "\n",
    "En sondaki elemanı siler."
   ]
  },
  {
   "cell_type": "code",
   "execution_count": 85,
   "id": "coral-reader",
   "metadata": {},
   "outputs": [
    {
     "data": {
      "text/plain": [
       "'t'"
      ]
     },
     "execution_count": 85,
     "metadata": {},
     "output_type": "execute_result"
    }
   ],
   "source": [
    "dizi.pop()"
   ]
  },
  {
   "cell_type": "code",
   "execution_count": 86,
   "id": "incorporate-buffalo",
   "metadata": {},
   "outputs": [
    {
     "data": {
      "text/plain": [
       "['x', 'y']"
      ]
     },
     "execution_count": 86,
     "metadata": {},
     "output_type": "execute_result"
    }
   ],
   "source": [
    "dizi"
   ]
  },
  {
   "cell_type": "markdown",
   "id": "metropolitan-wings",
   "metadata": {},
   "source": [
    "* 2- Eğer silinen elemana ihtiyacınız yoksa: `del` "
   ]
  },
  {
   "cell_type": "code",
   "execution_count": 87,
   "id": "suspected-repository",
   "metadata": {},
   "outputs": [],
   "source": [
    "dizi = [\"k\", \"l\", \"m\", \"n\", \"o\"]\n",
    "\n",
    "# dizinin 2. index'teki yani 'm' yi silelim\n",
    "\n",
    "del dizi[2]"
   ]
  },
  {
   "cell_type": "code",
   "execution_count": 88,
   "id": "metallic-cream",
   "metadata": {},
   "outputs": [
    {
     "data": {
      "text/plain": [
       "['k', 'l', 'n', 'o']"
      ]
     },
     "execution_count": 88,
     "metadata": {},
     "output_type": "execute_result"
    }
   ],
   "source": [
    "dizi"
   ]
  },
  {
   "cell_type": "code",
   "execution_count": 89,
   "id": "daily-selling",
   "metadata": {},
   "outputs": [],
   "source": [
    "# 3. index'teki elemanı sil\n",
    "\n",
    "del dizi[3]"
   ]
  },
  {
   "cell_type": "code",
   "execution_count": 90,
   "id": "embedded-occasions",
   "metadata": {},
   "outputs": [
    {
     "data": {
      "text/plain": [
       "['k', 'l', 'n']"
      ]
     },
     "execution_count": 90,
     "metadata": {},
     "output_type": "execute_result"
    }
   ],
   "source": [
    "dizi"
   ]
  },
  {
   "cell_type": "markdown",
   "id": "color-pharmacy",
   "metadata": {},
   "source": [
    "Tek seferde birden fazla eleman silmek için -> slice (dilim)"
   ]
  },
  {
   "cell_type": "code",
   "execution_count": 91,
   "id": "juvenile-consent",
   "metadata": {},
   "outputs": [],
   "source": [
    "t = ['a', 'b', 'c', 'd', 'e', 'f']\n",
    "\n",
    "# 1. indexten 5. indexe kadar sil\n",
    "\n",
    "del t[1:5]"
   ]
  },
  {
   "cell_type": "code",
   "execution_count": 92,
   "id": "million-christianity",
   "metadata": {},
   "outputs": [
    {
     "data": {
      "text/plain": [
       "['a', 'f']"
      ]
     },
     "execution_count": 92,
     "metadata": {},
     "output_type": "execute_result"
    }
   ],
   "source": [
    "t"
   ]
  },
  {
   "cell_type": "markdown",
   "id": "apparent-quarterly",
   "metadata": {},
   "source": [
    "* 3- Eğer silinecek elemanın kendisini biliyorsak (index değil) -> `remove(eleman)`"
   ]
  },
  {
   "cell_type": "code",
   "execution_count": 93,
   "id": "extraordinary-collection",
   "metadata": {},
   "outputs": [],
   "source": [
    "t = ['a', 'b', 'c', 'd', 'e', 'f']\n",
    "\n",
    "# d harfini sil\n",
    "\n",
    "t.remove('d')"
   ]
  },
  {
   "cell_type": "code",
   "execution_count": 94,
   "id": "needed-arbor",
   "metadata": {},
   "outputs": [
    {
     "data": {
      "text/plain": [
       "['a', 'b', 'c', 'e', 'f']"
      ]
     },
     "execution_count": 94,
     "metadata": {},
     "output_type": "execute_result"
    }
   ],
   "source": [
    "t"
   ]
  },
  {
   "cell_type": "code",
   "execution_count": 95,
   "id": "tough-animation",
   "metadata": {},
   "outputs": [],
   "source": [
    "# e harfini sil\n",
    "\n",
    "t.remove('e')"
   ]
  },
  {
   "cell_type": "code",
   "execution_count": 96,
   "id": "comfortable-shade",
   "metadata": {},
   "outputs": [
    {
     "data": {
      "text/plain": [
       "['a', 'b', 'c', 'f']"
      ]
     },
     "execution_count": 96,
     "metadata": {},
     "output_type": "execute_result"
    }
   ],
   "source": [
    "t"
   ]
  },
  {
   "cell_type": "code",
   "execution_count": 97,
   "id": "quiet-extreme",
   "metadata": {},
   "outputs": [
    {
     "ename": "ValueError",
     "evalue": "list.remove(x): x not in list",
     "output_type": "error",
     "traceback": [
      "\u001b[1;31m---------------------------------------------------------------------------\u001b[0m",
      "\u001b[1;31mValueError\u001b[0m                                Traceback (most recent call last)",
      "\u001b[1;32m<ipython-input-97-34b1a5003677>\u001b[0m in \u001b[0;36m<module>\u001b[1;34m\u001b[0m\n\u001b[0;32m      1\u001b[0m \u001b[1;31m# eğer olamayan bir eleman'ı remove etmeye çalışırsak\u001b[0m\u001b[1;33m\u001b[0m\u001b[1;33m\u001b[0m\u001b[1;33m\u001b[0m\u001b[0m\n\u001b[0;32m      2\u001b[0m \u001b[1;33m\u001b[0m\u001b[0m\n\u001b[1;32m----> 3\u001b[1;33m \u001b[0mt\u001b[0m\u001b[1;33m.\u001b[0m\u001b[0mremove\u001b[0m\u001b[1;33m(\u001b[0m\u001b[1;34m'k'\u001b[0m\u001b[1;33m)\u001b[0m\u001b[1;33m\u001b[0m\u001b[1;33m\u001b[0m\u001b[0m\n\u001b[0m",
      "\u001b[1;31mValueError\u001b[0m: list.remove(x): x not in list"
     ]
    }
   ],
   "source": [
    "# eğer olamayan bir eleman'ı remove etmeye çalışırsak\n",
    "\n",
    "t.remove('k')"
   ]
  },
  {
   "cell_type": "markdown",
   "id": "cordless-budget",
   "metadata": {},
   "source": [
    "### List'ler ve String'ler"
   ]
  },
  {
   "cell_type": "markdown",
   "id": "discrete-capture",
   "metadata": {},
   "source": [
    "String bir karakter dizisi, List ise değerler dizisidir.\n",
    "\n",
    "İkisi de dizidir."
   ]
  },
  {
   "cell_type": "markdown",
   "id": "hourly-injection",
   "metadata": {},
   "source": [
    "Eğer bir String'i, List'e çevirmek istersek `list()` yapıcısını (constructor) kullanılır."
   ]
  },
  {
   "cell_type": "code",
   "execution_count": 98,
   "id": "black-contrast",
   "metadata": {},
   "outputs": [
    {
     "data": {
      "text/plain": [
       "'Pazartesi'"
      ]
     },
     "execution_count": 98,
     "metadata": {},
     "output_type": "execute_result"
    }
   ],
   "source": [
    "gun = 'Pazartesi'\n",
    "gun"
   ]
  },
  {
   "cell_type": "code",
   "execution_count": 99,
   "id": "annual-hunger",
   "metadata": {},
   "outputs": [
    {
     "data": {
      "text/plain": [
       "str"
      ]
     },
     "execution_count": 99,
     "metadata": {},
     "output_type": "execute_result"
    }
   ],
   "source": [
    "type(gun)"
   ]
  },
  {
   "cell_type": "code",
   "execution_count": 100,
   "id": "experienced-heaven",
   "metadata": {},
   "outputs": [
    {
     "data": {
      "text/plain": [
       "['P', 'a', 'z', 'a', 'r', 't', 'e', 's', 'i']"
      ]
     },
     "execution_count": 100,
     "metadata": {},
     "output_type": "execute_result"
    }
   ],
   "source": [
    "gun_harflerini = list(gun)\n",
    "gun_harflerini"
   ]
  },
  {
   "cell_type": "code",
   "execution_count": 101,
   "id": "common-aircraft",
   "metadata": {},
   "outputs": [
    {
     "data": {
      "text/plain": [
       "list"
      ]
     },
     "execution_count": 101,
     "metadata": {},
     "output_type": "execute_result"
    }
   ],
   "source": [
    "type(gun_harflerini)"
   ]
  },
  {
   "cell_type": "code",
   "execution_count": 102,
   "id": "opening-bicycle",
   "metadata": {},
   "outputs": [],
   "source": [
    "list = [1, 2, 3]"
   ]
  },
  {
   "cell_type": "code",
   "execution_count": 103,
   "id": "varying-grain",
   "metadata": {},
   "outputs": [
    {
     "data": {
      "text/plain": [
       "[1, 2, 3]"
      ]
     },
     "execution_count": 103,
     "metadata": {},
     "output_type": "execute_result"
    }
   ],
   "source": [
    "list"
   ]
  },
  {
   "cell_type": "code",
   "execution_count": 104,
   "id": "choice-personality",
   "metadata": {},
   "outputs": [
    {
     "ename": "TypeError",
     "evalue": "'list' object is not callable",
     "output_type": "error",
     "traceback": [
      "\u001b[1;31m---------------------------------------------------------------------------\u001b[0m",
      "\u001b[1;31mTypeError\u001b[0m                                 Traceback (most recent call last)",
      "\u001b[1;32m<ipython-input-104-908efb3ca735>\u001b[0m in \u001b[0;36m<module>\u001b[1;34m\u001b[0m\n\u001b[1;32m----> 1\u001b[1;33m \u001b[0mgun_harflerini\u001b[0m \u001b[1;33m=\u001b[0m \u001b[0mlist\u001b[0m\u001b[1;33m(\u001b[0m\u001b[0mgun\u001b[0m\u001b[1;33m)\u001b[0m\u001b[1;33m\u001b[0m\u001b[1;33m\u001b[0m\u001b[0m\n\u001b[0m",
      "\u001b[1;31mTypeError\u001b[0m: 'list' object is not callable"
     ]
    }
   ],
   "source": [
    "gun_harflerini = list(gun)"
   ]
  },
  {
   "cell_type": "markdown",
   "id": "intelligent-compromise",
   "metadata": {},
   "source": [
    "**Önemli:** Python'un hazır veri tiplerini bir değişken adı olarak kullanmayın."
   ]
  },
  {
   "cell_type": "code",
   "execution_count": 1,
   "id": "spatial-alert",
   "metadata": {},
   "outputs": [
    {
     "data": {
      "text/plain": [
       "'bugün hava biraz soğuk'"
      ]
     },
     "execution_count": 1,
     "metadata": {},
     "output_type": "execute_result"
    }
   ],
   "source": [
    "metin = 'bugün hava biraz soğuk'\n",
    "metin"
   ]
  },
  {
   "cell_type": "code",
   "execution_count": 2,
   "id": "mighty-ferry",
   "metadata": {},
   "outputs": [],
   "source": [
    "# metnin kelimelerini split() edelim\n",
    "\n",
    "kelimeler = metin.split()"
   ]
  },
  {
   "cell_type": "code",
   "execution_count": 3,
   "id": "associate-crisis",
   "metadata": {},
   "outputs": [
    {
     "data": {
      "text/plain": [
       "['bugün', 'hava', 'biraz', 'soğuk']"
      ]
     },
     "execution_count": 3,
     "metadata": {},
     "output_type": "execute_result"
    }
   ],
   "source": [
    "kelimeler"
   ]
  },
  {
   "cell_type": "code",
   "execution_count": 4,
   "id": "floating-editor",
   "metadata": {},
   "outputs": [
    {
     "data": {
      "text/plain": [
       "list"
      ]
     },
     "execution_count": 4,
     "metadata": {},
     "output_type": "execute_result"
    }
   ],
   "source": [
    "type(kelimeler)"
   ]
  },
  {
   "cell_type": "code",
   "execution_count": 7,
   "id": "native-settle",
   "metadata": {},
   "outputs": [
    {
     "data": {
      "text/plain": [
       "['b',\n",
       " 'u',\n",
       " 'g',\n",
       " 'ü',\n",
       " 'n',\n",
       " ' ',\n",
       " 'h',\n",
       " 'a',\n",
       " 'v',\n",
       " 'a',\n",
       " ' ',\n",
       " 'b',\n",
       " 'i',\n",
       " 'r',\n",
       " 'a',\n",
       " 'z',\n",
       " ' ',\n",
       " 's',\n",
       " 'o',\n",
       " 'ğ',\n",
       " 'u',\n",
       " 'k']"
      ]
     },
     "execution_count": 7,
     "metadata": {},
     "output_type": "execute_result"
    }
   ],
   "source": [
    "# metnin harflerini almak istesek\n",
    "\n",
    "harfler = list(metin)\n",
    "harfler"
   ]
  },
  {
   "cell_type": "code",
   "execution_count": 8,
   "id": "hearing-joint",
   "metadata": {},
   "outputs": [
    {
     "data": {
      "text/plain": [
       "['spam', 'spam', 'spam', 'spam']"
      ]
     },
     "execution_count": 8,
     "metadata": {},
     "output_type": "execute_result"
    }
   ],
   "source": [
    "mailbox = 'spam-spam-spam-spam'\n",
    "karakter = '-'\n",
    "\n",
    "mailler = mailbox.split(karakter)\n",
    "mailler"
   ]
  },
  {
   "cell_type": "markdown",
   "id": "dangerous-festival",
   "metadata": {},
   "source": [
    "**join()**\n",
    "\n",
    "split()'in tam tersidir."
   ]
  },
  {
   "cell_type": "code",
   "execution_count": 9,
   "id": "certain-termination",
   "metadata": {},
   "outputs": [
    {
     "data": {
      "text/plain": [
       "'güneş açar yüzler güler'"
      ]
     },
     "execution_count": 9,
     "metadata": {},
     "output_type": "execute_result"
    }
   ],
   "source": [
    "kelimeler = ['güneş', 'açar', 'yüzler', 'güler']\n",
    "\n",
    "# join()\n",
    "cumle = ' '.join(kelimeler)\n",
    "cumle"
   ]
  },
  {
   "cell_type": "code",
   "execution_count": 10,
   "id": "broken-oxford",
   "metadata": {},
   "outputs": [
    {
     "data": {
      "text/plain": [
       "'güneş-açar-yüzler-güler'"
      ]
     },
     "execution_count": 10,
     "metadata": {},
     "output_type": "execute_result"
    }
   ],
   "source": [
    "cumle = '-'.join(kelimeler)\n",
    "cumle"
   ]
  },
  {
   "cell_type": "markdown",
   "id": "middle-manor",
   "metadata": {},
   "source": [
    "### Range Fonksiyonu ile List Üretmek"
   ]
  },
  {
   "cell_type": "code",
   "execution_count": 11,
   "id": "helpful-kruger",
   "metadata": {},
   "outputs": [
    {
     "data": {
      "text/plain": [
       "range(1, 10, 2)"
      ]
     },
     "execution_count": 11,
     "metadata": {},
     "output_type": "execute_result"
    }
   ],
   "source": [
    "range(1, 10, 2)"
   ]
  },
  {
   "cell_type": "code",
   "execution_count": 12,
   "id": "novel-starter",
   "metadata": {},
   "outputs": [
    {
     "name": "stdout",
     "output_type": "stream",
     "text": [
      "1\n",
      "3\n",
      "5\n",
      "7\n",
      "9\n"
     ]
    }
   ],
   "source": [
    "for i in range(1, 10, 2):\n",
    "    print(i)"
   ]
  },
  {
   "cell_type": "code",
   "execution_count": 13,
   "id": "norman-arcade",
   "metadata": {},
   "outputs": [
    {
     "data": {
      "text/plain": [
       "[2, 5, 8, 11, 14, 17, 20, 23, 26, 29]"
      ]
     },
     "execution_count": 13,
     "metadata": {},
     "output_type": "execute_result"
    }
   ],
   "source": [
    "# bize 2'den 30'a kadar giden, 3'er artan sayılar lazım\n",
    "\n",
    "liste = [2, 5, 8, 11, 14, 17, 20, 23, 26, 29]\n",
    "liste"
   ]
  },
  {
   "cell_type": "code",
   "execution_count": 15,
   "id": "hired-extreme",
   "metadata": {},
   "outputs": [],
   "source": [
    "aralik = range(2, 30, 3)"
   ]
  },
  {
   "cell_type": "code",
   "execution_count": 16,
   "id": "secondary-recruitment",
   "metadata": {},
   "outputs": [
    {
     "data": {
      "text/plain": [
       "[2, 5, 8, 11, 14, 17, 20, 23, 26, 29]"
      ]
     },
     "execution_count": 16,
     "metadata": {},
     "output_type": "execute_result"
    }
   ],
   "source": [
    "range_liste = list(aralik)\n",
    "range_liste"
   ]
  },
  {
   "cell_type": "code",
   "execution_count": 17,
   "id": "efficient-dining",
   "metadata": {},
   "outputs": [
    {
     "data": {
      "text/plain": [
       "[2, 5, 8, 11, 14, 17, 20, 23, 26, 29]"
      ]
     },
     "execution_count": 17,
     "metadata": {},
     "output_type": "execute_result"
    }
   ],
   "source": [
    "list(range(2, 30, 3))"
   ]
  },
  {
   "cell_type": "code",
   "execution_count": 18,
   "id": "dangerous-valuable",
   "metadata": {},
   "outputs": [
    {
     "data": {
      "text/plain": [
       "[2,\n",
       " 6,\n",
       " 10,\n",
       " 14,\n",
       " 18,\n",
       " 22,\n",
       " 26,\n",
       " 30,\n",
       " 34,\n",
       " 38,\n",
       " 42,\n",
       " 46,\n",
       " 50,\n",
       " 54,\n",
       " 58,\n",
       " 62,\n",
       " 66,\n",
       " 70,\n",
       " 74,\n",
       " 78,\n",
       " 82,\n",
       " 86,\n",
       " 90,\n",
       " 94,\n",
       " 98]"
      ]
     },
     "execution_count": 18,
     "metadata": {},
     "output_type": "execute_result"
    }
   ],
   "source": [
    "# 2'den başla 100' kadar, 4'er artan sayılar\n",
    "\n",
    "list(range(2, 100, 4))"
   ]
  },
  {
   "cell_type": "markdown",
   "id": "popular-copper",
   "metadata": {},
   "source": [
    "### Nesneler ve Değerler"
   ]
  },
  {
   "cell_type": "code",
   "execution_count": 19,
   "id": "foster-investing",
   "metadata": {},
   "outputs": [],
   "source": [
    "a = 'kivi'\n",
    "\n",
    "b = 'kivi'"
   ]
  },
  {
   "cell_type": "code",
   "execution_count": 20,
   "id": "unknown-compiler",
   "metadata": {},
   "outputs": [
    {
     "data": {
      "text/plain": [
       "1971640093424"
      ]
     },
     "execution_count": 20,
     "metadata": {},
     "output_type": "execute_result"
    }
   ],
   "source": [
    "id(a)"
   ]
  },
  {
   "cell_type": "code",
   "execution_count": 21,
   "id": "maritime-glory",
   "metadata": {},
   "outputs": [
    {
     "data": {
      "text/plain": [
       "1971640093424"
      ]
     },
     "execution_count": 21,
     "metadata": {},
     "output_type": "execute_result"
    }
   ],
   "source": [
    "id(b)"
   ]
  },
  {
   "cell_type": "code",
   "execution_count": 22,
   "id": "charitable-recovery",
   "metadata": {},
   "outputs": [
    {
     "data": {
      "text/plain": [
       "True"
      ]
     },
     "execution_count": 22,
     "metadata": {},
     "output_type": "execute_result"
    }
   ],
   "source": [
    "a == b"
   ]
  },
  {
   "cell_type": "markdown",
   "id": "educational-damages",
   "metadata": {},
   "source": [
    "Python iki değişkenin \n",
    "* değeri aynı ve \n",
    "* değişkenler **Immutable** (str) \n",
    "\n",
    "olduğu için iki farklı farklı değişken yaratmak yerine, ikisini aynı adrese yolladı."
   ]
  },
  {
   "cell_type": "code",
   "execution_count": 23,
   "id": "antique-hepatitis",
   "metadata": {},
   "outputs": [
    {
     "data": {
      "text/plain": [
       "True"
      ]
     },
     "execution_count": 23,
     "metadata": {},
     "output_type": "execute_result"
    }
   ],
   "source": [
    "id(a) == id(b)"
   ]
  },
  {
   "cell_type": "code",
   "execution_count": 24,
   "id": "further-dressing",
   "metadata": {},
   "outputs": [],
   "source": [
    "b = 'kivis'"
   ]
  },
  {
   "cell_type": "code",
   "execution_count": 25,
   "id": "arctic-integer",
   "metadata": {},
   "outputs": [
    {
     "data": {
      "text/plain": [
       "'kivis'"
      ]
     },
     "execution_count": 25,
     "metadata": {},
     "output_type": "execute_result"
    }
   ],
   "source": [
    "b"
   ]
  },
  {
   "cell_type": "code",
   "execution_count": 26,
   "id": "copyrighted-ticket",
   "metadata": {},
   "outputs": [
    {
     "data": {
      "text/plain": [
       "1971640766000"
      ]
     },
     "execution_count": 26,
     "metadata": {},
     "output_type": "execute_result"
    }
   ],
   "source": [
    "id(b)"
   ]
  },
  {
   "cell_type": "code",
   "execution_count": 27,
   "id": "laughing-julian",
   "metadata": {},
   "outputs": [
    {
     "data": {
      "text/plain": [
       "False"
      ]
     },
     "execution_count": 27,
     "metadata": {},
     "output_type": "execute_result"
    }
   ],
   "source": [
    "a == b"
   ]
  },
  {
   "cell_type": "code",
   "execution_count": 28,
   "id": "virgin-support",
   "metadata": {},
   "outputs": [
    {
     "data": {
      "text/plain": [
       "False"
      ]
     },
     "execution_count": 28,
     "metadata": {},
     "output_type": "execute_result"
    }
   ],
   "source": [
    "id(a) == id(b)"
   ]
  },
  {
   "cell_type": "markdown",
   "id": "institutional-richmond",
   "metadata": {},
   "source": [
    "Artık a ve b farklı değerler aldığına göre, b için yeni bir adres yarattı."
   ]
  },
  {
   "cell_type": "markdown",
   "id": "later-naples",
   "metadata": {},
   "source": [
    "Acaba değişkenler List olsaydı?"
   ]
  },
  {
   "cell_type": "code",
   "execution_count": 29,
   "id": "extra-notification",
   "metadata": {},
   "outputs": [],
   "source": [
    "x = [1, 2, 3]\n",
    "\n",
    "y = [1, 2, 3]"
   ]
  },
  {
   "cell_type": "code",
   "execution_count": 30,
   "id": "heard-demand",
   "metadata": {},
   "outputs": [
    {
     "name": "stdout",
     "output_type": "stream",
     "text": [
      "[1, 2, 3]\n",
      "[1, 2, 3]\n"
     ]
    }
   ],
   "source": [
    "print(x)\n",
    "print(y)"
   ]
  },
  {
   "cell_type": "code",
   "execution_count": 31,
   "id": "developed-acrylic",
   "metadata": {},
   "outputs": [
    {
     "data": {
      "text/plain": [
       "True"
      ]
     },
     "execution_count": 31,
     "metadata": {},
     "output_type": "execute_result"
    }
   ],
   "source": [
    "# == değerlere bakar\n",
    "\n",
    "x == y"
   ]
  },
  {
   "cell_type": "code",
   "execution_count": 32,
   "id": "fourth-company",
   "metadata": {},
   "outputs": [
    {
     "data": {
      "text/plain": [
       "1971640723840"
      ]
     },
     "execution_count": 32,
     "metadata": {},
     "output_type": "execute_result"
    }
   ],
   "source": [
    "id(x)"
   ]
  },
  {
   "cell_type": "code",
   "execution_count": 33,
   "id": "mechanical-bruce",
   "metadata": {},
   "outputs": [
    {
     "data": {
      "text/plain": [
       "1971654579648"
      ]
     },
     "execution_count": 33,
     "metadata": {},
     "output_type": "execute_result"
    }
   ],
   "source": [
    "id(y)"
   ]
  },
  {
   "cell_type": "code",
   "execution_count": 34,
   "id": "entire-miami",
   "metadata": {},
   "outputs": [
    {
     "data": {
      "text/plain": [
       "False"
      ]
     },
     "execution_count": 34,
     "metadata": {},
     "output_type": "execute_result"
    }
   ],
   "source": [
    "id(x) == id(y)"
   ]
  },
  {
   "cell_type": "markdown",
   "id": "beginning-winner",
   "metadata": {},
   "source": [
    "**==** kontrolü -> eşitlik (equivalent)   -> değer\n",
    "\n",
    "**id(x) == id(y)** kontrolü -> aynılık (identical)   -> nesneler"
   ]
  },
  {
   "cell_type": "markdown",
   "id": "valued-laugh",
   "metadata": {},
   "source": [
    "### `is` İfadesi"
   ]
  },
  {
   "cell_type": "markdown",
   "id": "clinical-insight",
   "metadata": {},
   "source": [
    "<pre>\n",
    "x == y          -> Değer Kontolü  (Equivalent)\n",
    " \n",
    "id(x) == id(y)  -> Nesne Kontrolü (Identical) -> is\n",
    "</pre>"
   ]
  },
  {
   "cell_type": "code",
   "execution_count": 35,
   "id": "underlying-sitting",
   "metadata": {},
   "outputs": [],
   "source": [
    "a = [1,2,3,4,5]\n",
    "\n",
    "b = [1,2,3,4,5]"
   ]
  },
  {
   "cell_type": "code",
   "execution_count": 38,
   "id": "dying-intersection",
   "metadata": {},
   "outputs": [
    {
     "data": {
      "text/plain": [
       "False"
      ]
     },
     "execution_count": 38,
     "metadata": {},
     "output_type": "execute_result"
    }
   ],
   "source": [
    "# şimdi a ile b aynı nesne mi bakalım?\n",
    "\n",
    "# identical\n",
    "a is b"
   ]
  },
  {
   "cell_type": "code",
   "execution_count": 37,
   "id": "dried-serbia",
   "metadata": {},
   "outputs": [
    {
     "data": {
      "text/plain": [
       "True"
      ]
     },
     "execution_count": 37,
     "metadata": {},
     "output_type": "execute_result"
    }
   ],
   "source": [
    "s1 = 'bilgisayar'\n",
    "s2 = 'bilgisayar'\n",
    "\n",
    "s1 is s2"
   ]
  },
  {
   "cell_type": "code",
   "execution_count": 39,
   "id": "academic-batch",
   "metadata": {},
   "outputs": [
    {
     "data": {
      "text/plain": [
       "True"
      ]
     },
     "execution_count": 39,
     "metadata": {},
     "output_type": "execute_result"
    }
   ],
   "source": [
    "a == b"
   ]
  },
  {
   "cell_type": "code",
   "execution_count": 40,
   "id": "rising-radar",
   "metadata": {},
   "outputs": [
    {
     "data": {
      "text/plain": [
       "True"
      ]
     },
     "execution_count": 40,
     "metadata": {},
     "output_type": "execute_result"
    }
   ],
   "source": [
    "s1 == s2"
   ]
  },
  {
   "cell_type": "code",
   "execution_count": 41,
   "id": "departmental-delaware",
   "metadata": {},
   "outputs": [
    {
     "data": {
      "text/plain": [
       "False"
      ]
     },
     "execution_count": 41,
     "metadata": {},
     "output_type": "execute_result"
    }
   ],
   "source": [
    "b is a"
   ]
  },
  {
   "cell_type": "code",
   "execution_count": 42,
   "id": "involved-bulgaria",
   "metadata": {},
   "outputs": [
    {
     "data": {
      "text/plain": [
       "True"
      ]
     },
     "execution_count": 42,
     "metadata": {},
     "output_type": "execute_result"
    }
   ],
   "source": [
    "s2 is s1"
   ]
  },
  {
   "cell_type": "markdown",
   "id": "advanced-michigan",
   "metadata": {},
   "source": [
    "### Alising (Yeni Bir Ad Verme)"
   ]
  },
  {
   "cell_type": "markdown",
   "id": "identified-beaver",
   "metadata": {},
   "source": [
    "**Python'da Tip Türleri:**\n",
    "\n",
    "* Primitive Tipler: int, float, string, boolean\n",
    "* Non-Primitive Tipler: list, dict, tupe ..."
   ]
  },
  {
   "cell_type": "markdown",
   "id": "anonymous-worcester",
   "metadata": {},
   "source": [
    "**Primitive Tipler:**"
   ]
  },
  {
   "cell_type": "code",
   "execution_count": 43,
   "id": "romantic-north",
   "metadata": {},
   "outputs": [],
   "source": [
    "x = 24\n",
    "y = x"
   ]
  },
  {
   "cell_type": "code",
   "execution_count": 44,
   "id": "strategic-bishop",
   "metadata": {},
   "outputs": [
    {
     "data": {
      "text/plain": [
       "True"
      ]
     },
     "execution_count": 44,
     "metadata": {},
     "output_type": "execute_result"
    }
   ],
   "source": [
    "x == y"
   ]
  },
  {
   "cell_type": "code",
   "execution_count": 45,
   "id": "cloudy-marker",
   "metadata": {},
   "outputs": [
    {
     "data": {
      "text/plain": [
       "True"
      ]
     },
     "execution_count": 45,
     "metadata": {},
     "output_type": "execute_result"
    }
   ],
   "source": [
    "x is y"
   ]
  },
  {
   "cell_type": "code",
   "execution_count": 47,
   "id": "inner-ready",
   "metadata": {},
   "outputs": [],
   "source": [
    "# y'i tekrar ataylım\n",
    "\n",
    "y = 40"
   ]
  },
  {
   "cell_type": "code",
   "execution_count": 48,
   "id": "material-detection",
   "metadata": {},
   "outputs": [
    {
     "data": {
      "text/plain": [
       "False"
      ]
     },
     "execution_count": 48,
     "metadata": {},
     "output_type": "execute_result"
    }
   ],
   "source": [
    "x == y"
   ]
  },
  {
   "cell_type": "code",
   "execution_count": 49,
   "id": "sticky-virus",
   "metadata": {},
   "outputs": [
    {
     "data": {
      "text/plain": [
       "False"
      ]
     },
     "execution_count": 49,
     "metadata": {},
     "output_type": "execute_result"
    }
   ],
   "source": [
    "x is y"
   ]
  },
  {
   "cell_type": "markdown",
   "id": "quality-marine",
   "metadata": {},
   "source": [
    "**Non-Primitive Tipler**"
   ]
  },
  {
   "cell_type": "code",
   "execution_count": 50,
   "id": "defensive-deployment",
   "metadata": {},
   "outputs": [],
   "source": [
    "a = [1,2,3,4,5,6]\n",
    "\n",
    "b = a"
   ]
  },
  {
   "cell_type": "code",
   "execution_count": 51,
   "id": "suffering-green",
   "metadata": {},
   "outputs": [
    {
     "data": {
      "text/plain": [
       "True"
      ]
     },
     "execution_count": 51,
     "metadata": {},
     "output_type": "execute_result"
    }
   ],
   "source": [
    "a == b"
   ]
  },
  {
   "cell_type": "code",
   "execution_count": 52,
   "id": "chemical-reverse",
   "metadata": {},
   "outputs": [
    {
     "data": {
      "text/plain": [
       "True"
      ]
     },
     "execution_count": 52,
     "metadata": {},
     "output_type": "execute_result"
    }
   ],
   "source": [
    "a is b"
   ]
  },
  {
   "cell_type": "code",
   "execution_count": 53,
   "id": "protective-directory",
   "metadata": {},
   "outputs": [
    {
     "name": "stdout",
     "output_type": "stream",
     "text": [
      "a: [1, 2, 3, 4, 5, 6]\n",
      "b: [1, 2, 3, 4, 5, 6]\n"
     ]
    }
   ],
   "source": [
    "print('a:', a)\n",
    "print('b:', b)"
   ]
  },
  {
   "cell_type": "markdown",
   "id": "complete-chicago",
   "metadata": {},
   "source": [
    "Non-Primitive Tipler -> Yeniden Atama"
   ]
  },
  {
   "cell_type": "code",
   "execution_count": 54,
   "id": "stuck-jamaica",
   "metadata": {},
   "outputs": [],
   "source": [
    "b = [10, 20, 30, 40]"
   ]
  },
  {
   "cell_type": "code",
   "execution_count": 55,
   "id": "cleared-essex",
   "metadata": {},
   "outputs": [
    {
     "name": "stdout",
     "output_type": "stream",
     "text": [
      "a: [1, 2, 3, 4, 5, 6]\n",
      "b: [10, 20, 30, 40]\n"
     ]
    }
   ],
   "source": [
    "print('a:', a)\n",
    "print('b:', b)"
   ]
  },
  {
   "cell_type": "code",
   "execution_count": 56,
   "id": "extreme-birth",
   "metadata": {},
   "outputs": [
    {
     "data": {
      "text/plain": [
       "False"
      ]
     },
     "execution_count": 56,
     "metadata": {},
     "output_type": "execute_result"
    }
   ],
   "source": [
    "a == b"
   ]
  },
  {
   "cell_type": "code",
   "execution_count": 57,
   "id": "fantastic-transcription",
   "metadata": {},
   "outputs": [
    {
     "data": {
      "text/plain": [
       "False"
      ]
     },
     "execution_count": 57,
     "metadata": {},
     "output_type": "execute_result"
    }
   ],
   "source": [
    "a is b"
   ]
  },
  {
   "cell_type": "markdown",
   "id": "promotional-pottery",
   "metadata": {},
   "source": [
    "Non-Primitive Tipler -> Mutate Etseydik (Bir parçasını değiştirseydik)"
   ]
  },
  {
   "cell_type": "code",
   "execution_count": 58,
   "id": "painful-narrative",
   "metadata": {},
   "outputs": [],
   "source": [
    "a = [1,2,3,4,5,6]\n",
    "\n",
    "b = a"
   ]
  },
  {
   "cell_type": "code",
   "execution_count": 60,
   "id": "flying-advantage",
   "metadata": {},
   "outputs": [
    {
     "name": "stdout",
     "output_type": "stream",
     "text": [
      "a: [1, 2, 3, 4, 5, 6]\n",
      "b: [1, 2, 3, 4, 5, 6]\n"
     ]
    }
   ],
   "source": [
    "print('a:', a)\n",
    "print('b:', b)"
   ]
  },
  {
   "cell_type": "code",
   "execution_count": 61,
   "id": "finnish-bacteria",
   "metadata": {},
   "outputs": [],
   "source": [
    "b[0] = 'B'\n",
    "b[1] = 'C'"
   ]
  },
  {
   "cell_type": "code",
   "execution_count": 62,
   "id": "ordered-newsletter",
   "metadata": {},
   "outputs": [
    {
     "name": "stdout",
     "output_type": "stream",
     "text": [
      "a: ['B', 'C', 3, 4, 5, 6]\n",
      "b: ['B', 'C', 3, 4, 5, 6]\n"
     ]
    }
   ],
   "source": [
    "print('a:', a)\n",
    "print('b:', b)"
   ]
  },
  {
   "cell_type": "markdown",
   "id": "finnish-settlement",
   "metadata": {},
   "source": [
    "Mutasyon nesneleri ayırmaz. İkisini de aynı anda değiştirir."
   ]
  },
  {
   "cell_type": "markdown",
   "id": "innocent-remainder",
   "metadata": {},
   "source": [
    "O yüzden, Non-Primitive tiplerde, atama işlemi normal bir atama değil, bir yeniden adlandırma işlemidir. (alising)"
   ]
  },
  {
   "cell_type": "code",
   "execution_count": 63,
   "id": "adaptive-potato",
   "metadata": {},
   "outputs": [
    {
     "data": {
      "text/plain": [
       "True"
      ]
     },
     "execution_count": 63,
     "metadata": {},
     "output_type": "execute_result"
    }
   ],
   "source": [
    "a is b"
   ]
  },
  {
   "cell_type": "markdown",
   "id": "natural-weapon",
   "metadata": {},
   "source": [
    "### List'in Argüman olarak Fonksiyona Geçilmesi"
   ]
  },
  {
   "cell_type": "markdown",
   "id": "active-policy",
   "metadata": {},
   "source": [
    "**Fonksiyon içinde Listeyi Değiştirme (Mutate Etme) Örneği:**"
   ]
  },
  {
   "cell_type": "code",
   "execution_count": 67,
   "id": "rocky-scanner",
   "metadata": {},
   "outputs": [
    {
     "name": "stdout",
     "output_type": "stream",
     "text": [
      "Fonksiyona geçilmeden önce harfler: ['a', 'b', 'c']\n",
      "Fonksiyona geçildikten sonra harfler: ['a', 'A', 'b', 'B', 'c', 'C']\n"
     ]
    }
   ],
   "source": [
    "# Örnek:\n",
    "\n",
    "harfler = ['a', 'b', 'c']\n",
    "\n",
    "print(\"Fonksiyona geçilmeden önce harfler:\", harfler)\n",
    "\n",
    "def buyuk_harf_ekle(harf_listesi):\n",
    "    harf_listesi.insert(1, 'A')\n",
    "    harf_listesi.insert(3, 'B')\n",
    "    harf_listesi.insert(5, 'C')\n",
    "    \n",
    "\n",
    "# fonksiyonu çağır\n",
    "buyuk_harf_ekle(harfler)\n",
    "\n",
    "print(\"Fonksiyona geçildikten sonra harfler:\", harfler)\n"
   ]
  },
  {
   "cell_type": "markdown",
   "id": "increased-julian",
   "metadata": {},
   "source": [
    "List'ler, daha doğrusu Non-Primitive Tipler, bir fonksiyona parametre olarak geçilince;\n",
    "\n",
    "* kendileri geçer (adresleri geçer) -> Pass By Reference"
   ]
  },
  {
   "cell_type": "markdown",
   "id": "diverse-database",
   "metadata": {},
   "source": [
    "**Fonksiyon içinde Listeyi Tekrar Atama Örneği:**"
   ]
  },
  {
   "cell_type": "code",
   "execution_count": 68,
   "id": "excellent-nebraska",
   "metadata": {},
   "outputs": [
    {
     "name": "stdout",
     "output_type": "stream",
     "text": [
      "Fonksiyona geçilmeden önce harfler: ['a', 'b', 'c']\n",
      "Fonksiyona geçildikten sonra harfler: ['a', 'b', 'c']\n"
     ]
    }
   ],
   "source": [
    "# Örnek:\n",
    "\n",
    "harfler = ['a', 'b', 'c']\n",
    "\n",
    "print(\"Fonksiyona geçilmeden önce harfler:\", harfler)\n",
    "\n",
    "def buyuk_harf_ekle(harf_listesi):\n",
    "    harf_listesi = ['X', 'Y', 'Z']\n",
    "    \n",
    "\n",
    "# fonksiyonu çağır\n",
    "buyuk_harf_ekle(harfler)\n",
    "\n",
    "print(\"Fonksiyona geçildikten sonra harfler:\", harfler)"
   ]
  },
  {
   "cell_type": "markdown",
   "id": "third-gregory",
   "metadata": {},
   "source": [
    "Fonksiyon içinde parametre olarak gelen Liste yeniden atanırsa,\n",
    "\n",
    "* Orjinal listeye dokunmamış olur\n",
    "* Fonksiyon içinde yeni bir kopyası oluşmuş olur"
   ]
  },
  {
   "cell_type": "markdown",
   "id": "white-chicken",
   "metadata": {},
   "source": [
    "### Matris Operasyonları"
   ]
  },
  {
   "cell_type": "markdown",
   "id": "funded-religious",
   "metadata": {},
   "source": [
    "Python'da bir liste içinde başka listeler bulundurabilir. Buna `İç İçe Listeler (Nested Lists)` denir.\n",
    "\n",
    "Matematik dilinde Matris dediğimiz yapı, aslında Python'daki İç İçe Listelerdir.\n",
    "\n",
    "Bu bölümde amacımız, Matamatikteki Matrisleri işlemek değil, Matris kavramını kullanarak Python List'lerini daha iyi anlamak."
   ]
  },
  {
   "cell_type": "markdown",
   "id": "indian-student",
   "metadata": {},
   "source": [
    "A ve B adında iki matris tanımlayalım:"
   ]
  },
  {
   "cell_type": "markdown",
   "id": "lesbian-outdoors",
   "metadata": {},
   "source": [
    "$$ A = \\begin{bmatrix} 1 & 2 & 3 \\\\ 4 & 5 & 6 \\\\ 7 & 8 & 9 \\end{bmatrix} $$\n",
    "                       \n",
    "$$ B = \\begin{bmatrix} 10 & 20 & 30 \\\\ \n",
    "                       40 & 50 & 60 \\\\\n",
    "                       70 & 80 & 90 \\end{bmatrix} $$"
   ]
  },
  {
   "cell_type": "code",
   "execution_count": 80,
   "id": "stylish-skirt",
   "metadata": {},
   "outputs": [
    {
     "data": {
      "text/plain": [
       "[[1, 2, 3], [4, 5, 6], [7, 8, 9]]"
      ]
     },
     "execution_count": 80,
     "metadata": {},
     "output_type": "execute_result"
    }
   ],
   "source": [
    "A = [[1,2,3], \n",
    "     [4,5,6], \n",
    "     [7,8,9]]\n",
    "A"
   ]
  },
  {
   "cell_type": "code",
   "execution_count": 70,
   "id": "partial-wagon",
   "metadata": {},
   "outputs": [
    {
     "data": {
      "text/plain": [
       "[[10, 20, 30], [40, 50, 60], [70, 80, 90]]"
      ]
     },
     "execution_count": 70,
     "metadata": {},
     "output_type": "execute_result"
    }
   ],
   "source": [
    "B = [[10,20,30],\n",
    "     [40,50,60],\n",
    "     [70,80,90]]\n",
    "B"
   ]
  },
  {
   "cell_type": "code",
   "execution_count": 71,
   "id": "confused-remove",
   "metadata": {},
   "outputs": [
    {
     "data": {
      "text/plain": [
       "[1, 2, 3]"
      ]
     },
     "execution_count": 71,
     "metadata": {},
     "output_type": "execute_result"
    }
   ],
   "source": [
    "A[0]"
   ]
  },
  {
   "cell_type": "code",
   "execution_count": 73,
   "id": "framed-princeton",
   "metadata": {},
   "outputs": [
    {
     "data": {
      "text/plain": [
       "[4, 5, 6]"
      ]
     },
     "execution_count": 73,
     "metadata": {},
     "output_type": "execute_result"
    }
   ],
   "source": [
    "A[1]"
   ]
  },
  {
   "cell_type": "code",
   "execution_count": 74,
   "id": "fuzzy-foundation",
   "metadata": {},
   "outputs": [
    {
     "data": {
      "text/plain": [
       "[10, 20, 30]"
      ]
     },
     "execution_count": 74,
     "metadata": {},
     "output_type": "execute_result"
    }
   ],
   "source": [
    "B[0]"
   ]
  },
  {
   "cell_type": "markdown",
   "id": "personalized-submission",
   "metadata": {},
   "source": [
    "**Matrislerin Toplanması**"
   ]
  },
  {
   "cell_type": "markdown",
   "id": "educational-stopping",
   "metadata": {},
   "source": [
    "C = A + B"
   ]
  },
  {
   "cell_type": "code",
   "execution_count": 75,
   "id": "dominant-pearl",
   "metadata": {},
   "outputs": [],
   "source": [
    "C = A + B"
   ]
  },
  {
   "cell_type": "code",
   "execution_count": 76,
   "id": "spectacular-auction",
   "metadata": {},
   "outputs": [
    {
     "data": {
      "text/plain": [
       "[[1, 2, 3], [4, 5, 6], [7, 8, 9], [10, 20, 30], [40, 50, 60], [70, 80, 90]]"
      ]
     },
     "execution_count": 76,
     "metadata": {},
     "output_type": "execute_result"
    }
   ],
   "source": [
    "C"
   ]
  },
  {
   "cell_type": "markdown",
   "id": "proprietary-trinity",
   "metadata": {},
   "source": [
    "Matrislerde toplama eleman bazlı olmalı."
   ]
  },
  {
   "cell_type": "code",
   "execution_count": 77,
   "id": "compressed-force",
   "metadata": {},
   "outputs": [],
   "source": [
    "C = [[0,0,0],\n",
    "     [0,0,0],\n",
    "     [0,0,0]]"
   ]
  },
  {
   "cell_type": "code",
   "execution_count": 78,
   "id": "planned-burst",
   "metadata": {},
   "outputs": [
    {
     "data": {
      "text/plain": [
       "3"
      ]
     },
     "execution_count": 78,
     "metadata": {},
     "output_type": "execute_result"
    }
   ],
   "source": [
    "len(A)"
   ]
  },
  {
   "cell_type": "code",
   "execution_count": 79,
   "id": "honest-booth",
   "metadata": {},
   "outputs": [
    {
     "name": "stdout",
     "output_type": "stream",
     "text": [
      "[[11, 22, 33], [44, 55, 66], [77, 88, 99]]\n"
     ]
    }
   ],
   "source": [
    "# matrislerin elemanları üzerinde dönme\n",
    "\n",
    "for i in range(len(A)):\n",
    "    for j in range(len(B)):\n",
    "        C[i][j] = A[i][j] + B[i][j]\n",
    "\n",
    "print(C)"
   ]
  },
  {
   "cell_type": "code",
   "execution_count": null,
   "id": "white-default",
   "metadata": {},
   "outputs": [],
   "source": []
  }
 ],
 "metadata": {
  "kernelspec": {
   "display_name": "Python 3",
   "language": "python",
   "name": "python3"
  },
  "language_info": {
   "codemirror_mode": {
    "name": "ipython",
    "version": 3
   },
   "file_extension": ".py",
   "mimetype": "text/x-python",
   "name": "python",
   "nbconvert_exporter": "python",
   "pygments_lexer": "ipython3",
   "version": "3.8.5"
  }
 },
 "nbformat": 4,
 "nbformat_minor": 5
}
