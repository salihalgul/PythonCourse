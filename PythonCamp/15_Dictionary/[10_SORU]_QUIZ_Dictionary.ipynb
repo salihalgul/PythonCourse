{
 "cells": [
  {
   "cell_type": "markdown",
   "metadata": {},
   "source": [
    "## [10 SORU] QUIZ - Dictionary"
   ]
  },
  {
   "cell_type": "markdown",
   "metadata": {},
   "source": [
    "**Soru 1:**\n",
    "\n",
    "`kelimeler.txt` dosyasını okuyan ve buradaki kelimelerden bir dictionary yaratan bir fonksiyon yazın. Fonskiyon sadece 19 karakter ve üstü olan kelimeleri alsın.\n",
    "\n",
    "Dictionary'nin key'i kelime olacak, ve değeri de kelimenin harf sayısı yani uzunluğu olacak.\n",
    "\n",
    "Fonksiyon'un adı **kelimeler_sozlugu** olsun ve yarattığı Dictionary'yi dönsün.\n",
    "\n",
    "**İpucu:**\n",
    "\n",
    "`kelimeler.txt` dosyasını okumak için `Kelimeler Uygulaması` nı tekrar gözden geçirebilirsiniz.\n",
    "\n",
    "<pre>\n",
    "Örnek Çıktı:\n",
    "{'anticonservationist': 19, \n",
    " 'comprehensivenesses': 19, \n",
    " 'counterdemonstration': 20,\n",
    " 'counterdemonstrations': 21,\n",
    " ...}\n",
    "</pre>"
   ]
  },
  {
   "cell_type": "code",
   "execution_count": 1,
   "metadata": {},
   "outputs": [],
   "source": [
    "# Çözüm 1:\n",
    "\n",
    "# Minimum karakter uzunluğu bir sabit (CONSTANT) olduğu için\n",
    "# bunu bir GLOBAL DEĞİŞKEN de tutalım\n",
    "MIN_KARAKTER_UZUNLUGU = 19\n",
    "\n",
    "\n",
    "    "
   ]
  },
  {
   "cell_type": "code",
   "execution_count": 2,
   "metadata": {},
   "outputs": [
    {
     "data": {
      "text/plain": [
       "{'anticonservationist': 19,\n",
       " 'comprehensivenesses': 19,\n",
       " 'counterdemonstration': 20,\n",
       " 'counterdemonstrations': 21,\n",
       " 'counterdemonstrator': 19,\n",
       " 'counterdemonstrators': 20,\n",
       " 'counterinflationary': 19,\n",
       " 'counterpropagations': 19,\n",
       " 'counterretaliations': 19,\n",
       " 'disinterestednesses': 19,\n",
       " 'electrocardiographs': 19,\n",
       " 'extraconstitutional': 19,\n",
       " 'hyperaggressiveness': 19,\n",
       " 'hyperaggressivenesses': 21,\n",
       " 'hypersensitivenesses': 20,\n",
       " 'inappropriatenesses': 19,\n",
       " 'inconsideratenesses': 19,\n",
       " 'interdenominational': 19,\n",
       " 'irreconcilabilities': 19,\n",
       " 'microminiaturization': 20,\n",
       " 'microminiaturizations': 21,\n",
       " 'miscellaneousnesses': 19,\n",
       " 'multidenominational': 19,\n",
       " 'representativenesses': 20}"
      ]
     },
     "execution_count": 2,
     "metadata": {},
     "output_type": "execute_result"
    }
   ],
   "source": [
    "sozluk = kelimeler_sozlugu()\n",
    "sozluk"
   ]
  },
  {
   "cell_type": "markdown",
   "metadata": {},
   "source": [
    "---"
   ]
  },
  {
   "cell_type": "markdown",
   "metadata": {},
   "source": [
    "**Soru 2:**\n",
    "\n",
    "`kelimeler.txt` dosyasını okuyan ve buradaki kelimelerden bir dictionary yaratan bir fonksiyon yazın. Fonskiyon sadece 19 karakter ve üstü olan kelimeleri alsın.\n",
    "\n",
    "Dictionary'nin key'i karakter sayısı (uzunluk) olacak, ve değeri de bu karakter sayısına sahip kelimeleri içeren bir liste (List) olacak.\n",
    "\n",
    "Fonksiyon'un adı **uzunluk_kelimeler** olsun ve yarattığı Dictionary'yi dönsün.\n",
    "\n",
    "**İpucu:**\n",
    "\n",
    "`kelimeler.txt` dosyasını okumak için `Kelimeler Uygulaması` nı tekrar gözden geçirebilirsiniz.\n",
    "\n",
    "<pre>\n",
    "Örnek Çıktı:\n",
    "{19: ['anticonservationist', 'comprehensivenesses', 'counterdemonstrator', ...], \n",
    " 20: ['counterdemonstration', 'counterdemonstrators', 'hypersensitivenesses', ...],\n",
    " 21: ['counterdemonstrations', 'hyperaggressivenesses', 'microminiaturizations']}\n",
    "</pre>"
   ]
  },
  {
   "cell_type": "code",
   "execution_count": 34,
   "metadata": {},
   "outputs": [],
   "source": [
    "# Çözüm 2:\n",
    "\n",
    "# global değişken\n",
    "MIN_KARAKTER_UZUNLUGU = 19\n",
    "\n",
    "     "
   ]
  },
  {
   "cell_type": "code",
   "execution_count": 36,
   "metadata": {},
   "outputs": [
    {
     "data": {
      "text/plain": [
       "{19: ['anticonservationist',\n",
       "  'comprehensivenesses',\n",
       "  'counterdemonstrator',\n",
       "  'counterinflationary',\n",
       "  'counterpropagations',\n",
       "  'counterretaliations',\n",
       "  'disinterestednesses',\n",
       "  'electrocardiographs',\n",
       "  'extraconstitutional',\n",
       "  'hyperaggressiveness',\n",
       "  'inappropriatenesses',\n",
       "  'inconsideratenesses',\n",
       "  'interdenominational',\n",
       "  'irreconcilabilities',\n",
       "  'miscellaneousnesses',\n",
       "  'multidenominational'],\n",
       " 20: ['counterdemonstration',\n",
       "  'counterdemonstrators',\n",
       "  'hypersensitivenesses',\n",
       "  'microminiaturization',\n",
       "  'representativenesses'],\n",
       " 21: ['counterdemonstrations',\n",
       "  'hyperaggressivenesses',\n",
       "  'microminiaturizations']}"
      ]
     },
     "execution_count": 36,
     "metadata": {},
     "output_type": "execute_result"
    }
   ],
   "source": [
    "sozluk = uzunluk_kelimeler()\n",
    "sozluk"
   ]
  },
  {
   "cell_type": "markdown",
   "metadata": {},
   "source": [
    "---"
   ]
  },
  {
   "cell_type": "markdown",
   "metadata": {},
   "source": [
    "**Soru 3:**\n",
    "\n",
    "İsimleri **arac_yarat_1, arac_yarat_2 ,arac_yarat_3, arac_yarat_4** olan 4 fonksiyon yazın.\n",
    "\n",
    "Bu fonksiyonlar aşağıdaki gibi bir dictionary yaratsın ve dict'in adı **arac** olsun:\n",
    "<pre>\n",
    "{'marka': 'Ford',\n",
    " 'model': 'Mustang',\n",
    " 'yil': 1964,\n",
    " 'renk': 'Kırmızı',\n",
    " 'fiyat': 30000,\n",
    " 'km': 89000,\n",
    " 'motor': 1.6}\n",
    "</pre>\n",
    "\n",
    "Fonksiyonlar dictionary'yi birbirinden farklı yöntemler ile yaratsın. Fonksiyonlar arac sozlüğünü geri dönsün.\n",
    "\n",
    "**İpuçları:**\n",
    "* {}\n",
    "* dict()\n",
    "* update()"
   ]
  },
  {
   "cell_type": "code",
   "execution_count": 43,
   "metadata": {},
   "outputs": [],
   "source": [
    "# Çözüm 3:\n",
    "\n",
    "# 1. Yol\n",
    "\n"
   ]
  },
  {
   "cell_type": "code",
   "execution_count": 44,
   "metadata": {},
   "outputs": [
    {
     "data": {
      "text/plain": [
       "{'marka': 'Ford',\n",
       " 'model': 'Mustang',\n",
       " 'yil': 1964,\n",
       " 'renk': 'Kırmızı',\n",
       " 'fiyat': 30000,\n",
       " 'km': 89000,\n",
       " 'motor': 1.6}"
      ]
     },
     "execution_count": 44,
     "metadata": {},
     "output_type": "execute_result"
    }
   ],
   "source": [
    "arac_yarat_1()"
   ]
  },
  {
   "cell_type": "code",
   "execution_count": 45,
   "metadata": {},
   "outputs": [],
   "source": [
    "# 2. Yol\n",
    "\n"
   ]
  },
  {
   "cell_type": "code",
   "execution_count": 47,
   "metadata": {},
   "outputs": [
    {
     "data": {
      "text/plain": [
       "{'marka': 'Ford',\n",
       " 'model': 'Mustang',\n",
       " 'yil': 1964,\n",
       " 'renk': 'Kırmızı',\n",
       " 'fiyat': 30000,\n",
       " 'km': 89000,\n",
       " 'motor': 1.6}"
      ]
     },
     "execution_count": 47,
     "metadata": {},
     "output_type": "execute_result"
    }
   ],
   "source": [
    "arac_yarat_2()"
   ]
  },
  {
   "cell_type": "code",
   "execution_count": 50,
   "metadata": {},
   "outputs": [],
   "source": [
    "# 3. Yol\n",
    "\n"
   ]
  },
  {
   "cell_type": "code",
   "execution_count": 51,
   "metadata": {},
   "outputs": [
    {
     "data": {
      "text/plain": [
       "{'marka': 'Ford',\n",
       " 'model': 'Mustang',\n",
       " 'yil': 1964,\n",
       " 'renk': 'Kırmızı',\n",
       " 'fiyat': 30000,\n",
       " 'km': 89000,\n",
       " 'motor': 1.6}"
      ]
     },
     "execution_count": 51,
     "metadata": {},
     "output_type": "execute_result"
    }
   ],
   "source": [
    "arac_yarat_3()"
   ]
  },
  {
   "cell_type": "code",
   "execution_count": 52,
   "metadata": {},
   "outputs": [],
   "source": [
    "# 4. Yol\n",
    "\n"
   ]
  },
  {
   "cell_type": "code",
   "execution_count": 53,
   "metadata": {},
   "outputs": [
    {
     "data": {
      "text/plain": [
       "{'marka': 'Ford',\n",
       " 'model': 'Mustang',\n",
       " 'yil': 1964,\n",
       " 'renk': 'Kırmızı',\n",
       " 'fiyat': 30000,\n",
       " 'km': 89000,\n",
       " 'motor': 1.6}"
      ]
     },
     "execution_count": 53,
     "metadata": {},
     "output_type": "execute_result"
    }
   ],
   "source": [
    "arac_yarat_4()"
   ]
  },
  {
   "cell_type": "markdown",
   "metadata": {},
   "source": [
    "---"
   ]
  },
  {
   "cell_type": "markdown",
   "metadata": {},
   "source": [
    "**Soru 4:**\n",
    "\n",
    "Adı **yeni_arac_yarat** bir fonksiyon yazın. Bu fonksiyon Soru 3'teki fonksiyonlardan birini çağırsın ve **arac** sözlüğünü alsın.\n",
    "\n",
    "Sonra **arac** sozlüğünün elemanlarını bir döngü ve `update()` kullanarak başka bir sözlüğe kopyalayasın.\n",
    "\n",
    "Kopyalarken, hem orijinal elemanı alsın hem de her bir key'in sonuna \"_2\" eki ekleyerek yeni bir eleman olarak eklesin.\n",
    "\n",
    "Yeni sözlüğümüzün adı **yeni_arac** olsun. Ve fonksiyon bu sözlüğü dönsün.\n",
    "\n",
    "**İpuçları:**\n",
    "* copy()\n",
    "* update()\n",
    "* items()\n",
    "\n",
    "Örnek Çıktı:\n",
    "<pre>\n",
    "{'marka': 'Ford',\n",
    " 'model': 'Mustang',\n",
    " 'yil': 1964,\n",
    " 'renk': 'Kırmızı',\n",
    " 'fiyat': 30000,\n",
    " 'km': 89000,\n",
    " 'motor': 1.6,\n",
    " 'marka_2': 'Ford',\n",
    " 'model_2': 'Mustang',\n",
    " 'yil_2': 1964,\n",
    " 'renk_2': 'Kırmızı',\n",
    " 'fiyat_2': 30000,\n",
    " 'km_2': 89000,\n",
    " 'motor_2': 1.6}\n",
    "</pre>"
   ]
  },
  {
   "cell_type": "code",
   "execution_count": 109,
   "metadata": {},
   "outputs": [],
   "source": [
    "# Çözüm 4:\n",
    "\n",
    "\n"
   ]
  },
  {
   "cell_type": "code",
   "execution_count": 110,
   "metadata": {},
   "outputs": [
    {
     "data": {
      "text/plain": [
       "{'marka': 'Ford',\n",
       " 'model': 'Mustang',\n",
       " 'yil': 1964,\n",
       " 'renk': 'Kırmızı',\n",
       " 'fiyat': 30000,\n",
       " 'km': 89000,\n",
       " 'motor': 1.6,\n",
       " 'marka_2': 'Ford',\n",
       " 'model_2': 'Mustang',\n",
       " 'yil_2': 1964,\n",
       " 'renk_2': 'Kırmızı',\n",
       " 'fiyat_2': 30000,\n",
       " 'km_2': 89000,\n",
       " 'motor_2': 1.6}"
      ]
     },
     "execution_count": 110,
     "metadata": {},
     "output_type": "execute_result"
    }
   ],
   "source": [
    "yeni_arac_yarat()"
   ]
  },
  {
   "cell_type": "markdown",
   "metadata": {},
   "source": [
    "---"
   ]
  },
  {
   "cell_type": "markdown",
   "metadata": {},
   "source": [
    "**Soru 5:**\n",
    "\n",
    "Aşağıdaki Dictionary'leri birleştirip ortaya yeni bir dictionary çıkaran ve bunu geri dönen bir fonksiyon yazın.\n",
    "\n",
    "Fonksiyon bu 3 dictionary'yi parametre olacak alacak ve adı **sozluk_birlestir** olacak.\n",
    "\n",
    "**İpuçları**\n",
    "* tek bir for döngüsü kullanın\n",
    "* update()\n",
    "\n",
    "<pre>\n",
    "Birleşek sözlükler:\n",
    "d1={4:120, 7:60}\n",
    "d2={'A': 300, 'B':400}\n",
    "d3={True: 'Doğru', False: 'Yanlış'}\n",
    "\n",
    "Olası Sonuç:\n",
    "{4: 120, 7: 60, 'A': 300, 'B': 400, True: 'Doğru', False: 'Yanlış'}\n",
    "</pre>"
   ]
  },
  {
   "cell_type": "code",
   "execution_count": 6,
   "metadata": {},
   "outputs": [],
   "source": [
    "# Çözüm 5:\n",
    "\n",
    "\n",
    "    "
   ]
  },
  {
   "cell_type": "code",
   "execution_count": 9,
   "metadata": {},
   "outputs": [
    {
     "data": {
      "text/plain": [
       "{4: 120, 7: 60, 'A': 'AAA', 'B': 'BBB', True: 'Doğru', False: 'Yanlış'}"
      ]
     },
     "execution_count": 9,
     "metadata": {},
     "output_type": "execute_result"
    }
   ],
   "source": [
    "d1={4:120, 7:60}\n",
    "d2={'A': 'AAA', 'B':'BBB'}\n",
    "d3={True: 'Doğru', False: 'Yanlış'}\n",
    "\n",
    "d = sozluk_birlestir(d1, d2, d3)\n",
    "\n",
    "d"
   ]
  },
  {
   "cell_type": "markdown",
   "metadata": {},
   "source": [
    "---"
   ]
  },
  {
   "cell_type": "markdown",
   "metadata": {},
   "source": [
    "**Soru 6:**\n",
    "\n",
    "Verilen iki sözlüğü içinde key'leri aynı olan elemanların değerlerini toplayan bir fonksiyon yazın. \n",
    "\n",
    "Eğer key ikisinde ortak değilse almasın, sadece ortak key'leri alsın.\n",
    "\n",
    "Fonksiyonun adı **ayni_key_toplamlari** olsun.\n",
    "\n",
    "**İpuçları**\n",
    "* Parametrelerin ikisinin de sözlük olmasını kontrol edin\n",
    "    * değilse hata fırlatın -> 'Parametrelerin ikisi de sözlük olmalı'\n",
    "    * kontrol için -> 'type' yerine bu sefer 'isinstance' kullanın\n",
    "    * isinstance(<değişken>, <tip>)\n",
    "* Sözlüklerin uzunluklarının aynı olmasını kontrol edin\n",
    "    * değilse hata fırlatın -> 'Sözlüklerin uzunluğu aynı olmalı'\n",
    "\n",
    "<pre>\n",
    "Parametre sözlükler:\n",
    "d1 = {'a': 10, 'b': 30, 'c':50}\n",
    "d2 = {'a': 40, 'b': 60, 'd':90}\n",
    "\n",
    "Sonuç:\n",
    "{'a': 50, 'b': 90}\n",
    "</pre>"
   ]
  },
  {
   "cell_type": "code",
   "execution_count": 1,
   "metadata": {},
   "outputs": [],
   "source": [
    "# Çözüm 6:\n",
    "\n"
   ]
  },
  {
   "cell_type": "code",
   "execution_count": 41,
   "metadata": {},
   "outputs": [
    {
     "data": {
      "text/plain": [
       "{'a': 50, 'b': 90}"
      ]
     },
     "execution_count": 41,
     "metadata": {},
     "output_type": "execute_result"
    }
   ],
   "source": [
    "d1 = {'a': 10, 'b': 30, 'c':50}\n",
    "d2 = {'a': 40, 'b': 60, 'd':90}\n",
    "ayni_key_toplamlari(d1, d2)"
   ]
  },
  {
   "cell_type": "markdown",
   "metadata": {},
   "source": [
    "---"
   ]
  },
  {
   "cell_type": "markdown",
   "metadata": {},
   "source": [
    "**Soru 7:**\n",
    "\n",
    "Soru 6.'teki fonksiyonu biraz daha geliştirelim.\n",
    "\n",
    "Fonskiyonunuz aynı şekilde;\n",
    "\n",
    "Verilen iki sözlüğü içinde key'leri aynı olan elemanların değerlerini toplasın.\n",
    "\n",
    "Eğer key ikisinde ortak değilse hangisinde varsa onu alsın.\n",
    "\n",
    "Yani ortak elemanları toplam değer olarak, ayrık elemanları kendi değerleri ilde dönsün.\n",
    "\n",
    "Fonksiyonun adı **ayni_key_toplamlari_farkli_key_kendileri** olsun.\n",
    "\n",
    "**İpuçları**\n",
    "* Parametrelerin ikisinin de sözlük olmasını kontrol edin\n",
    "    * değilse hata fırlatın -> 'Parametrelerin ikisi de sözlük olmalı'\n",
    "    * kontrol için -> 'type' yerine bu sefer 'isinstance' kullanın\n",
    "    * isinstance(<değişken>, <tip>)\n",
    "* Sözlüklerin uzunluklarının aynı olmasını kontrol edin\n",
    "    * değilse hata fırlatın -> 'Sözlüklerin uzunluğu aynı olmalı'\n",
    "\n",
    "<pre>\n",
    "Parametre sözlükler:\n",
    "d1 = {'a': 10, 'b': 30, 'c':50}\n",
    "d2 = {'a': 40, 'b': 60, 'd':90}\n",
    "\n",
    "Sonuç:\n",
    "{'a': 50, 'b': 90, 'c': 50, 'd': 90}\n",
    "</pre>"
   ]
  },
  {
   "cell_type": "code",
   "execution_count": 2,
   "metadata": {},
   "outputs": [],
   "source": [
    "# Çözüm 7:\n",
    "\n",
    "\n"
   ]
  },
  {
   "cell_type": "code",
   "execution_count": 43,
   "metadata": {},
   "outputs": [
    {
     "data": {
      "text/plain": [
       "{'a': 50, 'b': 90, 'c': 50, 'd': 90}"
      ]
     },
     "execution_count": 43,
     "metadata": {},
     "output_type": "execute_result"
    }
   ],
   "source": [
    "d1 = {'a': 10, 'b': 30, 'c':50}\n",
    "d2 = {'a': 40, 'b': 60, 'd':90}\n",
    "yni_key_toplamlari_farkli_key_kendileri(d1, d2)"
   ]
  },
  {
   "cell_type": "markdown",
   "metadata": {},
   "source": [
    "---"
   ]
  },
  {
   "cell_type": "markdown",
   "metadata": {},
   "source": [
    "**Soru 8:**\n",
    "\n",
    "Verilen bir dictionary içindeki tek index'li elemanları silip geriye sadece çift index'li elemanların olduğu yeni bir dictionary dönen bir fonksiyon yazın.\n",
    "\n",
    "Fonksiyonun adı **tekleri_sil** olsun.\n",
    "\n",
    "**İpuçları:**\n",
    "* Parametre olarak gelen orijinal dictionary'ye dokunmayın.\n",
    "* döngü için `items()`\n",
    "* index için `enumerate()`\n",
    "    \n",
    "<pre>\n",
    "Parametre sözlük:\n",
    "sozluk = {'a': 'A', 'b': 'B', 'c': 'C', 'd': 'D', 'e': 'E', 'f': 'F'}\n",
    "\n",
    "Sonuç:\n",
    " {'a': 'A', 'c': 'C', 'e': 'E'}\n",
    "</pre>"
   ]
  },
  {
   "cell_type": "code",
   "execution_count": 73,
   "metadata": {},
   "outputs": [],
   "source": [
    "# Çözüm 8:\n",
    "\n",
    "# 1. Yol\n",
    "\n",
    "\n"
   ]
  },
  {
   "cell_type": "code",
   "execution_count": 66,
   "metadata": {},
   "outputs": [
    {
     "data": {
      "text/plain": [
       "{'a': 'A', 'c': 'C', 'e': 'E'}"
      ]
     },
     "execution_count": 66,
     "metadata": {},
     "output_type": "execute_result"
    }
   ],
   "source": [
    "sozluk = {'a': 'A', 'b': 'B', 'c': 'C', 'd': 'D', 'e': 'E', 'f': 'F'}\n",
    "\n",
    "ciftler = tekleri_sil(sozluk)\n",
    "\n",
    "ciftler"
   ]
  },
  {
   "cell_type": "code",
   "execution_count": 75,
   "metadata": {},
   "outputs": [],
   "source": [
    "# 2. Yol\n",
    "\n",
    "\n"
   ]
  },
  {
   "cell_type": "code",
   "execution_count": 98,
   "metadata": {},
   "outputs": [
    {
     "data": {
      "text/plain": [
       "{'a': 'A', 'c': 'C', 'e': 'E'}"
      ]
     },
     "execution_count": 98,
     "metadata": {},
     "output_type": "execute_result"
    }
   ],
   "source": [
    "sozluk = {'a': 'A', 'b': 'B', 'c': 'C', 'd': 'D', 'e': 'E', 'f': 'F'}\n",
    "\n",
    "ciftler = tekleri_sil(sozluk)\n",
    "\n",
    "ciftler"
   ]
  },
  {
   "cell_type": "markdown",
   "metadata": {},
   "source": [
    "---"
   ]
  },
  {
   "cell_type": "markdown",
   "metadata": {},
   "source": [
    "**Soru 9:**\n",
    "\n",
    "Parametre olarak iki liste alan bir fonksiyon yazın. Fonksiyonunuzun adı **listeleri_sozluk_yap** olsun.\n",
    "\n",
    "Fonksiyon ilk listedeki elemanları key, ikinci listedeki elemanları value yaparak ikisinden bir dictionary üretsin.\n",
    "\n",
    "**İpucu:**\n",
    "* enumerate()\n",
    "\n",
    "<pre>\n",
    "Parametreler:\n",
    "l_1 = ['ad', 'soyad', 'yas', 'cinsiyet']\n",
    "l_2 = ['John', 'Doe', 100, 'Erkek']\n",
    "\n",
    "Sonuc:\n",
    "{'ad': 'John', 'soyad': 'Doe', 'yas': 100, 'cinsiyet': 'Erkek'}\n",
    "</pre>"
   ]
  },
  {
   "cell_type": "code",
   "execution_count": 103,
   "metadata": {},
   "outputs": [],
   "source": [
    "# Çözüm 9:\n",
    "\n",
    "\n",
    "    "
   ]
  },
  {
   "cell_type": "code",
   "execution_count": 104,
   "metadata": {},
   "outputs": [
    {
     "name": "stdout",
     "output_type": "stream",
     "text": [
      "{'ad': 'John', 'soyad': 'Doe', 'yas': 100, 'cinsiyet': 'Erkek'}\n"
     ]
    }
   ],
   "source": [
    "l_1 = ['ad', 'soyad', 'yas', 'cinsiyet']\n",
    "l_2 = ['John', 'Doe', 100, 'Erkek']\n",
    "\n",
    "calisan = listeleri_sozluk_yap(l_1, l_2)\n",
    "\n",
    "print(calisan)"
   ]
  },
  {
   "cell_type": "markdown",
   "metadata": {},
   "source": [
    "---"
   ]
  },
  {
   "cell_type": "markdown",
   "metadata": {},
   "source": [
    "**Soru 10:**\n",
    "\n",
    "Key'leri harf ve sayı olarak karışık olan bir sözlük düşününün.\n",
    "\n",
    "Örneğin: {'a': 'A', 'b': 'B', 2: 200, 'd': 'D', 5: 300, 'f': 'F', 1: 50}\n",
    "\n",
    "Yazacağınız fonksiyon, sadece harf olan key'leri bıraksın, diğerlerini silsin. Yani sadece alfanumerik (alphanumeric) olan key'li elemanları bıraksın.\n",
    "\n",
    "Fonksiyonun adı **alfanumerik** olsun.\n",
    "\n",
    "**İpuçları:**\n",
    "* Parametre olarak gelen orijinal dictionary'yi değiştirin (yerinde : inplace)\n",
    "* iki döngü olsun\n",
    "* döngüler için `keys()`\n",
    "* silme için `pop()`\n",
    "* alfanumerik mi diye bakmak için `str.isalpha()`\n",
    "    * dikkat `isalpha()` bir string (str) fonksiyonudur.\n",
    "    \n",
    "<pre>\n",
    "Parametre sözlük:\n",
    "sozluk = {'a': 'A', 'b': 'B', 2: 200, 'd': 'D', 5: 300, 'f': 'F', 1: 50}\n",
    "\n",
    "Sonuç:\n",
    "sozluk = {'a': 'A', 'b': 'B', 'd': 'D', 'f': 'F'}\n",
    "</pre>"
   ]
  },
  {
   "cell_type": "code",
   "execution_count": 97,
   "metadata": {},
   "outputs": [],
   "source": [
    "# Çözüm 10:\n",
    "\n",
    "\n",
    "    "
   ]
  },
  {
   "cell_type": "code",
   "execution_count": 96,
   "metadata": {},
   "outputs": [
    {
     "name": "stdout",
     "output_type": "stream",
     "text": [
      "alfanumerik'i çağırmadan önce sözlük: {'a': 'A', 'b': 'B', 2: 200, 'd': 'D', 5: 300, 'f': 'F', 1: 50}\n",
      "alfanumerik'i çağırdıktan sonra sözlük: {'a': 'A', 'b': 'B', 'd': 'D', 'f': 'F'}\n"
     ]
    }
   ],
   "source": [
    "sozluk = {'a': 'A', 'b': 'B', 2: 200, 'd': 'D', 5: 300, 'f': 'F', 1: 50}\n",
    "print(\"alfanumerik'i çağırmadan önce sözlük:\", sozluk)\n",
    "\n",
    "alfanumerik(sozluk)\n",
    "\n",
    "print(\"alfanumerik'i çağırdıktan sonra sözlük:\", sozluk)"
   ]
  }
 ],
 "metadata": {
  "kernelspec": {
   "display_name": "Python 3",
   "language": "python",
   "name": "python3"
  },
  "language_info": {
   "codemirror_mode": {
    "name": "ipython",
    "version": 3
   },
   "file_extension": ".py",
   "mimetype": "text/x-python",
   "name": "python",
   "nbconvert_exporter": "python",
   "pygments_lexer": "ipython3",
   "version": "3.8.5"
  }
 },
 "nbformat": 4,
 "nbformat_minor": 4
}
