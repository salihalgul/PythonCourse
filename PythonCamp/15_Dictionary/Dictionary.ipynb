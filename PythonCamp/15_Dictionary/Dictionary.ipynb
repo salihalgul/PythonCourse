{
 "cells": [
  {
   "cell_type": "markdown",
   "id": "pressed-madrid",
   "metadata": {},
   "source": [
    "## Dictionary"
   ]
  },
  {
   "cell_type": "markdown",
   "id": "shaped-singapore",
   "metadata": {},
   "source": [
    "Bir önceki bölümüzde List yapısını görmüştük. \n",
    "\n",
    "Bu bölümümüzde ise, Python'un bir diğer hazır veri yapısı olan `Dictionary` yani Sözlük yapılarını göreceğiz."
   ]
  },
  {
   "cell_type": "markdown",
   "id": "contrary-audience",
   "metadata": {},
   "source": [
    "Örneğin çalışanlarımızı tutacağımız bir veri yapısı:\n",
    "<pre>\n",
    "calisan = {\n",
    "    'ad': 'Klark Kent',\n",
    "    'yas': 37,\n",
    "    'bolum': 'Haber Servisi'\n",
    "}\n",
    "</pre>"
   ]
  },
  {
   "cell_type": "markdown",
   "id": "visible-ethernet",
   "metadata": {},
   "source": [
    "### Dictionary Bir Eşlemedir"
   ]
  },
  {
   "cell_type": "markdown",
   "id": "reliable-disney",
   "metadata": {},
   "source": [
    "Dictionary'yi, List'in daha genel yapısı olarak düşünebiliriz. \n",
    "\n",
    "Listede index'ler tam sayı (int) olmak zorundadır ve Python bu index'leri kendi belirler.\n",
    "\n",
    "Dictionary'de ise index'leri biz belirleriz ve sadece tam sayı değil istediğimiz hemen hemen her tür olabilir."
   ]
  },
  {
   "cell_type": "markdown",
   "id": "polyphonic-merchandise",
   "metadata": {},
   "source": [
    "Dictionary'nin eleman yapısı şu şekildedir:\n",
    "<pre>\n",
    "{ key: value }\n",
    "</pre>\n",
    "Buna **key-value pair** yani anahtar-değer ikilisi denir."
   ]
  },
  {
   "cell_type": "markdown",
   "id": "offensive-metadata",
   "metadata": {},
   "source": [
    "İşte Dictionary, bir anahtarı **(key)** bir değere **(value)** eşlediği için, Dictionay'ye `bir eşlemedir` dedik."
   ]
  },
  {
   "cell_type": "markdown",
   "id": "numerous-advantage",
   "metadata": {},
   "source": [
    "Dictionary yani Sözlük adının tam karşlığı olarak eşleme yapar.\n",
    "\n",
    "Tıpkı İngilizce-Türkçe Sözlük'te olduğu gibi.\n",
    "\n",
    "Örneğin bir İngilizce-Türkçe Sözlüğe (ingTRSozluk) bakıp, İngilizce 'hello' kelimesinin Türkçe karşılığını alırsanız aşağıdaki şekilde sonuç döner:\n",
    "<pre>\n",
    "ingTRSozluk['hello'] = 'selam'\n",
    "</pre>"
   ]
  },
  {
   "cell_type": "markdown",
   "id": "gothic-avenue",
   "metadata": {},
   "source": [
    "Çalışan örneğimizde, Dictionary'yi şu şekilde görebiliriz:\n",
    "\n",
    "| Key | Value |\n",
    "| --- | --- |\n",
    "| ad | Klark Kent |\n",
    "| yas | 37 |\n",
    "| bolum | Haber Servisi |"
   ]
  },
  {
   "cell_type": "markdown",
   "id": "veterinary-lease",
   "metadata": {},
   "source": [
    "Adından da anlaşılacağı gibi, `key` unique yani tekildir ve aynı key'e (anahtar) ait iki kayıt olamaz."
   ]
  },
  {
   "cell_type": "markdown",
   "id": "mature-adolescent",
   "metadata": {},
   "source": [
    "### Dictionary Yaratma"
   ]
  },
  {
   "cell_type": "markdown",
   "id": "verified-senator",
   "metadata": {},
   "source": [
    "List'ler **[]** ile yaratılır. -> list()\n",
    "\n",
    "**Dictionary** ise **{}** ile yaratılır. -> dict()"
   ]
  },
  {
   "cell_type": "code",
   "execution_count": 1,
   "id": "shaped-bride",
   "metadata": {},
   "outputs": [],
   "source": [
    "# İngilizce Türkçe Sözlük\n",
    "\n",
    "ingTR = {}"
   ]
  },
  {
   "cell_type": "code",
   "execution_count": 2,
   "id": "equipped-foster",
   "metadata": {},
   "outputs": [
    {
     "data": {
      "text/plain": [
       "dict"
      ]
     },
     "execution_count": 2,
     "metadata": {},
     "output_type": "execute_result"
    }
   ],
   "source": [
    "type(ingTR)"
   ]
  },
  {
   "cell_type": "code",
   "execution_count": 3,
   "id": "burning-capability",
   "metadata": {},
   "outputs": [],
   "source": [
    "# araba\n",
    "\n",
    "araba = {\n",
    "    'Audi': 'Almanya',\n",
    "    'Mazda': 'Japonya',\n",
    "    'Fiat': 'İtalya'\n",
    "}"
   ]
  },
  {
   "cell_type": "code",
   "execution_count": 4,
   "id": "cosmetic-volleyball",
   "metadata": {},
   "outputs": [
    {
     "data": {
      "text/plain": [
       "{'Audi': 'Almanya', 'Mazda': 'Japonya', 'Fiat': 'İtalya'}"
      ]
     },
     "execution_count": 4,
     "metadata": {},
     "output_type": "execute_result"
    }
   ],
   "source": [
    "araba"
   ]
  },
  {
   "cell_type": "code",
   "execution_count": 5,
   "id": "southwest-breeding",
   "metadata": {},
   "outputs": [
    {
     "name": "stdout",
     "output_type": "stream",
     "text": [
      "{'Audi': 'Almanya', 'Mazda': 'Japonya', 'Fiat': 'İtalya'}\n"
     ]
    }
   ],
   "source": [
    "print(araba)"
   ]
  },
  {
   "cell_type": "code",
   "execution_count": 6,
   "id": "together-belief",
   "metadata": {},
   "outputs": [
    {
     "data": {
      "text/plain": [
       "dict"
      ]
     },
     "execution_count": 6,
     "metadata": {},
     "output_type": "execute_result"
    }
   ],
   "source": [
    "type(araba)"
   ]
  },
  {
   "cell_type": "code",
   "execution_count": 7,
   "id": "british-tenant",
   "metadata": {},
   "outputs": [],
   "source": [
    "# dict() ile yaratma\n",
    "\n",
    "trING = dict()"
   ]
  },
  {
   "cell_type": "code",
   "execution_count": 8,
   "id": "complex-tractor",
   "metadata": {},
   "outputs": [
    {
     "data": {
      "text/plain": [
       "dict"
      ]
     },
     "execution_count": 8,
     "metadata": {},
     "output_type": "execute_result"
    }
   ],
   "source": [
    "type(trING)"
   ]
  },
  {
   "cell_type": "code",
   "execution_count": 9,
   "id": "creative-disposal",
   "metadata": {},
   "outputs": [],
   "source": [
    "araba2 = dict(\n",
    "    {\n",
    "        'Audi': 'Almanya',\n",
    "        'Mazda': 'Japonya',\n",
    "        'Fiat': 'İtalya'\n",
    "    }\n",
    ")"
   ]
  },
  {
   "cell_type": "code",
   "execution_count": 10,
   "id": "freelance-michael",
   "metadata": {},
   "outputs": [
    {
     "data": {
      "text/plain": [
       "{'Audi': 'Almanya', 'Mazda': 'Japonya', 'Fiat': 'İtalya'}"
      ]
     },
     "execution_count": 10,
     "metadata": {},
     "output_type": "execute_result"
    }
   ],
   "source": [
    "araba2"
   ]
  },
  {
   "cell_type": "markdown",
   "id": "compact-channels",
   "metadata": {},
   "source": [
    "**Önemli Not:**\n",
    "\n",
    "Listelere index ile erişilir. -> list[0]\n",
    "\n",
    "Dictionary için [] ile index alma yok.\n",
    "\n",
    "[] içine index numarası değil -> key yazılır."
   ]
  },
  {
   "cell_type": "code",
   "execution_count": 11,
   "id": "reported-apollo",
   "metadata": {},
   "outputs": [
    {
     "data": {
      "text/plain": [
       "{'Audi': 'Almanya', 'Mazda': 'Japonya', 'Fiat': 'İtalya'}"
      ]
     },
     "execution_count": 11,
     "metadata": {},
     "output_type": "execute_result"
    }
   ],
   "source": [
    "araba"
   ]
  },
  {
   "cell_type": "code",
   "execution_count": 12,
   "id": "fundamental-concord",
   "metadata": {},
   "outputs": [
    {
     "ename": "KeyError",
     "evalue": "0",
     "output_type": "error",
     "traceback": [
      "\u001b[1;31m---------------------------------------------------------------------------\u001b[0m",
      "\u001b[1;31mKeyError\u001b[0m                                  Traceback (most recent call last)",
      "\u001b[1;32m<ipython-input-12-a56733efe375>\u001b[0m in \u001b[0;36m<module>\u001b[1;34m\u001b[0m\n\u001b[1;32m----> 1\u001b[1;33m \u001b[0maraba\u001b[0m\u001b[1;33m[\u001b[0m\u001b[1;36m0\u001b[0m\u001b[1;33m]\u001b[0m\u001b[1;33m\u001b[0m\u001b[1;33m\u001b[0m\u001b[0m\n\u001b[0m",
      "\u001b[1;31mKeyError\u001b[0m: 0"
     ]
    }
   ],
   "source": [
    "araba[0]"
   ]
  },
  {
   "cell_type": "code",
   "execution_count": 13,
   "id": "expired-juice",
   "metadata": {},
   "outputs": [
    {
     "data": {
      "text/plain": [
       "'Almanya'"
      ]
     },
     "execution_count": 13,
     "metadata": {},
     "output_type": "execute_result"
    }
   ],
   "source": [
    "araba['Audi']"
   ]
  },
  {
   "cell_type": "code",
   "execution_count": 14,
   "id": "streaming-astronomy",
   "metadata": {},
   "outputs": [
    {
     "ename": "KeyError",
     "evalue": "'BMW'",
     "output_type": "error",
     "traceback": [
      "\u001b[1;31m---------------------------------------------------------------------------\u001b[0m",
      "\u001b[1;31mKeyError\u001b[0m                                  Traceback (most recent call last)",
      "\u001b[1;32m<ipython-input-14-5a794ef3171a>\u001b[0m in \u001b[0;36m<module>\u001b[1;34m\u001b[0m\n\u001b[0;32m      1\u001b[0m \u001b[1;31m# olmayan bir Key ile eleman iste\u001b[0m\u001b[1;33m\u001b[0m\u001b[1;33m\u001b[0m\u001b[1;33m\u001b[0m\u001b[0m\n\u001b[0;32m      2\u001b[0m \u001b[1;33m\u001b[0m\u001b[0m\n\u001b[1;32m----> 3\u001b[1;33m \u001b[0maraba\u001b[0m\u001b[1;33m[\u001b[0m\u001b[1;34m'BMW'\u001b[0m\u001b[1;33m]\u001b[0m\u001b[1;33m\u001b[0m\u001b[1;33m\u001b[0m\u001b[0m\n\u001b[0m",
      "\u001b[1;31mKeyError\u001b[0m: 'BMW'"
     ]
    }
   ],
   "source": [
    "# olmayan bir Key ile eleman iste\n",
    "\n",
    "araba['BMW']"
   ]
  },
  {
   "cell_type": "markdown",
   "id": "involved-horizontal",
   "metadata": {},
   "source": [
    "### Dictionary'e Eleman Ekleme - Değiştirme"
   ]
  },
  {
   "cell_type": "markdown",
   "id": "genetic-village",
   "metadata": {},
   "source": [
    "Dictionary'ler `{key: value}` şeklinde yapılardır."
   ]
  },
  {
   "cell_type": "markdown",
   "id": "abandoned-theta",
   "metadata": {},
   "source": [
    "**Önemle Not:**\n",
    "\n",
    "Listelerde eleman eklemek için -> append(), insert()\n",
    "\n",
    "Dictionary için bu metodlar yoktur.\n",
    "\n",
    "dict[key] = value"
   ]
  },
  {
   "cell_type": "code",
   "execution_count": 16,
   "id": "composed-sector",
   "metadata": {},
   "outputs": [
    {
     "data": {
      "text/plain": [
       "{}"
      ]
     },
     "execution_count": 16,
     "metadata": {},
     "output_type": "execute_result"
    }
   ],
   "source": [
    "ingTR = dict()\n",
    "ingTR"
   ]
  },
  {
   "cell_type": "code",
   "execution_count": 17,
   "id": "posted-myrtle",
   "metadata": {},
   "outputs": [
    {
     "data": {
      "text/plain": [
       "{'one': 'bir'}"
      ]
     },
     "execution_count": 17,
     "metadata": {},
     "output_type": "execute_result"
    }
   ],
   "source": [
    "# bir kaç eleman ekleyelim\n",
    "\n",
    "ingTR['one'] = 'bir'\n",
    "ingTR"
   ]
  },
  {
   "cell_type": "code",
   "execution_count": 18,
   "id": "editorial-coordinator",
   "metadata": {},
   "outputs": [
    {
     "data": {
      "text/plain": [
       "{'one': 'bir', 'two': 'iki', 'three': 'üç'}"
      ]
     },
     "execution_count": 18,
     "metadata": {},
     "output_type": "execute_result"
    }
   ],
   "source": [
    "ingTR['two'] = 'iki'\n",
    "ingTR['three'] = 'üç'\n",
    "ingTR"
   ]
  },
  {
   "cell_type": "code",
   "execution_count": 19,
   "id": "gentle-lodge",
   "metadata": {},
   "outputs": [
    {
     "ename": "AttributeError",
     "evalue": "'dict' object has no attribute 'append'",
     "output_type": "error",
     "traceback": [
      "\u001b[1;31m---------------------------------------------------------------------------\u001b[0m",
      "\u001b[1;31mAttributeError\u001b[0m                            Traceback (most recent call last)",
      "\u001b[1;32m<ipython-input-19-8eac0992e0b2>\u001b[0m in \u001b[0;36m<module>\u001b[1;34m\u001b[0m\n\u001b[1;32m----> 1\u001b[1;33m \u001b[0mingTR\u001b[0m\u001b[1;33m.\u001b[0m\u001b[0mappend\u001b[0m\u001b[1;33m(\u001b[0m\u001b[1;33m{\u001b[0m\u001b[1;34m'four'\u001b[0m\u001b[1;33m:\u001b[0m \u001b[1;34m'dört'\u001b[0m\u001b[1;33m}\u001b[0m\u001b[1;33m)\u001b[0m\u001b[1;33m\u001b[0m\u001b[1;33m\u001b[0m\u001b[0m\n\u001b[0m",
      "\u001b[1;31mAttributeError\u001b[0m: 'dict' object has no attribute 'append'"
     ]
    }
   ],
   "source": [
    "ingTR.append({'four': 'dört'})"
   ]
  },
  {
   "cell_type": "code",
   "execution_count": 20,
   "id": "healthy-recruitment",
   "metadata": {},
   "outputs": [
    {
     "data": {
      "text/plain": [
       "{'one': 'bir', 'two': 'iki', 'three': 'üç', 'fayf': 'beş'}"
      ]
     },
     "execution_count": 20,
     "metadata": {},
     "output_type": "execute_result"
    }
   ],
   "source": [
    "ingTR['fayf'] = 'beş'\n",
    "ingTR"
   ]
  },
  {
   "cell_type": "code",
   "execution_count": 21,
   "id": "advisory-moore",
   "metadata": {},
   "outputs": [
    {
     "data": {
      "text/plain": [
       "{'one': 'bir', 'two': 'iki', 'three': 'üç', 'fayf': 'beş', 'five': 'beş'}"
      ]
     },
     "execution_count": 21,
     "metadata": {},
     "output_type": "execute_result"
    }
   ],
   "source": [
    "ingTR['five'] = 'beş'\n",
    "ingTR"
   ]
  },
  {
   "cell_type": "code",
   "execution_count": 22,
   "id": "conservative-pantyhose",
   "metadata": {},
   "outputs": [
    {
     "data": {
      "text/plain": [
       "{'one': 'bir',\n",
       " 'two': 'iki',\n",
       " 'three': 'üç',\n",
       " 'fayf': 'beş',\n",
       " 'five': 'beş',\n",
       " 'six': 'alttti'}"
      ]
     },
     "execution_count": 22,
     "metadata": {},
     "output_type": "execute_result"
    }
   ],
   "source": [
    "ingTR['six'] = 'alttti'\n",
    "ingTR"
   ]
  },
  {
   "cell_type": "code",
   "execution_count": 23,
   "id": "electrical-indiana",
   "metadata": {},
   "outputs": [
    {
     "data": {
      "text/plain": [
       "{'one': 'bir',\n",
       " 'two': 'iki',\n",
       " 'three': 'üç',\n",
       " 'fayf': 'beş',\n",
       " 'five': 'beş',\n",
       " 'six': 'altı'}"
      ]
     },
     "execution_count": 23,
     "metadata": {},
     "output_type": "execute_result"
    }
   ],
   "source": [
    "ingTR['six'] = 'altı'\n",
    "ingTR"
   ]
  },
  {
   "cell_type": "code",
   "execution_count": 24,
   "id": "still-trustee",
   "metadata": {},
   "outputs": [
    {
     "data": {
      "text/plain": [
       "{'one': 'bir',\n",
       " 'two': 'iki',\n",
       " 'three': 'üç',\n",
       " 'fayf': 'beş',\n",
       " 'five': 'beş',\n",
       " 'six': 'altı',\n",
       " 'seven': 'yedi',\n",
       " 'eight': 'sekiz',\n",
       " 'nine': 'dokuz',\n",
       " 'ten': 'on'}"
      ]
     },
     "execution_count": 24,
     "metadata": {},
     "output_type": "execute_result"
    }
   ],
   "source": [
    "ingTR['seven'] = 'yedi'\n",
    "ingTR['eight'] = 'sekiz'\n",
    "ingTR['nine'] = 'dokuz'\n",
    "ingTR['ten'] = 'on'\n",
    "ingTR"
   ]
  },
  {
   "cell_type": "markdown",
   "id": "round-shark",
   "metadata": {},
   "source": [
    "**update()**"
   ]
  },
  {
   "cell_type": "code",
   "execution_count": 25,
   "id": "useful-concord",
   "metadata": {},
   "outputs": [
    {
     "data": {
      "text/plain": [
       "{'marka': 'Ford', 'model': 'Mustang', 'yil': 1964}"
      ]
     },
     "execution_count": 25,
     "metadata": {},
     "output_type": "execute_result"
    }
   ],
   "source": [
    "arac = {\n",
    "    'marka': 'Ford',\n",
    "    'model': 'Mustang',\n",
    "    'yil': 1964\n",
    "}\n",
    "\n",
    "arac"
   ]
  },
  {
   "cell_type": "code",
   "execution_count": 26,
   "id": "fundamental-virtue",
   "metadata": {},
   "outputs": [
    {
     "data": {
      "text/plain": [
       "{'marka': 'Ford', 'model': 'Mustang', 'yil': 1964, 'renk': 'kırmızı'}"
      ]
     },
     "execution_count": 26,
     "metadata": {},
     "output_type": "execute_result"
    }
   ],
   "source": [
    "# arac sözlüğüne renk ekleyelim\n",
    "\n",
    "eklenecek = {'renk': 'kırmızı'}\n",
    "\n",
    "arac.update(eklenecek)\n",
    "\n",
    "arac"
   ]
  },
  {
   "cell_type": "code",
   "execution_count": 27,
   "id": "compound-resource",
   "metadata": {},
   "outputs": [
    {
     "data": {
      "text/plain": [
       "{'marka': 'Ford',\n",
       " 'model': 'Mustang',\n",
       " 'yil': 1964,\n",
       " 'renk': 'kırmızı',\n",
       " 'fiyat': 300000,\n",
       " 'km': 89000,\n",
       " 'motor': 1.6}"
      ]
     },
     "execution_count": 27,
     "metadata": {},
     "output_type": "execute_result"
    }
   ],
   "source": [
    "# tek seferde birden fazla eleman eklemek istiyoruz -> update\n",
    "\n",
    "eklenecekler = {\n",
    "        'fiyat': 300000, \n",
    "        'km': 89000, \n",
    "        'motor': 1.6\n",
    "}\n",
    "\n",
    "arac.update(eklenecekler)\n",
    "\n",
    "arac"
   ]
  },
  {
   "cell_type": "markdown",
   "id": "practical-stewart",
   "metadata": {},
   "source": [
    "### Dictionary'den Eleman Silme"
   ]
  },
  {
   "cell_type": "markdown",
   "id": "handmade-korean",
   "metadata": {},
   "source": [
    "List'lerde eleman silmek için -> `pop()` ve `del`\n",
    "\n",
    "Dictionary için de bu metodlar kullanılır."
   ]
  },
  {
   "cell_type": "markdown",
   "id": "under-timothy",
   "metadata": {},
   "source": [
    "**pop()**"
   ]
  },
  {
   "cell_type": "code",
   "execution_count": 29,
   "id": "entertaining-hollywood",
   "metadata": {},
   "outputs": [
    {
     "data": {
      "text/plain": [
       "{'one': 'bir',\n",
       " 'two': 'iki',\n",
       " 'three': 'üç',\n",
       " 'for': 'dört',\n",
       " 'seven': 'yedi',\n",
       " 'eight': 'sekiz',\n",
       " 'nine': 'dokuz',\n",
       " 'ten': 'on'}"
      ]
     },
     "execution_count": 29,
     "metadata": {},
     "output_type": "execute_result"
    }
   ],
   "source": [
    "ingTR = {}\n",
    "\n",
    "ingTR['one'] = 'bir'\n",
    "ingTR['two'] = 'iki'\n",
    "ingTR['three'] = 'üç'\n",
    "ingTR['for'] = 'dört'\n",
    "ingTR['seven'] = 'yedi'\n",
    "ingTR['eight'] = 'sekiz'\n",
    "ingTR['nine'] = 'dokuz'\n",
    "ingTR['ten'] = 'on'\n",
    "\n",
    "ingTR"
   ]
  },
  {
   "cell_type": "code",
   "execution_count": 30,
   "id": "spoken-jacksonville",
   "metadata": {},
   "outputs": [
    {
     "data": {
      "text/plain": [
       "'dokuz'"
      ]
     },
     "execution_count": 30,
     "metadata": {},
     "output_type": "execute_result"
    }
   ],
   "source": [
    "ingTR.pop('nine')"
   ]
  },
  {
   "cell_type": "code",
   "execution_count": 31,
   "id": "unavailable-wages",
   "metadata": {},
   "outputs": [
    {
     "data": {
      "text/plain": [
       "{'one': 'bir',\n",
       " 'two': 'iki',\n",
       " 'three': 'üç',\n",
       " 'for': 'dört',\n",
       " 'seven': 'yedi',\n",
       " 'eight': 'sekiz',\n",
       " 'ten': 'on'}"
      ]
     },
     "execution_count": 31,
     "metadata": {},
     "output_type": "execute_result"
    }
   ],
   "source": [
    "ingTR"
   ]
  },
  {
   "cell_type": "code",
   "execution_count": 32,
   "id": "widespread-integral",
   "metadata": {},
   "outputs": [
    {
     "data": {
      "text/plain": [
       "'dört'"
      ]
     },
     "execution_count": 32,
     "metadata": {},
     "output_type": "execute_result"
    }
   ],
   "source": [
    "silinen = ingTR.pop('for')\n",
    "silinen"
   ]
  },
  {
   "cell_type": "code",
   "execution_count": 33,
   "id": "endangered-velvet",
   "metadata": {},
   "outputs": [
    {
     "data": {
      "text/plain": [
       "{'one': 'bir',\n",
       " 'two': 'iki',\n",
       " 'three': 'üç',\n",
       " 'seven': 'yedi',\n",
       " 'eight': 'sekiz',\n",
       " 'ten': 'on'}"
      ]
     },
     "execution_count": 33,
     "metadata": {},
     "output_type": "execute_result"
    }
   ],
   "source": [
    "ingTR"
   ]
  },
  {
   "cell_type": "code",
   "execution_count": 34,
   "id": "intended-skiing",
   "metadata": {},
   "outputs": [],
   "source": [
    "del ingTR['seven']"
   ]
  },
  {
   "cell_type": "code",
   "execution_count": 35,
   "id": "integrated-blogger",
   "metadata": {},
   "outputs": [
    {
     "data": {
      "text/plain": [
       "{'one': 'bir', 'two': 'iki', 'three': 'üç', 'eight': 'sekiz', 'ten': 'on'}"
      ]
     },
     "execution_count": 35,
     "metadata": {},
     "output_type": "execute_result"
    }
   ],
   "source": [
    "ingTR"
   ]
  },
  {
   "cell_type": "code",
   "execution_count": 36,
   "id": "occasional-repeat",
   "metadata": {},
   "outputs": [],
   "source": [
    "del ingTR['ten']"
   ]
  },
  {
   "cell_type": "code",
   "execution_count": 37,
   "id": "atmospheric-shepherd",
   "metadata": {},
   "outputs": [
    {
     "data": {
      "text/plain": [
       "{'one': 'bir', 'two': 'iki', 'three': 'üç', 'eight': 'sekiz'}"
      ]
     },
     "execution_count": 37,
     "metadata": {},
     "output_type": "execute_result"
    }
   ],
   "source": [
    "ingTR"
   ]
  },
  {
   "cell_type": "code",
   "execution_count": 38,
   "id": "alone-typing",
   "metadata": {},
   "outputs": [
    {
     "ename": "KeyError",
     "evalue": "'ten'",
     "output_type": "error",
     "traceback": [
      "\u001b[1;31m---------------------------------------------------------------------------\u001b[0m",
      "\u001b[1;31mKeyError\u001b[0m                                  Traceback (most recent call last)",
      "\u001b[1;32m<ipython-input-38-452f2c428d1f>\u001b[0m in \u001b[0;36m<module>\u001b[1;34m\u001b[0m\n\u001b[1;32m----> 1\u001b[1;33m \u001b[1;32mdel\u001b[0m \u001b[0mingTR\u001b[0m\u001b[1;33m[\u001b[0m\u001b[1;34m'ten'\u001b[0m\u001b[1;33m]\u001b[0m\u001b[1;33m\u001b[0m\u001b[1;33m\u001b[0m\u001b[0m\n\u001b[0m",
      "\u001b[1;31mKeyError\u001b[0m: 'ten'"
     ]
    }
   ],
   "source": [
    "del ingTR['ten']"
   ]
  },
  {
   "cell_type": "markdown",
   "id": "second-helena",
   "metadata": {},
   "source": [
    "### Dictionary'den Eleman Okuma"
   ]
  },
  {
   "cell_type": "markdown",
   "id": "advisory-stack",
   "metadata": {},
   "source": [
    "dict[key] = value"
   ]
  },
  {
   "cell_type": "code",
   "execution_count": 39,
   "id": "preceding-payday",
   "metadata": {},
   "outputs": [
    {
     "data": {
      "text/plain": [
       "{'one': 'bir',\n",
       " 'two': 'iki',\n",
       " 'three': 'üç',\n",
       " 'for': 'dört',\n",
       " 'seven': 'yedi',\n",
       " 'eight': 'sekiz',\n",
       " 'nine': 'dokuz',\n",
       " 'ten': 'on'}"
      ]
     },
     "execution_count": 39,
     "metadata": {},
     "output_type": "execute_result"
    }
   ],
   "source": [
    "ingTR = {}\n",
    "\n",
    "ingTR['one'] = 'bir'\n",
    "ingTR['two'] = 'iki'\n",
    "ingTR['three'] = 'üç'\n",
    "ingTR['for'] = 'dört'\n",
    "ingTR['seven'] = 'yedi'\n",
    "ingTR['eight'] = 'sekiz'\n",
    "ingTR['nine'] = 'dokuz'\n",
    "ingTR['ten'] = 'on'\n",
    "\n",
    "ingTR"
   ]
  },
  {
   "cell_type": "code",
   "execution_count": 40,
   "id": "universal-gilbert",
   "metadata": {},
   "outputs": [
    {
     "data": {
      "text/plain": [
       "'yedi'"
      ]
     },
     "execution_count": 40,
     "metadata": {},
     "output_type": "execute_result"
    }
   ],
   "source": [
    "ingTR['seven']"
   ]
  },
  {
   "cell_type": "code",
   "execution_count": 41,
   "id": "unknown-genome",
   "metadata": {},
   "outputs": [
    {
     "data": {
      "text/plain": [
       "'on'"
      ]
     },
     "execution_count": 41,
     "metadata": {},
     "output_type": "execute_result"
    }
   ],
   "source": [
    "ingTR['ten']"
   ]
  },
  {
   "cell_type": "markdown",
   "id": "advance-coach",
   "metadata": {},
   "source": [
    "**dict.items()**"
   ]
  },
  {
   "cell_type": "code",
   "execution_count": 42,
   "id": "liberal-tulsa",
   "metadata": {},
   "outputs": [
    {
     "data": {
      "text/plain": [
       "dict_items([('one', 'bir'), ('two', 'iki'), ('three', 'üç'), ('for', 'dört'), ('seven', 'yedi'), ('eight', 'sekiz'), ('nine', 'dokuz'), ('ten', 'on')])"
      ]
     },
     "execution_count": 42,
     "metadata": {},
     "output_type": "execute_result"
    }
   ],
   "source": [
    "ingTR.items()"
   ]
  },
  {
   "cell_type": "markdown",
   "id": "purple-variety",
   "metadata": {},
   "source": [
    "**dict.keys()**"
   ]
  },
  {
   "cell_type": "code",
   "execution_count": 43,
   "id": "stopped-saskatchewan",
   "metadata": {},
   "outputs": [
    {
     "data": {
      "text/plain": [
       "dict_keys(['one', 'two', 'three', 'for', 'seven', 'eight', 'nine', 'ten'])"
      ]
     },
     "execution_count": 43,
     "metadata": {},
     "output_type": "execute_result"
    }
   ],
   "source": [
    "ingTR.keys()"
   ]
  },
  {
   "cell_type": "markdown",
   "id": "forbidden-december",
   "metadata": {},
   "source": [
    "**dict.values()**"
   ]
  },
  {
   "cell_type": "code",
   "execution_count": 44,
   "id": "proof-virginia",
   "metadata": {},
   "outputs": [
    {
     "data": {
      "text/plain": [
       "dict_values(['bir', 'iki', 'üç', 'dört', 'yedi', 'sekiz', 'dokuz', 'on'])"
      ]
     },
     "execution_count": 44,
     "metadata": {},
     "output_type": "execute_result"
    }
   ],
   "source": [
    "ingTR.values()"
   ]
  },
  {
   "cell_type": "code",
   "execution_count": 45,
   "id": "covered-investment",
   "metadata": {},
   "outputs": [
    {
     "name": "stdout",
     "output_type": "stream",
     "text": [
      "one keyinde: bir değeri vardır.\n",
      "two keyinde: iki değeri vardır.\n",
      "three keyinde: üç değeri vardır.\n",
      "for keyinde: dört değeri vardır.\n",
      "seven keyinde: yedi değeri vardır.\n",
      "eight keyinde: sekiz değeri vardır.\n",
      "nine keyinde: dokuz değeri vardır.\n",
      "ten keyinde: on değeri vardır.\n"
     ]
    }
   ],
   "source": [
    "# for ile key-value okumak\n",
    "\n",
    "for key, value in ingTR.items():\n",
    "    print(\"{} keyinde: {} değeri vardır.\".format(key, value))\n",
    "    "
   ]
  },
  {
   "cell_type": "code",
   "execution_count": 46,
   "id": "literary-clock",
   "metadata": {},
   "outputs": [
    {
     "name": "stdout",
     "output_type": "stream",
     "text": [
      "one : bir\n",
      "two : iki\n",
      "three : üç\n",
      "for : dört\n",
      "seven : yedi\n",
      "eight : sekiz\n",
      "nine : dokuz\n",
      "ten : on\n"
     ]
    }
   ],
   "source": [
    "for k, v in ingTR.items():\n",
    "    print(k, \":\", v)\n",
    "    "
   ]
  },
  {
   "cell_type": "code",
   "execution_count": 47,
   "id": "attempted-smell",
   "metadata": {},
   "outputs": [
    {
     "name": "stdout",
     "output_type": "stream",
     "text": [
      "one\n",
      "two\n",
      "three\n",
      "for\n",
      "seven\n",
      "eight\n",
      "nine\n",
      "ten\n"
     ]
    }
   ],
   "source": [
    "# sadece anahtarlar\n",
    "\n",
    "for anahtar in ingTR.keys():\n",
    "    print(anahtar)\n",
    "    "
   ]
  },
  {
   "cell_type": "code",
   "execution_count": 48,
   "id": "blond-cleaner",
   "metadata": {},
   "outputs": [
    {
     "name": "stdout",
     "output_type": "stream",
     "text": [
      "bir\n",
      "iki\n",
      "üç\n",
      "dört\n",
      "yedi\n",
      "sekiz\n",
      "dokuz\n",
      "on\n"
     ]
    }
   ],
   "source": [
    "# sadece değerler\n",
    "\n",
    "for deger in ingTR.values():\n",
    "    print(deger)"
   ]
  },
  {
   "cell_type": "code",
   "execution_count": 49,
   "id": "disciplinary-transparency",
   "metadata": {},
   "outputs": [
    {
     "data": {
      "text/plain": [
       "{'marka': 'Ford',\n",
       " 'model': 'Mustang',\n",
       " 'yil': 1964,\n",
       " 'renk': 'kırmızı',\n",
       " 'fiyat': 300000}"
      ]
     },
     "execution_count": 49,
     "metadata": {},
     "output_type": "execute_result"
    }
   ],
   "source": [
    "arac = {\n",
    "    'marka': 'Ford',\n",
    "    'model': 'Mustang',\n",
    "    'yil': 1964,\n",
    "    'renk': 'kırmızı',\n",
    "    'fiyat': 300000\n",
    "}\n",
    "\n",
    "arac"
   ]
  },
  {
   "cell_type": "markdown",
   "id": "legal-reception",
   "metadata": {},
   "source": [
    "**get()**"
   ]
  },
  {
   "cell_type": "code",
   "execution_count": 50,
   "id": "brazilian-leather",
   "metadata": {},
   "outputs": [
    {
     "data": {
      "text/plain": [
       "'Mustang'"
      ]
     },
     "execution_count": 50,
     "metadata": {},
     "output_type": "execute_result"
    }
   ],
   "source": [
    "arac.get('model')"
   ]
  },
  {
   "cell_type": "code",
   "execution_count": 51,
   "id": "impressive-blocking",
   "metadata": {},
   "outputs": [
    {
     "data": {
      "text/plain": [
       "'Mustang'"
      ]
     },
     "execution_count": 51,
     "metadata": {},
     "output_type": "execute_result"
    }
   ],
   "source": [
    "arac['model']"
   ]
  },
  {
   "cell_type": "code",
   "execution_count": 52,
   "id": "grand-excerpt",
   "metadata": {},
   "outputs": [
    {
     "ename": "KeyError",
     "evalue": "'km'",
     "output_type": "error",
     "traceback": [
      "\u001b[1;31m---------------------------------------------------------------------------\u001b[0m",
      "\u001b[1;31mKeyError\u001b[0m                                  Traceback (most recent call last)",
      "\u001b[1;32m<ipython-input-52-12e2af180813>\u001b[0m in \u001b[0;36m<module>\u001b[1;34m\u001b[0m\n\u001b[0;32m      1\u001b[0m \u001b[1;31m# olmayan key ile sorarsanız\u001b[0m\u001b[1;33m\u001b[0m\u001b[1;33m\u001b[0m\u001b[1;33m\u001b[0m\u001b[0m\n\u001b[0;32m      2\u001b[0m \u001b[1;33m\u001b[0m\u001b[0m\n\u001b[1;32m----> 3\u001b[1;33m \u001b[0marac\u001b[0m\u001b[1;33m[\u001b[0m\u001b[1;34m'km'\u001b[0m\u001b[1;33m]\u001b[0m\u001b[1;33m\u001b[0m\u001b[1;33m\u001b[0m\u001b[0m\n\u001b[0m",
      "\u001b[1;31mKeyError\u001b[0m: 'km'"
     ]
    }
   ],
   "source": [
    "# olmayan key ile sorarsanız\n",
    "\n",
    "arac['km']"
   ]
  },
  {
   "cell_type": "code",
   "execution_count": 53,
   "id": "eleven-reality",
   "metadata": {},
   "outputs": [],
   "source": [
    "arac.get('km')"
   ]
  },
  {
   "cell_type": "markdown",
   "id": "excited-plaza",
   "metadata": {},
   "source": [
    "**len()**"
   ]
  },
  {
   "cell_type": "code",
   "execution_count": 54,
   "id": "straight-nursery",
   "metadata": {},
   "outputs": [
    {
     "data": {
      "text/plain": [
       "5"
      ]
     },
     "execution_count": 54,
     "metadata": {},
     "output_type": "execute_result"
    }
   ],
   "source": [
    "len(arac)"
   ]
  },
  {
   "cell_type": "markdown",
   "id": "noble-webster",
   "metadata": {},
   "source": [
    "**in**"
   ]
  },
  {
   "cell_type": "code",
   "execution_count": 56,
   "id": "strong-techno",
   "metadata": {},
   "outputs": [
    {
     "data": {
      "text/plain": [
       "True"
      ]
     },
     "execution_count": 56,
     "metadata": {},
     "output_type": "execute_result"
    }
   ],
   "source": [
    "# bu şekilde key içinde arar\n",
    "\n",
    "'yil' in arac"
   ]
  },
  {
   "cell_type": "code",
   "execution_count": 57,
   "id": "specific-connecticut",
   "metadata": {},
   "outputs": [
    {
     "data": {
      "text/plain": [
       "True"
      ]
     },
     "execution_count": 57,
     "metadata": {},
     "output_type": "execute_result"
    }
   ],
   "source": [
    "'seven' in ingTR"
   ]
  },
  {
   "cell_type": "code",
   "execution_count": 58,
   "id": "forty-manner",
   "metadata": {},
   "outputs": [
    {
     "data": {
      "text/plain": [
       "False"
      ]
     },
     "execution_count": 58,
     "metadata": {},
     "output_type": "execute_result"
    }
   ],
   "source": [
    "'five' in ingTR"
   ]
  },
  {
   "cell_type": "code",
   "execution_count": 59,
   "id": "opposite-bleeding",
   "metadata": {},
   "outputs": [
    {
     "data": {
      "text/plain": [
       "True"
      ]
     },
     "execution_count": 59,
     "metadata": {},
     "output_type": "execute_result"
    }
   ],
   "source": [
    "# Değerler içinde aramak istesek\n",
    "\n",
    "'dört' in ingTR.values()"
   ]
  },
  {
   "cell_type": "code",
   "execution_count": 60,
   "id": "original-extra",
   "metadata": {},
   "outputs": [
    {
     "data": {
      "text/plain": [
       "True"
      ]
     },
     "execution_count": 60,
     "metadata": {},
     "output_type": "execute_result"
    }
   ],
   "source": [
    "'sekiz' in ingTR.values()"
   ]
  },
  {
   "cell_type": "code",
   "execution_count": 61,
   "id": "genetic-saskatchewan",
   "metadata": {},
   "outputs": [
    {
     "data": {
      "text/plain": [
       "False"
      ]
     },
     "execution_count": 61,
     "metadata": {},
     "output_type": "execute_result"
    }
   ],
   "source": [
    "'onsekiz' in ingTR.values()"
   ]
  },
  {
   "cell_type": "markdown",
   "id": "occasional-spectacular",
   "metadata": {},
   "source": [
    "### Dictionary'nin Elemanları Üzerinde Dönme"
   ]
  },
  {
   "cell_type": "code",
   "execution_count": 63,
   "id": "changing-lodge",
   "metadata": {},
   "outputs": [],
   "source": [
    "arabalar = {\n",
    "    'Audi': 'Almanya',\n",
    "    'Mazda': 'Japonya',\n",
    "    'Fiat': 'İtalya',\n",
    "    'Ford': 'Amerika'\n",
    "}"
   ]
  },
  {
   "cell_type": "markdown",
   "id": "clinical-railway",
   "metadata": {},
   "source": [
    "**items(), keys(), values()**"
   ]
  },
  {
   "cell_type": "code",
   "execution_count": 64,
   "id": "aggregate-arrow",
   "metadata": {},
   "outputs": [
    {
     "name": "stdout",
     "output_type": "stream",
     "text": [
      "('Audi', 'Almanya')\n",
      "('Mazda', 'Japonya')\n",
      "('Fiat', 'İtalya')\n",
      "('Ford', 'Amerika')\n"
     ]
    }
   ],
   "source": [
    "for araba in arabalar.items():\n",
    "    print(araba)\n",
    "    "
   ]
  },
  {
   "cell_type": "code",
   "execution_count": 65,
   "id": "preliminary-given",
   "metadata": {},
   "outputs": [
    {
     "name": "stdout",
     "output_type": "stream",
     "text": [
      "Audi - Almanya\n",
      "Mazda - Japonya\n",
      "Fiat - İtalya\n",
      "Ford - Amerika\n"
     ]
    }
   ],
   "source": [
    "# destructuring\n",
    "\n",
    "for marka, ulke in arabalar.items():\n",
    "    print(marka, \"-\", ulke)\n",
    "    "
   ]
  },
  {
   "cell_type": "code",
   "execution_count": 66,
   "id": "functioning-sarah",
   "metadata": {},
   "outputs": [
    {
     "name": "stdout",
     "output_type": "stream",
     "text": [
      "Audi\n",
      "Mazda\n",
      "Fiat\n",
      "Ford\n"
     ]
    }
   ],
   "source": [
    "for k in arabalar.keys():\n",
    "    print(k)\n",
    "    "
   ]
  },
  {
   "cell_type": "code",
   "execution_count": 67,
   "id": "regulation-guide",
   "metadata": {},
   "outputs": [
    {
     "name": "stdout",
     "output_type": "stream",
     "text": [
      "Almanya\n",
      "Japonya\n",
      "İtalya\n",
      "Amerika\n"
     ]
    }
   ],
   "source": [
    "for v in arabalar.values():\n",
    "    \n",
    "    print(v)"
   ]
  },
  {
   "cell_type": "markdown",
   "id": "increased-wichita",
   "metadata": {},
   "source": [
    "**Alıştırma:**\n",
    "\n",
    "Fonksiyon yaratalım.\n",
    "\n",
    "Metnin harflerini saysın, kaç kere geçtiğini bir sözlükte dönsün."
   ]
  },
  {
   "cell_type": "markdown",
   "id": "confidential-international",
   "metadata": {},
   "source": [
    "Ör: {'a': 3, 't': 5, 'c': 2...}"
   ]
  },
  {
   "cell_type": "code",
   "execution_count": 96,
   "id": "provincial-publicity",
   "metadata": {},
   "outputs": [],
   "source": [
    "# Çözüm\n",
    "\n",
    "def harf_say(metin):\n",
    "    \n",
    "    # harf ve sayıları tutacak sözlük -> dict\n",
    "    harfler = dict()\n",
    "    \n",
    "    for harf in metin:\n",
    "        \n",
    "        # harf istediğimiz için -> isalpha()\n",
    "        \n",
    "        if harf.isalpha():\n",
    "            \n",
    "            # harf'i harfler sözlüğüne ekle -> içinde var mı?\n",
    "            # varsa değerini 1 artır\n",
    "            if harf in harfler.keys():\n",
    "                harfler[harf] += 1\n",
    "            \n",
    "            # yoksa, ilk defa geliyordur -> 1 değeri ile eklenecek\n",
    "            else:\n",
    "                harfler[harf] = 1\n",
    "                \n",
    "    return harfler\n",
    "    "
   ]
  },
  {
   "cell_type": "code",
   "execution_count": 97,
   "id": "french-crawford",
   "metadata": {},
   "outputs": [
    {
     "data": {
      "text/plain": [
       "{'B': 1,\n",
       " 'u': 1,\n",
       " 'm': 1,\n",
       " 'e': 4,\n",
       " 't': 1,\n",
       " 'i': 2,\n",
       " 'n': 2,\n",
       " 'd': 1,\n",
       " 'h': 2,\n",
       " 'a': 4,\n",
       " 'g': 1,\n",
       " 'r': 3,\n",
       " 'f': 1,\n",
       " 'k': 2,\n",
       " 'ç': 1,\n",
       " 'v': 1}"
      ]
     },
     "execution_count": 97,
     "metadata": {},
     "output_type": "execute_result"
    }
   ],
   "source": [
    "metin = 'Bu metinde hangi harf kaç kere var?'\n",
    "\n",
    "harf_sozlugu = harf_say(metin)\n",
    "\n",
    "harf_sozlugu"
   ]
  },
  {
   "cell_type": "code",
   "execution_count": 83,
   "id": "extensive-backup",
   "metadata": {},
   "outputs": [],
   "source": [
    "# Çözüm 2:\n",
    "# Pythonic\n",
    "\n",
    "def harf_say_2(metin):\n",
    "    \n",
    "    harfler = dict()\n",
    "    \n",
    "    for harf in metin:\n",
    "        \n",
    "        if harf.isalpha():\n",
    "            \n",
    "            harfler[harf] = harfler.get(harf, 0) + 1\n",
    "            \n",
    "    return harfler\n"
   ]
  },
  {
   "cell_type": "code",
   "execution_count": 73,
   "id": "focal-isaac",
   "metadata": {},
   "outputs": [
    {
     "data": {
      "text/plain": [
       "4"
      ]
     },
     "execution_count": 73,
     "metadata": {},
     "output_type": "execute_result"
    }
   ],
   "source": [
    "harf_sozlugu.get('e')"
   ]
  },
  {
   "cell_type": "code",
   "execution_count": 74,
   "id": "sought-valve",
   "metadata": {},
   "outputs": [
    {
     "data": {
      "text/plain": [
       "2"
      ]
     },
     "execution_count": 74,
     "metadata": {},
     "output_type": "execute_result"
    }
   ],
   "source": [
    "harf_sozlugu.get('k')"
   ]
  },
  {
   "cell_type": "code",
   "execution_count": 79,
   "id": "italian-baseball",
   "metadata": {},
   "outputs": [
    {
     "data": {
      "text/plain": [
       "0"
      ]
     },
     "execution_count": 79,
     "metadata": {},
     "output_type": "execute_result"
    }
   ],
   "source": [
    "# dict.get(key, <yoksa_gelecek_deger>)\n",
    "# get() bulamazsa, geriye sizin istediğiniz değeri verir\n",
    "\n",
    "harf_sozlugu.get('x', 0)"
   ]
  },
  {
   "cell_type": "code",
   "execution_count": 84,
   "id": "magnetic-moore",
   "metadata": {},
   "outputs": [
    {
     "data": {
      "text/plain": [
       "{'B': 1,\n",
       " 'u': 1,\n",
       " 'm': 1,\n",
       " 'e': 4,\n",
       " 't': 1,\n",
       " 'i': 2,\n",
       " 'n': 2,\n",
       " 'd': 1,\n",
       " 'h': 2,\n",
       " 'a': 4,\n",
       " 'g': 1,\n",
       " 'r': 3,\n",
       " 'f': 1,\n",
       " 'k': 2,\n",
       " 'ç': 1,\n",
       " 'v': 1}"
      ]
     },
     "execution_count": 84,
     "metadata": {},
     "output_type": "execute_result"
    }
   ],
   "source": [
    "metin = 'Bu metinde hangi harf kaç kere var?'\n",
    "\n",
    "harf_sozlugu = harf_say_2(metin)\n",
    "\n",
    "harf_sozlugu"
   ]
  },
  {
   "cell_type": "markdown",
   "id": "stretch-estate",
   "metadata": {},
   "source": [
    "### Tersten Arama"
   ]
  },
  {
   "cell_type": "markdown",
   "id": "fresh-french",
   "metadata": {},
   "source": [
    "Dictionary ile alakalı örneklerimizde hep anahtar (key) ile arama yaptık. Bir key ile arayıp değeri bulmaya çalıştık.\n",
    "\n",
    "Şimdi diyelim ki, tersinden yani değer ile arayıp key'i (anahtarı) bulmaya çalışalım.\n",
    "\n",
    "Normalde, Dictionary'nin yapılma amacı bu değildir. Dolayısı ile yapacağımız arama işleminde iki büyük sorun var bizi bekleyen:\n",
    "\n",
    "1. Aynı değeri gösteren birden fazla anahtar olabilir\n",
    "   Bu durumda ya ilkini döneriz ya da tümünü içeren bir liste dönmemiz lazım.\n",
    "2. Maalesef, bu tersten arama işlemi için basit bir yöntem yok. \n",
    "   Dolayısı ile search'ü kendimiz yazmak zorundayız."
   ]
  },
  {
   "cell_type": "code",
   "execution_count": 86,
   "id": "sonic-dispatch",
   "metadata": {},
   "outputs": [],
   "source": [
    "def tersten_arama(sozluk, deger):\n",
    "    \n",
    "    # sozlük içinde dönelim ve bulduğumuz ilk değeri geri dönelim\n",
    "    for key in sozluk:\n",
    "        \n",
    "        # bakalım elimizdeki değer -> bu key'e ait değer mi\n",
    "        if sozluk[key] == deger:\n",
    "            # bu değeri bulduk -> key dön\n",
    "            return key\n",
    "    "
   ]
  },
  {
   "cell_type": "code",
   "execution_count": 87,
   "id": "general-product",
   "metadata": {},
   "outputs": [],
   "source": [
    "sozluk = {\n",
    "    'a': 2,\n",
    "    'b': 1,\n",
    "    'c': 4,\n",
    "    'd': 3,\n",
    "    'e': 2\n",
    "}"
   ]
  },
  {
   "cell_type": "code",
   "execution_count": 88,
   "id": "thorough-geneva",
   "metadata": {},
   "outputs": [
    {
     "name": "stdout",
     "output_type": "stream",
     "text": [
      "a\n"
     ]
    }
   ],
   "source": [
    "deger = 2\n",
    "\n",
    "anahtar = tersten_arama(sozluk, deger)\n",
    "print(anahtar)"
   ]
  },
  {
   "cell_type": "code",
   "execution_count": 89,
   "id": "disabled-spiritual",
   "metadata": {},
   "outputs": [
    {
     "name": "stdout",
     "output_type": "stream",
     "text": [
      "None\n"
     ]
    }
   ],
   "source": [
    "deger = 8\n",
    "\n",
    "anahtar = tersten_arama(sozluk, deger)\n",
    "print(anahtar)"
   ]
  },
  {
   "cell_type": "markdown",
   "id": "private-compression",
   "metadata": {},
   "source": [
    "Diyelim ki, None dönmek yerine hata fırlatsak: 'Aradığınız değere ait key bulunamadı!'\n"
   ]
  },
  {
   "cell_type": "code",
   "execution_count": 90,
   "id": "clinical-program",
   "metadata": {},
   "outputs": [
    {
     "data": {
      "text/plain": [
       "4"
      ]
     },
     "execution_count": 90,
     "metadata": {},
     "output_type": "execute_result"
    }
   ],
   "source": [
    "sozluk['c']"
   ]
  },
  {
   "cell_type": "code",
   "execution_count": 91,
   "id": "declared-friendly",
   "metadata": {},
   "outputs": [
    {
     "ename": "KeyError",
     "evalue": "'k'",
     "output_type": "error",
     "traceback": [
      "\u001b[1;31m---------------------------------------------------------------------------\u001b[0m",
      "\u001b[1;31mKeyError\u001b[0m                                  Traceback (most recent call last)",
      "\u001b[1;32m<ipython-input-91-eb4f02c39270>\u001b[0m in \u001b[0;36m<module>\u001b[1;34m\u001b[0m\n\u001b[1;32m----> 1\u001b[1;33m \u001b[0msozluk\u001b[0m\u001b[1;33m[\u001b[0m\u001b[1;34m'k'\u001b[0m\u001b[1;33m]\u001b[0m\u001b[1;33m\u001b[0m\u001b[1;33m\u001b[0m\u001b[0m\n\u001b[0m",
      "\u001b[1;31mKeyError\u001b[0m: 'k'"
     ]
    }
   ],
   "source": [
    "sozluk['k']"
   ]
  },
  {
   "cell_type": "code",
   "execution_count": 94,
   "id": "brazilian-resistance",
   "metadata": {},
   "outputs": [],
   "source": [
    "def tersten_arama(sozluk, deger):\n",
    "    \n",
    "    # sozlük içinde dönelim ve bulduğumuz ilk değeri geri dönelim\n",
    "    for key in sozluk:        \n",
    "        # bakalım elimizdeki değer -> bu key'e ait değer mi\n",
    "        if sozluk[key] == deger:\n",
    "            # bu değeri bulduk -> key dön\n",
    "            return key\n",
    "    else:\n",
    "        # raise hata fırlatır -> Exception\n",
    "        # raise KeyError(\"Aradığınız değere ait key bulunamadı!\")\n",
    "        raise LookupError(\"Aradığınız değere ait key bulunamadı!\")"
   ]
  },
  {
   "cell_type": "code",
   "execution_count": 95,
   "id": "external-attribute",
   "metadata": {},
   "outputs": [
    {
     "ename": "LookupError",
     "evalue": "Aradığınız değere ait key bulunamadı!",
     "output_type": "error",
     "traceback": [
      "\u001b[1;31m---------------------------------------------------------------------------\u001b[0m",
      "\u001b[1;31mLookupError\u001b[0m                               Traceback (most recent call last)",
      "\u001b[1;32m<ipython-input-95-811b6d7c6386>\u001b[0m in \u001b[0;36m<module>\u001b[1;34m\u001b[0m\n\u001b[0;32m      1\u001b[0m \u001b[0mdeger\u001b[0m \u001b[1;33m=\u001b[0m \u001b[1;36m8\u001b[0m\u001b[1;33m\u001b[0m\u001b[1;33m\u001b[0m\u001b[0m\n\u001b[0;32m      2\u001b[0m \u001b[1;33m\u001b[0m\u001b[0m\n\u001b[1;32m----> 3\u001b[1;33m \u001b[0manahtar\u001b[0m \u001b[1;33m=\u001b[0m \u001b[0mtersten_arama\u001b[0m\u001b[1;33m(\u001b[0m\u001b[0msozluk\u001b[0m\u001b[1;33m,\u001b[0m \u001b[0mdeger\u001b[0m\u001b[1;33m)\u001b[0m\u001b[1;33m\u001b[0m\u001b[1;33m\u001b[0m\u001b[0m\n\u001b[0m\u001b[0;32m      4\u001b[0m \u001b[0mprint\u001b[0m\u001b[1;33m(\u001b[0m\u001b[0manahtar\u001b[0m\u001b[1;33m)\u001b[0m\u001b[1;33m\u001b[0m\u001b[1;33m\u001b[0m\u001b[0m\n",
      "\u001b[1;32m<ipython-input-94-3798f5756ff9>\u001b[0m in \u001b[0;36mtersten_arama\u001b[1;34m(sozluk, deger)\u001b[0m\n\u001b[0;32m     10\u001b[0m         \u001b[1;31m# raise hata fırlatır -> Exception\u001b[0m\u001b[1;33m\u001b[0m\u001b[1;33m\u001b[0m\u001b[1;33m\u001b[0m\u001b[0m\n\u001b[0;32m     11\u001b[0m         \u001b[1;31m# raise KeyError(\"Aradığınız değere ait key bulunamadı!\")\u001b[0m\u001b[1;33m\u001b[0m\u001b[1;33m\u001b[0m\u001b[1;33m\u001b[0m\u001b[0m\n\u001b[1;32m---> 12\u001b[1;33m         \u001b[1;32mraise\u001b[0m \u001b[0mLookupError\u001b[0m\u001b[1;33m(\u001b[0m\u001b[1;34m\"Aradığınız değere ait key bulunamadı!\"\u001b[0m\u001b[1;33m)\u001b[0m\u001b[1;33m\u001b[0m\u001b[1;33m\u001b[0m\u001b[0m\n\u001b[0m",
      "\u001b[1;31mLookupError\u001b[0m: Aradığınız değere ait key bulunamadı!"
     ]
    }
   ],
   "source": [
    "deger = 8\n",
    "\n",
    "anahtar = tersten_arama(sozluk, deger)\n",
    "print(anahtar)"
   ]
  },
  {
   "cell_type": "markdown",
   "id": "universal-happening",
   "metadata": {},
   "source": [
    "Bu örnekte ilk defa `raise` yapısını görüyoruz. Raise ifadesi bir `Exception` yani programatik hata oluşturur. Bu örnekte biz `LookupError` tipinde bir Exception döndürdük.\n",
    "\n",
    "Arama işlemlerinin başarısız olduğunu göstermek için genelde LookupError kullanılır.\n",
    "\n",
    "Bu şekilde hata fırlatmanın güzel tarafı bu fonksiyonu çağıran kodların hatanın yerini ve sebebini takip edebilmeleri (trace etmek).\n",
    "\n",
    "İlerleyen derslerde Exception Handling yani Hata Ayıklama bölümünde detaylı bir şekilde işleyeceğiz bu konuları. Şimdilik bu kadar yeterli."
   ]
  },
  {
   "cell_type": "markdown",
   "id": "weighted-therapist",
   "metadata": {},
   "source": [
    "**Önemli Not:** Python Dictionary'leri **hashtable** yapısını kullandığı için çok güçlü yapılardır. \n",
    "\n",
    "Ama bu güç, eğer doğru arama yaparsanız yani key ile ararsanız geçerli.\n",
    "\n",
    "Eğer dictionary'yi değer ile aramaya çalışırsanız, bu hem performans kaybı hem de hatalara açık hale getirir kodunuzu.\n",
    "\n",
    "Çok dikkat edilmelidir."
   ]
  },
  {
   "cell_type": "markdown",
   "id": "coral-catholic",
   "metadata": {},
   "source": [
    "### Dictionary'ler ve List'ler"
   ]
  },
  {
   "cell_type": "markdown",
   "id": "anonymous-irish",
   "metadata": {},
   "source": [
    "Listeler, Dictionary'lerde değer olarak kullanılabilir. \n",
    "\n",
    "Örneğin, İngilizce bir kelimenin, Türkçe birden fazla karşılığı olabilir. İşte bu karşılıkları bir liste olarak tutabilirsiniz."
   ]
  },
  {
   "cell_type": "markdown",
   "id": "valued-clone",
   "metadata": {},
   "source": [
    "Yukarıda tanımladığımız, **harf_say** fonksiyonu harfleri anahtar, adetleri değer olarak tutuyordu. \n",
    "\n",
    "<pre>\n",
    "{'B': 1, 'u': 1, 'm': 1, 'e': 4, 't': 1, 'i': 2, 'n': 2}\n",
    "şeklinde.\n",
    "</pre>  \n",
    "\n",
    "Diyelim ki tersten bir dictionary tutmak istedik. Yani adetler anahtar, harfler değer olsun.\n",
    "\n",
    "O durumda, örneğin 1 için birden fazla harf geliyor olacaktı. Ve onları da bir listede tutmamız gerekecekti:\n",
    "\n",
    "<pre>\n",
    "{1: ['B', 'u', 'm', 't'], 2: ['i', 'n'], 4: ['e']}  \n",
    "şeklinde.\n",
    "</pre>"
   ]
  },
  {
   "cell_type": "markdown",
   "id": "boxed-script",
   "metadata": {},
   "source": [
    "Hadi bu şekilde harfleri liste içinde dönen bir fonksiyon yazalım. \n",
    "\n",
    "Önce **harf_say** fonksiyonuna metin verip sözlük alacak, sonra bu sözlüğü anahtar-değer -> değer-anahtar şeklinde terse çevirecek. "
   ]
  },
  {
   "cell_type": "code",
   "execution_count": 98,
   "id": "deluxe-nepal",
   "metadata": {},
   "outputs": [],
   "source": [
    "def harf_listele(metin):\n",
    "    \n",
    "    # önce metin verip sözlük alalım\n",
    "    sozluk = harf_say(metin)\n",
    "    \n",
    "    # boş sözlüğümüzü yaratalım\n",
    "    # harfler = {}\n",
    "    harfler = dict()\n",
    "    \n",
    "    # şimdi sözlük üzerinde dönelim\n",
    "    for key in sozluk:\n",
    "        \n",
    "        # değerini alalım\n",
    "        deger = sozluk[key]\n",
    "        \n",
    "        # bu değer daha önceden harfler'e eklenmiş mi?\n",
    "        # in ifadesi ile kontrol et\n",
    "        if deger not in harfler:\n",
    "            # yoksa ekle -> liste olarak ekle: []\n",
    "            harfler[deger] = [key]\n",
    "        \n",
    "        # eğer zaten varsa -> listeye append et\n",
    "        else:\n",
    "            harfler[deger].append(key)\n",
    "            \n",
    "    return harfler\n",
    "    "
   ]
  },
  {
   "cell_type": "code",
   "execution_count": 100,
   "id": "little-height",
   "metadata": {},
   "outputs": [
    {
     "data": {
      "text/plain": [
       "{1: ['B', 'u', 'm', 't', 'd', 'g', 'f', 'ç', 'v'],\n",
       " 4: ['e', 'a'],\n",
       " 2: ['i', 'n', 'h', 'k'],\n",
       " 3: ['r']}"
      ]
     },
     "execution_count": 100,
     "metadata": {},
     "output_type": "execute_result"
    }
   ],
   "source": [
    "metin = 'Bu metinde hangi harf kaç kere var?'\n",
    "\n",
    "harfler = harf_listele(metin)\n",
    "\n",
    "harfler"
   ]
  },
  {
   "cell_type": "markdown",
   "id": "suitable-appreciation",
   "metadata": {},
   "source": [
    "**Önemli Not:**\n",
    "\n",
    "List'ler, Dictionary'lerde value olarak kullanılabilir,\n",
    "\n",
    "Ama **key olarak kullanılamazlar.**"
   ]
  },
  {
   "cell_type": "code",
   "execution_count": 101,
   "id": "dated-keeping",
   "metadata": {},
   "outputs": [
    {
     "ename": "TypeError",
     "evalue": "unhashable type: 'list'",
     "output_type": "error",
     "traceback": [
      "\u001b[1;31m---------------------------------------------------------------------------\u001b[0m",
      "\u001b[1;31mTypeError\u001b[0m                                 Traceback (most recent call last)",
      "\u001b[1;32m<ipython-input-101-d0b7d150c730>\u001b[0m in \u001b[0;36m<module>\u001b[1;34m\u001b[0m\n\u001b[0;32m      6\u001b[0m \u001b[1;33m\u001b[0m\u001b[0m\n\u001b[0;32m      7\u001b[0m \u001b[1;31m# şimdi bu sözlüğe a listesini key yapıp değer ekleyelim\u001b[0m\u001b[1;33m\u001b[0m\u001b[1;33m\u001b[0m\u001b[1;33m\u001b[0m\u001b[0m\n\u001b[1;32m----> 8\u001b[1;33m \u001b[0ms\u001b[0m\u001b[1;33m[\u001b[0m\u001b[0ma\u001b[0m\u001b[1;33m]\u001b[0m \u001b[1;33m=\u001b[0m \u001b[1;34m'hooooop'\u001b[0m\u001b[1;33m\u001b[0m\u001b[1;33m\u001b[0m\u001b[0m\n\u001b[0m",
      "\u001b[1;31mTypeError\u001b[0m: unhashable type: 'list'"
     ]
    }
   ],
   "source": [
    "# bir liste\n",
    "a = [1, 2]\n",
    "\n",
    "# bir sözlük\n",
    "s = dict()\n",
    "\n",
    "# şimdi bu sözlüğe a listesini key yapıp değer ekleyelim\n",
    "s[a] = 'hooooop'"
   ]
  },
  {
   "cell_type": "markdown",
   "id": "behavioral-veteran",
   "metadata": {},
   "source": [
    "Daha önce, Dictionary'nin **hashtable** yapısını kullandığını söylemiştik, bu da demektir ki, key'ler yani anahtarlar **hashable** olmalı. (Hashlanabilir olmalı.)"
   ]
  },
  {
   "cell_type": "markdown",
   "id": "contained-martial",
   "metadata": {},
   "source": [
    "**hash**, herhangi bir türde bir değer alan ve onun karşılığında size bir tamsayı (integer) dönen bir fonksiyondur. İşte Dictionary'ler bu dönen tam sayıları, `hash values` alır ve key-value değerlerini saklamak için kullanır. Bir nevi index olarak kullanır yani."
   ]
  },
  {
   "cell_type": "code",
   "execution_count": 102,
   "id": "million-debate",
   "metadata": {},
   "outputs": [],
   "source": [
    "sozluk = {\n",
    "    'a': 2,\n",
    "    'b': 1,\n",
    "    'c': 4,\n",
    "    'd': 3,\n",
    "    'e': 2\n",
    "}"
   ]
  },
  {
   "cell_type": "markdown",
   "id": "cloudy-portal",
   "metadata": {},
   "source": [
    "Eğer, Dictionary'nin key'leri immutable (yani değiştirilemez) ise, hiçbir sorun yoktur. Key'ler değişmeyeceği için onlara karşlık gelen `hash value` de değişmeyecektir.\n",
    "\n",
    "Fakat eğer key'leri Mutable olan nesnelerden yaparsanız, o zaman başlar. Neden mi?\n",
    "\n",
    "Diyelim ki bir dictionary yarattınız ve key'leri List tipinde (List'leri Mutable yani değiştirilebilir olduğunu hatırlayalım.) Ve Dictionary bu key'ler için hash değerini aldı ve RAM'de bir adrese sakladı.\n",
    "\n",
    "Şimdi key'in içinde olan List'in değiştiğini farzedelim. O zaman hash değeri de değişecektir, ve Dictionary bu değişen hash değeri ile eski adresi bulamayacaktır.\n",
    "\n",
    "O yüzden, için Mutable Tip'ler, Dictionary'e key olamazlar. Python bunu kesin bir dille yasaklar."
   ]
  },
  {
   "cell_type": "markdown",
   "id": "variable-invalid",
   "metadata": {},
   "source": [
    "Yeri gelmişken, Mutable x Immutable tablosunu bir daha hatırlayalım. Ve hangi tiplerin Dictionar'ye Key olamayacağını görelim:"
   ]
  },
  {
   "cell_type": "markdown",
   "id": "worthy-radio",
   "metadata": {},
   "source": [
    "Python'un Mutable vs. Immutable tipleri ve Dictionary'e Key Olma Durumları:\n",
    "\n",
    "| Tip | Tanım | Immutable? | Dictionary'e Key olabilir mi? | \n",
    "| --- | --- | --- | --- |\n",
    "| int | Integer (Tamsayı) | $\\checkmark$ | $\\checkmark$ |\n",
    "| float | Float (Kesirli Sayılar) | $\\checkmark$ | $\\checkmark$ |\n",
    "| bool | Boolean (Doğru-Yanlış) | $\\checkmark$ | $\\checkmark$ |\n",
    "| str | String (Metin) | $\\checkmark$ | $\\checkmark$ |\n",
    "| list | List (Liste) |  |  |\n",
    "| tuple | Tuple (Demet) | $\\checkmark$ | $\\checkmark$ |\n",
    "| dict | Dictionary (Sözlük) |  |  |\n",
    "| set | Set (Küme) |  |  |\n",
    "| frozenset | Frozen Set (Donmuş Küme) | $\\checkmark$ | $\\checkmark$ |"
   ]
  },
  {
   "cell_type": "markdown",
   "id": "tired-preview",
   "metadata": {},
   "source": [
    "Tablodan gördüğünüz gibi, Immutable olmayan, yani Mutable olan, yani Değişebilen tipler; Dictionary'e Key olamazlar:\n",
    "* List\n",
    "* Dictionary (kendisi de kendisine key olamaz)\n",
    "* Set"
   ]
  },
  {
   "cell_type": "markdown",
   "id": "optical-geography",
   "metadata": {},
   "source": [
    "**Son Söz:**\n",
    "\n",
    "Dictionary'ler ve Key'leri için unutulmaması gereken iki kuralı tekrar hatırlatalım:\n",
    "\n",
    "1. Key'ler tekil yani `unique` olmalı. Aynı key bulunamaz.\n",
    "2. Key'ler `Immutable` yani Değiştirelemez. Hashtable yapısından ötürü.\n",
    "    * Key olabilecek tipler: **int, float, bool, str, tuple, frozenset**"
   ]
  },
  {
   "cell_type": "code",
   "execution_count": 104,
   "id": "extra-quilt",
   "metadata": {},
   "outputs": [
    {
     "data": {
      "text/plain": [
       "{True: 'Doğru',\n",
       " False: 'Yanlış',\n",
       " 5: 'beş',\n",
       " 4.8: 'dört nokta sekiz',\n",
       " 'final': 'son'}"
      ]
     },
     "execution_count": 104,
     "metadata": {},
     "output_type": "execute_result"
    }
   ],
   "source": [
    "s = dict()\n",
    "\n",
    "s[True] = 'Doğru'\n",
    "s[False] = 'Yanlış'\n",
    "\n",
    "s[5] = 'beş'\n",
    "s[4.8] = 'dört nokta sekiz'\n",
    "\n",
    "s[\"final\"] = \"son\"\n",
    "\n",
    "s"
   ]
  },
  {
   "cell_type": "code",
   "execution_count": null,
   "id": "abroad-street",
   "metadata": {},
   "outputs": [],
   "source": []
  }
 ],
 "metadata": {
  "kernelspec": {
   "display_name": "Python 3",
   "language": "python",
   "name": "python3"
  },
  "language_info": {
   "codemirror_mode": {
    "name": "ipython",
    "version": 3
   },
   "file_extension": ".py",
   "mimetype": "text/x-python",
   "name": "python",
   "nbconvert_exporter": "python",
   "pygments_lexer": "ipython3",
   "version": "3.8.5"
  }
 },
 "nbformat": 4,
 "nbformat_minor": 5
}
