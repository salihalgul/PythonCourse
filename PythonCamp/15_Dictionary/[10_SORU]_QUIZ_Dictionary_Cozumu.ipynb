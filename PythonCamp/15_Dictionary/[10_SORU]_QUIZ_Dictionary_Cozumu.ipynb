{
 "cells": [
  {
   "cell_type": "markdown",
   "metadata": {},
   "source": [
    "## [10 SORU] QUIZ - Dictionary"
   ]
  },
  {
   "cell_type": "markdown",
   "metadata": {},
   "source": [
    "**Soru 1:**\n",
    "\n",
    "`kelimeler.txt` dosyasını okuyan ve buradaki kelimelerden bir dictionary yaratan bir fonksiyon yazın. Fonskiyon sadece 19 karakter ve üstü olan kelimeleri alsın.\n",
    "\n",
    "Dictionary'nin key'i kelime olacak, ve değeri de kelimenin harf sayısı yani uzunluğu olacak.\n",
    "\n",
    "Fonksiyon'un adı **kelimeler_sozlugu** olsun ve yarattığı Dictionary'yi dönsün.\n",
    "\n",
    "**İpucu:**\n",
    "\n",
    "`kelimeler.txt` dosyasını okumak için `Kelimeler Uygulaması` nı tekrar gözden geçirebilirsiniz.\n",
    "\n",
    "<pre>\n",
    "Örnek Çıktı:\n",
    "{'anticonservationist': 19, \n",
    " 'comprehensivenesses': 19, \n",
    " 'counterdemonstration': 20,\n",
    " 'counterdemonstrations': 21,\n",
    " ...}\n",
    "</pre>"
   ]
  },
  {
   "cell_type": "code",
   "execution_count": 11,
   "metadata": {},
   "outputs": [],
   "source": [
    "# Çözüm 1:\n",
    "\n",
    "# Minimum karakter uzunluğu bir sabit (CONSTANT) olduğu için\n",
    "# bunu bir GLOBAL DEĞİŞKEN de tutalım\n",
    "MIN_KARAKTER_UZUNLUGU = 19\n",
    "\n",
    "def kelimeler_sozlugu():\n",
    "    \n",
    "    # boş sözlük yarat\n",
    "    sozluk = dict()\n",
    "    \n",
    "    # kelimeler.txt oku\n",
    "    dosya = open('kelimeler.txt')\n",
    "    \n",
    "    # dosya üzerinde döngü ile gezelim\n",
    "    for i ,satir in enumerate(dosya):\n",
    "        \n",
    "        # satir içinde \\n, \\t gibi karakterler var\n",
    "        #if i < 20:\n",
    "        #    print(satir.split())\n",
    "        #else:\n",
    "        #    break\n",
    "        \n",
    "        satir_dizisi = satir.split()\n",
    "\n",
    "        kelime = satir_dizisi[0]\n",
    "        \n",
    "        # kelime uzunluğuna bak\n",
    "        if len(kelime) >= MIN_KARAKTER_UZUNLUGU:\n",
    "            # print(kelime)\n",
    "            \n",
    "            if not kelime in sozluk:\n",
    "                sozluk[kelime] = len(kelime)\n",
    "    \n",
    "    return sozluk\n",
    "    "
   ]
  },
  {
   "cell_type": "code",
   "execution_count": 13,
   "metadata": {},
   "outputs": [
    {
     "data": {
      "text/plain": [
       "{'anticonservationist': 19,\n",
       " 'comprehensivenesses': 19,\n",
       " 'counterdemonstration': 20,\n",
       " 'counterdemonstrations': 21,\n",
       " 'counterdemonstrator': 19,\n",
       " 'counterdemonstrators': 20,\n",
       " 'counterinflationary': 19,\n",
       " 'counterpropagations': 19,\n",
       " 'counterretaliations': 19,\n",
       " 'disinterestednesses': 19,\n",
       " 'electrocardiographs': 19,\n",
       " 'extraconstitutional': 19,\n",
       " 'hyperaggressiveness': 19,\n",
       " 'hyperaggressivenesses': 21,\n",
       " 'hypersensitivenesses': 20,\n",
       " 'inappropriatenesses': 19,\n",
       " 'inconsideratenesses': 19,\n",
       " 'interdenominational': 19,\n",
       " 'irreconcilabilities': 19,\n",
       " 'microminiaturization': 20,\n",
       " 'microminiaturizations': 21,\n",
       " 'miscellaneousnesses': 19,\n",
       " 'multidenominational': 19,\n",
       " 'representativenesses': 20}"
      ]
     },
     "execution_count": 13,
     "metadata": {},
     "output_type": "execute_result"
    }
   ],
   "source": [
    "sozluk = kelimeler_sozlugu()\n",
    "sozluk"
   ]
  },
  {
   "cell_type": "markdown",
   "metadata": {},
   "source": [
    "---"
   ]
  },
  {
   "cell_type": "markdown",
   "metadata": {},
   "source": [
    "**Soru 2:**\n",
    "\n",
    "`kelimeler.txt` dosyasını okuyan ve buradaki kelimelerden bir dictionary yaratan bir fonksiyon yazın. Fonskiyon sadece 19 karakter ve üstü olan kelimeleri alsın.\n",
    "\n",
    "Dictionary'nin key'i karakter sayısı (uzunluk) olacak, ve değeri de bu karakter sayısına sahip kelimeleri içeren bir liste (List) olacak.\n",
    "\n",
    "Fonksiyon'un adı **uzunluk_kelimeler** olsun ve yarattığı Dictionary'yi dönsün.\n",
    "\n",
    "**İpucu:**\n",
    "\n",
    "`kelimeler.txt` dosyasını okumak için `Kelimeler Uygulaması` nı tekrar gözden geçirebilirsiniz.\n",
    "\n",
    "<pre>\n",
    "Örnek Çıktı:\n",
    "{19: ['anticonservationist', 'comprehensivenesses', 'counterdemonstrator', ...], \n",
    " 20: ['counterdemonstration', 'counterdemonstrators', 'hypersensitivenesses', ...],\n",
    " 21: ['counterdemonstrations', 'hyperaggressivenesses', 'microminiaturizations']}\n",
    "</pre>"
   ]
  },
  {
   "cell_type": "code",
   "execution_count": 14,
   "metadata": {},
   "outputs": [],
   "source": [
    "# Çözüm 2:\n",
    "\n",
    "# global değişken\n",
    "MIN_KARAKTER_UZUNLUGU = 19\n",
    "\n",
    "def uzunluk_kelimeler():\n",
    "    \n",
    "    # boş sözlük yarat\n",
    "    sozluk = dict()\n",
    "    \n",
    "    # kelimeler.txt oku\n",
    "    dosya = open('kelimeler.txt')\n",
    "    \n",
    "    # dosya üzerinde döngü ile gezelim\n",
    "    for i ,satir in enumerate(dosya):\n",
    "        \n",
    "        satir_dizisi = satir.split()\n",
    "\n",
    "        kelime = satir_dizisi[0]\n",
    "        \n",
    "        uzunluk = len(kelime)\n",
    "        \n",
    "        # uzunluk kontrolü\n",
    "        if uzunluk >= MIN_KARAKTER_UZUNLUGU:\n",
    "            \n",
    "            # bu uzunluk'u sözlüğe ekle\n",
    "            if not uzunluk in sozluk:\n",
    "                sozluk[uzunluk] = [kelime]\n",
    "            else:\n",
    "                sozluk[uzunluk].append(kelime)\n",
    "                \n",
    "    return sozluk\n",
    "     "
   ]
  },
  {
   "cell_type": "code",
   "execution_count": 15,
   "metadata": {},
   "outputs": [
    {
     "data": {
      "text/plain": [
       "{19: ['anticonservationist',\n",
       "  'comprehensivenesses',\n",
       "  'counterdemonstrator',\n",
       "  'counterinflationary',\n",
       "  'counterpropagations',\n",
       "  'counterretaliations',\n",
       "  'disinterestednesses',\n",
       "  'electrocardiographs',\n",
       "  'extraconstitutional',\n",
       "  'hyperaggressiveness',\n",
       "  'inappropriatenesses',\n",
       "  'inconsideratenesses',\n",
       "  'interdenominational',\n",
       "  'irreconcilabilities',\n",
       "  'miscellaneousnesses',\n",
       "  'multidenominational'],\n",
       " 20: ['counterdemonstration',\n",
       "  'counterdemonstrators',\n",
       "  'hypersensitivenesses',\n",
       "  'microminiaturization',\n",
       "  'representativenesses'],\n",
       " 21: ['counterdemonstrations',\n",
       "  'hyperaggressivenesses',\n",
       "  'microminiaturizations']}"
      ]
     },
     "execution_count": 15,
     "metadata": {},
     "output_type": "execute_result"
    }
   ],
   "source": [
    "sozluk = uzunluk_kelimeler()\n",
    "sozluk"
   ]
  },
  {
   "cell_type": "markdown",
   "metadata": {},
   "source": [
    "---"
   ]
  },
  {
   "cell_type": "markdown",
   "metadata": {},
   "source": [
    "**Soru 3:**\n",
    "\n",
    "İsimleri **arac_yarat_1, arac_yarat_2 ,arac_yarat_3, arac_yarat_4** olan 4 fonksiyon yazın.\n",
    "\n",
    "Bu fonksiyonlar aşağıdaki gibi bir dictionary yaratsın ve dict'in adı **arac** olsun:\n",
    "<pre>\n",
    "{'marka': 'Ford',\n",
    " 'model': 'Mustang',\n",
    " 'yil': 1964,\n",
    " 'renk': 'Kırmızı',\n",
    " 'fiyat': 30000,\n",
    " 'km': 89000,\n",
    " 'motor': 1.6}\n",
    "</pre>\n",
    "\n",
    "Fonksiyonlar dictionary'yi birbirinden farklı yöntemler ile yaratsın. Fonksiyonlar arac sozlüğünü geri dönsün.\n",
    "\n",
    "**İpuçları:**\n",
    "* {}\n",
    "* dict()\n",
    "* update()"
   ]
  },
  {
   "cell_type": "code",
   "execution_count": 16,
   "metadata": {},
   "outputs": [],
   "source": [
    "# Çözüm 3:\n",
    "\n",
    "# 1. Yol\n",
    "def arac_yarat_1():\n",
    "    arac = {}\n",
    "    arac['marka'] = 'Ford'\n",
    "    arac['model'] = 'Mustang'\n",
    "    arac['yil'] = 1964\n",
    "    arac['renk'] = 'Kırmızı'\n",
    "    arac['fiyat'] = 30000\n",
    "    arac['km'] = 89000\n",
    "    arac['motor'] = 1.6\n",
    "    \n",
    "    return arac\n"
   ]
  },
  {
   "cell_type": "code",
   "execution_count": 17,
   "metadata": {},
   "outputs": [
    {
     "data": {
      "text/plain": [
       "{'marka': 'Ford',\n",
       " 'model': 'Mustang',\n",
       " 'yil': 1964,\n",
       " 'renk': 'Kırmızı',\n",
       " 'fiyat': 30000,\n",
       " 'km': 89000,\n",
       " 'motor': 1.6}"
      ]
     },
     "execution_count": 17,
     "metadata": {},
     "output_type": "execute_result"
    }
   ],
   "source": [
    "arac_yarat_1()"
   ]
  },
  {
   "cell_type": "code",
   "execution_count": 20,
   "metadata": {},
   "outputs": [],
   "source": [
    "# 2. Yol\n",
    "\n",
    "def arac_yarat_2():\n",
    "    arac = dict()\n",
    "    arac['marka'] = 'Ford'\n",
    "    arac['model'] = 'Mustang'\n",
    "    arac['yil'] = 1964\n",
    "    arac['renk'] = 'Kırmızı'\n",
    "    arac['fiyat'] = 30000\n",
    "    arac['km'] = 89000\n",
    "    arac['motor'] = 1.6\n",
    "\n",
    "    return arac"
   ]
  },
  {
   "cell_type": "code",
   "execution_count": 21,
   "metadata": {},
   "outputs": [
    {
     "data": {
      "text/plain": [
       "{'marka': 'Ford',\n",
       " 'model': 'Mustang',\n",
       " 'yil': 1964,\n",
       " 'renk': 'Kırmızı',\n",
       " 'fiyat': 30000,\n",
       " 'km': 89000,\n",
       " 'motor': 1.6}"
      ]
     },
     "execution_count": 21,
     "metadata": {},
     "output_type": "execute_result"
    }
   ],
   "source": [
    "arac_yarat_2()"
   ]
  },
  {
   "cell_type": "code",
   "execution_count": 22,
   "metadata": {},
   "outputs": [],
   "source": [
    "# 3. Yol\n",
    "\n",
    "def arac_yarat_3():\n",
    "    arac = dict()\n",
    "    arac.update(\n",
    "        {'marka': 'Ford',\n",
    "         'model': 'Mustang',\n",
    "         'yil': 1964,\n",
    "         'renk': 'Kırmızı',\n",
    "         'fiyat': 30000,\n",
    "         'km': 89000,\n",
    "         'motor': 1.6\n",
    "        }\n",
    "    )\n",
    "\n",
    "    return arac"
   ]
  },
  {
   "cell_type": "code",
   "execution_count": 23,
   "metadata": {},
   "outputs": [
    {
     "data": {
      "text/plain": [
       "{'marka': 'Ford',\n",
       " 'model': 'Mustang',\n",
       " 'yil': 1964,\n",
       " 'renk': 'Kırmızı',\n",
       " 'fiyat': 30000,\n",
       " 'km': 89000,\n",
       " 'motor': 1.6}"
      ]
     },
     "execution_count": 23,
     "metadata": {},
     "output_type": "execute_result"
    }
   ],
   "source": [
    "arac_yarat_3()"
   ]
  },
  {
   "cell_type": "code",
   "execution_count": 24,
   "metadata": {},
   "outputs": [],
   "source": [
    "# 4. Yol\n",
    "\n",
    "def arac_yarat_4():\n",
    "    arac = dict(\n",
    "        {\n",
    "             'marka': 'Ford',\n",
    "             'model': 'Mustang',\n",
    "             'yil': 1964,\n",
    "             'renk': 'Kırmızı',\n",
    "             'fiyat': 30000,\n",
    "             'km': 89000,\n",
    "             'motor': 1.6\n",
    "        }\n",
    "    )\n",
    "\n",
    "    return arac"
   ]
  },
  {
   "cell_type": "code",
   "execution_count": 25,
   "metadata": {},
   "outputs": [
    {
     "data": {
      "text/plain": [
       "{'marka': 'Ford',\n",
       " 'model': 'Mustang',\n",
       " 'yil': 1964,\n",
       " 'renk': 'Kırmızı',\n",
       " 'fiyat': 30000,\n",
       " 'km': 89000,\n",
       " 'motor': 1.6}"
      ]
     },
     "execution_count": 25,
     "metadata": {},
     "output_type": "execute_result"
    }
   ],
   "source": [
    "arac_yarat_4()"
   ]
  },
  {
   "cell_type": "markdown",
   "metadata": {},
   "source": [
    "---"
   ]
  },
  {
   "cell_type": "markdown",
   "metadata": {},
   "source": [
    "**Soru 4:**\n",
    "\n",
    "Adı **yeni_arac_yarat** bir fonksiyon yazın. Bu fonksiyon Soru 3'teki fonksiyonlardan birini çağırsın ve **arac** sözlüğünü alsın.\n",
    "\n",
    "Sonra **arac** sozlüğünün elemanlarını bir döngü ve `update()` kullanarak başka bir sözlüğe kopyalayasın.\n",
    "\n",
    "Kopyalarken, hem orijinal elemanı alsın hem de her bir key'in sonuna \"_2\" eki ekleyerek yeni bir eleman olarak eklesin.\n",
    "\n",
    "Yeni sözlüğümüzün adı **yeni_arac** olsun. Ve fonksiyon bu sözlüğü dönsün.\n",
    "\n",
    "**İpuçları:**\n",
    "* copy()\n",
    "* update()\n",
    "* items()\n",
    "\n",
    "Örnek Çıktı:\n",
    "<pre>\n",
    "{'marka': 'Ford',\n",
    " 'model': 'Mustang',\n",
    " 'yil': 1964,\n",
    " 'renk': 'Kırmızı',\n",
    " 'fiyat': 30000,\n",
    " 'km': 89000,\n",
    " 'motor': 1.6,\n",
    " 'marka_2': 'Ford',\n",
    " 'model_2': 'Mustang',\n",
    " 'yil_2': 1964,\n",
    " 'renk_2': 'Kırmızı',\n",
    " 'fiyat_2': 30000,\n",
    " 'km_2': 89000,\n",
    " 'motor_2': 1.6}\n",
    "</pre>"
   ]
  },
  {
   "cell_type": "code",
   "execution_count": 31,
   "metadata": {},
   "outputs": [],
   "source": [
    "# Çözüm 4:\n",
    "\n",
    "def yeni_arac_yarat():\n",
    "    \n",
    "    # önce arac al\n",
    "    arac = arac_yarat_4()\n",
    "    \n",
    "    # önce direk olarak arac sözlüğünü kopyala\n",
    "    yeni_arac = arac.copy()\n",
    "    \n",
    "    # şimdi arac sözlüğünün elemanlarında dön\n",
    "    for item in arac.items():\n",
    "        \n",
    "        # print(item)\n",
    "        key = item[0]\n",
    "        value = item[1]\n",
    "        \n",
    "        key += \"_2\"\n",
    "        \n",
    "        yeni_arac[key] = value\n",
    "        \n",
    "    return yeni_arac\n"
   ]
  },
  {
   "cell_type": "code",
   "execution_count": 32,
   "metadata": {},
   "outputs": [
    {
     "data": {
      "text/plain": [
       "{'marka': 'Ford',\n",
       " 'model': 'Mustang',\n",
       " 'yil': 1964,\n",
       " 'renk': 'Kırmızı',\n",
       " 'fiyat': 30000,\n",
       " 'km': 89000,\n",
       " 'motor': 1.6,\n",
       " 'marka_2': 'Ford',\n",
       " 'model_2': 'Mustang',\n",
       " 'yil_2': 1964,\n",
       " 'renk_2': 'Kırmızı',\n",
       " 'fiyat_2': 30000,\n",
       " 'km_2': 89000,\n",
       " 'motor_2': 1.6}"
      ]
     },
     "execution_count": 32,
     "metadata": {},
     "output_type": "execute_result"
    }
   ],
   "source": [
    "yeni_arac_yarat()"
   ]
  },
  {
   "cell_type": "markdown",
   "metadata": {},
   "source": [
    "---"
   ]
  },
  {
   "cell_type": "markdown",
   "metadata": {},
   "source": [
    "**Soru 5:**\n",
    "\n",
    "Aşağıdaki Dictionary'leri birleştirip ortaya yeni bir dictionary çıkaran ve bunu geri dönen bir fonksiyon yazın.\n",
    "\n",
    "Fonksiyon bu 3 dictionary'yi parametre olacak alacak ve adı **sozluk_birlestir** olacak.\n",
    "\n",
    "**İpuçları**\n",
    "* tek bir for döngüsü kullanın\n",
    "* update()\n",
    "\n",
    "<pre>\n",
    "Birleşek sözlükler:\n",
    "d1={4:120, 7:60}\n",
    "d2={'A': 300, 'B':400}\n",
    "d3={True: 'Doğru', False: 'Yanlış'}\n",
    "\n",
    "Olası Sonuç:\n",
    "{4: 120, 7: 60, 'A': 300, 'B': 400, True: 'Doğru', False: 'Yanlış'}\n",
    "</pre>"
   ]
  },
  {
   "cell_type": "code",
   "execution_count": 33,
   "metadata": {},
   "outputs": [],
   "source": [
    "# Çözüm 5:\n",
    "\n",
    "def sozluk_birlestir(d1, d2, d3):\n",
    "    \n",
    "    sozluk = {}\n",
    "    \n",
    "    # Python'da birden fazla sözlük üzerinde tek seferde dönebiliriz\n",
    "    # önce birini bitirip, sonra diğerine geçer\n",
    "    \n",
    "    for e in (d1, d2, d3):\n",
    "        sozluk.update(e)\n",
    "        \n",
    "    return sozluk\n",
    "    "
   ]
  },
  {
   "cell_type": "code",
   "execution_count": 34,
   "metadata": {},
   "outputs": [
    {
     "data": {
      "text/plain": [
       "{4: 120, 7: 60, 'A': 'AAA', 'B': 'BBB', True: 'Doğru', False: 'Yanlış'}"
      ]
     },
     "execution_count": 34,
     "metadata": {},
     "output_type": "execute_result"
    }
   ],
   "source": [
    "d1={4:120, 7:60}\n",
    "d2={'A': 'AAA', 'B':'BBB'}\n",
    "d3={True: 'Doğru', False: 'Yanlış'}\n",
    "\n",
    "d = sozluk_birlestir(d1, d2, d3)\n",
    "\n",
    "d"
   ]
  },
  {
   "cell_type": "markdown",
   "metadata": {},
   "source": [
    "---"
   ]
  },
  {
   "cell_type": "markdown",
   "metadata": {},
   "source": [
    "**Soru 6:**\n",
    "\n",
    "Verilen iki sözlüğü içinde key'leri aynı olan elemanların değerlerini toplayan bir fonksiyon yazın. \n",
    "\n",
    "Eğer key ikisinde ortak değilse almasın, sadece ortak key'leri alsın.\n",
    "\n",
    "Fonksiyonun adı **ayni_key_toplamlari** olsun.\n",
    "\n",
    "**İpuçları**\n",
    "* Parametrelerin ikisinin de sözlük olmasını kontrol edin\n",
    "    * değilse hata fırlatın -> 'Parametrelerin ikisi de sözlük olmalı'\n",
    "    * kontrol için -> 'type' yerine bu sefer 'isinstance' kullanın\n",
    "    * isinstance(<değişken>, <tip>)\n",
    "* Sözlüklerin uzunluklarının aynı olmasını kontrol edin\n",
    "    * değilse hata fırlatın -> 'Sözlüklerin uzunluğu aynı olmalı'\n",
    "\n",
    "<pre>\n",
    "Parametre sözlükler:\n",
    "d1 = {'a': 10, 'b': 30, 'c':50}\n",
    "d2 = {'a': 40, 'b': 60, 'd':90}\n",
    "\n",
    "Sonuç:\n",
    "{'a': 50, 'b': 90}\n",
    "</pre>"
   ]
  },
  {
   "cell_type": "code",
   "execution_count": 35,
   "metadata": {},
   "outputs": [],
   "source": [
    "# Çözüm 6:\n",
    "\n",
    "def ayni_key_toplamlari(d1, d2):\n",
    "    \n",
    "    # kontrol 1 -> ikisi de sözlük mü\n",
    "    if not isinstance(d1, dict) or not isinstance(d2, dict):\n",
    "        raise Exception('Parametrelerin ikisi de sözlük olmalı')\n",
    "    \n",
    "    # kontrol 2 -> uzunlukları aynı mı\n",
    "    if len(d1) != len(d2):\n",
    "        raise Exception('Sözlüklerin uzunluğu aynı olmalı')\n",
    "    \n",
    "    # boş sözlük\n",
    "    sozluk = {}\n",
    "    \n",
    "    for key in d1:\n",
    "        \n",
    "        if key in d2:\n",
    "            \n",
    "            sozluk[key] = d1[key] + d2[key]\n",
    "    \n",
    "    return sozluk\n"
   ]
  },
  {
   "cell_type": "code",
   "execution_count": 38,
   "metadata": {},
   "outputs": [
    {
     "data": {
      "text/plain": [
       "{'a': 50, 'b': 90, 'd': 190}"
      ]
     },
     "execution_count": 38,
     "metadata": {},
     "output_type": "execute_result"
    }
   ],
   "source": [
    "d1 = {'a': 10, 'b': 30, 'c':50, 'd': 100}\n",
    "d2 = {'a': 40, 'b': 60, 'd':90, 'e': 50}\n",
    "ayni_key_toplamlari(d1, d2)"
   ]
  },
  {
   "cell_type": "markdown",
   "metadata": {},
   "source": [
    "---"
   ]
  },
  {
   "cell_type": "markdown",
   "metadata": {},
   "source": [
    "**Soru 7:**\n",
    "\n",
    "Soru 6.'teki fonksiyonu biraz daha geliştirelim.\n",
    "\n",
    "Fonskiyonunuz aynı şekilde;\n",
    "\n",
    "Verilen iki sözlüğü içinde key'leri aynı olan elemanların değerlerini toplasın.\n",
    "\n",
    "Eğer key ikisinde ortak değilse hangisinde varsa onu alsın.\n",
    "\n",
    "Yani ortak elemanları toplam değer olarak, ayrık elemanları kendi değerleri ilde dönsün.\n",
    "\n",
    "Fonksiyonun adı **ayni_key_toplamlari_farkli_key_kendileri** olsun.\n",
    "\n",
    "**İpuçları**\n",
    "* Parametrelerin ikisinin de sözlük olmasını kontrol edin\n",
    "    * değilse hata fırlatın -> 'Parametrelerin ikisi de sözlük olmalı'\n",
    "    * kontrol için -> 'type' yerine bu sefer 'isinstance' kullanın\n",
    "    * isinstance(<değişken>, <tip>)\n",
    "* Sözlüklerin uzunluklarının aynı olmasını kontrol edin\n",
    "    * değilse hata fırlatın -> 'Sözlüklerin uzunluğu aynı olmalı'\n",
    "\n",
    "<pre>\n",
    "Parametre sözlükler:\n",
    "d1 = {'a': 10, 'b': 30, 'c':50}\n",
    "d2 = {'a': 40, 'b': 60, 'd':90}\n",
    "\n",
    "Sonuç:\n",
    "{'a': 50, 'b': 90, 'c': 50, 'd': 90}\n",
    "</pre>"
   ]
  },
  {
   "cell_type": "code",
   "execution_count": 39,
   "metadata": {},
   "outputs": [],
   "source": [
    "# Çözüm 7:\n",
    "\n",
    "def ayni_key_toplamlari_farkli_key_kendileri(d1, d2):\n",
    "    \n",
    "    # kontrol 1 -> ikisi de sözlük mü\n",
    "    if not isinstance(d1, dict) or not isinstance(d2, dict):\n",
    "        raise Exception('Parametrelerin ikisi de sözlük olmalı')\n",
    "    \n",
    "    # kontrol 2 -> uzunlukları aynı mı\n",
    "    if len(d1) != len(d2):\n",
    "        raise Exception('Sözlüklerin uzunluğu aynı olmalı')\n",
    "    \n",
    "    # boş sözlük\n",
    "    sozluk = {}\n",
    "    \n",
    "    for key in d1:        \n",
    "        if key in d2:            \n",
    "            sozluk[key] = d1[key] + d2[key]\n",
    "        else:\n",
    "            sozluk[key] = d1[key]\n",
    "    \n",
    "    for key in d2:\n",
    "        if not key in d1:\n",
    "            sozluk[key] = d2[key]\n",
    "\n",
    "    return sozluk\n"
   ]
  },
  {
   "cell_type": "code",
   "execution_count": 40,
   "metadata": {},
   "outputs": [
    {
     "data": {
      "text/plain": [
       "{'a': 50, 'b': 90, 'c': 50, 'd': 90}"
      ]
     },
     "execution_count": 40,
     "metadata": {},
     "output_type": "execute_result"
    }
   ],
   "source": [
    "d1 = {'a': 10, 'b': 30, 'c':50}\n",
    "d2 = {'a': 40, 'b': 60, 'd':90}\n",
    "ayni_key_toplamlari_farkli_key_kendileri(d1, d2)"
   ]
  },
  {
   "cell_type": "markdown",
   "metadata": {},
   "source": [
    "---"
   ]
  },
  {
   "cell_type": "markdown",
   "metadata": {},
   "source": [
    "**Soru 8:**\n",
    "\n",
    "Verilen bir dictionary içindeki tek index'li elemanları silip geriye sadece çift index'li elemanların olduğu yeni bir dictionary dönen bir fonksiyon yazın.\n",
    "\n",
    "Fonksiyonun adı **tekleri_sil** olsun.\n",
    "\n",
    "**İpuçları:**\n",
    "* Parametre olarak gelen orijinal dictionary'ye dokunmayın.\n",
    "* döngü için `items()`\n",
    "* index için `enumerate()`\n",
    "    \n",
    "<pre>\n",
    "Parametre sözlük:\n",
    "sozluk = {'a': 'A', 'b': 'B', 'c': 'C', 'd': 'D', 'e': 'E', 'f': 'F'}\n",
    "\n",
    "Sonuç:\n",
    " {'a': 'A', 'c': 'C', 'e': 'E'}\n",
    "</pre>"
   ]
  },
  {
   "cell_type": "code",
   "execution_count": 42,
   "metadata": {},
   "outputs": [],
   "source": [
    "# Çözüm 8:\n",
    "\n",
    "# 1. Yol\n",
    "def tekleri_sil(sozluk):\n",
    "    \n",
    "    d = {}\n",
    "    \n",
    "    for index, item in enumerate(sozluk.items()):\n",
    "        \n",
    "        key = item[0]\n",
    "        value = item[1]\n",
    "        \n",
    "        if index % 2 == 0:\n",
    "            d[key] = value\n",
    "            \n",
    "    return d\n"
   ]
  },
  {
   "cell_type": "code",
   "execution_count": 43,
   "metadata": {},
   "outputs": [
    {
     "data": {
      "text/plain": [
       "{'a': 'A', 'c': 'C', 'e': 'E'}"
      ]
     },
     "execution_count": 43,
     "metadata": {},
     "output_type": "execute_result"
    }
   ],
   "source": [
    "sozluk = {'a': 'A', 'b': 'B', 'c': 'C', 'd': 'D', 'e': 'E', 'f': 'F'}\n",
    "\n",
    "ciftler = tekleri_sil(sozluk)\n",
    "\n",
    "ciftler"
   ]
  },
  {
   "cell_type": "code",
   "execution_count": 48,
   "metadata": {},
   "outputs": [],
   "source": [
    "# 2. Yol\n",
    "\n",
    "def tekleri_sil(sozluk):\n",
    "    \n",
    "    d = {}\n",
    "    \n",
    "    for index, item in enumerate(sozluk.items()):        \n",
    "        if index % 2 == 0:\n",
    "            d.update({item})\n",
    "            # print(item)\n",
    "            \n",
    "    return d\n"
   ]
  },
  {
   "cell_type": "code",
   "execution_count": 47,
   "metadata": {},
   "outputs": [
    {
     "ename": "ValueError",
     "evalue": "dictionary update sequence element #0 has length 1; 2 is required",
     "output_type": "error",
     "traceback": [
      "\u001b[1;31m---------------------------------------------------------------------------\u001b[0m",
      "\u001b[1;31mValueError\u001b[0m                                Traceback (most recent call last)",
      "\u001b[1;32m<ipython-input-47-aa67bf20653f>\u001b[0m in \u001b[0;36m<module>\u001b[1;34m\u001b[0m\n\u001b[0;32m      1\u001b[0m \u001b[0msozluk\u001b[0m \u001b[1;33m=\u001b[0m \u001b[1;33m{\u001b[0m\u001b[1;34m'a'\u001b[0m\u001b[1;33m:\u001b[0m \u001b[1;34m'A'\u001b[0m\u001b[1;33m,\u001b[0m \u001b[1;34m'b'\u001b[0m\u001b[1;33m:\u001b[0m \u001b[1;34m'B'\u001b[0m\u001b[1;33m,\u001b[0m \u001b[1;34m'c'\u001b[0m\u001b[1;33m:\u001b[0m \u001b[1;34m'C'\u001b[0m\u001b[1;33m,\u001b[0m \u001b[1;34m'd'\u001b[0m\u001b[1;33m:\u001b[0m \u001b[1;34m'D'\u001b[0m\u001b[1;33m,\u001b[0m \u001b[1;34m'e'\u001b[0m\u001b[1;33m:\u001b[0m \u001b[1;34m'E'\u001b[0m\u001b[1;33m,\u001b[0m \u001b[1;34m'f'\u001b[0m\u001b[1;33m:\u001b[0m \u001b[1;34m'F'\u001b[0m\u001b[1;33m}\u001b[0m\u001b[1;33m\u001b[0m\u001b[1;33m\u001b[0m\u001b[0m\n\u001b[0;32m      2\u001b[0m \u001b[1;33m\u001b[0m\u001b[0m\n\u001b[1;32m----> 3\u001b[1;33m \u001b[0mciftler\u001b[0m \u001b[1;33m=\u001b[0m \u001b[0mtekleri_sil\u001b[0m\u001b[1;33m(\u001b[0m\u001b[0msozluk\u001b[0m\u001b[1;33m)\u001b[0m\u001b[1;33m\u001b[0m\u001b[1;33m\u001b[0m\u001b[0m\n\u001b[0m",
      "\u001b[1;32m<ipython-input-46-52b7c333e151>\u001b[0m in \u001b[0;36mtekleri_sil\u001b[1;34m(sozluk)\u001b[0m\n\u001b[0;32m      7\u001b[0m     \u001b[1;32mfor\u001b[0m \u001b[0mindex\u001b[0m\u001b[1;33m,\u001b[0m \u001b[0mitem\u001b[0m \u001b[1;32min\u001b[0m \u001b[0menumerate\u001b[0m\u001b[1;33m(\u001b[0m\u001b[0msozluk\u001b[0m\u001b[1;33m.\u001b[0m\u001b[0mitems\u001b[0m\u001b[1;33m(\u001b[0m\u001b[1;33m)\u001b[0m\u001b[1;33m)\u001b[0m\u001b[1;33m:\u001b[0m\u001b[1;33m\u001b[0m\u001b[1;33m\u001b[0m\u001b[0m\n\u001b[0;32m      8\u001b[0m         \u001b[1;32mif\u001b[0m \u001b[0mindex\u001b[0m \u001b[1;33m%\u001b[0m \u001b[1;36m2\u001b[0m \u001b[1;33m==\u001b[0m \u001b[1;36m0\u001b[0m\u001b[1;33m:\u001b[0m\u001b[1;33m\u001b[0m\u001b[1;33m\u001b[0m\u001b[0m\n\u001b[1;32m----> 9\u001b[1;33m             \u001b[0md\u001b[0m\u001b[1;33m.\u001b[0m\u001b[0mupdate\u001b[0m\u001b[1;33m(\u001b[0m\u001b[0mitem\u001b[0m\u001b[1;33m)\u001b[0m\u001b[1;33m\u001b[0m\u001b[1;33m\u001b[0m\u001b[0m\n\u001b[0m\u001b[0;32m     10\u001b[0m             \u001b[1;31m# print(item)\u001b[0m\u001b[1;33m\u001b[0m\u001b[1;33m\u001b[0m\u001b[1;33m\u001b[0m\u001b[0m\n\u001b[0;32m     11\u001b[0m \u001b[1;33m\u001b[0m\u001b[0m\n",
      "\u001b[1;31mValueError\u001b[0m: dictionary update sequence element #0 has length 1; 2 is required"
     ]
    }
   ],
   "source": [
    "sozluk = {'a': 'A', 'b': 'B', 'c': 'C', 'd': 'D', 'e': 'E', 'f': 'F'}\n",
    "\n",
    "ciftler = tekleri_sil(sozluk)"
   ]
  },
  {
   "cell_type": "code",
   "execution_count": 49,
   "metadata": {},
   "outputs": [
    {
     "data": {
      "text/plain": [
       "{'a': 'A', 'c': 'C', 'e': 'E'}"
      ]
     },
     "execution_count": 49,
     "metadata": {},
     "output_type": "execute_result"
    }
   ],
   "source": [
    "sozluk = {'a': 'A', 'b': 'B', 'c': 'C', 'd': 'D', 'e': 'E', 'f': 'F'}\n",
    "\n",
    "ciftler = tekleri_sil(sozluk)\n",
    "\n",
    "ciftler"
   ]
  },
  {
   "cell_type": "markdown",
   "metadata": {},
   "source": [
    "---"
   ]
  },
  {
   "cell_type": "markdown",
   "metadata": {},
   "source": [
    "**Soru 9:**\n",
    "\n",
    "Parametre olarak iki liste alan bir fonksiyon yazın. Fonksiyonunuzun adı **listeleri_sozluk_yap** olsun.\n",
    "\n",
    "Fonksiyon ilk listedeki elemanları key, ikinci listedeki elemanları value yaparak ikisinden bir dictionary üretsin.\n",
    "\n",
    "**İpucu:**\n",
    "* enumerate()\n",
    "\n",
    "<pre>\n",
    "Parametreler:\n",
    "l_1 = ['ad', 'soyad', 'yas', 'cinsiyet']\n",
    "l_2 = ['John', 'Doe', 100, 'Erkek']\n",
    "\n",
    "Sonuc:\n",
    "{'ad': 'John', 'soyad': 'Doe', 'yas': 100, 'cinsiyet': 'Erkek'}\n",
    "</pre>"
   ]
  },
  {
   "cell_type": "code",
   "execution_count": 50,
   "metadata": {},
   "outputs": [],
   "source": [
    "# Çözüm 9:\n",
    "\n",
    "def listeleri_sozluk_yap(list1, list2):\n",
    "    \n",
    "    sozluk = {}\n",
    "    \n",
    "    for index, eleman1 in enumerate(list1):\n",
    "        \n",
    "        sozluk[eleman1] = list2[index]\n",
    "        \n",
    "    return sozluk\n",
    "    "
   ]
  },
  {
   "cell_type": "code",
   "execution_count": 51,
   "metadata": {},
   "outputs": [
    {
     "name": "stdout",
     "output_type": "stream",
     "text": [
      "{'ad': 'John', 'soyad': 'Doe', 'yas': 100, 'cinsiyet': 'Erkek'}\n"
     ]
    }
   ],
   "source": [
    "l_1 = ['ad', 'soyad', 'yas', 'cinsiyet']\n",
    "l_2 = ['John', 'Doe', 100, 'Erkek']\n",
    "\n",
    "calisan = listeleri_sozluk_yap(l_1, l_2)\n",
    "\n",
    "print(calisan)"
   ]
  },
  {
   "cell_type": "markdown",
   "metadata": {},
   "source": [
    "---"
   ]
  },
  {
   "cell_type": "markdown",
   "metadata": {},
   "source": [
    "**Soru 10:**\n",
    "\n",
    "Key'leri harf ve sayı olarak karışık olan bir sözlük düşününün.\n",
    "\n",
    "Örneğin: {'a': 'A', 'b': 'B', 2: 200, 'd': 'D', 5: 300, 'f': 'F', 1: 50}\n",
    "\n",
    "Yazacağınız fonksiyon, sadece harf olan key'leri bıraksın, diğerlerini silsin. Yani sadece alfanumerik (alphanumeric) olan key'li elemanları bıraksın.\n",
    "\n",
    "Fonksiyonun adı **alfanumerik** olsun.\n",
    "\n",
    "**İpuçları:**\n",
    "* Parametre olarak gelen orijinal dictionary'yi değiştirin (yerinde : inplace)\n",
    "* iki döngü olsun\n",
    "* döngüler için `keys()`\n",
    "* silme için `pop()`\n",
    "* alfanumerik mi diye bakmak için `str.isalpha()`\n",
    "    * dikkat `isalpha()` bir string (str) fonksiyonudur.\n",
    "    \n",
    "<pre>\n",
    "Parametre sözlük:\n",
    "sozluk = {'a': 'A', 'b': 'B', 2: 200, 'd': 'D', 5: 300, 'f': 'F', 1: 50}\n",
    "\n",
    "Sonuç:\n",
    "sozluk = {'a': 'A', 'b': 'B', 'd': 'D', 'f': 'F'}\n",
    "</pre>"
   ]
  },
  {
   "cell_type": "code",
   "execution_count": 52,
   "metadata": {},
   "outputs": [],
   "source": [
    "# Çözüm 10:\n",
    "\n",
    "def alfanumerik(sozluk):\n",
    "    \n",
    "    # silinecek keyleri tutacak liste\n",
    "    silinecek_keyler = []\n",
    "    \n",
    "    # önce silinecek keyleri al\n",
    "    for key in sozluk.keys():\n",
    "        \n",
    "        if not str(key).isalpha():\n",
    "            silinecek_keyler.append(key)\n",
    "    \n",
    "    # silinecek key'ler üzerinde dön -> dict'ten sil\n",
    "    for key in silinecek_keyler:\n",
    "        if key in sozluk.keys():\n",
    "            sozluk.pop(key)\n",
    "    "
   ]
  },
  {
   "cell_type": "code",
   "execution_count": 53,
   "metadata": {},
   "outputs": [
    {
     "name": "stdout",
     "output_type": "stream",
     "text": [
      "alfanumerik'i çağırmadan önce sözlük: {'a': 'A', 'b': 'B', 2: 200, 'd': 'D', 5: 300, 'f': 'F', 1: 50}\n",
      "alfanumerik'i çağırdıktan sonra sözlük: {'a': 'A', 'b': 'B', 'd': 'D', 'f': 'F'}\n"
     ]
    }
   ],
   "source": [
    "sozluk = {'a': 'A', 'b': 'B', 2: 200, 'd': 'D', 5: 300, 'f': 'F', 1: 50}\n",
    "print(\"alfanumerik'i çağırmadan önce sözlük:\", sozluk)\n",
    "\n",
    "alfanumerik(sozluk)\n",
    "\n",
    "print(\"alfanumerik'i çağırdıktan sonra sözlük:\", sozluk)"
   ]
  },
  {
   "cell_type": "code",
   "execution_count": null,
   "metadata": {},
   "outputs": [],
   "source": []
  }
 ],
 "metadata": {
  "kernelspec": {
   "display_name": "Python 3",
   "language": "python",
   "name": "python3"
  },
  "language_info": {
   "codemirror_mode": {
    "name": "ipython",
    "version": 3
   },
   "file_extension": ".py",
   "mimetype": "text/x-python",
   "name": "python",
   "nbconvert_exporter": "python",
   "pygments_lexer": "ipython3",
   "version": "3.8.5"
  }
 },
 "nbformat": 4,
 "nbformat_minor": 4
}
