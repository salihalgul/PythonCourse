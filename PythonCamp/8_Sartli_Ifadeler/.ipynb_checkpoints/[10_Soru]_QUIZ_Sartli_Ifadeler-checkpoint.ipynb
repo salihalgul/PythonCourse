{
 "cells": [
  {
   "cell_type": "markdown",
   "id": "thirty-marker",
   "metadata": {},
   "source": [
    "## [10 Soru] QUIZ - Şartlı İfadeler"
   ]
  },
  {
   "cell_type": "markdown",
   "id": "ancient-section",
   "metadata": {},
   "source": [
    "**Soru 1:**\n",
    "\n",
    "Kullanıcı tarafından girilen bir saynının tek mi çift mi olduğunu bulun."
   ]
  },
  {
   "cell_type": "code",
   "execution_count": 2,
   "id": "egyptian-proxy",
   "metadata": {},
   "outputs": [
    {
     "name": "stdin",
     "output_type": "stream",
     "text": [
      "Lütfen bir sayı giriniz :  9\n"
     ]
    },
    {
     "name": "stdout",
     "output_type": "stream",
     "text": [
      "9 TEK\n"
     ]
    }
   ],
   "source": [
    "# Çözüm 1:\n",
    "\n",
    "\n",
    "sayi = int(input(\"Lütfen bir sayı giriniz : \"))\n",
    "    \n",
    "      \n",
    "if sayi % 2 == 1:\n",
    "    print(sayi, \"TEK\")\n",
    "else:\n",
    "    print(sayi, \"ÇİFT\")\n",
    "\n",
    "\n",
    "            \n",
    "            "
   ]
  },
  {
   "cell_type": "markdown",
   "id": "elect-personal",
   "metadata": {},
   "source": [
    "---"
   ]
  },
  {
   "cell_type": "markdown",
   "id": "tribal-swift",
   "metadata": {},
   "source": [
    "**Soru 2:**\n",
    "\n",
    "Kullanıcı tarafından girilen bir harfin sesli mi yoksa sessiz mi olduğunu bulalım."
   ]
  },
  {
   "cell_type": "code",
   "execution_count": 12,
   "id": "dominant-viewer",
   "metadata": {},
   "outputs": [
    {
     "name": "stdin",
     "output_type": "stream",
     "text": [
      "Lütfen bir harf giriniz :  b\n"
     ]
    },
    {
     "name": "stdout",
     "output_type": "stream",
     "text": [
      "SESSİZ HARF  b\n"
     ]
    }
   ],
   "source": [
    "# Çözüm 2:\n",
    "\n",
    "\n",
    "def harf_gir():\n",
    "    harf = input(\"Lütfen bir harf giriniz : \")\n",
    "    \n",
    "    \n",
    "    if harf == \"a\" or harf == \"e\" or harf == \"ı\" or harf == \"i\" or harf == \"o\" or harf == \"ö\" or harf == \"u\" or harf == \"ü\":\n",
    "        print(\"SESLİ HARF \", harf)\n",
    "    else:\n",
    "        print(\"SESSİZ HARF \", harf)\n",
    "        \n",
    "harf_gir()\n",
    "    "
   ]
  },
  {
   "cell_type": "markdown",
   "id": "herbal-cloud",
   "metadata": {},
   "source": [
    "---"
   ]
  },
  {
   "cell_type": "markdown",
   "id": "traditional-objective",
   "metadata": {},
   "source": [
    "**Soru 3:**\n",
    "\n",
    "Kullanıcı tarafından girilen kenar sayısına göre hangi şekil oldunu dönen bir fonksiyon yazın."
   ]
  },
  {
   "cell_type": "code",
   "execution_count": 25,
   "id": "color-toner",
   "metadata": {},
   "outputs": [
    {
     "name": "stdin",
     "output_type": "stream",
     "text": [
      "Lütfen Kenar Sayısını girin:  6\n"
     ]
    },
    {
     "name": "stdout",
     "output_type": "stream",
     "text": [
      "ALTIGEN\n"
     ]
    }
   ],
   "source": [
    "# Çözüm 3:\n",
    "def hangi_sekil():\n",
    "    \n",
    "    kenar_sayisi = int(input(\"Lütfen Kenar Sayısını girin: \"))\n",
    "       \n",
    "    \n",
    "    sekil_adi = \"\"\n",
    "    \n",
    "    if kenar_sayisi == 3:\n",
    "        sekil_adi = \"ÜÇGEN\"\n",
    "    elif kenar_sayisi == 4:\n",
    "        sekil_adi = \"DÖRTGEN\"\n",
    "    elif kenar_sayisi == 5:\n",
    "        sekil_adi = \"BEŞGEN\"\n",
    "    elif kenar_sayisi == 6:\n",
    "        sekil_adi = \"ALTIGEN\"\n",
    "    elif kenar_sayisi < 3:\n",
    "        print(\"Kenar sayısını 3'ten küçük girmeniz çok anlamsız. Tekrar deneyiniz.\")\n",
    "    else:\n",
    "        sekil_adi = \"ÇOKGEN\"\n",
    "        \n",
    "    return sekil_adi\n",
    "\n",
    "sekil_adi = hangi_sekil()    \n",
    "\n",
    "print(sekil_adi)\n",
    "       "
   ]
  },
  {
   "cell_type": "code",
   "execution_count": 26,
   "id": "overall-blame",
   "metadata": {},
   "outputs": [
    {
     "name": "stdout",
     "output_type": "stream",
     "text": [
      "ALTIGEN\n"
     ]
    }
   ],
   "source": [
    "\n"
   ]
  },
  {
   "cell_type": "markdown",
   "id": "manual-perth",
   "metadata": {},
   "source": [
    "---"
   ]
  },
  {
   "cell_type": "markdown",
   "id": "appropriate-simon",
   "metadata": {},
   "source": [
    "**Soru 4:**\n",
    "\n",
    "Bir aydaki gün sayısını ekrana yazdırın. Ay'ın adını kullanıcı belirleyecek."
   ]
  },
  {
   "cell_type": "code",
   "execution_count": 32,
   "id": "confused-entertainment",
   "metadata": {},
   "outputs": [
    {
     "name": "stdin",
     "output_type": "stream",
     "text": [
      "Lütfen ay adını giriniz:  ocak\n"
     ]
    },
    {
     "data": {
      "text/plain": [
       "'ocak ayı içerisinde 31 gün vardır.'"
      ]
     },
     "execution_count": 32,
     "metadata": {},
     "output_type": "execute_result"
    }
   ],
   "source": [
    "# Çözüm 4:\n",
    "def ay_icindeki_gun_sayisi():\n",
    "    ay = input(\"Lütfen ay adını giriniz: \")\n",
    "    \n",
    "    if ay == \"Nisan\" or ay == \"Temmuz\" or \\\n",
    "        ay == \"Eylül\" or ay == \"Kasım\":\n",
    "        gun = 30\n",
    "    \n",
    "    elif ay == \"Şubat\":\n",
    "        gun = \"28 veya 29\"\n",
    "        \n",
    "    else:\n",
    "        gun = 31\n",
    "        \n",
    "    return str(ay) + \" ayı içerisinde \" + str(gun) + \" gün vardır.\"\n",
    "\n",
    "ay_icindeki_gun_sayisi()\n"
   ]
  },
  {
   "cell_type": "code",
   "execution_count": 16,
   "id": "banner-enlargement",
   "metadata": {},
   "outputs": [
    {
     "name": "stdin",
     "output_type": "stream",
     "text": [
      "Lütfen ay adı giriniz:  Ağustos\n"
     ]
    },
    {
     "data": {
      "text/plain": [
       "'Ağustos ayı içinde 31 gün vardır.'"
      ]
     },
     "execution_count": 16,
     "metadata": {},
     "output_type": "execute_result"
    }
   ],
   "source": [
    "ay_icindeki_gun_sayisi()"
   ]
  },
  {
   "cell_type": "markdown",
   "id": "temporal-vacuum",
   "metadata": {},
   "source": [
    "---"
   ]
  },
  {
   "cell_type": "markdown",
   "id": "dying-hydrogen",
   "metadata": {},
   "source": [
    "**Soru 5:**\n",
    "\n",
    "Kenar uzunlukları verilen bir üçgenin adını ekrana yazan bir fonksiyon oluşturalım."
   ]
  },
  {
   "cell_type": "code",
   "execution_count": 1,
   "id": "italian-money",
   "metadata": {},
   "outputs": [
    {
     "name": "stdin",
     "output_type": "stream",
     "text": [
      "Lütfen üçgenin a kenarının uzunluğunu giriniz:  30\n",
      "Lütfen üçgenin b kenarının uzunluğunu giriniz:  30\n",
      "Lütfen üçgenin c kenarının uzunluğunu giriniz:  40\n"
     ]
    },
    {
     "name": "stdout",
     "output_type": "stream",
     "text": [
      "İKİZKENAR ÜÇGEN\n"
     ]
    }
   ],
   "source": [
    "# Çözüm 5:\n",
    "\n",
    "def ucgen_adi():\n",
    "    \n",
    "    a = float(input(\"Lütfen üçgenin a kenarının uzunluğunu giriniz: \"))\n",
    "    b = float(input(\"Lütfen üçgenin b kenarının uzunluğunu giriniz: \"))\n",
    "    c = float(input(\"Lütfen üçgenin c kenarının uzunluğunu giriniz: \"))\n",
    "    \n",
    "    sekil_adi = \"\"\n",
    "    \n",
    "    if a == b or b == c or a == c:\n",
    "        sekil_adi = \"İKİZKENAR ÜÇGEN\"\n",
    "        \n",
    "    elif a == b and b == c:\n",
    "        sekil_adi = \"EŞKENAR ÜÇGEN\"\n",
    "        \n",
    "    else:\n",
    "        sekil_adi = \"ÇEŞİTKENAR ÜÇGEN\"\n",
    "    \n",
    "       \n",
    "    return sekil_adi\n",
    "\n",
    "\n",
    "print(ucgen_adi())"
   ]
  },
  {
   "cell_type": "code",
   "execution_count": 20,
   "id": "fancy-jaguar",
   "metadata": {},
   "outputs": [
    {
     "name": "stdin",
     "output_type": "stream",
     "text": [
      "Birinci kenar uzunluğunu giriniz: 40\n",
      "İkinci kenar uzunluğunu giriniz: 40\n",
      "Üçüncü kenar uzunluğunu giriniz: 40\n"
     ]
    },
    {
     "name": "stdout",
     "output_type": "stream",
     "text": [
      "Eşkenar Üçgen\n"
     ]
    }
   ],
   "source": []
  },
  {
   "cell_type": "markdown",
   "id": "cathedral-input",
   "metadata": {},
   "source": [
    "---"
   ]
  },
  {
   "cell_type": "markdown",
   "id": "recorded-lender",
   "metadata": {},
   "source": [
    "**Soru 6:**\n",
    "\n",
    "Ay ve Güne göre hangi meyvenin yeneceğini bilen bir fonksiyon yazalım.\n",
    "\n",
    "<pre>\n",
    "İlkbahar: Erik\n",
    "Yaz: Karpuz\n",
    "Sonbahar: Ayva\n",
    "Kış: Portakal\n",
    "</pre>"
   ]
  },
  {
   "cell_type": "code",
   "execution_count": 9,
   "id": "quarterly-nelson",
   "metadata": {},
   "outputs": [],
   "source": [
    "# Çözüm 6:\n",
    "\n",
    "def hangi_meyve_yenir():\n",
    "    \n",
    "    ay = input(\"Ay adı giriniz: \")\n",
    "    gun = int(input(\"Gün numarası giriniz: \"))\n",
    "    \n",
    "                  \n",
    "    if ay == \"Ocak\" or ay == \"Şubat\":\n",
    "        meyve = \"Portakal\"\n",
    "    \n",
    "    elif ay == \"Mart\":\n",
    "        if gun < 20:\n",
    "            meyve = \"Portakal\"\n",
    "        else:\n",
    "            meyve = \"Erik\"\n",
    "            \n",
    "    elif ay == \"Nisan\" or ay == \"Mayıs\":\n",
    "        meyve = \"Erik\"\n",
    "    \n",
    "    elif ay == \"Haziran\":\n",
    "        if gun < 20:\n",
    "            meyve = \"Erik\"\n",
    "        else:\n",
    "            meyve = \"Karpuz\"\n",
    "            \n",
    "    elif ay == \"Temmuz\" or ay == \"Ağustos\":\n",
    "        meyve = \"Karpuz\"\n",
    "    \n",
    "    elif ay == \"Eylül\":\n",
    "        if gun < 20:\n",
    "            meyve = \"Karpuz\"\n",
    "        else:\n",
    "            meyve = \"Ayva\"\n",
    "            \n",
    "    elif ay == \"Ekim\" or ay == \"Kasım\":\n",
    "        meyve = \"Ayva\"\n",
    "        \n",
    "    elif ay == \"Aralık\":\n",
    "        if gun < 20:\n",
    "            meyve = \"Ayva\"\n",
    "        else:\n",
    "            meyve = \"Portakal\"\n",
    "        \n",
    "              \n",
    "    print(ay, \" ayının \", str(gun), \".\", \" günü \", meyve, \" meyvesi yenir.\")\n",
    "              \n",
    "\n",
    "        "
   ]
  },
  {
   "cell_type": "code",
   "execution_count": 14,
   "id": "expressed-engagement",
   "metadata": {},
   "outputs": [
    {
     "name": "stdin",
     "output_type": "stream",
     "text": [
      "Ay adı giriniz:  Şubat\n",
      "Gün numarası giriniz:  20\n"
     ]
    },
    {
     "name": "stdout",
     "output_type": "stream",
     "text": [
      "Şubat  ayının  20 .  günü  Portakal  meyvesi yenir.\n"
     ]
    }
   ],
   "source": [
    "hangi_meyve_yenir()"
   ]
  },
  {
   "cell_type": "markdown",
   "id": "federal-private",
   "metadata": {},
   "source": [
    "---"
   ]
  },
  {
   "cell_type": "markdown",
   "id": "romantic-gambling",
   "metadata": {},
   "source": [
    "**Soru 7:**\n",
    "\n",
    "Kullanıcıdan C, Ç, P, S harflerinden birini isteyen bir fonksiyon yazalım.\n",
    "\n",
    "Bu harfler haftanın günlerinin başlangıcı olsun. Gelen harfe göre hangi gün olduğunu tahmin etmeye çalışalım. \n",
    "\n",
    "Harflere göre ek sorular:\n",
    "* C: \"hafta içi mi\" yoksa \"hafta sonu mu\"\n",
    "* P: \"hafta içi mi\" yoksa \"hafta sonu mu\"\n",
    "    * hafta içi: \"hafta başı mı\" yoksa \"hafta ortası mı\""
   ]
  },
  {
   "cell_type": "code",
   "execution_count": 1,
   "id": "increased-justice",
   "metadata": {},
   "outputs": [],
   "source": [
    "# Çözüm 7:\n",
    "\n",
    "def hangi_gun():\n",
    "    harf = input(\"Lütfen C, Ç, P, S harflerinden birini giriniz: \")\n",
    "    \n",
    "    if not (harf == 'C' or harf == 'Ç' or harf == 'P' or harf == 'S'):\n",
    "        print(\"Yanlış harf girdiniz.\", harf, \"harfi: C, Ç, P, S içinde değil.\")\n",
    "        \n",
    "      \n",
    "    \n",
    "    gun = \"\"\n",
    "    if harf == \"C\":\n",
    "        hafta_ici = input(\"Seçtiğiniz gün hafta içi mi? Evet - Hayır?\")\n",
    "        if hafta_ici == \"Evet\":\n",
    "            gun = \"CUMA\"\n",
    "        else:\n",
    "            gun = \"CUMARTESİ\"\n",
    "               \n",
    "    elif harf == \"Ç\":\n",
    "        gun = \"ÇARŞAMBA\"\n",
    "        \n",
    "    elif harf == \"P\":\n",
    "        hafta_ici = input(\"Seçtiğiniz gün hafta içi mi? Evet - Hayır?\")\n",
    "        if hafta_ici == \"Evet\":\n",
    "            hafta_basi = input(\"Seçtiğiniz gün hafta başı mı? Evet - Hayır?\")\n",
    "            if hafta_basi == \"Evet\":\n",
    "                gun = \"PAZARTESİ\"\n",
    "            else:\n",
    "                gun = \"PERŞEMBE\"\n",
    "        else:\n",
    "            gun = \"PAZAR\"\n",
    "            \n",
    "    elif harf == \"S\":\n",
    "        gun = \"SALI\"\n",
    "    \n",
    "    print(\"Seçtiğiniz gün: \", gun)\n"
   ]
  },
  {
   "cell_type": "code",
   "execution_count": 5,
   "id": "random-oracle",
   "metadata": {},
   "outputs": [
    {
     "name": "stdin",
     "output_type": "stream",
     "text": [
      "Lütfen C, Ç, P, S harflerinden birini giriniz:  P\n",
      "Seçtiğiniz gün hafta içi mi? Evet - Hayır? Evet\n",
      "Seçtiğiniz gün hafta başı mı? Evet - Hayır? Hayır\n"
     ]
    },
    {
     "name": "stdout",
     "output_type": "stream",
     "text": [
      "Seçtiğiniz gün:  PERŞEMBE\n"
     ]
    }
   ],
   "source": [
    "hangi_gun()"
   ]
  },
  {
   "cell_type": "markdown",
   "id": "compliant-scratch",
   "metadata": {},
   "source": [
    "---"
   ]
  },
  {
   "cell_type": "markdown",
   "id": "surrounded-asset",
   "metadata": {},
   "source": [
    "**Soru 8:**\n",
    "\n",
    "Kullanıcıdan pozitif bir sayı isteyelim. Girdinin gerçekten tamsayı olup olmadığını kontrol edelim. Ek olarak tam sayı ise bunun pozitif olup olmadığını da kontrol edelim.\n",
    "\n",
    "Bu sayının tek-çift olmasına göre TUHAF mı TUHAF DEĞİL mi, buna karar verelim.\n",
    "\n",
    "* Eğer sayı tek sayı ise TUHAF\n",
    "* Eğer sayı çift ama 1 - 10 (ikisi de dahil) arasında ise TUHAF DEĞİL\n",
    "* Eğer sayı çift ama 11 - 20 (ikisi de dahil) arasında ise TUHAF\n",
    "* Eğer sayı çift ama 20 den büyükse TUHAF DEĞİL"
   ]
  },
  {
   "cell_type": "code",
   "execution_count": 73,
   "id": "separated-grocery",
   "metadata": {},
   "outputs": [],
   "source": [
    "# Çözüm 8:\n",
    "\n",
    "def tuhaf_mi():\n",
    "    \n",
    "    sayi = input(\"Bir sayı girin, size tuhaf mı değil mi, söyleyeyim: \")\n",
    "            \n",
    "    sonuc = \"\"\n",
    "    \n",
    "#     if not sayi.isdigit():\n",
    "#         sonuc = \"TUHAF! Çünkü sayı girmediniz.\"\n",
    "        \n",
    "     \n",
    "    \n",
    "    sayi = int(sayi)\n",
    "    \n",
    "    if sayi <= 0:\n",
    "        sonuc = \"TUHAF! Çünkü sayı POZİTİF değil.\"\n",
    "           \n",
    "                     \n",
    "    elif sayi % 2 == 1:\n",
    "        sonuc = \"TEK AMA TUHAF\"\n",
    "        \n",
    "    elif sayi >=1 and sayi <= 10:\n",
    "        if sayi % 2 == 0:\n",
    "            sonuc = \"ÇİFT AMA TUHAF DEĞİL\"\n",
    "        \n",
    "    elif sayi >= 11 and sayi <= 20:\n",
    "        if sayi % 2 == 0:\n",
    "            sonuc = \"ÇİFT AMA TUHAF\"\n",
    "            \n",
    "    elif sayi % 2 == 0 and sayi > 20:\n",
    "        sonuc = \"ÇİFT AMA TUHAF DEĞİL\"\n",
    "    \n",
    "            \n",
    "    return sonuc\n",
    "    \n",
    "\n",
    "    \n",
    "    \n",
    "    "
   ]
  },
  {
   "cell_type": "code",
   "execution_count": 76,
   "id": "anonymous-banking",
   "metadata": {},
   "outputs": [
    {
     "name": "stdin",
     "output_type": "stream",
     "text": [
      "Bir sayı girin, size tuhaf mı değil mi, söyleyeyim:  29\n"
     ]
    },
    {
     "data": {
      "text/plain": [
       "'TEK AMA TUHAF'"
      ]
     },
     "execution_count": 76,
     "metadata": {},
     "output_type": "execute_result"
    }
   ],
   "source": [
    "tuhaf_mi()"
   ]
  },
  {
   "cell_type": "markdown",
   "id": "lesbian-paragraph",
   "metadata": {},
   "source": [
    "---"
   ]
  },
  {
   "cell_type": "markdown",
   "id": "regulation-definition",
   "metadata": {},
   "source": [
    "**Soru 9:**\n",
    "\n",
    "**TEK-ÇİFT Toplamlar Kuralı:** \n",
    "* İki sayının toplamı Tek ise sayılardan sadece biri Tek'tir.\n",
    "* İki sayının toplamı Çift ise sayıların ikisi Tek ya da ikisi Çift'tir.\n",
    "\n",
    "Kullanıcıdan iki sayı isteyip Tek-Çift Toplamlar Kuralına göre toplamın Tek mi yoksa Çift mi olduğunu bulan bir fonksiyon yazın.\n",
    "\n",
    "**Önemli:** Bu soruyu x + y diyerek, direk toplam değeri üzerinden yapmayınız."
   ]
  },
  {
   "cell_type": "code",
   "execution_count": 77,
   "id": "worse-museum",
   "metadata": {},
   "outputs": [],
   "source": [
    "# Çözüm 9:\n",
    "\n",
    "def tek_cift_toplamlar_kurali():\n",
    "    x = int(input(\"Birinci sayı : \"))\n",
    "    y = int(input(\"İkinci sayı: \"))\n",
    "    \n",
    "    if (x + y) % 2 == 0:\n",
    "        print(\"Toplam: ÇİFT\")\n",
    "    \n",
    "    else:\n",
    "        print(\"Toplam : TEK\")\n",
    "        "
   ]
  },
  {
   "cell_type": "code",
   "execution_count": 78,
   "id": "renewable-theta",
   "metadata": {},
   "outputs": [
    {
     "name": "stdin",
     "output_type": "stream",
     "text": [
      "Birinci sayı :  8\n",
      "İkinci sayı:  3\n"
     ]
    },
    {
     "name": "stdout",
     "output_type": "stream",
     "text": [
      "Toplam : TEK\n"
     ]
    }
   ],
   "source": [
    "tek_cift_toplamlar_kurali()"
   ]
  },
  {
   "cell_type": "markdown",
   "id": "suited-making",
   "metadata": {},
   "source": [
    "---"
   ]
  },
  {
   "cell_type": "markdown",
   "id": "tribal-earthquake",
   "metadata": {},
   "source": [
    "**Soru 10:**\n",
    "\n",
    "Kullanıcıdan iki sayı alalım. Bu sayılardan hangisinin küçük, hangisinin büyük olduğunu bulalım.\n",
    "\n",
    "Sonra büyük sayıdan geriye gidip, küçük sayıya kadar olan sayıları ekrana yazalım.\n",
    "\n",
    "**Önemli:** Recursion ile yapınız."
   ]
  },
  {
   "cell_type": "code",
   "execution_count": 1,
   "id": "conceptual-objective",
   "metadata": {},
   "outputs": [],
   "source": [
    "# Çözüm 10:\n",
    "  \n",
    "def geri_cift_say():\n",
    "    x = int(input(\"Birinci sayı: \"))\n",
    "    y = int(input(\"İkinci sayı: \"))\n",
    "    \n",
    "    if x < y:\n",
    "        print(\"küçük: \", x)\n",
    "        print(\"büyük: \", y)\n",
    "    elif y < x:\n",
    "        print(\"küçük: \", y)\n",
    "        print(\"büyük: \", x)\n",
    "    elif x == y:\n",
    "        print(\"İki sayı birbirine eşittir.\")\n",
    "    else:\n",
    "        print(\"Lütfen sayı giriniz.\")\n",
    "\n",
    "    geri_yaz(x, y)\n",
    "        \n",
    "def geri_yaz(x, y):\n",
    "    \n",
    "    if x == y:\n",
    "        print(x)\n",
    "        return\n",
    "    \n",
    "    elif x > y:\n",
    "        print(x)\n",
    "        geri_yaz(y, x-1)\n",
    "        \n",
    "    else:\n",
    "        print(y)\n",
    "        geri_yaz(x, y-1)\n",
    "        \n",
    "        \n",
    "    "
   ]
  },
  {
   "cell_type": "code",
   "execution_count": 4,
   "id": "classical-execution",
   "metadata": {},
   "outputs": [
    {
     "name": "stdin",
     "output_type": "stream",
     "text": [
      "Birinci sayı:  12\n",
      "İkinci sayı:  23\n"
     ]
    },
    {
     "name": "stdout",
     "output_type": "stream",
     "text": [
      "küçük:  12\n",
      "büyük:  23\n",
      "23\n",
      "22\n",
      "21\n",
      "20\n",
      "19\n",
      "18\n",
      "17\n",
      "16\n",
      "15\n",
      "14\n",
      "13\n",
      "12\n"
     ]
    }
   ],
   "source": [
    "geri_cift_say()"
   ]
  },
  {
   "cell_type": "code",
   "execution_count": null,
   "id": "mature-liberty",
   "metadata": {},
   "outputs": [],
   "source": []
  }
 ],
 "metadata": {
  "kernelspec": {
   "display_name": "Python 3 (ipykernel)",
   "language": "python",
   "name": "python3"
  },
  "language_info": {
   "codemirror_mode": {
    "name": "ipython",
    "version": 3
   },
   "file_extension": ".py",
   "mimetype": "text/x-python",
   "name": "python",
   "nbconvert_exporter": "python",
   "pygments_lexer": "ipython3",
   "version": "3.9.12"
  }
 },
 "nbformat": 4,
 "nbformat_minor": 5
}
