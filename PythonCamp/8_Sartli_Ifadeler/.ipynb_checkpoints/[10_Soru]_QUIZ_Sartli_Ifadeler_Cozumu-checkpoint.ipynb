{
 "cells": [
  {
   "cell_type": "markdown",
   "id": "sufficient-melbourne",
   "metadata": {},
   "source": [
    "## [10 Soru] QUIZ - Şartlı İfadeler"
   ]
  },
  {
   "cell_type": "markdown",
   "id": "strange-navigator",
   "metadata": {},
   "source": [
    "**Soru 1:**\n",
    "\n",
    "Kullanıcı tarafından girilen bir saynının tek mi çift mi olduğunu bulun."
   ]
  },
  {
   "cell_type": "code",
   "execution_count": 2,
   "id": "blind-bryan",
   "metadata": {},
   "outputs": [
    {
     "name": "stdin",
     "output_type": "stream",
     "text": [
      "Lütfen bir sayı giriniz:  9\n"
     ]
    },
    {
     "name": "stdout",
     "output_type": "stream",
     "text": [
      "9 tek.\n"
     ]
    }
   ],
   "source": [
    "# Çözüm 1:\n",
    "\n",
    "# kullanıcıdan değer al\n",
    "sayi = int(input(\"Lütfen bir sayı giriniz: \"))\n",
    "\n",
    "# sonra if-else yapısı ile karar verelim\n",
    "if sayi % 2 == 0:\n",
    "    print(sayi, \"çift.\")\n",
    "else:\n",
    "    print(sayi, \"tek.\")\n"
   ]
  },
  {
   "cell_type": "markdown",
   "id": "solar-pride",
   "metadata": {},
   "source": [
    "---"
   ]
  },
  {
   "cell_type": "markdown",
   "id": "massive-studio",
   "metadata": {},
   "source": [
    "**Soru 2:**\n",
    "\n",
    "Kullanıcı tarafından girilen bir harfin sesli mi yoksa sessiz mi olduğunu bulalım."
   ]
  },
  {
   "cell_type": "code",
   "execution_count": 6,
   "id": "changed-little",
   "metadata": {},
   "outputs": [
    {
     "name": "stdin",
     "output_type": "stream",
     "text": [
      "Lütfen bir harf giriniz:  d\n"
     ]
    },
    {
     "name": "stdout",
     "output_type": "stream",
     "text": [
      "SESSİZ HARF d\n"
     ]
    }
   ],
   "source": [
    "# Çözüm 2:\n",
    "\n",
    "# önce bir harf isteyelim\n",
    "harf = input(\"Lütfen bir harf giriniz: \")\n",
    "if harf == \"a\" or harf == \"e\" or harf == 'i' or harf == 'ı' or harf == 'o' or harf == 'ö' or harf == 'u' or harf == 'ü':\n",
    "    print(\"SESLİ HARF\", harf)\n",
    "else:\n",
    "    print(\"SESSİZ HARF\", harf)\n",
    "    "
   ]
  },
  {
   "cell_type": "markdown",
   "id": "governing-cassette",
   "metadata": {},
   "source": [
    "---"
   ]
  },
  {
   "cell_type": "markdown",
   "id": "tested-australia",
   "metadata": {},
   "source": [
    "**Soru 3:**\n",
    "\n",
    "Kullanıcı tarafından girilen kenar sayısına göre hangi şekil oldunu dönen bir fonksiyon yazın."
   ]
  },
  {
   "cell_type": "code",
   "execution_count": 7,
   "id": "thorough-steps",
   "metadata": {},
   "outputs": [],
   "source": [
    "# Çözüm 3:\n",
    "\n",
    "def hangi_sekil():\n",
    "    \"\"\"\n",
    "    Kullanıcıdan bir sayı alır, ve o sayıya karşılık gelen şeklin adını döner.\n",
    "    Parametre: yok\n",
    "    Dönüş: str tipinde sekil_adi -> şeklin adı\n",
    "    \"\"\"\n",
    "    \n",
    "    # önce kullanıcıdan bir sayı al\n",
    "    kenar_sayisi = int(input(\"Lütfen Kenar Sayısını girin: \"))\n",
    "    \n",
    "    # şeklin adını tutan değişken tanımla\n",
    "    sekil_adi = \"\"\n",
    "    \n",
    "    if kenar_sayisi == 3:\n",
    "        sekil_adi = 'ÜÇGEN'\n",
    "    elif kenar_sayisi == 4:\n",
    "        sekil_adi = 'DÖRTGEN'\n",
    "    elif kenar_sayisi == 5:\n",
    "        sekil_adi = 'BEŞGEN'\n",
    "    elif kenar_sayisi == 6:\n",
    "        sekil_adi = 'ALTIGEN'\n",
    "    else:\n",
    "        sekil_adi = 'ÇOKGEN'\n",
    "    \n",
    "    return sekil_adi\n",
    "    "
   ]
  },
  {
   "cell_type": "code",
   "execution_count": 10,
   "id": "lightweight-reflection",
   "metadata": {},
   "outputs": [
    {
     "name": "stdin",
     "output_type": "stream",
     "text": [
      "Lütfen Kenar Sayısını girin:  9\n"
     ]
    },
    {
     "name": "stdout",
     "output_type": "stream",
     "text": [
      "ÇOKGEN\n"
     ]
    }
   ],
   "source": [
    "sekil_adi = hangi_sekil()\n",
    "print(sekil_adi)"
   ]
  },
  {
   "cell_type": "markdown",
   "id": "dutch-machine",
   "metadata": {},
   "source": [
    "---"
   ]
  },
  {
   "cell_type": "markdown",
   "id": "dress-leone",
   "metadata": {},
   "source": [
    "**Soru 4:**\n",
    "\n",
    "Bir aydaki gün sayısını ekrana yazdırın. Ay'ın adını kullanıcı belirleyecek."
   ]
  },
  {
   "cell_type": "code",
   "execution_count": 14,
   "id": "decimal-discretion",
   "metadata": {},
   "outputs": [],
   "source": [
    "# Çözüm 4:\n",
    "\n",
    "def ay_icindeki_gun_sayisi():\n",
    "    \n",
    "    # gün sayısını tutan değişken\n",
    "    gun = 31\n",
    "    \n",
    "    # kullanıcıdan ay adını alalım\n",
    "    ay = input(\"Lütfen ay adı giriniz: \")\n",
    "    \n",
    "    # Şimdi 28-29, 30 ve 31 gün olan aylar var\n",
    "    if ay == 'Nisan' or ay == 'Temmuz' or \\\n",
    "       ay ==  'Eylül' or ay == 'Kasım':\n",
    "        gun = 30\n",
    "    elif ay == 'Şubat':\n",
    "        gun = \"28 ya da 29\"\n",
    "        \n",
    "    return str(ay) + \" ayı içinde \" + str(gun) + \" gün vardır.\"\n"
   ]
  },
  {
   "cell_type": "code",
   "execution_count": 16,
   "id": "amazing-walker",
   "metadata": {},
   "outputs": [
    {
     "name": "stdin",
     "output_type": "stream",
     "text": [
      "Lütfen ay adı giriniz:  Ağustos\n"
     ]
    },
    {
     "data": {
      "text/plain": [
       "'Ağustos ayı içinde 31 gün vardır.'"
      ]
     },
     "execution_count": 16,
     "metadata": {},
     "output_type": "execute_result"
    }
   ],
   "source": [
    "ay_icindeki_gun_sayisi()"
   ]
  },
  {
   "cell_type": "markdown",
   "id": "frank-genome",
   "metadata": {},
   "source": [
    "---"
   ]
  },
  {
   "cell_type": "markdown",
   "id": "fifteen-beach",
   "metadata": {},
   "source": [
    "**Soru 5:**\n",
    "\n",
    "Kenar uzunlukları verilen bir üçgenin adını ekrana yazan bir fonksiyon oluşturalım."
   ]
  },
  {
   "cell_type": "code",
   "execution_count": 17,
   "id": "intelligent-township",
   "metadata": {},
   "outputs": [],
   "source": [
    "# Çözüm 5:\n",
    "\n",
    "def ucgenin_adi():\n",
    "    \n",
    "    # üçgenin adını tutan değişken\n",
    "    ad = \"\"\n",
    "    \n",
    "    # önce 3 kenarı da kullanıcıdan istiyelim\n",
    "    kenar_1 = float(input(\"Birinci kenar uzunluğunu giriniz:\"))\n",
    "    kenar_2 = float(input(\"İkinci kenar uzunluğunu giriniz:\"))\n",
    "    kenar_3 = float(input(\"Üçüncü kenar uzunluğunu giriniz:\"))\n",
    "    \n",
    "    # şimdi olasılıklara göre karar verelim\n",
    "    if kenar_1 == kenar_2 and kenar_2 == kenar_3:\n",
    "        ad = 'Eşkenar Üçgen'\n",
    "    elif kenar_1 == kenar_2 or kenar_1 == kenar_3 or kenar_2 == kenar_3:\n",
    "        ad = 'İkizkenar Üçgen'\n",
    "    else:\n",
    "        ad = 'Çeşitkenar Üçgen'\n",
    "        \n",
    "    return ad\n"
   ]
  },
  {
   "cell_type": "code",
   "execution_count": 20,
   "id": "polished-bradley",
   "metadata": {},
   "outputs": [
    {
     "name": "stdin",
     "output_type": "stream",
     "text": [
      "Birinci kenar uzunluğunu giriniz: 40\n",
      "İkinci kenar uzunluğunu giriniz: 40\n",
      "Üçüncü kenar uzunluğunu giriniz: 40\n"
     ]
    },
    {
     "name": "stdout",
     "output_type": "stream",
     "text": [
      "Eşkenar Üçgen\n"
     ]
    }
   ],
   "source": [
    "print(ucgenin_adi())"
   ]
  },
  {
   "cell_type": "markdown",
   "id": "reported-sessions",
   "metadata": {},
   "source": [
    "---"
   ]
  },
  {
   "cell_type": "markdown",
   "id": "herbal-entrepreneur",
   "metadata": {},
   "source": [
    "**Soru 6:**\n",
    "\n",
    "Ay ve Güne göre hangi meyvenin yeneceğini bilen bir fonksiyon yazalım.\n",
    "\n",
    "<pre>\n",
    "İlkbahar: Erik\n",
    "Yaz: Karpuz\n",
    "Sonbahar: Ayva\n",
    "Kış: Portakal\n",
    "</pre>"
   ]
  },
  {
   "cell_type": "code",
   "execution_count": 1,
   "id": "invisible-favor",
   "metadata": {},
   "outputs": [],
   "source": [
    "# Çözüm 6:\n",
    "\n",
    "def hangi_meyve_yenir():\n",
    "    \n",
    "    # önce ay ve günü alalım\n",
    "    ay = input(\"Ay adını giriniz: \")\n",
    "    gun = int(input(\"Gün numarasını giriniz: \"))\n",
    "    \n",
    "    # meyveye karar verelim\n",
    "    if ay == 'Ocak' or ay =='Şubat':\n",
    "        meyve = 'Portakal'\n",
    "    elif ay == 'Mart':\n",
    "        if gun < 20: # 21 Mart\n",
    "            meyve = 'Portakal'\n",
    "        else:\n",
    "            meyve = 'Erik'\n",
    "    elif ay == 'Nisan' or ay == 'Mayıs':\n",
    "        meyve = 'Erik'\n",
    "    elif ay == 'Haziran':\n",
    "        if gun < 20: # 21 Haziran\n",
    "            meyve = 'Erik'\n",
    "        else:\n",
    "            meyve = 'Karpuz'\n",
    "    elif ay == 'Temmuz' or ay == 'Ağustos':\n",
    "        meyve = 'Karpuz'\n",
    "    elif ay == 'Eylül':\n",
    "        if gun < 22: # 23 Eylül\n",
    "            meyve = 'Karpuz'\n",
    "        else:\n",
    "            meyve = 'Ayva'\n",
    "    elif ay == 'Ekim' or ay == 'Kasım':\n",
    "        meyve = 'Ayva'\n",
    "    elif ay == 'Aralık':\n",
    "        if gun < 21: # 21 Aralık\n",
    "            meye = 'Ayva'\n",
    "        else:\n",
    "            meyve = 'Portakal'\n",
    "        \n",
    "    print(ay, \"ayının\", gun, \". günü\", meyve, \"meyvesi yenir.\")\n"
   ]
  },
  {
   "cell_type": "code",
   "execution_count": 2,
   "id": "different-participation",
   "metadata": {},
   "outputs": [
    {
     "name": "stdin",
     "output_type": "stream",
     "text": [
      "Ay adını giriniz:  Mart\n",
      "Gün numarasını giriniz:  24\n"
     ]
    },
    {
     "name": "stdout",
     "output_type": "stream",
     "text": [
      "Mart ayının 24 . günü Erik meyvesi yenir.\n"
     ]
    }
   ],
   "source": [
    "hangi_meyve_yenir()"
   ]
  },
  {
   "cell_type": "markdown",
   "id": "continental-pasta",
   "metadata": {},
   "source": [
    "---"
   ]
  },
  {
   "cell_type": "markdown",
   "id": "placed-bailey",
   "metadata": {},
   "source": [
    "**Soru 7:**\n",
    "\n",
    "Kullanıcıdan C, Ç, P, S harflerinden birini isteyen bir fonksiyon yazalım.\n",
    "\n",
    "Bu harfler haftanın günlerinin başlangıcı olsun. Gelen harfe göre hangi gün olduğunu tahmin etmeye çalışalım. \n",
    "\n",
    "Harflere göre ek sorular:\n",
    "* C: \"hafta içi mi\" yoksa \"hafta sonu mu\"\n",
    "* P: \"hafta içi mi\" yoksa \"hafta sonu mu\"\n",
    "    * hafta içi: \"hafta başı mı\" yoksa \"hafta ortası mı\""
   ]
  },
  {
   "cell_type": "code",
   "execution_count": 4,
   "id": "sonic-integrity",
   "metadata": {},
   "outputs": [],
   "source": [
    "# Çözüm 7:\n",
    "\n",
    "def hangi_gun():\n",
    "    \n",
    "    # önce harfi alalım\n",
    "    harf = input(\"Lütfen C, Ç, P, S harflerinden birini giriniz: \")\n",
    "    \n",
    "    # Eğer girilin harf bunlardan biri değilse, hata dönelim\n",
    "    if not (harf == 'C' or harf == 'Ç' or harf == 'P' or harf == 'S'):\n",
    "        print(\"Yanlış harf girdiniz.\", harf, \"harfi: C, Ç, P, S içinde değil.\")\n",
    "        \n",
    "    # eğer bu harflerden biri ise\n",
    "    else:\n",
    "        \n",
    "        # Gün bazlı kontroller\n",
    "        # S\n",
    "        if harf == 'S':\n",
    "            gun = 'SALI'\n",
    "            \n",
    "        # Ç\n",
    "        elif harf == 'Ç':\n",
    "            gun = 'ÇARŞAMBA'\n",
    "            \n",
    "        # C\n",
    "        elif harf == 'C':\n",
    "            # C harfinden iki gün olduğu için hafta içi mi haft dışı mı sormamız lazım\n",
    "            hafta_ici = input(\"Seçtiğiniz gün hafta içi mi? Evet - Hayır?\")\n",
    "            \n",
    "            if hafta_ici == 'Evet':\n",
    "                gun = 'CUMA'\n",
    "            else:\n",
    "                gun = 'CUMARTESİ'\n",
    "                \n",
    "        # P\n",
    "        elif harf == 'P':\n",
    "            # P harfi ile başlayan 3 gün var -> hafta içi/sonu -> hafta başı/ortası\n",
    "            hafta_sonu = input(\"Seçtiğiniz gün hafta sonu mu? Evet - Hayır?\")\n",
    "            \n",
    "            if hafta_sonu == 'Evet':\n",
    "                gun = 'PAZAR'\n",
    "                \n",
    "            else:\n",
    "                hafta_basi = input(\"Seçtiğiniz gün hafta başı mı? Evet - Hayır?\")\n",
    "    \n",
    "                if hafta_basi == 'Evet':\n",
    "                    gun = 'PAZARTESİ'\n",
    "                else:\n",
    "                    gun = 'PERŞEMBE'\n",
    "        \n",
    "        print(\"Seçtiğiniz gün:\", gun)\n",
    "    "
   ]
  },
  {
   "cell_type": "code",
   "execution_count": 10,
   "id": "laden-happening",
   "metadata": {},
   "outputs": [
    {
     "name": "stdin",
     "output_type": "stream",
     "text": [
      "Lütfen C, Ç, P, S harflerinden birini giriniz:  C\n",
      "Seçtiğiniz gün hafta içi mi? Evet - Hayır? Hayır\n"
     ]
    },
    {
     "name": "stdout",
     "output_type": "stream",
     "text": [
      "Seçtiğiniz gün: CUMARTESİ\n"
     ]
    }
   ],
   "source": [
    "hangi_gun()"
   ]
  },
  {
   "cell_type": "markdown",
   "id": "sorted-celebration",
   "metadata": {},
   "source": [
    "---"
   ]
  },
  {
   "cell_type": "markdown",
   "id": "included-frame",
   "metadata": {},
   "source": [
    "**Soru 8:**\n",
    "\n",
    "Kullanıcıdan pozitif bir sayı isteyelim. Girdinin gerçekten tamsayı olup olmadığını kontrol edelim. Ek olarak tam sayı ise bunun pozitif olup olmadığını da kontrol edelim.\n",
    "\n",
    "Bu sayının tek-çift olmasına göre TUHAF mı TUHAF DEĞİL mi, buna karar verelim.\n",
    "\n",
    "* Eğer sayı tek sayı ise TUHAF\n",
    "* Eğer sayı çift ama 1 - 10 (ikisi de dahil) arasında ise TUHAF DEĞİL\n",
    "* Eğer sayı çift ama 11 - 20 (ikisi de dahil) arasında ise TUHAF\n",
    "* Eğer sayı çift ama 20 den büyükse TUHAF DEĞİL"
   ]
  },
  {
   "cell_type": "code",
   "execution_count": 11,
   "id": "light-pollution",
   "metadata": {},
   "outputs": [],
   "source": [
    "# Çözüm 8:\n",
    "\n",
    "def tuhaf_mi():\n",
    "    \n",
    "    # sayi isteyelim -> str\n",
    "    n = input(\"Bir sayı girin, size tuhaf mı değil mi, söyleyeyim: \")\n",
    "    \n",
    "    # girilen sayi tam sayı mı?\n",
    "    if not n.isdigit():\n",
    "        print(\"TUHAF! Çünkü sayı girmediniz.\")\n",
    "        return\n",
    "    \n",
    "    # sayı olduğuna göre -> int'e çevirebiliriz\n",
    "    n = int(n)\n",
    "\n",
    "    # Pozitif kontrolü\n",
    "    if n <= 0:\n",
    "        print(\"TUHAF! Çünkü sayı POZİTİF değil.\")\n",
    "        return\n",
    "    \n",
    "    # sayı pozitif\n",
    "    else:\n",
    "        \n",
    "        # tek mi\n",
    "        if n % 2 == 1:\n",
    "            print(\"TUHAF - Tek\")\n",
    "            \n",
    "        # çift\n",
    "        else:\n",
    "            # 1-10 arasında mı\n",
    "            if 1 <= n <= 10:\n",
    "                print(\"TUHAF DEĞİL - 1-10 Arasında\")\n",
    "            elif 11 <= n <= 20:\n",
    "                print(\"TUHAF - 11-20 Arasında\")\n",
    "            elif n > 20:\n",
    "                print(\"TUHAF DEĞİL - 20 den büyük\")\n",
    "    "
   ]
  },
  {
   "cell_type": "code",
   "execution_count": 17,
   "id": "extended-artwork",
   "metadata": {},
   "outputs": [
    {
     "name": "stdin",
     "output_type": "stream",
     "text": [
      "Bir sayı girin, size tuhaf mı değil mi, söyleyeyim:  260\n"
     ]
    },
    {
     "name": "stdout",
     "output_type": "stream",
     "text": [
      "TUHAF DEĞİL - 20 den büyük\n"
     ]
    }
   ],
   "source": [
    "tuhaf_mi()"
   ]
  },
  {
   "cell_type": "markdown",
   "id": "extraordinary-microwave",
   "metadata": {},
   "source": [
    "---"
   ]
  },
  {
   "cell_type": "markdown",
   "id": "demanding-princess",
   "metadata": {},
   "source": [
    "**Soru 9:**\n",
    "\n",
    "**TEK-ÇİFT Toplamlar Kuralı:** \n",
    "* İki sayının toplamı Tek ise sayılardan sadece biri Tek'tir.\n",
    "* İki sayının toplamı Çift ise sayıların ikisi Tek ya da ikisi Çift'tir.\n",
    "\n",
    "Kullanıcıdan iki sayı isteyip Tek-Çift Toplamlar Kuralına göre toplamın Tek mi yoksa Çift mi olduğunu bulan bir fonksiyon yazın.\n",
    "\n",
    "**Önemli:** Bu soruyu x + y diyerek, direk toplam değeri üzerinden yapmayınız."
   ]
  },
  {
   "cell_type": "code",
   "execution_count": 18,
   "id": "suspended-wheat",
   "metadata": {},
   "outputs": [],
   "source": [
    "# Çözüm 9:\n",
    "\n",
    "def tek_cift_toplamlar_kurali():\n",
    "    \n",
    "    # sayıları alalım\n",
    "    n1 = int(input(\"Birinci sayı: \"))\n",
    "    n2 = int(input(\"İkinci sayı: \"))\n",
    "    \n",
    "    # sadece biri tek ise -> sonuç TEK\n",
    "    # (n1 tek ve n2 çift) veya (n1 çift ve n2 tek)\n",
    "    if (n1 % 2 == 1 and n2 % 2 == 0) or (n1 % 2 == 0 and n2 % 2 == 1):\n",
    "        print(\"Toplam: TEK\")\n",
    "    # bunun dışındaki bütün durumlarda (case'lerde) -> sonuç ÇİFT\n",
    "    else:\n",
    "        print(\"Toplam: ÇİFT\")\n",
    "        \n"
   ]
  },
  {
   "cell_type": "code",
   "execution_count": 22,
   "id": "human-conviction",
   "metadata": {},
   "outputs": [
    {
     "name": "stdin",
     "output_type": "stream",
     "text": [
      "Birinci sayı:  8\n",
      "İkinci sayı:  3\n"
     ]
    },
    {
     "name": "stdout",
     "output_type": "stream",
     "text": [
      "Toplam: TEK\n"
     ]
    }
   ],
   "source": [
    "tek_cift_toplamlar_kurali()"
   ]
  },
  {
   "cell_type": "markdown",
   "id": "visible-packaging",
   "metadata": {},
   "source": [
    "---"
   ]
  },
  {
   "cell_type": "markdown",
   "id": "assumed-intent",
   "metadata": {},
   "source": [
    "**Soru 10:**\n",
    "\n",
    "Kullanıcıdan iki sayı alalım. Bu sayılardan hangisinin küçük, hangisinin büyük olduğunu bulalım.\n",
    "\n",
    "Sonra büyük sayıdan geriye gidip, küçük sayıya kadar olan sayıları ekrana yazalım.\n",
    "\n",
    "**Önemli:** Recursion ile yapınız."
   ]
  },
  {
   "cell_type": "code",
   "execution_count": 31,
   "id": "friendly-hearts",
   "metadata": {},
   "outputs": [],
   "source": [
    "# Çözüm 10:\n",
    "   \n",
    "def geri_cift_say():\n",
    "    \n",
    "    # önce iki sayı alsın\n",
    "    sayi1 = int(input(\"Birinici Sayı: \"))\n",
    "    sayi2 = int(input(\"İkinci Sayı: \"))\n",
    "    \n",
    "    # küçük ve büyük sayıyı tutan değişkenler\n",
    "    kucuk = 0\n",
    "    buyuk = 0\n",
    "    \n",
    "    if sayi1 <= sayi2:\n",
    "        kucuk = sayi1\n",
    "        buyuk = sayi2\n",
    "    else:\n",
    "        kucuk = sayi2\n",
    "        buyuk = sayi1\n",
    "        \n",
    "    print(\"küçük:\", kucuk)\n",
    "    print(\"büyük:\", buyuk)\n",
    "    \n",
    "    geri_yaz(kucuk, buyuk)\n",
    "    \n",
    "\n",
    "# recursion fonksiyonu tanımla\n",
    "\n",
    "def geri_yaz(bitis, deger):\n",
    "    \n",
    "    # durma koşulu\n",
    "    if deger == bitis:\n",
    "        print(deger)\n",
    "        return\n",
    "    \n",
    "    else:\n",
    "        print(deger)\n",
    "        geri_yaz(bitis, deger - 1)\n"
   ]
  },
  {
   "cell_type": "code",
   "execution_count": 32,
   "id": "political-swedish",
   "metadata": {},
   "outputs": [
    {
     "name": "stdin",
     "output_type": "stream",
     "text": [
      "Birinici Sayı:  26\n",
      "İkinci Sayı:  12\n"
     ]
    },
    {
     "name": "stdout",
     "output_type": "stream",
     "text": [
      "küçük: 12\n",
      "büyük: 26\n",
      "26\n",
      "25\n",
      "24\n",
      "23\n",
      "22\n",
      "21\n",
      "20\n",
      "19\n",
      "18\n",
      "17\n",
      "16\n",
      "15\n",
      "14\n",
      "13\n",
      "12\n"
     ]
    }
   ],
   "source": [
    "geri_cift_say()"
   ]
  },
  {
   "cell_type": "code",
   "execution_count": null,
   "id": "assured-upper",
   "metadata": {},
   "outputs": [],
   "source": []
  }
 ],
 "metadata": {
  "kernelspec": {
   "display_name": "Python 3",
   "language": "python",
   "name": "python3"
  },
  "language_info": {
   "codemirror_mode": {
    "name": "ipython",
    "version": 3
   },
   "file_extension": ".py",
   "mimetype": "text/x-python",
   "name": "python",
   "nbconvert_exporter": "python",
   "pygments_lexer": "ipython3",
   "version": "3.8.5"
  }
 },
 "nbformat": 4,
 "nbformat_minor": 5
}
