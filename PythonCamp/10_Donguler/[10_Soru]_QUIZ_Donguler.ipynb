{
 "cells": [
  {
   "cell_type": "markdown",
   "id": "numerous-video",
   "metadata": {},
   "source": [
    "## [10 Soru] QUIZ - Döngüler"
   ]
  },
  {
   "cell_type": "markdown",
   "id": "focal-arabic",
   "metadata": {},
   "source": [
    "**Soru 1:**\n",
    "\n",
    "Ekrana yıldızlardan oluşmuş bir kare çizen bir fonksiyon yazın. <br>\n",
    "Fonksiyon parametre olarak karenin bir kenarında bulunan yıldız sayısını alsın. <br>\n",
    "Diyelim ki kullanıcı 5 olarak girdi sayıyı, o zaman karenin 5 satırı ve her satırda 5 sütunu (yıldız) olur.<br>\n",
    "Bunun için iç içe **while** döngüleri kullananın."
   ]
  },
  {
   "cell_type": "code",
   "execution_count": 5,
   "id": "welcome-failure",
   "metadata": {},
   "outputs": [],
   "source": [
    "# Çözüm 1:\n",
    "\n",
    "\n",
    "            "
   ]
  },
  {
   "cell_type": "code",
   "execution_count": 6,
   "id": "digital-dining",
   "metadata": {},
   "outputs": [
    {
     "name": "stdin",
     "output_type": "stream",
     "text": [
      "Yıldız sayısı giriniz: 20\n"
     ]
    },
    {
     "name": "stdout",
     "output_type": "stream",
     "text": [
      "* * * * * * * * * * * * * * * * * * * * \n",
      "* * * * * * * * * * * * * * * * * * * * \n",
      "* * * * * * * * * * * * * * * * * * * * \n",
      "* * * * * * * * * * * * * * * * * * * * \n",
      "* * * * * * * * * * * * * * * * * * * * \n",
      "* * * * * * * * * * * * * * * * * * * * \n",
      "* * * * * * * * * * * * * * * * * * * * \n",
      "* * * * * * * * * * * * * * * * * * * * \n",
      "* * * * * * * * * * * * * * * * * * * * \n",
      "* * * * * * * * * * * * * * * * * * * * \n",
      "* * * * * * * * * * * * * * * * * * * * \n",
      "* * * * * * * * * * * * * * * * * * * * \n",
      "* * * * * * * * * * * * * * * * * * * * \n",
      "* * * * * * * * * * * * * * * * * * * * \n",
      "* * * * * * * * * * * * * * * * * * * * \n",
      "* * * * * * * * * * * * * * * * * * * * \n",
      "* * * * * * * * * * * * * * * * * * * * \n",
      "* * * * * * * * * * * * * * * * * * * * \n",
      "* * * * * * * * * * * * * * * * * * * * \n",
      "* * * * * * * * * * * * * * * * * * * * \n"
     ]
    }
   ],
   "source": [
    "n = int(input(\"Yıldız sayısı giriniz:\"))\n",
    "kare_yildiz_while(n)"
   ]
  },
  {
   "cell_type": "markdown",
   "id": "statewide-arlington",
   "metadata": {},
   "source": [
    "---"
   ]
  },
  {
   "cell_type": "markdown",
   "id": "smart-legislature",
   "metadata": {},
   "source": [
    "**Soru 2:**\n",
    "\n",
    "Ekrana yıldızlardan oluşmuş bir kare çizen bir fonksiyon yazın. <br>\n",
    "Fonksiyon parametre olarak karenin bir kenarında bulunan yıldız sayısını alsın. <br>\n",
    "Diyelim ki kullanıcı 5 olarak girdi sayıyı, o zaman karenin 5 satırı ve her satırda 5 sütunu (yıldız) olur.<br>\n",
    "Bunun için iç içe **for** döngüleri kullananın."
   ]
  },
  {
   "cell_type": "code",
   "execution_count": 3,
   "id": "judicial-retail",
   "metadata": {},
   "outputs": [],
   "source": [
    "# Çözüm 2:\n",
    "\n",
    "\n",
    "        "
   ]
  },
  {
   "cell_type": "code",
   "execution_count": 4,
   "id": "ranking-anatomy",
   "metadata": {},
   "outputs": [
    {
     "name": "stdin",
     "output_type": "stream",
     "text": [
      "Yıldız sayısı giriniz: 20\n"
     ]
    },
    {
     "name": "stdout",
     "output_type": "stream",
     "text": [
      "* * * * * * * * * * * * * * * * * * * * \n",
      "* * * * * * * * * * * * * * * * * * * * \n",
      "* * * * * * * * * * * * * * * * * * * * \n",
      "* * * * * * * * * * * * * * * * * * * * \n",
      "* * * * * * * * * * * * * * * * * * * * \n",
      "* * * * * * * * * * * * * * * * * * * * \n",
      "* * * * * * * * * * * * * * * * * * * * \n",
      "* * * * * * * * * * * * * * * * * * * * \n",
      "* * * * * * * * * * * * * * * * * * * * \n",
      "* * * * * * * * * * * * * * * * * * * * \n",
      "* * * * * * * * * * * * * * * * * * * * \n",
      "* * * * * * * * * * * * * * * * * * * * \n",
      "* * * * * * * * * * * * * * * * * * * * \n",
      "* * * * * * * * * * * * * * * * * * * * \n",
      "* * * * * * * * * * * * * * * * * * * * \n",
      "* * * * * * * * * * * * * * * * * * * * \n",
      "* * * * * * * * * * * * * * * * * * * * \n",
      "* * * * * * * * * * * * * * * * * * * * \n",
      "* * * * * * * * * * * * * * * * * * * * \n",
      "* * * * * * * * * * * * * * * * * * * * \n"
     ]
    }
   ],
   "source": [
    "n = int(input(\"Yıldız sayısı giriniz:\"))\n",
    "kare_yildiz_for(n)"
   ]
  },
  {
   "cell_type": "markdown",
   "id": "written-newspaper",
   "metadata": {},
   "source": [
    "---"
   ]
  },
  {
   "cell_type": "markdown",
   "id": "enabling-recruitment",
   "metadata": {},
   "source": [
    "**Soru 3:**\n",
    "\n",
    "Ekrana yıldızlardan oluşmuş bir ikizkenar dik üçgen çizen bir fonksiyon yazın. <br>\n",
    "Fonksiyon parametre olarak üçgenin dik bir kenarında bulunan yıldız sayısını alsın. <br>\n",
    "Diyelim ki kullanıcı 5 olarak girdi sayıyı, o zaman üçgen şu şekilde olur.<br>\n",
    "<pre>\n",
    "*\n",
    "* *\n",
    "* * *\n",
    "* * * * \n",
    "* * * * *\n",
    "</pre>\n",
    "Bunun için iç içe **while** döngüleri kullananın."
   ]
  },
  {
   "cell_type": "code",
   "execution_count": 16,
   "id": "dependent-scanner",
   "metadata": {},
   "outputs": [],
   "source": [
    "# Çözüm 3:\n",
    "\n",
    "\n",
    "    "
   ]
  },
  {
   "cell_type": "code",
   "execution_count": 17,
   "id": "boring-nebraska",
   "metadata": {},
   "outputs": [
    {
     "name": "stdout",
     "output_type": "stream",
     "text": [
      "* \n",
      "* * \n",
      "* * * \n",
      "* * * * \n",
      "* * * * * \n"
     ]
    }
   ],
   "source": [
    "ucgen_while(5)"
   ]
  },
  {
   "cell_type": "code",
   "execution_count": 23,
   "id": "tutorial-karaoke",
   "metadata": {},
   "outputs": [
    {
     "name": "stdout",
     "output_type": "stream",
     "text": [
      "* \n",
      "* * \n",
      "* * * \n",
      "* * * * \n",
      "* * * * * \n",
      "* * * * * * \n",
      "* * * * * * * \n",
      "* * * * * * * * \n",
      "* * * * * * * * * \n",
      "* * * * * * * * * * \n",
      "* * * * * * * * * * * \n",
      "* * * * * * * * * * * * \n",
      "* * * * * * * * * * * * * \n",
      "* * * * * * * * * * * * * * \n",
      "* * * * * * * * * * * * * * * \n",
      "* * * * * * * * * * * * * * * * \n",
      "* * * * * * * * * * * * * * * * * \n",
      "* * * * * * * * * * * * * * * * * * \n",
      "* * * * * * * * * * * * * * * * * * * \n",
      "* * * * * * * * * * * * * * * * * * * * \n"
     ]
    }
   ],
   "source": [
    "ucgen_while(20)"
   ]
  },
  {
   "cell_type": "markdown",
   "id": "white-simpson",
   "metadata": {},
   "source": [
    "---"
   ]
  },
  {
   "cell_type": "markdown",
   "id": "strong-process",
   "metadata": {},
   "source": [
    "**Soru 4:**\n",
    "\n",
    "Ekrana yıldızlardan oluşmuş bir ikizkenar dik üçgen çizen bir fonksiyon yazın. <br>\n",
    "Fonksiyon parametre olarak üçgenin dik bir kenarında bulunan yıldız sayısını alsın. <br>\n",
    "Diyelim ki kullanıcı 5 olarak girdi sayıyı, o zaman üçgen şu şekilde olur.<br>\n",
    "<pre>\n",
    "*\n",
    "* *\n",
    "* * *\n",
    "* * * * \n",
    "* * * * *\n",
    "</pre>\n",
    "Bunun için iç içe **for** döngüleri kullananın."
   ]
  },
  {
   "cell_type": "code",
   "execution_count": 19,
   "id": "under-helena",
   "metadata": {},
   "outputs": [],
   "source": [
    "# Çözüm 4:\n",
    "\n"
   ]
  },
  {
   "cell_type": "code",
   "execution_count": 20,
   "id": "great-emperor",
   "metadata": {},
   "outputs": [
    {
     "name": "stdout",
     "output_type": "stream",
     "text": [
      "* \n",
      "* * \n",
      "* * * \n",
      "* * * * \n",
      "* * * * * \n"
     ]
    }
   ],
   "source": [
    "ucgen_for(5)"
   ]
  },
  {
   "cell_type": "code",
   "execution_count": 24,
   "id": "international-recommendation",
   "metadata": {},
   "outputs": [
    {
     "name": "stdout",
     "output_type": "stream",
     "text": [
      "* \n",
      "* * \n",
      "* * * \n",
      "* * * * \n",
      "* * * * * \n",
      "* * * * * * \n",
      "* * * * * * * \n",
      "* * * * * * * * \n",
      "* * * * * * * * * \n",
      "* * * * * * * * * * \n",
      "* * * * * * * * * * * \n",
      "* * * * * * * * * * * * \n",
      "* * * * * * * * * * * * * \n",
      "* * * * * * * * * * * * * * \n",
      "* * * * * * * * * * * * * * * \n",
      "* * * * * * * * * * * * * * * * \n",
      "* * * * * * * * * * * * * * * * * \n",
      "* * * * * * * * * * * * * * * * * * \n",
      "* * * * * * * * * * * * * * * * * * * \n",
      "* * * * * * * * * * * * * * * * * * * * \n"
     ]
    }
   ],
   "source": [
    "ucgen_for(20)"
   ]
  },
  {
   "cell_type": "markdown",
   "id": "timely-switzerland",
   "metadata": {},
   "source": [
    "---"
   ]
  },
  {
   "cell_type": "markdown",
   "id": "general-contributor",
   "metadata": {},
   "source": [
    "**Soru 5:**\n",
    "\n",
    "Ekrana yıldızlardan oluşmuş ters bir ikizkenar dik üçgen çizen bir fonksiyon yazın. <br>\n",
    "Fonksiyon parametre olarak üçgenin dik bir kenarında bulunan yıldız sayısını alsın. <br>\n",
    "Diyelim ki kullanıcı 5 olarak girdi sayıyı, o zaman üçgen şu şekilde olur.<br>\n",
    "<pre>\n",
    "* * * * *\n",
    "* * * *\n",
    "* * *\n",
    "* * \n",
    "* \n",
    "</pre>\n",
    "Bunun için iç içe **for** döngüleri kullananın."
   ]
  },
  {
   "cell_type": "code",
   "execution_count": 29,
   "id": "weekly-there",
   "metadata": {},
   "outputs": [],
   "source": [
    "# Çözüm 5:\n",
    "\n"
   ]
  },
  {
   "cell_type": "code",
   "execution_count": 30,
   "id": "invalid-surfing",
   "metadata": {},
   "outputs": [
    {
     "name": "stdout",
     "output_type": "stream",
     "text": [
      "* * * * * \n",
      "* * * * \n",
      "* * * \n",
      "* * \n",
      "* \n"
     ]
    }
   ],
   "source": [
    "ters_ucgen_for(5)"
   ]
  },
  {
   "cell_type": "markdown",
   "id": "suitable-copper",
   "metadata": {},
   "source": [
    "---"
   ]
  },
  {
   "cell_type": "markdown",
   "id": "conventional-revision",
   "metadata": {},
   "source": [
    "**Soru 6:**\n",
    "\n",
    "Ekrana yıldızlardan oluşmuş bir ikizkenar üçgen çizen bir fonksiyon yazın. <br>\n",
    "Fonksiyon parametre olarak bir sütundaki yıldız sayısını alsın. <br>\n",
    "Diyelim ki kullanıcı 5 olarak girdi sayıyı, o zaman üçgen şu şekilde olur.<br>\n",
    "<pre>\n",
    "*\n",
    "* *\n",
    "* * *\n",
    "* * * * \n",
    "* * * * *\n",
    "* * * *\n",
    "* * *\n",
    "* *\n",
    "*\n",
    "</pre>\n",
    "Bunun için iç içe **for** döngüleri kullananın."
   ]
  },
  {
   "cell_type": "code",
   "execution_count": 31,
   "id": "amazing-watts",
   "metadata": {},
   "outputs": [],
   "source": [
    "# Çözüm 6:\n",
    "\n",
    "\n",
    "    "
   ]
  },
  {
   "cell_type": "code",
   "execution_count": 32,
   "id": "recognized-wisdom",
   "metadata": {},
   "outputs": [
    {
     "name": "stdout",
     "output_type": "stream",
     "text": [
      "* \n",
      "* * \n",
      "* * * \n",
      "* * * * \n",
      "* * * * * \n",
      "* * * * * \n",
      "* * * * \n",
      "* * * \n",
      "* * \n",
      "* \n"
     ]
    }
   ],
   "source": [
    "ikizkenar_ucgen_for(5)"
   ]
  },
  {
   "cell_type": "markdown",
   "id": "plastic-memorial",
   "metadata": {},
   "source": [
    "Ama yukarıdaki fonksiyonun sonucunda bir sorun var. Ortadaki satır iki kere yazılmış yani kendini tekrar etmiş. Bunun sebebi hem ucgen_for() hem de ters_ucgen_for() fonksiyonlarının ikisinde de aynı sayırın olması.\n",
    "Birinden kaldırırsak sorun çözülür."
   ]
  },
  {
   "cell_type": "code",
   "execution_count": 37,
   "id": "cheap-superintendent",
   "metadata": {},
   "outputs": [],
   "source": []
  },
  {
   "cell_type": "code",
   "execution_count": 34,
   "id": "martial-mapping",
   "metadata": {},
   "outputs": [
    {
     "name": "stdout",
     "output_type": "stream",
     "text": [
      "* \n",
      "* * \n",
      "* * * \n",
      "* * * * \n",
      "* * * * * \n",
      "* * * * \n",
      "* * * \n",
      "* * \n",
      "* \n"
     ]
    }
   ],
   "source": [
    "ikizkenar_ucgen_for(5)"
   ]
  },
  {
   "cell_type": "code",
   "execution_count": 36,
   "id": "minor-kennedy",
   "metadata": {},
   "outputs": [
    {
     "name": "stdout",
     "output_type": "stream",
     "text": [
      "* \n",
      "* * \n",
      "* * * \n",
      "* * * * \n",
      "* * * * * \n",
      "* * * * * * \n",
      "* * * * * * * \n",
      "* * * * * * * * \n",
      "* * * * * * * * * \n",
      "* * * * * * * * * * \n",
      "* * * * * * * * * \n",
      "* * * * * * * * \n",
      "* * * * * * * \n",
      "* * * * * * \n",
      "* * * * * \n",
      "* * * * \n",
      "* * * \n",
      "* * \n",
      "* \n"
     ]
    }
   ],
   "source": [
    "ikizkenar_ucgen_for(10)"
   ]
  },
  {
   "cell_type": "markdown",
   "id": "adjacent-still",
   "metadata": {},
   "source": [
    "---"
   ]
  },
  {
   "cell_type": "markdown",
   "id": "terminal-direction",
   "metadata": {},
   "source": [
    "**Soru 7:**\n",
    "\n",
    "Parametre olarak kendisine verilen bir sayının asal sayı olup olmadığını dönen `bool` bir fonksiyon yazın. <br>\n",
    "Sayı asal ise True, asal değilse False dönecek."
   ]
  },
  {
   "cell_type": "code",
   "execution_count": 40,
   "id": "consecutive-portrait",
   "metadata": {},
   "outputs": [],
   "source": [
    "# Çözüm 7:\n",
    "\n",
    "\n",
    "    "
   ]
  },
  {
   "cell_type": "code",
   "execution_count": 44,
   "id": "wireless-wilson",
   "metadata": {},
   "outputs": [
    {
     "data": {
      "text/plain": [
       "True"
      ]
     },
     "execution_count": 44,
     "metadata": {},
     "output_type": "execute_result"
    }
   ],
   "source": [
    "# Şimdi fonksiyonu test edelim\n",
    "\n",
    "asal_mi(7)"
   ]
  },
  {
   "cell_type": "markdown",
   "id": "directed-survey",
   "metadata": {},
   "source": [
    "---"
   ]
  },
  {
   "cell_type": "markdown",
   "id": "tested-production",
   "metadata": {},
   "source": [
    "**Soru 8:**\n",
    "\n",
    "Parametre olarak kendisine verilen bir sayının bütün asal çarpanlarını bulan bir fonksiyon yazın."
   ]
  },
  {
   "cell_type": "code",
   "execution_count": 47,
   "id": "gentle-horror",
   "metadata": {},
   "outputs": [],
   "source": [
    "# Çözüm 8:\n",
    "\n",
    "\n"
   ]
  },
  {
   "cell_type": "code",
   "execution_count": 48,
   "id": "about-continent",
   "metadata": {},
   "outputs": [
    {
     "name": "stdout",
     "output_type": "stream",
     "text": [
      "2\n",
      "3\n"
     ]
    }
   ],
   "source": [
    "asal_carpanlar(24)"
   ]
  },
  {
   "cell_type": "code",
   "execution_count": 56,
   "id": "civilian-alcohol",
   "metadata": {},
   "outputs": [
    {
     "name": "stdout",
     "output_type": "stream",
     "text": [
      "2\n",
      "7\n"
     ]
    }
   ],
   "source": [
    "asal_carpanlar(98)"
   ]
  },
  {
   "cell_type": "markdown",
   "id": "portable-scoop",
   "metadata": {},
   "source": [
    "---"
   ]
  },
  {
   "cell_type": "markdown",
   "id": "trained-carrier",
   "metadata": {},
   "source": [
    "**Soru 9:**\n",
    "\n",
    "1'den 50'ye (ikisi de dahil) kadar olan sayılar üzerinde dönen bir fonksiyon yazın. <br>\n",
    "* 3'ün katları için sayının kendisi yerine \"Üj\" \n",
    "* 5'in katları için sayının kendisi yerine \"Bej\"\n",
    "* 3 ve 5'in ortak katları için ise sayının kendisi yerine \"ÜjBej\" yazsın."
   ]
  },
  {
   "cell_type": "code",
   "execution_count": 63,
   "id": "defined-outreach",
   "metadata": {},
   "outputs": [],
   "source": [
    "# Çözüm 9:\n",
    "\n",
    "\n",
    "            "
   ]
  },
  {
   "cell_type": "code",
   "execution_count": 64,
   "id": "numeric-ordinance",
   "metadata": {},
   "outputs": [
    {
     "name": "stdout",
     "output_type": "stream",
     "text": [
      "1\n",
      "2\n",
      "Üj\n",
      "4\n",
      "Bej\n",
      "Üj\n",
      "7\n",
      "8\n",
      "Üj\n",
      "Bej\n",
      "11\n",
      "Üj\n",
      "13\n",
      "14\n",
      "ÜjBej\n",
      "16\n",
      "17\n",
      "Üj\n",
      "19\n",
      "Bej\n",
      "Üj\n",
      "22\n",
      "23\n",
      "Üj\n",
      "Bej\n",
      "26\n",
      "Üj\n",
      "28\n",
      "29\n",
      "ÜjBej\n",
      "31\n",
      "32\n",
      "Üj\n",
      "34\n",
      "Bej\n",
      "Üj\n",
      "37\n",
      "38\n",
      "Üj\n",
      "Bej\n",
      "41\n",
      "Üj\n",
      "43\n",
      "44\n",
      "ÜjBej\n",
      "46\n",
      "47\n",
      "Üj\n",
      "49\n",
      "Bej\n"
     ]
    }
   ],
   "source": [
    "ujbej()"
   ]
  },
  {
   "cell_type": "markdown",
   "id": "color-bernard",
   "metadata": {},
   "source": [
    "---"
   ]
  },
  {
   "cell_type": "markdown",
   "id": "optional-murray",
   "metadata": {},
   "source": [
    "**Soru 10:**\n",
    "\n",
    "Girilen bir cümleyi önce kelimelerine ayıran, sonra da bu kelimelerdeki harflerin arasına '-' (tire) karakteri koyan bir fonksiyon yazın. Daha sonra kelimeleri de '__' (iki alt tire) karakteri ile birleştirsin.\n",
    "\n",
    "Ve birleşmiş yeni cümleyi kullanıcıya dönsün.\n",
    "\n",
    "* Cümleyi kelimelere parçalamak için split() fonksiyonunu kullanınız"
   ]
  },
  {
   "cell_type": "code",
   "execution_count": 105,
   "id": "dried-jesus",
   "metadata": {},
   "outputs": [],
   "source": [
    "# Çözüm 10:\n",
    "\n"
   ]
  },
  {
   "cell_type": "code",
   "execution_count": 106,
   "id": "inclusive-stage",
   "metadata": {},
   "outputs": [
    {
     "name": "stdout",
     "output_type": "stream",
     "text": [
      "B-u__o-l-d-u-k-ç-a__k-ı-s-a__b-i-r__c-ü-m-l-e-d-i-r-.\n"
     ]
    }
   ],
   "source": [
    "cumle = \"Bu oldukça kısa bir cümledir.\"\n",
    "birlesmis_cumle = cumle_birlestir(cumle)\n",
    "print(birlesmis_cumle)"
   ]
  }
 ],
 "metadata": {
  "kernelspec": {
   "display_name": "Python 3",
   "language": "python",
   "name": "python3"
  },
  "language_info": {
   "codemirror_mode": {
    "name": "ipython",
    "version": 3
   },
   "file_extension": ".py",
   "mimetype": "text/x-python",
   "name": "python",
   "nbconvert_exporter": "python",
   "pygments_lexer": "ipython3",
   "version": "3.8.5"
  }
 },
 "nbformat": 4,
 "nbformat_minor": 5
}
