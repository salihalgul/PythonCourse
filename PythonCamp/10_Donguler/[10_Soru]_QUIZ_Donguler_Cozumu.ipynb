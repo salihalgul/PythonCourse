{
 "cells": [
  {
   "cell_type": "markdown",
   "id": "voluntary-wagon",
   "metadata": {},
   "source": [
    "## [10 Soru] QUIZ - Döngüler"
   ]
  },
  {
   "cell_type": "markdown",
   "id": "active-teacher",
   "metadata": {},
   "source": [
    "**Soru 1:**\n",
    "\n",
    "Ekrana yıldızlardan oluşmuş bir kare çizen bir fonksiyon yazın. <br>\n",
    "Fonksiyon parametre olarak karenin bir kenarında bulunan yıldız sayısını alsın. <br>\n",
    "Diyelim ki kullanıcı 5 olarak girdi sayıyı, o zaman karenin 5 satırı ve her satırda 5 sütunu (yıldız) olur.<br>\n",
    "Bunun için iç içe **while** döngüleri kullananın."
   ]
  },
  {
   "cell_type": "code",
   "execution_count": 1,
   "id": "synthetic-hollow",
   "metadata": {},
   "outputs": [],
   "source": [
    "# Çözüm 1:\n",
    "\n",
    "# satırlar için bir döngü\n",
    "# sütunlar için, içerde ikinci bir döngü\n",
    "\n",
    "def kare_yildiz_while(n):\n",
    "    \"\"\"\n",
    "    Kare çizen fonksiyon.\n",
    "    Parametre: int n, satır ve sütun sayısı\n",
    "    \"\"\"\n",
    "    \n",
    "    # satır döngüsü\n",
    "    i = 0\n",
    "    while i < n:\n",
    "        yildizlar = \"\"\n",
    "        \n",
    "        # sütun döngüsü\n",
    "        j = 0\n",
    "        while j < n:\n",
    "            yildizlar += \"* \"\n",
    "            j += 1\n",
    "        \n",
    "        # yıldızları yazalım\n",
    "        print(yildizlar)\n",
    "        \n",
    "        i += 1\n",
    "            "
   ]
  },
  {
   "cell_type": "code",
   "execution_count": 3,
   "id": "supposed-aggregate",
   "metadata": {},
   "outputs": [
    {
     "name": "stdin",
     "output_type": "stream",
     "text": [
      "Yıldız sayısı giriniz: 20\n"
     ]
    },
    {
     "name": "stdout",
     "output_type": "stream",
     "text": [
      "* * * * * * * * * * * * * * * * * * * * \n",
      "* * * * * * * * * * * * * * * * * * * * \n",
      "* * * * * * * * * * * * * * * * * * * * \n",
      "* * * * * * * * * * * * * * * * * * * * \n",
      "* * * * * * * * * * * * * * * * * * * * \n",
      "* * * * * * * * * * * * * * * * * * * * \n",
      "* * * * * * * * * * * * * * * * * * * * \n",
      "* * * * * * * * * * * * * * * * * * * * \n",
      "* * * * * * * * * * * * * * * * * * * * \n",
      "* * * * * * * * * * * * * * * * * * * * \n",
      "* * * * * * * * * * * * * * * * * * * * \n",
      "* * * * * * * * * * * * * * * * * * * * \n",
      "* * * * * * * * * * * * * * * * * * * * \n",
      "* * * * * * * * * * * * * * * * * * * * \n",
      "* * * * * * * * * * * * * * * * * * * * \n",
      "* * * * * * * * * * * * * * * * * * * * \n",
      "* * * * * * * * * * * * * * * * * * * * \n",
      "* * * * * * * * * * * * * * * * * * * * \n",
      "* * * * * * * * * * * * * * * * * * * * \n",
      "* * * * * * * * * * * * * * * * * * * * \n"
     ]
    }
   ],
   "source": [
    "n = int(input(\"Yıldız sayısı giriniz:\"))\n",
    "kare_yildiz_while(n)"
   ]
  },
  {
   "cell_type": "markdown",
   "id": "large-render",
   "metadata": {},
   "source": [
    "---"
   ]
  },
  {
   "cell_type": "markdown",
   "id": "average-squad",
   "metadata": {},
   "source": [
    "**Soru 2:**\n",
    "\n",
    "Ekrana yıldızlardan oluşmuş bir kare çizen bir fonksiyon yazın. <br>\n",
    "Fonksiyon parametre olarak karenin bir kenarında bulunan yıldız sayısını alsın. <br>\n",
    "Diyelim ki kullanıcı 5 olarak girdi sayıyı, o zaman karenin 5 satırı ve her satırda 5 sütunu (yıldız) olur.<br>\n",
    "Bunun için iç içe **for** döngüleri kullananın."
   ]
  },
  {
   "cell_type": "code",
   "execution_count": 6,
   "id": "primary-anaheim",
   "metadata": {},
   "outputs": [],
   "source": [
    "# Çözüm 2:\n",
    "\n",
    "def kare_yildiz_for(n):\n",
    "    \"\"\"\n",
    "    Kare çizen fonksiyon.\n",
    "    Parametre: int n, satır ve sütun sayısı\n",
    "    \"\"\"\n",
    "    \n",
    "    # satır döngüsü\n",
    "    for i in range(n):\n",
    "        \n",
    "        yildizlar = \"\"\n",
    "        \n",
    "        # sütun döngüsü\n",
    "        for j in range(n):\n",
    "            yildizlar += \"* \"\n",
    "            \n",
    "        # yıldızları yaz\n",
    "        print(yildizlar)\n",
    "        "
   ]
  },
  {
   "cell_type": "code",
   "execution_count": 7,
   "id": "medieval-concept",
   "metadata": {},
   "outputs": [
    {
     "name": "stdin",
     "output_type": "stream",
     "text": [
      "Yıldız sayısı giriniz: 20\n"
     ]
    },
    {
     "name": "stdout",
     "output_type": "stream",
     "text": [
      "* * * * * * * * * * * * * * * * * * * * \n",
      "* * * * * * * * * * * * * * * * * * * * \n",
      "* * * * * * * * * * * * * * * * * * * * \n",
      "* * * * * * * * * * * * * * * * * * * * \n",
      "* * * * * * * * * * * * * * * * * * * * \n",
      "* * * * * * * * * * * * * * * * * * * * \n",
      "* * * * * * * * * * * * * * * * * * * * \n",
      "* * * * * * * * * * * * * * * * * * * * \n",
      "* * * * * * * * * * * * * * * * * * * * \n",
      "* * * * * * * * * * * * * * * * * * * * \n",
      "* * * * * * * * * * * * * * * * * * * * \n",
      "* * * * * * * * * * * * * * * * * * * * \n",
      "* * * * * * * * * * * * * * * * * * * * \n",
      "* * * * * * * * * * * * * * * * * * * * \n",
      "* * * * * * * * * * * * * * * * * * * * \n",
      "* * * * * * * * * * * * * * * * * * * * \n",
      "* * * * * * * * * * * * * * * * * * * * \n",
      "* * * * * * * * * * * * * * * * * * * * \n",
      "* * * * * * * * * * * * * * * * * * * * \n",
      "* * * * * * * * * * * * * * * * * * * * \n"
     ]
    }
   ],
   "source": [
    "n = int(input(\"Yıldız sayısı giriniz:\"))\n",
    "kare_yildiz_for(n)"
   ]
  },
  {
   "cell_type": "markdown",
   "id": "straight-reform",
   "metadata": {},
   "source": [
    "---"
   ]
  },
  {
   "cell_type": "markdown",
   "id": "structured-windsor",
   "metadata": {},
   "source": [
    "**Soru 3:**\n",
    "\n",
    "Ekrana yıldızlardan oluşmuş bir ikizkenar dik üçgen çizen bir fonksiyon yazın. <br>\n",
    "Fonksiyon parametre olarak üçgenin dik bir kenarında bulunan yıldız sayısını alsın. <br>\n",
    "Diyelim ki kullanıcı 5 olarak girdi sayıyı, o zaman üçgen şu şekilde olur.<br>\n",
    "<pre>\n",
    "*\n",
    "* *\n",
    "* * *\n",
    "* * * * \n",
    "* * * * *\n",
    "</pre>\n",
    "Bunun için iç içe **while** döngüleri kullananın."
   ]
  },
  {
   "cell_type": "code",
   "execution_count": 8,
   "id": "departmental-dylan",
   "metadata": {},
   "outputs": [],
   "source": [
    "# Çözüm 3:\n",
    "\n",
    "def ucgen_while(n):\n",
    "    \n",
    "    # satır döngüsü\n",
    "    i = 0  # initialize\n",
    "    while i < n:\n",
    "        \n",
    "        yildizlar = \"\"\n",
    "        \n",
    "        # sütun döngüsü\n",
    "        j = 0\n",
    "        while j <= i:\n",
    "            yildizlar += \"* \"\n",
    "            j += 1\n",
    "            \n",
    "        print(yildizlar)\n",
    "        \n",
    "        i += 1\n",
    "    "
   ]
  },
  {
   "cell_type": "code",
   "execution_count": 9,
   "id": "lucky-password",
   "metadata": {},
   "outputs": [
    {
     "name": "stdout",
     "output_type": "stream",
     "text": [
      "* \n",
      "* * \n",
      "* * * \n",
      "* * * * \n",
      "* * * * * \n"
     ]
    }
   ],
   "source": [
    "ucgen_while(5)"
   ]
  },
  {
   "cell_type": "code",
   "execution_count": 11,
   "id": "affiliated-basket",
   "metadata": {},
   "outputs": [
    {
     "name": "stdout",
     "output_type": "stream",
     "text": [
      "* \n",
      "* * \n",
      "* * * \n",
      "* * * * \n",
      "* * * * * \n",
      "* * * * * * \n",
      "* * * * * * * \n",
      "* * * * * * * * \n",
      "* * * * * * * * * \n",
      "* * * * * * * * * * \n",
      "* * * * * * * * * * * \n",
      "* * * * * * * * * * * * \n",
      "* * * * * * * * * * * * * \n",
      "* * * * * * * * * * * * * * \n",
      "* * * * * * * * * * * * * * * \n",
      "* * * * * * * * * * * * * * * * \n",
      "* * * * * * * * * * * * * * * * * \n",
      "* * * * * * * * * * * * * * * * * * \n",
      "* * * * * * * * * * * * * * * * * * * \n",
      "* * * * * * * * * * * * * * * * * * * * \n"
     ]
    }
   ],
   "source": [
    "ucgen_while(20)"
   ]
  },
  {
   "cell_type": "markdown",
   "id": "contained-fight",
   "metadata": {},
   "source": [
    "---"
   ]
  },
  {
   "cell_type": "markdown",
   "id": "distributed-planner",
   "metadata": {},
   "source": [
    "**Soru 4:**\n",
    "\n",
    "Ekrana yıldızlardan oluşmuş bir ikizkenar dik üçgen çizen bir fonksiyon yazın. <br>\n",
    "Fonksiyon parametre olarak üçgenin dik bir kenarında bulunan yıldız sayısını alsın. <br>\n",
    "Diyelim ki kullanıcı 5 olarak girdi sayıyı, o zaman üçgen şu şekilde olur.<br>\n",
    "<pre>\n",
    "*\n",
    "* *\n",
    "* * *\n",
    "* * * * \n",
    "* * * * *\n",
    "</pre>\n",
    "Bunun için iç içe **for** döngüleri kullananın."
   ]
  },
  {
   "cell_type": "code",
   "execution_count": 12,
   "id": "palestinian-venture",
   "metadata": {},
   "outputs": [],
   "source": [
    "# Çözüm 4:\n",
    "\n",
    "def ucgen_for(n):\n",
    "    \n",
    "    # satır döngüsü\n",
    "    for i in range(n):\n",
    "        \n",
    "        yildizlar = \"\"\n",
    "        \n",
    "        # sütun döngüsü\n",
    "        for j in range(i+1):\n",
    "            yildizlar += \"* \"\n",
    "            \n",
    "        print(yildizlar)\n"
   ]
  },
  {
   "cell_type": "code",
   "execution_count": 13,
   "id": "dramatic-region",
   "metadata": {},
   "outputs": [
    {
     "name": "stdout",
     "output_type": "stream",
     "text": [
      "* \n",
      "* * \n",
      "* * * \n",
      "* * * * \n",
      "* * * * * \n"
     ]
    }
   ],
   "source": [
    "ucgen_for(5)"
   ]
  },
  {
   "cell_type": "code",
   "execution_count": 15,
   "id": "confirmed-dietary",
   "metadata": {},
   "outputs": [
    {
     "name": "stdout",
     "output_type": "stream",
     "text": [
      "* \n",
      "* * \n",
      "* * * \n",
      "* * * * \n",
      "* * * * * \n",
      "* * * * * * \n",
      "* * * * * * * \n",
      "* * * * * * * * \n",
      "* * * * * * * * * \n",
      "* * * * * * * * * * \n",
      "* * * * * * * * * * * \n",
      "* * * * * * * * * * * * \n",
      "* * * * * * * * * * * * * \n",
      "* * * * * * * * * * * * * * \n",
      "* * * * * * * * * * * * * * * \n",
      "* * * * * * * * * * * * * * * * \n",
      "* * * * * * * * * * * * * * * * * \n",
      "* * * * * * * * * * * * * * * * * * \n",
      "* * * * * * * * * * * * * * * * * * * \n",
      "* * * * * * * * * * * * * * * * * * * * \n"
     ]
    }
   ],
   "source": [
    "ucgen_for(20)"
   ]
  },
  {
   "cell_type": "markdown",
   "id": "employed-toddler",
   "metadata": {},
   "source": [
    "---"
   ]
  },
  {
   "cell_type": "markdown",
   "id": "seven-translation",
   "metadata": {},
   "source": [
    "**Soru 5:**\n",
    "\n",
    "Ekrana yıldızlardan oluşmuş ters bir ikizkenar dik üçgen çizen bir fonksiyon yazın. <br>\n",
    "Fonksiyon parametre olarak üçgenin dik bir kenarında bulunan yıldız sayısını alsın. <br>\n",
    "Diyelim ki kullanıcı 5 olarak girdi sayıyı, o zaman üçgen şu şekilde olur.<br>\n",
    "<pre>\n",
    "* * * * *\n",
    "* * * *\n",
    "* * *\n",
    "* * \n",
    "* \n",
    "</pre>\n",
    "Bunun için iç içe **for** döngüleri kullananın."
   ]
  },
  {
   "cell_type": "code",
   "execution_count": 16,
   "id": "supported-actress",
   "metadata": {},
   "outputs": [],
   "source": [
    "# Çözüm 5:\n",
    "\n",
    "def ters_ucgen_for(n):\n",
    "    \n",
    "    # satır döngüsü\n",
    "    for i in range(n, 0, -1):\n",
    "        \n",
    "        yildizlar = \"\"\n",
    "        \n",
    "        # sütun döngüsü\n",
    "        for j in range(i):\n",
    "            yildizlar += \"* \"\n",
    "            \n",
    "        print(yildizlar)\n"
   ]
  },
  {
   "cell_type": "code",
   "execution_count": 20,
   "id": "pharmaceutical-shooting",
   "metadata": {},
   "outputs": [
    {
     "name": "stdout",
     "output_type": "stream",
     "text": [
      "* * * * * \n",
      "* * * * \n",
      "* * * \n",
      "* * \n",
      "* \n"
     ]
    }
   ],
   "source": [
    "ters_ucgen_for(5)"
   ]
  },
  {
   "cell_type": "markdown",
   "id": "useful-presentation",
   "metadata": {},
   "source": [
    "---"
   ]
  },
  {
   "cell_type": "markdown",
   "id": "enabling-violin",
   "metadata": {},
   "source": [
    "**Soru 6:**\n",
    "\n",
    "Ekrana yıldızlardan oluşmuş bir ikizkenar üçgen çizen bir fonksiyon yazın. <br>\n",
    "Fonksiyon parametre olarak bir sütundaki yıldız sayısını alsın. <br>\n",
    "Diyelim ki kullanıcı 5 olarak girdi sayıyı, o zaman üçgen şu şekilde olur.<br>\n",
    "<pre>\n",
    "*\n",
    "* *\n",
    "* * *\n",
    "* * * * \n",
    "* * * * *\n",
    "* * * *\n",
    "* * *\n",
    "* *\n",
    "*\n",
    "</pre>\n",
    "Bunun için iç içe **for** döngüleri kullananın."
   ]
  },
  {
   "cell_type": "code",
   "execution_count": 23,
   "id": "minute-section",
   "metadata": {},
   "outputs": [],
   "source": [
    "# Çözüm 6:\n",
    "\n",
    "# Bu fonksiyonu sıfırdan yazmak yerine, daha önce tanımladığımız iki ucgen fonksiyonunu çağırabiliriz\n",
    "\n",
    "def ikizkenar_ucgen_for(n):\n",
    "    \n",
    "    # üstteki üçgen\n",
    "    ucgen_for(n)\n",
    "    \n",
    "    # alltaki üçgen\n",
    "    ters_ucgen_for(n)\n",
    "    "
   ]
  },
  {
   "cell_type": "code",
   "execution_count": 24,
   "id": "civic-crown",
   "metadata": {},
   "outputs": [
    {
     "name": "stdout",
     "output_type": "stream",
     "text": [
      "* \n",
      "* * \n",
      "* * * \n",
      "* * * * \n",
      "* * * * * \n",
      "* * * * * \n",
      "* * * * \n",
      "* * * \n",
      "* * \n",
      "* \n"
     ]
    }
   ],
   "source": [
    "ikizkenar_ucgen_for(5)"
   ]
  },
  {
   "cell_type": "markdown",
   "id": "separated-unknown",
   "metadata": {},
   "source": [
    "Ama yukarıdaki fonksiyonun sonucunda bir sorun var. Ortadaki satır iki kere yazılmış yani kendini tekrar etmiş. Bunun sebebi hem ucgen_for() hem de ters_ucgen_for() fonksiyonlarının ikisinde de aynı sayırın olması.\n",
    "Birinden kaldırırsak sorun çözülür."
   ]
  },
  {
   "cell_type": "code",
   "execution_count": 25,
   "id": "alpha-packaging",
   "metadata": {},
   "outputs": [],
   "source": [
    "def ikizkenar_ucgen_for(n):\n",
    "    \n",
    "    # üstteki üçgen\n",
    "    ucgen_for(n-1)\n",
    "    \n",
    "    # alltaki üçgen\n",
    "    ters_ucgen_for(n)"
   ]
  },
  {
   "cell_type": "code",
   "execution_count": 26,
   "id": "hungry-illinois",
   "metadata": {},
   "outputs": [
    {
     "name": "stdout",
     "output_type": "stream",
     "text": [
      "* \n",
      "* * \n",
      "* * * \n",
      "* * * * \n",
      "* * * * * \n",
      "* * * * \n",
      "* * * \n",
      "* * \n",
      "* \n"
     ]
    }
   ],
   "source": [
    "ikizkenar_ucgen_for(5)"
   ]
  },
  {
   "cell_type": "code",
   "execution_count": 29,
   "id": "rough-supervision",
   "metadata": {},
   "outputs": [
    {
     "name": "stdout",
     "output_type": "stream",
     "text": [
      "* \n",
      "* * \n",
      "* * * \n",
      "* * * * \n",
      "* * * * * \n",
      "* * * * * * \n",
      "* * * * * * * \n",
      "* * * * * * * * \n",
      "* * * * * * * * * \n",
      "* * * * * * * * * * \n",
      "* * * * * * * * * \n",
      "* * * * * * * * \n",
      "* * * * * * * \n",
      "* * * * * * \n",
      "* * * * * \n",
      "* * * * \n",
      "* * * \n",
      "* * \n",
      "* \n"
     ]
    }
   ],
   "source": [
    "ikizkenar_ucgen_for(10)"
   ]
  },
  {
   "cell_type": "markdown",
   "id": "subtle-coast",
   "metadata": {},
   "source": [
    "---"
   ]
  },
  {
   "cell_type": "markdown",
   "id": "excellent-simon",
   "metadata": {},
   "source": [
    "**Soru 7:**\n",
    "\n",
    "Parametre olarak kendisine verilen bir sayının asal sayı olup olmadığını dönen `bool` bir fonksiyon yazın. <br>\n",
    "Sayı asal ise True, asal değilse False dönecek."
   ]
  },
  {
   "cell_type": "code",
   "execution_count": 30,
   "id": "aging-credit",
   "metadata": {},
   "outputs": [],
   "source": [
    "# Çözüm 7:\n",
    "\n",
    "def asal_mi(n):\n",
    "    \"\"\"\n",
    "    Bir sayının asal olup olmadığını veren fonksiyon.\n",
    "    Parametre: int n \n",
    "    Dönüş: True (asal ise), False (asal değilse)\n",
    "    \"\"\"\n",
    "    \n",
    "    asal = True\n",
    "    \n",
    "    for i in range(2, n):\n",
    "        # 0'dan ve 1'den başlamasını istemedik\n",
    "        # 2 ile başlıyoruz\n",
    "        \n",
    "        # eğer n, sayısı, i sayısına bölünüyorsa asal değildir\n",
    "        if n % i == 0:\n",
    "            asal = False\n",
    "            \n",
    "    return asal    \n",
    "    "
   ]
  },
  {
   "cell_type": "code",
   "execution_count": 32,
   "id": "virtual-waters",
   "metadata": {},
   "outputs": [
    {
     "data": {
      "text/plain": [
       "True"
      ]
     },
     "execution_count": 32,
     "metadata": {},
     "output_type": "execute_result"
    }
   ],
   "source": [
    "# Şimdi fonksiyonu test edelim\n",
    "\n",
    "asal_mi(7)"
   ]
  },
  {
   "cell_type": "code",
   "execution_count": 34,
   "id": "representative-virginia",
   "metadata": {},
   "outputs": [
    {
     "data": {
      "text/plain": [
       "False"
      ]
     },
     "execution_count": 34,
     "metadata": {},
     "output_type": "execute_result"
    }
   ],
   "source": [
    "asal_mi(18)"
   ]
  },
  {
   "cell_type": "code",
   "execution_count": 35,
   "id": "improving-swiss",
   "metadata": {},
   "outputs": [
    {
     "data": {
      "text/plain": [
       "True"
      ]
     },
     "execution_count": 35,
     "metadata": {},
     "output_type": "execute_result"
    }
   ],
   "source": [
    "asal_mi(17)"
   ]
  },
  {
   "cell_type": "markdown",
   "id": "lasting-forty",
   "metadata": {},
   "source": [
    "---"
   ]
  },
  {
   "cell_type": "markdown",
   "id": "excited-satisfaction",
   "metadata": {},
   "source": [
    "**Soru 8:**\n",
    "\n",
    "Parametre olarak kendisine verilen bir sayının bütün asal çarpanlarını bulan bir fonksiyon yazın."
   ]
  },
  {
   "cell_type": "code",
   "execution_count": 36,
   "id": "weighted-acrylic",
   "metadata": {},
   "outputs": [],
   "source": [
    "# Çözüm 8:\n",
    "\n",
    "def asal_carpanlar(n):\n",
    "    \n",
    "    for i in range(2, n):\n",
    "        \n",
    "        # n sayısı, i'ye tam bölünüyorsa -> i, n'in çarpanı demektir\n",
    "        if n % i == 0:\n",
    "            \n",
    "            # yazdırmadan önce -> asal mı diye bakalım\n",
    "            if asal_mi(i):  # fonksiyonel programlama\n",
    "                print(i)\n"
   ]
  },
  {
   "cell_type": "code",
   "execution_count": 37,
   "id": "inappropriate-pottery",
   "metadata": {},
   "outputs": [
    {
     "name": "stdout",
     "output_type": "stream",
     "text": [
      "2\n",
      "3\n"
     ]
    }
   ],
   "source": [
    "asal_carpanlar(24)"
   ]
  },
  {
   "cell_type": "code",
   "execution_count": 39,
   "id": "detected-buddy",
   "metadata": {},
   "outputs": [
    {
     "name": "stdout",
     "output_type": "stream",
     "text": [
      "2\n",
      "7\n"
     ]
    }
   ],
   "source": [
    "asal_carpanlar(98)"
   ]
  },
  {
   "cell_type": "code",
   "execution_count": 41,
   "id": "alone-memorabilia",
   "metadata": {},
   "outputs": [
    {
     "name": "stdout",
     "output_type": "stream",
     "text": [
      "2\n",
      "3\n"
     ]
    }
   ],
   "source": [
    "asal_carpanlar(18)"
   ]
  },
  {
   "cell_type": "markdown",
   "id": "rising-seeker",
   "metadata": {},
   "source": [
    "---"
   ]
  },
  {
   "cell_type": "markdown",
   "id": "german-atlas",
   "metadata": {},
   "source": [
    "**Soru 9:**\n",
    "\n",
    "1'den 50'ye (ikisi de dahil) kadar olan sayılar üzerinde dönen bir fonksiyon yazın. <br>\n",
    "* 3'ün katları için sayının kendisi yerine \"Üj\" \n",
    "* 5'in katları için sayının kendisi yerine \"Bej\"\n",
    "* 3 ve 5'in ortak katları için ise sayının kendisi yerine \"ÜjBej\" yazsın."
   ]
  },
  {
   "cell_type": "code",
   "execution_count": 42,
   "id": "asian-communication",
   "metadata": {},
   "outputs": [],
   "source": [
    "# Çözüm 9:\n",
    "\n",
    "# bu fonksiyonda büyükten küçüğe gideceğiz\n",
    "# önce hem 3 hem de 5'e bölünürse\n",
    "# ardından ayrı ayrı 3 ve 5'e bölünürmü diye bakıcaz\n",
    "\n",
    "def ujbej():\n",
    "    \n",
    "    uj = \"Üj\"\n",
    "    bej = \"Bej\"\n",
    "    \n",
    "    for i in range(1, 51):\n",
    "        \n",
    "        # hem 3 hem de 5\n",
    "        if i % 3 == 0 and i % 5 == 0:\n",
    "            print(uj+bej)\n",
    "        elif i % 3 == 0:\n",
    "            print(uj)\n",
    "        elif i % 5 == 0:\n",
    "            print(bej)\n",
    "        else:\n",
    "            print(i)\n",
    "            "
   ]
  },
  {
   "cell_type": "code",
   "execution_count": 43,
   "id": "union-mainstream",
   "metadata": {},
   "outputs": [
    {
     "name": "stdout",
     "output_type": "stream",
     "text": [
      "1\n",
      "2\n",
      "Üj\n",
      "4\n",
      "Bej\n",
      "Üj\n",
      "7\n",
      "8\n",
      "Üj\n",
      "Bej\n",
      "11\n",
      "Üj\n",
      "13\n",
      "14\n",
      "ÜjBej\n",
      "16\n",
      "17\n",
      "Üj\n",
      "19\n",
      "Bej\n",
      "Üj\n",
      "22\n",
      "23\n",
      "Üj\n",
      "Bej\n",
      "26\n",
      "Üj\n",
      "28\n",
      "29\n",
      "ÜjBej\n",
      "31\n",
      "32\n",
      "Üj\n",
      "34\n",
      "Bej\n",
      "Üj\n",
      "37\n",
      "38\n",
      "Üj\n",
      "Bej\n",
      "41\n",
      "Üj\n",
      "43\n",
      "44\n",
      "ÜjBej\n",
      "46\n",
      "47\n",
      "Üj\n",
      "49\n",
      "Bej\n"
     ]
    }
   ],
   "source": [
    "ujbej()"
   ]
  },
  {
   "cell_type": "markdown",
   "id": "intermediate-mission",
   "metadata": {},
   "source": [
    "---"
   ]
  },
  {
   "cell_type": "markdown",
   "id": "offensive-shuttle",
   "metadata": {},
   "source": [
    "**Soru 10:**\n",
    "\n",
    "Girilen bir cümleyi önce kelimelerine ayıran, sonra da bu kelimelerdeki harflerin arasına '-' (tire) karakteri koyan bir fonksiyon yazın. Daha sonra kelimeleri de '__' (iki alt tire) karakteri ile birleştirsin.\n",
    "\n",
    "Ve birleşmiş yeni cümleyi kullanıcıya dönsün.\n",
    "\n",
    "* Cümleyi kelimelere parçalamak için split() fonksiyonunu kullanınız"
   ]
  },
  {
   "cell_type": "code",
   "execution_count": 56,
   "id": "incorporate-election",
   "metadata": {},
   "outputs": [],
   "source": [
    "# Çözüm 10:\n",
    "\n",
    "def cumle_birlestir(cumle):\n",
    "    \n",
    "    kelimeler = cumle.split()  # split() -> boşluk karakterinden keser\n",
    "    \n",
    "    # birleşmiş cümleyi tutan değişken\n",
    "    birlesmis_cumle = \"\"\n",
    "    \n",
    "    # döngü 1 -> kelimeler üzerinde dön\n",
    "    for kelime_index, kelime in enumerate(kelimeler):\n",
    "        \n",
    "        # print(kelime)\n",
    "        \n",
    "        # birleşmiş kelimeyi tuttuğumuz değişken tanımla\n",
    "        birlesmis_kelime = \"\"\n",
    "        \n",
    "        # döngü 2: kelime içindeki harflerde döner\n",
    "        for harf_index, harf in enumerate(kelime):\n",
    "            # print(harf)\n",
    "            \n",
    "            # harf'i ekle\n",
    "            birlesmis_kelime += harf\n",
    "            \n",
    "            # tire '-' ekle -> sonuncusuna ekleme\n",
    "            if harf_index < len(kelime) - 1:\n",
    "                birlesmis_kelime += \"-\"\n",
    "    \n",
    "        # print(birlesmis_kelime)\n",
    "        \n",
    "        # birleşmiş kelimeyi -> birleşmiş cümleye ekle\n",
    "        birlesmis_cumle += birlesmis_kelime\n",
    "        \n",
    "        # son kelime değilse -> __ ekle\n",
    "        if kelime_index < len(kelimeler) - 1:\n",
    "            birlesmis_cumle += \"__\"\n",
    "        \n",
    "    return birlesmis_cumle\n"
   ]
  },
  {
   "cell_type": "code",
   "execution_count": 58,
   "id": "unlimited-ebony",
   "metadata": {},
   "outputs": [
    {
     "name": "stdout",
     "output_type": "stream",
     "text": [
      "B-u__o-l-d-u-k-ç-a__k-ı-s-a__b-i-r__c-ü-m-l-e-d-i-r-.\n"
     ]
    }
   ],
   "source": [
    "cumle = \"Bu oldukça kısa bir cümledir.\"\n",
    "birlesmis_cumle = cumle_birlestir(cumle)\n",
    "print(birlesmis_cumle)"
   ]
  },
  {
   "cell_type": "code",
   "execution_count": null,
   "id": "large-ceremony",
   "metadata": {},
   "outputs": [],
   "source": []
  }
 ],
 "metadata": {
  "kernelspec": {
   "display_name": "Python 3",
   "language": "python",
   "name": "python3"
  },
  "language_info": {
   "codemirror_mode": {
    "name": "ipython",
    "version": 3
   },
   "file_extension": ".py",
   "mimetype": "text/x-python",
   "name": "python",
   "nbconvert_exporter": "python",
   "pygments_lexer": "ipython3",
   "version": "3.8.5"
  }
 },
 "nbformat": 4,
 "nbformat_minor": 5
}
