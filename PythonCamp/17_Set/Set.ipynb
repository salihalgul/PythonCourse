{
 "cells": [
  {
   "cell_type": "markdown",
   "id": "practical-environment",
   "metadata": {},
   "source": [
    "# Set"
   ]
  },
  {
   "cell_type": "markdown",
   "id": "concrete-wings",
   "metadata": {},
   "source": [
    "### Set Yaratma"
   ]
  },
  {
   "cell_type": "markdown",
   "id": "chicken-montgomery",
   "metadata": {},
   "source": [
    "Şimdiye kadar, List, Dictionary ve Tuple tiplerini işledik. Şimdi sıra geldi, bir diğer hazır Python Data Structer (Veri Yapısı) olan Set (Küme) tipine."
   ]
  },
  {
   "cell_type": "markdown",
   "id": "processed-contact",
   "metadata": {},
   "source": [
    "* Set'ler birden çok değeri tek bir değişkende tutmak için kullanılır.\n",
    "* Set'ler sırasız (unordered) ve indexlenmemiş (unindexed) koleksiyonlardır.\n",
    "* Set'ler iki şekilde yaratılır:\n",
    "    * süslü parantez ile (ama içine eleman vererek)\n",
    "    * `set()` constructor'ı ile\n",
    "* Set'in elemanları tekildir. (Matematikteki Kümeler gibi)"
   ]
  },
  {
   "cell_type": "markdown",
   "id": "terminal-establishment",
   "metadata": {},
   "source": [
    "**Süslü Parantez ile {} Set Yaratmak**"
   ]
  },
  {
   "cell_type": "code",
   "execution_count": 2,
   "id": "utility-cisco",
   "metadata": {},
   "outputs": [
    {
     "data": {
      "text/plain": [
       "dict"
      ]
     },
     "execution_count": 2,
     "metadata": {},
     "output_type": "execute_result"
    }
   ],
   "source": [
    "# Set Yaratma\n",
    "\n",
    "# süslü parantez ile \n",
    "# ama süslü parantez boş olursa -> dicitonary yaratır\n",
    "# süslü parantez içerisine eleman vermek lazım\n",
    "\n",
    "kume = {}\n",
    "type(kume)"
   ]
  },
  {
   "cell_type": "code",
   "execution_count": 3,
   "id": "general-failure",
   "metadata": {},
   "outputs": [
    {
     "data": {
      "text/plain": [
       "{'at', 'kedi', 'köpek', 'tavşan'}"
      ]
     },
     "execution_count": 3,
     "metadata": {},
     "output_type": "execute_result"
    }
   ],
   "source": [
    "kume = {'at', 'kedi', 'köpek', 'at', 'tavşan', 'kedi'}\n",
    "kume"
   ]
  },
  {
   "cell_type": "code",
   "execution_count": 4,
   "id": "quality-encyclopedia",
   "metadata": {},
   "outputs": [
    {
     "data": {
      "text/plain": [
       "set"
      ]
     },
     "execution_count": 4,
     "metadata": {},
     "output_type": "execute_result"
    }
   ],
   "source": [
    "type(kume)"
   ]
  },
  {
   "cell_type": "markdown",
   "id": "printable-flash",
   "metadata": {},
   "source": [
    "**set()** constructor'ı ile küme yaratmak:"
   ]
  },
  {
   "cell_type": "code",
   "execution_count": 5,
   "id": "parliamentary-interest",
   "metadata": {},
   "outputs": [
    {
     "data": {
      "text/plain": [
       "{'A', 'B', 'C', 'D', 'E'}"
      ]
     },
     "execution_count": 5,
     "metadata": {},
     "output_type": "execute_result"
    }
   ],
   "source": [
    "# set() -> set({})\n",
    "\n",
    "harfler = set({'A', 'B', 'C', 'D', 'E'})\n",
    "harfler"
   ]
  },
  {
   "cell_type": "code",
   "execution_count": 6,
   "id": "starting-contact",
   "metadata": {},
   "outputs": [
    {
     "data": {
      "text/plain": [
       "set"
      ]
     },
     "execution_count": 6,
     "metadata": {},
     "output_type": "execute_result"
    }
   ],
   "source": [
    "type(harfler)"
   ]
  },
  {
   "cell_type": "markdown",
   "id": "bronze-registrar",
   "metadata": {},
   "source": [
    "**Set içinde aynı eleman birden fazla yer alamaz.**"
   ]
  },
  {
   "cell_type": "code",
   "execution_count": 7,
   "id": "rising-seeker",
   "metadata": {},
   "outputs": [
    {
     "name": "stdout",
     "output_type": "stream",
     "text": [
      "['A', 'A', 'B', 'C', 'B', 'C']\n",
      "{'A', 'B', 'C'}\n"
     ]
    }
   ],
   "source": [
    "notlar = ['A', 'A', 'B', 'C', 'B', 'C']\n",
    "print(notlar)\n",
    "\n",
    "notlar_seti = set(notlar)\n",
    "\n",
    "print(notlar_seti)"
   ]
  },
  {
   "cell_type": "code",
   "execution_count": 8,
   "id": "welsh-expert",
   "metadata": {},
   "outputs": [
    {
     "name": "stdout",
     "output_type": "stream",
     "text": [
      "{'l', 'P', 'o', 'h', 'e', 'r', ' ', 'p', 'T', 't', 'n', 'V', 'i', 'y'}\n"
     ]
    }
   ],
   "source": [
    "metin = 'Python Veri Tipleri'\n",
    "\n",
    "print(set(metin))"
   ]
  },
  {
   "cell_type": "markdown",
   "id": "musical-recipient",
   "metadata": {},
   "source": [
    "**Önemli:** Set'ler sırasız yapılardır. Sıra aranmaz. Index de yoktur."
   ]
  },
  {
   "cell_type": "code",
   "execution_count": 9,
   "id": "covered-internship",
   "metadata": {},
   "outputs": [
    {
     "data": {
      "text/plain": [
       "{'A', 'B', 'C'}"
      ]
     },
     "execution_count": 9,
     "metadata": {},
     "output_type": "execute_result"
    }
   ],
   "source": [
    "notlar_seti"
   ]
  },
  {
   "cell_type": "code",
   "execution_count": 10,
   "id": "perfect-circle",
   "metadata": {},
   "outputs": [
    {
     "ename": "TypeError",
     "evalue": "'set' object is not subscriptable",
     "output_type": "error",
     "traceback": [
      "\u001b[1;31m---------------------------------------------------------------------------\u001b[0m",
      "\u001b[1;31mTypeError\u001b[0m                                 Traceback (most recent call last)",
      "\u001b[1;32m<ipython-input-10-b657a1d840b4>\u001b[0m in \u001b[0;36m<module>\u001b[1;34m\u001b[0m\n\u001b[1;32m----> 1\u001b[1;33m \u001b[0mnotlar_seti\u001b[0m\u001b[1;33m[\u001b[0m\u001b[1;36m0\u001b[0m\u001b[1;33m]\u001b[0m\u001b[1;33m\u001b[0m\u001b[1;33m\u001b[0m\u001b[0m\n\u001b[0m",
      "\u001b[1;31mTypeError\u001b[0m: 'set' object is not subscriptable"
     ]
    }
   ],
   "source": [
    "notlar_seti[0]"
   ]
  },
  {
   "cell_type": "markdown",
   "id": "advised-accountability",
   "metadata": {},
   "source": [
    "### Set Metodları"
   ]
  },
  {
   "cell_type": "markdown",
   "id": "individual-planning",
   "metadata": {},
   "source": [
    "**Kesişim:**\n",
    "\n",
    "İki set'in (kümenin) ortak elemanlarını bulmak -> Kesişim Kümesi -> intersection\n",
    "\n",
    "$$ A \\cap B $$"
   ]
  },
  {
   "cell_type": "code",
   "execution_count": 13,
   "id": "acoustic-messenger",
   "metadata": {},
   "outputs": [
    {
     "name": "stdout",
     "output_type": "stream",
     "text": [
      "{'A', 'B', 'C'}\n"
     ]
    }
   ],
   "source": [
    "notlar = ['A', 'A', 'B', 'C', 'B', 'C']\n",
    "notlar = set(notlar)\n",
    "print(notlar)"
   ]
  },
  {
   "cell_type": "code",
   "execution_count": 14,
   "id": "formed-alliance",
   "metadata": {},
   "outputs": [
    {
     "name": "stdout",
     "output_type": "stream",
     "text": [
      "{'A', 'F', 'T', 'B', 'L'}\n"
     ]
    }
   ],
   "source": [
    "dereceler = ['A', 'L', 'T', 'B', 'F']\n",
    "dereceler = set(dereceler)\n",
    "print(dereceler)"
   ]
  },
  {
   "cell_type": "code",
   "execution_count": 15,
   "id": "purple-carter",
   "metadata": {},
   "outputs": [
    {
     "data": {
      "text/plain": [
       "{'A', 'B'}"
      ]
     },
     "execution_count": 15,
     "metadata": {},
     "output_type": "execute_result"
    }
   ],
   "source": [
    "notlar.intersection(dereceler)"
   ]
  },
  {
   "cell_type": "markdown",
   "id": "simplified-highlight",
   "metadata": {},
   "source": [
    "**Birleşim:**\n",
    "\n",
    "İki set'in (kümenin) birleşimi -> Birleşim Kümesi -> union\n",
    "\n",
    "$$ A \\cup B $$"
   ]
  },
  {
   "cell_type": "code",
   "execution_count": 16,
   "id": "legislative-basin",
   "metadata": {},
   "outputs": [
    {
     "data": {
      "text/plain": [
       "{'A', 'B', 'C', 'F', 'L', 'T'}"
      ]
     },
     "execution_count": 16,
     "metadata": {},
     "output_type": "execute_result"
    }
   ],
   "source": [
    "dereceler.union(notlar)"
   ]
  },
  {
   "cell_type": "markdown",
   "id": "proper-holocaust",
   "metadata": {},
   "source": [
    "**Fark:**\n",
    "\n",
    "İki set arasındaki fark -> Kümelerin Farkı -> difference\n",
    "\n",
    "$$ A \\setminus B $$"
   ]
  },
  {
   "cell_type": "code",
   "execution_count": 17,
   "id": "operating-sponsorship",
   "metadata": {},
   "outputs": [
    {
     "name": "stdout",
     "output_type": "stream",
     "text": [
      "notlar: {'A', 'B', 'C'}\n",
      "dereceler: {'A', 'F', 'T', 'B', 'L'}\n"
     ]
    }
   ],
   "source": [
    "print(\"notlar:\", notlar)\n",
    "print(\"dereceler:\", dereceler)"
   ]
  },
  {
   "cell_type": "code",
   "execution_count": 18,
   "id": "together-kernel",
   "metadata": {},
   "outputs": [
    {
     "data": {
      "text/plain": [
       "{'C'}"
      ]
     },
     "execution_count": 18,
     "metadata": {},
     "output_type": "execute_result"
    }
   ],
   "source": [
    "# notlar'da olup dereceler kümesinde olmayanlar\n",
    "\n",
    "notlar.difference(dereceler)"
   ]
  },
  {
   "cell_type": "code",
   "execution_count": 19,
   "id": "running-warrant",
   "metadata": {},
   "outputs": [
    {
     "data": {
      "text/plain": [
       "{'F', 'L', 'T'}"
      ]
     },
     "execution_count": 19,
     "metadata": {},
     "output_type": "execute_result"
    }
   ],
   "source": [
    "dereceler.difference(notlar)"
   ]
  },
  {
   "cell_type": "markdown",
   "id": "occupational-firmware",
   "metadata": {},
   "source": [
    "**issubset():**\n",
    "\n",
    "Bir küme başka bir kümenin alt kümesi mi? `issubset()`"
   ]
  },
  {
   "cell_type": "code",
   "execution_count": 20,
   "id": "greek-amsterdam",
   "metadata": {},
   "outputs": [
    {
     "data": {
      "text/plain": [
       "False"
      ]
     },
     "execution_count": 20,
     "metadata": {},
     "output_type": "execute_result"
    }
   ],
   "source": [
    "# notlar, dereceler'in alt kümesi\n",
    "\n",
    "notlar.issubset(dereceler)"
   ]
  },
  {
   "cell_type": "code",
   "execution_count": 21,
   "id": "inside-dispute",
   "metadata": {},
   "outputs": [
    {
     "data": {
      "text/plain": [
       "True"
      ]
     },
     "execution_count": 21,
     "metadata": {},
     "output_type": "execute_result"
    }
   ],
   "source": [
    "set({'F', 'L'}).issubset(dereceler)"
   ]
  },
  {
   "cell_type": "code",
   "execution_count": 22,
   "id": "authorized-capability",
   "metadata": {},
   "outputs": [
    {
     "data": {
      "text/plain": [
       "True"
      ]
     },
     "execution_count": 22,
     "metadata": {},
     "output_type": "execute_result"
    }
   ],
   "source": [
    "{'A', 'C'}.issubset(notlar)"
   ]
  },
  {
   "cell_type": "markdown",
   "id": "matched-parish",
   "metadata": {},
   "source": [
    "**issuperset():**\n",
    "\n",
    "Bir küme başka bir kümenin üst kümesi mi? `issuperset()`"
   ]
  },
  {
   "cell_type": "code",
   "execution_count": 24,
   "id": "compound-disaster",
   "metadata": {},
   "outputs": [
    {
     "data": {
      "text/plain": [
       "False"
      ]
     },
     "execution_count": 24,
     "metadata": {},
     "output_type": "execute_result"
    }
   ],
   "source": [
    "dereceler.issuperset(notlar)"
   ]
  },
  {
   "cell_type": "code",
   "execution_count": 25,
   "id": "coupled-honey",
   "metadata": {},
   "outputs": [
    {
     "data": {
      "text/plain": [
       "True"
      ]
     },
     "execution_count": 25,
     "metadata": {},
     "output_type": "execute_result"
    }
   ],
   "source": [
    "dereceler.issuperset(set({'F', 'L'}))"
   ]
  },
  {
   "cell_type": "code",
   "execution_count": 26,
   "id": "hungarian-boston",
   "metadata": {},
   "outputs": [
    {
     "data": {
      "text/plain": [
       "True"
      ]
     },
     "execution_count": 26,
     "metadata": {},
     "output_type": "execute_result"
    }
   ],
   "source": [
    "notlar.issuperset({'A'})"
   ]
  },
  {
   "cell_type": "markdown",
   "id": "atomic-offset",
   "metadata": {},
   "source": [
    "**symmetric_difference():**\n",
    "\n",
    "İki kümenin karşılıklı ayrık elemanları kümesi -> Symmetric Difference"
   ]
  },
  {
   "cell_type": "code",
   "execution_count": 27,
   "id": "colored-tulsa",
   "metadata": {},
   "outputs": [
    {
     "data": {
      "text/plain": [
       "{'A', 'B', 'C'}"
      ]
     },
     "execution_count": 27,
     "metadata": {},
     "output_type": "execute_result"
    }
   ],
   "source": [
    "notlar"
   ]
  },
  {
   "cell_type": "code",
   "execution_count": 28,
   "id": "structured-spelling",
   "metadata": {},
   "outputs": [
    {
     "data": {
      "text/plain": [
       "{'A', 'B', 'F', 'L', 'T'}"
      ]
     },
     "execution_count": 28,
     "metadata": {},
     "output_type": "execute_result"
    }
   ],
   "source": [
    "dereceler"
   ]
  },
  {
   "cell_type": "code",
   "execution_count": 29,
   "id": "divine-india",
   "metadata": {},
   "outputs": [
    {
     "data": {
      "text/plain": [
       "{'C', 'F', 'L', 'T'}"
      ]
     },
     "execution_count": 29,
     "metadata": {},
     "output_type": "execute_result"
    }
   ],
   "source": [
    "notlar.symmetric_difference(dereceler)"
   ]
  },
  {
   "cell_type": "markdown",
   "id": "animated-journalist",
   "metadata": {},
   "source": [
    "### Set'lerde Eleman ve Atama İşlemleri"
   ]
  },
  {
   "cell_type": "markdown",
   "id": "eleven-clearance",
   "metadata": {},
   "source": [
    "**Set'e Eleman Eklemek: `add()`**"
   ]
  },
  {
   "cell_type": "code",
   "execution_count": 31,
   "id": "human-participant",
   "metadata": {},
   "outputs": [
    {
     "name": "stdout",
     "output_type": "stream",
     "text": [
      "{'A', 'B', 'C'}\n"
     ]
    }
   ],
   "source": [
    "notlar = ['A', 'A', 'B', 'C', 'B', 'C']\n",
    "notlar = set(notlar)\n",
    "print(notlar)"
   ]
  },
  {
   "cell_type": "code",
   "execution_count": 32,
   "id": "allied-oxygen",
   "metadata": {},
   "outputs": [
    {
     "name": "stdout",
     "output_type": "stream",
     "text": [
      "{'A', 'F', 'T', 'B', 'L'}\n"
     ]
    }
   ],
   "source": [
    "dereceler = ['A', 'L', 'T', 'B', 'F']\n",
    "dereceler = set(dereceler)\n",
    "print(dereceler)"
   ]
  },
  {
   "cell_type": "code",
   "execution_count": 33,
   "id": "chemical-sport",
   "metadata": {},
   "outputs": [
    {
     "data": {
      "text/plain": [
       "{'A', 'B', 'C', 'P'}"
      ]
     },
     "execution_count": 33,
     "metadata": {},
     "output_type": "execute_result"
    }
   ],
   "source": [
    "notlar.add('P')\n",
    "notlar"
   ]
  },
  {
   "cell_type": "code",
   "execution_count": 34,
   "id": "prepared-tracy",
   "metadata": {},
   "outputs": [
    {
     "data": {
      "text/plain": [
       "{'A', 'B', 'C', 'P', 'Q'}"
      ]
     },
     "execution_count": 34,
     "metadata": {},
     "output_type": "execute_result"
    }
   ],
   "source": [
    "notlar.add('Q')\n",
    "notlar"
   ]
  },
  {
   "cell_type": "markdown",
   "id": "instant-format",
   "metadata": {},
   "source": [
    "**Set'ten Eleman Çıkarmak: `remove()`**"
   ]
  },
  {
   "cell_type": "code",
   "execution_count": 35,
   "id": "welsh-bristol",
   "metadata": {},
   "outputs": [
    {
     "data": {
      "text/plain": [
       "{'A', 'B', 'C', 'P', 'Q'}"
      ]
     },
     "execution_count": 35,
     "metadata": {},
     "output_type": "execute_result"
    }
   ],
   "source": [
    "notlar"
   ]
  },
  {
   "cell_type": "code",
   "execution_count": 36,
   "id": "variable-shaft",
   "metadata": {},
   "outputs": [
    {
     "data": {
      "text/plain": [
       "{'A', 'B', 'C', 'P'}"
      ]
     },
     "execution_count": 36,
     "metadata": {},
     "output_type": "execute_result"
    }
   ],
   "source": [
    "notlar.remove('Q')\n",
    "notlar"
   ]
  },
  {
   "cell_type": "code",
   "execution_count": 37,
   "id": "secondary-smell",
   "metadata": {},
   "outputs": [
    {
     "data": {
      "text/plain": [
       "{'A', 'B', 'C'}"
      ]
     },
     "execution_count": 37,
     "metadata": {},
     "output_type": "execute_result"
    }
   ],
   "source": [
    "notlar.remove('P')\n",
    "notlar"
   ]
  },
  {
   "cell_type": "markdown",
   "id": "moral-custody",
   "metadata": {},
   "source": [
    "**Set Üzerinde Döngü: `for ... in ...`**"
   ]
  },
  {
   "cell_type": "code",
   "execution_count": 40,
   "id": "under-adams",
   "metadata": {},
   "outputs": [
    {
     "name": "stdout",
     "output_type": "stream",
     "text": [
      "A\n",
      "C\n",
      "B\n"
     ]
    }
   ],
   "source": [
    "for o_not in notlar:\n",
    "    print(o_not)\n",
    "    "
   ]
  },
  {
   "cell_type": "code",
   "execution_count": 41,
   "id": "consecutive-bookmark",
   "metadata": {},
   "outputs": [
    {
     "name": "stdout",
     "output_type": "stream",
     "text": [
      "A\n",
      "F\n",
      "T\n",
      "B\n",
      "L\n"
     ]
    }
   ],
   "source": [
    "for d in dereceler:\n",
    "    \n",
    "    print(d)\n",
    "    "
   ]
  },
  {
   "cell_type": "markdown",
   "id": "southeast-german",
   "metadata": {},
   "source": [
    "**Set'lerde Atama İşlemi:**"
   ]
  },
  {
   "cell_type": "markdown",
   "id": "competitive-labor",
   "metadata": {},
   "source": [
    "**Alising**: Yeniden adlandırma\n",
    "\n",
    "Set'lerde atama işlemi, aslında bir Alising İşlemidir."
   ]
  },
  {
   "cell_type": "code",
   "execution_count": 42,
   "id": "specific-concentrate",
   "metadata": {},
   "outputs": [
    {
     "name": "stdout",
     "output_type": "stream",
     "text": [
      "a: {'YENİ', 2, 5, 7}\n",
      "b: {'YENİ', 2, 5, 7}\n"
     ]
    }
   ],
   "source": [
    "# bir set yaratalım\n",
    "\n",
    "a = {2, 5, 7}\n",
    "\n",
    "# atama işlemi\n",
    "b = a\n",
    "\n",
    "# b'ye yeni bir eleman ekle\n",
    "b.add('YENİ')\n",
    "\n",
    "# şimdi a ve b'yi yazdır\n",
    "print('a:', a)\n",
    "print('b:', b)\n"
   ]
  },
  {
   "cell_type": "markdown",
   "id": "labeled-finance",
   "metadata": {},
   "source": [
    "**identical: is**"
   ]
  },
  {
   "cell_type": "code",
   "execution_count": 43,
   "id": "corporate-stereo",
   "metadata": {},
   "outputs": [
    {
     "data": {
      "text/plain": [
       "True"
      ]
     },
     "execution_count": 43,
     "metadata": {},
     "output_type": "execute_result"
    }
   ],
   "source": [
    "a is b"
   ]
  },
  {
   "cell_type": "code",
   "execution_count": 45,
   "id": "dynamic-matter",
   "metadata": {},
   "outputs": [
    {
     "data": {
      "text/plain": [
       "True"
      ]
     },
     "execution_count": 45,
     "metadata": {},
     "output_type": "execute_result"
    }
   ],
   "source": [
    "# equivalent\n",
    "\n",
    "a == b"
   ]
  },
  {
   "cell_type": "code",
   "execution_count": 46,
   "id": "unknown-villa",
   "metadata": {},
   "outputs": [
    {
     "data": {
      "text/plain": [
       "True"
      ]
     },
     "execution_count": 46,
     "metadata": {},
     "output_type": "execute_result"
    }
   ],
   "source": [
    "a.issubset(b)"
   ]
  },
  {
   "cell_type": "code",
   "execution_count": 47,
   "id": "loose-fleet",
   "metadata": {},
   "outputs": [
    {
     "data": {
      "text/plain": [
       "True"
      ]
     },
     "execution_count": 47,
     "metadata": {},
     "output_type": "execute_result"
    }
   ],
   "source": [
    "a.issuperset(b)"
   ]
  },
  {
   "cell_type": "code",
   "execution_count": 48,
   "id": "composite-gabriel",
   "metadata": {},
   "outputs": [
    {
     "name": "stdout",
     "output_type": "stream",
     "text": [
      "a: {'YYY', 'YENİ', 2, 5, 7}\n",
      "b: {'YYY', 'YENİ', 2, 5, 7}\n"
     ]
    }
   ],
   "source": [
    "# şimdi a'ya eleman ekle\n",
    "\n",
    "a.add('YYY')\n",
    "\n",
    "print('a:', a)\n",
    "print('b:', b)"
   ]
  },
  {
   "cell_type": "markdown",
   "id": "serious-armor",
   "metadata": {},
   "source": [
    "**Set'e tek seferde, çok sayıda eleman eklemek: `update()`**"
   ]
  },
  {
   "cell_type": "markdown",
   "id": "earned-point",
   "metadata": {},
   "source": [
    "Set'lere `update()` metodu ile tek seferde, çoklu eleman eklenir."
   ]
  },
  {
   "cell_type": "code",
   "execution_count": 49,
   "id": "boolean-bermuda",
   "metadata": {},
   "outputs": [
    {
     "data": {
      "text/plain": [
       "{'armut', 'elma', 'kiraz'}"
      ]
     },
     "execution_count": 49,
     "metadata": {},
     "output_type": "execute_result"
    }
   ],
   "source": [
    "meyveler = {'elma', 'armut', 'kiraz'}\n",
    "meyveler"
   ]
  },
  {
   "cell_type": "code",
   "execution_count": 50,
   "id": "seven-collins",
   "metadata": {},
   "outputs": [
    {
     "data": {
      "text/plain": [
       "['çilek', 'muz', 'portakal']"
      ]
     },
     "execution_count": 50,
     "metadata": {},
     "output_type": "execute_result"
    }
   ],
   "source": [
    "daha_cok_meyve = ['çilek', 'muz', 'portakal']\n",
    "daha_cok_meyve"
   ]
  },
  {
   "cell_type": "code",
   "execution_count": 51,
   "id": "split-decline",
   "metadata": {},
   "outputs": [
    {
     "data": {
      "text/plain": [
       "{'armut', 'elma', 'kiraz', 'muz', 'portakal', 'çilek'}"
      ]
     },
     "execution_count": 51,
     "metadata": {},
     "output_type": "execute_result"
    }
   ],
   "source": [
    "meyveler.update(daha_cok_meyve)\n",
    "\n",
    "meyveler"
   ]
  },
  {
   "cell_type": "code",
   "execution_count": null,
   "id": "modified-boxing",
   "metadata": {},
   "outputs": [],
   "source": []
  }
 ],
 "metadata": {
  "kernelspec": {
   "display_name": "Python 3",
   "language": "python",
   "name": "python3"
  },
  "language_info": {
   "codemirror_mode": {
    "name": "ipython",
    "version": 3
   },
   "file_extension": ".py",
   "mimetype": "text/x-python",
   "name": "python",
   "nbconvert_exporter": "python",
   "pygments_lexer": "ipython3",
   "version": "3.8.5"
  }
 },
 "nbformat": 4,
 "nbformat_minor": 5
}
