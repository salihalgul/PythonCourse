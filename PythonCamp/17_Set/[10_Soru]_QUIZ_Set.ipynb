{
 "cells": [
  {
   "cell_type": "markdown",
   "id": "fourth-elite",
   "metadata": {},
   "source": [
    "## [10 Soru] QUIZ - Set"
   ]
  },
  {
   "cell_type": "markdown",
   "id": "aware-zealand",
   "metadata": {},
   "source": [
    "**Soru 1:**\n",
    "\n",
    "Adı **kume_yarat_ve_ekle** olan bir fonksiyon yazın. Parametre olarak bir liste alsın.\n",
    "\n",
    "Bu fonksiyon önce içinde aşağıdaki elemanlar olan bir Set yaratsın.\n",
    "\n",
    "\"Elma\", \"Armut\", \"Karpuz\", \"Çilek\"\n",
    "\n",
    "Ardından parametre olarak gelen listenin elemanlarını **tek tek** bu kümeye eklesin ve kümeyi geri dönsün.\n",
    "\n",
    "**İpuçları:**\n",
    "* {}\n",
    "* add()\n",
    "\n",
    "<pre style=\"background: gold\">\n",
    "Parametre:\n",
    "eklenecekler = ['Vişne', 'Kiraz', 'Kayısı', 'Karadut']\n",
    "\n",
    "Sonuç:\n",
    "{'Vişne', 'Elma', 'Karpuz', 'Karadut', 'Çilek', 'Kayısı', 'Armut', 'Kiraz'}\n",
    "</pre>"
   ]
  },
  {
   "cell_type": "code",
   "execution_count": 3,
   "id": "polar-picnic",
   "metadata": {},
   "outputs": [],
   "source": [
    "# Çözüm 1:\n",
    "\n",
    "\n",
    "    "
   ]
  },
  {
   "cell_type": "code",
   "execution_count": 4,
   "id": "persistent-possibility",
   "metadata": {},
   "outputs": [
    {
     "name": "stdout",
     "output_type": "stream",
     "text": [
      "{'Karpuz', 'Elma', 'Çilek', 'Armut', 'Kiraz', 'Karadut', 'Kayısı', 'Vişne'}\n"
     ]
    }
   ],
   "source": [
    "eklenecekler = ['Vişne', 'Kiraz', 'Kayısı', 'Karadut']\n",
    "\n",
    "tum_meyveler = kume_yarat_ve_ekle(eklenecekler)\n",
    "\n",
    "print(tum_meyveler)"
   ]
  },
  {
   "cell_type": "markdown",
   "id": "micro-debate",
   "metadata": {},
   "source": [
    "---"
   ]
  },
  {
   "cell_type": "markdown",
   "id": "intelligent-lotus",
   "metadata": {},
   "source": [
    "**Soru 2:**\n",
    "\n",
    "Adı **kume_yarat_ve_tek_seferde_ekle** olan bir fonksiyon yazın. Parametre olarak bir liste alsın.\n",
    "\n",
    "Bu fonksiyon önce içinde aşağıdaki elemanlar olan bir Set yaratsın.\n",
    "\n",
    "\"Elma\", \"Armut\", \"Karpuz\", \"Çilek\"\n",
    "\n",
    "Ardından parametre olarak gelen listenin elemanlarını **tek seferde** bu kümeye eklesin ve kümeyi geri dönsün.\n",
    "\n",
    "**İpuçları:**\n",
    "* set() constructor'ı\n",
    "* update()\n",
    "\n",
    "<pre style=\"background: gold\">\n",
    "Parametre:\n",
    "eklenecekler = ['Vişne', 'Kiraz', 'Kayısı', 'Karadut']\n",
    "\n",
    "Sonuç:\n",
    "{'Vişne', 'Elma', 'Karpuz', 'Karadut', 'Çilek', 'Kayısı', 'Armut', 'Kiraz'}\n",
    "</pre>"
   ]
  },
  {
   "cell_type": "code",
   "execution_count": 5,
   "id": "wrong-damage",
   "metadata": {},
   "outputs": [],
   "source": [
    "# Çözüm 2:\n",
    "\n",
    "\n"
   ]
  },
  {
   "cell_type": "code",
   "execution_count": 6,
   "id": "every-estimate",
   "metadata": {},
   "outputs": [
    {
     "name": "stdout",
     "output_type": "stream",
     "text": [
      "{'Karpuz', 'Elma', 'Çilek', 'Armut', 'Kiraz', 'Karadut', 'Kayısı', 'Vişne'}\n"
     ]
    }
   ],
   "source": [
    "eklenecekler = ['Vişne', 'Kiraz', 'Kayısı', 'Karadut']\n",
    "\n",
    "tum_meyveler = kume_yarat_ve_tek_seferde_ekle(eklenecekler)\n",
    "\n",
    "print(tum_meyveler)"
   ]
  },
  {
   "cell_type": "markdown",
   "id": "combined-florence",
   "metadata": {},
   "source": [
    "---"
   ]
  },
  {
   "cell_type": "markdown",
   "id": "compressed-comparison",
   "metadata": {},
   "source": [
    "**Soru 3:**\n",
    "\n",
    "Parametre olarak iki Set alan bir fonksiyon yazın. Adı **ayni_elemenlar** olsun.\n",
    "\n",
    "Fonksiyon bu iki küme içindeki ortak elemanları (kesişim kümesini) bir liste olarak dönsün.\n",
    "\n",
    "Bu listenin elemanları küçükten büyüğe sıralı dönsün.\n",
    "\n",
    "**İpuçları:**\n",
    "* döngü kullanmayın\n",
    "* intersection()\n",
    "* sorted()\n",
    "\n",
    "<pre style=\"background: gold\">\n",
    "Parametre:\n",
    "set_1 = {10, 20, 30, 40, 50, 60}\n",
    "set_2 = {20, 40, 60, 80, 90, 100}\n",
    "\n",
    "Sonuç:\n",
    "[20, 40, 60]\n",
    "</pre>"
   ]
  },
  {
   "cell_type": "code",
   "execution_count": 7,
   "id": "reserved-bronze",
   "metadata": {},
   "outputs": [],
   "source": [
    "# Çözüm 3:\n",
    "\n",
    "\n",
    "    "
   ]
  },
  {
   "cell_type": "code",
   "execution_count": 8,
   "id": "union-thumbnail",
   "metadata": {},
   "outputs": [
    {
     "name": "stdout",
     "output_type": "stream",
     "text": [
      "[20, 40, 60]\n"
     ]
    }
   ],
   "source": [
    "set_1 = {10, 20, 30, 40, 50, 60}\n",
    "set_2 = {20, 40, 60, 80, 90, 100}\n",
    "\n",
    "kesisim = ayni_elemanlar(set_1, set_2)\n",
    "\n",
    "print(kesisim)"
   ]
  },
  {
   "cell_type": "markdown",
   "id": "active-elephant",
   "metadata": {},
   "source": [
    "---"
   ]
  },
  {
   "cell_type": "markdown",
   "id": "vocal-twelve",
   "metadata": {},
   "source": [
    "**Soru 4:**\n",
    "\n",
    "Parametre olarak iki Set alan bir fonksiyon yazın. Adı **tum_elemanlar** olsun.\n",
    "\n",
    "Fonksiyon bu iki küme içindeki tüm elemanları (birleşim kümesi) bir liste olarak versin.\n",
    "\n",
    "Bu listede aynı olan elemanlar sadece bir kere geçmek zorunda.\n",
    "\n",
    "Bu liste büyükten küçüğe sıralı olmak zorunda.\n",
    "\n",
    "**İpuçları:**\n",
    "* döngü kullanmayın\n",
    "* unioun()\n",
    "* sort()\n",
    "\n",
    "<pre style=\"background: gold\">\n",
    "Parametre:\n",
    "set_1 = {10, 20, 30, 40, 50, 60}\n",
    "set_2 = {20, 40, 60, 80, 90, 100}\n",
    "\n",
    "Sonuç:\n",
    "[100, 90, 80, 60, 50, 40, 30, 20, 10]\n",
    "</pre>"
   ]
  },
  {
   "cell_type": "code",
   "execution_count": 9,
   "id": "sticky-bosnia",
   "metadata": {},
   "outputs": [],
   "source": [
    "# Çözüm 4:\n",
    "\n",
    "\n",
    "    "
   ]
  },
  {
   "cell_type": "code",
   "execution_count": 10,
   "id": "working-component",
   "metadata": {},
   "outputs": [
    {
     "name": "stdout",
     "output_type": "stream",
     "text": [
      "[100, 90, 80, 60, 50, 40, 30, 20, 10]\n"
     ]
    }
   ],
   "source": [
    "set_1 = {10, 20, 30, 40, 50, 60}\n",
    "set_2 = {20, 40, 60, 80, 90, 100}\n",
    "\n",
    "birlesim = tum_elemanlar(set_1, set_2)\n",
    "\n",
    "print(birlesim)"
   ]
  },
  {
   "cell_type": "markdown",
   "id": "afraid-alcohol",
   "metadata": {},
   "source": [
    "---"
   ]
  },
  {
   "cell_type": "markdown",
   "id": "modified-stress",
   "metadata": {},
   "source": [
    "**Soru 5:**\n",
    "\n",
    "Paramere olarak iki liste bir fonksiyon yazın. Fonksiyonun adı **farki_ver** olsun.\n",
    "\n",
    "Fonksiyon bu iki liste arasındaki farklı elemanları bir Set olarak dönsün.\n",
    "\n",
    "Yani birinci listede olup ikinci listede olmayan elemanları.\n",
    "\n",
    "**İpuçları:**\n",
    "* döngü kullanmayın\n",
    "* set()\n",
    "* difference()\n",
    "\n",
    "<pre style=\"background: gold\">\n",
    "Parametre:\n",
    "l_1 = [1, 2, 3, 4, 5, 6, 7, 8, 9]\n",
    "l_2 = [2, 4, 6, 8]\n",
    "\n",
    "Sonuç:\n",
    "{1, 3, 5, 7, 9}\n",
    "</pre>"
   ]
  },
  {
   "cell_type": "code",
   "execution_count": 11,
   "id": "adult-vegetable",
   "metadata": {},
   "outputs": [],
   "source": [
    "# Çözüm 5:\n",
    "\n",
    "def farki_ver(liste_1, liste_2):\n",
    "    \n",
    "\n",
    "    "
   ]
  },
  {
   "cell_type": "code",
   "execution_count": 12,
   "id": "played-groove",
   "metadata": {},
   "outputs": [
    {
     "name": "stdout",
     "output_type": "stream",
     "text": [
      "{1, 3, 5, 7, 9}\n"
     ]
    }
   ],
   "source": [
    "l_1 = [1, 2, 3, 4, 5, 6, 7, 8, 9]\n",
    "l_2 = [2, 4, 6, 8]\n",
    "\n",
    "farklar = farki_ver(l_1, l_2)\n",
    "\n",
    "print(farklar)"
   ]
  },
  {
   "cell_type": "markdown",
   "id": "changed-target",
   "metadata": {},
   "source": [
    "---"
   ]
  },
  {
   "cell_type": "markdown",
   "id": "handled-greenhouse",
   "metadata": {},
   "source": [
    "**Soru 6:**\n",
    "\n",
    "Parametre olarak iki küme alan bir fonksiyon yazın. Adı **tamamen_farkli_mi** olsun.\n",
    "\n",
    "Fonksiyon bu iki küme arasında hiç ortak eleman olup olamadığını kontrol etsin:\n",
    "* Eğer hiç ortak eleman yoksa, şöyle dönsün -> \"Bu iki Küme tamamen farklı\"\n",
    "* Eğer en az bir elemanları ortaksa, şöyle dönsün -> \"Bu iki Küme tamamen farklı değil\"\n",
    "\n",
    "Fonksiyon ayrıca parametre olarak gelen iki kümenin gerçekten Set tipinde olup olmadığını kontrol da etsin. Eğer herhangi biri Set tipinde değilse, \"Parametreler Set tipinde değil\" hatası fırlatsın.\n",
    "\n",
    "**İpuçları:**\n",
    "* döngü kullanmayın\n",
    "* tamamen farklı için: `isdisjoint()`\n",
    "* isinstance()\n",
    "* raise Exception()\n",
    "\n",
    "<pre style=\"background: gold\">\n",
    "Parametre:\n",
    "set_1 = {20, 10, 40, 30, 50}\n",
    "set_2 = {60, 80, 70, 100, 90}\n",
    "Sonuç:\n",
    "'Bu iki Küme tamamen farklı'\n",
    "\n",
    "----------------------------------------\n",
    "Parametre:\n",
    "set_1 = {20, 10, 40, 30, 50, 60}\n",
    "set_2 = {60, 80, 70, 90, 40, 10}\n",
    "Sonuç:\n",
    "'Bu iki Küme tamamen faklı değil'\n",
    "</pre>"
   ]
  },
  {
   "cell_type": "code",
   "execution_count": 13,
   "id": "intended-skirt",
   "metadata": {},
   "outputs": [],
   "source": [
    "# Çözüm 6:\n",
    "\n",
    "def tamamen_farkli_mi(set1, set2):\n",
    "    \n",
    "\n",
    "    "
   ]
  },
  {
   "cell_type": "code",
   "execution_count": 14,
   "id": "medieval-mauritius",
   "metadata": {},
   "outputs": [
    {
     "data": {
      "text/plain": [
       "'Bu iki Küme tamamen farklı.'"
      ]
     },
     "execution_count": 14,
     "metadata": {},
     "output_type": "execute_result"
    }
   ],
   "source": [
    "set_1 = {20, 10, 40, 30, 50}\n",
    "set_2 = {60, 80, 70, 100, 90}\n",
    "\n",
    "tamamen_farkli_mi(set_1, set_2)"
   ]
  },
  {
   "cell_type": "code",
   "execution_count": 15,
   "id": "serious-engineering",
   "metadata": {},
   "outputs": [
    {
     "data": {
      "text/plain": [
       "'Bu iki Küme tamamen farklı değil.'"
      ]
     },
     "execution_count": 15,
     "metadata": {},
     "output_type": "execute_result"
    }
   ],
   "source": [
    "set_1 = {20, 10, 40, 30, 50, 60}\n",
    "set_2 = {60, 80, 70, 90, 40, 10}\n",
    "\n",
    "tamamen_farkli_mi(set_1, set_2)"
   ]
  },
  {
   "cell_type": "markdown",
   "id": "warming-shell",
   "metadata": {},
   "source": [
    "---"
   ]
  },
  {
   "cell_type": "markdown",
   "id": "intellectual-survey",
   "metadata": {},
   "source": [
    "**Soru 7:**\n",
    "\n",
    "Parametre olarak iki küme alan bir fonksiyon yazın. Adı **tamamen_farkli_mi_2** olsun.\n",
    "\n",
    "Fonksiyon bu iki küme arasında hiç ortak eleman olup olamadığını kontrol etsin:\n",
    "* Eğer hiç ortak eleman yoksa, şöyle dönsün -> \"Bu iki Küme tamamen farklı\"\n",
    "* Eğer en az bir elemanları ortaksa, şöyle dönsün -> \"Bu iki Kümenin ortak elemanları var:\"\n",
    "    * ve ortak eleman kümesini beraber dönsün\n",
    "\n",
    "Fonksiyon ayrıca parametre olarak gelen iki kümenin gerçekten Set tipinde olup olmadığını kontrol da etsin. Eğer herhangi biri Set tipinde değilse, \"Parametreler Set tipinde değil\" hatası fırlatsın.\n",
    "\n",
    "**İpuçları:**\n",
    "* döngü kullanmayın\n",
    "* tamamen farklı için: `isdisjoint()`\n",
    "* isinstance()\n",
    "* raise Exception()\n",
    "\n",
    "<pre style=\"background: gold\">\n",
    "Parametre:\n",
    "set_1 = {20, 10, 40, 30, 50}\n",
    "set_2 = {60, 80, 70, 100, 90}\n",
    "Sonuç:\n",
    "'Bu iki Küme tamamen farklı'\n",
    "\n",
    "----------------------------------------\n",
    "Parametre:\n",
    "set_1 = {20, 10, 40, 30, 50, 60}\n",
    "set_2 = {60, 80, 70, 90, 40, 10}\n",
    "Sonuç:\n",
    "'Bu iki Kümenin ortak elemanları var: {40, 10, 60}'\n",
    "</pre>"
   ]
  },
  {
   "cell_type": "code",
   "execution_count": 16,
   "id": "crucial-package",
   "metadata": {},
   "outputs": [],
   "source": [
    "# Çözüm 7:\n",
    "\n",
    "\n"
   ]
  },
  {
   "cell_type": "code",
   "execution_count": 17,
   "id": "coordinate-ministry",
   "metadata": {},
   "outputs": [
    {
     "data": {
      "text/plain": [
       "'Bu iki Küme tamamen farklı.'"
      ]
     },
     "execution_count": 17,
     "metadata": {},
     "output_type": "execute_result"
    }
   ],
   "source": [
    "set_1 = {20, 10, 40, 30, 50}\n",
    "set_2 = {60, 80, 70, 100, 90}\n",
    "\n",
    "tamamen_farkli_mi_2(set_1, set_2)"
   ]
  },
  {
   "cell_type": "code",
   "execution_count": 18,
   "id": "unlike-twenty",
   "metadata": {},
   "outputs": [
    {
     "data": {
      "text/plain": [
       "'Bu iki Kümenin ortak elemanları var:{40, 10, 60}'"
      ]
     },
     "execution_count": 18,
     "metadata": {},
     "output_type": "execute_result"
    }
   ],
   "source": [
    "set_1 = {20, 10, 40, 30, 50, 60}\n",
    "set_2 = {60, 80, 70, 90, 40, 10}\n",
    "\n",
    "tamamen_farkli_mi_2(set_1, set_2)"
   ]
  },
  {
   "cell_type": "markdown",
   "id": "collaborative-charlotte",
   "metadata": {},
   "source": [
    "---"
   ]
  },
  {
   "cell_type": "markdown",
   "id": "interesting-charlotte",
   "metadata": {},
   "source": [
    "**Soru 8:**\n",
    "\n",
    "Parametre olarak bir küme alan bir fonksiyon yazın. Adı **kopyala_ve_temizle** olsun.\n",
    "\n",
    "Fonksiyon parametre olarak gelen kümeyi boşaltsın ama değerlerini yeni bir küme olarak geri dönsün.\n",
    "\n",
    "Yani parametre yerinde değişip boş küme olacak ama değerleri ise başka bir küme olarak geri dönecek.\n",
    "\n",
    "**İpuçları:**\n",
    "* döngü kullanmayın\n",
    "* copy()\n",
    "* clear()\n",
    "\n",
    "<pre style=\"background: gold\">\n",
    "Parametre:\n",
    "set1 = {'A', 'B', 'C', 'D', 'E'}\n",
    "\n",
    "Sonuç:\n",
    "fonksiyon çağırmadan önce set1: {'E', 'C', 'D', 'B', 'A'}\n",
    "fonksiyon çağırdıktan sonra set1: set()\n",
    "set1_kopyasi: {'D', 'B', 'E', 'A', 'C'}\n",
    "</pre>"
   ]
  },
  {
   "cell_type": "code",
   "execution_count": 19,
   "id": "listed-patrick",
   "metadata": {},
   "outputs": [],
   "source": [
    "# Çözüm 8:\n",
    "\n",
    "\n",
    "    "
   ]
  },
  {
   "cell_type": "code",
   "execution_count": 20,
   "id": "respected-williams",
   "metadata": {},
   "outputs": [
    {
     "name": "stdout",
     "output_type": "stream",
     "text": [
      "fonksiyon çağırmadan önce set1: {'C', 'A', 'E', 'D', 'B'}\n",
      "fonksiyon çağırdıktan sonra set1: set()\n",
      "set1_kopyasi: {'C', 'A', 'B', 'D', 'E'}\n"
     ]
    }
   ],
   "source": [
    "set1 = {'A', 'B', 'C', 'D', 'E'}\n",
    "print('fonksiyon çağırmadan önce set1:', set1)\n",
    "\n",
    "set1_kopyasi = kopyala_ve_temizle(set1)\n",
    "print('fonksiyon çağırdıktan sonra set1:', set1)\n",
    "print('set1_kopyasi:', set1_kopyasi)"
   ]
  },
  {
   "cell_type": "markdown",
   "id": "played-million",
   "metadata": {},
   "source": [
    "---"
   ]
  },
  {
   "cell_type": "markdown",
   "id": "breathing-formation",
   "metadata": {},
   "source": [
    "**Soru 9:**\n",
    "\n",
    "Parametre olarak iki küme alan bir fonksiyon yazın. Fonksiyonun adı **ayni_olanlari_sil** olsun.\n",
    "\n",
    "Fonksiyon, birinci küme içinden, ikinci küme ile ortak olan elemanları silsin.\n",
    "\n",
    "Silme işlemini yerinde yapsın. Yani parametre olarak gelen küme kendisi değişsin.\n",
    "\n",
    "**İpuçları:**\n",
    "* döngü kullanmayın\n",
    "* difference_update()\n",
    "\n",
    "<pre style=\"background: gold\">\n",
    "Parametreler:\n",
    "kume1 = {'a', 'b', 'c', 'd', 'e', 'f'}\n",
    "kume2 = {'d', 'b', 'e', 'f', 'h', 'g'}\n",
    "\n",
    "Sonuç:\n",
    "fonksiyon çağırmadan önce kume1: {'c', 'a', 'b', 'f', 'd', 'e'}\n",
    "fonksiyon çağırdıktan sonra kume1: {'c', 'a'}\n",
    "</pre>"
   ]
  },
  {
   "cell_type": "code",
   "execution_count": 21,
   "id": "considered-distinction",
   "metadata": {},
   "outputs": [],
   "source": [
    "# Çözüm 9:\n",
    "\n",
    "\n",
    "        "
   ]
  },
  {
   "cell_type": "code",
   "execution_count": 22,
   "id": "subjective-commodity",
   "metadata": {},
   "outputs": [
    {
     "name": "stdout",
     "output_type": "stream",
     "text": [
      "fonksiyon çağırmadan önce kume1: {'d', 'b', 'e', 'c', 'a', 'f'}\n",
      "fonksiyon çağırdıktan sonra kume1: {'c', 'a'}\n"
     ]
    }
   ],
   "source": [
    "kume1 = {'a', 'b', 'c', 'd', 'e', 'f'}\n",
    "kume2 = {'d', 'b', 'e', 'f', 'h', 'g'}\n",
    "\n",
    "print('fonksiyon çağırmadan önce kume1:', kume1)\n",
    "\n",
    "ayni_olanlari_sil(kume1, kume2)\n",
    "\n",
    "print('fonksiyon çağırdıktan sonra kume1:', kume1)"
   ]
  },
  {
   "cell_type": "markdown",
   "id": "small-fetish",
   "metadata": {},
   "source": [
    "---"
   ]
  },
  {
   "cell_type": "markdown",
   "id": "arranged-helena",
   "metadata": {},
   "source": [
    "**Soru 10:**\n",
    "\n",
    "Parametre olarak iki küme alan bir fonksiyon yazın. İsmi **hangisi_üst_kume** olsun.\n",
    "\n",
    "Eğer birinci küme, ikincinin üst kümesi ise fonksiyon kume bilgisi ile bunu dönsün:\n",
    "* 'birinci {.....} kümesi, ikinci {.....} kümesinin üst kümesidir' diye dönsün\n",
    "Eğer tersi ise:\n",
    "* 'ikinci {.....} kümesi, birinci {.....} kümesinin üst kümesidir' diye dönsün\n",
    "\n",
    "**İpuçları:**\n",
    "* döngü kullanmayın\n",
    "* issuperset()\n",
    "\n",
    "<pre style=\"background: gold\">\n",
    "Parametreler:\n",
    "kume1 = {'a', 'b', 'c', 'd'}\n",
    "kume2 = {'d', 'b', 'e', 'f', 'a', 'c'}\n",
    "Sonuç:\n",
    "\"ikinci {'c', 'a', 'b', 'f', 'd', 'e'} kümesi, birinci {'b', 'c', 'd', 'a'} kümesinin üst kümesidir\"\n",
    "\n",
    "----------------------------\n",
    "Parametreler:\n",
    "kume1 = {'d', 'b', 'e', 'f', 'a', 'c'}\n",
    "kume2 = {'a', 'b', 'c', 'd'}\n",
    "Sonuç:\n",
    "\"birinci {'c', 'a', 'b', 'f', 'd', 'e'} kümesi, ikinci {'b', 'c', 'd', 'a'} kümesinin üst kümesidir\"\n",
    "</pre>"
   ]
  },
  {
   "cell_type": "code",
   "execution_count": 26,
   "id": "banned-sunrise",
   "metadata": {},
   "outputs": [],
   "source": [
    "# Çözüm 10:\n",
    "\n",
    "\n",
    "    "
   ]
  },
  {
   "cell_type": "code",
   "execution_count": 27,
   "id": "processed-terrorism",
   "metadata": {},
   "outputs": [
    {
     "data": {
      "text/plain": [
       "\"ikinci {'d', 'b', 'e', 'a', 'f', 'c'} kümesi, birinci {'c', 'd', 'a', 'b'} kümesinin üst kümesidir.\""
      ]
     },
     "execution_count": 27,
     "metadata": {},
     "output_type": "execute_result"
    }
   ],
   "source": [
    "kume1 = {'a', 'b', 'c', 'd'}\n",
    "kume2 = {'d', 'b', 'e', 'f', 'a', 'c'}\n",
    "\n",
    "hangisi_üst_kume(kume1, kume2)"
   ]
  },
  {
   "cell_type": "code",
   "execution_count": 28,
   "id": "serious-surface",
   "metadata": {},
   "outputs": [
    {
     "data": {
      "text/plain": [
       "\"birinci {'d', 'b', 'e', 'a', 'f', 'c'} kümesi, ikinci {'c', 'd', 'a', 'b'} kümesinin üst kümesidir.\""
      ]
     },
     "execution_count": 28,
     "metadata": {},
     "output_type": "execute_result"
    }
   ],
   "source": [
    "kume1 = {'d', 'b', 'e', 'f', 'a', 'c'}\n",
    "kume2 = {'a', 'b', 'c', 'd'}\n",
    "\n",
    "hangisi_üst_kume(kume1, kume2)"
   ]
  },
  {
   "cell_type": "code",
   "execution_count": null,
   "id": "optimum-boulder",
   "metadata": {},
   "outputs": [],
   "source": []
  }
 ],
 "metadata": {
  "kernelspec": {
   "display_name": "Python 3",
   "language": "python",
   "name": "python3"
  },
  "language_info": {
   "codemirror_mode": {
    "name": "ipython",
    "version": 3
   },
   "file_extension": ".py",
   "mimetype": "text/x-python",
   "name": "python",
   "nbconvert_exporter": "python",
   "pygments_lexer": "ipython3",
   "version": "3.8.5"
  }
 },
 "nbformat": 4,
 "nbformat_minor": 5
}
