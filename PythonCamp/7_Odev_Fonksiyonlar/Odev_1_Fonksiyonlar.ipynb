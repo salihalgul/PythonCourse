{
 "cells": [
  {
   "cell_type": "markdown",
   "metadata": {},
   "source": [
    "## Ödev 1 - Fonksiyonlar"
   ]
  },
  {
   "cell_type": "markdown",
   "metadata": {},
   "source": [
    "Şimdi sıra sizde arkadaşlar. Ellerinizi kirletme zamanı :)"
   ]
  },
  {
   "cell_type": "markdown",
   "metadata": {},
   "source": [
    "**# TODO** olarak gördüğünüz yerlerde gerekli kodları yazın."
   ]
  },
  {
   "cell_type": "markdown",
   "metadata": {},
   "source": [
    "Bu ödevde, Kaplumbağa Modülü'nü kullanarak fonksiyonlar üzerinde pratik yapacaksınız."
   ]
  },
  {
   "cell_type": "markdown",
   "metadata": {},
   "source": [
    "### Kaplumbağa Modülü"
   ]
  },
  {
   "cell_type": "markdown",
   "metadata": {},
   "source": [
    "Kaplumbağa Modülü, Python yüklemesi ile beraber gelir. \n",
    "\n",
    "Bilgisayarımızda Kaplumbağa Modülü var mı, kontrol edin."
   ]
  },
  {
   "cell_type": "markdown",
   "metadata": {},
   "source": [
    "Eğer yukarıdaki kodu çalıştırdığınızda yeni bir pencere ve içinde küçük bir ok geliyorsa, Kaplumbağa'nız var demektir. (Ekranı kapatabilirsiniz.)"
   ]
  },
  {
   "cell_type": "markdown",
   "metadata": {},
   "source": [
    "Eğer kod hata veriyor, ve **turtle** modülünü bulamıyorsanız, muhtemelen Python kurulumunuzda bir sorun vardır. Anaconda ile default olarak gelir.\n",
    "Ek olarak aşağıdaki linklerden yardım edinebilirsiniz.\n",
    "* https://docs.python.org/3/library/turtle.html"
   ]
  },
  {
   "cell_type": "markdown",
   "metadata": {},
   "source": [
    "Şimdi Kaplumbağa yaratan ve onu return eden bir fonksiyon yazın."
   ]
  },
  {
   "cell_type": "code",
   "execution_count": 1,
   "metadata": {},
   "outputs": [],
   "source": [
    "import turtle\n",
    "\n",
    "def kaplumbaga_yarat():\n",
    "    tospik = turtle.Turtle()\n",
    "    \n",
    "    print(tospik)\n",
    "    \n",
    "    return tospik    \n",
    "    "
   ]
  },
  {
   "cell_type": "code",
   "execution_count": 2,
   "metadata": {},
   "outputs": [
    {
     "name": "stdout",
     "output_type": "stream",
     "text": [
      "<turtle.Turtle object at 0x0000021ED36929A0>\n"
     ]
    }
   ],
   "source": [
    "tospik = kaplumbaga_yarat()\n",
    "turtle.mainloop()"
   ]
  },
  {
   "cell_type": "markdown",
   "metadata": {},
   "source": [
    "`turtle.mainloop()` fonksiyonu, açılan pencereye, kullanıcının herhangi bir işlem yapana kadar beklemesini söyler. Ki bu durumda sadece kapatma opsiyonumuz var."
   ]
  },
  {
   "cell_type": "markdown",
   "metadata": {},
   "source": [
    "**Önemli Notlar:** \n",
    "* Bazen Kaplumbağa Penceresi arkada açılır. Görmek için tek tek pencelere bakmanız gerekebilir.\n",
    "\n",
    "* Eğer düzenli kapatılmamışsa, kernel'i restart edip, tekrar kapatıp ikinci sefer açmanız gerekebilir.\n",
    "* Kernel Restart'ı için:\n",
    "    * Araç çubuğundaki 'yenile' ikonunu kullanabilirsiniz.\n",
    "    * Veya Menü'den Kernel -> Restart Kernel\n",
    "* Kernel Restart ettikten sonra kod hücrelerini tekrar çalıştırmanız lazım, çünkü eski Kernel artık gitmiştir.\n",
    "* `mainloop()` fonksiyonu her zaman son satır olmalı. Yani aşağıda, işlemler yapacaksanız, yukarıdaki mainloop() fonksiyonunu yorum satırı yapın. Aşağıda en altta tekrar yazın. Program mainloop()'tan sonra hiçbir işlem yapmamalı yani."
   ]
  },
  {
   "cell_type": "markdown",
   "metadata": {},
   "source": [
    "Kaplumbağamızı bir kere yarattıktan sonra artık onun çeşitli metodlarını çağırabiliriz. <br>\n",
    "Method ile fonksiyon hemen hemen aynı şeydir. İlerleyen derslerde farkını tam olarak göreceksiniz."
   ]
  },
  {
   "cell_type": "markdown",
   "metadata": {},
   "source": [
    "Mesela kaplumbağayı ileri hareket ettirmek için: `tospik.fd(100)`"
   ]
  },
  {
   "cell_type": "markdown",
   "metadata": {},
   "source": [
    "**fd(n)** (forward) metodu, yarattığımız tospik nesnesine ait bir metoddur, ve sadece bir kaplumbağa nesnesi varsa çalışır. **n** parametresi ise kaç *pixel* hareket edeceğini söyler."
   ]
  },
  {
   "cell_type": "markdown",
   "metadata": {},
   "source": [
    "Kaplumbağa nesnesi üzerinden çağırabileceğiniz diğer metodlar:\n",
    "* bk() -> backward, geri git\n",
    "* lt() -> left turn, sola dön (derece olarak)\n",
    "* rt() -> right turn,, sağa dön (derece olarak)"
   ]
  },
  {
   "cell_type": "markdown",
   "metadata": {},
   "source": [
    "Ek olarak her kaplumbağanın elinde bir kalem vardır. <br>\n",
    "Bu kalem, ya aşağıya doğrudur ya da yukarıya. <br>\n",
    "Eğer aşağıya doğru ise, kaplumbaa yürüdüğünde arkasında bir iz bırakır. <br>\n",
    "Kalemi hareket ettiren metodlar:\n",
    "* pu -> pen up, kalem yukarı\n",
    "* pd -> pen down, kalem aşağı"
   ]
  },
  {
   "cell_type": "markdown",
   "metadata": {},
   "source": [
    "Örneğin, 90 derecelik bir çizim (kaplumbağa izi) yapmak için:\n",
    "* tospik.fd(100)\n",
    "* tospik.lt(90)\n",
    "* tospki.fd(100)"
   ]
  },
  {
   "cell_type": "markdown",
   "metadata": {},
   "source": [
    "Şimdi bir kare çizelim:\n",
    "* tospik.fd(100)\n",
    "* tospik.lt(90)\n",
    "* --\n",
    "* tospik.df(100)\n",
    "* tospik.lt(90)\n",
    "* --\n",
    "* tospik.fd(100)\n",
    "* tospik.lt(90)\n",
    "* --\n",
    "* tospik.fd(100)"
   ]
  },
  {
   "cell_type": "code",
   "execution_count": 3,
   "metadata": {},
   "outputs": [
    {
     "ename": "Terminator",
     "evalue": "",
     "output_type": "error",
     "traceback": [
      "\u001b[1;31m---------------------------------------------------------------------------\u001b[0m",
      "\u001b[1;31mTerminator\u001b[0m                                Traceback (most recent call last)",
      "Input \u001b[1;32mIn [3]\u001b[0m, in \u001b[0;36m<cell line: 3>\u001b[1;34m()\u001b[0m\n\u001b[0;32m      1\u001b[0m \u001b[38;5;28;01mimport\u001b[39;00m \u001b[38;5;21;01mturtle\u001b[39;00m\n\u001b[1;32m----> 3\u001b[0m tospik \u001b[38;5;241m=\u001b[39m \u001b[43mturtle\u001b[49m\u001b[38;5;241;43m.\u001b[39;49m\u001b[43mTurtle\u001b[49m\u001b[43m(\u001b[49m\u001b[43m)\u001b[49m\n\u001b[0;32m      6\u001b[0m tospik\u001b[38;5;241m.\u001b[39mfd(\u001b[38;5;241m100\u001b[39m)\n\u001b[0;32m      7\u001b[0m tospik\u001b[38;5;241m.\u001b[39mlt(\u001b[38;5;241m90\u001b[39m)\n",
      "File \u001b[1;32m~\\anaconda3\\envs\\python_giris\\lib\\turtle.py:3815\u001b[0m, in \u001b[0;36mTurtle.__init__\u001b[1;34m(self, shape, undobuffersize, visible)\u001b[0m\n\u001b[0;32m   3813\u001b[0m \u001b[38;5;28;01mif\u001b[39;00m Turtle\u001b[38;5;241m.\u001b[39m_screen \u001b[38;5;129;01mis\u001b[39;00m \u001b[38;5;28;01mNone\u001b[39;00m:\n\u001b[0;32m   3814\u001b[0m     Turtle\u001b[38;5;241m.\u001b[39m_screen \u001b[38;5;241m=\u001b[39m Screen()\n\u001b[1;32m-> 3815\u001b[0m \u001b[43mRawTurtle\u001b[49m\u001b[38;5;241;43m.\u001b[39;49m\u001b[38;5;21;43m__init__\u001b[39;49m\u001b[43m(\u001b[49m\u001b[38;5;28;43mself\u001b[39;49m\u001b[43m,\u001b[49m\u001b[43m \u001b[49m\u001b[43mTurtle\u001b[49m\u001b[38;5;241;43m.\u001b[39;49m\u001b[43m_screen\u001b[49m\u001b[43m,\u001b[49m\n\u001b[0;32m   3816\u001b[0m \u001b[43m                   \u001b[49m\u001b[43mshape\u001b[49m\u001b[38;5;241;43m=\u001b[39;49m\u001b[43mshape\u001b[49m\u001b[43m,\u001b[49m\n\u001b[0;32m   3817\u001b[0m \u001b[43m                   \u001b[49m\u001b[43mundobuffersize\u001b[49m\u001b[38;5;241;43m=\u001b[39;49m\u001b[43mundobuffersize\u001b[49m\u001b[43m,\u001b[49m\n\u001b[0;32m   3818\u001b[0m \u001b[43m                   \u001b[49m\u001b[43mvisible\u001b[49m\u001b[38;5;241;43m=\u001b[39;49m\u001b[43mvisible\u001b[49m\u001b[43m)\u001b[49m\n",
      "File \u001b[1;32m~\\anaconda3\\envs\\python_giris\\lib\\turtle.py:2558\u001b[0m, in \u001b[0;36mRawTurtle.__init__\u001b[1;34m(self, canvas, shape, undobuffersize, visible)\u001b[0m\n\u001b[0;32m   2556\u001b[0m \u001b[38;5;28mself\u001b[39m\u001b[38;5;241m.\u001b[39m_undobuffersize \u001b[38;5;241m=\u001b[39m undobuffersize\n\u001b[0;32m   2557\u001b[0m \u001b[38;5;28mself\u001b[39m\u001b[38;5;241m.\u001b[39mundobuffer \u001b[38;5;241m=\u001b[39m Tbuffer(undobuffersize)\n\u001b[1;32m-> 2558\u001b[0m \u001b[38;5;28;43mself\u001b[39;49m\u001b[38;5;241;43m.\u001b[39;49m\u001b[43m_update\u001b[49m\u001b[43m(\u001b[49m\u001b[43m)\u001b[49m\n",
      "File \u001b[1;32m~\\anaconda3\\envs\\python_giris\\lib\\turtle.py:2661\u001b[0m, in \u001b[0;36mRawTurtle._update\u001b[1;34m(self)\u001b[0m\n\u001b[0;32m   2659\u001b[0m     \u001b[38;5;28;01mreturn\u001b[39;00m\n\u001b[0;32m   2660\u001b[0m \u001b[38;5;28;01melif\u001b[39;00m screen\u001b[38;5;241m.\u001b[39m_tracing \u001b[38;5;241m==\u001b[39m \u001b[38;5;241m1\u001b[39m:\n\u001b[1;32m-> 2661\u001b[0m     \u001b[38;5;28;43mself\u001b[39;49m\u001b[38;5;241;43m.\u001b[39;49m\u001b[43m_update_data\u001b[49m\u001b[43m(\u001b[49m\u001b[43m)\u001b[49m\n\u001b[0;32m   2662\u001b[0m     \u001b[38;5;28mself\u001b[39m\u001b[38;5;241m.\u001b[39m_drawturtle()\n\u001b[0;32m   2663\u001b[0m     screen\u001b[38;5;241m.\u001b[39m_update()                  \u001b[38;5;66;03m# TurtleScreenBase\u001b[39;00m\n",
      "File \u001b[1;32m~\\anaconda3\\envs\\python_giris\\lib\\turtle.py:2647\u001b[0m, in \u001b[0;36mRawTurtle._update_data\u001b[1;34m(self)\u001b[0m\n\u001b[0;32m   2646\u001b[0m \u001b[38;5;28;01mdef\u001b[39;00m \u001b[38;5;21m_update_data\u001b[39m(\u001b[38;5;28mself\u001b[39m):\n\u001b[1;32m-> 2647\u001b[0m     \u001b[38;5;28;43mself\u001b[39;49m\u001b[38;5;241;43m.\u001b[39;49m\u001b[43mscreen\u001b[49m\u001b[38;5;241;43m.\u001b[39;49m\u001b[43m_incrementudc\u001b[49m\u001b[43m(\u001b[49m\u001b[43m)\u001b[49m\n\u001b[0;32m   2648\u001b[0m     \u001b[38;5;28;01mif\u001b[39;00m \u001b[38;5;28mself\u001b[39m\u001b[38;5;241m.\u001b[39mscreen\u001b[38;5;241m.\u001b[39m_updatecounter \u001b[38;5;241m!=\u001b[39m \u001b[38;5;241m0\u001b[39m:\n\u001b[0;32m   2649\u001b[0m         \u001b[38;5;28;01mreturn\u001b[39;00m\n",
      "File \u001b[1;32m~\\anaconda3\\envs\\python_giris\\lib\\turtle.py:1293\u001b[0m, in \u001b[0;36mTurtleScreen._incrementudc\u001b[1;34m(self)\u001b[0m\n\u001b[0;32m   1291\u001b[0m \u001b[38;5;28;01mif\u001b[39;00m \u001b[38;5;129;01mnot\u001b[39;00m TurtleScreen\u001b[38;5;241m.\u001b[39m_RUNNING:\n\u001b[0;32m   1292\u001b[0m     TurtleScreen\u001b[38;5;241m.\u001b[39m_RUNNING \u001b[38;5;241m=\u001b[39m \u001b[38;5;28;01mTrue\u001b[39;00m\n\u001b[1;32m-> 1293\u001b[0m     \u001b[38;5;28;01mraise\u001b[39;00m Terminator\n\u001b[0;32m   1294\u001b[0m \u001b[38;5;28;01mif\u001b[39;00m \u001b[38;5;28mself\u001b[39m\u001b[38;5;241m.\u001b[39m_tracing \u001b[38;5;241m>\u001b[39m \u001b[38;5;241m0\u001b[39m:\n\u001b[0;32m   1295\u001b[0m     \u001b[38;5;28mself\u001b[39m\u001b[38;5;241m.\u001b[39m_updatecounter \u001b[38;5;241m+\u001b[39m\u001b[38;5;241m=\u001b[39m \u001b[38;5;241m1\u001b[39m\n",
      "\u001b[1;31mTerminator\u001b[0m: "
     ]
    }
   ],
   "source": [
    "import turtle\n",
    "\n",
    "tospik = turtle.Turtle()\n",
    "\n",
    "\n",
    "tospik.fd(100)\n",
    "tospik.lt(90)\n",
    "    \n",
    "tospik.fd(100)\n",
    "tospik.lt(90)\n",
    "    \n",
    "tospik.fd(100)\n",
    "tospik.lt(90)\n",
    "    \n",
    "tospik.fd(100)\n",
    "tospik.lt(90)\n",
    "    \n",
    "# turtle.mainloop()\n",
    "\n",
    "\n"
   ]
  },
  {
   "cell_type": "code",
   "execution_count": null,
   "metadata": {},
   "outputs": [],
   "source": [
    "tospik.clear()\n",
    "# Yukarıdaki işlemi bir döngü yardımı ile kolayca yapabiliriz. (Döngüleri daha sonra detaylı göreceğiz.)"
   ]
  },
  {
   "cell_type": "code",
   "execution_count": null,
   "metadata": {},
   "outputs": [],
   "source": [
    "for i in range(4):\n",
    "    print('Hello')"
   ]
  },
  {
   "cell_type": "code",
   "execution_count": null,
   "metadata": {},
   "outputs": [],
   "source": [
    "for i in range(4):\n",
    "    tospik.fd(100)\n",
    "    tospik.lt(90)\n",
    "    \n",
    "turtle.mainloop()    \n",
    "    \n",
    "# TODO - mainloop"
   ]
  },
  {
   "cell_type": "markdown",
   "metadata": {},
   "source": [
    "Şimdi tospağanın nasıl hareket ettiğini gördüğünüze göre biraz alıştırma yapalım:"
   ]
  },
  {
   "cell_type": "markdown",
   "metadata": {},
   "source": [
    "---"
   ]
  },
  {
   "cell_type": "markdown",
   "metadata": {},
   "source": [
    "**Alıştırma 1:**\n",
    "\n",
    "İsmi kare olan bir fonksiyon yazın. Bu fonksiyon Kaplumbağa tipinde t adında bir parametre alsın. <br>\n",
    "Ek olarak kaç adım yürüyeceğini de parametre olarak alsın. <br>\n",
    "Bu kaplumbağayı kullanarak bir kare çizmesini istiyoruz."
   ]
  },
  {
   "cell_type": "code",
   "execution_count": null,
   "metadata": {},
   "outputs": [],
   "source": [
    "# kare fonksiyonu bir kaplumbağa istediği için önce kaplumbağayı yaratmamız lazım\n",
    "# TODO - turtle modülünü import et\n",
    "import turtle"
   ]
  },
  {
   "cell_type": "code",
   "execution_count": null,
   "metadata": {},
   "outputs": [],
   "source": [
    "# Çözüm 1:\n",
    "\n",
    "# fonksiyonumuzu tanımlayalım\n",
    "\n",
    "def kare(t, uzunluk):\n",
    "    \"\"\"\n",
    "        Kaplumbağa ile kare çizme fonksiyonu.\n",
    "        Parametreler: \n",
    "            * t: kaplumbağa tipinde nesne, mesafe \n",
    "            * uzunluk: int tipinde yürüme miktarı (pixel)\n",
    "    \"\"\"\n",
    "    for i in range(4):\n",
    "        t.fd(uzunluk)\n",
    "        t.lt(90)       # TODO - for döngüsü ile kare çiz\n",
    "    "
   ]
  },
  {
   "cell_type": "code",
   "execution_count": null,
   "metadata": {},
   "outputs": [],
   "source": [
    "tospik = turtle.Turtle() # TODO - Tospik'i yarat"
   ]
  },
  {
   "cell_type": "code",
   "execution_count": null,
   "metadata": {},
   "outputs": [],
   "source": [
    "kare(tospik, 100) # TODO - 100 pixel için kare fonksiyonunu çağır"
   ]
  },
  {
   "cell_type": "code",
   "execution_count": null,
   "metadata": {},
   "outputs": [],
   "source": [
    "kare(tospik, 200)# TODO - 200 pixel için kare fonksiyonunu çağır"
   ]
  },
  {
   "cell_type": "code",
   "execution_count": null,
   "metadata": {},
   "outputs": [],
   "source": [
    "kare(tospik, 300)# TODO - 300 pixel için kare fonksiyonunu çağır"
   ]
  },
  {
   "cell_type": "code",
   "execution_count": null,
   "metadata": {},
   "outputs": [],
   "source": [
    "# şimdi araları dolduralım:\n",
    "# 300 - 100 = 200\n",
    "# 10 kerede doldurmak için 200 / 10 = 20 şer adım\n",
    "\n",
    "for i in range(20):\n",
    "    kare(tospik, 20 + i * 20) \n",
    "    # TODO - for döngüsü ile 10 kere dön ve her seferinde 20 pixel artırarak kare çiz"
   ]
  },
  {
   "cell_type": "code",
   "execution_count": null,
   "metadata": {},
   "outputs": [],
   "source": [
    "tospik.clear()# TODO - Tospik'i temizle -> başa al yani \n",
    "turtle.mainloop()"
   ]
  },
  {
   "cell_type": "markdown",
   "metadata": {},
   "source": [
    "---"
   ]
  },
  {
   "cell_type": "markdown",
   "metadata": {},
   "source": [
    "**Alıştırma 2:**\n",
    "\n",
    "Şimdi poligon çizen bir fonksiyon yazalım.<br>\n",
    "Fonksiyon parametreleri, kaplumbağa, mesafe ve kenar sayısı olacak."
   ]
  },
  {
   "cell_type": "code",
   "execution_count": null,
   "metadata": {},
   "outputs": [],
   "source": [
    "# Çözüm 2:\n",
    "\n",
    "# poligon fonksiyonumuzu tanımlayalım\n",
    "\n",
    "def poligon(t, n, uzunluk):\n",
    "    \"\"\"\n",
    "        Kaplumbağa ile poligon çizme fonksiyonu.\n",
    "        Parametreler: \n",
    "            * t: kaplumbağa tipinde nesne, mesafe             \n",
    "            * n: int tipinde kenar sayısı\n",
    "            * uzunluk: int tipinde yürüme miktarı (pixel)\n",
    "    \"\"\"\n",
    "    \n",
    "    # TODO - poligon'a kare çizdir\n",
    "    for i in range(n):\n",
    "        t.fd(uzunluk)\n",
    "        t.lt(90)\n",
    "        \n",
    "    # amacımız kare değil poligon çizmek ama ilk anda bilerek yanlış yazalım fonksiyonu\n",
    "turtle.clear() # TODO - Tospik'i temizle "
   ]
  },
  {
   "cell_type": "code",
   "execution_count": null,
   "metadata": {},
   "outputs": [],
   "source": [
    "# TODO - 6 kenar ve 200 pixel ile poligon fonksiyonunu çağır\n",
    "\n",
    "import turtle\n",
    "\n",
    "t = turtle.Turtle()\n",
    "\n",
    "poligon(t, 100, 6)"
   ]
  },
  {
   "cell_type": "markdown",
   "metadata": {},
   "source": [
    "Yukarıdaki gibi çağırdığımızda yanlış çizdi. Çünkü hep 90 çizdiğimiz için sürekli kare olarak üzerinden geçti."
   ]
  },
  {
   "cell_type": "markdown",
   "metadata": {},
   "source": [
    "Peki kaç derece olmalı? Derece miktarı gelen kenar sayısına göre değişmeli."
   ]
  },
  {
   "cell_type": "markdown",
   "metadata": {},
   "source": [
    "Tüm poligonların iç açıları toplamı 360 derecedir. <br>\n",
    "O zaman **dönüş derecesi = 360 / kenar sayısı** olur."
   ]
  },
  {
   "cell_type": "code",
   "execution_count": null,
   "metadata": {},
   "outputs": [],
   "source": [
    "# poligon fonksiyonumuzu parametrik derece olacak şekilde tanımlayalım\n",
    "\n",
    "def poligon(t, uzunluk, n):\n",
    "    \"\"\"\n",
    "        Kaplumbağa ile poligon çizme fonksiyonu.\n",
    "        Parametreler: \n",
    "            * t: kaplumbağa tipinde nesne, mesafe \n",
    "            * n: int tipinde kenar sayısı\n",
    "            * uzunluk: int tipinde yürüme miktarı (pixel)\n",
    "    \"\"\"\n",
    "    \n",
    "    # TODO - poligon fonksiyonunu doğru tanımla\n",
    "    aci = 360 / n\n",
    "    \n",
    "    for i in range(n)\n",
    "    t.fd(uzunluk)\n",
    "    t.lt(aci)\n",
    "    \n",
    "poligon(t, 100, 6)\n",
    "    "
   ]
  },
  {
   "cell_type": "code",
   "execution_count": null,
   "metadata": {},
   "outputs": [],
   "source": [
    "turtle.resetscreen()# TODO - ekranı resetle (reset screen)\n",
    "\n",
    "turtle.clear()# TODO - Tospik'i temizle"
   ]
  },
  {
   "cell_type": "code",
   "execution_count": null,
   "metadata": {},
   "outputs": [],
   "source": [
    "poligon(t, 6, 200)# TODO - 6 kenar ve 200 pixel ile poligon fonksiyonunu çağır"
   ]
  },
  {
   "cell_type": "code",
   "execution_count": null,
   "metadata": {},
   "outputs": [],
   "source": [
    "poligon(t, 7, 70)# TODO - 7 kenar ve 70 pixel ile poligon fonksiyonunu çağır"
   ]
  },
  {
   "cell_type": "code",
   "execution_count": null,
   "metadata": {},
   "outputs": [],
   "source": [
    "turtle.clear()# TODO - Tospik'i temizle\n",
    "\n",
    "poligon(t, 12, 100)# TODO - 12 kenar ve 100 pixel ile poligon fonksiyonunu çağır \n",
    "poligon(t=t, n=12, uzunluk=100)# (bu sefer named parameter yani isimlendirilmiş parametreler ile çağır)"
   ]
  },
  {
   "cell_type": "markdown",
   "metadata": {},
   "source": [
    "Bu şekildeki isimlendirilmiş parametre/argümanlara **keyword arguments** denir."
   ]
  },
  {
   "cell_type": "code",
   "execution_count": null,
   "metadata": {},
   "outputs": [],
   "source": [
    "turtle.resetscreen()"
   ]
  },
  {
   "cell_type": "markdown",
   "metadata": {},
   "source": [
    "**Alıştırma 3:**\n",
    "\n",
    "Şimdi çember çizen bir fonksiyon yazalım.<br>\n",
    "Fonksiyon parametreleri, kaplumbağa (t) ve yarıçap (r) olacak. <br>\n",
    "Bu fonksiyon poligon fonksiyonunu çağıracak ve çizim işini ona yaptıracak."
   ]
  },
  {
   "cell_type": "markdown",
   "metadata": {},
   "source": [
    "Önce örnek olarak 50 kenarlı bir poligon çizelim."
   ]
  },
  {
   "cell_type": "code",
   "execution_count": null,
   "metadata": {},
   "outputs": [],
   "source": [
    "\n",
    "import math\n",
    "\n",
    "def cember(t, r):\n",
    "    \"\"\"\n",
    "        Çember çizen fonksiyon.\n",
    "        Parametreler:\n",
    "            * t: kaplumbağa nesnesi\n",
    "            * r: int tipinde yarıçap.\n",
    "        Dönüş: poligon fonksiyonunu çağırıp çizimi ona yaptırır.\n",
    "    \"\"\"\n",
    "    cevre = 2 * math.pi * r\n",
    "    n = 50\n",
    "    uzunluk = cevre / n\n",
    "\n",
    "    # TODO - bu özelliklere göre poligon çiz\n",
    "    poligon(t, n=n, uzunluk=uzunluk)\n",
    "    # çizme işini burada yapma -> poligon fonksiyonuna yaptır\n",
    "# turtle.mainloop()    "
   ]
  },
  {
   "cell_type": "markdown",
   "metadata": {},
   "source": [
    "Burada zor olan yarıçapa göre çevreye karar vermek. \n",
    "<br>\n",
    "**Çemberin Çevresi = 2 * pi * r** dir. <br>\n",
    "Önce çevreyi hesapladık, sonra kaç sefer yürüyeceğimize (n=50) karar verdik. <br>\n",
    "Sonra da bu çevreyi, bu kadar seferde yürümek için adım uzunluğumuzu hesapladık."
   ]
  },
  {
   "cell_type": "code",
   "execution_count": null,
   "metadata": {},
   "outputs": [],
   "source": [
    "turtle.resetscreen() # TODO - Tospik'i temizle\n",
    "\n",
    "cember(t, 100) # Yarıçapı 100 pixel olan bir çeber çiz"
   ]
  },
  {
   "cell_type": "markdown",
   "metadata": {},
   "source": [
    "Bu çözümün sorunu n'in sabit olması. Yani çok büyük çeberlerde yürüme uzunluğu çok büyüyecek. Çok küçük çeberlerde ise küçülecek."
   ]
  },
  {
   "cell_type": "markdown",
   "metadata": {},
   "source": [
    "Şimdi n'i parametrik yapalım. Yani gelen yarıçapa göre içeride kendimiz hesaplayalım."
   ]
  },
  {
   "cell_type": "code",
   "execution_count": null,
   "metadata": {},
   "outputs": [],
   "source": [
    "import math\n",
    "\n",
    "def cember(t, r):\n",
    "    \"\"\"\n",
    "        Çember çizen fonksiyon.\n",
    "        Parametreler:\n",
    "            * t: kaplumbağa nesnesi\n",
    "            * r: int tipinde yarıçap.\n",
    "        Dönüş: poligon fonksiyonunu çağırıp çizimi ona yaptırır.\n",
    "    \"\"\"\n",
    "    cevre = 2 * math.pi * r\n",
    "    n = int(cevre / 3)\n",
    "    uzunluk = cevre / n\n",
    "    poligon(t, n, uzunluk)\n",
    "    \n",
    "    cevre = 2 * math.pi * r # TODO - Çevreyi hesapla\n",
    "    \n",
    "    n = 60 # TODO - n'i hesapla (çevrenin 3'te biri olabilir)\n",
    "    \n",
    "    uzunluk = cevre / n # TODO - uzunluk'u hesapla\n",
    "    \n",
    "    poligon(t, n=n, uzunluk=uzunluk) # TODO - bu özelliklere göre poligon çiz\n",
    "    # çizme işini burada yapma -> poligon fonksiyonuna yaptır\n",
    "    "
   ]
  },
  {
   "cell_type": "code",
   "execution_count": null,
   "metadata": {},
   "outputs": [],
   "source": [
    "turtle.resetscren() # TODO - Tospik'i temizle\n",
    "\n",
    "cember(t, 100) # Yarıçapı 100 pixel olan bir çeber çiz"
   ]
  },
  {
   "cell_type": "markdown",
   "metadata": {},
   "source": [
    "---"
   ]
  },
  {
   "cell_type": "markdown",
   "metadata": {},
   "source": [
    "**ÖDEV BİTTİ :)**"
   ]
  }
 ],
 "metadata": {
  "kernelspec": {
   "display_name": "Python 3 (ipykernel)",
   "language": "python",
   "name": "python3"
  },
  "language_info": {
   "codemirror_mode": {
    "name": "ipython",
    "version": 3
   },
   "file_extension": ".py",
   "mimetype": "text/x-python",
   "name": "python",
   "nbconvert_exporter": "python",
   "pygments_lexer": "ipython3",
   "version": "3.9.12"
  }
 },
 "nbformat": 4,
 "nbformat_minor": 4
}
