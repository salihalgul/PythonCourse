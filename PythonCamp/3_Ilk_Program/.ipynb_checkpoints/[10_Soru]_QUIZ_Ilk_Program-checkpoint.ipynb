{
 "cells": [
  {
   "cell_type": "markdown",
   "id": "attached-penny",
   "metadata": {},
   "source": [
    "## [10 Soru] QUIZ - İlk Program"
   ]
  },
  {
   "cell_type": "markdown",
   "id": "sonic-bachelor",
   "metadata": {},
   "source": [
    "**Soru 1:**\n",
    "\n",
    "24 dakika 36 saniye içinde toplam kaç adet saniye bulunur?\n",
    "\n",
    "Cevap: 1476"
   ]
  },
  {
   "cell_type": "code",
   "execution_count": 1,
   "id": "greenhouse-vessel",
   "metadata": {},
   "outputs": [
    {
     "data": {
      "text/plain": [
       "1476"
      ]
     },
     "execution_count": 1,
     "metadata": {},
     "output_type": "execute_result"
    }
   ],
   "source": [
    "24 * 60 + 36\n"
   ]
  },
  {
   "cell_type": "markdown",
   "id": "built-stationery",
   "metadata": {},
   "source": [
    "**Soru 2:**\n",
    "\n",
    "Saatte ortalama 80 km hızla giden bir araç, İstanbul'dan Ankara'ya kaç dakikada gider. İstanbul, Ankara arası mesafe 450 km dir. \n",
    "\n",
    "Cevap: 337.5"
   ]
  },
  {
   "cell_type": "code",
   "execution_count": 2,
   "id": "acceptable-bankruptcy",
   "metadata": {},
   "outputs": [
    {
     "data": {
      "text/plain": [
       "337.5"
      ]
     },
     "execution_count": 2,
     "metadata": {},
     "output_type": "execute_result"
    }
   ],
   "source": [
    "(450 / 80) * 60"
   ]
  },
  {
   "cell_type": "markdown",
   "id": "noticed-alfred",
   "metadata": {},
   "source": [
    "**Soru 3:**\n",
    "\n",
    "2'nin 14. kuvveti kaçtır?\n",
    "\n",
    "Cevap: 16384"
   ]
  },
  {
   "cell_type": "code",
   "execution_count": 3,
   "id": "congressional-webster",
   "metadata": {},
   "outputs": [
    {
     "data": {
      "text/plain": [
       "16384"
      ]
     },
     "execution_count": 3,
     "metadata": {},
     "output_type": "execute_result"
    }
   ],
   "source": [
    "2 ** 14"
   ]
  },
  {
   "cell_type": "markdown",
   "id": "productive-singles",
   "metadata": {},
   "source": [
    "**Soru 4:**\n",
    "\n",
    "Ekrana \"Seni seviyorum Python\" yazabilir misiniz?\n",
    "\n",
    "Cevap: Seni seviyorum Python"
   ]
  },
  {
   "cell_type": "code",
   "execution_count": 4,
   "id": "documentary-sitting",
   "metadata": {},
   "outputs": [
    {
     "name": "stdout",
     "output_type": "stream",
     "text": [
      "Seni seviyorum Python\n"
     ]
    }
   ],
   "source": [
    "print(\"Seni seviyorum Python\")"
   ]
  },
  {
   "cell_type": "markdown",
   "id": "reserved-brooks",
   "metadata": {},
   "source": [
    "**Soru 5:**\n",
    "\n",
    "Ekrana 15 sayısının tipini yazabilir misiniz?\n",
    "\n",
    "Cevap: <class 'int'>"
   ]
  },
  {
   "cell_type": "code",
   "execution_count": 5,
   "id": "extreme-prince",
   "metadata": {},
   "outputs": [
    {
     "name": "stdout",
     "output_type": "stream",
     "text": [
      "<class 'int'>\n"
     ]
    }
   ],
   "source": [
    "print(type(15))"
   ]
  },
  {
   "cell_type": "markdown",
   "id": "american-cannon",
   "metadata": {},
   "source": [
    "**Soru 6:**\n",
    "\n",
    "Ekrana \"Selam Python\" ifadesinin tipini yazabilir misiniz?\n",
    "\n",
    "Cevap: <class 'str'>"
   ]
  },
  {
   "cell_type": "code",
   "execution_count": 6,
   "id": "binary-video",
   "metadata": {},
   "outputs": [
    {
     "name": "stdout",
     "output_type": "stream",
     "text": [
      "<class 'str'>\n"
     ]
    }
   ],
   "source": [
    "print(type(\"Selam Python\"))"
   ]
  },
  {
   "cell_type": "markdown",
   "id": "adolescent-belief",
   "metadata": {},
   "source": [
    "**Soru 6:**\n",
    "\n",
    "Ekrana \"15\" ifadesinin tipini yazabilir misiniz?\n",
    "\n",
    "Cevap: <class 'str'>"
   ]
  },
  {
   "cell_type": "code",
   "execution_count": 8,
   "id": "approved-forth",
   "metadata": {},
   "outputs": [
    {
     "name": "stdout",
     "output_type": "stream",
     "text": [
      "<class 'str'>\n"
     ]
    }
   ],
   "source": [
    "print(type(\"15\"))"
   ]
  },
  {
   "cell_type": "markdown",
   "id": "careful-distinction",
   "metadata": {},
   "source": [
    "**Soru 7:**\n",
    "\n",
    "49 sayısının 5 e bölümünden kalan kaçtır?\n",
    "\n",
    "Cevap: 4"
   ]
  },
  {
   "cell_type": "code",
   "execution_count": 9,
   "id": "extended-sharing",
   "metadata": {},
   "outputs": [
    {
     "data": {
      "text/plain": [
       "4"
      ]
     },
     "execution_count": 9,
     "metadata": {},
     "output_type": "execute_result"
    }
   ],
   "source": [
    "49 % 5 "
   ]
  },
  {
   "cell_type": "markdown",
   "id": "compliant-payday",
   "metadata": {},
   "source": [
    "**Soru 8:**\n",
    "\n",
    "49 sayısının 5'e tam bölümü kaçtır (taban bölüm)?\n",
    "\n",
    "Cevap: 9"
   ]
  },
  {
   "cell_type": "code",
   "execution_count": 10,
   "id": "royal-destination",
   "metadata": {},
   "outputs": [
    {
     "data": {
      "text/plain": [
       "9"
      ]
     },
     "execution_count": 10,
     "metadata": {},
     "output_type": "execute_result"
    }
   ],
   "source": [
    "49 // 5"
   ]
  },
  {
   "cell_type": "markdown",
   "id": "pointed-champion",
   "metadata": {},
   "source": [
    "**Soru 9:**\n",
    "\n",
    "1'den 5'e kadar olan sayıların kareleri toplamının ortalaması kaçtır?\n",
    "\n",
    "Cevap: 11.0"
   ]
  },
  {
   "cell_type": "code",
   "execution_count": 13,
   "id": "elementary-trunk",
   "metadata": {},
   "outputs": [
    {
     "data": {
      "text/plain": [
       "11.0"
      ]
     },
     "execution_count": 13,
     "metadata": {},
     "output_type": "execute_result"
    }
   ],
   "source": [
    "((1**2)+(2**2)+(3**2)+(4**2)+(5**2))/5"
   ]
  },
  {
   "cell_type": "markdown",
   "id": "moral-begin",
   "metadata": {},
   "source": [
    "**Soru 10:**\n",
    "\n",
    "Karesi, 4'ün küpünden 17 fazla olan sayı kaçtır?\n",
    "$$ x^2 = 4^3 + 17$$\n",
    "\n",
    "Cevap: 9.0"
   ]
  },
  {
   "cell_type": "code",
   "execution_count": 18,
   "id": "removable-mining",
   "metadata": {},
   "outputs": [
    {
     "data": {
      "text/plain": [
       "9.0"
      ]
     },
     "execution_count": 18,
     "metadata": {},
     "output_type": "execute_result"
    }
   ],
   "source": [
    "((4**3)+17)**(1/2)"
   ]
  },
  {
   "cell_type": "code",
   "execution_count": 19,
   "id": "9040017c-734c-4de1-8980-570ca59c5f42",
   "metadata": {},
   "outputs": [
    {
     "name": "stdout",
     "output_type": "stream",
     "text": [
      "9\n"
     ]
    }
   ],
   "source": [
    "print((4**3 - 3**2) // 6)"
   ]
  },
  {
   "cell_type": "code",
   "execution_count": null,
   "id": "80f9525b-6f27-481d-8ab1-c2f9ace393b6",
   "metadata": {},
   "outputs": [],
   "source": []
  }
 ],
 "metadata": {
  "kernelspec": {
   "display_name": "Python 3 (ipykernel)",
   "language": "python",
   "name": "python3"
  },
  "language_info": {
   "codemirror_mode": {
    "name": "ipython",
    "version": 3
   },
   "file_extension": ".py",
   "mimetype": "text/x-python",
   "name": "python",
   "nbconvert_exporter": "python",
   "pygments_lexer": "ipython3",
   "version": "3.9.12"
  }
 },
 "nbformat": 4,
 "nbformat_minor": 5
}
