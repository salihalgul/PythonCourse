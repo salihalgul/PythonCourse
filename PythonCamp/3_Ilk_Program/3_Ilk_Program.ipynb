{
 "cells": [
  {
   "cell_type": "markdown",
   "id": "302a7c42-7f4c-470e-9e98-15939dcf474a",
   "metadata": {},
   "source": [
    "## İlk Program"
   ]
  },
  {
   "cell_type": "markdown",
   "id": "9e7c7d9a-530e-4780-9880-d59ab3d65bb7",
   "metadata": {
    "tags": []
   },
   "source": [
    "### Merhaba Dünya (Hello World)"
   ]
  },
  {
   "cell_type": "markdown",
   "id": "7359a97f-19db-4220-9df4-03ac5283d271",
   "metadata": {},
   "source": [
    "**Program:** Bir işlemin nasıl yapılacağını bilgisayara anlatan yönergeler"
   ]
  },
  {
   "cell_type": "code",
   "execution_count": 2,
   "id": "70638913-00ff-4f81-8689-435f37e8245d",
   "metadata": {},
   "outputs": [
    {
     "name": "stdout",
     "output_type": "stream",
     "text": [
      "Hello World\n"
     ]
    }
   ],
   "source": [
    "print(\"Hello World\")"
   ]
  },
  {
   "cell_type": "code",
   "execution_count": 3,
   "id": "511b7a74-a83b-4c39-b26a-ed242572b2d8",
   "metadata": {},
   "outputs": [
    {
     "name": "stdout",
     "output_type": "stream",
     "text": [
      "Bu benim ilk programım :)\n"
     ]
    }
   ],
   "source": [
    "print(\"Bu benim ilk programım :)\")"
   ]
  },
  {
   "cell_type": "code",
   "execution_count": 4,
   "id": "febe8fb5-37dc-4112-8045-57d86661f351",
   "metadata": {},
   "outputs": [
    {
     "ename": "SyntaxError",
     "evalue": "invalid syntax (1947214667.py, line 1)",
     "output_type": "error",
     "traceback": [
      "\u001b[1;36m  Input \u001b[1;32mIn [4]\u001b[1;36m\u001b[0m\n\u001b[1;33m    ---\u001b[0m\n\u001b[1;37m       ^\u001b[0m\n\u001b[1;31mSyntaxError\u001b[0m\u001b[1;31m:\u001b[0m invalid syntax\n"
     ]
    }
   ],
   "source": [
    "---"
   ]
  },
  {
   "cell_type": "markdown",
   "id": "3542063d-8c01-4163-802c-838ef2a7fe62",
   "metadata": {},
   "source": [
    "---"
   ]
  },
  {
   "cell_type": "markdown",
   "id": "d50625e5-5f0d-4244-bf62-08acb317d00e",
   "metadata": {},
   "source": [
    "**Aritmetik İşlemler**\n",
    "\n",
    "* Toplama: +\n",
    "* Çıkarma: - \n",
    "* Çarpma: *\n",
    "* Bölme: /\n",
    "* Üstel: **\n",
    "* Mod: %\n",
    "* Tam Saılı Bölme: //\n"
   ]
  },
  {
   "cell_type": "code",
   "execution_count": 5,
   "id": "eae1580f-fc3a-4255-99fe-c77f6da7937a",
   "metadata": {},
   "outputs": [
    {
     "data": {
      "text/plain": [
       "40"
      ]
     },
     "execution_count": 5,
     "metadata": {},
     "output_type": "execute_result"
    }
   ],
   "source": [
    "24 + 16\n"
   ]
  },
  {
   "cell_type": "code",
   "execution_count": 6,
   "id": "fa57ba62-4a0e-4d90-a17f-b9a792b4d297",
   "metadata": {},
   "outputs": [
    {
     "data": {
      "text/plain": [
       "30"
      ]
     },
     "execution_count": 6,
     "metadata": {},
     "output_type": "execute_result"
    }
   ],
   "source": [
    "47 - 17"
   ]
  },
  {
   "cell_type": "code",
   "execution_count": 7,
   "id": "eb132069-0eb2-4153-b2b0-c98a19a404f6",
   "metadata": {},
   "outputs": [
    {
     "data": {
      "text/plain": [
       "40"
      ]
     },
     "execution_count": 7,
     "metadata": {},
     "output_type": "execute_result"
    }
   ],
   "source": [
    "5 * 8"
   ]
  },
  {
   "cell_type": "code",
   "execution_count": 8,
   "id": "ceeeb1b8-7de8-4f64-9372-b5e9be7043fc",
   "metadata": {},
   "outputs": [
    {
     "data": {
      "text/plain": [
       "8.0"
      ]
     },
     "execution_count": 8,
     "metadata": {},
     "output_type": "execute_result"
    }
   ],
   "source": [
    "80 / 10"
   ]
  },
  {
   "cell_type": "code",
   "execution_count": 9,
   "id": "97d76f48-eda9-4d16-b42e-0d2bf5dec57b",
   "metadata": {},
   "outputs": [
    {
     "data": {
      "text/plain": [
       "9"
      ]
     },
     "execution_count": 9,
     "metadata": {},
     "output_type": "execute_result"
    }
   ],
   "source": [
    "3**2\n"
   ]
  },
  {
   "cell_type": "code",
   "execution_count": 10,
   "id": "2ccd683d-2f7f-4672-ba68-2a60bb975b22",
   "metadata": {},
   "outputs": [
    {
     "data": {
      "text/plain": [
       "64"
      ]
     },
     "execution_count": 10,
     "metadata": {},
     "output_type": "execute_result"
    }
   ],
   "source": [
    "4**3"
   ]
  },
  {
   "cell_type": "code",
   "execution_count": 11,
   "id": "6777d0eb-22af-49a8-aecc-49b9336eb12d",
   "metadata": {},
   "outputs": [
    {
     "data": {
      "text/plain": [
       "4"
      ]
     },
     "execution_count": 11,
     "metadata": {},
     "output_type": "execute_result"
    }
   ],
   "source": [
    "64 % 5"
   ]
  },
  {
   "cell_type": "code",
   "execution_count": 12,
   "id": "726777ec-351a-46d6-b30b-772c4ad7ad66",
   "metadata": {},
   "outputs": [
    {
     "data": {
      "text/plain": [
       "1"
      ]
     },
     "execution_count": 12,
     "metadata": {},
     "output_type": "execute_result"
    }
   ],
   "source": [
    "9 % 2"
   ]
  },
  {
   "cell_type": "code",
   "execution_count": 13,
   "id": "89ae77c3-1619-4ee4-a3ac-fc8de96f2afb",
   "metadata": {},
   "outputs": [
    {
     "data": {
      "text/plain": [
       "4.5"
      ]
     },
     "execution_count": 13,
     "metadata": {},
     "output_type": "execute_result"
    }
   ],
   "source": [
    "9 / 2"
   ]
  },
  {
   "cell_type": "code",
   "execution_count": 14,
   "id": "deec2ec9-ab4a-4608-8e92-0ae824e99b0f",
   "metadata": {},
   "outputs": [
    {
     "data": {
      "text/plain": [
       "4"
      ]
     },
     "execution_count": 14,
     "metadata": {},
     "output_type": "execute_result"
    }
   ],
   "source": [
    "9 // 2"
   ]
  },
  {
   "cell_type": "markdown",
   "id": "7aded1e5-ab3c-445f-9347-ff438148e515",
   "metadata": {},
   "source": [
    "**Değerler ve Tipler**\n",
    "\n",
    "**Değerler** program içerisinde anlam taşıyan yapılardır. Programın hafızasında yer tutar.\n",
    "\n",
    "**Tipler:** Bu hafızanın hangi formatta olacağını söyler."
   ]
  },
  {
   "cell_type": "code",
   "execution_count": 15,
   "id": "f1e61d7d-2e3a-4925-afea-1b19f5d17094",
   "metadata": {},
   "outputs": [
    {
     "data": {
      "text/plain": [
       "'Hello World'"
      ]
     },
     "execution_count": 15,
     "metadata": {},
     "output_type": "execute_result"
    }
   ],
   "source": [
    "\"Hello World\""
   ]
  },
  {
   "cell_type": "code",
   "execution_count": 16,
   "id": "f89dfb46-ae6d-4faa-b00f-a9bd9eabed6f",
   "metadata": {},
   "outputs": [
    {
     "data": {
      "text/plain": [
       "2"
      ]
     },
     "execution_count": 16,
     "metadata": {},
     "output_type": "execute_result"
    }
   ],
   "source": [
    "2"
   ]
  },
  {
   "cell_type": "code",
   "execution_count": 17,
   "id": "556665ce-57fd-4061-bb69-7bf531f8346d",
   "metadata": {},
   "outputs": [
    {
     "data": {
      "text/plain": [
       "str"
      ]
     },
     "execution_count": 17,
     "metadata": {},
     "output_type": "execute_result"
    }
   ],
   "source": [
    "type(\"Hello World\")"
   ]
  },
  {
   "cell_type": "code",
   "execution_count": 18,
   "id": "b32f20ba-6f72-45de-9fe7-9924fe8af044",
   "metadata": {},
   "outputs": [
    {
     "data": {
      "text/plain": [
       "int"
      ]
     },
     "execution_count": 18,
     "metadata": {},
     "output_type": "execute_result"
    }
   ],
   "source": [
    "type(2)"
   ]
  },
  {
   "cell_type": "code",
   "execution_count": 19,
   "id": "4e0d4e49-bc5e-4c6b-8580-46268885704a",
   "metadata": {},
   "outputs": [
    {
     "name": "stdout",
     "output_type": "stream",
     "text": [
      "<class 'float'>\n"
     ]
    }
   ],
   "source": [
    "print(type(4.5))"
   ]
  },
  {
   "cell_type": "code",
   "execution_count": 20,
   "id": "7641be93-52e3-4fe8-acb5-22e3f88e4286",
   "metadata": {},
   "outputs": [
    {
     "data": {
      "text/plain": [
       "float"
      ]
     },
     "execution_count": 20,
     "metadata": {},
     "output_type": "execute_result"
    }
   ],
   "source": [
    "type(4.5)"
   ]
  },
  {
   "cell_type": "code",
   "execution_count": null,
   "id": "c1741efd-4e14-4be3-b695-c12f21ca3cfd",
   "metadata": {},
   "outputs": [],
   "source": []
  }
 ],
 "metadata": {
  "kernelspec": {
   "display_name": "Python 3 (ipykernel)",
   "language": "python",
   "name": "python3"
  },
  "language_info": {
   "codemirror_mode": {
    "name": "ipython",
    "version": 3
   },
   "file_extension": ".py",
   "mimetype": "text/x-python",
   "name": "python",
   "nbconvert_exporter": "python",
   "pygments_lexer": "ipython3",
   "version": "3.9.12"
  }
 },
 "nbformat": 4,
 "nbformat_minor": 5
}
